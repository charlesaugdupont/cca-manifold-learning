{
 "cells": [
  {
   "cell_type": "code",
   "execution_count": 1,
   "metadata": {},
   "outputs": [],
   "source": [
    "import os\n",
    "os.chdir('../quafing/')\n",
    "\n",
    "import random\n",
    "import pickle\n",
    "import numpy as np\n",
    "import scipy.stats\n",
    "import quafing as q\n",
    "from collections import Counter\n",
    "\n",
    "import pandas as pd\n",
    "pd.options.mode.chained_assignment = None\n",
    "\n",
    "from sklearn.preprocessing import LabelEncoder\n",
    "from sklearn.feature_selection import mutual_info_regression, mutual_info_classif\n",
    "\n",
    "from alive_progress import alive_it, config_handler\n",
    "config_handler.set_global(bar=\"notes\", force_tty=True)\n",
    "\n",
    "from astropy.stats import histogram, bayesian_blocks\n",
    "\n",
    "import seaborn as sns\n",
    "import matplotlib.pyplot as plt\n",
    "plt.rcParams.update(plt.rcParamsDefault)\n",
    "plt.rcParams.update({\"font.size\" : 15, \n",
    "                     \"figure.dpi\" : 100, \n",
    "                     \"legend.fontsize\" : 13, \n",
    "                     \"grid.alpha\" : 0.3, \n",
    "                     \"axes.grid\": True, \n",
    "                     \"axes.axisbelow\" : True, \n",
    "                     \"figure.figsize\":(6, 5)})"
   ]
  },
  {
   "cell_type": "code",
   "execution_count": 2,
   "metadata": {},
   "outputs": [],
   "source": [
    "def load_data(path):\n",
    "    \"\"\"\n",
    "    Loads .dta file using provided path.\n",
    "    \"\"\"\n",
    "    return pd.read_stata(path, convert_categoricals=False)\n",
    "\n",
    "\n",
    "def add_missing_hhids(df):\n",
    "    \"\"\"\n",
    "    Adds empty rows for hhids missing from df.\n",
    "    df must already have an \"hhid\" column!\n",
    "    \"\"\"\n",
    "    df = df.round({\"hhid\":1})\n",
    "    missing = set(UNIQUE_HHID) - set(df[\"hhid\"].unique())\n",
    "    missing_dict = {\"hhid\":[round(item, 1) for item in list(missing)]}\n",
    "    for col in df.columns:\n",
    "        if col != \"hhid\":\n",
    "            missing_dict[col] = [np.nan]*len(missing)\n",
    "    missing_df = pd.DataFrame.from_dict(missing_dict)\n",
    "    concat = pd.concat([df, missing_df])\n",
    "    return concat.round({\"hhid\":1})\n",
    "\n",
    "\n",
    "def column_selection(df, keep=None, remove=None):\n",
    "    \"\"\"\n",
    "    Performs column selection on dataframe.\n",
    "    Args:\n",
    "        no_change: boolean indicating whether to keep all columns\n",
    "        keep: list of columns to keep\n",
    "        remove: list of columns to remove\n",
    "    Returns:\n",
    "        updated dataframe\n",
    "    \"\"\"\n",
    "    if keep:\n",
    "        return df[keep]\n",
    "    elif remove:\n",
    "        return df.loc[:, ~df.columns.isin(remove)]\n",
    "    else:\n",
    "        return df\n",
    "\n",
    "\n",
    "def get_processed_df(results):\n",
    "    processed = pd.DataFrame.from_dict({})\n",
    "    for column in results[1]:\n",
    "        processed[column] = [results[hhid][column] for hhid in results]\n",
    "    return processed\n",
    "\n",
    "\n",
    "def apply_mapping(df, mapping):\n",
    "    results = {hhid:{\"hhid\":hhid} for hhid in UNIQUE_HHID}\n",
    "    for hhid in UNIQUE_HHID:\n",
    "        household = df.loc[df.hhid==hhid]    \n",
    "        for label, tup in mapping.items():\n",
    "            col, operation = tup\n",
    "            non_nan = household.loc[~household[col].isna()]\n",
    "            results[hhid][label] = operation_lambda[operation](non_nan[col]) if len(non_nan) else np.nan\n",
    "    return get_processed_df(results) "
   ]
  },
  {
   "cell_type": "code",
   "execution_count": 3,
   "metadata": {},
   "outputs": [],
   "source": [
    "DATA_DIR    = \"../../BCCASII/\"\n",
    "DATA_SUBDIR = \"Household/\""
   ]
  },
  {
   "cell_type": "code",
   "execution_count": 4,
   "metadata": {},
   "outputs": [],
   "source": [
    "PROCESSED_DFS  = []\n",
    "ADAPTATION_DFS = []"
   ]
  },
  {
   "cell_type": "code",
   "execution_count": 5,
   "metadata": {},
   "outputs": [],
   "source": [
    "operation_lambda = {\n",
    "    \"sum\": lambda x: x.sum(),\n",
    "    \"min\": lambda x: x.min(),\n",
    "    \"max\": lambda x: x.max(),\n",
    "    \"mean\": lambda x: round(x.mean()),\n",
    "    \"mode\": lambda x: x.mode()[0]\n",
    "}"
   ]
  },
  {
   "cell_type": "code",
   "execution_count": 6,
   "metadata": {},
   "outputs": [],
   "source": [
    "variable_types = {\n",
    "    \"discrete_categorical\":set(),\n",
    "    \"discrete_ordered\":set(),\n",
    "    \"continuous\":set()\n",
    "}"
   ]
  },
  {
   "cell_type": "markdown",
   "metadata": {},
   "source": [
    "## A: Location and identification detail"
   ]
  },
  {
   "cell_type": "code",
   "execution_count": 7,
   "metadata": {},
   "outputs": [],
   "source": [
    "filename = \"001_mod_a.dta\"\n",
    "path = DATA_DIR + DATA_SUBDIR + filename\n",
    "df = load_data(path)"
   ]
  },
  {
   "cell_type": "code",
   "execution_count": 8,
   "metadata": {},
   "outputs": [],
   "source": [
    "# keep household ID, agro-ecological zone\n",
    "processed = column_selection(df, keep=[\"hhid\", \"ezcode\"])\n",
    "\n",
    "# construct community code from union, thana, district codes\n",
    "processed[\"community_code\"] = df[\"ucode\"].astype(str) + \"_\" + \\\n",
    "                              df[\"tcode\"].astype(str) + \"_\" + \\\n",
    "                              df[\"dcode\"].astype(str)\n",
    "processed[\"community_code\"] = LabelEncoder().fit_transform(processed[\"community_code\"])\n",
    "\n",
    "\n",
    "UNIQUE_HHID = np.round(df[\"hhid\"].unique().astype(np.float64), 1)\n",
    "processed[\"hhid\"] = processed[\"hhid\"].astype(np.float64)"
   ]
  },
  {
   "cell_type": "code",
   "execution_count": 9,
   "metadata": {},
   "outputs": [],
   "source": [
    "PROCESSED_DFS.append(processed)"
   ]
  },
  {
   "cell_type": "code",
   "execution_count": 10,
   "metadata": {},
   "outputs": [],
   "source": [
    "for col in processed.columns:\n",
    "    variable_types[\"discrete_categorical\"].add(col)"
   ]
  },
  {
   "cell_type": "markdown",
   "metadata": {},
   "source": [
    "## B: Household composition and education"
   ]
  },
  {
   "cell_type": "code",
   "execution_count": 11,
   "metadata": {},
   "outputs": [],
   "source": [
    "filename = \"002_mod_b.dta\"\n",
    "path = DATA_DIR + DATA_SUBDIR + filename\n",
    "df = load_data(path)"
   ]
  },
  {
   "cell_type": "code",
   "execution_count": 12,
   "metadata": {
    "scrolled": true
   },
   "outputs": [],
   "source": [
    "education_ordering = [99, 66, 67, 68, 0, 1, 2, 3, 4, 5, 6, 7, 8, 9, 22, 10, 33, 12, 15, 16, 17]\n",
    "literacy_ordering  = [1, 2, 3, 4]\n",
    "\n",
    "results = {hhid:{\"hhid\":hhid} for hhid in UNIQUE_HHID}\n",
    "for hhid in UNIQUE_HHID:\n",
    "    household = df.loc[df.hhid==hhid]    \n",
    "    L = len(household)\n",
    "    if L == 0:\n",
    "        results[hhid] = {\n",
    "            \"hhid\": hhid,\n",
    "            \"household_size\": np.nan,\n",
    "            \"ratio_male\": np.nan,\n",
    "            \"ratio_male_children\": np.nan,\n",
    "            \"highest_education\": np.nan,\n",
    "            \"highest_literacy\": np.nan\n",
    "        }\n",
    "        continue\n",
    "\n",
    "    # household size\n",
    "    results[hhid][\"household_size\"] = L\n",
    "    \n",
    "    # ratio male\n",
    "    m = sum(household[\"b01\"]==1)\n",
    "    results[hhid][\"ratio_male\"] = m/L\n",
    "\n",
    "    # ratio of children that are male\n",
    "    num_children = len(household.loc[household[\"b03\"]<18])\n",
    "    if num_children > 0:\n",
    "        results[hhid][\"ratio_male_children\"] = len(household.loc[(household[\"b01\"]==1) & \\\n",
    "                                                (household[\"b03\"]<18)]) / num_children\n",
    "    else:\n",
    "        results[hhid][\"ratio_male_children\"] = 0\n",
    "    \n",
    "    # highest level of education\n",
    "    education_levels = [education_ordering.index(x)\n",
    "                        for x in [x for x in list(household[\"b06\"]) if not np.isnan(x)]]\n",
    "    results[hhid][\"highest_education\"] = max(education_levels) if len(education_levels) else np.nan\n",
    "        \n",
    "    # highest level of literacy\n",
    "    literacy_labels = [literacy_ordering.index(x)\n",
    "                       for x in [x for x in list(household[\"b05\"]) if not np.isnan(x)]]\n",
    "    results[hhid][\"highest_literacy\"] = max(literacy_labels) if len(literacy_labels) else np.nan\n",
    "\n",
    "processed = get_processed_df(results)\n",
    "\n",
    "\n",
    "# primary occupation categories\n",
    "# categories = {\n",
    "#     \"day_labor\": [1,2,3],\n",
    "#     \"self_employ_farm\": [4,5,6,7,8],\n",
    "#     \"self_employ_non_farm\": [9],\n",
    "#     \"low_income_profession\": [10,11,12,13],\n",
    "#     \"mechanic\": [14,15],\n",
    "#     \"other\": [16, 17, 18, 19],\n",
    "#     \"non_earning\": [20,21,22,23,24,25,26]\n",
    "# }\n",
    "\n",
    "# for c, c_list in categories.items():\n",
    "#     c_dict = {hhid:0 for hhid in unique_hhids}\n",
    "#     for hhid in unique_hhids:\n",
    "#         household = df.loc[df.hhid==hhid]\n",
    "#         primary_occupation_labels = list(household[\"b08_1\"])\n",
    "#         for item in c_list:\n",
    "#             if item in primary_occupation_labels:\n",
    "#                 c_dict[hhid] += 1\n",
    "#     processed = processed.join(pd.DataFrame.from_dict({c:c_dict}))"
   ]
  },
  {
   "cell_type": "code",
   "execution_count": 13,
   "metadata": {},
   "outputs": [],
   "source": [
    "PROCESSED_DFS.append(processed)"
   ]
  },
  {
   "cell_type": "code",
   "execution_count": 14,
   "metadata": {},
   "outputs": [],
   "source": [
    "variable_types[\"discrete_categorical\"].update({\"highest_education\"})\n",
    "variable_types[\"discrete_ordered\"].update({\"highest_literacy\"})\n",
    "variable_types[\"continuous\"].update({\"ratio_male\", \"ratio_male_children\", \"household_size\"})"
   ]
  },
  {
   "cell_type": "markdown",
   "metadata": {},
   "source": [
    "## C: Roster of land and water bodies owned or under operation"
   ]
  },
  {
   "cell_type": "code",
   "execution_count": 15,
   "metadata": {},
   "outputs": [],
   "source": [
    "filename = \"003_mod_c.dta\"\n",
    "path = DATA_DIR + DATA_SUBDIR + filename\n",
    "df = load_data(path)"
   ]
  },
  {
   "cell_type": "code",
   "execution_count": 16,
   "metadata": {
    "scrolled": true
   },
   "outputs": [],
   "source": [
    "mapping = {\n",
    "    \"total_land_value_per_month\": (\"c113\", \"sum\"),\n",
    "    \"plot_type\": (\"c101\", \"mode\"),\n",
    "    \"soil_type\": (\"c105\", \"mode\"),\n",
    "    \"land_operational_status\": (\"c107\", \"mode\"),\n",
    "    \"land_acquisition_means\": (\"c110\", \"mode\")\n",
    "}\n",
    "\n",
    "processed = apply_mapping(df, mapping)"
   ]
  },
  {
   "cell_type": "code",
   "execution_count": 17,
   "metadata": {},
   "outputs": [],
   "source": [
    "PROCESSED_DFS.append(processed)"
   ]
  },
  {
   "cell_type": "code",
   "execution_count": 18,
   "metadata": {},
   "outputs": [],
   "source": [
    "variable_types[\"discrete_categorical\"].update({\"plot_type\", \"soil_type\", \n",
    "                                               \"land_operational_status\", \n",
    "                                               \"land_acquisition_means\"})\n",
    "variable_types[\"continuous\"].update({\"total_land_value_per_month\"})"
   ]
  },
  {
   "cell_type": "markdown",
   "metadata": {},
   "source": [
    "## F1: Livestock and poultry"
   ]
  },
  {
   "cell_type": "code",
   "execution_count": 19,
   "metadata": {},
   "outputs": [],
   "source": [
    "filename = \"004_mod_f1.dta\"\n",
    "path = DATA_DIR + DATA_SUBDIR + filename\n",
    "df = load_data(path)"
   ]
  },
  {
   "cell_type": "code",
   "execution_count": 20,
   "metadata": {},
   "outputs": [],
   "source": [
    "# # household id\n",
    "# processed = pd.DataFrame.from_dict({\"hhid\":list(unique_hhids)})\n",
    "\n",
    "# categories = {\n",
    "#     \"cattle_buffalo\":1,\n",
    "#     \"goat_sheep\":2,\n",
    "#     \"pigs\":3,\n",
    "#     \"chidken_duck\":4\n",
    "# }\n",
    "\n",
    "# cols = [(\"count_2011\", \"f102\"), (\"value_2011\", \"f103\"), \n",
    "#         (\"count_now\", \"f104\"), (\"value_now\", \"f105\"), (\"total_selling_value\", \"f117\")]   \n",
    "\n",
    "# results = {hhid:{} for hhid in unique_hhids}\n",
    "# for hhid in unique_hhids:\n",
    "#     household = df.loc[df.hhid==hhid]\n",
    "#     for c, number in categories.items():\n",
    "#         if number not in list(household[\"f101\"]):\n",
    "#             # TODO: handle missing value!\n",
    "#             for l, _ in cols:\n",
    "#                 results[hhid][c+\"_\"+l] = np.nan\n",
    "#         else:\n",
    "#             for l, col in cols:\n",
    "#                 value = household.loc[household[\"f101\"]==number][col].iloc[0]\n",
    "#                 # TODO: handle missing value here!\n",
    "#                 if np.isnan(value):\n",
    "#                     results[hhid][c+\"_\"+l] = np.nan\n",
    "#                 else:\n",
    "#                     results[hhid][c+\"_\"+l] = value\n",
    "                    \n",
    "# for column in results[1]:\n",
    "#     processed[column] = [results[hhid][column] for hhid in results]"
   ]
  },
  {
   "cell_type": "code",
   "execution_count": 21,
   "metadata": {},
   "outputs": [],
   "source": [
    "mapping = {\n",
    "    \"count_2011\": (\"f102\", \"sum\"),\n",
    "    \"value_2011\": (\"f103\", \"sum\"),\n",
    "    \"count_now\": (\"f104\", \"sum\"),\n",
    "    \"value_now\": (\"f105\", \"sum\"),\n",
    "    \"total_selling_value\": (\"f117\", \"sum\"),\n",
    "}\n",
    "\n",
    "processed = apply_mapping(df, mapping)"
   ]
  },
  {
   "cell_type": "code",
   "execution_count": 22,
   "metadata": {},
   "outputs": [],
   "source": [
    "PROCESSED_DFS.append(processed)"
   ]
  },
  {
   "cell_type": "code",
   "execution_count": 23,
   "metadata": {},
   "outputs": [],
   "source": [
    "variable_types[\"continuous\"].update({\"value_2011\", \"value_now\", \n",
    "                                     \"total_selling_value\", \n",
    "                                     \"count_2011\", \"count_now\"})"
   ]
  },
  {
   "cell_type": "markdown",
   "metadata": {},
   "source": [
    "## F3: Expenditure for livestock, Poultry/Duckery Production Last 12 Months"
   ]
  },
  {
   "cell_type": "code",
   "execution_count": 24,
   "metadata": {},
   "outputs": [],
   "source": [
    "filename = \"005_mod_f3.dta\"\n",
    "path = DATA_DIR + DATA_SUBDIR + filename\n",
    "df = load_data(path)"
   ]
  },
  {
   "cell_type": "code",
   "execution_count": 25,
   "metadata": {},
   "outputs": [],
   "source": [
    "mapping = {\n",
    "    \"livestock_fodder_value\": (\"f302\", \"sum\"),\n",
    "    \"livestock_medication_value\": (\"f303\", \"sum\"),\n",
    "    \"livestock_hired_male_labor\": (\"f306_1\", \"sum\"),\n",
    "}\n",
    "\n",
    "processed = apply_mapping(df, mapping)"
   ]
  },
  {
   "cell_type": "code",
   "execution_count": 26,
   "metadata": {},
   "outputs": [],
   "source": [
    "PROCESSED_DFS.append(processed)"
   ]
  },
  {
   "cell_type": "code",
   "execution_count": 27,
   "metadata": {},
   "outputs": [],
   "source": [
    "variable_types[\"continuous\"].update({\"livestock_fodder_value\", \n",
    "                                     \"livestock_medication_value\", \n",
    "                                     \"livestock_hired_male_labor\"})"
   ]
  },
  {
   "cell_type": "markdown",
   "metadata": {},
   "source": [
    "## G1, G2: Credit"
   ]
  },
  {
   "cell_type": "code",
   "execution_count": 28,
   "metadata": {},
   "outputs": [],
   "source": [
    "filename = \"006_mod_g.dta\"\n",
    "path = DATA_DIR + DATA_SUBDIR + filename\n",
    "df = load_data(path)"
   ]
  },
  {
   "cell_type": "code",
   "execution_count": 29,
   "metadata": {},
   "outputs": [],
   "source": [
    "loan_categories = {\n",
    "    \"credit_personal_capital\":[1,2,3,7,8,9,10,11,12,15,17,18],\n",
    "    \"credit_natural_capital\":[4,5,6,13,14,16]\n",
    "}\n",
    "\n",
    "results = {hhid:{\"hhid\":hhid} for hhid in UNIQUE_HHID}\n",
    "for hhid in UNIQUE_HHID:\n",
    "    household = df.loc[df.hhid==hhid]\n",
    "    for label, numbers in loan_categories.items():\n",
    "        rows = household.loc[household[\"g02\"].isin(numbers)]\n",
    "        cash_borrowed = [x for x in list(rows[\"g07\"]) if not np.isnan(x)]\n",
    "        value_borrowed = [x for x in list(rows[\"g10\"]) if not np.isnan(x)]\n",
    "        borrowed_combined = cash_borrowed + value_borrowed\n",
    "        results[hhid][label+\"_total_borrowed\"] = sum(borrowed_combined) if len(borrowed_combined) else np.nan\n",
    "        \n",
    "        cash_remaining = [x for x in list(rows[\"g23\"]) if not np.isnan(x)]\n",
    "        value_remaining = [x for x in list(rows[\"g25\"]) if not np.isnan(x)]\n",
    "        remaining_combined = cash_remaining + value_remaining\n",
    "        results[hhid][label+\"_total_to_pay\"] = sum(remaining_combined) if len(remaining_combined) else np.nan\n",
    "        \n",
    "processed = get_processed_df(results)"
   ]
  },
  {
   "cell_type": "code",
   "execution_count": 30,
   "metadata": {},
   "outputs": [],
   "source": [
    "PROCESSED_DFS.append(processed)"
   ]
  },
  {
   "cell_type": "code",
   "execution_count": 31,
   "metadata": {},
   "outputs": [],
   "source": [
    "variable_types[\"continuous\"].update({\"credit_personal_capital_total_borrowed\", \n",
    "                                     \"credit_personal_capital_total_to_pay\", \n",
    "                                     \"credit_natural_capital_total_borrowed\",\n",
    "                                     \"credit_natural_capital_total_to_pay\"})"
   ]
  },
  {
   "cell_type": "markdown",
   "metadata": {},
   "source": [
    "## H: Household Assets"
   ]
  },
  {
   "cell_type": "code",
   "execution_count": 32,
   "metadata": {},
   "outputs": [],
   "source": [
    "filename = \"007_mod_h.dta\"\n",
    "path = DATA_DIR + DATA_SUBDIR + filename\n",
    "df = load_data(path)"
   ]
  },
  {
   "cell_type": "code",
   "execution_count": 33,
   "metadata": {},
   "outputs": [],
   "source": [
    "# total value per household asset category\n",
    "categories = {\n",
    "    \"value_consumable_durables\":[i for i in range(1, 12)],\n",
    "    \"value_transport\":[i for i in range(12, 16)],\n",
    "    \"value_livestock_poultry\":[i for i in range(16, 20)],\n",
    "    \"value_agricultural_equipments\":[i for i in range(20,29)],\n",
    "    \"value_other\":[29]\n",
    "}\n",
    "\n",
    "results = {hhid:{\"hhid\":hhid} for hhid in UNIQUE_HHID}\n",
    "for hhid in UNIQUE_HHID:\n",
    "    household = df.loc[df.hhid==hhid]\n",
    "    for c in categories:\n",
    "        category_assets = household.loc[household[\"asset\"].isin(categories[c])]\n",
    "        results[hhid][c] = category_assets[\"h06\"].sum() if len(category_assets) else np.nan\n",
    "\n",
    "processed = get_processed_df(results)"
   ]
  },
  {
   "cell_type": "code",
   "execution_count": 34,
   "metadata": {},
   "outputs": [],
   "source": [
    "PROCESSED_DFS.append(processed)"
   ]
  },
  {
   "cell_type": "code",
   "execution_count": 35,
   "metadata": {},
   "outputs": [],
   "source": [
    "variable_types[\"continuous\"].update({\"value_consumable_durables\", \n",
    "                                     \"value_transport\", \n",
    "                                     \"value_livestock_poultry\",\n",
    "                                     \"value_agricultural_equipments\", \n",
    "                                     \"value_other\"})"
   ]
  },
  {
   "cell_type": "markdown",
   "metadata": {},
   "source": [
    "## H1: Assets: Sales of Assets and Change in Ownership"
   ]
  },
  {
   "cell_type": "code",
   "execution_count": 36,
   "metadata": {},
   "outputs": [],
   "source": [
    "filename = \"008_mod_h1.dta\"\n",
    "path = DATA_DIR + DATA_SUBDIR + filename\n",
    "df = load_data(path)"
   ]
  },
  {
   "cell_type": "code",
   "execution_count": 37,
   "metadata": {},
   "outputs": [],
   "source": [
    "mapping = {\"sale_of_assets_value\": (\"h108\", \"sum\")}\n",
    "processed = apply_mapping(df, mapping)"
   ]
  },
  {
   "cell_type": "code",
   "execution_count": 38,
   "metadata": {},
   "outputs": [],
   "source": [
    "PROCESSED_DFS.append(processed)"
   ]
  },
  {
   "cell_type": "code",
   "execution_count": 39,
   "metadata": {},
   "outputs": [],
   "source": [
    "variable_types[\"continuous\"].update({\"sale_of_assets_value\"})"
   ]
  },
  {
   "cell_type": "markdown",
   "metadata": {},
   "source": [
    "## I: Food Consumption: Purchases, Home Production, and Other Sources"
   ]
  },
  {
   "cell_type": "code",
   "execution_count": 40,
   "metadata": {},
   "outputs": [],
   "source": [
    "filename = \"009_mod_i.dta\"\n",
    "path = DATA_DIR + DATA_SUBDIR + filename\n",
    "df = load_data(path)"
   ]
  },
  {
   "cell_type": "code",
   "execution_count": 41,
   "metadata": {
    "scrolled": true
   },
   "outputs": [],
   "source": [
    "food_categories = {\n",
    "    \"food_cereals\":np.arange(1,10),\n",
    "    \"food_pulses\":np.arange(11,18),\n",
    "    \"food_edible_oil\":np.arange(21,25),\n",
    "    \"food_vegetables\":np.arange(31,56),\n",
    "    \"food_leafy_vegetables\":np.arange(61,75),\n",
    "    \"food_meat_eggs_milk\":np.arange(81,88),\n",
    "    \"food_fruits\":np.arange(91,113),\n",
    "    \"food_fish_large\":np.arange(121,132),\n",
    "    \"food_fish_small\":np.arange(141,149),\n",
    "    \"food_spices\":np.arange(151,161),\n",
    "    \"food_other\":np.arange(171,177),\n",
    "    \"food_drinks\":np.arange(181,184),\n",
    "    \"food_other_outside_home\":np.arange(201,213)\n",
    "}\n",
    "\n",
    "results = {hhid:{\"hhid\":hhid} for hhid in UNIQUE_HHID}\n",
    "for hhid in UNIQUE_HHID:\n",
    "    household = df.loc[df.hhid==hhid]\n",
    "    for c, fcodes in food_categories.items():\n",
    "        relevant_rows = household.loc[household[\"fcode\"].isin(fcodes)]\n",
    "        for (col, label) in [(\"i07\", \"value_\"), (\"i04\", \"weight_\")]:\n",
    "            non_nan = relevant_rows.loc[~relevant_rows[col].isna()]\n",
    "            results[hhid][label+c] = non_nan[col].sum() if len(non_nan) else np.nan\n",
    "            \n",
    "processed = get_processed_df(results)"
   ]
  },
  {
   "cell_type": "code",
   "execution_count": 42,
   "metadata": {},
   "outputs": [],
   "source": [
    "PROCESSED_DFS.append(processed)"
   ]
  },
  {
   "cell_type": "code",
   "execution_count": 43,
   "metadata": {},
   "outputs": [],
   "source": [
    "update_set = set()\n",
    "for col in processed.columns:\n",
    "    update_set.add(col)\n",
    "variable_types[\"continuous\"].update(update_set)"
   ]
  },
  {
   "cell_type": "markdown",
   "metadata": {},
   "source": [
    "## J1, J2: Non-food Expenditure"
   ]
  },
  {
   "cell_type": "code",
   "execution_count": 44,
   "metadata": {},
   "outputs": [],
   "source": [
    "filename = \"010_mod_j.dta\"\n",
    "path = DATA_DIR + DATA_SUBDIR + filename\n",
    "df = load_data(path)"
   ]
  },
  {
   "cell_type": "code",
   "execution_count": 45,
   "metadata": {
    "scrolled": true
   },
   "outputs": [],
   "source": [
    "non_food_categories = {\n",
    "    \"rent_bills_taxes_fees_expenses\":[1,2,49,50,51,52,53],\n",
    "    \"fuel_expenses\":[3,4,5,6],\n",
    "    \"transportation_vehicles_expenses\":[7,8,27,28,73,74,75,76],\n",
    "    \"miscellaneous_expenses\":[9,10,11,12,13,29,30,31,32,54,55],\n",
    "    \"health_expenses\":[14,15,16],\n",
    "    \"communication_expenses\":[17,18],\n",
    "    \"personal_items_clothing_expenses\":[19,20,21,22,23,24,33,34,35,36,37,38],\n",
    "    \"entertainment_expenses\":[25,26],\n",
    "    \"furniture_household_expenses\":np.arange(39,49),\n",
    "    \"family_events_expenses\":[56,57,58,59,60,61,62,63,64,65,66],\n",
    "    \"education_expenses\":np.arange(67,73),\n",
    "}\n",
    "\n",
    "sources = [(1, \"social\"), (2, \"self\"), (3, \"other\")]\n",
    "\n",
    "results = {hhid:{\"hhid\":hhid} for hhid in UNIQUE_HHID}\n",
    "for hhid in UNIQUE_HHID:\n",
    "    household = df.loc[df.hhid==hhid]\n",
    "    for c, nfcodes in non_food_categories.items():\n",
    "        relevant_rows = household.loc[household[\"nfcode\"].isin(nfcodes)]\n",
    "        \n",
    "        # total cash expenditure for last 1 month, last 12 months\n",
    "        for col in [\"j02_1\", \"j02_2\"]:\n",
    "            non_nan = relevant_rows.loc[~relevant_rows[col].isna()]\n",
    "            results[hhid][col+\"_\"+c] = non_nan[col].sum() if len(non_nan) else np.nan\n",
    "        \n",
    "        # imputed expenditure, last 1 month, last 12 months, for each possible source\n",
    "        for col1, col2 in [(\"j03_1\", \"j04_1\"), (\"j03_2\", \"j04_2\")]:\n",
    "            for code, source_label in sources:\n",
    "                non_nan = relevant_rows.loc[(~relevant_rows[col1].isna()) & (relevant_rows[col2]==code)]\n",
    "                results[hhid][col1+\"_\"+c+\"_\"+source_label] = non_nan[col1].sum() if len(non_nan) else np.nan\n",
    "\n",
    "processed = get_processed_df(results)"
   ]
  },
  {
   "cell_type": "code",
   "execution_count": 46,
   "metadata": {},
   "outputs": [],
   "source": [
    "PROCESSED_DFS.append(processed)"
   ]
  },
  {
   "cell_type": "code",
   "execution_count": 47,
   "metadata": {},
   "outputs": [],
   "source": [
    "update_set = set()\n",
    "for col in processed.columns:\n",
    "    update_set.add(col)\n",
    "variable_types[\"continuous\"].update(update_set)"
   ]
  },
  {
   "cell_type": "markdown",
   "metadata": {},
   "source": [
    "## K: Housing, Source of Water and sanitation"
   ]
  },
  {
   "cell_type": "code",
   "execution_count": 48,
   "metadata": {},
   "outputs": [],
   "source": [
    "filename = \"011_mod_k.dta\"\n",
    "path = DATA_DIR + DATA_SUBDIR + filename\n",
    "df = load_data(path)"
   ]
  },
  {
   "cell_type": "code",
   "execution_count": 49,
   "metadata": {},
   "outputs": [],
   "source": [
    "processed = column_selection(df, keep=[\"hhid\", \"k01\", \"k02\", \"k03\", \"k03_1\",\n",
    "                                       \"k04\", \"k05\", \"k05_1\", \"k06\", \"k07\"])"
   ]
  },
  {
   "cell_type": "code",
   "execution_count": 50,
   "metadata": {},
   "outputs": [],
   "source": [
    "PROCESSED_DFS.append(processed)"
   ]
  },
  {
   "cell_type": "code",
   "execution_count": 51,
   "metadata": {},
   "outputs": [],
   "source": [
    "variable_types[\"continuous\"].add(\"k01\")\n",
    "variable_types[\"discrete_categorical\"].update({\"k02\", \"k03\", \"k03_1\",\n",
    "                                               \"k04\", \"k05\", \"k05_1\", \n",
    "                                               \"k06\", \"k07\"})"
   ]
  },
  {
   "cell_type": "markdown",
   "metadata": {},
   "source": [
    "## L, L1: Weather events adversely affected the household or the farming cope"
   ]
  },
  {
   "cell_type": "code",
   "execution_count": 52,
   "metadata": {},
   "outputs": [],
   "source": [
    "filename = \"013_mod_l1.dta\"\n",
    "path = DATA_DIR + DATA_SUBDIR + filename\n",
    "df = load_data(path)"
   ]
  },
  {
   "cell_type": "code",
   "execution_count": 53,
   "metadata": {
    "scrolled": true
   },
   "outputs": [],
   "source": [
    "calamity_numbers = [i for i in range(1, 13)]\n",
    "action_taken_categories = {\n",
    "    \"sold\": ([2,3,4,5],1),\n",
    "    \"borrowed\": ([6,7,8],2),\n",
    "    \"migrated\": ([11,12,13],3),\n",
    "    \"off_farm_employment\":([14],4),\n",
    "    \"nothing\":([1],5),\n",
    "    \"food_work_aid\":([9,10],6)\n",
    "}\n",
    "\n",
    "results = {hhid:{\"hhid\":hhid} for hhid in UNIQUE_HHID}\n",
    "for hhid in UNIQUE_HHID:\n",
    "    household = df.loc[df.hhid == hhid]\n",
    "    for n in calamity_numbers:\n",
    "        label = f\"calamity_{n}_\"\n",
    "        relevant_rows = household.loc[household[\"l1_01\"]==n]\n",
    "        total_loss = sum([x for x in relevant_rows[\"l1_05\"] if not np.isnan(x)])\n",
    "        results[hhid][label+\"loss\"] = total_loss if len(relevant_rows) else 0 # TODO insert 0 instead of nan\n",
    "        action_taken_label = label+\"action_taken\"\n",
    "        results[hhid][action_taken_label] = 0 # TODO insert 0 instead of nan\n",
    "        for action_label, tup in action_taken_categories.items():\n",
    "            nums, idx = tup\n",
    "            action_taken = [x for x in relevant_rows[\"l1_02\"] if x in nums]\n",
    "            if action_taken: \n",
    "                results[hhid][action_taken_label] = idx\n",
    "                break\n",
    "            \n",
    "processed = get_processed_df(results)"
   ]
  },
  {
   "cell_type": "code",
   "execution_count": 54,
   "metadata": {},
   "outputs": [],
   "source": [
    "PROCESSED_DFS.append(processed)"
   ]
  },
  {
   "cell_type": "code",
   "execution_count": 55,
   "metadata": {},
   "outputs": [],
   "source": [
    "for col in processed.columns:\n",
    "    if \"loss\" in col:\n",
    "        variable_types[\"continuous\"].add(col)\n",
    "    elif \"action_taken\" in col:\n",
    "        variable_types[\"discrete_categorical\"].add(col)"
   ]
  },
  {
   "cell_type": "markdown",
   "metadata": {},
   "source": [
    "## L2: Shocks"
   ]
  },
  {
   "cell_type": "code",
   "execution_count": 56,
   "metadata": {},
   "outputs": [],
   "source": [
    "filename = \"014_mod_l2.dta\"\n",
    "path = DATA_DIR + DATA_SUBDIR + filename\n",
    "df = load_data(path)\n",
    "\n",
    "mapping   = {\"shocks_loss_value\": (\"l2_06\", \"sum\")}\n",
    "processed = apply_mapping(df, mapping)\n",
    "PROCESSED_DFS.append(processed)"
   ]
  },
  {
   "cell_type": "code",
   "execution_count": 57,
   "metadata": {},
   "outputs": [],
   "source": [
    "variable_types[\"continuous\"].add(\"shocks_loss_value\")"
   ]
  },
  {
   "cell_type": "markdown",
   "metadata": {},
   "source": [
    "## L3: Positive Economic Events"
   ]
  },
  {
   "cell_type": "code",
   "execution_count": 58,
   "metadata": {},
   "outputs": [],
   "source": [
    "filename = \"015_mod_l3.dta\"\n",
    "path = DATA_DIR + DATA_SUBDIR + filename\n",
    "df = load_data(path)\n",
    "\n",
    "mapping   = {\"positive_events_value\": (\"l3_06\", \"sum\")}\n",
    "processed = apply_mapping(df, mapping)\n",
    "PROCESSED_DFS.append(processed)"
   ]
  },
  {
   "cell_type": "code",
   "execution_count": 59,
   "metadata": {},
   "outputs": [],
   "source": [
    "variable_types[\"continuous\"].add(\"positive_events_value\")"
   ]
  },
  {
   "cell_type": "markdown",
   "metadata": {},
   "source": [
    "## M: Agricultural extension"
   ]
  },
  {
   "cell_type": "code",
   "execution_count": 60,
   "metadata": {},
   "outputs": [],
   "source": [
    "filename = \"017_mod_m.dta\"\n",
    "path = DATA_DIR + DATA_SUBDIR + filename\n",
    "df = load_data(path)"
   ]
  },
  {
   "cell_type": "code",
   "execution_count": 61,
   "metadata": {},
   "outputs": [],
   "source": [
    "multi_box_questions = {\n",
    "    \"m02\": {i:i for i in range(1,8)},\n",
    "    \"m04\": {i:i for i in range(1,7)},\n",
    "    \"m06\": {1:1, 2:2, 3:2, 4:2, 5:3, 6:2, 7:2, 8:2, 9:4, 10:5, 11:6, 99:7},\n",
    "    \"m08\": {1:1, 2:1, 3:2, 4:3, 5:3, 6:4, 7:5, 8:6},\n",
    "    \"m11\": {1:1, 2:2, 3:2, 4:2, 5:3, 6:2, 7:2, 8:2, 9:4, 10:5, 11:6, 99:7}\n",
    "}"
   ]
  },
  {
   "cell_type": "code",
   "execution_count": 62,
   "metadata": {},
   "outputs": [],
   "source": [
    "processed = column_selection(df, [c for c in df.columns if c[:3] not in multi_box_questions.keys()])"
   ]
  },
  {
   "cell_type": "code",
   "execution_count": 63,
   "metadata": {
    "scrolled": true
   },
   "outputs": [],
   "source": [
    "for prefix in multi_box_questions:\n",
    "    target_cols = [c for c in df.columns if c[:3] == prefix]\n",
    "    new_cols_vals = {prefix+f\"_{i}\":np.zeros(len(df)) for i in multi_box_questions[prefix].values()}\n",
    "    for index, row in df.iterrows():\n",
    "        for col in target_cols:\n",
    "            val = row[col]\n",
    "            if not np.isnan(val):\n",
    "                new_cols_vals[prefix+f\"_{multi_box_questions[prefix][val]}\"][index] = 1\n",
    "                \n",
    "    for col in new_cols_vals:\n",
    "        processed[col] = new_cols_vals[col]"
   ]
  },
  {
   "cell_type": "code",
   "execution_count": 64,
   "metadata": {},
   "outputs": [],
   "source": [
    "PROCESSED_DFS.append(processed)"
   ]
  },
  {
   "cell_type": "code",
   "execution_count": 65,
   "metadata": {},
   "outputs": [],
   "source": [
    "for col in processed.columns:\n",
    "    if col == \"m03\":\n",
    "        variable_types[\"discrete_ordered\"].add(col)\n",
    "    else:\n",
    "         variable_types[\"discrete_categorical\"].add(col)"
   ]
  },
  {
   "cell_type": "markdown",
   "metadata": {},
   "source": [
    "## Q: Perceptions of Climate Change"
   ]
  },
  {
   "cell_type": "code",
   "execution_count": 66,
   "metadata": {},
   "outputs": [],
   "source": [
    "filename = \"018_mod_q.dta\"\n",
    "path = DATA_DIR + DATA_SUBDIR + filename\n",
    "df = load_data(path)"
   ]
  },
  {
   "cell_type": "code",
   "execution_count": 67,
   "metadata": {},
   "outputs": [],
   "source": [
    "multi_box_questions = {\n",
    "    \"q01\": {1:1, 2:2, 3:2, 4:2, 5:3, 6:2, 7:3, 8:3, 9:4},\n",
    "    \"q05\": {i:i for i in range(1,8)},\n",
    "    \"q07\": {i:i for i in range(1,10)}\n",
    "}\n",
    "\n",
    "processed = column_selection(df, [c for c in df.columns if c[:3] not in multi_box_questions.keys()])"
   ]
  },
  {
   "cell_type": "code",
   "execution_count": 68,
   "metadata": {},
   "outputs": [],
   "source": [
    "for prefix in multi_box_questions:\n",
    "    target_cols = [c for c in df.columns if c[:3] == prefix]\n",
    "    new_cols_vals = {prefix+f\"_{i}\":np.zeros(len(df)) for i in multi_box_questions[prefix].values()}\n",
    "    for index, row in df.iterrows():\n",
    "        for col in target_cols:\n",
    "            val = row[col]\n",
    "            if not np.isnan(val):\n",
    "                new_cols_vals[prefix+f\"_{multi_box_questions[prefix][val]}\"][index] = 1\n",
    "                \n",
    "    for col in new_cols_vals:\n",
    "        processed[col] = new_cols_vals[col]"
   ]
  },
  {
   "cell_type": "code",
   "execution_count": 69,
   "metadata": {},
   "outputs": [],
   "source": [
    "PROCESSED_DFS.append(processed)"
   ]
  },
  {
   "cell_type": "code",
   "execution_count": 70,
   "metadata": {},
   "outputs": [],
   "source": [
    "for col in processed.columns:\n",
    "    variable_types[\"discrete_categorical\"].add(col)"
   ]
  },
  {
   "cell_type": "markdown",
   "metadata": {},
   "source": [
    "## O: Changes in farming practices due to climate change"
   ]
  },
  {
   "cell_type": "code",
   "execution_count": 71,
   "metadata": {},
   "outputs": [],
   "source": [
    "filename = \"019_mod_o.dta\"\n",
    "path = DATA_DIR + DATA_SUBDIR + filename\n",
    "df = load_data(path)"
   ]
  },
  {
   "cell_type": "code",
   "execution_count": 72,
   "metadata": {
    "scrolled": true
   },
   "outputs": [],
   "source": [
    "keep = [\"hhid\", \"o01\"] + [\"o0\"+str(i)+\"_1\" for i in range(2, 9)] + [\"o09\"] + \\\n",
    "       [\"o\"+str(i) for i in range(10, 23)] + [\"o\"+str(i)+\"_1\" for i in range(23, 29)] + [\"o29\"]\n",
    "\n",
    "processed = column_selection(df, keep=keep)\n",
    "\n",
    "change_categories = {\n",
    "    \"change_production_methods\": [\"o02_1\", \"o03_1\", \"o07_1\", \"o08_1\", \"o18\", \"o19\"],\n",
    "    \"change_crop_consumption\": [\"o06_1\"],\n",
    "    \"change_land\": [\"o04_1\", \"o05_1\", \"o09\", \"o13\", \"o14\", \"o15\", \"o16\"],\n",
    "    \"change_water_harvesting\": [\"o10\", \"o11\", \"o12\"],\n",
    "    \"change_insurance\": [\"o17\"],\n",
    "    \"change_off_farm_employment\": [\"o20\"],\n",
    "    \"change_migration\": [\"o21\"],\n",
    "    \"change_communal_storage\": [\"o22\"],\n",
    "    \"change_planting_dates\":[\"o23_1\", \"o24_1\", \"o25_1\"],\n",
    "    \"change_fertilizer\":[\"o26_1\", \"o27_1\", \"o28_1\"],\n",
    "    \"change_other\":[\"o29\"]\n",
    "}\n",
    "\n",
    "results = {hhid:{\"hhid\":hhid} for hhid in UNIQUE_HHID}\n",
    "for hhid in UNIQUE_HHID:\n",
    "    household = processed.loc[processed.hhid==hhid]\n",
    "    \n",
    "    # there is an entry for the household, and they haven't made any changes\n",
    "    if len(household) and household[\"o01\"].iloc[0] == 2:\n",
    "        for category in change_categories:\n",
    "            results[hhid][category] = 0\n",
    "        continue\n",
    "        \n",
    "    # no entry for household\n",
    "    elif not len(household):\n",
    "        for category in change_categories:\n",
    "            results[hhid][category] = np.nan # TODO: should we just set to 0?\n",
    "        continue\n",
    "    \n",
    "    for category, cols in change_categories.items():\n",
    "        row = household[cols]\n",
    "        if len(row):\n",
    "            bools = [x for x in row.iloc[0] if not np.isnan(x)]\n",
    "            results[hhid][category] = int(1 in bools) if len(bools) else np.nan\n",
    "                \n",
    "processed = get_processed_df(results)"
   ]
  },
  {
   "cell_type": "code",
   "execution_count": 73,
   "metadata": {},
   "outputs": [],
   "source": [
    "PROCESSED_DFS.append(processed)\n",
    "ADAPTATION_DFS.append(processed)"
   ]
  },
  {
   "cell_type": "code",
   "execution_count": 74,
   "metadata": {},
   "outputs": [],
   "source": [
    "for col in processed.columns:\n",
    "    variable_types[\"discrete_categorical\"].add(col)"
   ]
  },
  {
   "cell_type": "markdown",
   "metadata": {},
   "source": [
    "## O1: Any integration about Livestock/Poultry"
   ]
  },
  {
   "cell_type": "code",
   "execution_count": 75,
   "metadata": {},
   "outputs": [],
   "source": [
    "filename = \"020_mod_o1.dta\"\n",
    "path = DATA_DIR + DATA_SUBDIR + filename\n",
    "df = load_data(path)"
   ]
  },
  {
   "cell_type": "code",
   "execution_count": 76,
   "metadata": {},
   "outputs": [],
   "source": [
    "keep = [\"hhid\"] + [\"o1_01_\"+str(i) for i in range(1, 10)]\n",
    "processed = column_selection(df, keep=keep)\n",
    "\n",
    "results = {hhid:{\"hhid\":hhid} for hhid in UNIQUE_HHID}\n",
    "for hhid in UNIQUE_HHID:\n",
    "    household = processed.loc[processed.hhid==hhid]\n",
    "    if not len(household):\n",
    "        results[hhid][\"change_livestock_poultry\"] = np.nan\n",
    "    else:\n",
    "        vals = [x for x in list(household.iloc[0][1:]) if not np.isnan(x)]\n",
    "        results[hhid][\"change_livestock_poultry\"] = int(1 in vals)\n",
    "\n",
    "processed = get_processed_df(results)"
   ]
  },
  {
   "cell_type": "code",
   "execution_count": 77,
   "metadata": {},
   "outputs": [],
   "source": [
    "PROCESSED_DFS.append(processed)\n",
    "ADAPTATION_DFS.append(processed)"
   ]
  },
  {
   "cell_type": "code",
   "execution_count": 78,
   "metadata": {},
   "outputs": [],
   "source": [
    "variable_types[\"discrete_categorical\"].add(\"change_livestock_poultry\")"
   ]
  },
  {
   "cell_type": "markdown",
   "metadata": {},
   "source": [
    "## O2: Constraints to adaptation"
   ]
  },
  {
   "cell_type": "code",
   "execution_count": 79,
   "metadata": {},
   "outputs": [],
   "source": [
    "filename = \"021_mod_o2.dta\"\n",
    "path = DATA_DIR + DATA_SUBDIR + filename\n",
    "df = load_data(path)"
   ]
  },
  {
   "cell_type": "code",
   "execution_count": 80,
   "metadata": {},
   "outputs": [],
   "source": [
    "constraint_codes = np.arange(1,10)\n",
    "\n",
    "results = {hhid:{\"hhid\":hhid} for hhid in UNIQUE_HHID}\n",
    "for hhid in UNIQUE_HHID:\n",
    "    household = df.loc[df.hhid==hhid]\n",
    "    for _, row in household.iterrows():\n",
    "        severity    = [x for x in row[[\"o2_03_1\", \"o2_03_2\", \"o2_03_3\", \"o2_03_4\", \"o2_03_5\"]]]\n",
    "        constraints = [x for x in row[[\"o2_02_1\", \"o2_02_2\", \"o2_02_3\", \"o2_02_4\", \"o2_02_5\"]]]\n",
    "        for i in range(len(constraints)):\n",
    "            c = constraints[i]\n",
    "            s = severity[i]            \n",
    "            if np.isnan(c) or np.isnan(s):\n",
    "                continue\n",
    "            c = int(c)\n",
    "            label = f\"constraint_{c}_total_severity\"\n",
    "            if label not in results[hhid]:\n",
    "                results[hhid][label] = [6-s]\n",
    "            else:\n",
    "                results[hhid][label].append(6-s)\n",
    "                \n",
    "    for code in constraint_codes:\n",
    "        label = f\"constraint_{code}_total_severity\"\n",
    "        if label not in results[hhid]:\n",
    "            results[hhid][label] = 0\n",
    "        else:\n",
    "            results[hhid][label] = np.mean(results[hhid][label])\n",
    "        \n",
    "processed = get_processed_df(results)"
   ]
  },
  {
   "cell_type": "code",
   "execution_count": 81,
   "metadata": {},
   "outputs": [],
   "source": [
    "PROCESSED_DFS.append(processed)"
   ]
  },
  {
   "cell_type": "code",
   "execution_count": 82,
   "metadata": {},
   "outputs": [],
   "source": [
    "for col in processed.columns:\n",
    "    variable_types[\"continuous\"].add(col)"
   ]
  },
  {
   "cell_type": "markdown",
   "metadata": {},
   "source": [
    "## R1: Information of group based approach"
   ]
  },
  {
   "cell_type": "code",
   "execution_count": 83,
   "metadata": {},
   "outputs": [],
   "source": [
    "filename = \"022_mod_r1.dta\"\n",
    "path = DATA_DIR + DATA_SUBDIR + filename\n",
    "df = load_data(path)"
   ]
  },
  {
   "cell_type": "code",
   "execution_count": 84,
   "metadata": {
    "scrolled": true
   },
   "outputs": [],
   "source": [
    "group_categories = {\n",
    "    \"group_membership_farming\":[1, 13],\n",
    "    \"group_membership_trading\":[2],\n",
    "    \"group_membership_religion\":[3],\n",
    "    \"group_membership_women\":[4],\n",
    "    \"group_membership_NGO\":[5,11,15],\n",
    "    \"group_membership_credit\":[6],\n",
    "    \"group_membership_community\":[7,16,17],\n",
    "    \"group_membership_cultural\":[8,10],\n",
    "    \"group_membership_political\":[9],\n",
    "    \"group_membership_health\":[12],\n",
    "    \"group_membership_sports\":[14],\n",
    "    \"group_membership_other\":[18]\n",
    "}\n",
    "\n",
    "results = {hhid:{\"hhid\":hhid} for hhid in UNIQUE_HHID}\n",
    "for hhid in UNIQUE_HHID:\n",
    "    household = df.loc[df.hhid==hhid]\n",
    "    \n",
    "    # there is an entry for the household, and nobody belongs to a group\n",
    "    if len(household) == 1 and household[\"r01\"].iloc[0] == 2:\n",
    "        for categ in group_categories:\n",
    "            results[hhid][categ] = 0\n",
    "        continue\n",
    "    \n",
    "    # no entry for household\n",
    "    elif not len(household):\n",
    "        for categ in group_categories:\n",
    "            results[hhid][categ] = np.nan\n",
    "        continue\n",
    "        \n",
    "    for categ, codes in group_categories.items():\n",
    "        # get rows matching the group codes    \n",
    "        rows = household.loc[household[\"r1_01\"].isin(codes)]\n",
    "        # (TODO) assume no membership if group codes do not appear at all\n",
    "        if not len(rows):\n",
    "            results[hhid][categ] = 0\n",
    "        else:\n",
    "            membership = [x for x in list(rows[\"r1_02\"]) if not np.isnan(x)]\n",
    "            results[hhid][categ] = int(1 in membership) if len(membership) else np.nan\n",
    "            \n",
    "processed = get_processed_df(results)"
   ]
  },
  {
   "cell_type": "code",
   "execution_count": 85,
   "metadata": {},
   "outputs": [],
   "source": [
    "PROCESSED_DFS.append(processed)"
   ]
  },
  {
   "cell_type": "code",
   "execution_count": 86,
   "metadata": {},
   "outputs": [],
   "source": [
    "for col in processed.columns:\n",
    "    variable_types[\"discrete_categorical\"].add(col)"
   ]
  },
  {
   "cell_type": "markdown",
   "metadata": {},
   "source": [
    "## R2: Group activity related information"
   ]
  },
  {
   "cell_type": "code",
   "execution_count": 87,
   "metadata": {},
   "outputs": [],
   "source": [
    "filename = \"023_mod_r2.dta\"\n",
    "path = DATA_DIR + DATA_SUBDIR + filename\n",
    "df = load_data(path)"
   ]
  },
  {
   "cell_type": "code",
   "execution_count": 88,
   "metadata": {},
   "outputs": [],
   "source": [
    "# a few duplicate rows found in this data file...\n",
    "duplicates = []\n",
    "for hhid in df[\"hhid\"].unique():\n",
    "    if len(df.loc[df.hhid==hhid]) > 1:\n",
    "        duplicates.append(hhid)\n",
    "    \n",
    "drop_indices = []\n",
    "for d in duplicates:\n",
    "    drop_indices.append(list(df.loc[df.hhid==d].index)[0])\n",
    "\n",
    "df.drop(drop_indices, inplace=True)\n",
    "df.reset_index(inplace=True)"
   ]
  },
  {
   "cell_type": "code",
   "execution_count": 89,
   "metadata": {},
   "outputs": [],
   "source": [
    "multi_box_questions = {\n",
    "    \"r2_15\": {i:i for i in range(1,7)},\n",
    "}\n",
    "\n",
    "processed = column_selection(df, [\"hhid\"])"
   ]
  },
  {
   "cell_type": "code",
   "execution_count": 90,
   "metadata": {},
   "outputs": [],
   "source": [
    "for prefix in multi_box_questions:\n",
    "    target_cols = [c for c in df.columns if c[:5] == prefix]\n",
    "    new_cols_vals = {prefix+f\"_{i}\":np.zeros(len(df)) for i in multi_box_questions[prefix].values()}\n",
    "    for index, row in df.iterrows():\n",
    "        for col in target_cols:\n",
    "            val = row[col]\n",
    "            if not np.isnan(val):\n",
    "                new_cols_vals[prefix+f\"_{multi_box_questions[prefix][val]}\"][index] += 1\n",
    "                \n",
    "    for col in new_cols_vals:\n",
    "        processed[col] = new_cols_vals[col]\n",
    "        variable_types[\"continuous\"].add(col)"
   ]
  },
  {
   "cell_type": "code",
   "execution_count": 91,
   "metadata": {},
   "outputs": [],
   "source": [
    "for prefix in [f\"r2_{i}\" for i in range(17, 24)]:\n",
    "    target_cols = [c for c in df.columns if c[:5] == prefix and c[-1]==\"1\"]\n",
    "    new_col_vals = []\n",
    "    for index, row in df.iterrows():\n",
    "        new_col_vals.append(sum([x for x in list(row[target_cols]) if x == 1])) \n",
    "    processed[prefix] = new_col_vals\n",
    "    variable_types[\"continuous\"].add(prefix)"
   ]
  },
  {
   "cell_type": "code",
   "execution_count": 92,
   "metadata": {},
   "outputs": [],
   "source": [
    "PROCESSED_DFS.append(processed)"
   ]
  },
  {
   "cell_type": "markdown",
   "metadata": {},
   "source": [
    "## R3: Network"
   ]
  },
  {
   "cell_type": "code",
   "execution_count": 93,
   "metadata": {},
   "outputs": [],
   "source": [
    "filename = \"024_mod_r3.dta\"\n",
    "path = DATA_DIR + DATA_SUBDIR + filename\n",
    "df = load_data(path)"
   ]
  },
  {
   "cell_type": "code",
   "execution_count": 94,
   "metadata": {},
   "outputs": [],
   "source": [
    "processed = column_selection(df, remove=[\"r3_01_1\", \"r3_01_2\"])"
   ]
  },
  {
   "cell_type": "code",
   "execution_count": 95,
   "metadata": {},
   "outputs": [],
   "source": [
    "PROCESSED_DFS.append(processed)"
   ]
  },
  {
   "cell_type": "code",
   "execution_count": 96,
   "metadata": {},
   "outputs": [],
   "source": [
    "variable_types[\"continuous\"].update({\"r3_02_1\", \"r3_02_2\", \n",
    "                                     \"r3_03_1\", \"r3_03_2\",\n",
    "                                     \"r3_04_1\", \"r3_04_2\",\n",
    "                                     \"r3_07_1\", \"r3_07_2\",})\n",
    "variable_types[\"discrete_ordered\"].update({\"r3_06_1\", \"r3_06_2\"})\n",
    "variable_types[\"discrete_categorical\"].update({\"r3_05_1\", \"r3_05_2\"})"
   ]
  },
  {
   "cell_type": "markdown",
   "metadata": {},
   "source": [
    "## R4: Trust and Solidarity"
   ]
  },
  {
   "cell_type": "code",
   "execution_count": 97,
   "metadata": {},
   "outputs": [],
   "source": [
    "filename = \"025_mod_r4.dta\"\n",
    "path = DATA_DIR + DATA_SUBDIR + filename\n",
    "df = load_data(path)"
   ]
  },
  {
   "cell_type": "code",
   "execution_count": 98,
   "metadata": {},
   "outputs": [],
   "source": [
    "processed = column_selection(df, remove=[\"r4_01_1\", \"r4_01_2\"])"
   ]
  },
  {
   "cell_type": "code",
   "execution_count": 99,
   "metadata": {},
   "outputs": [],
   "source": [
    "PROCESSED_DFS.append(processed)"
   ]
  },
  {
   "cell_type": "code",
   "execution_count": 100,
   "metadata": {},
   "outputs": [],
   "source": [
    "for col in processed.columns:\n",
    "    if \"r4_04\" in col or \"r4_03\" in col:\n",
    "        variable_types[\"discrete_ordered\"].add(col)\n",
    "    else:\n",
    "        variable_types[\"discrete_categorical\"].add(col)"
   ]
  },
  {
   "cell_type": "markdown",
   "metadata": {},
   "source": [
    "## R5: Economic setbacks"
   ]
  },
  {
   "cell_type": "code",
   "execution_count": 101,
   "metadata": {},
   "outputs": [],
   "source": [
    "# filename = \"026_mod_r5.dta\"\n",
    "# path = DATA_DIR + DATA_SUBDIR + filename\n",
    "# df = load_data(path)\n",
    "# results = {hhid:{\"hhid\":hhid} for hhid in UNIQUE_HHID}\n",
    "# for hhid in UNIQUE_HHID:\n",
    "#     household = df.loc[df.hhid==hhid]\n",
    "#     results[hhid][\"serious_economic_setback\"] = 1 if 1 in list(household[\"r5\"]) else 0\n",
    "# processed = get_processed_df(results)\n",
    "# PROCESSED_DFS.append(processed)"
   ]
  },
  {
   "cell_type": "markdown",
   "metadata": {},
   "source": [
    "## R6: Collective Action and Cooperation and Sociability"
   ]
  },
  {
   "cell_type": "code",
   "execution_count": 102,
   "metadata": {},
   "outputs": [],
   "source": [
    "filename = \"027_mod_r6.dta\"\n",
    "path = DATA_DIR + DATA_SUBDIR + filename\n",
    "df = load_data(path)"
   ]
  },
  {
   "cell_type": "code",
   "execution_count": 103,
   "metadata": {},
   "outputs": [],
   "source": [
    "multi_box_questions = {\n",
    "    \"r6_03\": {1:1, 2:1, 3:1, 4:1, 5:2, 6:2, 7:2, 8:2, 9:2, 10:3, 11:3, 12:3, 13:4},\n",
    "    \"r6_04\": {1:1, 2:1, 3:1, 4:1, 5:2, 6:2, 7:2, 8:2, 9:2, 10:3, 11:3, 12:3, 13:4}\n",
    "}\n",
    "\n",
    "processed = column_selection(df, [c for c in df.columns if c[:5] not in multi_box_questions.keys()\n",
    "                                  and c not in [\"r6_01_1\", \"r6_01_2\"]])"
   ]
  },
  {
   "cell_type": "code",
   "execution_count": 104,
   "metadata": {},
   "outputs": [],
   "source": [
    "for prefix in multi_box_questions:\n",
    "    target_cols = [c for c in df.columns if c[:5] == prefix]\n",
    "    new_cols_vals = {prefix+f\"_{i}\":np.zeros(len(df)) for i in multi_box_questions[prefix].values()}\n",
    "    for index, row in df.iterrows():\n",
    "        for col in target_cols:\n",
    "            val = row[col]\n",
    "            if not np.isnan(val) and val in multi_box_questions[prefix]:\n",
    "                new_cols_vals[prefix+f\"_{multi_box_questions[prefix][val]}\"][index] += 1\n",
    "                \n",
    "    for col in new_cols_vals:\n",
    "        processed[col] = new_cols_vals[col]\n",
    "        variable_types[\"continuous\"].add(col)"
   ]
  },
  {
   "cell_type": "code",
   "execution_count": 105,
   "metadata": {},
   "outputs": [],
   "source": [
    "PROCESSED_DFS.append(processed)"
   ]
  },
  {
   "cell_type": "code",
   "execution_count": 106,
   "metadata": {},
   "outputs": [],
   "source": [
    "for col in processed.columns:\n",
    "    if \"r6_05\" in col:\n",
    "        variable_types[\"continuous\"].add(col)\n",
    "    elif \"r6_06\" in col or \"r6_07\" in col or \"r6_08\" in col:\n",
    "        variable_types[\"discrete_ordered\"].add(col)\n",
    "    elif \"r6_02\" in col:\n",
    "        variable_types[\"discrete_categorical\"].add(col)"
   ]
  },
  {
   "cell_type": "markdown",
   "metadata": {},
   "source": [
    "## R7: Information and Communication"
   ]
  },
  {
   "cell_type": "code",
   "execution_count": 107,
   "metadata": {},
   "outputs": [],
   "source": [
    "filename = \"028_mod_r7.dta\"\n",
    "path = DATA_DIR + DATA_SUBDIR + filename\n",
    "df = load_data(path)"
   ]
  },
  {
   "cell_type": "code",
   "execution_count": 108,
   "metadata": {},
   "outputs": [],
   "source": [
    "multi_box_questions = {\n",
    "    \"r7_06\": {1:1, 9:1, 10:1, 11:1, 12:1, 2:2, 3:2, 4:2, 5:2, 6:2, 7:2, 8:3, 13:3, 14:4, 15:5},\n",
    "    \"r7_07\": {1:1, 9:1, 10:1, 11:1, 12:1, 2:2, 3:2, 4:2, 5:2, 6:2, 7:2, 8:3, 13:3, 14:4, 15:5},\n",
    "    \"r7_11\": {i:i for i in range(1,7)}\n",
    "}\n",
    "\n",
    "processed = column_selection(df, [c for c in df.columns if c[:5] not in multi_box_questions.keys()])"
   ]
  },
  {
   "cell_type": "code",
   "execution_count": 109,
   "metadata": {},
   "outputs": [],
   "source": [
    "for prefix in multi_box_questions:\n",
    "    target_cols = [c for c in df.columns if c[:5] == prefix]\n",
    "    new_cols_vals = {prefix+f\"_{i}\":np.zeros(len(df)) for i in multi_box_questions[prefix].values()}\n",
    "    for index, row in df.iterrows():\n",
    "        for col in target_cols:\n",
    "            val = row[col]\n",
    "            if not np.isnan(val) and val in multi_box_questions[prefix]:\n",
    "                new_cols_vals[prefix+f\"_{multi_box_questions[prefix][val]}\"][index] += 1\n",
    "                \n",
    "    for col in new_cols_vals:\n",
    "        processed[col] = new_cols_vals[col]\n",
    "        variable_types[\"continuous\"].add(col)"
   ]
  },
  {
   "cell_type": "code",
   "execution_count": 110,
   "metadata": {},
   "outputs": [],
   "source": [
    "PROCESSED_DFS.append(processed)"
   ]
  },
  {
   "cell_type": "code",
   "execution_count": 111,
   "metadata": {},
   "outputs": [],
   "source": [
    "for col in df.columns:\n",
    "    if \"r7_03\" in col:\n",
    "        variable_types[\"continuous\"].add(col)\n",
    "    elif \"r7_01\" in col or \"r7_02\" in col or \"r7_04\" in col or \"r7_05\" in col or \"r7_08\" in col:\n",
    "        variable_types[\"discrete_ordered\"].add(col)\n",
    "    elif \"r7_09\" in col or \"r7_10\" in col:\n",
    "        variable_types[\"discrete_categorical\"].add(col)"
   ]
  },
  {
   "cell_type": "markdown",
   "metadata": {},
   "source": [
    "## R8: Production and climate Information"
   ]
  },
  {
   "cell_type": "code",
   "execution_count": 112,
   "metadata": {},
   "outputs": [],
   "source": [
    "# filename = \"029_mod_r8.dta\"\n",
    "# path = DATA_DIR + DATA_SUBDIR + filename\n",
    "# df = load_data(path)\n",
    "# keep = [\"hhid\", \"r8_02_1\", \"r8_02_2\", \"r8_06_1\", \"r8_06_2\", \"r8_14_1\", \"r8_14_2\"]\n",
    "# processed = column_selection(df, keep=keep)\n",
    "# PROCESSED_DFS.append(processed)"
   ]
  },
  {
   "cell_type": "markdown",
   "metadata": {},
   "source": [
    "## R9: Production and climate Information"
   ]
  },
  {
   "cell_type": "code",
   "execution_count": 113,
   "metadata": {},
   "outputs": [],
   "source": [
    "# filename = \"030_mod_r9.dta\"\n",
    "# path = DATA_DIR + DATA_SUBDIR + filename\n",
    "# df = load_data(path)\n",
    "# keep = [\"hhid\", \"r9_02_1\", \"r9_02_2\", \"r9_09_1\", \"r9_09_2\"]\n",
    "# processed = column_selection(df, keep=keep)\n",
    "# PROCESSED_DFS.append(processed)"
   ]
  },
  {
   "cell_type": "markdown",
   "metadata": {},
   "source": [
    "## S: Empowerment and Political Action"
   ]
  },
  {
   "cell_type": "code",
   "execution_count": 114,
   "metadata": {},
   "outputs": [],
   "source": [
    "filename = \"031_mod_s.dta\"\n",
    "path = DATA_DIR + DATA_SUBDIR + filename\n",
    "df = load_data(path)"
   ]
  },
  {
   "cell_type": "code",
   "execution_count": 115,
   "metadata": {},
   "outputs": [],
   "source": [
    "processed = column_selection(df, remove=[\"s_01_1\", \"s_01_2\"])"
   ]
  },
  {
   "cell_type": "code",
   "execution_count": 116,
   "metadata": {},
   "outputs": [],
   "source": [
    "PROCESSED_DFS.append(processed)"
   ]
  },
  {
   "cell_type": "code",
   "execution_count": 117,
   "metadata": {},
   "outputs": [],
   "source": [
    "for col in processed.columns:\n",
    "    if \"s_02\" in col or \"s_03\" in col or \"s_04\" in col or \"s_05\" in col or \"s_09\" in col:\n",
    "        variable_types[\"discrete_ordered\"].add(col)\n",
    "    else:\n",
    "        variable_types[\"discrete_categorical\"].add(col)"
   ]
  },
  {
   "cell_type": "markdown",
   "metadata": {},
   "source": [
    "## T: Employment"
   ]
  },
  {
   "cell_type": "code",
   "execution_count": 118,
   "metadata": {},
   "outputs": [],
   "source": [
    "filename = \"032_mod_t.dta\"\n",
    "path = DATA_DIR + DATA_SUBDIR + filename\n",
    "df = load_data(path)"
   ]
  },
  {
   "cell_type": "code",
   "execution_count": 119,
   "metadata": {},
   "outputs": [],
   "source": [
    "job_categories = {\n",
    "    \"job_wage_labor\":np.arange(1,12),\n",
    "    \"job_salaried_worker\":np.arange(12,22),\n",
    "    \"job_self_employment\":np.arange(22,48),\n",
    "    \"job_trader\":np.arange(50,55),\n",
    "    \"job_production\":np.arange(55,58),\n",
    "    \"job_livestock_poultry_service\":np.arange(58,64),\n",
    "    \"job_farming\":np.arange(64,73)\n",
    "}\n",
    "\n",
    "results = {hhid:{\"hhid\":hhid} for hhid in UNIQUE_HHID}\n",
    "for hhid in UNIQUE_HHID:\n",
    "    household = df.loc[df.hhid==hhid]\n",
    "    relevant = list(household[\"t05\"])\n",
    "    for c, numbers in job_categories.items():\n",
    "        results[hhid][c] = 0\n",
    "        for n in numbers:\n",
    "            if n in relevant:\n",
    "                results[hhid][c] += 1\n",
    "    monthly_incomes = [x for x in household[\"t14\"] if not np.isnan(x)]\n",
    "    results[hhid][\"average_monthly_income\"] = sum(monthly_incomes) if len(monthly_incomes) else np.nan\n",
    "            \n",
    "processed = get_processed_df(results)"
   ]
  },
  {
   "cell_type": "code",
   "execution_count": 120,
   "metadata": {},
   "outputs": [],
   "source": [
    "PROCESSED_DFS.append(processed)"
   ]
  },
  {
   "cell_type": "code",
   "execution_count": 121,
   "metadata": {},
   "outputs": [],
   "source": [
    "for col in processed.columns:\n",
    "    if \"job_\" in col:\n",
    "        variable_types[\"discrete_categorical\"].add(col)\n",
    "    else:\n",
    "        variable_types[\"continuous\"].add(col)"
   ]
  },
  {
   "cell_type": "markdown",
   "metadata": {},
   "source": [
    "## U: Time use of male and female members in the household"
   ]
  },
  {
   "cell_type": "code",
   "execution_count": 122,
   "metadata": {},
   "outputs": [],
   "source": [
    "# discard"
   ]
  },
  {
   "cell_type": "markdown",
   "metadata": {},
   "source": [
    "## V: Anthropometry"
   ]
  },
  {
   "cell_type": "code",
   "execution_count": 123,
   "metadata": {},
   "outputs": [],
   "source": [
    "# discard"
   ]
  },
  {
   "cell_type": "markdown",
   "metadata": {},
   "source": [
    "___"
   ]
  },
  {
   "cell_type": "markdown",
   "metadata": {},
   "source": [
    "# Combine processed dataframes"
   ]
  },
  {
   "cell_type": "code",
   "execution_count": 125,
   "metadata": {
    "scrolled": true
   },
   "outputs": [],
   "source": [
    "# add missing household ids\n",
    "all_hhids_present = []\n",
    "for idx, df in enumerate(PROCESSED_DFS):\n",
    "    df[\"hhid\"] = np.round(df[\"hhid\"].astype(np.float64), 1)\n",
    "    if len(df[\"hhid\"].unique()) != len(UNIQUE_HHID):\n",
    "        all_hhids_present.append(add_missing_hhids(df))\n",
    "    else:\n",
    "        all_hhids_present.append(df)\n",
    "\n",
    "# sanity check\n",
    "for df in all_hhids_present:\n",
    "    hids = df[\"hhid\"].unique()\n",
    "    for h in hids:\n",
    "        assert h in UNIQUE_HHID\n",
    "    for h in UNIQUE_HHID:\n",
    "        assert h in hids\n",
    "        \n",
    "# merge all dataframes\n",
    "df = all_hhids_present[0]\n",
    "for df1 in all_hhids_present[1:]:\n",
    "    df = df.merge(df1, on=\"hhid\", how=\"inner\")\n",
    "assert df.shape[0] == len(UNIQUE_HHID)"
   ]
  },
  {
   "cell_type": "code",
   "execution_count": 126,
   "metadata": {},
   "outputs": [],
   "source": [
    "# drop some features \n",
    "for col in df.columns:\n",
    "    prop_nan = sum(df[col].isnull()) / len(df)\n",
    "    if len(df[col].unique()) == 1 or prop_nan > 0.9:\n",
    "        variable_types[\"continuous\"].discard(col)\n",
    "        variable_types[\"discrete_categorical\"].discard(col)\n",
    "        variable_types[\"discrete_ordered\"].discard(col)\n",
    "        df.drop(col, inplace=True, axis=1)\n",
    "\n",
    "# drop some rows\n",
    "df = df.dropna(axis=0, thresh=int(0.3*df.shape[1]), subset=None, inplace=False)"
   ]
  },
  {
   "cell_type": "code",
   "execution_count": 127,
   "metadata": {
    "scrolled": true
   },
   "outputs": [],
   "source": [
    "# drop features for which there is a systematic non-response from at least one community\n",
    "grouped = df.groupby(\"community_code\")\n",
    "\n",
    "for col in df.columns:\n",
    "    unique = grouped[col].unique()\n",
    "    for i, item in enumerate(unique):\n",
    "        if len(item) == 1 and np.isnan(item[0]):\n",
    "            df.drop(col, inplace=True, axis=1)\n",
    "            variable_types[\"continuous\"].discard(col)\n",
    "            variable_types[\"discrete_categorical\"].discard(col)\n",
    "            variable_types[\"discrete_ordered\"].discard(col)\n",
    "            break"
   ]
  },
  {
   "cell_type": "code",
   "execution_count": 128,
   "metadata": {},
   "outputs": [],
   "source": [
    "# save df\n",
    "df.to_csv(DATA_DIR + DATA_SUBDIR + \"combined.csv\")\n",
    "with open(DATA_DIR + DATA_SUBDIR + \"variable_types.pickle\", \"wb\") as f:\n",
    "    pickle.dump(variable_types, f)"
   ]
  },
  {
   "cell_type": "code",
   "execution_count": 129,
   "metadata": {},
   "outputs": [
    {
     "data": {
      "image/png": "[encoded data removed]",
      "text/plain": [
       "<Figure size 432x288 with 1 Axes>"
      ]
     },
     "metadata": {
      "needs_background": "light"
     },
     "output_type": "display_data"
    }
   ],
   "source": [
    "# plot histogram of proportion of missing values for features (columns)\n",
    "col_nan_counts = {}\n",
    "L = len(df)\n",
    "for col in df.columns:\n",
    "    col_nan_counts[col] = (df[col].isna().sum()) / L\n",
    "\n",
    "plt.hist(col_nan_counts.values(), color=\"dodgerblue\", edgecolor=\"k\", bins=30)\n",
    "plt.xlabel(\"Proportion of missing values per feature\")\n",
    "plt.ylabel(\"Frequency\")\n",
    "plt.show()"
   ]
  },
  {
   "cell_type": "code",
   "execution_count": 130,
   "metadata": {
    "scrolled": false
   },
   "outputs": [
    {
     "data": {
      "image/png": "[encoded data removed]",
      "text/plain": [
       "<Figure size 432x288 with 1 Axes>"
      ]
     },
     "metadata": {
      "needs_background": "light"
     },
     "output_type": "display_data"
    }
   ],
   "source": [
    "# plot histogram of proportion of missing values for households (rows)\n",
    "row_nan_counts = {}\n",
    "num_cols = len(df.columns)\n",
    "for hhid in df.hhid:\n",
    "    row = df.loc[df.hhid==hhid]\n",
    "    hhid = list(row[\"hhid\"])[0]\n",
    "    row_nan_counts[hhid] = (row.isna().sum().sum()) / num_cols\n",
    "\n",
    "plt.hist(row_nan_counts.values(), color=\"dodgerblue\", edgecolor=\"k\", bins=30)\n",
    "plt.xlabel(\"Proportion of missing features per household\")\n",
    "plt.ylabel(\"Frequency\")\n",
    "plt.show()"
   ]
  },
  {
   "cell_type": "code",
   "execution_count": 132,
   "metadata": {},
   "outputs": [],
   "source": [
    "# sanity check: variable types\n",
    "for col in df.columns:\n",
    "    if not (col in variable_types[\"discrete_ordered\"] or \n",
    "            col in variable_types[\"discrete_categorical\"] or\n",
    "            col in variable_types[\"continuous\"]):\n",
    "        print(col)\n",
    "        \n",
    "for t, cols in variable_types.items():\n",
    "    for c in cols:\n",
    "        if c not in df.columns:\n",
    "            print(c)\n",
    "\n",
    "variable_types[\"discrete_ordered\"].discard(\"hhid\")\n",
    "variable_types[\"continuous\"].discard(\"hhid\")\n",
    "\n",
    "# sanity check: all features present once\n",
    "counts = []\n",
    "for t, cols in variable_types.items():\n",
    "    for c in cols:\n",
    "        counts.append(c)\n",
    "\n",
    "counts = Counter(counts)\n",
    "if 2 in counts.values():\n",
    "    print(\"Counting error!\")\n",
    "assert len(counts) == len(df.columns)"
   ]
  },
  {
   "cell_type": "markdown",
   "metadata": {},
   "source": [
    "___"
   ]
  },
  {
   "cell_type": "markdown",
   "metadata": {},
   "source": [
    "# Feature Selection"
   ]
  },
  {
   "cell_type": "code",
   "execution_count": 134,
   "metadata": {},
   "outputs": [],
   "source": [
    "def get_feature_importance(df, method=\"preselected\", target_type=None):\n",
    "        \n",
    "    if method == \"preselected\":\n",
    "        \n",
    "        features = set()\n",
    "\n",
    "        # income\n",
    "        features.add(\"average_monthly_income\")\n",
    "\n",
    "        # occupation\n",
    "        for item in job_categories:\n",
    "            if item in df.columns:\n",
    "                features.add(item)\n",
    "\n",
    "        # expenditure\n",
    "        for item in [\"livestock_fodder_value\", \"livestock_medication_value\", \"livestock_hired_male_labor\"]:\n",
    "            if item in df.columns:\n",
    "                features.add(item)\n",
    "        for item in food_categories:\n",
    "            if item in df.columns:\n",
    "                features.add(item)\n",
    "        for item in non_food_categories:\n",
    "            if item in df.columns:\n",
    "                features.add(item)\n",
    "\n",
    "        # shocks\n",
    "        features.add(\"shocks_loss_value\")\n",
    "\n",
    "        for item in df.columns:\n",
    "            # social capital\n",
    "            if \"r3_\" in item:\n",
    "                features.add(item)\n",
    "            # adaptations carried out\n",
    "            elif \"change_\" in item:\n",
    "                features.add(item)\n",
    "            # constraints to adaptation\n",
    "            elif \"constraint_\" in item:\n",
    "                features.add(item)\n",
    "            # collective / community action and participation\n",
    "            elif \"r6_\" in item:\n",
    "                features.add(item)\n",
    "            # groups: benefits of joining, information, risk management, improving living...\n",
    "            elif \"r2_\" in item:\n",
    "                features.add(item)\n",
    "                \n",
    "        return [(k, 1) for k in features]\n",
    "\n",
    "    elif method == \"mi_regression\":\n",
    "        \n",
    "        if target_type == \"constraints\":\n",
    "            results = {}\n",
    "            for i in range(1, 10):\n",
    "                mi_scores = compute_mutual_information(df, target_type=target_type, constraint_code=i)\n",
    "                results[i] = sorted(mi_scores.items(), key = lambda x: mi_scores[x[0]][0], reverse=True)\n",
    "                \n",
    "            combined_scores = {}\n",
    "            for code, items in results.items():\n",
    "                for item in items:\n",
    "                    if item[0] not in combined_scores:\n",
    "                        combined_scores[item[0]] = item[1][0]\n",
    "                    else:\n",
    "                        combined_scores[item[0]] += item[1][0]\n",
    "\n",
    "            combined_scores = {k:np.mean(combined_scores[k]) for k in combined_scores}\n",
    "            sorted_scores = sorted(combined_scores.items(), key = lambda x: x[1], reverse=True)       \n",
    "            \n",
    "        elif target_type == \"adaptation\":\n",
    "            mi_scores = compute_mutual_information(df, target_type=target_type, constraint_code=None)\n",
    "            sorted_scores = sorted([(x, mi_scores[x][0]) for x in mi_scores.keys()], \n",
    "                                   key = lambda x: x[1], reverse=True)\n",
    "            \n",
    "        return sorted_scores\n",
    "                \n",
    "    return top_features"
   ]
  },
  {
   "cell_type": "code",
   "execution_count": 135,
   "metadata": {},
   "outputs": [],
   "source": [
    "def get_targets(target_type, constraint_code):\n",
    "    if target_type == \"adaptation\":\n",
    "        # compute number of changes implemented by each household\n",
    "        num_changes = {hhid:None for hhid in UNIQUE_HHID}\n",
    "        target_labels = set()\n",
    "        for DF in ADAPTATION_DFS:\n",
    "            for hhid in UNIQUE_HHID:\n",
    "                hh = DF.loc[DF.hhid==hhid]\n",
    "                if len(hh):\n",
    "                    ignore_hhid_col = hh.loc[:, ~hh.columns.isin(['hhid'])]\n",
    "                    for col in ignore_hhid_col:\n",
    "                        target_labels.add(col)\n",
    "                    non_nan = np.array([x for x in ignore_hhid_col.iloc[0] if not np.isnan(x)])\n",
    "                    if len(non_nan):\n",
    "                        if num_changes[hhid] is None:\n",
    "                            num_changes[hhid] = sum(np.array(non_nan==1))\n",
    "                        else:\n",
    "                            num_changes[hhid] += sum(np.array(non_nan==1))\n",
    "\n",
    "        adaptation_target = np.array(list(num_changes.values()))\n",
    "        null_target_hhids = [x for x in num_changes if num_changes[x] is None]\n",
    "        \n",
    "    elif target_type == \"constraints\":\n",
    "        label = f\"constraint_{constraint_code}_total_severity\"\n",
    "        target_labels = {label}\n",
    "        c_codes = {}\n",
    "        for hhid in UNIQUE_HHID:\n",
    "            hh = df.loc[df.hhid==hhid]\n",
    "            if len(hh) == 0:\n",
    "                c_codes[hhid] = None\n",
    "            else:\n",
    "                value = list(hh[label])[0]\n",
    "                c_codes[hhid] = int(hh[label])\n",
    "        adaptation_target = np.array(list(c_codes.values()))\n",
    "        null_target_hhids = [x for x in c_codes if c_codes[x] is None]\n",
    "\n",
    "    elif target_type == \"community\":\n",
    "        # use community code as discrete target\n",
    "        target_labels = {\"community_code\"}\n",
    "        c_codes = {}\n",
    "        for hhid in UNIQUE_HHID:\n",
    "            hh = df.loc[df.hhid==hhid]\n",
    "            c_codes[hhid] = int(hh[\"community_code\"]) if len(hh) else None\n",
    "        adaptation_target = np.array(list(c_codes.values()))\n",
    "        null_target_hhids = [x for x in c_codes if c_codes[x] is None]\n",
    "        \n",
    "    return adaptation_target, target_labels, null_target_hhids\n",
    "\n",
    "\n",
    "def mean_confidence_interval(data, confidence=0.95):\n",
    "    a = 1.0 * np.array(data)\n",
    "    n = len(a)\n",
    "    m, se = np.mean(a), scipy.stats.sem(a)\n",
    "    h = se * scipy.stats.t.ppf((1 + confidence) / 2., n-1)\n",
    "    return m, h\n",
    "\n",
    "\n",
    "def compute_mutual_information(df, target_type, reps=10, constraint_code=None):\n",
    "    # get targets (adaptation continuous, or discrete community code)\n",
    "    adaptation_target, target_labels, null_target_hhids = get_targets(target_type, constraint_code)\n",
    "    \n",
    "    mi_scores = {}\n",
    "    cols = [col for col in df.columns if col != \"hhid\" and col not in target_labels]\n",
    "    for col in cols:\n",
    "        non_nan_rows = df.loc[(~df[col].isna()) & (~df[\"hhid\"].isin(null_target_hhids))]\n",
    "        if len(non_nan_rows) < 4:\n",
    "            continue\n",
    "\n",
    "        is_discrete = col in variable_types[\"discrete_categorical\"]\n",
    "        indices = np.array(non_nan_rows.index).astype(int)\n",
    "        targets = adaptation_target[indices].astype(int)\n",
    "\n",
    "        mi_vals = []\n",
    "        for n_n in [2, 3, 4, 8]:\n",
    "            for _ in range(reps):\n",
    "                # continuous target\n",
    "                if target_type != \"community\":\n",
    "                    mi_vals.append(mutual_info_regression(np.array(list(non_nan_rows[col])).reshape(-1,1), \n",
    "                                                          targets, discrete_features=is_discrete,\n",
    "                                                          n_neighbors=n_n)[0])\n",
    "                # discrete target\n",
    "                else:\n",
    "                     mi_vals.append(mutual_info_classif(np.array(list(non_nan_rows[col])).reshape(-1,1), \n",
    "                                                        targets, discrete_features=is_discrete,\n",
    "                                                        n_neighbors=n_n)[0])\n",
    "\n",
    "        mean, width = mean_confidence_interval(mi_vals)\n",
    "        mi_scores[col] = (round(mean,3),\n",
    "                          round(width,3),\n",
    "                          len(indices))\n",
    "\n",
    "    return mi_scores"
   ]
  },
  {
   "cell_type": "markdown",
   "metadata": {},
   "source": [
    "### 1) MI Regression : Number of adaptations as target"
   ]
  },
  {
   "cell_type": "code",
   "execution_count": 134,
   "metadata": {},
   "outputs": [],
   "source": [
    "feature_importance_adaptation = get_feature_importance(df, method=\"mi_regression\", target_type=\"adaptation\")"
   ]
  },
  {
   "cell_type": "code",
   "execution_count": 135,
   "metadata": {
    "scrolled": true
   },
   "outputs": [
    {
     "data": {
      "text/plain": [
       "[('community_code', 0.236),\n",
       " ('constraint_8_total_severity', 0.126),\n",
       " ('constraint_4_total_severity', 0.111),\n",
       " ('weight_food_drinks', 0.106),\n",
       " ('constraint_7_total_severity', 0.098),\n",
       " ('ezcode', 0.092),\n",
       " ('constraint_3_total_severity', 0.069),\n",
       " ('value_food_other_outside_home', 0.067),\n",
       " ('group_membership_farming', 0.061),\n",
       " ('livestock_medication_value', 0.055),\n",
       " ('constraint_2_total_severity', 0.051),\n",
       " ('s_05_1', 0.048),\n",
       " ('job_farming', 0.048),\n",
       " ('j02_1_rent_bills_taxes_fees_expenses', 0.044),\n",
       " ('j02_2_personal_items_clothing_expenses', 0.044),\n",
       " ('m01', 0.042),\n",
       " ('m07', 0.042),\n",
       " ('livestock_fodder_value', 0.041),\n",
       " ('average_monthly_income', 0.041),\n",
       " ('value_food_vegetables', 0.04),\n",
       " ('value_2011', 0.039),\n",
       " ('weight_food_other', 0.038),\n",
       " ('r6_03_2', 0.038),\n",
       " ('value_food_edible_oil', 0.037),\n",
       " ('m06_2', 0.037),\n",
       " ('constraint_9_total_severity', 0.037),\n",
       " ('value_now', 0.036),\n",
       " ('credit_natural_capital_total_to_pay', 0.036),\n",
       " ('sale_of_assets_value', 0.036),\n",
       " ('value_food_other', 0.036),\n",
       " ('calamity_3_action_taken', 0.036),\n",
       " ('positive_events_value', 0.036),\n",
       " ('r2_19', 0.036),\n",
       " ('r6_08_1', 0.036),\n",
       " ('credit_personal_capital_total_to_pay', 0.035),\n",
       " ('j03_2_personal_items_clothing_expenses_social', 0.035),\n",
       " ('r6_05_1', 0.035),\n",
       " ('q04', 0.034),\n",
       " ('constraint_5_total_severity', 0.034),\n",
       " ('total_land_value_per_month', 0.033),\n",
       " ('m09', 0.032),\n",
       " ('q05_1', 0.032),\n",
       " ('r2_17', 0.032),\n",
       " ('r2_22', 0.032),\n",
       " ('m06_5', 0.031),\n",
       " ('m08_3', 0.031),\n",
       " ('value_livestock_poultry', 0.03),\n",
       " ('value_agricultural_equipments', 0.03),\n",
       " ('r2_23', 0.03),\n",
       " ('r3_04_2', 0.03),\n",
       " ('j03_1_fuel_expenses_self', 0.029),\n",
       " ('r6_03_3', 0.029),\n",
       " ('value_food_drinks', 0.028),\n",
       " ('j02_1_personal_items_clothing_expenses', 0.028),\n",
       " ('q01_4', 0.028),\n",
       " ('q03', 0.027),\n",
       " ('count_2011', 0.026),\n",
       " ('r2_15_3', 0.026),\n",
       " ('r7_11_5', 0.026),\n",
       " ('j02_2_miscellaneous_expenses', 0.025),\n",
       " ('r6_08_2', 0.025),\n",
       " ('r6_04_3', 0.025),\n",
       " ('r7_03_2', 0.025),\n",
       " ('land_acquisition_means', 0.024),\n",
       " ('m02_1', 0.024),\n",
       " ('m04_1', 0.024),\n",
       " ('total_selling_value', 0.023),\n",
       " ('value_food_fruits', 0.023),\n",
       " ('weight_food_fruits', 0.023),\n",
       " ('j03_1_rent_bills_taxes_fees_expenses_self', 0.023),\n",
       " ('j02_1_fuel_expenses', 0.023),\n",
       " ('credit_natural_capital_total_borrowed', 0.022),\n",
       " ('q01_2', 0.022),\n",
       " ('r3_03_1', 0.022),\n",
       " ('r4_03_2', 0.022),\n",
       " ('r6_04_2', 0.022),\n",
       " ('plot_type', 0.021),\n",
       " ('q02', 0.021),\n",
       " ('q05_5', 0.021),\n",
       " ('r4_04_1_1', 0.021),\n",
       " ('constraint_1_total_severity', 0.02),\n",
       " ('constraint_6_total_severity', 0.02),\n",
       " ('r4_04_1_4', 0.02),\n",
       " ('m08_5', 0.019),\n",
       " ('r4_04_1_3', 0.019),\n",
       " ('r7_11_1', 0.019),\n",
       " ('s_02_2', 0.019),\n",
       " ('k03', 0.018),\n",
       " ('calamity_3_loss', 0.018),\n",
       " ('r3_02_1', 0.018),\n",
       " ('r3_04_1', 0.018),\n",
       " ('r3_07_1', 0.018),\n",
       " ('r3_07_2', 0.018),\n",
       " ('r4_04_2_5', 0.018),\n",
       " ('r4_04_2_9', 0.018),\n",
       " ('ratio_male_children', 0.017),\n",
       " ('value_food_fish_large', 0.017),\n",
       " ('j02_2_family_events_expenses', 0.017),\n",
       " ('m02_6', 0.017),\n",
       " ('r3_03_2', 0.017),\n",
       " ('r7_06_1', 0.017),\n",
       " ('r7_06_2', 0.017),\n",
       " ('value_consumable_durables', 0.016),\n",
       " ('group_membership_political', 0.016),\n",
       " ('r2_18', 0.016),\n",
       " ('r4_04_2_3', 0.016),\n",
       " ('r6_04_4', 0.016),\n",
       " ('r7_03_1', 0.016),\n",
       " ('r7_07_2', 0.016),\n",
       " ('s_06_1_1', 0.016),\n",
       " ('q06', 0.015),\n",
       " ('r4_04_1_8', 0.015),\n",
       " ('r4_04_2_2', 0.015),\n",
       " ('r6_02_1', 0.015),\n",
       " ('s_03_2', 0.015),\n",
       " ('highest_education', 0.014),\n",
       " ('m02_5', 0.014),\n",
       " ('q07_7', 0.014),\n",
       " ('r2_15_1', 0.014),\n",
       " ('r2_15_5', 0.014),\n",
       " ('r4_04_2_4', 0.014),\n",
       " ('r4_04_2_6', 0.014),\n",
       " ('r6_07_1', 0.014),\n",
       " ('r6_07_2', 0.014),\n",
       " ('r7_11_2', 0.014),\n",
       " ('r7_11_3', 0.014),\n",
       " ('s_03_1', 0.014),\n",
       " ('household_size', 0.013),\n",
       " ('value_food_pulses', 0.013),\n",
       " ('weight_food_meat_eggs_milk', 0.013),\n",
       " ('k02', 0.013),\n",
       " ('calamity_6_action_taken', 0.013),\n",
       " ('m04_5', 0.013),\n",
       " ('q07_1', 0.013),\n",
       " ('q07_5', 0.013),\n",
       " ('r2_15_2', 0.013),\n",
       " ('r3_02_2', 0.013),\n",
       " ('r4_04_1_7', 0.013),\n",
       " ('r4_04_1_9', 0.013),\n",
       " ('r4_04_2_1', 0.013),\n",
       " ('r6_04_1', 0.013),\n",
       " ('r7_10_1', 0.013),\n",
       " ('s_04_2', 0.013),\n",
       " ('value_food_cereals', 0.012),\n",
       " ('k01', 0.012),\n",
       " ('calamity_2_loss', 0.012),\n",
       " ('calamity_4_loss', 0.012),\n",
       " ('calamity_7_loss', 0.012),\n",
       " ('calamity_11_action_taken', 0.012),\n",
       " ('r4_04_1_5', 0.012),\n",
       " ('r6_02_2', 0.012),\n",
       " ('r6_06_2', 0.012),\n",
       " ('r7_08_1', 0.012),\n",
       " ('r7_04_2', 0.012),\n",
       " ('r7_08_2', 0.012),\n",
       " ('r7_07_1', 0.012),\n",
       " ('s_02_1', 0.012),\n",
       " ('s_06_2_1', 0.012),\n",
       " ('highest_literacy', 0.011),\n",
       " ('soil_type', 0.011),\n",
       " ('k06', 0.011),\n",
       " ('m10', 0.011),\n",
       " ('m04_2', 0.011),\n",
       " ('q01_3', 0.011),\n",
       " ('r4_04_1_2', 0.011),\n",
       " ('r7_01_1', 0.011),\n",
       " ('r7_07_5', 0.011),\n",
       " ('s_04_1', 0.011),\n",
       " ('j02_1_transportation_vehicles_expenses', 0.01),\n",
       " ('calamity_9_loss', 0.01),\n",
       " ('calamity_11_loss', 0.01),\n",
       " ('m05', 0.01),\n",
       " ('m02_3', 0.01),\n",
       " ('m06_3', 0.01),\n",
       " ('m08_1', 0.01),\n",
       " ('m11_5', 0.01),\n",
       " ('r3_06_1', 0.01),\n",
       " ('r3_05_2', 0.01),\n",
       " ('r3_06_2', 0.01),\n",
       " ('r4_04_2_7', 0.01),\n",
       " ('r6_06_1', 0.01),\n",
       " ('r7_05_1', 0.01),\n",
       " ('job_wage_labor', 0.01),\n",
       " ('credit_personal_capital_total_borrowed', 0.009),\n",
       " ('j02_1_health_expenses', 0.009),\n",
       " ('k07', 0.009),\n",
       " ('calamity_6_loss', 0.009),\n",
       " ('m11_7', 0.009),\n",
       " ('q07_3', 0.009),\n",
       " ('r2_20', 0.009),\n",
       " ('r2_21', 0.009),\n",
       " ('r4_02_1', 0.009),\n",
       " ('r4_03_1', 0.009),\n",
       " ('r4_04_2_8', 0.009),\n",
       " ('r7_09_2', 0.009),\n",
       " ('r7_06_3', 0.009),\n",
       " ('r7_06_5', 0.009),\n",
       " ('r7_07_4', 0.009),\n",
       " ('s_09_2', 0.009),\n",
       " ('value_food_spices', 0.008),\n",
       " ('calamity_1_loss', 0.008),\n",
       " ('calamity_9_action_taken', 0.008),\n",
       " ('calamity_10_loss', 0.008),\n",
       " ('q07_6', 0.008),\n",
       " ('group_membership_trading', 0.008),\n",
       " ('group_membership_religion', 0.008),\n",
       " ('group_membership_NGO', 0.008),\n",
       " ('group_membership_credit', 0.008),\n",
       " ('r6_03_1', 0.008),\n",
       " ('r6_03_4', 0.008),\n",
       " ('r7_02_2', 0.008),\n",
       " ('r7_06_4', 0.008),\n",
       " ('r7_11_6', 0.008),\n",
       " ('s_09_1', 0.008),\n",
       " ('calamity_8_loss', 0.007),\n",
       " ('m02_2', 0.007),\n",
       " ('q07_8', 0.007),\n",
       " ('q07_9', 0.007),\n",
       " ('r2_15_4', 0.007),\n",
       " ('r4_05_2', 0.007),\n",
       " ('r7_04_1', 0.007),\n",
       " ('r7_01_2', 0.007),\n",
       " ('r7_10_2', 0.007),\n",
       " ('r7_11_4', 0.007),\n",
       " ('weight_food_vegetables', 0.006),\n",
       " ('calamity_5_loss', 0.006),\n",
       " ('m04_3', 0.006),\n",
       " ('r4_04_1_6', 0.006),\n",
       " ('r7_09_1', 0.006),\n",
       " ('s_06_3_1', 0.006),\n",
       " ('s_06_4_1', 0.006),\n",
       " ('s_08_1', 0.006),\n",
       " ('ratio_male', 0.005),\n",
       " ('k03_1', 0.005),\n",
       " ('k05_1', 0.005),\n",
       " ('calamity_2_action_taken', 0.005),\n",
       " ('calamity_7_action_taken', 0.005),\n",
       " ('m11_2', 0.005),\n",
       " ('q01_1', 0.005),\n",
       " ('q05_2', 0.005),\n",
       " ('q05_4', 0.005),\n",
       " ('q07_2', 0.005),\n",
       " ('r3_05_1', 0.005),\n",
       " ('r7_07_3', 0.005),\n",
       " ('s_06_5_1', 0.005),\n",
       " ('s_06_4_2', 0.005),\n",
       " ('job_production', 0.005),\n",
       " ('calamity_1_action_taken', 0.004),\n",
       " ('m03', 0.004),\n",
       " ('m06_1', 0.004),\n",
       " ('m06_6', 0.004),\n",
       " ('m08_6', 0.004),\n",
       " ('m11_3', 0.004),\n",
       " ('q05_3', 0.004),\n",
       " ('group_membership_cultural', 0.004),\n",
       " ('r2_15_6', 0.004),\n",
       " ('r4_05_1', 0.004),\n",
       " ('r4_02_2', 0.004),\n",
       " ('r7_02_1', 0.004),\n",
       " ('s_06_6_1', 0.004),\n",
       " ('s_07_1', 0.004),\n",
       " ('job_trader', 0.004),\n",
       " ('land_operational_status', 0.003),\n",
       " ('j02_2_rent_bills_taxes_fees_expenses', 0.003),\n",
       " ('k04', 0.003),\n",
       " ('m02_4', 0.003),\n",
       " ('m04_4', 0.003),\n",
       " ('m11_1', 0.003),\n",
       " ('group_membership_women', 0.003),\n",
       " ('group_membership_other', 0.003),\n",
       " ('r7_05_2', 0.003),\n",
       " ('s_06_6_2', 0.003),\n",
       " ('job_self_employment', 0.003),\n",
       " ('job_livestock_poultry_service', 0.003),\n",
       " ('count_now', 0.002),\n",
       " ('value_food_leafy_vegetables', 0.002),\n",
       " ('k05', 0.002),\n",
       " ('m02_7', 0.002),\n",
       " ('m08_4', 0.002),\n",
       " ('m11_4', 0.002),\n",
       " ('q05_7', 0.002),\n",
       " ('q07_4', 0.002),\n",
       " ('group_membership_community', 0.002),\n",
       " ('s_06_1_2', 0.002),\n",
       " ('job_salaried_worker', 0.002),\n",
       " ('j02_2_education_expenses', 0.001),\n",
       " ('calamity_4_action_taken', 0.001),\n",
       " ('calamity_8_action_taken', 0.001),\n",
       " ('calamity_10_action_taken', 0.001),\n",
       " ('shocks_loss_value', 0.001),\n",
       " ('m04_6', 0.001),\n",
       " ('m06_7', 0.001),\n",
       " ('m11_6', 0.001),\n",
       " ('q05_6', 0.001),\n",
       " ('s_06_2_2', 0.001),\n",
       " ('s_07_2', 0.001),\n",
       " ('s_08_2', 0.001),\n",
       " ('value_food_meat_eggs_milk', 0.0),\n",
       " ('j02_1_miscellaneous_expenses', 0.0),\n",
       " ('j02_2_furniture_household_expenses', 0.0),\n",
       " ('j02_1_education_expenses', 0.0),\n",
       " ('calamity_5_action_taken', 0.0),\n",
       " ('calamity_12_action_taken', 0.0),\n",
       " ('m06_4', 0.0),\n",
       " ('m08_2', 0.0),\n",
       " ('group_membership_health', 0.0),\n",
       " ('group_membership_sports', 0.0),\n",
       " ('s_06_3_2', 0.0),\n",
       " ('s_06_5_2', 0.0)]"
      ]
     },
     "execution_count": 135,
     "metadata": {},
     "output_type": "execute_result"
    }
   ],
   "source": [
    "feature_importance_adaptation"
   ]
  },
  {
   "cell_type": "markdown",
   "metadata": {},
   "source": [
    "### 2) MI Regression : Constraints to adaptation as targets"
   ]
  },
  {
   "cell_type": "code",
   "execution_count": 136,
   "metadata": {},
   "outputs": [],
   "source": [
    "feature_importance_constraint = get_feature_importance(df, method=\"mi_regression\", target_type=\"constraints\")"
   ]
  },
  {
   "cell_type": "code",
   "execution_count": 137,
   "metadata": {
    "scrolled": true
   },
   "outputs": [
    {
     "data": {
      "text/plain": [
       "[('community_code', 1.252),\n",
       " ('constraint_8_total_severity', 0.41400000000000003),\n",
       " ('constraint_3_total_severity', 0.41400000000000003),\n",
       " ('ezcode', 0.41100000000000003),\n",
       " ('s_05_1', 0.308),\n",
       " ('weight_food_other', 0.298),\n",
       " ('constraint_2_total_severity', 0.28300000000000003),\n",
       " ('weight_food_drinks', 0.243),\n",
       " ('j02_2_miscellaneous_expenses', 0.236),\n",
       " ('constraint_7_total_severity', 0.23500000000000001),\n",
       " ('change_land', 0.23300000000000004),\n",
       " ('constraint_4_total_severity', 0.229),\n",
       " ('value_food_drinks', 0.22799999999999995),\n",
       " ('change_production_methods', 0.227),\n",
       " ('k05', 0.218),\n",
       " ('constraint_1_total_severity', 0.215),\n",
       " ('constraint_6_total_severity', 0.211),\n",
       " ('m03', 0.196),\n",
       " ('positive_events_value', 0.181),\n",
       " ('r2_23', 0.17700000000000002),\n",
       " ('value_food_edible_oil', 0.174),\n",
       " ('value_agricultural_equipments', 0.17200000000000004),\n",
       " ('value_food_fruits', 0.169),\n",
       " ('m05', 0.16799999999999998),\n",
       " ('value_food_cereals', 0.163),\n",
       " ('j02_2_family_events_expenses', 0.162),\n",
       " ('s_06_1_1', 0.16199999999999998),\n",
       " ('value_food_other_outside_home', 0.16099999999999998),\n",
       " ('r3_07_2', 0.15700000000000003),\n",
       " ('r3_02_1', 0.15599999999999997),\n",
       " ('constraint_9_total_severity', 0.155),\n",
       " ('r6_06_2', 0.154),\n",
       " ('value_food_other', 0.154),\n",
       " ('r2_22', 0.15300000000000002),\n",
       " ('j02_1_fuel_expenses', 0.153),\n",
       " ('job_farming', 0.15),\n",
       " ('k06', 0.148),\n",
       " ('constraint_5_total_severity', 0.14600000000000002),\n",
       " ('r4_05_1', 0.14500000000000002),\n",
       " ('r6_05_1', 0.14500000000000002),\n",
       " ('change_other', 0.14400000000000002),\n",
       " ('r4_04_2_2', 0.144),\n",
       " ('r4_04_2_9', 0.14200000000000002),\n",
       " ('weight_food_meat_eggs_milk', 0.14),\n",
       " ('r4_04_2_4', 0.14),\n",
       " ('r4_04_1_5', 0.139),\n",
       " ('s_09_2', 0.139),\n",
       " ('r4_04_2_6', 0.138),\n",
       " ('r7_06_1', 0.138),\n",
       " ('r4_04_1_4', 0.138),\n",
       " ('group_membership_farming', 0.13700000000000004),\n",
       " ('r6_03_2', 0.136),\n",
       " ('value_livestock_poultry', 0.136),\n",
       " ('r6_06_1', 0.135),\n",
       " ('q05_5', 0.135),\n",
       " ('j03_1_rent_bills_taxes_fees_expenses_self', 0.135),\n",
       " ('value_food_pulses', 0.134),\n",
       " ('r7_01_1', 0.134),\n",
       " ('r3_04_1', 0.133),\n",
       " ('r4_05_2', 0.133),\n",
       " ('total_land_value_per_month', 0.132),\n",
       " ('change_fertilizer', 0.131),\n",
       " ('r2_19', 0.13),\n",
       " ('r6_04_3', 0.128),\n",
       " ('s_09_1', 0.125),\n",
       " ('r4_04_1_2', 0.124),\n",
       " ('r4_04_2_7', 0.124),\n",
       " ('r6_04_2', 0.122),\n",
       " ('r2_17', 0.122),\n",
       " ('r3_07_1', 0.122),\n",
       " ('r6_08_1', 0.12100000000000001),\n",
       " ('r7_03_2', 0.12100000000000001),\n",
       " ('q04', 0.12100000000000001),\n",
       " ('r4_04_1_6', 0.12099999999999998),\n",
       " ('calamity_4_action_taken', 0.12000000000000001),\n",
       " ('s_04_1', 0.12),\n",
       " ('r2_18', 0.11999999999999998),\n",
       " ('r6_03_3', 0.119),\n",
       " ('change_off_farm_employment', 0.11800000000000001),\n",
       " ('m10', 0.11799999999999998),\n",
       " ('q05_1', 0.117),\n",
       " ('r7_07_1', 0.11599999999999999),\n",
       " ('r3_03_1', 0.115),\n",
       " ('r7_01_2', 0.115),\n",
       " ('r2_15_1', 0.11499999999999999),\n",
       " ('r2_15_3', 0.11499999999999999),\n",
       " ('j03_2_personal_items_clothing_expenses_social', 0.114),\n",
       " ('r4_04_2_1', 0.11399999999999999),\n",
       " ('r7_08_2', 0.11399999999999999),\n",
       " ('shocks_loss_value', 0.11300000000000002),\n",
       " ('r4_04_2_3', 0.11300000000000002),\n",
       " ('r4_04_2_5', 0.113),\n",
       " ('household_size', 0.113),\n",
       " ('calamity_4_loss', 0.11299999999999999),\n",
       " ('s_02_1', 0.112),\n",
       " ('change_livestock_poultry', 0.112),\n",
       " ('m09', 0.112),\n",
       " ('r7_08_1', 0.11100000000000002),\n",
       " ('r4_03_1', 0.11100000000000002),\n",
       " ('s_03_1', 0.11099999999999999),\n",
       " ('q03', 0.11000000000000001),\n",
       " ('r6_07_1', 0.11),\n",
       " ('r4_04_1_3', 0.11),\n",
       " ('r3_02_2', 0.10999999999999999),\n",
       " ('plot_type', 0.10900000000000001),\n",
       " ('r2_20', 0.109),\n",
       " ('r6_08_2', 0.109),\n",
       " ('r7_11_5', 0.10899999999999999),\n",
       " ('change_planting_dates', 0.10899999999999999),\n",
       " ('r4_04_1_1', 0.10800000000000001),\n",
       " ('r2_21', 0.108),\n",
       " ('r4_04_1_9', 0.10799999999999998),\n",
       " ('s_02_2', 0.107),\n",
       " ('r7_02_1', 0.10699999999999998),\n",
       " ('r7_06_2', 0.10600000000000001),\n",
       " ('r7_07_3', 0.106),\n",
       " ('r3_04_2', 0.105),\n",
       " ('j03_1_fuel_expenses_self', 0.105),\n",
       " ('r3_06_1', 0.10400000000000001),\n",
       " ('r7_05_1', 0.104),\n",
       " ('r7_11_1', 0.104),\n",
       " ('r2_15_5', 0.10300000000000001),\n",
       " ('highest_education', 0.10200000000000001),\n",
       " ('r7_07_2', 0.102),\n",
       " ('r6_04_1', 0.10199999999999998),\n",
       " ('r4_03_2', 0.101),\n",
       " ('r6_07_2', 0.10099999999999999),\n",
       " ('r7_11_6', 0.10099999999999998),\n",
       " ('calamity_2_loss', 0.1),\n",
       " ('r4_04_1_7', 0.09999999999999999),\n",
       " ('r7_02_2', 0.09999999999999999),\n",
       " ('q07_3', 0.09999999999999999),\n",
       " ('value_food_leafy_vegetables', 0.09999999999999998),\n",
       " ('value_now', 0.099),\n",
       " ('r7_05_2', 0.097),\n",
       " ('m01', 0.097),\n",
       " ('land_acquisition_means', 0.097),\n",
       " ('r7_07_4', 0.09699999999999999),\n",
       " ('r6_03_1', 0.09699999999999999),\n",
       " ('r4_04_2_8', 0.096),\n",
       " ('change_migration', 0.096),\n",
       " ('j02_1_health_expenses', 0.096),\n",
       " ('r3_06_2', 0.09500000000000001),\n",
       " ('r3_03_2', 0.095),\n",
       " ('r7_04_1', 0.094),\n",
       " ('s_03_2', 0.094),\n",
       " ('r7_03_1', 0.094),\n",
       " ('calamity_9_loss', 0.09299999999999999),\n",
       " ('weight_food_vegetables', 0.09200000000000001),\n",
       " ('calamity_8_loss', 0.092),\n",
       " ('k01', 0.09199999999999998),\n",
       " ('r2_15_6', 0.091),\n",
       " ('q07_1', 0.091),\n",
       " ('calamity_11_loss', 0.09),\n",
       " ('m08_5', 0.09),\n",
       " ('r6_04_4', 0.09),\n",
       " ('value_food_meat_eggs_milk', 0.09),\n",
       " ('calamity_3_loss', 0.08999999999999998),\n",
       " ('credit_natural_capital_total_borrowed', 0.08900000000000002),\n",
       " ('j02_1_miscellaneous_expenses', 0.089),\n",
       " ('r2_15_2', 0.08799999999999998),\n",
       " ('highest_literacy', 0.08700000000000001),\n",
       " ('r2_15_4', 0.087),\n",
       " ('calamity_3_action_taken', 0.087),\n",
       " ('calamity_5_loss', 0.08699999999999998),\n",
       " ('weight_food_fruits', 0.08600000000000001),\n",
       " ('ratio_male_children', 0.08500000000000002),\n",
       " ('r7_06_5', 0.085),\n",
       " ('s_04_2', 0.085),\n",
       " ('count_now', 0.085),\n",
       " ('k07', 0.085),\n",
       " ('r7_11_3', 0.08499999999999999),\n",
       " ('calamity_6_loss', 0.08499999999999999),\n",
       " ('livestock_medication_value', 0.08499999999999999),\n",
       " ('r6_03_4', 0.08499999999999999),\n",
       " ('q07_7', 0.08400000000000002),\n",
       " ('credit_personal_capital_total_to_pay', 0.084),\n",
       " ('m06_5', 0.084),\n",
       " ('q07_5', 0.08399999999999999),\n",
       " ('r7_07_5', 0.08300000000000002),\n",
       " ('k02', 0.083),\n",
       " ('r4_04_1_8', 0.083),\n",
       " ('r7_04_2', 0.08299999999999999),\n",
       " ('calamity_10_loss', 0.082),\n",
       " ('m08_3', 0.082),\n",
       " ('j02_1_rent_bills_taxes_fees_expenses', 0.08199999999999999),\n",
       " ('credit_natural_capital_total_to_pay', 0.08199999999999999),\n",
       " ('r7_06_3', 0.081),\n",
       " ('calamity_1_loss', 0.08000000000000002),\n",
       " ('livestock_fodder_value', 0.08),\n",
       " ('value_food_vegetables', 0.08),\n",
       " ('soil_type', 0.07900000000000001),\n",
       " ('j02_1_personal_items_clothing_expenses', 0.07900000000000001),\n",
       " ('r7_11_2', 0.07900000000000001),\n",
       " ('q02', 0.07900000000000001),\n",
       " ('r3_05_1', 0.079),\n",
       " ('r7_06_4', 0.079),\n",
       " ('m07', 0.079),\n",
       " ('m04_1', 0.078),\n",
       " ('m06_2', 0.078),\n",
       " ('value_food_fish_large', 0.07700000000000001),\n",
       " ('value_2011', 0.07700000000000001),\n",
       " ('r7_11_4', 0.077),\n",
       " ('land_operational_status', 0.077),\n",
       " ('m02_6', 0.07600000000000001),\n",
       " ('s_06_4_1', 0.076),\n",
       " ('q01_3', 0.07500000000000001),\n",
       " ('count_2011', 0.075),\n",
       " ('q07_9', 0.075),\n",
       " ('credit_personal_capital_total_borrowed', 0.07400000000000001),\n",
       " ('m02_1', 0.07300000000000001),\n",
       " ('average_monthly_income', 0.07300000000000001),\n",
       " ('r3_05_2', 0.07200000000000001),\n",
       " ('calamity_7_loss', 0.072),\n",
       " ('k04', 0.071),\n",
       " ('ratio_male', 0.07),\n",
       " ('j02_1_transportation_vehicles_expenses', 0.07),\n",
       " ('sale_of_assets_value', 0.07),\n",
       " ('r7_10_2', 0.07),\n",
       " ('r4_02_1', 0.06999999999999999),\n",
       " ('m11_2', 0.06999999999999999),\n",
       " ('value_food_spices', 0.069),\n",
       " ('m11_7', 0.068),\n",
       " ('r7_09_1', 0.067),\n",
       " ('r6_02_1', 0.066),\n",
       " ('calamity_9_action_taken', 0.065),\n",
       " ('j02_2_personal_items_clothing_expenses', 0.065),\n",
       " ('calamity_2_action_taken', 0.06300000000000001),\n",
       " ('k03', 0.063),\n",
       " ('q01_2', 0.06299999999999999),\n",
       " ('r6_02_2', 0.061),\n",
       " ('r4_02_2', 0.06099999999999999),\n",
       " ('r7_10_1', 0.06099999999999999),\n",
       " ('j02_1_education_expenses', 0.05700000000000001),\n",
       " ('q05_3', 0.057),\n",
       " ('r7_09_2', 0.056999999999999995),\n",
       " ('calamity_1_action_taken', 0.056999999999999995),\n",
       " ('m11_5', 0.055999999999999994),\n",
       " ('group_membership_NGO', 0.055999999999999994),\n",
       " ('q06', 0.055),\n",
       " ('value_consumable_durables', 0.055),\n",
       " ('s_06_2_1', 0.054),\n",
       " ('change_water_harvesting', 0.053000000000000005),\n",
       " ('m04_5', 0.052000000000000005),\n",
       " ('job_wage_labor', 0.051000000000000004),\n",
       " ('j02_2_education_expenses', 0.051000000000000004),\n",
       " ('q07_6', 0.05),\n",
       " ('group_membership_religion', 0.049999999999999996),\n",
       " ('job_self_employment', 0.04999999999999999),\n",
       " ('s_06_6_1', 0.048),\n",
       " ('k05_1', 0.048),\n",
       " ('job_trader', 0.047),\n",
       " ('q07_2', 0.047),\n",
       " ('group_membership_women', 0.047),\n",
       " ('s_06_3_1', 0.047),\n",
       " ('m11_3', 0.04200000000000001),\n",
       " ('s_06_6_2', 0.042),\n",
       " ('m04_2', 0.04100000000000001),\n",
       " ('calamity_7_action_taken', 0.04100000000000001),\n",
       " ('j02_2_rent_bills_taxes_fees_expenses', 0.04100000000000001),\n",
       " ('s_06_4_2', 0.041),\n",
       " ('total_selling_value', 0.040999999999999995),\n",
       " ('m06_1', 0.04),\n",
       " ('m08_1', 0.04),\n",
       " ('j02_2_furniture_household_expenses', 0.04),\n",
       " ('s_08_1', 0.03900000000000001),\n",
       " ('group_membership_political', 0.039),\n",
       " ('group_membership_community', 0.038000000000000006),\n",
       " ('s_07_1', 0.037000000000000005),\n",
       " ('m11_1', 0.037),\n",
       " ('group_membership_credit', 0.037),\n",
       " ('k03_1', 0.035),\n",
       " ('group_membership_trading', 0.035),\n",
       " ('q05_6', 0.035),\n",
       " ('q01_4', 0.035),\n",
       " ('group_membership_other', 0.034),\n",
       " ('q05_4', 0.033),\n",
       " ('m02_5', 0.032),\n",
       " ('s_06_1_2', 0.030000000000000002),\n",
       " ('m04_4', 0.029000000000000005),\n",
       " ('job_salaried_worker', 0.029),\n",
       " ('calamity_11_action_taken', 0.028000000000000004),\n",
       " ('change_crop_consumption', 0.027000000000000003),\n",
       " ('m02_2', 0.026000000000000006),\n",
       " ('q05_2', 0.026),\n",
       " ('s_06_5_1', 0.02500000000000001),\n",
       " ('m02_4', 0.024999999999999998),\n",
       " ('m11_4', 0.024),\n",
       " ('q07_8', 0.024),\n",
       " ('s_08_2', 0.023),\n",
       " ('q05_7', 0.022),\n",
       " ('m06_6', 0.021000000000000005),\n",
       " ('m06_3', 0.020000000000000004),\n",
       " ('s_07_2', 0.020000000000000004),\n",
       " ('m08_4', 0.019000000000000003),\n",
       " ('q01_1', 0.019000000000000003),\n",
       " ('s_06_3_2', 0.019),\n",
       " ('m02_3', 0.018000000000000002),\n",
       " ('s_06_2_2', 0.017),\n",
       " ('m06_7', 0.016),\n",
       " ('job_production', 0.015),\n",
       " ('group_membership_cultural', 0.014000000000000002),\n",
       " ('m08_6', 0.014000000000000002),\n",
       " ('m11_6', 0.014000000000000002),\n",
       " ('q07_4', 0.014000000000000002),\n",
       " ('m04_3', 0.014),\n",
       " ('m06_4', 0.013000000000000001),\n",
       " ('m08_2', 0.013000000000000001),\n",
       " ('calamity_6_action_taken', 0.011000000000000003),\n",
       " ('calamity_8_action_taken', 0.011),\n",
       " ('group_membership_sports', 0.011),\n",
       " ('calamity_5_action_taken', 0.009000000000000001),\n",
       " ('m02_7', 0.009000000000000001),\n",
       " ('m04_6', 0.008),\n",
       " ('change_communal_storage', 0.007),\n",
       " ('calamity_10_action_taken', 0.007),\n",
       " ('calamity_12_action_taken', 0.004),\n",
       " ('job_livestock_poultry_service', 0.003),\n",
       " ('change_insurance', 0.0),\n",
       " ('group_membership_health', 0.0),\n",
       " ('s_06_5_2', 0.0)]"
      ]
     },
     "execution_count": 137,
     "metadata": {},
     "output_type": "execute_result"
    }
   ],
   "source": [
    "feature_importance_constraint"
   ]
  },
  {
   "cell_type": "markdown",
   "metadata": {},
   "source": [
    "### 3) Hand-picked features"
   ]
  },
  {
   "cell_type": "code",
   "execution_count": 139,
   "metadata": {},
   "outputs": [],
   "source": [
    "feature_importance_handpicked = get_feature_importance(df, method=\"preselected\")"
   ]
  },
  {
   "cell_type": "code",
   "execution_count": 140,
   "metadata": {
    "scrolled": true
   },
   "outputs": [
    {
     "data": {
      "text/plain": [
       "[('job_farming', 1),\n",
       " ('livestock_medication_value', 1),\n",
       " ('r2_15_2', 1),\n",
       " ('change_crop_consumption', 1),\n",
       " ('r2_20', 1),\n",
       " ('r2_17', 1),\n",
       " ('r2_15_6', 1),\n",
       " ('r3_07_2', 1),\n",
       " ('change_fertilizer', 1),\n",
       " ('change_livestock_poultry', 1),\n",
       " ('r6_05_1', 1),\n",
       " ('r6_06_1', 1),\n",
       " ('change_production_methods', 1),\n",
       " ('constraint_5_total_severity', 1),\n",
       " ('change_communal_storage', 1),\n",
       " ('r2_18', 1),\n",
       " ('livestock_fodder_value', 1),\n",
       " ('r2_15_5', 1),\n",
       " ('r3_07_1', 1),\n",
       " ('change_land', 1),\n",
       " ('constraint_8_total_severity', 1),\n",
       " ('job_trader', 1),\n",
       " ('change_water_harvesting', 1),\n",
       " ('r6_04_1', 1),\n",
       " ('average_monthly_income', 1),\n",
       " ('change_migration', 1),\n",
       " ('constraint_3_total_severity', 1),\n",
       " ('r6_02_2', 1),\n",
       " ('r3_03_1', 1),\n",
       " ('r2_22', 1),\n",
       " ('change_insurance', 1),\n",
       " ('constraint_9_total_severity', 1),\n",
       " ('r2_15_3', 1),\n",
       " ('r2_19', 1),\n",
       " ('r6_08_2', 1),\n",
       " ('r3_04_2', 1),\n",
       " ('r6_03_2', 1),\n",
       " ('r6_03_4', 1),\n",
       " ('constraint_6_total_severity', 1),\n",
       " ('r6_07_2', 1),\n",
       " ('r6_04_4', 1),\n",
       " ('change_off_farm_employment', 1),\n",
       " ('r6_03_1', 1),\n",
       " ('r3_02_1', 1),\n",
       " ('shocks_loss_value', 1),\n",
       " ('job_salaried_worker', 1),\n",
       " ('job_livestock_poultry_service', 1),\n",
       " ('change_planting_dates', 1),\n",
       " ('r2_21', 1),\n",
       " ('r3_06_1', 1),\n",
       " ('r6_04_3', 1),\n",
       " ('r2_23', 1),\n",
       " ('job_production', 1),\n",
       " ('r3_06_2', 1),\n",
       " ('constraint_7_total_severity', 1),\n",
       " ('r2_15_4', 1),\n",
       " ('r6_06_2', 1),\n",
       " ('r2_15_1', 1),\n",
       " ('r3_05_1', 1),\n",
       " ('constraint_2_total_severity', 1),\n",
       " ('constraint_4_total_severity', 1),\n",
       " ('r6_02_1', 1),\n",
       " ('r3_05_2', 1),\n",
       " ('change_other', 1),\n",
       " ('r6_03_3', 1),\n",
       " ('r3_04_1', 1),\n",
       " ('r3_03_2', 1),\n",
       " ('r3_02_2', 1),\n",
       " ('r6_07_1', 1),\n",
       " ('r6_08_1', 1),\n",
       " ('job_self_employment', 1),\n",
       " ('r6_04_2', 1),\n",
       " ('constraint_1_total_severity', 1),\n",
       " ('job_wage_labor', 1)]"
      ]
     },
     "execution_count": 140,
     "metadata": {},
     "output_type": "execute_result"
    }
   ],
   "source": [
    "feature_importance_handpicked"
   ]
  },
  {
   "cell_type": "markdown",
   "metadata": {},
   "source": [
    "### Combining approaches.."
   ]
  },
  {
   "cell_type": "code",
   "execution_count": 142,
   "metadata": {},
   "outputs": [],
   "source": [
    "features_combined_mi_scores = {}\n",
    "\n",
    "# ALSO ADD HAND PICKED FEATURES ? need to decide how to weigh them!\n",
    "for source in [feature_importance_constraint, feature_importance_adaptation]:\n",
    "    for item in source:\n",
    "        name, score = item\n",
    "        if name not in features_combined_mi_scores:\n",
    "            features_combined_mi_scores[name] = score\n",
    "        else:\n",
    "            features_combined_mi_scores[name] += score"
   ]
  },
  {
   "cell_type": "code",
   "execution_count": 143,
   "metadata": {},
   "outputs": [
    {
     "data": {
      "text/plain": [
       "[('community_code', 1.488),\n",
       " ('constraint_8_total_severity', 0.54),\n",
       " ('ezcode', 0.503),\n",
       " ('constraint_3_total_severity', 0.48300000000000004),\n",
       " ('s_05_1', 0.356),\n",
       " ('weight_food_drinks', 0.349),\n",
       " ('constraint_4_total_severity', 0.34),\n",
       " ('weight_food_other', 0.33599999999999997),\n",
       " ('constraint_2_total_severity', 0.334),\n",
       " ('constraint_7_total_severity', 0.333),\n",
       " ('j02_2_miscellaneous_expenses', 0.261),\n",
       " ('value_food_drinks', 0.25599999999999995),\n",
       " ('constraint_1_total_severity', 0.235),\n",
       " ('change_land', 0.23300000000000004),\n",
       " ('constraint_6_total_severity', 0.23099999999999998),\n",
       " ('value_food_other_outside_home', 0.22799999999999998),\n",
       " ('change_production_methods', 0.227),\n",
       " ('k05', 0.22),\n",
       " ('positive_events_value', 0.217),\n",
       " ('value_food_edible_oil', 0.211),\n",
       " ('r2_23', 0.20700000000000002),\n",
       " ('value_agricultural_equipments', 0.20200000000000004),\n",
       " ('m03', 0.2),\n",
       " ('group_membership_farming', 0.19800000000000004),\n",
       " ('job_farming', 0.198),\n",
       " ('value_food_fruits', 0.192),\n",
       " ('constraint_9_total_severity', 0.192),\n",
       " ('value_food_other', 0.19),\n",
       " ('r2_22', 0.18500000000000003),\n",
       " ('constraint_5_total_severity', 0.18000000000000002),\n",
       " ('r6_05_1', 0.18000000000000002),\n",
       " ('j02_2_family_events_expenses', 0.179),\n",
       " ('m05', 0.178),\n",
       " ('s_06_1_1', 0.178),\n",
       " ('j02_1_fuel_expenses', 0.176),\n",
       " ('value_food_cereals', 0.17500000000000002),\n",
       " ('r3_07_2', 0.17500000000000002),\n",
       " ('r6_03_2', 0.17400000000000002),\n",
       " ('r3_02_1', 0.17399999999999996),\n",
       " ('r6_06_2', 0.166),\n",
       " ('value_livestock_poultry', 0.166),\n",
       " ('r2_19', 0.166),\n",
       " ('total_land_value_per_month', 0.165),\n",
       " ('r4_04_2_9', 0.16),\n",
       " ('k06', 0.159),\n",
       " ('r4_04_2_2', 0.15899999999999997),\n",
       " ('r4_04_1_4', 0.158),\n",
       " ('j03_1_rent_bills_taxes_fees_expenses_self', 0.158),\n",
       " ('r6_08_1', 0.157),\n",
       " ('q05_5', 0.156),\n",
       " ('r7_06_1', 0.15500000000000003),\n",
       " ('q04', 0.15500000000000003),\n",
       " ('r4_04_2_4', 0.15400000000000003),\n",
       " ('r2_17', 0.154),\n",
       " ('weight_food_meat_eggs_milk', 0.15300000000000002),\n",
       " ('r6_04_3', 0.153),\n",
       " ('r4_04_2_6', 0.15200000000000002),\n",
       " ('r4_04_1_5', 0.15100000000000002),\n",
       " ('r3_04_1', 0.151),\n",
       " ('r4_05_1', 0.14900000000000002),\n",
       " ('q05_1', 0.14900000000000002),\n",
       " ('j03_2_personal_items_clothing_expenses_social', 0.14900000000000002),\n",
       " ('s_09_2', 0.14800000000000002),\n",
       " ('r6_03_3', 0.148),\n",
       " ('value_food_pulses', 0.14700000000000002),\n",
       " ('r7_03_2', 0.14600000000000002),\n",
       " ('r6_06_1', 0.14500000000000002),\n",
       " ('r7_01_1', 0.14500000000000002),\n",
       " ('change_other', 0.14400000000000002),\n",
       " ('m09', 0.14400000000000002),\n",
       " ('r6_04_2', 0.144),\n",
       " ('r2_15_3', 0.141),\n",
       " ('r4_05_2', 0.14),\n",
       " ('r3_07_1', 0.13999999999999999),\n",
       " ('livestock_medication_value', 0.13999999999999999),\n",
       " ('m01', 0.139),\n",
       " ('r3_03_1', 0.137),\n",
       " ('q03', 0.137),\n",
       " ('r2_18', 0.13599999999999998),\n",
       " ('r4_04_1_2', 0.135),\n",
       " ('r3_04_2', 0.135),\n",
       " ('value_now', 0.135),\n",
       " ('r7_11_5', 0.13499999999999998),\n",
       " ('r4_04_2_7', 0.134),\n",
       " ('r6_08_2', 0.134),\n",
       " ('j03_1_fuel_expenses_self', 0.134),\n",
       " ('s_09_1', 0.133),\n",
       " ('change_fertilizer', 0.131),\n",
       " ('s_04_1', 0.131),\n",
       " ('r4_04_2_5', 0.131),\n",
       " ('plot_type', 0.13),\n",
       " ('r2_15_1', 0.129),\n",
       " ('r4_04_2_3', 0.129),\n",
       " ('r4_04_1_3', 0.129),\n",
       " ('r4_04_1_1', 0.129),\n",
       " ('m10', 0.12899999999999998),\n",
       " ('r7_07_1', 0.128),\n",
       " ('r4_04_2_1', 0.127),\n",
       " ('r4_04_1_6', 0.12699999999999997),\n",
       " ('r7_08_2', 0.126),\n",
       " ('household_size', 0.126),\n",
       " ('s_02_2', 0.126),\n",
       " ('j02_1_rent_bills_taxes_fees_expenses', 0.126),\n",
       " ('calamity_4_loss', 0.12499999999999999),\n",
       " ('s_03_1', 0.12499999999999999),\n",
       " ('s_02_1', 0.124),\n",
       " ('r6_07_1', 0.124),\n",
       " ('r7_08_1', 0.12300000000000001),\n",
       " ('r7_06_2', 0.12300000000000001),\n",
       " ('r7_11_1', 0.123),\n",
       " ('r4_03_2', 0.123),\n",
       " ('calamity_3_action_taken', 0.123),\n",
       " ('r3_02_2', 0.12299999999999998),\n",
       " ('r7_01_2', 0.12200000000000001),\n",
       " ('calamity_4_action_taken', 0.12100000000000001),\n",
       " ('land_acquisition_means', 0.121),\n",
       " ('livestock_fodder_value', 0.121),\n",
       " ('m07', 0.121),\n",
       " ('r4_04_1_9', 0.12099999999999998),\n",
       " ('r4_03_1', 0.12000000000000001),\n",
       " ('value_food_vegetables', 0.12),\n",
       " ('credit_personal_capital_total_to_pay', 0.11900000000000001),\n",
       " ('change_off_farm_employment', 0.11800000000000001),\n",
       " ('r2_20', 0.118),\n",
       " ('r7_07_2', 0.118),\n",
       " ('credit_natural_capital_total_to_pay', 0.118),\n",
       " ('r2_15_5', 0.117),\n",
       " ('r2_21', 0.11699999999999999),\n",
       " ('value_2011', 0.11600000000000002),\n",
       " ('highest_education', 0.116),\n",
       " ('m06_5', 0.115),\n",
       " ('r6_07_2', 0.11499999999999999),\n",
       " ('m06_2', 0.11499999999999999),\n",
       " ('r6_04_1', 0.11499999999999998),\n",
       " ('shocks_loss_value', 0.11400000000000002),\n",
       " ('average_monthly_income', 0.11400000000000002),\n",
       " ('r3_06_1', 0.114),\n",
       " ('r7_05_1', 0.11399999999999999),\n",
       " ('m08_3', 0.113),\n",
       " ('r4_04_1_7', 0.11299999999999999),\n",
       " ('change_livestock_poultry', 0.112),\n",
       " ('calamity_2_loss', 0.112),\n",
       " ('r3_03_2', 0.112),\n",
       " ('credit_natural_capital_total_borrowed', 0.11100000000000002),\n",
       " ('r7_07_3', 0.111),\n",
       " ('r7_02_1', 0.11099999999999999),\n",
       " ('r7_03_1', 0.11),\n",
       " ('weight_food_fruits', 0.10900000000000001),\n",
       " ('s_03_2', 0.109),\n",
       " ('m08_5', 0.109),\n",
       " ('j02_2_personal_items_clothing_expenses', 0.109),\n",
       " ('change_planting_dates', 0.10899999999999999),\n",
       " ('r7_11_6', 0.10899999999999999),\n",
       " ('q07_3', 0.10899999999999999),\n",
       " ('r7_02_2', 0.10799999999999998),\n",
       " ('calamity_3_loss', 0.10799999999999998),\n",
       " ('j02_1_personal_items_clothing_expenses', 0.10700000000000001),\n",
       " ('sale_of_assets_value', 0.10600000000000001),\n",
       " ('r6_04_4', 0.106),\n",
       " ('r7_07_4', 0.10599999999999998),\n",
       " ('r3_06_2', 0.10500000000000001),\n",
       " ('r4_04_2_8', 0.105),\n",
       " ('j02_1_health_expenses', 0.105),\n",
       " ('r6_03_1', 0.10499999999999998),\n",
       " ('q07_1', 0.104),\n",
       " ('k01', 0.10399999999999998),\n",
       " ('calamity_9_loss', 0.10299999999999998),\n",
       " ('ratio_male_children', 0.10200000000000002),\n",
       " ('m04_1', 0.10200000000000001),\n",
       " ('value_food_leafy_vegetables', 0.10199999999999998),\n",
       " ('r7_04_1', 0.101),\n",
       " ('count_2011', 0.10099999999999999),\n",
       " ('r2_15_2', 0.10099999999999998),\n",
       " ('q02', 0.10000000000000002),\n",
       " ('r7_05_2', 0.1),\n",
       " ('calamity_11_loss', 0.09999999999999999),\n",
       " ('calamity_8_loss', 0.099),\n",
       " ('r7_11_3', 0.09899999999999999),\n",
       " ('weight_food_vegetables', 0.09800000000000002),\n",
       " ('q07_7', 0.09800000000000002),\n",
       " ('highest_literacy', 0.098),\n",
       " ('s_04_2', 0.098),\n",
       " ('r4_04_1_8', 0.098),\n",
       " ('m02_1', 0.097),\n",
       " ('q07_5', 0.09699999999999999),\n",
       " ('change_migration', 0.096),\n",
       " ('k02', 0.096),\n",
       " ('r2_15_6', 0.095),\n",
       " ('r7_04_2', 0.09499999999999999),\n",
       " ('r7_07_5', 0.09400000000000001),\n",
       " ('value_food_fish_large', 0.09400000000000001),\n",
       " ('r2_15_4', 0.094),\n",
       " ('r7_06_5', 0.094),\n",
       " ('k07', 0.094),\n",
       " ('calamity_6_loss', 0.09399999999999999),\n",
       " ('r7_11_2', 0.09300000000000001),\n",
       " ('m02_6', 0.09300000000000001),\n",
       " ('r6_03_4', 0.093),\n",
       " ('calamity_5_loss', 0.09299999999999999),\n",
       " ('soil_type', 0.09000000000000001),\n",
       " ('value_food_meat_eggs_milk', 0.09),\n",
       " ('calamity_10_loss', 0.09),\n",
       " ('r7_06_3', 0.09),\n",
       " ('j02_1_miscellaneous_expenses', 0.089),\n",
       " ('calamity_1_loss', 0.08800000000000002),\n",
       " ('count_now', 0.08700000000000001),\n",
       " ('r7_06_4', 0.087),\n",
       " ('q01_3', 0.08600000000000001),\n",
       " ('q01_2', 0.08499999999999999),\n",
       " ('r3_05_1', 0.084),\n",
       " ('r7_11_4', 0.084),\n",
       " ('calamity_7_loss', 0.08399999999999999),\n",
       " ('credit_personal_capital_total_borrowed', 0.083),\n",
       " ('s_06_4_1', 0.082),\n",
       " ('q07_9', 0.082),\n",
       " ('r3_05_2', 0.082),\n",
       " ('r6_02_1', 0.081),\n",
       " ('k03', 0.081),\n",
       " ('land_operational_status', 0.08),\n",
       " ('j02_1_transportation_vehicles_expenses', 0.08),\n",
       " ('r4_02_1', 0.07899999999999999),\n",
       " ('r7_10_2', 0.07700000000000001),\n",
       " ('value_food_spices', 0.07700000000000001),\n",
       " ('m11_7', 0.077),\n",
       " ('ratio_male', 0.07500000000000001),\n",
       " ('m11_2', 0.075),\n",
       " ('k04', 0.074),\n",
       " ('r7_10_1', 0.074),\n",
       " ('r7_09_1', 0.07300000000000001),\n",
       " ('calamity_9_action_taken', 0.07300000000000001),\n",
       " ('r6_02_2', 0.073),\n",
       " ('value_consumable_durables', 0.07100000000000001),\n",
       " ('q06', 0.07),\n",
       " ('calamity_2_action_taken', 0.06800000000000002),\n",
       " ('s_06_2_1', 0.066),\n",
       " ('r7_09_2', 0.06599999999999999),\n",
       " ('m11_5', 0.06599999999999999),\n",
       " ('m04_5', 0.065),\n",
       " ('r4_02_2', 0.06499999999999999),\n",
       " ('group_membership_NGO', 0.064),\n",
       " ('total_selling_value', 0.064),\n",
       " ('q01_4', 0.063),\n",
       " ('job_wage_labor', 0.061000000000000006),\n",
       " ('q05_3', 0.061),\n",
       " ('calamity_1_action_taken', 0.061),\n",
       " ('q07_6', 0.058),\n",
       " ('group_membership_religion', 0.057999999999999996),\n",
       " ('j02_1_education_expenses', 0.05700000000000001),\n",
       " ('group_membership_political', 0.055),\n",
       " ('change_water_harvesting', 0.053000000000000005),\n",
       " ('k05_1', 0.053),\n",
       " ('s_06_3_1', 0.053),\n",
       " ('job_self_employment', 0.05299999999999999),\n",
       " ('j02_2_education_expenses', 0.052000000000000005),\n",
       " ('s_06_6_1', 0.052000000000000005),\n",
       " ('m04_2', 0.052000000000000005),\n",
       " ('q07_2', 0.052),\n",
       " ('job_trader', 0.051000000000000004),\n",
       " ('group_membership_women', 0.05),\n",
       " ('m08_1', 0.05),\n",
       " ('m11_3', 0.04600000000000001),\n",
       " ('calamity_7_action_taken', 0.046000000000000006),\n",
       " ('s_06_4_2', 0.046),\n",
       " ('m02_5', 0.046),\n",
       " ('s_06_6_2', 0.045000000000000005),\n",
       " ('s_08_1', 0.045000000000000005),\n",
       " ('group_membership_credit', 0.045),\n",
       " ('j02_2_rent_bills_taxes_fees_expenses', 0.04400000000000001),\n",
       " ('m06_1', 0.044),\n",
       " ('group_membership_trading', 0.043000000000000003),\n",
       " ('s_07_1', 0.04100000000000001),\n",
       " ('group_membership_community', 0.04000000000000001),\n",
       " ('calamity_11_action_taken', 0.04000000000000001),\n",
       " ('j02_2_furniture_household_expenses', 0.04),\n",
       " ('m11_1', 0.04),\n",
       " ('k03_1', 0.04),\n",
       " ('q05_4', 0.038),\n",
       " ('group_membership_other', 0.037000000000000005),\n",
       " ('q05_6', 0.036000000000000004),\n",
       " ('m02_2', 0.03300000000000001),\n",
       " ('m04_4', 0.03200000000000001),\n",
       " ('s_06_1_2', 0.032),\n",
       " ('job_salaried_worker', 0.031),\n",
       " ('q05_2', 0.031),\n",
       " ('q07_8', 0.031),\n",
       " ('s_06_5_1', 0.03000000000000001),\n",
       " ('m06_3', 0.030000000000000006),\n",
       " ('m02_3', 0.028000000000000004),\n",
       " ('m02_4', 0.027999999999999997),\n",
       " ('change_crop_consumption', 0.027000000000000003),\n",
       " ('m11_4', 0.026000000000000002),\n",
       " ('m06_6', 0.025000000000000005),\n",
       " ('q01_1', 0.024000000000000004),\n",
       " ('s_08_2', 0.024),\n",
       " ('q05_7', 0.024),\n",
       " ('calamity_6_action_taken', 0.024),\n",
       " ('s_07_2', 0.021000000000000005),\n",
       " ('m08_4', 0.021000000000000005),\n",
       " ('job_production', 0.02),\n",
       " ('m04_3', 0.02),\n",
       " ('s_06_3_2', 0.019),\n",
       " ('s_06_2_2', 0.018000000000000002),\n",
       " ('group_membership_cultural', 0.018000000000000002),\n",
       " ('m08_6', 0.018000000000000002),\n",
       " ('m06_7', 0.017),\n",
       " ('q07_4', 0.016),\n",
       " ('m11_6', 0.015000000000000003),\n",
       " ('m06_4', 0.013000000000000001),\n",
       " ('m08_2', 0.013000000000000001),\n",
       " ('calamity_8_action_taken', 0.012),\n",
       " ('m02_7', 0.011000000000000001),\n",
       " ('group_membership_sports', 0.011),\n",
       " ('calamity_5_action_taken', 0.009000000000000001),\n",
       " ('m04_6', 0.009000000000000001),\n",
       " ('calamity_10_action_taken', 0.008),\n",
       " ('change_communal_storage', 0.007),\n",
       " ('job_livestock_poultry_service', 0.006),\n",
       " ('calamity_12_action_taken', 0.004),\n",
       " ('change_insurance', 0.0),\n",
       " ('group_membership_health', 0.0),\n",
       " ('s_06_5_2', 0.0)]"
      ]
     },
     "execution_count": 143,
     "metadata": {},
     "output_type": "execute_result"
    }
   ],
   "source": [
    "sorted_features = sorted([(k, features_combined_mi_scores[k]) for k in features_combined_mi_scores.keys()], \n",
    "                         key = lambda k: features_combined_mi_scores[k[0]], reverse=True)\n",
    "sorted_features"
   ]
  },
  {
   "cell_type": "code",
   "execution_count": 161,
   "metadata": {},
   "outputs": [],
   "source": [
    "top_features = [x[0] for x in sorted_features][:61]"
   ]
  },
  {
   "cell_type": "code",
   "execution_count": null,
   "metadata": {},
   "outputs": [],
   "source": []
  },
  {
   "cell_type": "code",
   "execution_count": null,
   "metadata": {},
   "outputs": [],
   "source": []
  },
  {
   "cell_type": "code",
   "execution_count": null,
   "metadata": {},
   "outputs": [],
   "source": []
  },
  {
   "cell_type": "code",
   "execution_count": 142,
   "metadata": {},
   "outputs": [],
   "source": [
    "top_features = [x[0] for x in feature_importance_handpicked] + [\"community_code\"]"
   ]
  },
  {
   "cell_type": "code",
   "execution_count": 143,
   "metadata": {},
   "outputs": [],
   "source": [
    "top_features = list(set(top_features))"
   ]
  },
  {
   "cell_type": "markdown",
   "metadata": {},
   "source": [
    "___"
   ]
  },
  {
   "cell_type": "markdown",
   "metadata": {},
   "source": [
    "# Continuous to Categorical"
   ]
  },
  {
   "cell_type": "code",
   "execution_count": 145,
   "metadata": {},
   "outputs": [],
   "source": [
    "def discretise_continuous_features(df, top_features):\n",
    "    \n",
    "    df_top = df[list(top_features)]\n",
    "    \n",
    "    new_labels = {}\n",
    "    for item in top_features:\n",
    "        if item in variable_types[\"continuous\"]:\n",
    "            vals = np.array([x for x in df[item] if not np.isnan(x)])\n",
    "\n",
    "            # determine p0 value yielding no more than 5 bins\n",
    "            for p0 in [10**i for i in range(-1, -20, -1)]:\n",
    "                edges = bayesian_blocks(vals, fitness='events', p0=p0)\n",
    "                if len(edges) <= 6:\n",
    "                    break  \n",
    "\n",
    "            # assign categorical labels\n",
    "            new_labels[item] = []\n",
    "\n",
    "            vals = df[item]\n",
    "            for val in vals:\n",
    "                if np.isnan(val):\n",
    "                    new_labels[item].append(-1)\n",
    "                    continue\n",
    "                for i, e in enumerate(edges[1:]):\n",
    "                    if val <= e:\n",
    "                        new_labels[item].append(int(i))\n",
    "                        break\n",
    "    \n",
    "    for l, new_vals in new_labels.items():\n",
    "        df_top[l] = new_vals\n",
    "        \n",
    "    # fill any remaining NaN values with -1\n",
    "    df_top = df_top.fillna(-1)\n",
    "    \n",
    "    return df_top"
   ]
  },
  {
   "cell_type": "markdown",
   "metadata": {},
   "source": [
    "# Save top feature dataframe"
   ]
  },
  {
   "cell_type": "code",
   "execution_count": 146,
   "metadata": {},
   "outputs": [
    {
     "data": {
      "text/html": [
       "<div>\n",
       "<style scoped>\n",
       "    .dataframe tbody tr th:only-of-type {\n",
       "        vertical-align: middle;\n",
       "    }\n",
       "\n",
       "    .dataframe tbody tr th {\n",
       "        vertical-align: top;\n",
       "    }\n",
       "\n",
       "    .dataframe thead th {\n",
       "        text-align: right;\n",
       "    }\n",
       "</style>\n",
       "<table border=\"1\" class=\"dataframe\">\n",
       "  <thead>\n",
       "    <tr style=\"text-align: right;\">\n",
       "      <th></th>\n",
       "      <th>job_farming</th>\n",
       "      <th>livestock_medication_value</th>\n",
       "      <th>r2_15_2</th>\n",
       "      <th>change_crop_consumption</th>\n",
       "      <th>r2_20</th>\n",
       "      <th>r2_17</th>\n",
       "      <th>r2_15_6</th>\n",
       "      <th>r3_07_2</th>\n",
       "      <th>change_fertilizer</th>\n",
       "      <th>change_livestock_poultry</th>\n",
       "      <th>...</th>\n",
       "      <th>r3_04_1</th>\n",
       "      <th>r3_03_2</th>\n",
       "      <th>r3_02_2</th>\n",
       "      <th>r6_07_1</th>\n",
       "      <th>r6_08_1</th>\n",
       "      <th>job_self_employment</th>\n",
       "      <th>r6_04_2</th>\n",
       "      <th>job_wage_labor</th>\n",
       "      <th>r6_03_2</th>\n",
       "      <th>r2_18</th>\n",
       "    </tr>\n",
       "  </thead>\n",
       "  <tbody>\n",
       "    <tr>\n",
       "      <th>0</th>\n",
       "      <td>3</td>\n",
       "      <td>2</td>\n",
       "      <td>0</td>\n",
       "      <td>0.0</td>\n",
       "      <td>0</td>\n",
       "      <td>1</td>\n",
       "      <td>0</td>\n",
       "      <td>3</td>\n",
       "      <td>1.0</td>\n",
       "      <td>1.0</td>\n",
       "      <td>...</td>\n",
       "      <td>0</td>\n",
       "      <td>3</td>\n",
       "      <td>3</td>\n",
       "      <td>1.0</td>\n",
       "      <td>4.0</td>\n",
       "      <td>1</td>\n",
       "      <td>1</td>\n",
       "      <td>0</td>\n",
       "      <td>2</td>\n",
       "      <td>0</td>\n",
       "    </tr>\n",
       "    <tr>\n",
       "      <th>1</th>\n",
       "      <td>3</td>\n",
       "      <td>2</td>\n",
       "      <td>0</td>\n",
       "      <td>0.0</td>\n",
       "      <td>0</td>\n",
       "      <td>1</td>\n",
       "      <td>0</td>\n",
       "      <td>2</td>\n",
       "      <td>1.0</td>\n",
       "      <td>1.0</td>\n",
       "      <td>...</td>\n",
       "      <td>0</td>\n",
       "      <td>1</td>\n",
       "      <td>2</td>\n",
       "      <td>1.0</td>\n",
       "      <td>1.0</td>\n",
       "      <td>0</td>\n",
       "      <td>0</td>\n",
       "      <td>1</td>\n",
       "      <td>0</td>\n",
       "      <td>0</td>\n",
       "    </tr>\n",
       "    <tr>\n",
       "      <th>2</th>\n",
       "      <td>3</td>\n",
       "      <td>1</td>\n",
       "      <td>0</td>\n",
       "      <td>0.0</td>\n",
       "      <td>0</td>\n",
       "      <td>0</td>\n",
       "      <td>0</td>\n",
       "      <td>1</td>\n",
       "      <td>1.0</td>\n",
       "      <td>1.0</td>\n",
       "      <td>...</td>\n",
       "      <td>0</td>\n",
       "      <td>1</td>\n",
       "      <td>1</td>\n",
       "      <td>1.0</td>\n",
       "      <td>1.0</td>\n",
       "      <td>1</td>\n",
       "      <td>0</td>\n",
       "      <td>0</td>\n",
       "      <td>1</td>\n",
       "      <td>0</td>\n",
       "    </tr>\n",
       "    <tr>\n",
       "      <th>3</th>\n",
       "      <td>4</td>\n",
       "      <td>3</td>\n",
       "      <td>0</td>\n",
       "      <td>0.0</td>\n",
       "      <td>1</td>\n",
       "      <td>0</td>\n",
       "      <td>0</td>\n",
       "      <td>0</td>\n",
       "      <td>1.0</td>\n",
       "      <td>1.0</td>\n",
       "      <td>...</td>\n",
       "      <td>1</td>\n",
       "      <td>1</td>\n",
       "      <td>1</td>\n",
       "      <td>1.0</td>\n",
       "      <td>2.0</td>\n",
       "      <td>0</td>\n",
       "      <td>0</td>\n",
       "      <td>0</td>\n",
       "      <td>1</td>\n",
       "      <td>0</td>\n",
       "    </tr>\n",
       "    <tr>\n",
       "      <th>4</th>\n",
       "      <td>2</td>\n",
       "      <td>0</td>\n",
       "      <td>0</td>\n",
       "      <td>0.0</td>\n",
       "      <td>1</td>\n",
       "      <td>0</td>\n",
       "      <td>0</td>\n",
       "      <td>1</td>\n",
       "      <td>1.0</td>\n",
       "      <td>1.0</td>\n",
       "      <td>...</td>\n",
       "      <td>-1</td>\n",
       "      <td>2</td>\n",
       "      <td>3</td>\n",
       "      <td>-1.0</td>\n",
       "      <td>-1.0</td>\n",
       "      <td>1</td>\n",
       "      <td>0</td>\n",
       "      <td>0</td>\n",
       "      <td>1</td>\n",
       "      <td>0</td>\n",
       "    </tr>\n",
       "    <tr>\n",
       "      <th>...</th>\n",
       "      <td>...</td>\n",
       "      <td>...</td>\n",
       "      <td>...</td>\n",
       "      <td>...</td>\n",
       "      <td>...</td>\n",
       "      <td>...</td>\n",
       "      <td>...</td>\n",
       "      <td>...</td>\n",
       "      <td>...</td>\n",
       "      <td>...</td>\n",
       "      <td>...</td>\n",
       "      <td>...</td>\n",
       "      <td>...</td>\n",
       "      <td>...</td>\n",
       "      <td>...</td>\n",
       "      <td>...</td>\n",
       "      <td>...</td>\n",
       "      <td>...</td>\n",
       "      <td>...</td>\n",
       "      <td>...</td>\n",
       "      <td>...</td>\n",
       "    </tr>\n",
       "    <tr>\n",
       "      <th>822</th>\n",
       "      <td>3</td>\n",
       "      <td>2</td>\n",
       "      <td>0</td>\n",
       "      <td>0.0</td>\n",
       "      <td>0</td>\n",
       "      <td>0</td>\n",
       "      <td>0</td>\n",
       "      <td>0</td>\n",
       "      <td>1.0</td>\n",
       "      <td>1.0</td>\n",
       "      <td>...</td>\n",
       "      <td>0</td>\n",
       "      <td>1</td>\n",
       "      <td>1</td>\n",
       "      <td>1.0</td>\n",
       "      <td>1.0</td>\n",
       "      <td>1</td>\n",
       "      <td>0</td>\n",
       "      <td>0</td>\n",
       "      <td>1</td>\n",
       "      <td>0</td>\n",
       "    </tr>\n",
       "    <tr>\n",
       "      <th>823</th>\n",
       "      <td>4</td>\n",
       "      <td>2</td>\n",
       "      <td>-1</td>\n",
       "      <td>0.0</td>\n",
       "      <td>-1</td>\n",
       "      <td>-1</td>\n",
       "      <td>-1</td>\n",
       "      <td>0</td>\n",
       "      <td>1.0</td>\n",
       "      <td>0.0</td>\n",
       "      <td>...</td>\n",
       "      <td>0</td>\n",
       "      <td>1</td>\n",
       "      <td>1</td>\n",
       "      <td>1.0</td>\n",
       "      <td>2.0</td>\n",
       "      <td>0</td>\n",
       "      <td>0</td>\n",
       "      <td>1</td>\n",
       "      <td>1</td>\n",
       "      <td>-1</td>\n",
       "    </tr>\n",
       "    <tr>\n",
       "      <th>824</th>\n",
       "      <td>2</td>\n",
       "      <td>1</td>\n",
       "      <td>0</td>\n",
       "      <td>0.0</td>\n",
       "      <td>0</td>\n",
       "      <td>0</td>\n",
       "      <td>0</td>\n",
       "      <td>1</td>\n",
       "      <td>1.0</td>\n",
       "      <td>0.0</td>\n",
       "      <td>...</td>\n",
       "      <td>0</td>\n",
       "      <td>1</td>\n",
       "      <td>1</td>\n",
       "      <td>1.0</td>\n",
       "      <td>1.0</td>\n",
       "      <td>0</td>\n",
       "      <td>2</td>\n",
       "      <td>0</td>\n",
       "      <td>3</td>\n",
       "      <td>0</td>\n",
       "    </tr>\n",
       "    <tr>\n",
       "      <th>825</th>\n",
       "      <td>3</td>\n",
       "      <td>1</td>\n",
       "      <td>2</td>\n",
       "      <td>0.0</td>\n",
       "      <td>1</td>\n",
       "      <td>0</td>\n",
       "      <td>0</td>\n",
       "      <td>2</td>\n",
       "      <td>1.0</td>\n",
       "      <td>0.0</td>\n",
       "      <td>...</td>\n",
       "      <td>0</td>\n",
       "      <td>1</td>\n",
       "      <td>1</td>\n",
       "      <td>2.0</td>\n",
       "      <td>2.0</td>\n",
       "      <td>0</td>\n",
       "      <td>0</td>\n",
       "      <td>0</td>\n",
       "      <td>1</td>\n",
       "      <td>0</td>\n",
       "    </tr>\n",
       "    <tr>\n",
       "      <th>826</th>\n",
       "      <td>3</td>\n",
       "      <td>0</td>\n",
       "      <td>-1</td>\n",
       "      <td>0.0</td>\n",
       "      <td>-1</td>\n",
       "      <td>-1</td>\n",
       "      <td>-1</td>\n",
       "      <td>1</td>\n",
       "      <td>0.0</td>\n",
       "      <td>0.0</td>\n",
       "      <td>...</td>\n",
       "      <td>-1</td>\n",
       "      <td>2</td>\n",
       "      <td>2</td>\n",
       "      <td>-1.0</td>\n",
       "      <td>-1.0</td>\n",
       "      <td>0</td>\n",
       "      <td>0</td>\n",
       "      <td>0</td>\n",
       "      <td>0</td>\n",
       "      <td>-1</td>\n",
       "    </tr>\n",
       "  </tbody>\n",
       "</table>\n",
       "<p>805 rows × 75 columns</p>\n",
       "</div>"
      ],
      "text/plain": [
       "     job_farming  livestock_medication_value  r2_15_2  \\\n",
       "0              3                           2        0   \n",
       "1              3                           2        0   \n",
       "2              3                           1        0   \n",
       "3              4                           3        0   \n",
       "4              2                           0        0   \n",
       "..           ...                         ...      ...   \n",
       "822            3                           2        0   \n",
       "823            4                           2       -1   \n",
       "824            2                           1        0   \n",
       "825            3                           1        2   \n",
       "826            3                           0       -1   \n",
       "\n",
       "     change_crop_consumption  r2_20  r2_17  r2_15_6  r3_07_2  \\\n",
       "0                        0.0      0      1        0        3   \n",
       "1                        0.0      0      1        0        2   \n",
       "2                        0.0      0      0        0        1   \n",
       "3                        0.0      1      0        0        0   \n",
       "4                        0.0      1      0        0        1   \n",
       "..                       ...    ...    ...      ...      ...   \n",
       "822                      0.0      0      0        0        0   \n",
       "823                      0.0     -1     -1       -1        0   \n",
       "824                      0.0      0      0        0        1   \n",
       "825                      0.0      1      0        0        2   \n",
       "826                      0.0     -1     -1       -1        1   \n",
       "\n",
       "     change_fertilizer  change_livestock_poultry  ...  r3_04_1  r3_03_2  \\\n",
       "0                  1.0                       1.0  ...        0        3   \n",
       "1                  1.0                       1.0  ...        0        1   \n",
       "2                  1.0                       1.0  ...        0        1   \n",
       "3                  1.0                       1.0  ...        1        1   \n",
       "4                  1.0                       1.0  ...       -1        2   \n",
       "..                 ...                       ...  ...      ...      ...   \n",
       "822                1.0                       1.0  ...        0        1   \n",
       "823                1.0                       0.0  ...        0        1   \n",
       "824                1.0                       0.0  ...        0        1   \n",
       "825                1.0                       0.0  ...        0        1   \n",
       "826                0.0                       0.0  ...       -1        2   \n",
       "\n",
       "     r3_02_2  r6_07_1  r6_08_1  job_self_employment  r6_04_2  job_wage_labor  \\\n",
       "0          3      1.0      4.0                    1        1               0   \n",
       "1          2      1.0      1.0                    0        0               1   \n",
       "2          1      1.0      1.0                    1        0               0   \n",
       "3          1      1.0      2.0                    0        0               0   \n",
       "4          3     -1.0     -1.0                    1        0               0   \n",
       "..       ...      ...      ...                  ...      ...             ...   \n",
       "822        1      1.0      1.0                    1        0               0   \n",
       "823        1      1.0      2.0                    0        0               1   \n",
       "824        1      1.0      1.0                    0        2               0   \n",
       "825        1      2.0      2.0                    0        0               0   \n",
       "826        2     -1.0     -1.0                    0        0               0   \n",
       "\n",
       "     r6_03_2  r2_18  \n",
       "0          2      0  \n",
       "1          0      0  \n",
       "2          1      0  \n",
       "3          1      0  \n",
       "4          1      0  \n",
       "..       ...    ...  \n",
       "822        1      0  \n",
       "823        1     -1  \n",
       "824        3      0  \n",
       "825        1      0  \n",
       "826        0     -1  \n",
       "\n",
       "[805 rows x 75 columns]"
      ]
     },
     "execution_count": 146,
     "metadata": {},
     "output_type": "execute_result"
    }
   ],
   "source": [
    "df_top = discretise_continuous_features(df, top_features)\n",
    "df_top.to_csv(DATA_DIR + DATA_SUBDIR + \"top_features.csv\")\n",
    "df_top.to_excel(DATA_DIR + DATA_SUBDIR + \"top_features.xlsx\", index=False)\n",
    "df_top"
   ]
  },
  {
   "cell_type": "code",
   "execution_count": 147,
   "metadata": {
    "scrolled": true
   },
   "outputs": [],
   "source": [
    "rev_var_types = {}\n",
    "for vtype, variables in variable_types.items():\n",
    "    for v in variables:\n",
    "        rev_var_types[v] = vtype\n",
    "\n",
    "top_variable_types = {}\n",
    "for item in top_features:\n",
    "    top_variable_types[item] = rev_var_types[item]\n",
    "    if len(df_top[item].unique()) == 2:\n",
    "        top_variable_types[item] = \"binary\"\n",
    "    \n",
    "with open(DATA_DIR + DATA_SUBDIR + \"top_variable_types.pickle\", \"wb\") as f:\n",
    "    pickle.dump(top_variable_types, f)"
   ]
  },
  {
   "cell_type": "markdown",
   "metadata": {},
   "source": [
    "___"
   ]
  },
  {
   "cell_type": "markdown",
   "metadata": {},
   "source": [
    "## Bayesian Blocks Experimentation"
   ]
  },
  {
   "cell_type": "code",
   "execution_count": 305,
   "metadata": {},
   "outputs": [],
   "source": [
    "def bayesian_block_comparison(feature, p0=0.05, suptitle=\"\"):\n",
    "    vals = np.array([x for x in df[feature] if not np.isnan(x)])\n",
    "    \n",
    "    DATA = [sorted(vals)[15:], sorted(TOTAL_EXPENDITURES)[10:]]\n",
    "\n",
    "    fig, axs = plt.subplots(2, 2, figsize=(12, 12))\n",
    "#     plt.suptitle(suptitle, y=1.05)\n",
    "\n",
    "    titles  = [\"Monthly Income\", \"Monthly Expenditures\"]\n",
    "    xlabels = [\"Income\", \"Expenditure\"]\n",
    "\n",
    "    for i in range(2):\n",
    "        # raw histogram\n",
    "        axs[i,0].hist(DATA[i], color=\"dodgerblue\", edgecolor=\"k\", bins=30)\n",
    "        axs[i,0].set_title(titles[i] + \" (Raw)\")\n",
    "        axs[i,0].set_xlabel(xlabels[i])\n",
    "        axs[i,0].set_ylabel(\"Frequency\")\n",
    "        \n",
    "        if i == 0:\n",
    "            axs[i,0].set_xticks(np.linspace(0, 70000, 6))\n",
    "            axs[i,1].set_xticks(np.linspace(0, 70000, 6))\n",
    "#         else:\n",
    "#             axs[i,0].set_xticks(np.linspace(0, 100000, 6))\n",
    "#             axs[i,1].set_xticks(np.linspace(0, 100000, 6))\n",
    "            \n",
    "\n",
    "        # bayesian blocks histogram\n",
    "        edges = bayesian_blocks(DATA[i], fitness='events', p0=p0)\n",
    "#         print(f\"Number of bins = {len(edges)-1}\")\n",
    "#         print(f\"Edges: {edges}\")\n",
    "        axs[i,1].hist(DATA[i], bins=edges, color=\"skyblue\", edgecolor=\"k\")\n",
    "        axs[i,1].set_title(titles[i] + \" (Bayesian Blocks)\")\n",
    "        axs[i,1].set_xlabel(xlabels[i])\n",
    "\n",
    "    \n",
    "    plt.savefig(\"bayesian_blocks.pdf\", bbox_inches=\"tight\")\n",
    "    plt.tight_layout()\n",
    "    plt.show()\n",
    "    \n",
    "    return vals"
   ]
  },
  {
   "cell_type": "code",
   "execution_count": 306,
   "metadata": {
    "scrolled": false
   },
   "outputs": [
    {
     "data": {
      "image/png": "[encoded data removed]",
      "text/plain": [
       "<Figure size 1200x1200 with 4 Axes>"
      ]
     },
     "metadata": {},
     "output_type": "display_data"
    }
   ],
   "source": [
    "values = bayesian_block_comparison(\"average_monthly_income\", p0=1e-5,)"
   ]
  },
  {
   "cell_type": "code",
   "execution_count": null,
   "metadata": {},
   "outputs": [],
   "source": []
  },
  {
   "cell_type": "code",
   "execution_count": null,
   "metadata": {},
   "outputs": [],
   "source": []
  },
  {
   "cell_type": "code",
   "execution_count": null,
   "metadata": {},
   "outputs": [],
   "source": []
  },
  {
   "cell_type": "code",
   "execution_count": null,
   "metadata": {},
   "outputs": [],
   "source": []
  },
  {
   "cell_type": "code",
   "execution_count": 327,
   "metadata": {},
   "outputs": [],
   "source": [
    "def fit(vals, p0=0.05):\n",
    "    \"\"\"Fit the Bayesian Blocks model given the specified fitness function.\n",
    "\n",
    "    Parameters\n",
    "    ----------\n",
    "    t : array-like\n",
    "        data times (one dimensional, length N)\n",
    "    x : array-like, optional\n",
    "        data values\n",
    "    Returns\n",
    "    -------\n",
    "    edges : ndarray\n",
    "        array containing the (M+1) edges defining the M optimal bins\n",
    "    \"\"\"\n",
    "    unq_t, unq_ind, unq_inv = np.unique(vals, return_index=True, return_inverse=True)\n",
    "    \n",
    "    # unique values\n",
    "    t = unq_t\n",
    "    print(f\"t            : {t}\")\n",
    "    # count the unique values\n",
    "    x = np.bincount(unq_inv)\n",
    "    print(f\"x            : {x}\")\n",
    "    \n",
    "    # create array of length (N + 1) of cell edges\n",
    "    edges = np.concatenate([t[:1], 0.5 * (t[1:] + t[:-1]), t[-1:]])\n",
    "    print(f\"edges        : {edges}\")\n",
    "    block_length = t[-1] - edges\n",
    "    print(f\"block length : {block_length}\")\n",
    "    print(\"__________________________________________________________________________\")\n",
    "    print()\n",
    "\n",
    "    # arrays to store the best configuration\n",
    "    N = len(t)\n",
    "    best = np.zeros(N, dtype=float)\n",
    "    last = np.zeros(N, dtype=int)\n",
    "\n",
    "    # Compute ncp_prior if not defined\n",
    "    ncp_prior = 4 - np.log(73.53 * p0 * (N**-0.478))\n",
    "\n",
    "    # ----------------------------------------------------------------\n",
    "    # Start with first data cell; add one cell at each iteration\n",
    "    # ----------------------------------------------------------------\n",
    "    for R in range(N):\n",
    "        print(f\"(iteration R = {R})\")\n",
    "        # Compute the width and count of the final bin for all possible\n",
    "        # locations of the K^th changepoint\n",
    "        T_k = block_length[: (R + 1)] - block_length[R + 1] # width/duration of each block\n",
    "        print(f\"T_k = {T_k}\")\n",
    "        N_k = np.cumsum(x[: (R + 1)][::-1])[::-1] # number of elements in each block\n",
    "        print(f\"N_k = {N_k}\")\n",
    "        \n",
    "        # evaluate fitness function for these possibilities\n",
    "        fit_vec = N_k * (np.log(N_k / T_k))\n",
    "        print(f\"fit vec = {fit_vec}\")\n",
    "\n",
    "        A_R = fit_vec - ncp_prior\n",
    "        A_R[1:] += best[:R]\n",
    "        print(f\"A_R     = {A_R}\")\n",
    "\n",
    "        # find the max of the fitness: this is the K^th changepoint\n",
    "        i_max = np.argmax(A_R)\n",
    "        last[R] = i_max\n",
    "        best[R] = A_R[i_max]\n",
    "        \n",
    "        print(f\"i max   = {i_max}\")\n",
    "        print(f\"last    = {last}\")\n",
    "        print(f\"best    = {best}\")\n",
    "        print(\"__________________________________________________________________________\")\n",
    "        print()\n",
    "\n",
    "    # ----------------------------------------------------------------\n",
    "    # Now find changepoints by iteratively peeling off the last block\n",
    "    # ----------------------------------------------------------------\n",
    "    change_points = np.zeros(N, dtype=int)\n",
    "    i_cp = N\n",
    "    ind = N\n",
    "    while i_cp > 0:\n",
    "        i_cp -= 1\n",
    "        change_points[i_cp] = ind\n",
    "        if ind == 0:\n",
    "            break\n",
    "        ind = last[ind - 1]\n",
    "\n",
    "    if i_cp == 0:\n",
    "        change_points[i_cp] = 0\n",
    "    change_points = change_points[i_cp:]\n",
    "    print(change_points)\n",
    "\n",
    "    return edges[change_points]"
   ]
  },
  {
   "cell_type": "code",
   "execution_count": 370,
   "metadata": {
    "scrolled": true
   },
   "outputs": [
    {
     "name": "stdout",
     "output_type": "stream",
     "text": [
      "t            : [2 3 4 5 6]\n",
      "x            : [ 1  1 11  1  1]\n",
      "edges        : [2.  2.5 3.5 4.5 5.5 6. ]\n",
      "block length : [4.  3.5 2.5 1.5 0.5 0. ]\n",
      "__________________________________________________________________________\n",
      "\n",
      "(iteration R = 0)\n",
      "T_k = [0.5]\n",
      "N_k = [1]\n",
      "fit vec = [0.69314718]\n",
      "A_R     = [0.55800158]\n",
      "i max   = 0\n",
      "last    = [0 0 0 0 0]\n",
      "best    = [0.55800158 0.         0.         0.         0.        ]\n",
      "__________________________________________________________________________\n",
      "\n",
      "(iteration R = 1)\n",
      "T_k = [1.5 1. ]\n",
      "N_k = [2 1]\n",
      "fit vec = [0.57536414 0.        ]\n",
      "A_R     = [0.44021855 0.42285598]\n",
      "i max   = 0\n",
      "last    = [0 0 0 0 0]\n",
      "best    = [0.55800158 0.44021855 0.         0.         0.        ]\n",
      "__________________________________________________________________________\n",
      "\n",
      "(iteration R = 2)\n",
      "T_k = [2.5 2.  1. ]\n",
      "N_k = [13 12 11]\n",
      "fit vec = [21.43256213 21.50111363 26.376848  ]\n",
      "A_R     = [21.29741653 21.92396961 26.68192095]\n",
      "i max   = 2\n",
      "last    = [0 0 2 0 0]\n",
      "best    = [ 0.55800158  0.44021855 26.68192095  0.          0.        ]\n",
      "__________________________________________________________________________\n",
      "\n",
      "(iteration R = 3)\n",
      "T_k = [3.5 3.  2.  1. ]\n",
      "N_k = [14 13 12  1]\n",
      "fit vec = [19.40812106 19.06238189 21.50111363  0.        ]\n",
      "A_R     = [19.27297546 19.48523788 21.80618658 26.54677535]\n",
      "i max   = 3\n",
      "last    = [0 0 2 3 0]\n",
      "best    = [ 0.55800158  0.44021855 26.68192095 26.54677535  0.        ]\n",
      "__________________________________________________________________________\n",
      "\n",
      "(iteration R = 4)\n",
      "T_k = [4.  3.5 2.5 1.5 0.5]\n",
      "N_k = [15 14 13  2  1]\n",
      "fit vec = [19.8263376  19.40812106 21.43256213  0.57536414  0.69314718]\n",
      "A_R     = [19.691192   19.83097704 21.73763508 27.12213949 27.10477693]\n",
      "i max   = 3\n",
      "last    = [0 0 2 3 3]\n",
      "best    = [ 0.55800158  0.44021855 26.68192095 26.54677535 27.12213949]\n",
      "__________________________________________________________________________\n",
      "\n",
      "[0 2 3 5]\n",
      "3 bins\n"
     ]
    },
    {
     "data": {
      "image/png": "[encoded data removed]",
      "text/plain": [
       "<Figure size 600x500 with 1 Axes>"
      ]
     },
     "metadata": {},
     "output_type": "display_data"
    }
   ],
   "source": [
    "vals = [2,3,4,4,4,4,4,4,4,4,4,4,4,5,6]\n",
    "\n",
    "bins = fit(vals, p0=1.4)\n",
    "print(f\"{len(bins) - 1} bins\")\n",
    "hist, bin_edges = np.histogram(vals, bins=bins, range=None, weights=None)\n",
    "plt.bar(x=bin_edges[:-1], height=hist, width=np.diff(bin_edges), align='edge', fc='skyblue', ec='black')\n",
    "plt.show()"
   ]
  },
  {
   "cell_type": "markdown",
   "metadata": {},
   "source": [
    "___"
   ]
  },
  {
   "cell_type": "markdown",
   "metadata": {},
   "source": [
    "# Visualize livestock count/value in 2011, and now"
   ]
  },
  {
   "cell_type": "code",
   "execution_count": 148,
   "metadata": {
    "scrolled": true
   },
   "outputs": [
    {
     "data": {
      "image/png": "[encoded data removed]",
      "text/plain": [
       "<Figure size 432x288 with 1 Axes>"
      ]
     },
     "metadata": {
      "needs_background": "light"
     },
     "output_type": "display_data"
    },
    {
     "data": {
      "image/png": "[encoded data removed]",
      "text/plain": [
       "<Figure size 432x288 with 1 Axes>"
      ]
     },
     "metadata": {
      "needs_background": "light"
     },
     "output_type": "display_data"
    },
    {
     "data": {
      "image/png": "[encoded data removed]",
      "text/plain": [
       "<Figure size 432x288 with 1 Axes>"
      ]
     },
     "metadata": {
      "needs_background": "light"
     },
     "output_type": "display_data"
    }
   ],
   "source": [
    "plt.scatter(df[\"value_2011\"], df[\"value_now\"], s=5)\n",
    "plt.xlabel(\"Value 2011\")\n",
    "plt.ylabel(\"Value Now\")\n",
    "plt.xlim(0,50000)\n",
    "plt.ylim(0,50000)\n",
    "plt.plot(np.linspace(0,50000, 1000), np.linspace(0,50000, 1000), color=\"red\", linestyle=\"dashed\")\n",
    "plt.show()\n",
    "\n",
    "\n",
    "plt.scatter(df[\"value_2011\"], df[\"value_now\"], s=5)\n",
    "plt.xlabel(\"Value 2011\")\n",
    "plt.ylabel(\"Value Now\")\n",
    "plt.plot(np.linspace(0,50000, 1000), np.linspace(0,50000, 1000), color=\"red\", linestyle=\"dashed\")\n",
    "plt.show()\n",
    "\n",
    "\n",
    "plt.scatter(df[\"count_2011\"], df[\"count_now\"], s=5)\n",
    "plt.xlabel(\"Count 2011\")\n",
    "plt.ylabel(\"Count Now\")\n",
    "plt.xlim(0,60)\n",
    "plt.ylim(0,60)\n",
    "plt.plot(np.linspace(0,60, 1000), np.linspace(0,60, 1000), color=\"red\", linestyle=\"dashed\")\n",
    "plt.show()"
   ]
  },
  {
   "cell_type": "markdown",
   "metadata": {},
   "source": [
    "___"
   ]
  },
  {
   "cell_type": "markdown",
   "metadata": {},
   "source": [
    "# Reference Paper: Adaptation to Climate Change in Bangladesh"
   ]
  },
  {
   "cell_type": "code",
   "execution_count": null,
   "metadata": {},
   "outputs": [],
   "source": []
  },
  {
   "cell_type": "code",
   "execution_count": 170,
   "metadata": {},
   "outputs": [],
   "source": [
    "change_cols = [c for c in df.columns if c.startswith(\"change_\")]"
   ]
  },
  {
   "cell_type": "code",
   "execution_count": 172,
   "metadata": {},
   "outputs": [
    {
     "name": "stdout",
     "output_type": "stream",
     "text": [
      "change_production_methods : 0.730\n",
      "\n",
      "change_crop_consumption : 0.052\n",
      "\n",
      "change_land : 0.720\n",
      "\n",
      "change_water_harvesting : 0.130\n",
      "\n",
      "change_insurance : 0.000\n",
      "\n",
      "change_off_farm_employment : 0.149\n",
      "\n",
      "change_migration : 0.020\n",
      "\n",
      "change_communal_storage : 0.006\n",
      "\n",
      "change_planting_dates : 0.322\n",
      "\n",
      "change_fertilizer : 0.722\n",
      "\n",
      "change_other : 0.052\n",
      "\n",
      "change_livestock_poultry : 0.467\n",
      "\n"
     ]
    }
   ],
   "source": [
    "for c in change_cols:\n",
    "    print(f\"{c} : {df[c].mean():.3f}\")\n",
    "    print()"
   ]
  },
  {
   "cell_type": "code",
   "execution_count": 175,
   "metadata": {},
   "outputs": [
    {
     "data": {
      "text/plain": [
       "count     362.000000\n",
       "mean      484.115912\n",
       "std       475.310190\n",
       "min        20.000000\n",
       "25%       154.500000\n",
       "50%       392.500000\n",
       "75%       642.000000\n",
       "max      4357.000000\n",
       "Name: total_land_value_per_month, dtype: float64"
      ]
     },
     "execution_count": 175,
     "metadata": {},
     "output_type": "execute_result"
    }
   ],
   "source": [
    "df[\"total_land_value_per_month\"].describe()"
   ]
  },
  {
   "cell_type": "code",
   "execution_count": null,
   "metadata": {},
   "outputs": [],
   "source": []
  },
  {
   "cell_type": "code",
   "execution_count": null,
   "metadata": {},
   "outputs": [],
   "source": []
  },
  {
   "cell_type": "code",
   "execution_count": null,
   "metadata": {},
   "outputs": [],
   "source": []
  },
  {
   "cell_type": "code",
   "execution_count": null,
   "metadata": {},
   "outputs": [],
   "source": []
  },
  {
   "cell_type": "code",
   "execution_count": null,
   "metadata": {},
   "outputs": [],
   "source": []
  },
  {
   "cell_type": "code",
   "execution_count": null,
   "metadata": {},
   "outputs": [],
   "source": []
  },
  {
   "cell_type": "markdown",
   "metadata": {},
   "source": [
    "# Mutual Information Classiffication Experiment"
   ]
  },
  {
   "cell_type": "code",
   "execution_count": 182,
   "metadata": {},
   "outputs": [],
   "source": [
    "target = [0,0,1,1,2,2]\n",
    "y = np.array(target)"
   ]
  },
  {
   "cell_type": "code",
   "execution_count": 183,
   "metadata": {},
   "outputs": [
    {
     "data": {
      "text/plain": [
       "array([0.63651417, 0.63651417])"
      ]
     },
     "execution_count": 183,
     "metadata": {},
     "output_type": "execute_result"
    }
   ],
   "source": [
    "x1 = [0,0,1,1,1,1]\n",
    "x2 = [0,0,0,0,1,1]\n",
    "X = np.column_stack([x1,x2])\n",
    "mutual_info_classif(X, y, discrete_features=True, n_neighbors=3)"
   ]
  },
  {
   "cell_type": "code",
   "execution_count": 184,
   "metadata": {},
   "outputs": [
    {
     "data": {
      "text/plain": [
       "array([0.63651417, 0.63651417])"
      ]
     },
     "execution_count": 184,
     "metadata": {},
     "output_type": "execute_result"
    }
   ],
   "source": [
    "x1 = [9,9,1,1,1,1]\n",
    "x2 = [0,0,0,0,100,100]\n",
    "X = np.column_stack([x1,x2])\n",
    "mutual_info_classif(X, y, discrete_features=True, n_neighbors=3)"
   ]
  },
  {
   "cell_type": "code",
   "execution_count": 185,
   "metadata": {},
   "outputs": [
    {
     "name": "stdout",
     "output_type": "stream",
     "text": [
      "[0.63651417]\n",
      "[0.63651417]\n"
     ]
    }
   ],
   "source": [
    "x1 = [9,9,1,1,1,1]\n",
    "x2 = [0,0,0,0,100,100]\n",
    "print(mutual_info_classif(np.array(x1).reshape(-1, 1), y, discrete_features=True, n_neighbors=3))\n",
    "print(mutual_info_classif(np.array(x2).reshape(-1, 1), y, discrete_features=True, n_neighbors=3))"
   ]
  }
 ],
 "metadata": {
  "kernelspec": {
   "display_name": "Python 3",
   "language": "python",
   "name": "python3"
  },
  "language_info": {
   "codemirror_mode": {
    "name": "ipython",
    "version": 3
   },
   "file_extension": ".py",
   "mimetype": "text/x-python",
   "name": "python",
   "nbconvert_exporter": "python",
   "pygments_lexer": "ipython3",
   "version": "3.8.6"
  }
 },
 "nbformat": 4,
 "nbformat_minor": 5
}
