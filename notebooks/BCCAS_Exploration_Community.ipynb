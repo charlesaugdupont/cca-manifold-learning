{
 "cells": [
  {
   "cell_type": "code",
   "execution_count": 25,
   "id": "e0433fb7",
   "metadata": {},
   "outputs": [
    {
     "name": "stdout",
     "output_type": "stream",
     "text": [
      "Working directory: /Users/charlesdupont/Desktop/Thesis/code/quafing\n"
     ]
    }
   ],
   "source": [
    "import os\n",
    "os.chdir('../quafing/')\n",
    "print(f\"Working directory: {os.getcwd()}\")\n",
    "import quafing as q\n",
    "\n",
    "\n",
    "import random\n",
    "import numpy as np\n",
    "import pandas as pd\n",
    "import seaborn as sns\n",
    "import matplotlib.pyplot as plt\n",
    "from collections import Counter\n",
    "\n",
    "\n",
    "plt.rcParams.update(plt.rcParamsDefault)\n",
    "plt.rcParams.update({\"font.size\" : 15, \n",
    "                     \"figure.dpi\" : 100, \n",
    "                     \"legend.fontsize\" : 13, \n",
    "                     \"grid.alpha\" : 0.3, \n",
    "                     \"axes.grid\": True, \n",
    "                     \"axes.axisbelow\" : True, \n",
    "                     \"figure.figsize\":(6, 5)})"
   ]
  },
  {
   "cell_type": "code",
   "execution_count": 2,
   "id": "2d21b3a1",
   "metadata": {},
   "outputs": [],
   "source": [
    "def load_data(path):\n",
    "    \"\"\"\n",
    "    Loads .dta file using provided path.\n",
    "    \"\"\"\n",
    "    return pd.read_stata(path, convert_categoricals=False)\n",
    "\n",
    "\n",
    "def plot_missing_prop(df):\n",
    "    \"\"\"\n",
    "    Plots bar graph to visualize proportion of missing entries for each column of provided df.\n",
    "    \"\"\"\n",
    "    missing_prop = {}\n",
    "    L = len(df)\n",
    "    for col in df.columns:\n",
    "        missing_prop[col] = df[col].isna().sum()/L\n",
    "    ordered_keys = sorted(missing_prop.keys(), key=lambda x: missing_prop[x], reverse=True)\n",
    "    plt.figure(figsize=(10, 4))\n",
    "    plt.bar(np.arange(len(missing_prop)), [missing_prop[k] for k in ordered_keys], color=\"dodgerblue\")\n",
    "    plt.xticks(np.arange(len(missing_prop)), ordered_keys, rotation=90)\n",
    "    plt.ylabel(\"Proportion Missing\")\n",
    "    plt.show()\n",
    "    \n",
    "    \n",
    "def plot_categorical_feature_frequency(df, col, sort=True, xlabel=None, xticks_dict={}, \n",
    "                                       save=False, save_filename=None):\n",
    "    freq = Counter(df[col])\n",
    "    freq = {k:v for k,v in freq.items() if not np.isnan(k)}\n",
    "    L = len(freq)\n",
    "    if sort:\n",
    "        ordered_keys = sorted(freq.keys(), key=lambda x: freq[x], reverse=True)\n",
    "    else:\n",
    "        ordered_keys = sorted(freq.keys(), key=lambda x: x)\n",
    "    plt.figure(figsize=(12,4))\n",
    "    plt.bar(np.arange(L), [freq[k] for k in ordered_keys], color=\"dodgerblue\", alpha=0.8)\n",
    "    if xticks_dict:\n",
    "        plt.xticks(np.arange(L), [xticks_dict[k] for k in ordered_keys], rotation=90)\n",
    "    else:\n",
    "        plt.xticks(np.arange(L), ordered_keys, rotation=90)\n",
    "    plt.ylabel(\"Frequency\")\n",
    "    if xlabel:\n",
    "        plt.xlabel(xlabel, labelpad=20)\n",
    "    else:\n",
    "        plt.xlabel(col, labelpad=20)\n",
    "        \n",
    "    if save:\n",
    "        plt.savefig(save_filename)\n",
    "        \n",
    "    plt.show()"
   ]
  },
  {
   "cell_type": "code",
   "execution_count": 3,
   "id": "68584b56",
   "metadata": {},
   "outputs": [],
   "source": [
    "DATA_DIR = \"../../BCCASII/\""
   ]
  },
  {
   "cell_type": "markdown",
   "id": "29949477",
   "metadata": {},
   "source": [
    "# Community"
   ]
  },
  {
   "cell_type": "code",
   "execution_count": 4,
   "id": "69120a0f",
   "metadata": {},
   "outputs": [],
   "source": [
    "DATA_SUBDIR = \"Community/\""
   ]
  },
  {
   "cell_type": "code",
   "execution_count": null,
   "id": "e68b9a61",
   "metadata": {},
   "outputs": [],
   "source": []
  }
 ],
 "metadata": {
  "kernelspec": {
   "display_name": "Python 3",
   "language": "python",
   "name": "python3"
  },
  "language_info": {
   "codemirror_mode": {
    "name": "ipython",
    "version": 3
   },
   "file_extension": ".py",
   "mimetype": "text/x-python",
   "name": "python",
   "nbconvert_exporter": "python",
   "pygments_lexer": "ipython3",
   "version": "3.8.6"
  }
 },
 "nbformat": 4,
 "nbformat_minor": 5
}
