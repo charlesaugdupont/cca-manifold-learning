{
 "cells": [
  {
   "cell_type": "markdown",
   "id": "e64a10d4-d184-4337-99a6-913f7a46fc3c",
   "metadata": {},
   "source": [
    "# Quafing example workflow\n",
    "\n",
    "This notebook demonstrates the use of quafing on the basis of an example workflow analysing quesstionaire data about subaks. The answers to the individual questions are assumed to be entirely independent.\n"
   ]
  },
  {
   "cell_type": "markdown",
   "id": "529cb6ba-cd1e-4e37-b86b-996f3ff6461d",
   "metadata": {},
   "source": [
    "This notebook assumes that it being executed from `quafing/notebooks/`, i.e. that `quafing/quafing/` is at the same directory hierarchy level, with aa shared parent directory. Before beginning we change the working directory to this common parent directory"
   ]
  },
  {
   "cell_type": "code",
   "execution_count": 4,
   "id": "6617d7b9-ea85-42e9-8001-04b461eb9068",
   "metadata": {},
   "outputs": [
    {
     "name": "stdout",
     "output_type": "stream",
     "text": [
      "/Users/charlesdupont/Desktop/Thesis/code/quafing\n"
     ]
    }
   ],
   "source": [
    "import os\n",
    "os.chdir('../quafing/')\n",
    "print(os.getcwd())"
   ]
  },
  {
   "cell_type": "markdown",
   "id": "c54d0e37-9410-4c67-a7f0-f53b591bddc0",
   "metadata": {},
   "source": [
    "Start by importing quafing. (If quafing is installed via a package manager the previous step can be ignored)"
   ]
  },
  {
   "cell_type": "code",
   "execution_count": 7,
   "id": "c4080af1-ed2c-4853-beea-4fbc5bdb1936",
   "metadata": {},
   "outputs": [],
   "source": [
    "import quafing as q"
   ]
  },
  {
   "cell_type": "markdown",
   "id": "b0475055-db6e-43f6-877b-f7ee7e0ae4bc",
   "metadata": {},
   "source": [
    "### Data ingestion"
   ]
  },
  {
   "cell_type": "markdown",
   "id": "75b632e0-9e75-4081-8584-ded446f367d8",
   "metadata": {},
   "source": [
    "Specify the file name of the questionaire data (needs to be adapted by user)\n"
   ]
  },
  {
   "cell_type": "code",
   "execution_count": 10,
   "id": "7f8f295d-03f3-4fff-adac-84fc1328446c",
   "metadata": {},
   "outputs": [],
   "source": [
    "filepath = \"../notebooks/data/omri_subak_data.xlsx\""
   ]
  },
  {
   "cell_type": "markdown",
   "id": "34d26eb5-4621-4632-ac29-2bdb8964cbcd",
   "metadata": {},
   "source": [
    "In general for spreadsheet type files (.xlsx,.xls,.odf.,ods), quafing assumes columnar data with meta data on the columns located on the same sheet. The standard format corresponds to (all columns and row are 0-indexed):\n",
    "\n",
    "- Data and metadata are located on sheet 0.\n",
    "- Row 0 contains the column type (see below)\n",
    "- Row 1 contains the number of the asociated question\n",
    "- Row 2 (header row) contains the column names\n",
    "- Data starts on row 3\n",
    "- No rows (read 0) are skipped at the end\n",
    "\n",
    "standard row types (denoted by single str characters) are:\n",
    "\n",
    "    e: excluded\n",
    "    g: group by this column\n",
    "    c: continuous variable\n",
    "    u: unordered discrete\n",
    "    o: ordered discrete\n",
    "    b: binary\n",
    "    \n",
    "It should be emphasized that the user can depart from this standard. As long as the basic format of columnar data with metadata for each column is maintained, the actual inddicees of the rows can be changed. Similarly a different row type schema can be used, albeit preferably string based. However, such alterations require additional specification in quafings functions, while the default values are configired to support the standard schema\n"
   ]
  },
  {
   "cell_type": "code",
   "execution_count": 12,
   "id": "6b81d5d4-6a7a-4425-ad53-3000da6e65b2",
   "metadata": {},
   "outputs": [],
   "source": [
    "rawmetadata, rawdata = q.load(filepath) # no further arguments necessary in this case"
   ]
  },
  {
   "cell_type": "markdown",
   "id": "e4978e6b",
   "metadata": {},
   "source": [
    "quafing's `load` function loas data into a pandas DataFrame an creates a metadata dictionary.\n"
   ]
  },
  {
   "cell_type": "code",
   "execution_count": 13,
   "id": "d58177a3",
   "metadata": {},
   "outputs": [
    {
     "data": {
      "text/html": [
       "<div>\n",
       "<style scoped>\n",
       "    .dataframe tbody tr th:only-of-type {\n",
       "        vertical-align: middle;\n",
       "    }\n",
       "\n",
       "    .dataframe tbody tr th {\n",
       "        vertical-align: top;\n",
       "    }\n",
       "\n",
       "    .dataframe thead th {\n",
       "        text-align: right;\n",
       "    }\n",
       "</style>\n",
       "<table border=\"1\" class=\"dataframe\">\n",
       "  <thead>\n",
       "    <tr style=\"text-align: right;\">\n",
       "      <th></th>\n",
       "      <th>Name of Subak</th>\n",
       "      <th>Number of farmers</th>\n",
       "      <th>Ownership</th>\n",
       "      <th>sharecrop</th>\n",
       "      <th>inherited</th>\n",
       "      <th>purchased</th>\n",
       "      <th>sold</th>\n",
       "      <th>income from sawah</th>\n",
       "      <th>harvest kg/ha</th>\n",
       "      <th>satisfaction</th>\n",
       "      <th>...</th>\n",
       "      <th>organization of collective work</th>\n",
       "      <th>reading and following written rules</th>\n",
       "      <th>fines frequency</th>\n",
       "      <th>condition of subak</th>\n",
       "      <th>subal meeting effectiveness</th>\n",
       "      <th>frequency of tehcnical problems</th>\n",
       "      <th>frequency of social problems</th>\n",
       "      <th>caste conflicts effects</th>\n",
       "      <th>class effect</th>\n",
       "      <th>resilience, capability to overcome difficulties</th>\n",
       "    </tr>\n",
       "  </thead>\n",
       "  <tbody>\n",
       "    <tr>\n",
       "      <th>0</th>\n",
       "      <td>TAMPUAGAN HILIR</td>\n",
       "      <td>95</td>\n",
       "      <td>0.35</td>\n",
       "      <td>0.0</td>\n",
       "      <td>0</td>\n",
       "      <td>1</td>\n",
       "      <td>0</td>\n",
       "      <td>0.25</td>\n",
       "      <td>200</td>\n",
       "      <td>2</td>\n",
       "      <td>...</td>\n",
       "      <td>1</td>\n",
       "      <td>1</td>\n",
       "      <td>0.9</td>\n",
       "      <td>4</td>\n",
       "      <td>3</td>\n",
       "      <td>2</td>\n",
       "      <td>3</td>\n",
       "      <td>3</td>\n",
       "      <td>3</td>\n",
       "      <td>2</td>\n",
       "    </tr>\n",
       "    <tr>\n",
       "      <th>1</th>\n",
       "      <td>TAMPUAGAN HILIR</td>\n",
       "      <td>95</td>\n",
       "      <td>0.60</td>\n",
       "      <td>0.0</td>\n",
       "      <td>1</td>\n",
       "      <td>0</td>\n",
       "      <td>0</td>\n",
       "      <td>0.50</td>\n",
       "      <td>250</td>\n",
       "      <td>2</td>\n",
       "      <td>...</td>\n",
       "      <td>1</td>\n",
       "      <td>1</td>\n",
       "      <td>0.9</td>\n",
       "      <td>4</td>\n",
       "      <td>3</td>\n",
       "      <td>3</td>\n",
       "      <td>3</td>\n",
       "      <td>3</td>\n",
       "      <td>3</td>\n",
       "      <td>3</td>\n",
       "    </tr>\n",
       "    <tr>\n",
       "      <th>2</th>\n",
       "      <td>TAMPUAGAN HILIR</td>\n",
       "      <td>95</td>\n",
       "      <td>0.60</td>\n",
       "      <td>0.0</td>\n",
       "      <td>1</td>\n",
       "      <td>0</td>\n",
       "      <td>1</td>\n",
       "      <td>1.00</td>\n",
       "      <td>210</td>\n",
       "      <td>3</td>\n",
       "      <td>...</td>\n",
       "      <td>1</td>\n",
       "      <td>1</td>\n",
       "      <td>0.9</td>\n",
       "      <td>5</td>\n",
       "      <td>3</td>\n",
       "      <td>2</td>\n",
       "      <td>3</td>\n",
       "      <td>3</td>\n",
       "      <td>3</td>\n",
       "      <td>2</td>\n",
       "    </tr>\n",
       "    <tr>\n",
       "      <th>3</th>\n",
       "      <td>TAMPUAGAN HILIR</td>\n",
       "      <td>95</td>\n",
       "      <td>0.25</td>\n",
       "      <td>0.0</td>\n",
       "      <td>1</td>\n",
       "      <td>0</td>\n",
       "      <td>0</td>\n",
       "      <td>0.25</td>\n",
       "      <td>200</td>\n",
       "      <td>2</td>\n",
       "      <td>...</td>\n",
       "      <td>1</td>\n",
       "      <td>1</td>\n",
       "      <td>0.9</td>\n",
       "      <td>4</td>\n",
       "      <td>2</td>\n",
       "      <td>3</td>\n",
       "      <td>2</td>\n",
       "      <td>3</td>\n",
       "      <td>3</td>\n",
       "      <td>2</td>\n",
       "    </tr>\n",
       "    <tr>\n",
       "      <th>4</th>\n",
       "      <td>TAMPUAGAN HILIR</td>\n",
       "      <td>95</td>\n",
       "      <td>0.30</td>\n",
       "      <td>0.0</td>\n",
       "      <td>1</td>\n",
       "      <td>0</td>\n",
       "      <td>0</td>\n",
       "      <td>0.50</td>\n",
       "      <td>200</td>\n",
       "      <td>3</td>\n",
       "      <td>...</td>\n",
       "      <td>1</td>\n",
       "      <td>1</td>\n",
       "      <td>0.9</td>\n",
       "      <td>5</td>\n",
       "      <td>3</td>\n",
       "      <td>2</td>\n",
       "      <td>3</td>\n",
       "      <td>3</td>\n",
       "      <td>3</td>\n",
       "      <td>3</td>\n",
       "    </tr>\n",
       "  </tbody>\n",
       "</table>\n",
       "<p>5 rows × 37 columns</p>\n",
       "</div>"
      ],
      "text/plain": [
       "     Name of Subak  Number of farmers  Ownership  sharecrop  inherited  \\\n",
       "0  TAMPUAGAN HILIR                 95       0.35        0.0          0   \n",
       "1  TAMPUAGAN HILIR                 95       0.60        0.0          1   \n",
       "2  TAMPUAGAN HILIR                 95       0.60        0.0          1   \n",
       "3  TAMPUAGAN HILIR                 95       0.25        0.0          1   \n",
       "4  TAMPUAGAN HILIR                 95       0.30        0.0          1   \n",
       "\n",
       "   purchased  sold  income from sawah  harvest kg/ha  satisfaction  ...  \\\n",
       "0          1     0               0.25            200             2  ...   \n",
       "1          0     0               0.50            250             2  ...   \n",
       "2          0     1               1.00            210             3  ...   \n",
       "3          0     0               0.25            200             2  ...   \n",
       "4          0     0               0.50            200             3  ...   \n",
       "\n",
       "   organization of collective work  reading and following written rules  \\\n",
       "0                                1                                    1   \n",
       "1                                1                                    1   \n",
       "2                                1                                    1   \n",
       "3                                1                                    1   \n",
       "4                                1                                    1   \n",
       "\n",
       "   fines frequency  condition of subak  subal meeting effectiveness  \\\n",
       "0              0.9                   4                            3   \n",
       "1              0.9                   4                            3   \n",
       "2              0.9                   5                            3   \n",
       "3              0.9                   4                            2   \n",
       "4              0.9                   5                            3   \n",
       "\n",
       "   frequency of tehcnical problems  frequency of social problems  \\\n",
       "0                                2                             3   \n",
       "1                                3                             3   \n",
       "2                                2                             3   \n",
       "3                                3                             2   \n",
       "4                                2                             3   \n",
       "\n",
       "   caste conflicts effects  class effect  \\\n",
       "0                        3             3   \n",
       "1                        3             3   \n",
       "2                        3             3   \n",
       "3                        3             3   \n",
       "4                        3             3   \n",
       "\n",
       "   resilience, capability to overcome difficulties  \n",
       "0                                                2  \n",
       "1                                                3  \n",
       "2                                                2  \n",
       "3                                                2  \n",
       "4                                                3  \n",
       "\n",
       "[5 rows x 37 columns]"
      ]
     },
     "execution_count": 13,
     "metadata": {},
     "output_type": "execute_result"
    }
   ],
   "source": [
    "rawdata.head()"
   ]
  },
  {
   "cell_type": "markdown",
   "id": "c69a0e83-2bc9-48c5-b88e-9af5dc76befd",
   "metadata": {},
   "source": [
    "### Preproccessing\n",
    "\n",
    "Further processing, however, requires additional selection, specification, and pre-processing of the data.`quafing` supplies a `PreProcessor class` for this purpose, which takes in the data aand metadata and exposes functionss to select, split, and prepare the data for processing   "
   ]
  },
  {
   "cell_type": "code",
   "execution_count": 14,
   "id": "2a8f26b8-91d3-44e9-ae72-ae6955c8a489",
   "metadata": {},
   "outputs": [],
   "source": [
    "prep = q.PreProcessor(rawdata, rawmetadata)"
   ]
  },
  {
   "cell_type": "markdown",
   "id": "7970ef92-a6d2-4daf-9e05-49390d821ba5",
   "metadata": {},
   "source": [
    "We start by selecting the columns to be analyzed. Below, we create a selection, by deselecting all columns with type 'e'. However, direct selections by type or column name, or index are also possible. "
   ]
  },
  {
   "cell_type": "code",
   "execution_count": 15,
   "id": "5bda46f3-a1a0-4372-8907-726e66b2b153",
   "metadata": {},
   "outputs": [],
   "source": [
    "prep.select_columns(cols=['e'], deselect=True)"
   ]
  },
  {
   "cell_type": "markdown",
   "id": "607f856c-6832-4dfe-aaaa-552158bf30cf",
   "metadata": {},
   "source": [
    "Next, we specify which columns contain continuous an discrete data, respectively. Quafing maintains an inner represenation of this distinction, thus supporting user defined column type schemes via this method. \n",
    "The default values, however, correspond to the standard defiined above."
   ]
  },
  {
   "cell_type": "code",
   "execution_count": 16,
   "id": "f965c740-b0a0-4710-ab88-442a2ae637a1",
   "metadata": {},
   "outputs": [],
   "source": [
    "prep.set_cont_disc()"
   ]
  },
  {
   "cell_type": "markdown",
   "id": "5d12740e-57b5-4d84-8373-07d7370545a9",
   "metadata": {},
   "source": [
    "With the data columns selected and the type of data specified, the penultimate preprocessing step is definng which density estimation methods are to be used in constructing the pdfs for each variable. This, again, can be done by column type, column name, or column index.\n",
    "\n",
    "In our example all columns contain discrete data and the answers/variables are assume to be independent. Accoordingly, for each column (selected by type) a discrete 1d pdf will be estimated. "
   ]
  },
  {
   "cell_type": "code",
   "execution_count": 17,
   "id": "ed1b6ffc-9531-4a56-bec0-2cf070a57b95",
   "metadata": {},
   "outputs": [],
   "source": [
    "prep.set_density_method(method='Discrete1D', cols=['o','u','b'])"
   ]
  },
  {
   "cell_type": "markdown",
   "id": "b32a4af7-94bd-4eab-ae19-a05d9bcb0078",
   "metadata": {},
   "source": [
    "Finally, the data is split into groups. This is based on grouping information supplied by the user (e.g. the column of type `g` in the standard format). To avoid ambiguity or mismatches with user defined type schemes, quaafing supports selection of the column to group by by column name or index only.\n",
    "Here we are grouping and spliting based on the column with index 0"
   ]
  },
  {
   "cell_type": "code",
   "execution_count": 18,
   "id": "90c9edd1-b428-479e-89fe-0bcf6b76865c",
   "metadata": {},
   "outputs": [],
   "source": [
    "prep.split_to_groups(0)"
   ]
  },
  {
   "cell_type": "markdown",
   "id": "fcf51ae0-87ff-49cc-86c1-7018dc4b9f93",
   "metadata": {},
   "source": [
    "### A collection of multi-dimensional pdfs\n",
    "\n",
    "Having preprocessed an split the data, we can create a collection of multi-dimensional pdfs -- one for each group. As the answers for each question are assumed to be independent the full joint multidimensional pdf factorizes and we can create a factorized multi-dimensional pddf for each group, combinig them into a collection. `quafing` provides a convenience function for this operation.\n"
   ]
  },
  {
   "cell_type": "code",
   "execution_count": 19,
   "id": "8fb3b372-7a19-4a48-8819-3089e519b785",
   "metadata": {},
   "outputs": [],
   "source": [
    "mdpdfcol = q.create_mdpdf_collection('factorized', prep._groups, prep._grouplabels, prep._groupcolmetadata, )"
   ]
  },
  {
   "cell_type": "markdown",
   "id": "4ccb3245-1a2c-4d28-bfc8-c7663c07a73e",
   "metadata": {},
   "source": [
    "Having created the collection we can calculate the Fisher information matrix, i.e. the matrix of pairwise FI distances.\n",
    "Several possible algorithmic approximations of the FI distance are supported (here we use the hellinger distance). Distances are computed for each constituent pdf of the factorized multi-dimensional pdfs, and aggregated to combined distance using their root mean square."
   ]
  },
  {
   "cell_type": "code",
   "execution_count": 20,
   "id": "8ef8832e-7b64-4f16-b4f2-86b9ad18bc17",
   "metadata": {},
   "outputs": [],
   "source": [
    "mdpdfcol.calculate_distance_matrix(method='hellinger', pwdist='rms')"
   ]
  },
  {
   "cell_type": "markdown",
   "id": "9df52276-0b02-41a9-a5f0-fb1edb4b4135",
   "metadata": {},
   "source": [
    "Given the distance matrix it is straight forward to determine the shortest path matrix"
   ]
  },
  {
   "cell_type": "code",
   "execution_count": 21,
   "id": "7f7d9f0e-ac99-48eb-869a-75751f5aa630",
   "metadata": {},
   "outputs": [],
   "source": [
    "mdpdfcol.calculate_shortest_path_matrix()"
   ]
  },
  {
   "cell_type": "markdown",
   "id": "29bf735c-616c-456e-bffc-f7e280b662a4",
   "metadata": {},
   "source": [
    "### Embedding\n",
    "\n",
    "Given N questions on the questionaire, the FI distances and shortest paths lie and are defined on the N-1 dimensional hypershere, making investiagting/understanding the structure of the data difficult. To this end the collection can be embedded in a lower dimensional space usingg the previously calculated information distances.\n",
    "\n",
    "`quafing` provides an `Embedder` class, with support for a range oof embeddingg algorithms (mds, further options under development)"
   ]
  },
  {
   "cell_type": "code",
   "execution_count": 22,
   "id": "1501cedf-0adc-48a0-865e-bdac10daddf3",
   "metadata": {},
   "outputs": [],
   "source": [
    "embedder = q.get_embedder('mds', mdpdfcol)"
   ]
  },
  {
   "cell_type": "markdown",
   "id": "adf011ae-4b7c-4c09-8d41-985958ad0a51",
   "metadata": {},
   "source": [
    "For example the multi-dimenssional pdf collection can be embedded in 2 dimensions"
   ]
  },
  {
   "cell_type": "code",
   "execution_count": 23,
   "id": "d88b304d-6cf0-44c5-ac68-6e232a43f4be",
   "metadata": {},
   "outputs": [],
   "source": [
    "embedding = embedder.embed(dimension=2, return_all=True)"
   ]
  },
  {
   "cell_type": "markdown",
   "id": "ea1075a3-f4b0-4c07-9929-d0cf6b98109c",
   "metadata": {},
   "source": [
    "an embeding consists of the actual embedding and a dictionary with relevant data about the settings used. It is up to the user to ensure that data/multi-dimensional pdf collection and embedding stay together"
   ]
  },
  {
   "cell_type": "code",
   "execution_count": 24,
   "id": "fa01d142-1296-4a7a-94b5-03f29972b4fd",
   "metadata": {},
   "outputs": [
    {
     "data": {
      "text/plain": [
       "{'embedding': array([[-0.90019149,  1.06525927],\n",
       "        [-3.15306911,  1.05423888],\n",
       "        [ 5.45720043,  3.53976654],\n",
       "        [-3.33779766, -0.6919272 ],\n",
       "        [-2.69507127, -1.60809684],\n",
       "        [-0.02600298, -0.23610709],\n",
       "        [-2.58932943, -2.58022469],\n",
       "        [-0.71563226, -2.62394209],\n",
       "        [ 0.16268011, -2.27493602],\n",
       "        [-1.18111943,  3.76508559],\n",
       "        [ 0.90286344,  3.61099183],\n",
       "        [ 1.55208725, -3.66736125],\n",
       "        [-2.37367816,  0.12464148],\n",
       "        [ 4.66255965, -1.18559948],\n",
       "        [ 1.94013727,  2.17950352],\n",
       "        [-1.05165742,  2.17421909],\n",
       "        [ 1.57424752, -0.18744448],\n",
       "        [ 2.7934475 , -1.15901996],\n",
       "        [ 0.41909243,  0.94191967],\n",
       "        [-1.4407664 , -2.24096678]]),\n",
       " 'auxinfo': {'n_components': 2,\n",
       "  'metric': True,\n",
       "  'max_iter': 3000,\n",
       "  'eps': 1e-09,\n",
       "  'random_state': RandomState(MT19937) at 0x7F84CAC38140,\n",
       "  'dissimilarity': 'precomputed',\n",
       "  'n_jobs': 1,\n",
       "  'dimension': 2,\n",
       "  'seed': 3,\n",
       "  'stress': 283.7979150970999,\n",
       "  'embedding_method': 'MDS'}}"
      ]
     },
     "execution_count": 24,
     "metadata": {},
     "output_type": "execute_result"
    }
   ],
   "source": [
    "embedding"
   ]
  },
  {
   "cell_type": "markdown",
   "id": "7d7b0b66-588c-42f3-ab15-0bacc019d946",
   "metadata": {},
   "source": [
    "Specifically for the MDS embedder evaluating the stress of the embedding as a function of its dimensionality (with graphical representation) is supported  "
   ]
  },
  {
   "cell_type": "code",
   "execution_count": 25,
   "id": "27e09255-d867-4277-afa2-f0a17d01c950",
   "metadata": {},
   "outputs": [
    {
     "data": {
      "image/png": "[encoded data removed]",
      "text/plain": [
       "<Figure size 432x288 with 1 Axes>"
      ]
     },
     "metadata": {
      "needs_background": "light"
     },
     "output_type": "display_data"
    },
    {
     "data": {
      "text/plain": [
       "[283.7979150970999,\n",
       " 139.9652085157024,\n",
       " 74.37560425513949,\n",
       " 46.223115959046666,\n",
       " 28.631632335192393,\n",
       " 19.343392173750274,\n",
       " 12.9461100761546,\n",
       " 9.058759981772667,\n",
       " 6.2784740221057405,\n",
       " 4.328332152160209,\n",
       " 2.9230475717968343,\n",
       " 1.9355331432101515,\n",
       " 1.267175967668865,\n",
       " 0.730795912531331,\n",
       " 0.3731495147550691,\n",
       " 0.19496856506204008,\n",
       " 0.05851172722524133,\n",
       " 3.425096521438625e-06]"
      ]
     },
     "execution_count": 25,
     "metadata": {},
     "output_type": "execute_result"
    }
   ],
   "source": [
    "embedder.eval_stress_v_dimension(plot=True)"
   ]
  },
  {
   "cell_type": "markdown",
   "id": "c1964331-e68f-4fbd-8e8a-c9190156c69d",
   "metadata": {},
   "source": [
    "### Visualization\n",
    "\n",
    "Finally, for embeddings in 2 or 3 dimensions, `quafing` also provides a convenience function for visualizing the embedding, which takes the calculated embedding and the multi-dimensional pdf collection object as inputs"
   ]
  },
  {
   "cell_type": "code",
   "execution_count": 28,
   "id": "0fa1a6ff-5e94-46d9-837c-dad43fe34467",
   "metadata": {},
   "outputs": [
    {
     "data": {
      "image/png": "[encoded data removed]",
      "text/plain": [
       "<Figure size 432x288 with 1 Axes>"
      ]
     },
     "metadata": {
      "needs_background": "light"
     },
     "output_type": "display_data"
    }
   ],
   "source": [
    "q.plot_embedding(embedding, mdpdfcol)"
   ]
  },
  {
   "cell_type": "markdown",
   "id": "46b17931-e50c-44ca-a930-759313f51e44",
   "metadata": {},
   "source": [
    "### Full capabilities\n",
    "\n",
    "This notebook is only meant to demonstrate a questionaire analysis workflow, and DOES NOT showcase all calling options (or functionalities of `quafing`). Please consult the (inline) documentation for full details. "
   ]
  }
 ],
 "metadata": {
  "kernelspec": {
   "display_name": "Python 3",
   "language": "python",
   "name": "python3"
  },
  "language_info": {
   "codemirror_mode": {
    "name": "ipython",
    "version": 3
   },
   "file_extension": ".py",
   "mimetype": "text/x-python",
   "name": "python",
   "nbconvert_exporter": "python",
   "pygments_lexer": "ipython3",
   "version": "3.8.6"
  }
 },
 "nbformat": 4,
 "nbformat_minor": 5
}
