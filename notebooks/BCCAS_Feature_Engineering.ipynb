{
 "cells": [
  {
   "cell_type": "code",
   "execution_count": 2,
   "id": "acdc0b3a",
   "metadata": {},
   "outputs": [
    {
     "name": "stdout",
     "output_type": "stream",
     "text": [
      "Working directory: /Users/charlesdupont/Desktop/Thesis/code/quafing\n"
     ]
    }
   ],
   "source": [
    "import os\n",
    "os.chdir('../quafing/')\n",
    "print(f\"Working directory: {os.getcwd()}\")\n",
    "import quafing as q\n",
    "\n",
    "\n",
    "import random\n",
    "import numpy as np\n",
    "from scipy.stats import mode\n",
    "\n",
    "import pandas as pd\n",
    "pd.options.mode.chained_assignment = None  # default='warn'\n",
    "\n",
    "import matplotlib.pyplot as plt\n",
    "\n",
    "\n",
    "plt.rcParams.update(plt.rcParamsDefault)\n",
    "plt.rcParams.update({\"font.size\" : 15, \n",
    "                     \"figure.dpi\" : 100, \n",
    "                     \"legend.fontsize\" : 13, \n",
    "                     \"grid.alpha\" : 0.3, \n",
    "                     \"axes.grid\": True, \n",
    "                     \"axes.axisbelow\" : True, \n",
    "                     \"figure.figsize\":(6, 5)})"
   ]
  },
  {
   "cell_type": "code",
   "execution_count": 424,
   "id": "e7ff95f3",
   "metadata": {},
   "outputs": [],
   "source": [
    "def load_data(path):\n",
    "    \"\"\"\n",
    "    Loads .dta file using provided path.\n",
    "    \"\"\"\n",
    "    return pd.read_stata(path, convert_categoricals=False)\n",
    "\n",
    "\n",
    "def add_missing_hhids(all_hhids, df):\n",
    "    \"\"\"\n",
    "    Adds empty rows for hhids missing from df.\n",
    "    df must already have an \"hhid\" column!\n",
    "    \"\"\"\n",
    "    missing = set(unique_hhids) - set(df[\"hhid\"].unique())\n",
    "    missing_dict = {\"hhid\":list(missing)}\n",
    "    for col in df.columns:\n",
    "        if col != \"hhid\":\n",
    "            missing_dict[col] = [np.nan]*len(missing)\n",
    "    missing_df = pd.DataFrame.from_dict(missing_dict)\n",
    "    return pd.concat([df, missing_df])\n",
    "\n",
    "\n",
    "def column_selection(df, keep=None, remove=None):\n",
    "    \"\"\"\n",
    "    Performs column selection on dataframe.\n",
    "    Args:\n",
    "        no_change: boolean indicating whether to keep all columns\n",
    "        keep: list of columns to keep\n",
    "        remove: list of columns to remove\n",
    "    Returns:\n",
    "        updated dataframe\n",
    "    \"\"\"\n",
    "    if keep:\n",
    "        return df[keep]\n",
    "    elif remove:\n",
    "        return df.loc[:, ~df.columns.isin(remove)]\n",
    "    else:\n",
    "        return df"
   ]
  },
  {
   "cell_type": "code",
   "execution_count": 394,
   "id": "425dc36e",
   "metadata": {},
   "outputs": [],
   "source": [
    "DATA_DIR = \"../../BCCASII/\"\n",
    "DATA_SUBDIR = \"Household/\""
   ]
  },
  {
   "cell_type": "markdown",
   "id": "0cae339e",
   "metadata": {},
   "source": [
    "## A: Location and identification detail"
   ]
  },
  {
   "cell_type": "code",
   "execution_count": 396,
   "id": "5cb777dc",
   "metadata": {},
   "outputs": [],
   "source": [
    "filename = \"001_mod_a.dta\"\n",
    "path = DATA_DIR + DATA_SUBDIR + filename\n",
    "df = load_data(path)"
   ]
  },
  {
   "cell_type": "code",
   "execution_count": 397,
   "id": "bb371d47",
   "metadata": {},
   "outputs": [],
   "source": [
    "# keep household ID, agro-ecological zone\n",
    "processed = column_selection(df, keep=[\"hhid\", \"ezcode\"])\n",
    "\n",
    "# construct community code from union, thana, district codes\n",
    "processed[\"community_code\"] = df[\"ucode\"].astype(str) + \"_\" + \\\n",
    "                              df[\"tcode\"].astype(str) + \"_\" + \\\n",
    "                              df[\"dcode\"].astype(str)"
   ]
  },
  {
   "cell_type": "code",
   "execution_count": 399,
   "id": "692c3c1c",
   "metadata": {},
   "outputs": [],
   "source": [
    "unique_hhids = df[\"hhid\"].unique()"
   ]
  },
  {
   "cell_type": "markdown",
   "id": "bd076776",
   "metadata": {},
   "source": [
    "## B: Household composition and education"
   ]
  },
  {
   "cell_type": "code",
   "execution_count": 401,
   "id": "43cc5d53",
   "metadata": {},
   "outputs": [],
   "source": [
    "filename = \"002_mod_b.dta\"\n",
    "path = DATA_DIR + DATA_SUBDIR + filename\n",
    "df = load_data(path)"
   ]
  },
  {
   "cell_type": "code",
   "execution_count": 412,
   "id": "ffed5994",
   "metadata": {},
   "outputs": [],
   "source": [
    "g = df.groupby(\"hhid\").count()\n",
    "\n",
    "# household size\n",
    "processed = pd.DataFrame.from_dict({\"household_size\":g[\"mid\"]})\n",
    "\n",
    "# household id\n",
    "processed[\"hhid\"] = processed.index\n",
    "\n",
    "# ratio male, female\n",
    "males = {}\n",
    "females = {}\n",
    "for hhid in unique_hhids:\n",
    "    household = df.loc[df.hhid==hhid]\n",
    "    m = sum(household[\"b01\"]==1)\n",
    "    f = sum(household[\"b01\"]==2)\n",
    "    s = max(1, m+f)\n",
    "    males[hhid] = m/s\n",
    "    females[hhid] = f/s\n",
    "processed = processed.join(pd.DataFrame.from_dict({\"ratio_male\":males}))\n",
    "processed = processed.join(pd.DataFrame.from_dict({\"ratio_female\":females}))\n",
    "\n",
    "# number of children\n",
    "num_children = {}\n",
    "for hhid in unique_hhids:\n",
    "    household = df.loc[df.hhid==hhid]\n",
    "    c = sum(household[\"b03\"] < 18)\n",
    "    num_children[hhid] = c\n",
    "processed = processed.join(pd.DataFrame.from_dict({\"number_children\":num_children}))\n",
    "\n",
    "# highest level of education\n",
    "education_ordering = [99, 66, 67, 68, 0, 1, 2, 3, 4, 5, 6, 7, 8, 9, 22, 10, 33, 12, 15, 16, 17]\n",
    "max_education = {}\n",
    "for hhid in unique_hhids:\n",
    "    household = df.loc[df.hhid==hhid]\n",
    "    education_levels = [education_ordering.index(x)\n",
    "                        for x in [x for x in list(household[\"b06\"]) if not np.isnan(x)]]\n",
    "    if len(education_levels):\n",
    "        max_education[hhid] = max(education_levels)\n",
    "    else:\n",
    "        max_education[hhid] = -1\n",
    "processed = processed.join(pd.DataFrame.from_dict({\"highest_education\":max_education}))\n",
    "\n",
    "# highest level of literacy\n",
    "literacy_ordering = [1, 2, 3, 4]\n",
    "max_literacy = {}\n",
    "for hhid in unique_hhids:\n",
    "    household = df.loc[df.hhid==hhid]\n",
    "    literacy_labels = [literacy_ordering.index(x)\n",
    "                       for x in [x for x in list(household[\"b05\"]) if not np.isnan(x)]]\n",
    "    if len(literacy_labels):\n",
    "        max_literacy[hhid] = max(literacy_labels)\n",
    "    else:\n",
    "        max_literacy[hhid] = -1\n",
    "processed = processed.join(pd.DataFrame.from_dict({\"highest_literacy\":max_literacy}))\n",
    "\n",
    "# primary occupation categories\n",
    "# categories = {\n",
    "#     \"day_labor\": [1,2,3],\n",
    "#     \"self_employ_farm\": [4,5,6,7,8],\n",
    "#     \"self_employ_non_farm\": [9],\n",
    "#     \"low_income_profession\": [10,11,12,13],\n",
    "#     \"mechanic\": [14,15],\n",
    "#     \"other\": [16, 17, 18, 19],\n",
    "#     \"non_earning\": [20,21,22,23,24,25,26]\n",
    "# }\n",
    "\n",
    "# for c, c_list in categories.items():\n",
    "#     c_dict = {hhid:0 for hhid in unique_hhids}\n",
    "#     for hhid in unique_hhids:\n",
    "#         household = df.loc[df.hhid==hhid]\n",
    "#         primary_occupation_labels = list(household[\"b08_1\"])\n",
    "#         for item in c_list:\n",
    "#             if item in primary_occupation_labels:\n",
    "#                 c_dict[hhid] += 1\n",
    "#     processed = processed.join(pd.DataFrame.from_dict({c:c_dict}))"
   ]
  },
  {
   "cell_type": "markdown",
   "id": "16ef158c",
   "metadata": {},
   "source": [
    "## C: Roster of land and water bodies owned or under operation"
   ]
  },
  {
   "cell_type": "code",
   "execution_count": 418,
   "id": "f1f009cc",
   "metadata": {},
   "outputs": [],
   "source": [
    "filename = \"003_mod_c.dta\"\n",
    "path = DATA_DIR + DATA_SUBDIR + filename\n",
    "df = load_data(path)"
   ]
  },
  {
   "cell_type": "code",
   "execution_count": 425,
   "id": "b4f33e2f",
   "metadata": {
    "scrolled": true
   },
   "outputs": [],
   "source": [
    "g = df.groupby(\"hhid\")\n",
    "\n",
    "# total land area\n",
    "processed = pd.DataFrame.from_dict({\"total_land_size\":dict(g.sum()[\"c102\"])})\n",
    "\n",
    "# household id\n",
    "processed[\"hhid\"] = processed.index\n",
    "\n",
    "# total value per month\n",
    "processed = processed.join(pd.DataFrame.from_dict({\"total_land_value_per_month\":\n",
    "                                                   dict(g.sum()[\"c113\"])}))\n",
    "\n",
    "# min land acquisition year\n",
    "processed = processed.join(pd.DataFrame.from_dict({\"min_land_acquisition_year\":\n",
    "                                                   dict(g.min()[\"c111\"])}))\n",
    "\n",
    "# max land acquisition year\n",
    "processed = processed.join(pd.DataFrame.from_dict({\"max_land_acquisition_year\":\n",
    "                                                   dict(g.max()[\"c111\"])}))\n",
    "\n",
    "# mean land acquisition year\n",
    "processed = processed.join(pd.DataFrame.from_dict({\"mean_land_acquisition_year\":\n",
    "                                                   dict(round(g.mean()[\"c111\"]))}))\n",
    "\n",
    "# most common answer from (plot type, soil type, operational status of land, acquisition means of land)\n",
    "categories = {\n",
    "    (\"plot_type\", \"c101\"): [i for i in range(1, 10)],\n",
    "    (\"soil_type\", \"c105\"): [i for i in range(1, 6)],\n",
    "    (\"land_operational_status\", \"c107\"): [i for i in range(1, 11)],\n",
    "    (\"land_acquisition_means\", \"c110\"): [i for i in range(1, 8)],\n",
    "}\n",
    "\n",
    "for c, c_list in categories.items():\n",
    "    c_dict = {hhid:0 for hhid in unique_hhids}\n",
    "    c, col = c\n",
    "    for hhid in unique_hhids:\n",
    "        household = df.loc[df.hhid==hhid]\n",
    "        labels = [x for x in list(household[col]) if not np.isnan(x)]\n",
    "        if labels:\n",
    "            c_dict[hhid] = mode(labels)[0][0]\n",
    "        else:\n",
    "            c_dict[hhid] = -1\n",
    "    processed = processed.join(pd.DataFrame.from_dict({c:c_dict}))"
   ]
  },
  {
   "cell_type": "markdown",
   "id": "cb778381",
   "metadata": {},
   "source": [
    "## F1: Livestock and poultry"
   ]
  },
  {
   "cell_type": "code",
   "execution_count": 428,
   "id": "57b18c61",
   "metadata": {},
   "outputs": [],
   "source": [
    "filename = \"004_mod_f1.dta\"\n",
    "path = DATA_DIR + DATA_SUBDIR + filename\n",
    "df = load_data(path)"
   ]
  },
  {
   "cell_type": "code",
   "execution_count": 436,
   "id": "b8e9f11c",
   "metadata": {},
   "outputs": [],
   "source": [
    "# household id\n",
    "processed = pd.DataFrame.from_dict({\"hhid\":list(unique_hhids)})\n",
    "\n",
    "categories = {\n",
    "    \"cattle_buffalo\":1,\n",
    "    \"goat_sheep\":2,\n",
    "    \"pigs\":3,\n",
    "    \"chidken_duck\":4\n",
    "}\n",
    "\n",
    "cols = [(\"count_2011\", \"f102\"), (\"value_2011\", \"f103\"), \n",
    "        (\"count_now\", \"f104\"), (\"value_now\", \"f105\"), (\"total_selling_value\", \"f117\")]   \n",
    "\n",
    "results = {hhid:{} for hhid in unique_hhids}\n",
    "for hhid in unique_hhids:\n",
    "    household = df.loc[df.hhid==hhid]\n",
    "    for c, number in categories.items():\n",
    "        if number not in list(household[\"f101\"]):\n",
    "            # TODO: handle missing value!\n",
    "            for l, _ in cols:\n",
    "                results[hhid][c+\"_\"+l] = np.nan\n",
    "        else:\n",
    "            for l, col in cols:\n",
    "                value = household.loc[household[\"f101\"]==number][col].iloc[0]\n",
    "                # TODO: handle missing value here!\n",
    "                if np.isnan(value):\n",
    "                    results[hhid][c+\"_\"+l] = np.nan\n",
    "                else:\n",
    "                    results[hhid][c+\"_\"+l] = value\n",
    "                    \n",
    "for column in results[1]:\n",
    "    processed[column] = [results[hhid][column] for hhid in results]"
   ]
  },
  {
   "cell_type": "markdown",
   "id": "e4c2d3ce",
   "metadata": {},
   "source": [
    "## F3: Expenditure for livestock, Poultry/Duckery Production Last 12 Months"
   ]
  },
  {
   "cell_type": "code",
   "execution_count": 443,
   "id": "da00b845",
   "metadata": {},
   "outputs": [],
   "source": [
    "filename = \"005_mod_f3.dta\"\n",
    "path = DATA_DIR + DATA_SUBDIR + filename\n",
    "df = load_data(path)"
   ]
  },
  {
   "cell_type": "code",
   "execution_count": 445,
   "id": "bff94559",
   "metadata": {},
   "outputs": [],
   "source": [
    "df[\"f306\"] = df[\"f306_1\"].fillna(0) + df[\"f306_2\"].fillna(0)\n",
    "df = df.groupby(\"hhid\").sum()\n",
    "processed = column_selection(df, keep=[\"f302\", \"f303\", \"f306\", \"f307\"])\n",
    "processed[\"hhid\"] = processed.index"
   ]
  },
  {
   "cell_type": "markdown",
   "id": "04d8fdac",
   "metadata": {},
   "source": [
    "## G1: Credit obtained"
   ]
  },
  {
   "cell_type": "code",
   "execution_count": 449,
   "id": "8187a82f",
   "metadata": {
    "scrolled": false
   },
   "outputs": [],
   "source": [
    "filename = \"006_mod_g.dta\"\n",
    "path = DATA_DIR + DATA_SUBDIR + filename\n",
    "df = load_data(path)"
   ]
  },
  {
   "cell_type": "code",
   "execution_count": 450,
   "id": "ba3c4685",
   "metadata": {},
   "outputs": [],
   "source": [
    "df = df.groupby(\"hhid\").sum()\n",
    "processed = column_selection(df, keep=[\"g07\", \"g10\", \"g16\", \"g18\"])\n",
    "processed[\"hhid\"] = processed.index"
   ]
  },
  {
   "cell_type": "markdown",
   "id": "fed1db87",
   "metadata": {},
   "source": [
    "## G2: Repayment and utilization of Loan"
   ]
  },
  {
   "cell_type": "code",
   "execution_count": null,
   "id": "323f57bd",
   "metadata": {},
   "outputs": [],
   "source": [
    "# TODO"
   ]
  },
  {
   "cell_type": "markdown",
   "id": "5eee13da",
   "metadata": {},
   "source": [
    "## H: Household Assets"
   ]
  },
  {
   "cell_type": "code",
   "execution_count": 453,
   "id": "18f7ba23",
   "metadata": {},
   "outputs": [],
   "source": [
    "filename = \"007_mod_h.dta\"\n",
    "path = DATA_DIR + DATA_SUBDIR + filename\n",
    "df = load_data(path)"
   ]
  },
  {
   "cell_type": "code",
   "execution_count": 454,
   "id": "9632d042",
   "metadata": {},
   "outputs": [],
   "source": [
    "# household id\n",
    "processed = pd.DataFrame.from_dict({\"hhid\":list(unique_hhids)})\n",
    "\n",
    "# total value per household asset category\n",
    "categories = {\n",
    "    \"value_consumable_durables\":[i for i in range(1, 12)],\n",
    "    \"value_transport\":[i for i in range(12, 16)],\n",
    "    \"value_livestock_poultry\":[i for i in range(16, 20)],\n",
    "    \"value_agricultural_equipments\":[i for i in range(20,29)],\n",
    "    \"value_other\":[29]\n",
    "}\n",
    "\n",
    "results = {hhid:{} for hhid in unique_hhids}\n",
    "for hhid in unique_hhids:\n",
    "    household = df.loc[df.hhid==hhid]\n",
    "    for c in categories:\n",
    "        category_assets = household.loc[household[\"asset\"].isin(categories[c])]\n",
    "        if len(category_assets):\n",
    "            results[hhid][c] = category_assets[\"h06\"].sum()\n",
    "        else:\n",
    "            results[hhid][c] = 0\n",
    "\n",
    "for column in results[1]:\n",
    "    processed[column] = [results[hhid][column] for hhid in results]"
   ]
  },
  {
   "cell_type": "markdown",
   "id": "b16a5f10",
   "metadata": {},
   "source": [
    "## H1: Assets: Sales of Assets and Change in Ownership"
   ]
  },
  {
   "cell_type": "code",
   "execution_count": 459,
   "id": "158cd62b",
   "metadata": {},
   "outputs": [],
   "source": [
    "filename = \"008_mod_h1.dta\"\n",
    "path = DATA_DIR + DATA_SUBDIR + filename\n",
    "df = load_data(path)"
   ]
  },
  {
   "cell_type": "code",
   "execution_count": 460,
   "id": "2626de12",
   "metadata": {},
   "outputs": [],
   "source": [
    "df = df.groupby(\"hhid\").sum()\n",
    "processed = column_selection(df, keep=[\"h108\"])\n",
    "processed[\"hhid\"] = processed.index"
   ]
  },
  {
   "cell_type": "markdown",
   "id": "b06dc991",
   "metadata": {},
   "source": [
    "## I: Food Consumption: Purchases, Home Production, and Other Sources"
   ]
  },
  {
   "cell_type": "code",
   "execution_count": 461,
   "id": "059091e5",
   "metadata": {},
   "outputs": [],
   "source": [
    "filename = \"009_mod_i.dta\"\n",
    "path = DATA_DIR + DATA_SUBDIR + filename\n",
    "df = load_data(path)"
   ]
  },
  {
   "cell_type": "code",
   "execution_count": 462,
   "id": "60d5cb75",
   "metadata": {},
   "outputs": [],
   "source": [
    "df = df.groupby(\"hhid\").sum()\n",
    "processed = column_selection(df, keep=[\"i07\"])\n",
    "processed[\"hhid\"] = processed.index"
   ]
  },
  {
   "cell_type": "markdown",
   "id": "d99a60c5",
   "metadata": {},
   "source": [
    "## J1, J2: Non-food Expenditure"
   ]
  },
  {
   "cell_type": "code",
   "execution_count": 464,
   "id": "516c241c",
   "metadata": {},
   "outputs": [],
   "source": [
    "filename = \"010_mod_j.dta\"\n",
    "path = DATA_DIR + DATA_SUBDIR + filename\n",
    "df = load_data(path)"
   ]
  },
  {
   "cell_type": "code",
   "execution_count": 465,
   "id": "7c6845bc",
   "metadata": {},
   "outputs": [],
   "source": [
    "df = df.groupby(\"hhid\").sum()\n",
    "procesed = column_selection(df, keep=[\"j02_2\", \"j03_2\"])\n",
    "processed[\"hhid\"] = processed.index"
   ]
  },
  {
   "cell_type": "markdown",
   "id": "fe2b5a8d",
   "metadata": {},
   "source": [
    "## K: Housing, Source of Water and sanitation"
   ]
  },
  {
   "cell_type": "code",
   "execution_count": 466,
   "id": "bd5566a9",
   "metadata": {},
   "outputs": [],
   "source": [
    "filename = \"011_mod_k.dta\"\n",
    "path = DATA_DIR + DATA_SUBDIR + filename\n",
    "df = load_data(path)"
   ]
  },
  {
   "cell_type": "code",
   "execution_count": 467,
   "id": "359896c5",
   "metadata": {},
   "outputs": [],
   "source": [
    "processed = column_selection(df, keep=[\"hhid\", \"k01\", \"k02\", \"k03\", \"k03_1\", \n",
    "                                       \"k04\", \"k05\", \"k05_1\", \"k06\", \"k07\", \"k10\"])"
   ]
  },
  {
   "cell_type": "markdown",
   "id": "061064d3",
   "metadata": {},
   "source": [
    "## L : Weather events adversely affected the household or the farming"
   ]
  },
  {
   "cell_type": "code",
   "execution_count": 469,
   "id": "c518b742",
   "metadata": {},
   "outputs": [],
   "source": [
    "filename = \"012_mod_l.dta\"\n",
    "path = DATA_DIR + DATA_SUBDIR + filename\n",
    "df = load_data(path)"
   ]
  },
  {
   "cell_type": "code",
   "execution_count": 470,
   "id": "f9ef610f",
   "metadata": {},
   "outputs": [],
   "source": [
    "calamity_numbers = [i for i in range(1, 13)]\n",
    "\n",
    "results = {hhid:{} for hhid in unique_hhids}\n",
    "\n",
    "for hhid in unique_hhids:\n",
    "    household = df.loc[df.hhid == hhid]\n",
    "    nums = list(household[\"l01\"])\n",
    "    for n in calamity_numbers:\n",
    "        # TODO: missing values!\n",
    "        if n not in nums:\n",
    "            results[hhid][\"calamity_\"+str(n)] = 0\n",
    "        else:\n",
    "            if int(household.loc[household[\"l01\"]==n][\"l02\"]) == 1:\n",
    "                results[hhid][\"calamity_\"+str(n)] = 1\n",
    "            else:\n",
    "                results[hhid][\"calamity_\"+str(n)] = 0       \n",
    "\n",
    "processed = pd.DataFrame()\n",
    "for column in results[1]:\n",
    "    processed[column] = [results[hhid][column] for hhid in results]\n",
    "    \n",
    "processed[\"hhid\"] = unique_hhids"
   ]
  },
  {
   "cell_type": "markdown",
   "id": "cd54cd53",
   "metadata": {},
   "source": [
    "## L1: Weather events adversely affected the household or the farming cope"
   ]
  },
  {
   "cell_type": "code",
   "execution_count": 471,
   "id": "53069655",
   "metadata": {},
   "outputs": [],
   "source": [
    "filename = \"013_mod_l1.dta\"\n",
    "path = DATA_DIR + DATA_SUBDIR + filename\n",
    "df = load_data(path)"
   ]
  },
  {
   "cell_type": "code",
   "execution_count": 472,
   "id": "d7a2d501",
   "metadata": {
    "scrolled": true
   },
   "outputs": [],
   "source": [
    "df = df.groupby(\"hhid\").sum()\n",
    "processed = column_selection(df, keep=[\"l1_05\"])\n",
    "processed[\"hhid\"] = processed.index"
   ]
  },
  {
   "cell_type": "markdown",
   "id": "51d55c4b",
   "metadata": {},
   "source": [
    "## L2: Shocks"
   ]
  },
  {
   "cell_type": "code",
   "execution_count": 474,
   "id": "e829455c",
   "metadata": {},
   "outputs": [],
   "source": [
    "filename = \"014_mod_l2.dta\"\n",
    "path = DATA_DIR + DATA_SUBDIR + filename\n",
    "df = load_data(path)"
   ]
  },
  {
   "cell_type": "code",
   "execution_count": 475,
   "id": "691fd9a4",
   "metadata": {},
   "outputs": [],
   "source": [
    "df = df.groupby(\"hhid\").sum()\n",
    "processed = column_selection(df, keep=[\"l2_06\"])\n",
    "processed[\"hhid\"] = processed.index"
   ]
  },
  {
   "cell_type": "markdown",
   "id": "12c9e7f4",
   "metadata": {},
   "source": [
    "## L3: Positive Economic Events"
   ]
  },
  {
   "cell_type": "code",
   "execution_count": 476,
   "id": "13babe22",
   "metadata": {},
   "outputs": [],
   "source": [
    "filename = \"015_mod_l3.dta\"\n",
    "path = DATA_DIR + DATA_SUBDIR + filename\n",
    "df = load_data(path)"
   ]
  },
  {
   "cell_type": "code",
   "execution_count": 477,
   "id": "ab1a68ca",
   "metadata": {},
   "outputs": [],
   "source": [
    "df = df.groupby(\"hhid\").sum()\n",
    "processed = column_selection(df, keep=[\"l3_06\"])\n",
    "processed[\"hhid\"] = processed.index"
   ]
  },
  {
   "cell_type": "markdown",
   "id": "373b99d5",
   "metadata": {},
   "source": [
    "## M: Agricultural extension"
   ]
  },
  {
   "cell_type": "code",
   "execution_count": 482,
   "id": "018a1e6b",
   "metadata": {},
   "outputs": [],
   "source": [
    "filename = \"017_mod_m.dta\"\n",
    "path = DATA_DIR + DATA_SUBDIR + filename\n",
    "df = load_data(path)"
   ]
  },
  {
   "cell_type": "code",
   "execution_count": 483,
   "id": "2194ad11",
   "metadata": {},
   "outputs": [],
   "source": [
    "processed = column_selection(df)"
   ]
  },
  {
   "cell_type": "markdown",
   "id": "c2b64275",
   "metadata": {},
   "source": [
    "## Q: Perceptions of Climate Change"
   ]
  },
  {
   "cell_type": "code",
   "execution_count": 486,
   "id": "113246d8",
   "metadata": {},
   "outputs": [],
   "source": [
    "filename = \"018_mod_q.dta\"\n",
    "path = DATA_DIR + DATA_SUBDIR + filename\n",
    "df = load_data(path)"
   ]
  },
  {
   "cell_type": "code",
   "execution_count": 487,
   "id": "ab67bde9",
   "metadata": {},
   "outputs": [],
   "source": [
    "processed = column_selection(df)"
   ]
  },
  {
   "cell_type": "markdown",
   "id": "7410441d",
   "metadata": {},
   "source": [
    "## O: Changes in farming practices due to climate change"
   ]
  },
  {
   "cell_type": "code",
   "execution_count": 489,
   "id": "8d977503",
   "metadata": {},
   "outputs": [],
   "source": [
    "filename = \"019_mod_o.dta\"\n",
    "path = DATA_DIR + DATA_SUBDIR + filename\n",
    "df = load_data(path)"
   ]
  },
  {
   "cell_type": "code",
   "execution_count": 490,
   "id": "9afac2e2",
   "metadata": {},
   "outputs": [],
   "source": [
    "keep = [\"o0\"+str(i)+\"_1\" for i in range(2, 9)] + [\"o09\"] + \\\n",
    "       [\"o\"+str(i) for i in range(10, 23)] + [\"o\"+str(i)+\"_1\" for i in range(23, 29)] + [\"o29\"]\n",
    "\n",
    "processed = column_selection(df, keep=keep)"
   ]
  },
  {
   "cell_type": "markdown",
   "id": "27695b5a",
   "metadata": {},
   "source": [
    "## O1: Any integration about Livestock/Poultry"
   ]
  },
  {
   "cell_type": "code",
   "execution_count": 492,
   "id": "302f1c98",
   "metadata": {},
   "outputs": [],
   "source": [
    "filename = \"020_mod_o1.dta\"\n",
    "path = DATA_DIR + DATA_SUBDIR + filename\n",
    "df = load_data(path)"
   ]
  },
  {
   "cell_type": "code",
   "execution_count": 496,
   "id": "051268e6",
   "metadata": {},
   "outputs": [],
   "source": [
    "keep = [\"o1_01_\"+str(i) for i in range(1, 10)]\n",
    "processed = column_selection(df, keep=keep)"
   ]
  },
  {
   "cell_type": "markdown",
   "id": "b88b84ff",
   "metadata": {},
   "source": [
    "## O2: Constraints to adaptation"
   ]
  },
  {
   "cell_type": "code",
   "execution_count": 497,
   "id": "380bf821",
   "metadata": {},
   "outputs": [],
   "source": [
    "filename = \"021_mod_o2.dta\"\n",
    "path = DATA_DIR + DATA_SUBDIR + filename\n",
    "df = load_data(path)"
   ]
  },
  {
   "cell_type": "code",
   "execution_count": 498,
   "id": "a39470af",
   "metadata": {},
   "outputs": [],
   "source": [
    "# TODO"
   ]
  },
  {
   "cell_type": "markdown",
   "id": "87591cba",
   "metadata": {},
   "source": [
    "## R1: Information of group based approach"
   ]
  },
  {
   "cell_type": "code",
   "execution_count": 499,
   "id": "b118ba08",
   "metadata": {},
   "outputs": [],
   "source": [
    "filename = \"022_mod_r1.dta\"\n",
    "path = DATA_DIR + DATA_SUBDIR + filename\n",
    "df = load_data(path)"
   ]
  },
  {
   "cell_type": "code",
   "execution_count": 500,
   "id": "84712a2d",
   "metadata": {
    "scrolled": true
   },
   "outputs": [],
   "source": [
    "groups = np.arange(1, 19)\n",
    "\n",
    "results = {hhid:{} for hhid in unique_hhids}\n",
    "for hhid in unique_hhids:\n",
    "    household = df.loc[df.hhid==hhid]\n",
    "    for g in groups:\n",
    "        g_row = household.loc[household[\"r1_01\"]==g]\n",
    "        if len(g_row):\n",
    "            membership_values = list(g_row[\"r1_02\"])\n",
    "            if 1 in membership_values:\n",
    "                results[hhid][f\"group_{g}_membership\"] = 1\n",
    "            else:\n",
    "                results[hhid][f\"group_{g}_membership\"] = 0\n",
    "        else:\n",
    "            results[hhid][f\"group_{g}_membership\"] = 0\n",
    "            \n",
    "processed = pd.DataFrame()\n",
    "for column in results[1]:\n",
    "    processed[column] = [results[hhid][column] for hhid in results]\n",
    "    \n",
    "processed[\"hhid\"] = unique_hhids"
   ]
  },
  {
   "cell_type": "markdown",
   "id": "d929dfe5",
   "metadata": {},
   "source": [
    "## R2: Group activity related information"
   ]
  },
  {
   "cell_type": "code",
   "execution_count": 508,
   "id": "f08bfcbb",
   "metadata": {},
   "outputs": [],
   "source": [
    "# TODO: skip?"
   ]
  },
  {
   "cell_type": "markdown",
   "id": "d69b273d",
   "metadata": {},
   "source": [
    "## R3: Network"
   ]
  },
  {
   "cell_type": "code",
   "execution_count": 509,
   "id": "118d39e0",
   "metadata": {},
   "outputs": [],
   "source": [
    "filename = \"024_mod_r3.dta\"\n",
    "path = DATA_DIR + DATA_SUBDIR + filename\n",
    "df = load_data(path)"
   ]
  },
  {
   "cell_type": "code",
   "execution_count": 510,
   "id": "db0c643d",
   "metadata": {},
   "outputs": [],
   "source": [
    "processed = column_selection(df, remove=[\"r3_01_1\", \"r3_01_2\"])"
   ]
  },
  {
   "cell_type": "markdown",
   "id": "fd129916",
   "metadata": {},
   "source": [
    "## R4: Trust and Solidarity"
   ]
  },
  {
   "cell_type": "code",
   "execution_count": 514,
   "id": "0d30f9f0",
   "metadata": {},
   "outputs": [],
   "source": [
    "filename = \"025_mod_r4.dta\"\n",
    "path = DATA_DIR + DATA_SUBDIR + filename\n",
    "df = load_data(path)"
   ]
  },
  {
   "cell_type": "code",
   "execution_count": 515,
   "id": "94db9132",
   "metadata": {},
   "outputs": [],
   "source": [
    "processed = column_selection(df, remove=[\"r4_01_1\", \"r4_01_2\"])"
   ]
  },
  {
   "cell_type": "markdown",
   "id": "aee9de2b",
   "metadata": {},
   "source": [
    "## R5: Economic setbacks"
   ]
  },
  {
   "cell_type": "code",
   "execution_count": 553,
   "id": "e71c7706",
   "metadata": {},
   "outputs": [],
   "source": [
    "filename = \"026_mod_r5.dta\"\n",
    "path = DATA_DIR + DATA_SUBDIR + filename\n",
    "df = load_data(path)"
   ]
  },
  {
   "cell_type": "code",
   "execution_count": 574,
   "id": "02c8e0c5",
   "metadata": {},
   "outputs": [],
   "source": [
    "results = {hhid:0 for hhid in unique_hhids}\n",
    "for hhid in unique_hhids:\n",
    "    household = df.loc[df.hhid==hhid]\n",
    "    if 1 in list(household[\"r5\"]):\n",
    "        results[hhid] = 1\n",
    "        \n",
    "processed = pd.DataFrame.from_dict({\"r5\":results})\n",
    "processed[\"hhid\"] = processed.index"
   ]
  },
  {
   "cell_type": "markdown",
   "id": "a218fac9",
   "metadata": {},
   "source": [
    "## R6: Collective Action and Cooperation and Sociability"
   ]
  },
  {
   "cell_type": "code",
   "execution_count": 577,
   "id": "f55486c9",
   "metadata": {},
   "outputs": [],
   "source": [
    "filename = \"027_mod_r6.dta\"\n",
    "path = DATA_DIR + DATA_SUBDIR + filename\n",
    "df = load_data(path)"
   ]
  },
  {
   "cell_type": "code",
   "execution_count": 578,
   "id": "4d66618d",
   "metadata": {},
   "outputs": [],
   "source": [
    "processed = column_selection(df, remove=[\"r6_01_1\", \"r6_01_2\"])"
   ]
  },
  {
   "cell_type": "markdown",
   "id": "0529a1c0",
   "metadata": {},
   "source": [
    "## R7: Information and Communication"
   ]
  },
  {
   "cell_type": "code",
   "execution_count": 581,
   "id": "fe8bcf6a",
   "metadata": {},
   "outputs": [],
   "source": [
    "filename = \"028_mod_r7.dta\"\n",
    "path = DATA_DIR + DATA_SUBDIR + filename\n",
    "df = load_data(path)"
   ]
  },
  {
   "cell_type": "code",
   "execution_count": 582,
   "id": "b3204947",
   "metadata": {},
   "outputs": [],
   "source": [
    "processed = column_selection(df, remove=[\"r7_01_1\", \"r7_01_2\"])"
   ]
  },
  {
   "cell_type": "markdown",
   "id": "37ae414a",
   "metadata": {},
   "source": [
    "## R8: Production and climate Information"
   ]
  },
  {
   "cell_type": "code",
   "execution_count": 583,
   "id": "13f62a46",
   "metadata": {},
   "outputs": [],
   "source": [
    "filename = \"029_mod_r8.dta\"\n",
    "path = DATA_DIR + DATA_SUBDIR + filename\n",
    "df = load_data(path)"
   ]
  },
  {
   "cell_type": "code",
   "execution_count": 584,
   "id": "9484e69d",
   "metadata": {},
   "outputs": [],
   "source": [
    "keep = [\"hhid\", \"r8_02_1\", \"r8_02_2\", \"r8_06_1\", \"r8_06_2\", \"r8_14_1\", \"r8_14_2\"]\n",
    "processed = column_selection(df, keep=keep)"
   ]
  },
  {
   "cell_type": "markdown",
   "id": "de4b1964",
   "metadata": {},
   "source": [
    "## R9: Production and climate Information"
   ]
  },
  {
   "cell_type": "code",
   "execution_count": 586,
   "id": "d0d36176",
   "metadata": {},
   "outputs": [],
   "source": [
    "filename = \"030_mod_r9.dta\"\n",
    "path = DATA_DIR + DATA_SUBDIR + filename\n",
    "df = load_data(path)"
   ]
  },
  {
   "cell_type": "code",
   "execution_count": 587,
   "id": "384e5bb3",
   "metadata": {},
   "outputs": [],
   "source": [
    "keep = [\"hhid\", \"r9_02_1\", \"r9_02_2\", \"r9_09_1\", \"r9_09_2\"]\n",
    "processed = column_selection(df, keep=keep)"
   ]
  },
  {
   "cell_type": "markdown",
   "id": "bac5374a",
   "metadata": {},
   "source": [
    "## S: Empowerment and Political Action"
   ]
  },
  {
   "cell_type": "code",
   "execution_count": 588,
   "id": "23f42485",
   "metadata": {},
   "outputs": [],
   "source": [
    "filename = \"031_mod_s.dta\"\n",
    "path = DATA_DIR + DATA_SUBDIR + filename\n",
    "df = load_data(path)"
   ]
  },
  {
   "cell_type": "code",
   "execution_count": 589,
   "id": "b9089d09",
   "metadata": {},
   "outputs": [],
   "source": [
    "processed = column_selection(df, remove=[\"s_01_1\", \"s_01_2\"])"
   ]
  },
  {
   "cell_type": "markdown",
   "id": "c12b81f3",
   "metadata": {},
   "source": [
    "## T: Employment"
   ]
  },
  {
   "cell_type": "code",
   "execution_count": 590,
   "id": "07b39a95",
   "metadata": {},
   "outputs": [],
   "source": [
    "filename = \"032_mod_t.dta\"\n",
    "path = DATA_DIR + DATA_SUBDIR + filename\n",
    "df = load_data(path)"
   ]
  },
  {
   "cell_type": "code",
   "execution_count": 591,
   "id": "54f9657a",
   "metadata": {},
   "outputs": [],
   "source": [
    "job_categories = {\n",
    "    \"job_wage_labor\":np.arange(1,12),\n",
    "    \"job_salaried_worker\":np.arange(12,22),\n",
    "    \"job_self_employment\":np.arange(22,48),\n",
    "    \"job_trader\":np.arange(50,55),\n",
    "    \"job_production\":np.arange(55,58),\n",
    "    \"job_livestock_poultry_service\":np.arange(58,64),\n",
    "    \"job_farming\":np.arange(64,73)\n",
    "}\n",
    "\n",
    "results = {hhid:{c:0 for c in job_categories} for hhid in unique_hhids}\n",
    "for hhid in unique_hhids:\n",
    "    household = df.loc[df.hhid==hhid]\n",
    "    relevant = list(household[\"t05\"])\n",
    "    for c, numbers in job_categories.items():\n",
    "        for n in numbers:\n",
    "            if n in relevant:\n",
    "                results[hhid][c] += 1\n",
    "            \n",
    "processed = pd.DataFrame.from_dict({\"hhid\":list(unique_hhids)})        \n",
    "for column in results[1]:\n",
    "    processed[column] = [results[hhid][column] for hhid in results]"
   ]
  },
  {
   "cell_type": "markdown",
   "id": "6d8cebe1",
   "metadata": {},
   "source": [
    "## U: Time use of male and female members in the household"
   ]
  },
  {
   "cell_type": "code",
   "execution_count": 592,
   "id": "47084883",
   "metadata": {},
   "outputs": [],
   "source": [
    "# TODO: discard?"
   ]
  },
  {
   "cell_type": "markdown",
   "id": "c7b4902c",
   "metadata": {},
   "source": [
    "## V: Anthropometry"
   ]
  },
  {
   "cell_type": "code",
   "execution_count": 593,
   "id": "f77934f8",
   "metadata": {},
   "outputs": [],
   "source": [
    "# TODO: discard?"
   ]
  },
  {
   "cell_type": "markdown",
   "id": "57823540",
   "metadata": {},
   "source": [
    "# Combine processed dataframes"
   ]
  },
  {
   "cell_type": "code",
   "execution_count": 186,
   "id": "0b310f00",
   "metadata": {},
   "outputs": [],
   "source": [
    "# maintain list of all the processed dataframes\n",
    "# make sure all dataframes have one row per household id\n",
    "# add empty rows for missing household ids where necessary\n",
    "# mind the treatment of MISSING VALUES!\n",
    "    # do we really want to impute \"0\" when no information is present?\n",
    "# combine all the dataframes into one dataframe (each hhid is a single feature vector/row)"
   ]
  }
 ],
 "metadata": {
  "kernelspec": {
   "display_name": "Python 3",
   "language": "python",
   "name": "python3"
  },
  "language_info": {
   "codemirror_mode": {
    "name": "ipython",
    "version": 3
   },
   "file_extension": ".py",
   "mimetype": "text/x-python",
   "name": "python",
   "nbconvert_exporter": "python",
   "pygments_lexer": "ipython3",
   "version": "3.8.6"
  }
 },
 "nbformat": 4,
 "nbformat_minor": 5
}
