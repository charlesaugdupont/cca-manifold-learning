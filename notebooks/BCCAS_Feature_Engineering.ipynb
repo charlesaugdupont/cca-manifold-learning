{
 "cells": [
  {
   "cell_type": "code",
   "execution_count": 274,
   "id": "acdc0b3a",
   "metadata": {},
   "outputs": [
    {
     "name": "stdout",
     "output_type": "stream",
     "text": [
      "Working directory: /Users/charlesdupont/Desktop/Thesis/code/quafing\n"
     ]
    }
   ],
   "source": [
    "import os\n",
    "os.chdir('../quafing/')\n",
    "print(f\"Working directory: {os.getcwd()}\")\n",
    "import quafing as q\n",
    "\n",
    "\n",
    "import random\n",
    "import numpy as np\n",
    "from scipy.stats import mode\n",
    "\n",
    "from sklearn.feature_selection import mutual_info_regression\n",
    "\n",
    "import pandas as pd\n",
    "pd.options.mode.chained_assignment = None  # default='warn'\n",
    "\n",
    "import matplotlib.pyplot as plt\n",
    "\n",
    "\n",
    "plt.rcParams.update(plt.rcParamsDefault)\n",
    "plt.rcParams.update({\"font.size\" : 15, \n",
    "                     \"figure.dpi\" : 100, \n",
    "                     \"legend.fontsize\" : 13, \n",
    "                     \"grid.alpha\" : 0.3, \n",
    "                     \"axes.grid\": True, \n",
    "                     \"axes.axisbelow\" : True, \n",
    "                     \"figure.figsize\":(6, 5)})"
   ]
  },
  {
   "cell_type": "code",
   "execution_count": 155,
   "id": "e7ff95f3",
   "metadata": {},
   "outputs": [],
   "source": [
    "def load_data(path):\n",
    "    \"\"\"\n",
    "    Loads .dta file using provided path.\n",
    "    \"\"\"\n",
    "    return pd.read_stata(path, convert_categoricals=False)\n",
    "\n",
    "\n",
    "def add_missing_hhids(all_hhids, df):\n",
    "    \"\"\"\n",
    "    Adds empty rows for hhids missing from df.\n",
    "    df must already have an \"hhid\" column!\n",
    "    \"\"\"\n",
    "    missing = set(unique_hhids) - set(df[\"hhid\"].unique())\n",
    "    missing_dict = {\"hhid\":list(missing)}\n",
    "    for col in df.columns:\n",
    "        if col != \"hhid\":\n",
    "            missing_dict[col] = [np.nan]*len(missing)\n",
    "    missing_df = pd.DataFrame.from_dict(missing_dict)\n",
    "    return pd.concat([df, missing_df])\n",
    "\n",
    "\n",
    "def column_selection(df, keep=None, remove=None):\n",
    "    \"\"\"\n",
    "    Performs column selection on dataframe.\n",
    "    Args:\n",
    "        no_change: boolean indicating whether to keep all columns\n",
    "        keep: list of columns to keep\n",
    "        remove: list of columns to remove\n",
    "    Returns:\n",
    "        updated dataframe\n",
    "    \"\"\"\n",
    "    if keep:\n",
    "        return df[keep]\n",
    "    elif remove:\n",
    "        return df.loc[:, ~df.columns.isin(remove)]\n",
    "    else:\n",
    "        return df"
   ]
  },
  {
   "cell_type": "code",
   "execution_count": 156,
   "id": "425dc36e",
   "metadata": {},
   "outputs": [],
   "source": [
    "DATA_DIR = \"../../BCCASII/\"\n",
    "DATA_SUBDIR = \"Household/\""
   ]
  },
  {
   "cell_type": "code",
   "execution_count": 157,
   "id": "75113430",
   "metadata": {},
   "outputs": [],
   "source": [
    "PROCESSED_DFS = []"
   ]
  },
  {
   "cell_type": "markdown",
   "id": "0cae339e",
   "metadata": {},
   "source": [
    "## A: Location and identification detail"
   ]
  },
  {
   "cell_type": "code",
   "execution_count": 158,
   "id": "5cb777dc",
   "metadata": {},
   "outputs": [],
   "source": [
    "filename = \"001_mod_a.dta\"\n",
    "path = DATA_DIR + DATA_SUBDIR + filename\n",
    "df = load_data(path)"
   ]
  },
  {
   "cell_type": "code",
   "execution_count": 159,
   "id": "bb371d47",
   "metadata": {},
   "outputs": [],
   "source": [
    "# keep household ID, agro-ecological zone\n",
    "processed = column_selection(df, keep=[\"hhid\", \"ezcode\"])\n",
    "\n",
    "# construct community code from union, thana, district codes\n",
    "processed[\"community_code\"] = df[\"ucode\"].astype(str) + \"_\" + \\\n",
    "                              df[\"tcode\"].astype(str) + \"_\" + \\\n",
    "                              df[\"dcode\"].astype(str)"
   ]
  },
  {
   "cell_type": "code",
   "execution_count": 160,
   "id": "85a573d4",
   "metadata": {},
   "outputs": [],
   "source": [
    "PROCESSED_DFS.append(processed)"
   ]
  },
  {
   "cell_type": "code",
   "execution_count": 161,
   "id": "a46132a7",
   "metadata": {},
   "outputs": [],
   "source": [
    "unique_hhids = df[\"hhid\"].unique()"
   ]
  },
  {
   "cell_type": "markdown",
   "id": "bd076776",
   "metadata": {},
   "source": [
    "## B: Household composition and education"
   ]
  },
  {
   "cell_type": "code",
   "execution_count": 162,
   "id": "43cc5d53",
   "metadata": {},
   "outputs": [],
   "source": [
    "filename = \"002_mod_b.dta\"\n",
    "path = DATA_DIR + DATA_SUBDIR + filename\n",
    "df = load_data(path)"
   ]
  },
  {
   "cell_type": "code",
   "execution_count": 163,
   "id": "ffed5994",
   "metadata": {},
   "outputs": [],
   "source": [
    "g = df.groupby(\"hhid\").count()\n",
    "\n",
    "# household size\n",
    "processed = pd.DataFrame.from_dict({\"household_size\":g[\"mid\"]})\n",
    "\n",
    "# household id\n",
    "processed[\"hhid\"] = processed.index\n",
    "\n",
    "# ratio male, female\n",
    "males = {}\n",
    "females = {}\n",
    "for hhid in unique_hhids:\n",
    "    household = df.loc[df.hhid==hhid]\n",
    "    m = sum(household[\"b01\"]==1)\n",
    "    f = sum(household[\"b01\"]==2)\n",
    "    s = max(1, m+f)\n",
    "    males[hhid] = m/s\n",
    "    females[hhid] = f/s\n",
    "processed = processed.join(pd.DataFrame.from_dict({\"ratio_male\":males}))\n",
    "processed = processed.join(pd.DataFrame.from_dict({\"ratio_female\":females}))\n",
    "\n",
    "# number of children\n",
    "num_children = {}\n",
    "for hhid in unique_hhids:\n",
    "    household = df.loc[df.hhid==hhid]\n",
    "    c = sum(household[\"b03\"] < 18)\n",
    "    num_children[hhid] = c\n",
    "processed = processed.join(pd.DataFrame.from_dict({\"number_children\":num_children}))\n",
    "\n",
    "# highest level of education\n",
    "education_ordering = [99, 66, 67, 68, 0, 1, 2, 3, 4, 5, 6, 7, 8, 9, 22, 10, 33, 12, 15, 16, 17]\n",
    "max_education = {}\n",
    "for hhid in unique_hhids:\n",
    "    household = df.loc[df.hhid==hhid]\n",
    "    education_levels = [education_ordering.index(x)\n",
    "                        for x in [x for x in list(household[\"b06\"]) if not np.isnan(x)]]\n",
    "    if len(education_levels):\n",
    "        max_education[hhid] = max(education_levels)\n",
    "    else:\n",
    "        max_education[hhid] = -1\n",
    "processed = processed.join(pd.DataFrame.from_dict({\"highest_education\":max_education}))\n",
    "\n",
    "# highest level of literacy\n",
    "literacy_ordering = [1, 2, 3, 4]\n",
    "max_literacy = {}\n",
    "for hhid in unique_hhids:\n",
    "    household = df.loc[df.hhid==hhid]\n",
    "    literacy_labels = [literacy_ordering.index(x)\n",
    "                       for x in [x for x in list(household[\"b05\"]) if not np.isnan(x)]]\n",
    "    if len(literacy_labels):\n",
    "        max_literacy[hhid] = max(literacy_labels)\n",
    "    else:\n",
    "        max_literacy[hhid] = -1\n",
    "processed = processed.join(pd.DataFrame.from_dict({\"highest_literacy\":max_literacy}))\n",
    "\n",
    "# primary occupation categories\n",
    "# categories = {\n",
    "#     \"day_labor\": [1,2,3],\n",
    "#     \"self_employ_farm\": [4,5,6,7,8],\n",
    "#     \"self_employ_non_farm\": [9],\n",
    "#     \"low_income_profession\": [10,11,12,13],\n",
    "#     \"mechanic\": [14,15],\n",
    "#     \"other\": [16, 17, 18, 19],\n",
    "#     \"non_earning\": [20,21,22,23,24,25,26]\n",
    "# }\n",
    "\n",
    "# for c, c_list in categories.items():\n",
    "#     c_dict = {hhid:0 for hhid in unique_hhids}\n",
    "#     for hhid in unique_hhids:\n",
    "#         household = df.loc[df.hhid==hhid]\n",
    "#         primary_occupation_labels = list(household[\"b08_1\"])\n",
    "#         for item in c_list:\n",
    "#             if item in primary_occupation_labels:\n",
    "#                 c_dict[hhid] += 1\n",
    "#     processed = processed.join(pd.DataFrame.from_dict({c:c_dict}))"
   ]
  },
  {
   "cell_type": "code",
   "execution_count": 164,
   "id": "b6a45dcc",
   "metadata": {},
   "outputs": [],
   "source": [
    "PROCESSED_DFS.append(processed)"
   ]
  },
  {
   "cell_type": "markdown",
   "id": "16ef158c",
   "metadata": {},
   "source": [
    "## C: Roster of land and water bodies owned or under operation"
   ]
  },
  {
   "cell_type": "code",
   "execution_count": 165,
   "id": "f1f009cc",
   "metadata": {},
   "outputs": [],
   "source": [
    "filename = \"003_mod_c.dta\"\n",
    "path = DATA_DIR + DATA_SUBDIR + filename\n",
    "df = load_data(path)"
   ]
  },
  {
   "cell_type": "code",
   "execution_count": 166,
   "id": "b4f33e2f",
   "metadata": {
    "scrolled": true
   },
   "outputs": [],
   "source": [
    "g = df.groupby(\"hhid\")\n",
    "\n",
    "# total land area\n",
    "processed = pd.DataFrame.from_dict({\"total_land_size\":dict(g.sum()[\"c102\"])})\n",
    "\n",
    "# household id\n",
    "processed[\"hhid\"] = processed.index\n",
    "\n",
    "# total value per month\n",
    "processed = processed.join(pd.DataFrame.from_dict({\"total_land_value_per_month\":\n",
    "                                                   dict(g.sum()[\"c113\"])}))\n",
    "\n",
    "# min land acquisition year\n",
    "processed = processed.join(pd.DataFrame.from_dict({\"min_land_acquisition_year\":\n",
    "                                                   dict(g.min()[\"c111\"])}))\n",
    "\n",
    "# max land acquisition year\n",
    "processed = processed.join(pd.DataFrame.from_dict({\"max_land_acquisition_year\":\n",
    "                                                   dict(g.max()[\"c111\"])}))\n",
    "\n",
    "# mean land acquisition year\n",
    "processed = processed.join(pd.DataFrame.from_dict({\"mean_land_acquisition_year\":\n",
    "                                                   dict(round(g.mean()[\"c111\"]))}))\n",
    "\n",
    "# most common answer from (plot type, soil type, operational status of land, acquisition means of land)\n",
    "categories = {\n",
    "    (\"plot_type\", \"c101\"): [i for i in range(1, 10)],\n",
    "    (\"soil_type\", \"c105\"): [i for i in range(1, 6)],\n",
    "    (\"land_operational_status\", \"c107\"): [i for i in range(1, 11)],\n",
    "    (\"land_acquisition_means\", \"c110\"): [i for i in range(1, 8)],\n",
    "}\n",
    "\n",
    "for c, c_list in categories.items():\n",
    "    c_dict = {hhid:0 for hhid in unique_hhids}\n",
    "    c, col = c\n",
    "    for hhid in unique_hhids:\n",
    "        household = df.loc[df.hhid==hhid]\n",
    "        labels = [x for x in list(household[col]) if not np.isnan(x)]\n",
    "        if labels:\n",
    "            c_dict[hhid] = mode(labels)[0][0]\n",
    "        else:\n",
    "            c_dict[hhid] = -1\n",
    "    processed = processed.join(pd.DataFrame.from_dict({c:c_dict}))"
   ]
  },
  {
   "cell_type": "code",
   "execution_count": 167,
   "id": "b53e1bfe",
   "metadata": {},
   "outputs": [],
   "source": [
    "PROCESSED_DFS.append(processed)"
   ]
  },
  {
   "cell_type": "markdown",
   "id": "cb778381",
   "metadata": {},
   "source": [
    "## F1: Livestock and poultry"
   ]
  },
  {
   "cell_type": "code",
   "execution_count": 168,
   "id": "57b18c61",
   "metadata": {},
   "outputs": [],
   "source": [
    "filename = \"004_mod_f1.dta\"\n",
    "path = DATA_DIR + DATA_SUBDIR + filename\n",
    "df = load_data(path)"
   ]
  },
  {
   "cell_type": "code",
   "execution_count": 169,
   "id": "b8e9f11c",
   "metadata": {},
   "outputs": [],
   "source": [
    "# # household id\n",
    "# processed = pd.DataFrame.from_dict({\"hhid\":list(unique_hhids)})\n",
    "\n",
    "# categories = {\n",
    "#     \"cattle_buffalo\":1,\n",
    "#     \"goat_sheep\":2,\n",
    "#     \"pigs\":3,\n",
    "#     \"chidken_duck\":4\n",
    "# }\n",
    "\n",
    "# cols = [(\"count_2011\", \"f102\"), (\"value_2011\", \"f103\"), \n",
    "#         (\"count_now\", \"f104\"), (\"value_now\", \"f105\"), (\"total_selling_value\", \"f117\")]   \n",
    "\n",
    "# results = {hhid:{} for hhid in unique_hhids}\n",
    "# for hhid in unique_hhids:\n",
    "#     household = df.loc[df.hhid==hhid]\n",
    "#     for c, number in categories.items():\n",
    "#         if number not in list(household[\"f101\"]):\n",
    "#             # TODO: handle missing value!\n",
    "#             for l, _ in cols:\n",
    "#                 results[hhid][c+\"_\"+l] = np.nan\n",
    "#         else:\n",
    "#             for l, col in cols:\n",
    "#                 value = household.loc[household[\"f101\"]==number][col].iloc[0]\n",
    "#                 # TODO: handle missing value here!\n",
    "#                 if np.isnan(value):\n",
    "#                     results[hhid][c+\"_\"+l] = np.nan\n",
    "#                 else:\n",
    "#                     results[hhid][c+\"_\"+l] = value\n",
    "                    \n",
    "# for column in results[1]:\n",
    "#     processed[column] = [results[hhid][column] for hhid in results]"
   ]
  },
  {
   "cell_type": "code",
   "execution_count": 170,
   "id": "c02496ce",
   "metadata": {},
   "outputs": [],
   "source": [
    "# household id\n",
    "processed = pd.DataFrame.from_dict({\"hhid\":list(unique_hhids)})\n",
    "\n",
    "cols = [(\"count_2011\", \"f102\"), (\"value_2011\", \"f103\"), \n",
    "        (\"count_now\", \"f104\"), (\"value_now\", \"f105\"), (\"total_selling_value\", \"f117\")]   \n",
    "\n",
    "results = {hhid:{} for hhid in unique_hhids}\n",
    "for hhid in unique_hhids:\n",
    "    household = df.loc[df.hhid==hhid]\n",
    "    for c, col in cols:\n",
    "        relevant = [x for x in household[col] if not np.isnan(x)]\n",
    "        if len(relevant):\n",
    "            results[hhid][c] = sum(relevant)\n",
    "        else:\n",
    "            results[hhid][c] = np.nan\n",
    "                    \n",
    "for column in results[1]:\n",
    "    processed[column] = [results[hhid][column] for hhid in results]"
   ]
  },
  {
   "cell_type": "code",
   "execution_count": 171,
   "id": "876a3df6",
   "metadata": {},
   "outputs": [],
   "source": [
    "PROCESSED_DFS.append(processed)"
   ]
  },
  {
   "cell_type": "markdown",
   "id": "e4c2d3ce",
   "metadata": {},
   "source": [
    "## F3: Expenditure for livestock, Poultry/Duckery Production Last 12 Months"
   ]
  },
  {
   "cell_type": "code",
   "execution_count": 172,
   "id": "da00b845",
   "metadata": {},
   "outputs": [],
   "source": [
    "filename = \"005_mod_f3.dta\"\n",
    "path = DATA_DIR + DATA_SUBDIR + filename\n",
    "df = load_data(path)"
   ]
  },
  {
   "cell_type": "code",
   "execution_count": 173,
   "id": "f30ce5d2",
   "metadata": {},
   "outputs": [],
   "source": [
    "df[\"f306\"] = df[\"f306_1\"].fillna(0) + df[\"f306_2\"].fillna(0)\n",
    "df = df.groupby(\"hhid\").sum()\n",
    "processed = column_selection(df, keep=[\"f302\", \"f303\", \"f306\", \"f307\"])\n",
    "processed[\"hhid\"] = processed.index"
   ]
  },
  {
   "cell_type": "code",
   "execution_count": 174,
   "id": "83d60760",
   "metadata": {},
   "outputs": [
    {
     "data": {
      "text/html": [
       "<div>\n",
       "<style scoped>\n",
       "    .dataframe tbody tr th:only-of-type {\n",
       "        vertical-align: middle;\n",
       "    }\n",
       "\n",
       "    .dataframe tbody tr th {\n",
       "        vertical-align: top;\n",
       "    }\n",
       "\n",
       "    .dataframe thead th {\n",
       "        text-align: right;\n",
       "    }\n",
       "</style>\n",
       "<table border=\"1\" class=\"dataframe\">\n",
       "  <thead>\n",
       "    <tr style=\"text-align: right;\">\n",
       "      <th></th>\n",
       "      <th>f302</th>\n",
       "      <th>f303</th>\n",
       "      <th>f306</th>\n",
       "      <th>f307</th>\n",
       "      <th>hhid</th>\n",
       "    </tr>\n",
       "    <tr>\n",
       "      <th>hhid</th>\n",
       "      <th></th>\n",
       "      <th></th>\n",
       "      <th></th>\n",
       "      <th></th>\n",
       "      <th></th>\n",
       "    </tr>\n",
       "  </thead>\n",
       "  <tbody>\n",
       "    <tr>\n",
       "      <th>1.0</th>\n",
       "      <td>1900</td>\n",
       "      <td>900</td>\n",
       "      <td>0.0</td>\n",
       "      <td>130</td>\n",
       "      <td>1.0</td>\n",
       "    </tr>\n",
       "    <tr>\n",
       "      <th>2.0</th>\n",
       "      <td>3000</td>\n",
       "      <td>650</td>\n",
       "      <td>0.0</td>\n",
       "      <td>200</td>\n",
       "      <td>2.0</td>\n",
       "    </tr>\n",
       "    <tr>\n",
       "      <th>3.0</th>\n",
       "      <td>3000</td>\n",
       "      <td>550</td>\n",
       "      <td>0.0</td>\n",
       "      <td>385</td>\n",
       "      <td>3.0</td>\n",
       "    </tr>\n",
       "    <tr>\n",
       "      <th>4.0</th>\n",
       "      <td>4500</td>\n",
       "      <td>6250</td>\n",
       "      <td>0.0</td>\n",
       "      <td>1750</td>\n",
       "      <td>4.0</td>\n",
       "    </tr>\n",
       "    <tr>\n",
       "      <th>5.0</th>\n",
       "      <td>0</td>\n",
       "      <td>0</td>\n",
       "      <td>0.0</td>\n",
       "      <td>50</td>\n",
       "      <td>5.0</td>\n",
       "    </tr>\n",
       "    <tr>\n",
       "      <th>...</th>\n",
       "      <td>...</td>\n",
       "      <td>...</td>\n",
       "      <td>...</td>\n",
       "      <td>...</td>\n",
       "      <td>...</td>\n",
       "    </tr>\n",
       "    <tr>\n",
       "      <th>796.0</th>\n",
       "      <td>5000</td>\n",
       "      <td>2000</td>\n",
       "      <td>0.0</td>\n",
       "      <td>600</td>\n",
       "      <td>796.0</td>\n",
       "    </tr>\n",
       "    <tr>\n",
       "      <th>797.0</th>\n",
       "      <td>4000</td>\n",
       "      <td>1060</td>\n",
       "      <td>0.0</td>\n",
       "      <td>500</td>\n",
       "      <td>797.0</td>\n",
       "    </tr>\n",
       "    <tr>\n",
       "      <th>798.0</th>\n",
       "      <td>200</td>\n",
       "      <td>30</td>\n",
       "      <td>0.0</td>\n",
       "      <td>0</td>\n",
       "      <td>798.0</td>\n",
       "    </tr>\n",
       "    <tr>\n",
       "      <th>799.0</th>\n",
       "      <td>0</td>\n",
       "      <td>200</td>\n",
       "      <td>0.0</td>\n",
       "      <td>100</td>\n",
       "      <td>799.0</td>\n",
       "    </tr>\n",
       "    <tr>\n",
       "      <th>800.0</th>\n",
       "      <td>0</td>\n",
       "      <td>0</td>\n",
       "      <td>0.0</td>\n",
       "      <td>0</td>\n",
       "      <td>800.0</td>\n",
       "    </tr>\n",
       "  </tbody>\n",
       "</table>\n",
       "<p>734 rows × 5 columns</p>\n",
       "</div>"
      ],
      "text/plain": [
       "       f302  f303  f306  f307   hhid\n",
       "hhid                                \n",
       "1.0    1900   900   0.0   130    1.0\n",
       "2.0    3000   650   0.0   200    2.0\n",
       "3.0    3000   550   0.0   385    3.0\n",
       "4.0    4500  6250   0.0  1750    4.0\n",
       "5.0       0     0   0.0    50    5.0\n",
       "...     ...   ...   ...   ...    ...\n",
       "796.0  5000  2000   0.0   600  796.0\n",
       "797.0  4000  1060   0.0   500  797.0\n",
       "798.0   200    30   0.0     0  798.0\n",
       "799.0     0   200   0.0   100  799.0\n",
       "800.0     0     0   0.0     0  800.0\n",
       "\n",
       "[734 rows x 5 columns]"
      ]
     },
     "execution_count": 174,
     "metadata": {},
     "output_type": "execute_result"
    }
   ],
   "source": [
    "processed"
   ]
  },
  {
   "cell_type": "code",
   "execution_count": null,
   "id": "fc7d84ed",
   "metadata": {},
   "outputs": [],
   "source": []
  },
  {
   "cell_type": "code",
   "execution_count": 175,
   "id": "bff90bd9",
   "metadata": {},
   "outputs": [],
   "source": [
    "PROCESSED_DFS.append(processed)"
   ]
  },
  {
   "cell_type": "markdown",
   "id": "04d8fdac",
   "metadata": {},
   "source": [
    "## G1: Credit obtained"
   ]
  },
  {
   "cell_type": "code",
   "execution_count": 176,
   "id": "8187a82f",
   "metadata": {
    "scrolled": false
   },
   "outputs": [],
   "source": [
    "filename = \"006_mod_g.dta\"\n",
    "path = DATA_DIR + DATA_SUBDIR + filename\n",
    "df = load_data(path)"
   ]
  },
  {
   "cell_type": "code",
   "execution_count": 177,
   "id": "ba3c4685",
   "metadata": {},
   "outputs": [],
   "source": [
    "df = df.groupby(\"hhid\").sum()\n",
    "processed = column_selection(df, keep=[\"g07\", \"g10\", \"g16\", \"g18\"])\n",
    "processed[\"hhid\"] = processed.index"
   ]
  },
  {
   "cell_type": "code",
   "execution_count": 178,
   "id": "9855cab1",
   "metadata": {},
   "outputs": [],
   "source": [
    "PROCESSED_DFS.append(processed)"
   ]
  },
  {
   "cell_type": "markdown",
   "id": "fed1db87",
   "metadata": {},
   "source": [
    "## G2: Repayment and utilization of Loan"
   ]
  },
  {
   "cell_type": "code",
   "execution_count": 179,
   "id": "323f57bd",
   "metadata": {},
   "outputs": [],
   "source": [
    "# TODO"
   ]
  },
  {
   "cell_type": "markdown",
   "id": "5eee13da",
   "metadata": {},
   "source": [
    "## H: Household Assets"
   ]
  },
  {
   "cell_type": "code",
   "execution_count": 180,
   "id": "18f7ba23",
   "metadata": {},
   "outputs": [],
   "source": [
    "filename = \"007_mod_h.dta\"\n",
    "path = DATA_DIR + DATA_SUBDIR + filename\n",
    "df = load_data(path)"
   ]
  },
  {
   "cell_type": "code",
   "execution_count": 181,
   "id": "9632d042",
   "metadata": {},
   "outputs": [],
   "source": [
    "# household id\n",
    "processed = pd.DataFrame.from_dict({\"hhid\":list(unique_hhids)})\n",
    "\n",
    "# total value per household asset category\n",
    "categories = {\n",
    "    \"value_consumable_durables\":[i for i in range(1, 12)],\n",
    "    \"value_transport\":[i for i in range(12, 16)],\n",
    "    \"value_livestock_poultry\":[i for i in range(16, 20)],\n",
    "    \"value_agricultural_equipments\":[i for i in range(20,29)],\n",
    "    \"value_other\":[29]\n",
    "}\n",
    "\n",
    "results = {hhid:{} for hhid in unique_hhids}\n",
    "for hhid in unique_hhids:\n",
    "    household = df.loc[df.hhid==hhid]\n",
    "    for c in categories:\n",
    "        category_assets = household.loc[household[\"asset\"].isin(categories[c])]\n",
    "        if len(category_assets):\n",
    "            results[hhid][c] = category_assets[\"h06\"].sum()\n",
    "        else:\n",
    "            results[hhid][c] = 0\n",
    "\n",
    "for column in results[1]:\n",
    "    processed[column] = [results[hhid][column] for hhid in results]"
   ]
  },
  {
   "cell_type": "code",
   "execution_count": 182,
   "id": "fa1e3d66",
   "metadata": {},
   "outputs": [],
   "source": [
    "PROCESSED_DFS.append(processed)"
   ]
  },
  {
   "cell_type": "markdown",
   "id": "b16a5f10",
   "metadata": {},
   "source": [
    "## H1: Assets: Sales of Assets and Change in Ownership"
   ]
  },
  {
   "cell_type": "code",
   "execution_count": 183,
   "id": "d5d60f11",
   "metadata": {},
   "outputs": [],
   "source": [
    "filename = \"008_mod_h1.dta\"\n",
    "path = DATA_DIR + DATA_SUBDIR + filename\n",
    "df = load_data(path)"
   ]
  },
  {
   "cell_type": "code",
   "execution_count": 184,
   "id": "ed4bba98",
   "metadata": {},
   "outputs": [],
   "source": [
    "df = df.groupby(\"hhid\").sum()\n",
    "processed = column_selection(df, keep=[\"h108\"])\n",
    "processed[\"hhid\"] = processed.index"
   ]
  },
  {
   "cell_type": "code",
   "execution_count": 185,
   "id": "b5b6dc7b",
   "metadata": {},
   "outputs": [],
   "source": [
    "PROCESSED_DFS.append(processed)"
   ]
  },
  {
   "cell_type": "markdown",
   "id": "b06dc991",
   "metadata": {},
   "source": [
    "## I: Food Consumption: Purchases, Home Production, and Other Sources"
   ]
  },
  {
   "cell_type": "code",
   "execution_count": 186,
   "id": "c2745e43",
   "metadata": {},
   "outputs": [],
   "source": [
    "filename = \"009_mod_i.dta\"\n",
    "path = DATA_DIR + DATA_SUBDIR + filename\n",
    "df = load_data(path)"
   ]
  },
  {
   "cell_type": "code",
   "execution_count": 187,
   "id": "cc24d236",
   "metadata": {
    "scrolled": true
   },
   "outputs": [],
   "source": [
    "food_categories = {\n",
    "    \"food_cereals\":np.arange(1,10),\n",
    "    \"food_pulses\":np.arange(11,18),\n",
    "    \"food_edible_oil\":np.arange(21,25),\n",
    "    \"food_vegetables\":np.arange(31,56),\n",
    "    \"food_leafy_vegetables\":np.arange(61,75),\n",
    "    \"food_meat_eggs_milk\":np.arange(81,88),\n",
    "    \"food_fruits\":np.arange(91,113),\n",
    "    \"food_fish_large\":np.arange(121,132),\n",
    "    \"food_fish_small\":np.arange(141,149),\n",
    "    \"food_spices\":np.arange(151,161),\n",
    "    \"food_other\":np.arange(171,177),\n",
    "    \"food_drinks\":np.arange(181,184),\n",
    "    \"food_other_outside_home\":np.arange(201,213)\n",
    "}\n",
    "\n",
    "results = {hhid:{} for hhid in unique_hhids}\n",
    "for hhid in unique_hhids:\n",
    "    household = df.loc[df.hhid==hhid]\n",
    "    for c, fcodes in food_categories.items():\n",
    "        relevant_rows = household.loc[household[\"fcode\"].isin(fcodes)]\n",
    "        \n",
    "        if len(relevant_rows):\n",
    "            values = [x for x in list(relevant_rows[\"i07\"]) if not np.isnan(x)]\n",
    "            if len(values):\n",
    "                results[hhid][\"value_\"+c] = sum(values)\n",
    "            else:\n",
    "                results[hhid][\"value_\"+c] = np.nan\n",
    "            weights = [x for x in list(relevant_rows[\"i04\"]) if not np.isnan(x)]\n",
    "            if len(weights):\n",
    "                results[hhid][\"weight_\"+c] = sum(weights)\n",
    "            else:\n",
    "                results[hhid][\"weight_\"+c] = np.nan\n",
    "        else:\n",
    "            results[hhid][\"value_\"+c] = np.nan\n",
    "            results[hhid][\"weight_\"+c] = np.nan\n",
    "            \n",
    "            \n",
    "processed = pd.DataFrame.from_dict({\"hhid\":list(unique_hhids)})\n",
    "for column in results[1]:\n",
    "    processed[column] = [results[hhid][column] for hhid in results]"
   ]
  },
  {
   "cell_type": "code",
   "execution_count": 188,
   "id": "5ec501a7",
   "metadata": {},
   "outputs": [],
   "source": [
    "PROCESSED_DFS.append(processed)"
   ]
  },
  {
   "cell_type": "markdown",
   "id": "d99a60c5",
   "metadata": {},
   "source": [
    "## J1, J2: Non-food Expenditure"
   ]
  },
  {
   "cell_type": "code",
   "execution_count": 189,
   "id": "65ec2311",
   "metadata": {},
   "outputs": [],
   "source": [
    "filename = \"010_mod_j.dta\"\n",
    "path = DATA_DIR + DATA_SUBDIR + filename\n",
    "df = load_data(path)"
   ]
  },
  {
   "cell_type": "code",
   "execution_count": 190,
   "id": "d3f72bbe",
   "metadata": {},
   "outputs": [],
   "source": [
    "non_food_categories = {\n",
    "    \"rent_expenses\":[1,2],\n",
    "    \"fuel_expenses\":[3,4,5,6],\n",
    "    \"local_transport_expenses\":[7,8],\n",
    "    \"miscellaneous_expenses\":[9,10,11,12,13,29,30,31,32,54,55],\n",
    "    \"health_expenses\":[14,15,16],\n",
    "    \"communication_expenses\":[17,18],\n",
    "    \"personal_items_expenses\":np.arange(19,25),\n",
    "    \"entertainment_expenses\":[25,26],\n",
    "    \"non_local_travel_expenses\":[27,28],\n",
    "    \"clothing_expenses\":np.arange(33,39),\n",
    "    \"furniture_household_expenses\":np.arange(39,49),\n",
    "    \"utilities_taxes_fees\":np.arange(49,54),\n",
    "    \"family_events_expenses\":[56,57],\n",
    "    \"wedding_costs_bride\":np.arange(59,63),\n",
    "    \"wedding_costs_groom\":np.arange(63,67),\n",
    "    \"education_expenses\":np.arange(67,73),\n",
    "    \"vehicle_expenses\":np.arange(73,77)\n",
    "}\n",
    "\n",
    "results = {hhid:{} for hhid in unique_hhids}\n",
    "for hhid in unique_hhids:\n",
    "    household = df.loc[df.hhid==hhid]\n",
    "    for c, nfcodes in non_food_categories.items():\n",
    "        relevant_rows = household.loc[household[\"nfcode\"].isin(nfcodes)]\n",
    "        if len(relevant_rows) == 0:        \n",
    "            for col in [\"j02_1\", \"j02_2\", \"j03_1\", \"j03_2\"]:\n",
    "                results[hhid][col+\"_\"+c] = np.nan\n",
    "        else:\n",
    "            for col in [\"j02_1\", \"j02_2\", \"j03_1\", \"j03_2\"]:\n",
    "                items = [x for x in list(relevant_rows[col]) if not np.isnan(x)]\n",
    "                if len(items):\n",
    "                    results[hhid][col+\"_\"+c] = sum(items)\n",
    "                else:\n",
    "                    results[hhid][col+\"_\"+c] = np.nan\n",
    "\n",
    "processed = pd.DataFrame.from_dict({\"hhid\":list(unique_hhids)})\n",
    "for column in results[1]:\n",
    "    processed[column] = [results[hhid][column] for hhid in results]"
   ]
  },
  {
   "cell_type": "code",
   "execution_count": 191,
   "id": "a03363b6",
   "metadata": {},
   "outputs": [],
   "source": [
    "PROCESSED_DFS.append(processed)"
   ]
  },
  {
   "cell_type": "markdown",
   "id": "fe2b5a8d",
   "metadata": {},
   "source": [
    "## K: Housing, Source of Water and sanitation"
   ]
  },
  {
   "cell_type": "code",
   "execution_count": 192,
   "id": "bb312212",
   "metadata": {},
   "outputs": [],
   "source": [
    "filename = \"011_mod_k.dta\"\n",
    "path = DATA_DIR + DATA_SUBDIR + filename\n",
    "df = load_data(path)"
   ]
  },
  {
   "cell_type": "code",
   "execution_count": 193,
   "id": "863e1236",
   "metadata": {},
   "outputs": [],
   "source": [
    "processed = column_selection(df, keep=[\"hhid\", \"k01\", \"k02\", \"k03\", \"k03_1\", \n",
    "                                       \"k04\", \"k05\", \"k05_1\", \"k06\", \"k07\", \"k10\"])"
   ]
  },
  {
   "cell_type": "code",
   "execution_count": 194,
   "id": "a29d018f",
   "metadata": {},
   "outputs": [],
   "source": [
    "PROCESSED_DFS.append(processed)"
   ]
  },
  {
   "cell_type": "markdown",
   "id": "061064d3",
   "metadata": {},
   "source": [
    "## L : Weather events adversely affected the household or the farming"
   ]
  },
  {
   "cell_type": "code",
   "execution_count": 195,
   "id": "cb5aba15",
   "metadata": {},
   "outputs": [],
   "source": [
    "filename = \"012_mod_l.dta\"\n",
    "path = DATA_DIR + DATA_SUBDIR + filename\n",
    "df = load_data(path)"
   ]
  },
  {
   "cell_type": "code",
   "execution_count": 196,
   "id": "1411620c",
   "metadata": {},
   "outputs": [],
   "source": [
    "calamity_numbers = [i for i in range(1, 13)]\n",
    "\n",
    "results = {hhid:{} for hhid in unique_hhids}\n",
    "\n",
    "for hhid in unique_hhids:\n",
    "    household = df.loc[df.hhid == hhid]\n",
    "    nums = list(household[\"l01\"])\n",
    "    for n in calamity_numbers:\n",
    "        # TODO: missing values!\n",
    "        if n not in nums:\n",
    "            results[hhid][\"calamity_\"+str(n)] = 0\n",
    "        else:\n",
    "            if int(household.loc[household[\"l01\"]==n][\"l02\"]) == 1:\n",
    "                results[hhid][\"calamity_\"+str(n)] = 1\n",
    "            else:\n",
    "                results[hhid][\"calamity_\"+str(n)] = 0       \n",
    "\n",
    "processed = pd.DataFrame()\n",
    "for column in results[1]:\n",
    "    processed[column] = [results[hhid][column] for hhid in results]\n",
    "    \n",
    "processed[\"hhid\"] = unique_hhids"
   ]
  },
  {
   "cell_type": "code",
   "execution_count": 197,
   "id": "f32d0fc9",
   "metadata": {},
   "outputs": [],
   "source": [
    "PROCESSED_DFS.append(processed)"
   ]
  },
  {
   "cell_type": "markdown",
   "id": "cd54cd53",
   "metadata": {},
   "source": [
    "## L1: Weather events adversely affected the household or the farming cope"
   ]
  },
  {
   "cell_type": "code",
   "execution_count": 198,
   "id": "debb57a2",
   "metadata": {},
   "outputs": [],
   "source": [
    "filename = \"013_mod_l1.dta\"\n",
    "path = DATA_DIR + DATA_SUBDIR + filename\n",
    "df = load_data(path)"
   ]
  },
  {
   "cell_type": "code",
   "execution_count": 199,
   "id": "5dee516f",
   "metadata": {
    "scrolled": true
   },
   "outputs": [],
   "source": [
    "df = df.groupby(\"hhid\").sum()\n",
    "processed = column_selection(df, keep=[\"l1_05\"])\n",
    "processed = processed.rename(columns={\"l1_05\":\"weather_events_damage\"})\n",
    "processed[\"hhid\"] = processed.index"
   ]
  },
  {
   "cell_type": "code",
   "execution_count": 200,
   "id": "b854053d",
   "metadata": {},
   "outputs": [],
   "source": [
    "PROCESSED_DFS.append(processed)"
   ]
  },
  {
   "cell_type": "markdown",
   "id": "51d55c4b",
   "metadata": {},
   "source": [
    "## L2: Shocks"
   ]
  },
  {
   "cell_type": "code",
   "execution_count": 201,
   "id": "1275aac5",
   "metadata": {},
   "outputs": [],
   "source": [
    "filename = \"014_mod_l2.dta\"\n",
    "path = DATA_DIR + DATA_SUBDIR + filename\n",
    "df = load_data(path)"
   ]
  },
  {
   "cell_type": "code",
   "execution_count": 202,
   "id": "2d23d318",
   "metadata": {},
   "outputs": [],
   "source": [
    "df = df.groupby(\"hhid\").sum()\n",
    "processed = column_selection(df, keep=[\"l2_06\"])\n",
    "processed[\"hhid\"] = processed.index"
   ]
  },
  {
   "cell_type": "code",
   "execution_count": 203,
   "id": "c15158f0",
   "metadata": {},
   "outputs": [],
   "source": [
    "PROCESSED_DFS.append(processed)"
   ]
  },
  {
   "cell_type": "markdown",
   "id": "12c9e7f4",
   "metadata": {},
   "source": [
    "## L3: Positive Economic Events"
   ]
  },
  {
   "cell_type": "code",
   "execution_count": 204,
   "id": "96d24f27",
   "metadata": {},
   "outputs": [],
   "source": [
    "filename = \"015_mod_l3.dta\"\n",
    "path = DATA_DIR + DATA_SUBDIR + filename\n",
    "df = load_data(path)"
   ]
  },
  {
   "cell_type": "code",
   "execution_count": 205,
   "id": "d0b1fa6c",
   "metadata": {},
   "outputs": [],
   "source": [
    "df = df.groupby(\"hhid\").sum()\n",
    "processed = column_selection(df, keep=[\"l3_06\"])\n",
    "processed[\"hhid\"] = processed.index"
   ]
  },
  {
   "cell_type": "code",
   "execution_count": 206,
   "id": "20df7284",
   "metadata": {},
   "outputs": [],
   "source": [
    "PROCESSED_DFS.append(processed)"
   ]
  },
  {
   "cell_type": "markdown",
   "id": "373b99d5",
   "metadata": {},
   "source": [
    "## M: Agricultural extension"
   ]
  },
  {
   "cell_type": "code",
   "execution_count": 207,
   "id": "5a76eb65",
   "metadata": {},
   "outputs": [],
   "source": [
    "filename = \"017_mod_m.dta\"\n",
    "path = DATA_DIR + DATA_SUBDIR + filename\n",
    "df = load_data(path)"
   ]
  },
  {
   "cell_type": "code",
   "execution_count": 208,
   "id": "a9485fde",
   "metadata": {},
   "outputs": [],
   "source": [
    "processed = column_selection(df)"
   ]
  },
  {
   "cell_type": "code",
   "execution_count": 209,
   "id": "84d0d5be",
   "metadata": {},
   "outputs": [],
   "source": [
    "PROCESSED_DFS.append(processed)"
   ]
  },
  {
   "cell_type": "markdown",
   "id": "c2b64275",
   "metadata": {},
   "source": [
    "## Q: Perceptions of Climate Change"
   ]
  },
  {
   "cell_type": "code",
   "execution_count": 210,
   "id": "3440463b",
   "metadata": {},
   "outputs": [],
   "source": [
    "filename = \"018_mod_q.dta\"\n",
    "path = DATA_DIR + DATA_SUBDIR + filename\n",
    "df = load_data(path)"
   ]
  },
  {
   "cell_type": "code",
   "execution_count": 211,
   "id": "4ce11c74",
   "metadata": {},
   "outputs": [],
   "source": [
    "processed = column_selection(df)"
   ]
  },
  {
   "cell_type": "code",
   "execution_count": 212,
   "id": "34da5d1b",
   "metadata": {},
   "outputs": [],
   "source": [
    "PROCESSED_DFS.append(processed)"
   ]
  },
  {
   "cell_type": "markdown",
   "id": "7410441d",
   "metadata": {},
   "source": [
    "## O: Changes in farming practices due to climate change"
   ]
  },
  {
   "cell_type": "code",
   "execution_count": 213,
   "id": "787e5f62",
   "metadata": {},
   "outputs": [],
   "source": [
    "filename = \"019_mod_o.dta\"\n",
    "path = DATA_DIR + DATA_SUBDIR + filename\n",
    "df = load_data(path)"
   ]
  },
  {
   "cell_type": "code",
   "execution_count": 214,
   "id": "eec377b5",
   "metadata": {},
   "outputs": [],
   "source": [
    "keep = [\"hhid\"] + [\"o0\"+str(i)+\"_1\" for i in range(2, 9)] + [\"o09\"] + \\\n",
    "       [\"o\"+str(i) for i in range(10, 23)] + [\"o\"+str(i)+\"_1\" for i in range(23, 29)] + [\"o29\"]\n",
    "\n",
    "processed = column_selection(df, keep=keep)"
   ]
  },
  {
   "cell_type": "code",
   "execution_count": 215,
   "id": "2c27cf3c",
   "metadata": {},
   "outputs": [],
   "source": [
    "PROCESSED_DFS.append(processed)"
   ]
  },
  {
   "cell_type": "markdown",
   "id": "27695b5a",
   "metadata": {},
   "source": [
    "## O1: Any integration about Livestock/Poultry"
   ]
  },
  {
   "cell_type": "code",
   "execution_count": 216,
   "id": "ec6942fb",
   "metadata": {},
   "outputs": [],
   "source": [
    "filename = \"020_mod_o1.dta\"\n",
    "path = DATA_DIR + DATA_SUBDIR + filename\n",
    "df = load_data(path)"
   ]
  },
  {
   "cell_type": "code",
   "execution_count": 217,
   "id": "ca6eaaed",
   "metadata": {},
   "outputs": [],
   "source": [
    "keep = [\"hhid\"] + [\"o1_01_\"+str(i) for i in range(1, 10)]\n",
    "processed = column_selection(df, keep=keep)"
   ]
  },
  {
   "cell_type": "code",
   "execution_count": 218,
   "id": "d16200fa",
   "metadata": {},
   "outputs": [],
   "source": [
    "PROCESSED_DFS.append(processed)"
   ]
  },
  {
   "cell_type": "markdown",
   "id": "b88b84ff",
   "metadata": {},
   "source": [
    "## O2: Constraints to adaptation"
   ]
  },
  {
   "cell_type": "code",
   "execution_count": 219,
   "id": "89cf12ed",
   "metadata": {},
   "outputs": [],
   "source": [
    "filename = \"021_mod_o2.dta\"\n",
    "path = DATA_DIR + DATA_SUBDIR + filename\n",
    "df = load_data(path)"
   ]
  },
  {
   "cell_type": "code",
   "execution_count": 220,
   "id": "1d4c907e",
   "metadata": {},
   "outputs": [],
   "source": [
    "# TODO"
   ]
  },
  {
   "cell_type": "markdown",
   "id": "87591cba",
   "metadata": {},
   "source": [
    "## R1: Information of group based approach"
   ]
  },
  {
   "cell_type": "code",
   "execution_count": 221,
   "id": "fa9458cb",
   "metadata": {},
   "outputs": [],
   "source": [
    "filename = \"022_mod_r1.dta\"\n",
    "path = DATA_DIR + DATA_SUBDIR + filename\n",
    "df = load_data(path)"
   ]
  },
  {
   "cell_type": "code",
   "execution_count": 222,
   "id": "393b5d08",
   "metadata": {
    "scrolled": true
   },
   "outputs": [],
   "source": [
    "groups = np.arange(1, 19)\n",
    "\n",
    "results = {hhid:{} for hhid in unique_hhids}\n",
    "for hhid in unique_hhids:\n",
    "    household = df.loc[df.hhid==hhid]\n",
    "    for g in groups:\n",
    "        g_row = household.loc[household[\"r1_01\"]==g]\n",
    "        if len(g_row):\n",
    "            membership_values = list(g_row[\"r1_02\"])\n",
    "            if 1 in membership_values:\n",
    "                results[hhid][f\"group_{g}_membership\"] = 1\n",
    "            else:\n",
    "                results[hhid][f\"group_{g}_membership\"] = 0\n",
    "        else:\n",
    "            results[hhid][f\"group_{g}_membership\"] = 0\n",
    "            \n",
    "processed = pd.DataFrame()\n",
    "for column in results[1]:\n",
    "    processed[column] = [results[hhid][column] for hhid in results]\n",
    "    \n",
    "processed[\"hhid\"] = unique_hhids"
   ]
  },
  {
   "cell_type": "code",
   "execution_count": 223,
   "id": "1751fd06",
   "metadata": {},
   "outputs": [],
   "source": [
    "PROCESSED_DFS.append(processed)"
   ]
  },
  {
   "cell_type": "markdown",
   "id": "d929dfe5",
   "metadata": {},
   "source": [
    "## R2: Group activity related information"
   ]
  },
  {
   "cell_type": "code",
   "execution_count": 224,
   "id": "e38fbcfd",
   "metadata": {},
   "outputs": [
    {
     "data": {
      "text/html": [
       "<div>\n",
       "<style scoped>\n",
       "    .dataframe tbody tr th:only-of-type {\n",
       "        vertical-align: middle;\n",
       "    }\n",
       "\n",
       "    .dataframe tbody tr th {\n",
       "        vertical-align: top;\n",
       "    }\n",
       "\n",
       "    .dataframe thead th {\n",
       "        text-align: right;\n",
       "    }\n",
       "</style>\n",
       "<table border=\"1\" class=\"dataframe\">\n",
       "  <thead>\n",
       "    <tr style=\"text-align: right;\">\n",
       "      <th></th>\n",
       "      <th>hhid</th>\n",
       "      <th>r2_01_1</th>\n",
       "      <th>r2_02_1</th>\n",
       "      <th>r2_03_1</th>\n",
       "      <th>r2_04_1</th>\n",
       "      <th>r2_05_1</th>\n",
       "      <th>r2_06_1</th>\n",
       "      <th>r2_07_1</th>\n",
       "      <th>r2_08_1</th>\n",
       "      <th>r2_09_1</th>\n",
       "      <th>...</th>\n",
       "      <th>r2_24_3</th>\n",
       "      <th>r2_25_3</th>\n",
       "      <th>r2_26_3</th>\n",
       "      <th>r2_27_3</th>\n",
       "      <th>r2_28_3</th>\n",
       "      <th>r2_24_4</th>\n",
       "      <th>r2_25_4</th>\n",
       "      <th>r2_26_4</th>\n",
       "      <th>r2_27_4</th>\n",
       "      <th>r2_28_4</th>\n",
       "    </tr>\n",
       "  </thead>\n",
       "  <tbody>\n",
       "    <tr>\n",
       "      <th>0</th>\n",
       "      <td>1.0</td>\n",
       "      <td>1.0</td>\n",
       "      <td>1.0</td>\n",
       "      <td>8.0</td>\n",
       "      <td>1.0</td>\n",
       "      <td>2.0</td>\n",
       "      <td>4.0</td>\n",
       "      <td>4.0</td>\n",
       "      <td>2.0</td>\n",
       "      <td>4.0</td>\n",
       "      <td>...</td>\n",
       "      <td>0.25</td>\n",
       "      <td>0.0</td>\n",
       "      <td>0.0</td>\n",
       "      <td>0.0</td>\n",
       "      <td>0.0</td>\n",
       "      <td>NaN</td>\n",
       "      <td>NaN</td>\n",
       "      <td>NaN</td>\n",
       "      <td>NaN</td>\n",
       "      <td>NaN</td>\n",
       "    </tr>\n",
       "    <tr>\n",
       "      <th>1</th>\n",
       "      <td>2.0</td>\n",
       "      <td>1.0</td>\n",
       "      <td>1.0</td>\n",
       "      <td>10.0</td>\n",
       "      <td>2.0</td>\n",
       "      <td>2.0</td>\n",
       "      <td>4.0</td>\n",
       "      <td>5.0</td>\n",
       "      <td>1.0</td>\n",
       "      <td>4.0</td>\n",
       "      <td>...</td>\n",
       "      <td>NaN</td>\n",
       "      <td>NaN</td>\n",
       "      <td>NaN</td>\n",
       "      <td>NaN</td>\n",
       "      <td>NaN</td>\n",
       "      <td>NaN</td>\n",
       "      <td>NaN</td>\n",
       "      <td>NaN</td>\n",
       "      <td>NaN</td>\n",
       "      <td>NaN</td>\n",
       "    </tr>\n",
       "    <tr>\n",
       "      <th>2</th>\n",
       "      <td>3.0</td>\n",
       "      <td>1.0</td>\n",
       "      <td>3.0</td>\n",
       "      <td>12.0</td>\n",
       "      <td>2.0</td>\n",
       "      <td>4.0</td>\n",
       "      <td>4.0</td>\n",
       "      <td>4.0</td>\n",
       "      <td>1.0</td>\n",
       "      <td>1.0</td>\n",
       "      <td>...</td>\n",
       "      <td>NaN</td>\n",
       "      <td>NaN</td>\n",
       "      <td>NaN</td>\n",
       "      <td>NaN</td>\n",
       "      <td>NaN</td>\n",
       "      <td>NaN</td>\n",
       "      <td>NaN</td>\n",
       "      <td>NaN</td>\n",
       "      <td>NaN</td>\n",
       "      <td>NaN</td>\n",
       "    </tr>\n",
       "    <tr>\n",
       "      <th>3</th>\n",
       "      <td>4.0</td>\n",
       "      <td>1.0</td>\n",
       "      <td>1.0</td>\n",
       "      <td>50.0</td>\n",
       "      <td>2.0</td>\n",
       "      <td>2.0</td>\n",
       "      <td>4.0</td>\n",
       "      <td>5.0</td>\n",
       "      <td>2.0</td>\n",
       "      <td>4.0</td>\n",
       "      <td>...</td>\n",
       "      <td>NaN</td>\n",
       "      <td>NaN</td>\n",
       "      <td>NaN</td>\n",
       "      <td>NaN</td>\n",
       "      <td>NaN</td>\n",
       "      <td>NaN</td>\n",
       "      <td>NaN</td>\n",
       "      <td>NaN</td>\n",
       "      <td>NaN</td>\n",
       "      <td>NaN</td>\n",
       "    </tr>\n",
       "    <tr>\n",
       "      <th>4</th>\n",
       "      <td>5.0</td>\n",
       "      <td>NaN</td>\n",
       "      <td>NaN</td>\n",
       "      <td>NaN</td>\n",
       "      <td>NaN</td>\n",
       "      <td>NaN</td>\n",
       "      <td>NaN</td>\n",
       "      <td>NaN</td>\n",
       "      <td>NaN</td>\n",
       "      <td>NaN</td>\n",
       "      <td>...</td>\n",
       "      <td>0.50</td>\n",
       "      <td>30.0</td>\n",
       "      <td>0.0</td>\n",
       "      <td>0.0</td>\n",
       "      <td>0.0</td>\n",
       "      <td>NaN</td>\n",
       "      <td>NaN</td>\n",
       "      <td>NaN</td>\n",
       "      <td>NaN</td>\n",
       "      <td>NaN</td>\n",
       "    </tr>\n",
       "    <tr>\n",
       "      <th>...</th>\n",
       "      <td>...</td>\n",
       "      <td>...</td>\n",
       "      <td>...</td>\n",
       "      <td>...</td>\n",
       "      <td>...</td>\n",
       "      <td>...</td>\n",
       "      <td>...</td>\n",
       "      <td>...</td>\n",
       "      <td>...</td>\n",
       "      <td>...</td>\n",
       "      <td>...</td>\n",
       "      <td>...</td>\n",
       "      <td>...</td>\n",
       "      <td>...</td>\n",
       "      <td>...</td>\n",
       "      <td>...</td>\n",
       "      <td>...</td>\n",
       "      <td>...</td>\n",
       "      <td>...</td>\n",
       "      <td>...</td>\n",
       "      <td>...</td>\n",
       "    </tr>\n",
       "    <tr>\n",
       "      <th>701</th>\n",
       "      <td>793.0</td>\n",
       "      <td>1.0</td>\n",
       "      <td>1.0</td>\n",
       "      <td>2.0</td>\n",
       "      <td>2.0</td>\n",
       "      <td>3.0</td>\n",
       "      <td>4.0</td>\n",
       "      <td>4.0</td>\n",
       "      <td>2.0</td>\n",
       "      <td>4.0</td>\n",
       "      <td>...</td>\n",
       "      <td>NaN</td>\n",
       "      <td>NaN</td>\n",
       "      <td>NaN</td>\n",
       "      <td>NaN</td>\n",
       "      <td>NaN</td>\n",
       "      <td>NaN</td>\n",
       "      <td>NaN</td>\n",
       "      <td>NaN</td>\n",
       "      <td>NaN</td>\n",
       "      <td>NaN</td>\n",
       "    </tr>\n",
       "    <tr>\n",
       "      <th>702</th>\n",
       "      <td>795.0</td>\n",
       "      <td>3.0</td>\n",
       "      <td>18.0</td>\n",
       "      <td>10.0</td>\n",
       "      <td>2.0</td>\n",
       "      <td>4.0</td>\n",
       "      <td>4.0</td>\n",
       "      <td>4.0</td>\n",
       "      <td>2.0</td>\n",
       "      <td>1.0</td>\n",
       "      <td>...</td>\n",
       "      <td>NaN</td>\n",
       "      <td>NaN</td>\n",
       "      <td>NaN</td>\n",
       "      <td>NaN</td>\n",
       "      <td>NaN</td>\n",
       "      <td>NaN</td>\n",
       "      <td>NaN</td>\n",
       "      <td>NaN</td>\n",
       "      <td>NaN</td>\n",
       "      <td>NaN</td>\n",
       "    </tr>\n",
       "    <tr>\n",
       "      <th>703</th>\n",
       "      <td>796.0</td>\n",
       "      <td>1.0</td>\n",
       "      <td>3.0</td>\n",
       "      <td>48.0</td>\n",
       "      <td>1.0</td>\n",
       "      <td>4.0</td>\n",
       "      <td>4.0</td>\n",
       "      <td>1.0</td>\n",
       "      <td>1.0</td>\n",
       "      <td>1.0</td>\n",
       "      <td>...</td>\n",
       "      <td>NaN</td>\n",
       "      <td>NaN</td>\n",
       "      <td>NaN</td>\n",
       "      <td>NaN</td>\n",
       "      <td>NaN</td>\n",
       "      <td>NaN</td>\n",
       "      <td>NaN</td>\n",
       "      <td>NaN</td>\n",
       "      <td>NaN</td>\n",
       "      <td>NaN</td>\n",
       "    </tr>\n",
       "    <tr>\n",
       "      <th>704</th>\n",
       "      <td>798.0</td>\n",
       "      <td>1.0</td>\n",
       "      <td>3.0</td>\n",
       "      <td>27.0</td>\n",
       "      <td>2.0</td>\n",
       "      <td>4.0</td>\n",
       "      <td>4.0</td>\n",
       "      <td>4.0</td>\n",
       "      <td>1.0</td>\n",
       "      <td>3.0</td>\n",
       "      <td>...</td>\n",
       "      <td>NaN</td>\n",
       "      <td>NaN</td>\n",
       "      <td>NaN</td>\n",
       "      <td>NaN</td>\n",
       "      <td>NaN</td>\n",
       "      <td>NaN</td>\n",
       "      <td>NaN</td>\n",
       "      <td>NaN</td>\n",
       "      <td>NaN</td>\n",
       "      <td>NaN</td>\n",
       "    </tr>\n",
       "    <tr>\n",
       "      <th>705</th>\n",
       "      <td>799.0</td>\n",
       "      <td>8.0</td>\n",
       "      <td>16.0</td>\n",
       "      <td>20.0</td>\n",
       "      <td>2.0</td>\n",
       "      <td>4.0</td>\n",
       "      <td>4.0</td>\n",
       "      <td>4.0</td>\n",
       "      <td>1.0</td>\n",
       "      <td>1.0</td>\n",
       "      <td>...</td>\n",
       "      <td>0.00</td>\n",
       "      <td>0.0</td>\n",
       "      <td>50.0</td>\n",
       "      <td>200.0</td>\n",
       "      <td>0.0</td>\n",
       "      <td>NaN</td>\n",
       "      <td>NaN</td>\n",
       "      <td>NaN</td>\n",
       "      <td>NaN</td>\n",
       "      <td>NaN</td>\n",
       "    </tr>\n",
       "  </tbody>\n",
       "</table>\n",
       "<p>706 rows × 141 columns</p>\n",
       "</div>"
      ],
      "text/plain": [
       "      hhid  r2_01_1  r2_02_1  r2_03_1  r2_04_1  r2_05_1  r2_06_1  r2_07_1  \\\n",
       "0      1.0      1.0      1.0      8.0      1.0      2.0      4.0      4.0   \n",
       "1      2.0      1.0      1.0     10.0      2.0      2.0      4.0      5.0   \n",
       "2      3.0      1.0      3.0     12.0      2.0      4.0      4.0      4.0   \n",
       "3      4.0      1.0      1.0     50.0      2.0      2.0      4.0      5.0   \n",
       "4      5.0      NaN      NaN      NaN      NaN      NaN      NaN      NaN   \n",
       "..     ...      ...      ...      ...      ...      ...      ...      ...   \n",
       "701  793.0      1.0      1.0      2.0      2.0      3.0      4.0      4.0   \n",
       "702  795.0      3.0     18.0     10.0      2.0      4.0      4.0      4.0   \n",
       "703  796.0      1.0      3.0     48.0      1.0      4.0      4.0      1.0   \n",
       "704  798.0      1.0      3.0     27.0      2.0      4.0      4.0      4.0   \n",
       "705  799.0      8.0     16.0     20.0      2.0      4.0      4.0      4.0   \n",
       "\n",
       "     r2_08_1  r2_09_1  ...  r2_24_3  r2_25_3  r2_26_3  r2_27_3  r2_28_3  \\\n",
       "0        2.0      4.0  ...     0.25      0.0      0.0      0.0      0.0   \n",
       "1        1.0      4.0  ...      NaN      NaN      NaN      NaN      NaN   \n",
       "2        1.0      1.0  ...      NaN      NaN      NaN      NaN      NaN   \n",
       "3        2.0      4.0  ...      NaN      NaN      NaN      NaN      NaN   \n",
       "4        NaN      NaN  ...     0.50     30.0      0.0      0.0      0.0   \n",
       "..       ...      ...  ...      ...      ...      ...      ...      ...   \n",
       "701      2.0      4.0  ...      NaN      NaN      NaN      NaN      NaN   \n",
       "702      2.0      1.0  ...      NaN      NaN      NaN      NaN      NaN   \n",
       "703      1.0      1.0  ...      NaN      NaN      NaN      NaN      NaN   \n",
       "704      1.0      3.0  ...      NaN      NaN      NaN      NaN      NaN   \n",
       "705      1.0      1.0  ...     0.00      0.0     50.0    200.0      0.0   \n",
       "\n",
       "     r2_24_4  r2_25_4  r2_26_4  r2_27_4  r2_28_4  \n",
       "0        NaN      NaN      NaN      NaN      NaN  \n",
       "1        NaN      NaN      NaN      NaN      NaN  \n",
       "2        NaN      NaN      NaN      NaN      NaN  \n",
       "3        NaN      NaN      NaN      NaN      NaN  \n",
       "4        NaN      NaN      NaN      NaN      NaN  \n",
       "..       ...      ...      ...      ...      ...  \n",
       "701      NaN      NaN      NaN      NaN      NaN  \n",
       "702      NaN      NaN      NaN      NaN      NaN  \n",
       "703      NaN      NaN      NaN      NaN      NaN  \n",
       "704      NaN      NaN      NaN      NaN      NaN  \n",
       "705      NaN      NaN      NaN      NaN      NaN  \n",
       "\n",
       "[706 rows x 141 columns]"
      ]
     },
     "execution_count": 224,
     "metadata": {},
     "output_type": "execute_result"
    }
   ],
   "source": [
    "filename = \"023_mod_r2.dta\"\n",
    "path = DATA_DIR + DATA_SUBDIR + filename\n",
    "df = load_data(path)\n",
    "df"
   ]
  },
  {
   "cell_type": "code",
   "execution_count": 225,
   "id": "4a516f4d",
   "metadata": {},
   "outputs": [],
   "source": [
    "keep = [\"hhid\"]\n",
    "keep += [f\"r2_15_{i}\" for i in range(1,5)] + [f\"r2_16_{i}\" for i in range(1,5)]\n",
    "for j in range(17, 24):\n",
    "    keep += [f\"r2_{j}_{i}_1\" for i in range(1,5)]\n",
    "processed = column_selection(df, keep=keep)"
   ]
  },
  {
   "cell_type": "markdown",
   "id": "d69b273d",
   "metadata": {},
   "source": [
    "## R3: Network"
   ]
  },
  {
   "cell_type": "code",
   "execution_count": 226,
   "id": "29935429",
   "metadata": {},
   "outputs": [],
   "source": [
    "filename = \"024_mod_r3.dta\"\n",
    "path = DATA_DIR + DATA_SUBDIR + filename\n",
    "df = load_data(path)"
   ]
  },
  {
   "cell_type": "code",
   "execution_count": 227,
   "id": "4494d324",
   "metadata": {},
   "outputs": [
    {
     "data": {
      "text/html": [
       "<div>\n",
       "<style scoped>\n",
       "    .dataframe tbody tr th:only-of-type {\n",
       "        vertical-align: middle;\n",
       "    }\n",
       "\n",
       "    .dataframe tbody tr th {\n",
       "        vertical-align: top;\n",
       "    }\n",
       "\n",
       "    .dataframe thead th {\n",
       "        text-align: right;\n",
       "    }\n",
       "</style>\n",
       "<table border=\"1\" class=\"dataframe\">\n",
       "  <thead>\n",
       "    <tr style=\"text-align: right;\">\n",
       "      <th></th>\n",
       "      <th>hhid</th>\n",
       "      <th>r2_15_1</th>\n",
       "      <th>r2_15_2</th>\n",
       "      <th>r2_15_3</th>\n",
       "      <th>r2_15_4</th>\n",
       "      <th>r2_16_1</th>\n",
       "      <th>r2_16_2</th>\n",
       "      <th>r2_16_3</th>\n",
       "      <th>r2_16_4</th>\n",
       "      <th>r2_17_1_1</th>\n",
       "      <th>...</th>\n",
       "      <th>r2_21_3_1</th>\n",
       "      <th>r2_21_4_1</th>\n",
       "      <th>r2_22_1_1</th>\n",
       "      <th>r2_22_2_1</th>\n",
       "      <th>r2_22_3_1</th>\n",
       "      <th>r2_22_4_1</th>\n",
       "      <th>r2_23_1_1</th>\n",
       "      <th>r2_23_2_1</th>\n",
       "      <th>r2_23_3_1</th>\n",
       "      <th>r2_23_4_1</th>\n",
       "    </tr>\n",
       "  </thead>\n",
       "  <tbody>\n",
       "    <tr>\n",
       "      <th>0</th>\n",
       "      <td>1.0</td>\n",
       "      <td>1.0</td>\n",
       "      <td>3.0</td>\n",
       "      <td>3.0</td>\n",
       "      <td>NaN</td>\n",
       "      <td>1.0</td>\n",
       "      <td>1.0</td>\n",
       "      <td>1.0</td>\n",
       "      <td>NaN</td>\n",
       "      <td>1.0</td>\n",
       "      <td>...</td>\n",
       "      <td>2.0</td>\n",
       "      <td>NaN</td>\n",
       "      <td>1.0</td>\n",
       "      <td>2.0</td>\n",
       "      <td>2.0</td>\n",
       "      <td>NaN</td>\n",
       "      <td>1.0</td>\n",
       "      <td>1.0</td>\n",
       "      <td>1.0</td>\n",
       "      <td>NaN</td>\n",
       "    </tr>\n",
       "    <tr>\n",
       "      <th>1</th>\n",
       "      <td>2.0</td>\n",
       "      <td>1.0</td>\n",
       "      <td>NaN</td>\n",
       "      <td>NaN</td>\n",
       "      <td>NaN</td>\n",
       "      <td>1.0</td>\n",
       "      <td>NaN</td>\n",
       "      <td>NaN</td>\n",
       "      <td>NaN</td>\n",
       "      <td>1.0</td>\n",
       "      <td>...</td>\n",
       "      <td>NaN</td>\n",
       "      <td>NaN</td>\n",
       "      <td>1.0</td>\n",
       "      <td>NaN</td>\n",
       "      <td>NaN</td>\n",
       "      <td>NaN</td>\n",
       "      <td>2.0</td>\n",
       "      <td>NaN</td>\n",
       "      <td>NaN</td>\n",
       "      <td>NaN</td>\n",
       "    </tr>\n",
       "    <tr>\n",
       "      <th>2</th>\n",
       "      <td>3.0</td>\n",
       "      <td>3.0</td>\n",
       "      <td>1.0</td>\n",
       "      <td>NaN</td>\n",
       "      <td>NaN</td>\n",
       "      <td>1.0</td>\n",
       "      <td>1.0</td>\n",
       "      <td>NaN</td>\n",
       "      <td>NaN</td>\n",
       "      <td>2.0</td>\n",
       "      <td>...</td>\n",
       "      <td>NaN</td>\n",
       "      <td>NaN</td>\n",
       "      <td>2.0</td>\n",
       "      <td>1.0</td>\n",
       "      <td>NaN</td>\n",
       "      <td>NaN</td>\n",
       "      <td>1.0</td>\n",
       "      <td>2.0</td>\n",
       "      <td>NaN</td>\n",
       "      <td>NaN</td>\n",
       "    </tr>\n",
       "    <tr>\n",
       "      <th>3</th>\n",
       "      <td>4.0</td>\n",
       "      <td>1.0</td>\n",
       "      <td>NaN</td>\n",
       "      <td>NaN</td>\n",
       "      <td>NaN</td>\n",
       "      <td>1.0</td>\n",
       "      <td>NaN</td>\n",
       "      <td>NaN</td>\n",
       "      <td>NaN</td>\n",
       "      <td>2.0</td>\n",
       "      <td>...</td>\n",
       "      <td>NaN</td>\n",
       "      <td>NaN</td>\n",
       "      <td>1.0</td>\n",
       "      <td>NaN</td>\n",
       "      <td>NaN</td>\n",
       "      <td>NaN</td>\n",
       "      <td>2.0</td>\n",
       "      <td>NaN</td>\n",
       "      <td>NaN</td>\n",
       "      <td>NaN</td>\n",
       "    </tr>\n",
       "    <tr>\n",
       "      <th>4</th>\n",
       "      <td>5.0</td>\n",
       "      <td>NaN</td>\n",
       "      <td>NaN</td>\n",
       "      <td>1.0</td>\n",
       "      <td>NaN</td>\n",
       "      <td>NaN</td>\n",
       "      <td>NaN</td>\n",
       "      <td>1.0</td>\n",
       "      <td>NaN</td>\n",
       "      <td>NaN</td>\n",
       "      <td>...</td>\n",
       "      <td>2.0</td>\n",
       "      <td>NaN</td>\n",
       "      <td>NaN</td>\n",
       "      <td>NaN</td>\n",
       "      <td>2.0</td>\n",
       "      <td>NaN</td>\n",
       "      <td>NaN</td>\n",
       "      <td>NaN</td>\n",
       "      <td>2.0</td>\n",
       "      <td>NaN</td>\n",
       "    </tr>\n",
       "    <tr>\n",
       "      <th>...</th>\n",
       "      <td>...</td>\n",
       "      <td>...</td>\n",
       "      <td>...</td>\n",
       "      <td>...</td>\n",
       "      <td>...</td>\n",
       "      <td>...</td>\n",
       "      <td>...</td>\n",
       "      <td>...</td>\n",
       "      <td>...</td>\n",
       "      <td>...</td>\n",
       "      <td>...</td>\n",
       "      <td>...</td>\n",
       "      <td>...</td>\n",
       "      <td>...</td>\n",
       "      <td>...</td>\n",
       "      <td>...</td>\n",
       "      <td>...</td>\n",
       "      <td>...</td>\n",
       "      <td>...</td>\n",
       "      <td>...</td>\n",
       "      <td>...</td>\n",
       "    </tr>\n",
       "    <tr>\n",
       "      <th>701</th>\n",
       "      <td>793.0</td>\n",
       "      <td>5.0</td>\n",
       "      <td>6.0</td>\n",
       "      <td>NaN</td>\n",
       "      <td>NaN</td>\n",
       "      <td>1.0</td>\n",
       "      <td>1.0</td>\n",
       "      <td>NaN</td>\n",
       "      <td>NaN</td>\n",
       "      <td>2.0</td>\n",
       "      <td>...</td>\n",
       "      <td>NaN</td>\n",
       "      <td>NaN</td>\n",
       "      <td>2.0</td>\n",
       "      <td>2.0</td>\n",
       "      <td>NaN</td>\n",
       "      <td>NaN</td>\n",
       "      <td>2.0</td>\n",
       "      <td>2.0</td>\n",
       "      <td>NaN</td>\n",
       "      <td>NaN</td>\n",
       "    </tr>\n",
       "    <tr>\n",
       "      <th>702</th>\n",
       "      <td>795.0</td>\n",
       "      <td>2.0</td>\n",
       "      <td>NaN</td>\n",
       "      <td>NaN</td>\n",
       "      <td>NaN</td>\n",
       "      <td>1.0</td>\n",
       "      <td>NaN</td>\n",
       "      <td>NaN</td>\n",
       "      <td>NaN</td>\n",
       "      <td>2.0</td>\n",
       "      <td>...</td>\n",
       "      <td>NaN</td>\n",
       "      <td>NaN</td>\n",
       "      <td>2.0</td>\n",
       "      <td>NaN</td>\n",
       "      <td>NaN</td>\n",
       "      <td>NaN</td>\n",
       "      <td>2.0</td>\n",
       "      <td>NaN</td>\n",
       "      <td>NaN</td>\n",
       "      <td>NaN</td>\n",
       "    </tr>\n",
       "    <tr>\n",
       "      <th>703</th>\n",
       "      <td>796.0</td>\n",
       "      <td>3.0</td>\n",
       "      <td>NaN</td>\n",
       "      <td>NaN</td>\n",
       "      <td>NaN</td>\n",
       "      <td>1.0</td>\n",
       "      <td>NaN</td>\n",
       "      <td>NaN</td>\n",
       "      <td>NaN</td>\n",
       "      <td>2.0</td>\n",
       "      <td>...</td>\n",
       "      <td>NaN</td>\n",
       "      <td>NaN</td>\n",
       "      <td>2.0</td>\n",
       "      <td>NaN</td>\n",
       "      <td>NaN</td>\n",
       "      <td>NaN</td>\n",
       "      <td>2.0</td>\n",
       "      <td>NaN</td>\n",
       "      <td>NaN</td>\n",
       "      <td>NaN</td>\n",
       "    </tr>\n",
       "    <tr>\n",
       "      <th>704</th>\n",
       "      <td>798.0</td>\n",
       "      <td>3.0</td>\n",
       "      <td>3.0</td>\n",
       "      <td>NaN</td>\n",
       "      <td>NaN</td>\n",
       "      <td>1.0</td>\n",
       "      <td>1.0</td>\n",
       "      <td>NaN</td>\n",
       "      <td>NaN</td>\n",
       "      <td>2.0</td>\n",
       "      <td>...</td>\n",
       "      <td>NaN</td>\n",
       "      <td>NaN</td>\n",
       "      <td>2.0</td>\n",
       "      <td>2.0</td>\n",
       "      <td>NaN</td>\n",
       "      <td>NaN</td>\n",
       "      <td>2.0</td>\n",
       "      <td>2.0</td>\n",
       "      <td>NaN</td>\n",
       "      <td>NaN</td>\n",
       "    </tr>\n",
       "    <tr>\n",
       "      <th>705</th>\n",
       "      <td>799.0</td>\n",
       "      <td>2.0</td>\n",
       "      <td>NaN</td>\n",
       "      <td>2.0</td>\n",
       "      <td>NaN</td>\n",
       "      <td>1.0</td>\n",
       "      <td>NaN</td>\n",
       "      <td>1.0</td>\n",
       "      <td>NaN</td>\n",
       "      <td>2.0</td>\n",
       "      <td>...</td>\n",
       "      <td>2.0</td>\n",
       "      <td>NaN</td>\n",
       "      <td>2.0</td>\n",
       "      <td>NaN</td>\n",
       "      <td>2.0</td>\n",
       "      <td>NaN</td>\n",
       "      <td>2.0</td>\n",
       "      <td>NaN</td>\n",
       "      <td>2.0</td>\n",
       "      <td>NaN</td>\n",
       "    </tr>\n",
       "  </tbody>\n",
       "</table>\n",
       "<p>706 rows × 37 columns</p>\n",
       "</div>"
      ],
      "text/plain": [
       "      hhid  r2_15_1  r2_15_2  r2_15_3  r2_15_4  r2_16_1  r2_16_2  r2_16_3  \\\n",
       "0      1.0      1.0      3.0      3.0      NaN      1.0      1.0      1.0   \n",
       "1      2.0      1.0      NaN      NaN      NaN      1.0      NaN      NaN   \n",
       "2      3.0      3.0      1.0      NaN      NaN      1.0      1.0      NaN   \n",
       "3      4.0      1.0      NaN      NaN      NaN      1.0      NaN      NaN   \n",
       "4      5.0      NaN      NaN      1.0      NaN      NaN      NaN      1.0   \n",
       "..     ...      ...      ...      ...      ...      ...      ...      ...   \n",
       "701  793.0      5.0      6.0      NaN      NaN      1.0      1.0      NaN   \n",
       "702  795.0      2.0      NaN      NaN      NaN      1.0      NaN      NaN   \n",
       "703  796.0      3.0      NaN      NaN      NaN      1.0      NaN      NaN   \n",
       "704  798.0      3.0      3.0      NaN      NaN      1.0      1.0      NaN   \n",
       "705  799.0      2.0      NaN      2.0      NaN      1.0      NaN      1.0   \n",
       "\n",
       "     r2_16_4  r2_17_1_1  ...  r2_21_3_1  r2_21_4_1  r2_22_1_1  r2_22_2_1  \\\n",
       "0        NaN        1.0  ...        2.0        NaN        1.0        2.0   \n",
       "1        NaN        1.0  ...        NaN        NaN        1.0        NaN   \n",
       "2        NaN        2.0  ...        NaN        NaN        2.0        1.0   \n",
       "3        NaN        2.0  ...        NaN        NaN        1.0        NaN   \n",
       "4        NaN        NaN  ...        2.0        NaN        NaN        NaN   \n",
       "..       ...        ...  ...        ...        ...        ...        ...   \n",
       "701      NaN        2.0  ...        NaN        NaN        2.0        2.0   \n",
       "702      NaN        2.0  ...        NaN        NaN        2.0        NaN   \n",
       "703      NaN        2.0  ...        NaN        NaN        2.0        NaN   \n",
       "704      NaN        2.0  ...        NaN        NaN        2.0        2.0   \n",
       "705      NaN        2.0  ...        2.0        NaN        2.0        NaN   \n",
       "\n",
       "     r2_22_3_1  r2_22_4_1  r2_23_1_1  r2_23_2_1  r2_23_3_1  r2_23_4_1  \n",
       "0          2.0        NaN        1.0        1.0        1.0        NaN  \n",
       "1          NaN        NaN        2.0        NaN        NaN        NaN  \n",
       "2          NaN        NaN        1.0        2.0        NaN        NaN  \n",
       "3          NaN        NaN        2.0        NaN        NaN        NaN  \n",
       "4          2.0        NaN        NaN        NaN        2.0        NaN  \n",
       "..         ...        ...        ...        ...        ...        ...  \n",
       "701        NaN        NaN        2.0        2.0        NaN        NaN  \n",
       "702        NaN        NaN        2.0        NaN        NaN        NaN  \n",
       "703        NaN        NaN        2.0        NaN        NaN        NaN  \n",
       "704        NaN        NaN        2.0        2.0        NaN        NaN  \n",
       "705        2.0        NaN        2.0        NaN        2.0        NaN  \n",
       "\n",
       "[706 rows x 37 columns]"
      ]
     },
     "execution_count": 227,
     "metadata": {},
     "output_type": "execute_result"
    }
   ],
   "source": [
    "processed"
   ]
  },
  {
   "cell_type": "code",
   "execution_count": 228,
   "id": "ff88ded7",
   "metadata": {},
   "outputs": [],
   "source": [
    "processed = column_selection(df, remove=[\"r3_01_1\", \"r3_01_2\"])"
   ]
  },
  {
   "cell_type": "code",
   "execution_count": 229,
   "id": "38ab74cb",
   "metadata": {},
   "outputs": [],
   "source": [
    "PROCESSED_DFS.append(processed)"
   ]
  },
  {
   "cell_type": "markdown",
   "id": "fd129916",
   "metadata": {},
   "source": [
    "## R4: Trust and Solidarity"
   ]
  },
  {
   "cell_type": "code",
   "execution_count": 230,
   "id": "29e7085e",
   "metadata": {},
   "outputs": [],
   "source": [
    "filename = \"025_mod_r4.dta\"\n",
    "path = DATA_DIR + DATA_SUBDIR + filename\n",
    "df = load_data(path)"
   ]
  },
  {
   "cell_type": "code",
   "execution_count": 231,
   "id": "08171963",
   "metadata": {},
   "outputs": [],
   "source": [
    "processed = column_selection(df, remove=[\"r4_01_1\", \"r4_01_2\"])"
   ]
  },
  {
   "cell_type": "code",
   "execution_count": 232,
   "id": "55b7459e",
   "metadata": {},
   "outputs": [],
   "source": [
    "PROCESSED_DFS.append(processed)"
   ]
  },
  {
   "cell_type": "markdown",
   "id": "aee9de2b",
   "metadata": {},
   "source": [
    "## R5: Economic setbacks"
   ]
  },
  {
   "cell_type": "code",
   "execution_count": 233,
   "id": "c5baf478",
   "metadata": {},
   "outputs": [],
   "source": [
    "filename = \"026_mod_r5.dta\"\n",
    "path = DATA_DIR + DATA_SUBDIR + filename\n",
    "df = load_data(path)"
   ]
  },
  {
   "cell_type": "code",
   "execution_count": 234,
   "id": "a8a1f70c",
   "metadata": {},
   "outputs": [],
   "source": [
    "results = {hhid:0 for hhid in unique_hhids}\n",
    "for hhid in unique_hhids:\n",
    "    household = df.loc[df.hhid==hhid]\n",
    "    if 1 in list(household[\"r5\"]):\n",
    "        results[hhid] = 1\n",
    "        \n",
    "processed = pd.DataFrame.from_dict({\"r5\":results})\n",
    "processed[\"hhid\"] = processed.index"
   ]
  },
  {
   "cell_type": "code",
   "execution_count": 235,
   "id": "38f3f9b9",
   "metadata": {},
   "outputs": [],
   "source": [
    "PROCESSED_DFS.append(processed)"
   ]
  },
  {
   "cell_type": "markdown",
   "id": "a218fac9",
   "metadata": {},
   "source": [
    "## R6: Collective Action and Cooperation and Sociability"
   ]
  },
  {
   "cell_type": "code",
   "execution_count": 236,
   "id": "cead9679",
   "metadata": {},
   "outputs": [],
   "source": [
    "filename = \"027_mod_r6.dta\"\n",
    "path = DATA_DIR + DATA_SUBDIR + filename\n",
    "df = load_data(path)"
   ]
  },
  {
   "cell_type": "code",
   "execution_count": 237,
   "id": "195f73a9",
   "metadata": {},
   "outputs": [],
   "source": [
    "processed = column_selection(df, remove=[\"r6_01_1\", \"r6_01_2\"])"
   ]
  },
  {
   "cell_type": "code",
   "execution_count": 238,
   "id": "3ceeaa53",
   "metadata": {},
   "outputs": [],
   "source": [
    "PROCESSED_DFS.append(processed)"
   ]
  },
  {
   "cell_type": "markdown",
   "id": "0529a1c0",
   "metadata": {},
   "source": [
    "## R7: Information and Communication"
   ]
  },
  {
   "cell_type": "code",
   "execution_count": 239,
   "id": "e6b3745d",
   "metadata": {},
   "outputs": [],
   "source": [
    "filename = \"028_mod_r7.dta\"\n",
    "path = DATA_DIR + DATA_SUBDIR + filename\n",
    "df = load_data(path)"
   ]
  },
  {
   "cell_type": "code",
   "execution_count": 240,
   "id": "154c2706",
   "metadata": {},
   "outputs": [],
   "source": [
    "processed = column_selection(df, remove=[\"r7_01_1\", \"r7_01_2\"])"
   ]
  },
  {
   "cell_type": "code",
   "execution_count": 241,
   "id": "92099c83",
   "metadata": {},
   "outputs": [],
   "source": [
    "PROCESSED_DFS.append(processed)"
   ]
  },
  {
   "cell_type": "markdown",
   "id": "37ae414a",
   "metadata": {},
   "source": [
    "## R8: Production and climate Information"
   ]
  },
  {
   "cell_type": "code",
   "execution_count": 242,
   "id": "2bb0baf2",
   "metadata": {},
   "outputs": [],
   "source": [
    "filename = \"029_mod_r8.dta\"\n",
    "path = DATA_DIR + DATA_SUBDIR + filename\n",
    "df = load_data(path)"
   ]
  },
  {
   "cell_type": "code",
   "execution_count": 243,
   "id": "9b07ec30",
   "metadata": {},
   "outputs": [],
   "source": [
    "keep = [\"hhid\", \"r8_02_1\", \"r8_02_2\", \"r8_06_1\", \"r8_06_2\", \"r8_14_1\", \"r8_14_2\"]\n",
    "processed = column_selection(df, keep=keep)"
   ]
  },
  {
   "cell_type": "code",
   "execution_count": 244,
   "id": "62c3777d",
   "metadata": {},
   "outputs": [],
   "source": [
    "PROCESSED_DFS.append(processed)"
   ]
  },
  {
   "cell_type": "markdown",
   "id": "de4b1964",
   "metadata": {},
   "source": [
    "## R9: Production and climate Information"
   ]
  },
  {
   "cell_type": "code",
   "execution_count": 245,
   "id": "3f5262b7",
   "metadata": {},
   "outputs": [],
   "source": [
    "filename = \"030_mod_r9.dta\"\n",
    "path = DATA_DIR + DATA_SUBDIR + filename\n",
    "df = load_data(path)"
   ]
  },
  {
   "cell_type": "code",
   "execution_count": 246,
   "id": "e379e07f",
   "metadata": {},
   "outputs": [],
   "source": [
    "keep = [\"hhid\", \"r9_02_1\", \"r9_02_2\", \"r9_09_1\", \"r9_09_2\"]\n",
    "processed = column_selection(df, keep=keep)"
   ]
  },
  {
   "cell_type": "code",
   "execution_count": 247,
   "id": "9406e281",
   "metadata": {},
   "outputs": [],
   "source": [
    "PROCESSED_DFS.append(processed)"
   ]
  },
  {
   "cell_type": "markdown",
   "id": "bac5374a",
   "metadata": {},
   "source": [
    "## S: Empowerment and Political Action"
   ]
  },
  {
   "cell_type": "code",
   "execution_count": 248,
   "id": "14fccda9",
   "metadata": {},
   "outputs": [],
   "source": [
    "filename = \"031_mod_s.dta\"\n",
    "path = DATA_DIR + DATA_SUBDIR + filename\n",
    "df = load_data(path)"
   ]
  },
  {
   "cell_type": "code",
   "execution_count": 249,
   "id": "90ea493c",
   "metadata": {},
   "outputs": [],
   "source": [
    "processed = column_selection(df, remove=[\"s_01_1\", \"s_01_2\"])"
   ]
  },
  {
   "cell_type": "code",
   "execution_count": 250,
   "id": "661cb9cc",
   "metadata": {},
   "outputs": [],
   "source": [
    "PROCESSED_DFS.append(processed)"
   ]
  },
  {
   "cell_type": "markdown",
   "id": "c12b81f3",
   "metadata": {},
   "source": [
    "## T: Employment"
   ]
  },
  {
   "cell_type": "code",
   "execution_count": 251,
   "id": "36db9901",
   "metadata": {},
   "outputs": [],
   "source": [
    "filename = \"032_mod_t.dta\"\n",
    "path = DATA_DIR + DATA_SUBDIR + filename\n",
    "df = load_data(path)"
   ]
  },
  {
   "cell_type": "code",
   "execution_count": 252,
   "id": "8651a8ef",
   "metadata": {},
   "outputs": [],
   "source": [
    "job_categories = {\n",
    "    \"job_wage_labor\":np.arange(1,12),\n",
    "    \"job_salaried_worker\":np.arange(12,22),\n",
    "    \"job_self_employment\":np.arange(22,48),\n",
    "    \"job_trader\":np.arange(50,55),\n",
    "    \"job_production\":np.arange(55,58),\n",
    "    \"job_livestock_poultry_service\":np.arange(58,64),\n",
    "    \"job_farming\":np.arange(64,73)\n",
    "}\n",
    "\n",
    "results = {hhid:{c:0 for c in job_categories} for hhid in unique_hhids}\n",
    "for hhid in unique_hhids:\n",
    "    household = df.loc[df.hhid==hhid]\n",
    "    relevant = list(household[\"t05\"])\n",
    "    for c, numbers in job_categories.items():\n",
    "        for n in numbers:\n",
    "            if n in relevant:\n",
    "                results[hhid][c] += 1\n",
    "            \n",
    "processed = pd.DataFrame.from_dict({\"hhid\":list(unique_hhids)})        \n",
    "for column in results[1]:\n",
    "    processed[column] = [results[hhid][column] for hhid in results]"
   ]
  },
  {
   "cell_type": "code",
   "execution_count": 253,
   "id": "f2e633e0",
   "metadata": {},
   "outputs": [],
   "source": [
    "PROCESSED_DFS.append(processed)"
   ]
  },
  {
   "cell_type": "markdown",
   "id": "6d8cebe1",
   "metadata": {},
   "source": [
    "## U: Time use of male and female members in the household"
   ]
  },
  {
   "cell_type": "code",
   "execution_count": 99,
   "id": "6978fa93",
   "metadata": {},
   "outputs": [],
   "source": [
    "# TODO: discard?"
   ]
  },
  {
   "cell_type": "markdown",
   "id": "c7b4902c",
   "metadata": {},
   "source": [
    "## V: Anthropometry"
   ]
  },
  {
   "cell_type": "code",
   "execution_count": 100,
   "id": "cde7b481",
   "metadata": {},
   "outputs": [],
   "source": [
    "# TODO: discard?"
   ]
  },
  {
   "cell_type": "markdown",
   "id": "254846ed",
   "metadata": {},
   "source": [
    "# Combine processed dataframes"
   ]
  },
  {
   "cell_type": "code",
   "execution_count": 101,
   "id": "a9c5248e",
   "metadata": {},
   "outputs": [],
   "source": [
    "# maintain list of all the processed dataframes\n",
    "# make sure all dataframes have one row per household id\n",
    "# add empty rows for missing household ids where necessary\n",
    "# mind the treatment of MISSING VALUES!\n",
    "    # do we really want to impute \"0\" when no information is present?\n",
    "    # just leave as empty\n",
    "        # then if we see a household with many empty fields, or a feature with mostly empty values,\n",
    "        # we remove it\n",
    "# combine all the dataframes into one dataframe (each hhid is a single feature vector/row)"
   ]
  },
  {
   "cell_type": "code",
   "execution_count": null,
   "id": "85af0860",
   "metadata": {},
   "outputs": [],
   "source": []
  },
  {
   "cell_type": "code",
   "execution_count": null,
   "id": "9f130554",
   "metadata": {},
   "outputs": [],
   "source": []
  },
  {
   "cell_type": "markdown",
   "id": "497415bf",
   "metadata": {},
   "source": [
    "# Mutual Information Regression"
   ]
  },
  {
   "cell_type": "code",
   "execution_count": 338,
   "id": "0032688b",
   "metadata": {},
   "outputs": [],
   "source": [
    "# for the following cells to work, need to compute num_changes dictionary\n",
    "# which has household ids as keys, and values are the sum of \"YEs\" responses from modules O, O1"
   ]
  },
  {
   "cell_type": "code",
   "execution_count": 150,
   "id": "5e997b36",
   "metadata": {},
   "outputs": [],
   "source": [
    "for hhid in processed.hhid:\n",
    "    hh = processed.loc[processed.hhid==hhid]\n",
    "    if hhid in num_changes:\n",
    "        num_changes[round(hhid,1)] += sum(np.array(hh.iloc[0]==1))\n",
    "    else:\n",
    "        num_changes[round(hhid,1)] = sum(np.array(hh.iloc[0]==1))"
   ]
  },
  {
   "cell_type": "code",
   "execution_count": 309,
   "id": "8c4d0427",
   "metadata": {
    "collapsed": true
   },
   "outputs": [
    {
     "name": "stdout",
     "output_type": "stream",
     "text": [
      "0.0\n",
      "0.034482758620689655\n",
      "0.06896551724137931\n",
      "0.10344827586206896\n",
      "0.13793103448275862\n",
      "0.1724137931034483\n",
      "0.20689655172413793\n",
      "0.2413793103448276\n",
      "0.27586206896551724\n",
      "0.3103448275862069\n",
      "0.3448275862068966\n",
      "0.3793103448275862\n",
      "0.41379310344827586\n",
      "0.4482758620689655\n",
      "0.4827586206896552\n",
      "0.5172413793103449\n",
      "0.5517241379310345\n",
      "0.5862068965517241\n",
      "0.6206896551724138\n",
      "0.6551724137931034\n",
      "0.6896551724137931\n",
      "0.7241379310344828\n",
      "0.7586206896551724\n",
      "0.7931034482758621\n",
      "0.8275862068965517\n",
      "0.8620689655172413\n",
      "0.896551724137931\n",
      "0.9310344827586207\n",
      "0.9655172413793104\n"
     ]
    }
   ],
   "source": [
    "mutual_info = {}\n",
    "\n",
    "for i, DF in enumerate(PROCESSED_DFS):\n",
    "    for col in DF.columns:\n",
    "        if col not in [\"hhid\", \"community_code\"]:\n",
    "            X = {}\n",
    "            for hhid in DF.hhid:\n",
    "                if hhid in num_changes:\n",
    "                    val = list(DF.loc[DF.hhid==hhid][col])[0]\n",
    "                    if not np.isnan(val):\n",
    "                        X[hhid] = val\n",
    "            \n",
    "            sorted_keys = sorted(X.keys())\n",
    "            X = np.array([X[k] for k in sorted_keys]).reshape(-1,1)\n",
    "            y = np.array([num_changes[k] for k in sorted_keys])\n",
    "            try:\n",
    "                mutual_info[col] = mutual_info_regression(X,y)[0]\n",
    "            except:\n",
    "                mutual_info[col] = -1\n",
    "            \n",
    "    print(i/len(PROCESSED_DFS))"
   ]
  },
  {
   "cell_type": "code",
   "execution_count": null,
   "id": "4d29cc64",
   "metadata": {},
   "outputs": [],
   "source": []
  },
  {
   "cell_type": "code",
   "execution_count": 315,
   "id": "8311324f",
   "metadata": {},
   "outputs": [],
   "source": [
    "valz = []\n",
    "for col, val in mutual_info.items():\n",
    "    if col[0] != \"o\" and val != -1:\n",
    "        valz.append(val)"
   ]
  },
  {
   "cell_type": "code",
   "execution_count": 325,
   "id": "44f90a01",
   "metadata": {},
   "outputs": [
    {
     "data": {
      "image/png": "[encoded data removed]",
      "text/plain": [
       "<Figure size 600x500 with 1 Axes>"
      ]
     },
     "metadata": {},
     "output_type": "display_data"
    }
   ],
   "source": [
    "plt.hist(valz, color=\"dodgerblue\", rwidth=0.9, bins=20)\n",
    "plt.xlabel(\"Mutual Information Score\")\n",
    "plt.ylabel(\"Frequency\")\n",
    "plt.show()"
   ]
  },
  {
   "cell_type": "code",
   "execution_count": 334,
   "id": "140c8872",
   "metadata": {},
   "outputs": [],
   "source": [
    "k = sorted(mutual_info, key=lambda x: mutual_info[x], reverse=True)\n",
    "k = [item for item in k if item[0] != \"o\"]"
   ]
  },
  {
   "cell_type": "code",
   "execution_count": 336,
   "id": "e814cda4",
   "metadata": {},
   "outputs": [],
   "source": [
    "pairs = []\n",
    "for item in k:\n",
    "    pairs.append((item, mutual_info[item]))"
   ]
  },
  {
   "cell_type": "code",
   "execution_count": 339,
   "id": "0f7e2b59",
   "metadata": {
    "scrolled": false
   },
   "outputs": [
    {
     "data": {
      "text/plain": [
       "[('j03_2_miscellaneous_expenses', 0.2597123121116931),\n",
       " ('j02_1_vehicle_expenses', 0.21901586068252743),\n",
       " ('r6_04_2_2', 0.19628192869446437),\n",
       " ('r6_03_1_3', 0.13390886679131508),\n",
       " ('j03_2_family_events_expenses', 0.13055555555555576),\n",
       " ('j02_2_wedding_costs_bride', 0.11665783889189374),\n",
       " ('weight_food_drinks', 0.11110561924232742),\n",
       " ('weight_food_other', 0.10019117092711838),\n",
       " ('m06_3', 0.099288077428211),\n",
       " ('r7_06_2_3', 0.08388812239973564),\n",
       " ('r7_07_2_3', 0.08143265297630231),\n",
       " ('m05', 0.07916090616363292),\n",
       " ('r6_04_1_1', 0.0785615974453382),\n",
       " ('r3_07_1', 0.0733317829695821),\n",
       " ('r7_11_1_3', 0.07300854443129268),\n",
       " ('value_food_fish_small', 0.07081409089438662),\n",
       " ('k07', 0.0699947705175692),\n",
       " ('value_food_other', 0.0678787866886501),\n",
       " ('r7_11_1_2', 0.06345548425756231),\n",
       " ('m01', 0.06337525755927231),\n",
       " ('r3_06_1', 0.0598423079562842),\n",
       " ('j02_1_utilities_taxes_fees', 0.05825310685001739),\n",
       " ('j03_1_fuel_expenses', 0.0581629843930096),\n",
       " ('r7_03_1', 0.0578188555972563),\n",
       " ('r7_08_1', 0.05775893638351848),\n",
       " ('count_now', 0.054732415936566525),\n",
       " ('m02_2', 0.054018150751953264),\n",
       " ('r6_03_1_2', 0.053320157002022306),\n",
       " ('j02_1_communication_expenses', 0.053309326651951316),\n",
       " ('r9_09_2', 0.05280498858615612),\n",
       " ('r9_02_1', 0.05163671119833513),\n",
       " ('calamity_3', 0.05073956217572828),\n",
       " ('j02_1_family_events_expenses', 0.0506517335746155),\n",
       " ('q07_2', 0.05000456854029656),\n",
       " ('m03', 0.049773520333836085),\n",
       " ('r7_11_2_2', 0.049628818609958714),\n",
       " ('group_13_membership', 0.04630700341083127),\n",
       " ('r8_02_2', 0.04552068922821961),\n",
       " ('m11_3', 0.04516086726043156),\n",
       " ('ezcode', 0.04411930254297314),\n",
       " ('r6_05_2', 0.043867269389834984),\n",
       " ('m07', 0.04349752244720184),\n",
       " ('j03_1_education_expenses', 0.04339826839826899),\n",
       " ('q04', 0.04290025393100372),\n",
       " ('r7_06_1_3', 0.042694054182518926),\n",
       " ('j03_1_personal_items_expenses', 0.04232124384560043),\n",
       " ('j03_1_health_expenses', 0.04166666666666652),\n",
       " ('q05_2', 0.041427082022889916),\n",
       " ('m08_4', 0.04126984126984179),\n",
       " ('r7_05_1', 0.04032882699831397),\n",
       " ('s_06_2_2', 0.04004901613462852),\n",
       " ('r4_05_1', 0.03902086708365404),\n",
       " ('value_food_leafy_vegetables', 0.038918546764419304),\n",
       " ('r7_09_1', 0.03859293008375175),\n",
       " ('group_12_membership', 0.037632808864600964),\n",
       " ('s_06_4_2', 0.03760659216757256),\n",
       " ('j02_1_personal_items_expenses', 0.037499826745666986),\n",
       " ('r6_04_2_1', 0.03583777623888462),\n",
       " ('r3_07_2', 0.0354881242012115),\n",
       " ('weight_food_fruits', 0.035260355363045726),\n",
       " ('group_1_membership', 0.03512530333617914),\n",
       " ('r6_03_2_1', 0.034998381726343286),\n",
       " ('m06_1', 0.03482374796512033),\n",
       " ('job_self_employment', 0.03437959640703525),\n",
       " ('j02_1_furniture_household_expenses', 0.03412176388254329),\n",
       " ('r4_04_2_9', 0.03398195511389668),\n",
       " ('r7_07_1_1', 0.03384165185098498),\n",
       " ('q07_1', 0.03376296596959261),\n",
       " ('value_food_fruits', 0.03262232656743791),\n",
       " ('job_salaried_worker', 0.032424733093891156),\n",
       " ('j03_2_utilities_taxes_fees', 0.03229469839462373),\n",
       " ('value_food_other_outside_home', 0.031699853326101035),\n",
       " ('j02_1_clothing_expenses', 0.031657843213340975),\n",
       " ('k05_1', 0.03154730705957798),\n",
       " ('r6_03_1_1', 0.030140444366423935),\n",
       " ('value_agricultural_equipments', 0.02971314797262581),\n",
       " ('f307', 0.029501908076732697),\n",
       " ('m06_2', 0.029335078720652774),\n",
       " ('household_size', 0.0290615720756211),\n",
       " ('s_03_2', 0.028309632151897635),\n",
       " ('k10', 0.028124750860729186),\n",
       " ('g16', 0.028099595050118165),\n",
       " ('group_5_membership', 0.02803721308055085),\n",
       " ('s_08_1', 0.02771644537401352),\n",
       " ('m10', 0.027245614318474942),\n",
       " ('r7_07_1_2', 0.026628024698480246),\n",
       " ('m08_1', 0.026468320685943958),\n",
       " ('r6_05_1', 0.025809638103277077),\n",
       " ('value_now', 0.025545322984824814),\n",
       " ('k02', 0.024925120564258663),\n",
       " ('r6_02_1', 0.024326098595438328),\n",
       " ('number_children', 0.024112599739366303),\n",
       " ('r4_04_1_6', 0.024026507816206077),\n",
       " ('r8_06_2', 0.02380189493200957),\n",
       " ('j02_2_clothing_expenses', 0.023082422857321205),\n",
       " ('s_09_1', 0.02304833188554678),\n",
       " ('j02_1_local_transport_expenses', 0.023002429969935623),\n",
       " ('group_11_membership', 0.021868443560005613),\n",
       " ('r4_04_1_4', 0.02182103349435982),\n",
       " ('s_07_2', 0.021715374996918335),\n",
       " ('calamity_11', 0.021070467343133004),\n",
       " ('r7_06_2_1', 0.020892153776899125),\n",
       " ('r7_06_2_2', 0.020683049582676194),\n",
       " ('value_food_edible_oil', 0.020493586513239848),\n",
       " ('r3_05_1', 0.01958235046280432),\n",
       " ('r9_09_1', 0.01957898989111584),\n",
       " ('calamity_12', 0.0188783992032997),\n",
       " ('weight_food_fish_large', 0.01878228156901174),\n",
       " ('s_06_4_1', 0.01866793740000494),\n",
       " ('r4_04_1_9', 0.018543265034675294),\n",
       " ('j02_2_miscellaneous_expenses', 0.01812582188334666),\n",
       " ('s_06_1_2', 0.017451981843499276),\n",
       " ('calamity_6', 0.01708270097312159),\n",
       " ('group_9_membership', 0.01704071157353182),\n",
       " ('j03_2_furniture_household_expenses', 0.01644997703467954),\n",
       " ('r8_06_1', 0.01614849079009506),\n",
       " ('s_04_1', 0.016109420678654285),\n",
       " ('r4_04_1_2', 0.015946107704750467),\n",
       " ('r7_07_2_1', 0.01491758721775982),\n",
       " ('k06', 0.014910956624434757),\n",
       " ('r4_04_2_3', 0.014898408758711845),\n",
       " ('total_land_size', 0.014774488397752528),\n",
       " ('group_6_membership', 0.01385946539944971),\n",
       " ('r4_03_2', 0.01362623575780475),\n",
       " ('r6_07_2', 0.013528859969101692),\n",
       " ('highest_literacy', 0.013444260118638418),\n",
       " ('s_02_1', 0.012996437576984654),\n",
       " ('calamity_2', 0.012840302407318926),\n",
       " ('r7_07_2_2', 0.012642574195497858),\n",
       " ('mean_land_acquisition_year', 0.012212828183506552),\n",
       " ('r6_04_1_3', 0.012176540342283992),\n",
       " ('group_2_membership', 0.012162246098463836),\n",
       " ('total_selling_value', 0.011986558278020532),\n",
       " ('group_17_membership', 0.01128901196910892),\n",
       " ('r7_09_2', 0.010944118191569707),\n",
       " ('r7_11_2_1', 0.010859021168642347),\n",
       " ('plot_type', 0.010823767093655512),\n",
       " ('group_14_membership', 0.010446381768938195),\n",
       " ('s_02_2', 0.00996366143087224),\n",
       " ('weight_food_meat_eggs_milk', 0.00986693378538428),\n",
       " ('value_food_vegetables', 0.009283115318332591),\n",
       " ('r3_04_2', 0.009229959225540707),\n",
       " ('weight_food_vegetables', 0.00898513408302648),\n",
       " ('r4_04_2_4', 0.008958400986172066),\n",
       " ('r8_14_2', 0.008778118415706526),\n",
       " ('m04_1', 0.008676090480697507),\n",
       " ('j03_1_rent_expenses', 0.0084232716838617),\n",
       " ('r6_03_2_2', 0.008396117240383916),\n",
       " ('max_land_acquisition_year', 0.008271442682340258),\n",
       " ('highest_education', 0.008159279733037206),\n",
       " ('r3_02_2', 0.008105339773238907),\n",
       " ('r7_07_1_3', 0.00770278227970822),\n",
       " ('q06', 0.007391997185803412),\n",
       " ('group_18_membership', 0.007273884755896187),\n",
       " ('value_transport', 0.00641070764054863),\n",
       " ('f303', 0.005824610373184935),\n",
       " ('m11_2', 0.005100062599432853),\n",
       " ('r7_08_2', 0.005074048526078734),\n",
       " ('r4_04_1_7', 0.005067428691331699),\n",
       " ('q01_1', 0.004960755909422687),\n",
       " ('s_06_6_1', 0.004782140569208337),\n",
       " ('r4_04_1_5', 0.0042766069799817785),\n",
       " ('k01', 0.004087884161782185),\n",
       " ('r6_02_2', 0.003177867698288317),\n",
       " ('value_2011', 0.003171733775545693),\n",
       " ('weather_events_damage', 0.002914075065229671),\n",
       " ('m11_1', 0.0027400583826118208),\n",
       " ('s_06_3_1', 0.002510735541499276),\n",
       " ('s_09_2', 0.0024049799630758706),\n",
       " ('s_06_3_2', 0.0023742208453976232),\n",
       " ('r7_10_2', 0.0022621328522083317),\n",
       " ('r5', 0.002160444471587031),\n",
       " ('q03', 0.0007082631439967457),\n",
       " ('job_trader', 0.000569536908696211),\n",
       " ('r4_04_2_2', 0.000540630938742126),\n",
       " ('ratio_male', 0),\n",
       " ('ratio_female', 0),\n",
       " ('total_land_value_per_month', 0),\n",
       " ('min_land_acquisition_year', 0),\n",
       " ('soil_type', 0),\n",
       " ('land_operational_status', 0),\n",
       " ('land_acquisition_means', 0),\n",
       " ('count_2011', 0),\n",
       " ('f302', 0),\n",
       " ('f306', 0),\n",
       " ('g07', 0),\n",
       " ('g10', 0),\n",
       " ('g18', 0),\n",
       " ('value_consumable_durables', 0),\n",
       " ('value_livestock_poultry', 0),\n",
       " ('value_other', 0),\n",
       " ('h108', 0),\n",
       " ('value_food_cereals', 0),\n",
       " ('weight_food_cereals', 0),\n",
       " ('value_food_pulses', 0),\n",
       " ('weight_food_leafy_vegetables', 0),\n",
       " ('value_food_meat_eggs_milk', 0),\n",
       " ('value_food_fish_large', 0),\n",
       " ('weight_food_fish_small', 0),\n",
       " ('value_food_spices', 0),\n",
       " ('weight_food_spices', 0),\n",
       " ('value_food_drinks', 0),\n",
       " ('j02_1_fuel_expenses', 0),\n",
       " ('j03_1_local_transport_expenses', 0),\n",
       " ('j02_1_miscellaneous_expenses', 0),\n",
       " ('j03_1_miscellaneous_expenses', 0),\n",
       " ('j02_1_health_expenses', 0),\n",
       " ('j02_1_entertainment_expenses', 0),\n",
       " ('j02_1_non_local_travel_expenses', 0),\n",
       " ('j03_1_clothing_expenses', 0),\n",
       " ('j03_2_clothing_expenses', 0),\n",
       " ('j02_2_furniture_household_expenses', 0),\n",
       " ('j03_1_furniture_household_expenses', 0),\n",
       " ('j02_2_utilities_taxes_fees', 0),\n",
       " ('j03_1_utilities_taxes_fees', 0),\n",
       " ('j02_2_family_events_expenses', 0),\n",
       " ('j02_1_wedding_costs_bride', 0),\n",
       " ('j03_2_wedding_costs_bride', 0),\n",
       " ('j02_2_wedding_costs_groom', 0),\n",
       " ('j03_2_wedding_costs_groom', 0),\n",
       " ('j02_1_education_expenses', 0),\n",
       " ('j02_2_education_expenses', 0),\n",
       " ('j03_2_education_expenses', 0),\n",
       " ('j02_2_vehicle_expenses', 0),\n",
       " ('k03', 0),\n",
       " ('k03_1', 0),\n",
       " ('k04', 0),\n",
       " ('k05', 0),\n",
       " ('calamity_1', 0),\n",
       " ('calamity_4', 0),\n",
       " ('calamity_5', 0),\n",
       " ('calamity_7', 0),\n",
       " ('calamity_8', 0),\n",
       " ('calamity_9', 0),\n",
       " ('calamity_10', 0),\n",
       " ('l2_06', 0),\n",
       " ('l3_06', 0),\n",
       " ('m02_1', 0),\n",
       " ('m02_3', 0),\n",
       " ('m02_4', 0),\n",
       " ('m04_2', 0),\n",
       " ('m08_2', 0),\n",
       " ('m08_3', 0),\n",
       " ('m09', 0),\n",
       " ('q01_2', 0),\n",
       " ('q01_3', 0),\n",
       " ('q02', 0),\n",
       " ('q05_1', 0),\n",
       " ('q05_3', 0),\n",
       " ('q07_3', 0),\n",
       " ('group_3_membership', 0),\n",
       " ('group_4_membership', 0),\n",
       " ('group_7_membership', 0),\n",
       " ('group_8_membership', 0),\n",
       " ('group_10_membership', 0),\n",
       " ('group_15_membership', 0),\n",
       " ('group_16_membership', 0),\n",
       " ('r3_02_1', 0),\n",
       " ('r3_03_1', 0),\n",
       " ('r3_04_1', 0),\n",
       " ('r3_03_2', 0),\n",
       " ('r3_05_2', 0),\n",
       " ('r3_06_2', 0),\n",
       " ('r4_02_1', 0),\n",
       " ('r4_03_1', 0),\n",
       " ('r4_04_1_1', 0),\n",
       " ('r4_04_1_3', 0),\n",
       " ('r4_04_1_8', 0),\n",
       " ('r4_02_2', 0),\n",
       " ('r4_04_2_1', 0),\n",
       " ('r4_04_2_5', 0),\n",
       " ('r4_04_2_6', 0),\n",
       " ('r4_04_2_7', 0),\n",
       " ('r4_04_2_8', 0),\n",
       " ('r4_05_2', 0),\n",
       " ('r6_04_1_2', 0),\n",
       " ('r6_06_1', 0),\n",
       " ('r6_07_1', 0),\n",
       " ('r6_08_1', 0),\n",
       " ('r6_03_2_3', 0),\n",
       " ('r6_04_2_3', 0),\n",
       " ('r6_06_2', 0),\n",
       " ('r6_08_2', 0),\n",
       " ('r7_02_1', 0),\n",
       " ('r7_04_1', 0),\n",
       " ('r7_06_1_1', 0),\n",
       " ('r7_06_1_2', 0),\n",
       " ('r7_10_1', 0),\n",
       " ('r7_11_1_1', 0),\n",
       " ('r7_02_2', 0),\n",
       " ('r7_03_2', 0),\n",
       " ('r7_04_2', 0),\n",
       " ('r7_05_2', 0),\n",
       " ('r7_11_2_3', 0),\n",
       " ('r8_02_1', 0),\n",
       " ('r8_14_1', 0),\n",
       " ('r9_02_2', 0),\n",
       " ('s_03_1', 0),\n",
       " ('s_05_1', 0),\n",
       " ('s_06_1_1', 0),\n",
       " ('s_06_2_1', 0),\n",
       " ('s_06_5_1', 0),\n",
       " ('s_07_1', 0),\n",
       " ('s_04_2', 0),\n",
       " ('s_05_2', 0),\n",
       " ('s_06_5_2', 0),\n",
       " ('s_06_6_2', 0),\n",
       " ('s_08_2', 0),\n",
       " ('job_wage_labor', 0),\n",
       " ('job_production', 0),\n",
       " ('job_livestock_poultry_service', 0),\n",
       " ('job_farming', 0),\n",
       " ('weight_food_pulses', -1),\n",
       " ('weight_food_edible_oil', -1),\n",
       " ('weight_food_other_outside_home', -1),\n",
       " ('j02_1_rent_expenses', -1),\n",
       " ('j02_2_rent_expenses', -1),\n",
       " ('j03_2_rent_expenses', -1),\n",
       " ('j02_2_fuel_expenses', -1),\n",
       " ('j03_2_fuel_expenses', -1),\n",
       " ('j02_2_local_transport_expenses', -1),\n",
       " ('j03_2_local_transport_expenses', -1),\n",
       " ('j02_2_health_expenses', -1),\n",
       " ('j03_2_health_expenses', -1),\n",
       " ('j02_2_communication_expenses', -1),\n",
       " ('j03_1_communication_expenses', -1),\n",
       " ('j03_2_communication_expenses', -1),\n",
       " ('j02_2_personal_items_expenses', -1),\n",
       " ('j03_2_personal_items_expenses', -1),\n",
       " ('j02_2_entertainment_expenses', -1),\n",
       " ('j03_1_entertainment_expenses', -1),\n",
       " ('j03_2_entertainment_expenses', -1),\n",
       " ('j02_2_non_local_travel_expenses', -1),\n",
       " ('j03_1_non_local_travel_expenses', -1),\n",
       " ('j03_2_non_local_travel_expenses', -1),\n",
       " ('j03_1_family_events_expenses', -1),\n",
       " ('j03_1_wedding_costs_bride', -1),\n",
       " ('j02_1_wedding_costs_groom', -1),\n",
       " ('j03_1_wedding_costs_groom', -1),\n",
       " ('j03_1_vehicle_expenses', -1),\n",
       " ('j03_2_vehicle_expenses', -1),\n",
       " ('m04_3', -1),\n",
       " ('m04_4', -1),\n",
       " ('m06_4', -1),\n",
       " ('m06_5', -1),\n",
       " ('m11_4', -1),\n",
       " ('m11_5', -1),\n",
       " ('m11_6', -1)]"
      ]
     },
     "execution_count": 339,
     "metadata": {},
     "output_type": "execute_result"
    }
   ],
   "source": [
    "pairs"
   ]
  },
  {
   "cell_type": "code",
   "execution_count": null,
   "id": "499e6f48",
   "metadata": {},
   "outputs": [],
   "source": []
  }
 ],
 "metadata": {
  "kernelspec": {
   "display_name": "Python 3",
   "language": "python",
   "name": "python3"
  },
  "language_info": {
   "codemirror_mode": {
    "name": "ipython",
    "version": 3
   },
   "file_extension": ".py",
   "mimetype": "text/x-python",
   "name": "python",
   "nbconvert_exporter": "python",
   "pygments_lexer": "ipython3",
   "version": "3.8.6"
  }
 },
 "nbformat": 4,
 "nbformat_minor": 5
}
