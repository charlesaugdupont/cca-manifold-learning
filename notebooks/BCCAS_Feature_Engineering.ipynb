{
 "cells": [
  {
   "cell_type": "code",
   "execution_count": 101,
   "id": "acdc0b3a",
   "metadata": {},
   "outputs": [
    {
     "name": "stdout",
     "output_type": "stream",
     "text": [
      "Working directory: /Users/charlesdupont/Desktop/Thesis/code/quafing\n"
     ]
    }
   ],
   "source": [
    "import os\n",
    "os.chdir('../quafing/')\n",
    "print(f\"Working directory: {os.getcwd()}\")\n",
    "\n",
    "import quafing as q\n",
    "\n",
    "\n",
    "import random\n",
    "import numpy as np\n",
    "from scipy.stats import mode\n",
    "\n",
    "from sklearn.feature_selection import mutual_info_regression\n",
    "\n",
    "import pandas as pd\n",
    "pd.options.mode.chained_assignment = None  # default='warn'\n",
    "\n",
    "import matplotlib.pyplot as plt\n",
    "\n",
    "\n",
    "plt.rcParams.update(plt.rcParamsDefault)\n",
    "plt.rcParams.update({\"font.size\" : 15, \n",
    "                     \"figure.dpi\" : 100, \n",
    "                     \"legend.fontsize\" : 13, \n",
    "                     \"grid.alpha\" : 0.3, \n",
    "                     \"axes.grid\": True, \n",
    "                     \"axes.axisbelow\" : True, \n",
    "                     \"figure.figsize\":(6, 5)})"
   ]
  },
  {
   "cell_type": "code",
   "execution_count": 2,
   "id": "e7ff95f3",
   "metadata": {},
   "outputs": [],
   "source": [
    "def load_data(path):\n",
    "    \"\"\"\n",
    "    Loads .dta file using provided path.\n",
    "    \"\"\"\n",
    "    return pd.read_stata(path, convert_categoricals=False)\n",
    "\n",
    "\n",
    "def add_missing_hhids(df):\n",
    "    \"\"\"\n",
    "    Adds empty rows for hhids missing from df.\n",
    "    df must already have an \"hhid\" column!\n",
    "    \"\"\"\n",
    "    df = df.round({\"hhid\":1})\n",
    "    missing = set(UNIQUE_HHID) - set(df[\"hhid\"].unique())\n",
    "    missing_dict = {\"hhid\":[round(item, 1) for item in list(missing)]}\n",
    "    for col in df.columns:\n",
    "        if col != \"hhid\":\n",
    "            missing_dict[col] = [np.nan]*len(missing)\n",
    "    missing_df = pd.DataFrame.from_dict(missing_dict)\n",
    "    concat = pd.concat([df, missing_df])\n",
    "    return concat.round({\"hhid\":1})\n",
    "\n",
    "\n",
    "def column_selection(df, keep=None, remove=None):\n",
    "    \"\"\"\n",
    "    Performs column selection on dataframe.\n",
    "    Args:\n",
    "        no_change: boolean indicating whether to keep all columns\n",
    "        keep: list of columns to keep\n",
    "        remove: list of columns to remove\n",
    "    Returns:\n",
    "        updated dataframe\n",
    "    \"\"\"\n",
    "    if keep:\n",
    "        return df[keep]\n",
    "    elif remove:\n",
    "        return df.loc[:, ~df.columns.isin(remove)]\n",
    "    else:\n",
    "        return df\n",
    "\n",
    "\n",
    "def get_processed_df(results):\n",
    "    processed = pd.DataFrame.from_dict({})\n",
    "    for column in results[1]:\n",
    "        processed[column] = [results[hhid][column] for hhid in results]\n",
    "    return processed\n",
    "\n",
    "\n",
    "def apply_mapping(df, mapping):\n",
    "    results = {hhid:{\"hhid\":hhid} for hhid in UNIQUE_HHID}\n",
    "    for hhid in UNIQUE_HHID:\n",
    "        household = df.loc[df.hhid==hhid]    \n",
    "        for label, tup in mapping.items():\n",
    "            col, operation = tup\n",
    "            non_nan = household.loc[~household[col].isna()]\n",
    "            results[hhid][label] = operation_lambda[operation](non_nan[col]) if len(non_nan) else np.nan\n",
    "\n",
    "    return get_processed_df(results) "
   ]
  },
  {
   "cell_type": "code",
   "execution_count": 3,
   "id": "425dc36e",
   "metadata": {},
   "outputs": [],
   "source": [
    "DATA_DIR    = \"../../BCCASII/\"\n",
    "DATA_SUBDIR = \"Household/\""
   ]
  },
  {
   "cell_type": "code",
   "execution_count": 4,
   "id": "75113430",
   "metadata": {},
   "outputs": [],
   "source": [
    "PROCESSED_DFS  = []\n",
    "ADAPTATION_DFS = []"
   ]
  },
  {
   "cell_type": "code",
   "execution_count": 5,
   "id": "02a6dbdb",
   "metadata": {},
   "outputs": [],
   "source": [
    "operation_lambda = {\n",
    "    \"sum\": lambda x: x.sum(),\n",
    "    \"min\": lambda x: x.min(),\n",
    "    \"max\": lambda x: x.max(),\n",
    "    \"mean\": lambda x: round(x.mean()),\n",
    "    \"mode\": lambda x: x.mode()[0]\n",
    "}"
   ]
  },
  {
   "cell_type": "markdown",
   "id": "0cae339e",
   "metadata": {},
   "source": [
    "## A: Location and identification detail"
   ]
  },
  {
   "cell_type": "code",
   "execution_count": 6,
   "id": "5cb777dc",
   "metadata": {},
   "outputs": [],
   "source": [
    "filename = \"001_mod_a.dta\"\n",
    "path = DATA_DIR + DATA_SUBDIR + filename\n",
    "df = load_data(path)"
   ]
  },
  {
   "cell_type": "code",
   "execution_count": 7,
   "id": "bb371d47",
   "metadata": {},
   "outputs": [],
   "source": [
    "# keep household ID, agro-ecological zone\n",
    "processed = column_selection(df, keep=[\"hhid\", \"ezcode\"])\n",
    "\n",
    "# construct community code from union, thana, district codes\n",
    "processed[\"community_code\"] = df[\"ucode\"].astype(str) + \"_\" + \\\n",
    "                              df[\"tcode\"].astype(str) + \"_\" + \\\n",
    "                              df[\"dcode\"].astype(str)\n",
    "\n",
    "UNIQUE_HHID = np.round(df[\"hhid\"].unique().astype(np.float64), 1)\n",
    "processed[\"hhid\"] = processed[\"hhid\"].astype(np.float64)"
   ]
  },
  {
   "cell_type": "code",
   "execution_count": 8,
   "id": "85a573d4",
   "metadata": {},
   "outputs": [],
   "source": [
    "PROCESSED_DFS.append(processed)"
   ]
  },
  {
   "cell_type": "markdown",
   "id": "bd076776",
   "metadata": {},
   "source": [
    "## B: Household composition and education"
   ]
  },
  {
   "cell_type": "code",
   "execution_count": 9,
   "id": "43cc5d53",
   "metadata": {},
   "outputs": [],
   "source": [
    "filename = \"002_mod_b.dta\"\n",
    "path = DATA_DIR + DATA_SUBDIR + filename\n",
    "df = load_data(path)"
   ]
  },
  {
   "cell_type": "code",
   "execution_count": 10,
   "id": "ffed5994",
   "metadata": {
    "scrolled": true
   },
   "outputs": [],
   "source": [
    "education_ordering = [99, 66, 67, 68, 0, 1, 2, 3, 4, 5, 6, 7, 8, 9, 22, 10, 33, 12, 15, 16, 17]\n",
    "literacy_ordering  = [1, 2, 3, 4]\n",
    "\n",
    "results = {hhid:{} for hhid in UNIQUE_HHID}\n",
    "for hhid in UNIQUE_HHID:\n",
    "    household = df.loc[df.hhid==hhid]    \n",
    "    L = len(household)\n",
    "    if L == 0:\n",
    "        results[hhid] = {\n",
    "            \"hhid\": hhid,\n",
    "            \"household_size\": np.nan,\n",
    "            \"ratio_male\": np.nan,\n",
    "            \"ratio_female\": np.nan,\n",
    "            \"num_children\": np.nan,\n",
    "            \"highest_education\": np.nan,\n",
    "            \"highest_literacy\": np.nan\n",
    "        }\n",
    "        continue\n",
    "\n",
    "    results[hhid][\"hhid\"] = hhid\n",
    "\n",
    "    # household size\n",
    "    results[hhid][\"household_size\"] = L\n",
    "    \n",
    "    # ratio male, female\n",
    "    m = sum(household[\"b01\"]==1)\n",
    "    f = sum(household[\"b01\"]==2)\n",
    "    results[hhid][\"ratio_male\"]   = m/L\n",
    "    results[hhid][\"ratio_female\"] = f/L\n",
    "    \n",
    "    # number of children\n",
    "    results[hhid][\"num_children\"] = sum(household[\"b03\"] < 18)\n",
    "    \n",
    "    # highest level of education\n",
    "    education_levels = [education_ordering.index(x)\n",
    "                        for x in [x for x in list(household[\"b06\"]) if not np.isnan(x)]]\n",
    "    results[hhid][\"highest_education\"] = max(education_levels) if len(education_levels) else np.nan\n",
    "        \n",
    "    # highest level of literacy\n",
    "    literacy_labels = [literacy_ordering.index(x)\n",
    "                       for x in [x for x in list(household[\"b05\"]) if not np.isnan(x)]]\n",
    "    results[hhid][\"highest_literacy\"] = max(literacy_labels) if len(literacy_labels) else np.nan\n",
    "\n",
    "processed = get_processed_df(results)\n",
    "\n",
    "\n",
    "# primary occupation categories\n",
    "# categories = {\n",
    "#     \"day_labor\": [1,2,3],\n",
    "#     \"self_employ_farm\": [4,5,6,7,8],\n",
    "#     \"self_employ_non_farm\": [9],\n",
    "#     \"low_income_profession\": [10,11,12,13],\n",
    "#     \"mechanic\": [14,15],\n",
    "#     \"other\": [16, 17, 18, 19],\n",
    "#     \"non_earning\": [20,21,22,23,24,25,26]\n",
    "# }\n",
    "\n",
    "# for c, c_list in categories.items():\n",
    "#     c_dict = {hhid:0 for hhid in unique_hhids}\n",
    "#     for hhid in unique_hhids:\n",
    "#         household = df.loc[df.hhid==hhid]\n",
    "#         primary_occupation_labels = list(household[\"b08_1\"])\n",
    "#         for item in c_list:\n",
    "#             if item in primary_occupation_labels:\n",
    "#                 c_dict[hhid] += 1\n",
    "#     processed = processed.join(pd.DataFrame.from_dict({c:c_dict}))"
   ]
  },
  {
   "cell_type": "code",
   "execution_count": 11,
   "id": "b6a45dcc",
   "metadata": {},
   "outputs": [],
   "source": [
    "PROCESSED_DFS.append(processed)"
   ]
  },
  {
   "cell_type": "markdown",
   "id": "16ef158c",
   "metadata": {},
   "source": [
    "## C: Roster of land and water bodies owned or under operation"
   ]
  },
  {
   "cell_type": "code",
   "execution_count": 12,
   "id": "f1f009cc",
   "metadata": {},
   "outputs": [],
   "source": [
    "filename = \"003_mod_c.dta\"\n",
    "path = DATA_DIR + DATA_SUBDIR + filename\n",
    "df = load_data(path)"
   ]
  },
  {
   "cell_type": "code",
   "execution_count": 13,
   "id": "b4f33e2f",
   "metadata": {
    "scrolled": true
   },
   "outputs": [],
   "source": [
    "mapping = {\n",
    "    \"total_land_value_per_month\": (\"c113\", \"sum\"),\n",
    "    \"min_land_acquisition_year\": (\"c111\", \"min\"),\n",
    "    \"max_land_acquisition_year\": (\"c111\", \"max\"),\n",
    "    \"mean_land_acquisition_year\": (\"c111\", \"mean\"),\n",
    "    \"plot_type\": (\"c101\", \"mode\"),\n",
    "    \"soil_type\": (\"c105\", \"mode\"),\n",
    "    \"land_operational_status\": (\"c107\", \"mode\"),\n",
    "    \"land_acquisition_means\": (\"c110\", \"mode\")\n",
    "}\n",
    "\n",
    "processed = apply_mapping(df, mapping)"
   ]
  },
  {
   "cell_type": "code",
   "execution_count": 14,
   "id": "b53e1bfe",
   "metadata": {},
   "outputs": [],
   "source": [
    "PROCESSED_DFS.append(processed)"
   ]
  },
  {
   "cell_type": "markdown",
   "id": "cb778381",
   "metadata": {},
   "source": [
    "## F1: Livestock and poultry"
   ]
  },
  {
   "cell_type": "code",
   "execution_count": 15,
   "id": "57b18c61",
   "metadata": {},
   "outputs": [],
   "source": [
    "filename = \"004_mod_f1.dta\"\n",
    "path = DATA_DIR + DATA_SUBDIR + filename\n",
    "df = load_data(path)"
   ]
  },
  {
   "cell_type": "code",
   "execution_count": 16,
   "id": "b8e9f11c",
   "metadata": {},
   "outputs": [],
   "source": [
    "# # household id\n",
    "# processed = pd.DataFrame.from_dict({\"hhid\":list(unique_hhids)})\n",
    "\n",
    "# categories = {\n",
    "#     \"cattle_buffalo\":1,\n",
    "#     \"goat_sheep\":2,\n",
    "#     \"pigs\":3,\n",
    "#     \"chidken_duck\":4\n",
    "# }\n",
    "\n",
    "# cols = [(\"count_2011\", \"f102\"), (\"value_2011\", \"f103\"), \n",
    "#         (\"count_now\", \"f104\"), (\"value_now\", \"f105\"), (\"total_selling_value\", \"f117\")]   \n",
    "\n",
    "# results = {hhid:{} for hhid in unique_hhids}\n",
    "# for hhid in unique_hhids:\n",
    "#     household = df.loc[df.hhid==hhid]\n",
    "#     for c, number in categories.items():\n",
    "#         if number not in list(household[\"f101\"]):\n",
    "#             # TODO: handle missing value!\n",
    "#             for l, _ in cols:\n",
    "#                 results[hhid][c+\"_\"+l] = np.nan\n",
    "#         else:\n",
    "#             for l, col in cols:\n",
    "#                 value = household.loc[household[\"f101\"]==number][col].iloc[0]\n",
    "#                 # TODO: handle missing value here!\n",
    "#                 if np.isnan(value):\n",
    "#                     results[hhid][c+\"_\"+l] = np.nan\n",
    "#                 else:\n",
    "#                     results[hhid][c+\"_\"+l] = value\n",
    "                    \n",
    "# for column in results[1]:\n",
    "#     processed[column] = [results[hhid][column] for hhid in results]"
   ]
  },
  {
   "cell_type": "code",
   "execution_count": 17,
   "id": "5463a5d6",
   "metadata": {},
   "outputs": [],
   "source": [
    "mapping = {\n",
    "    \"count_2011\": (\"f102\", \"sum\"),\n",
    "    \"value_2011\": (\"f103\", \"sum\"),\n",
    "    \"count_now\": (\"f104\", \"sum\"),\n",
    "    \"value_now\": (\"f105\", \"sum\"),\n",
    "    \"total_selling_value\": (\"f117\", \"sum\"),\n",
    "}\n",
    "\n",
    "processed = apply_mapping(df, mapping)"
   ]
  },
  {
   "cell_type": "code",
   "execution_count": 18,
   "id": "876a3df6",
   "metadata": {},
   "outputs": [],
   "source": [
    "PROCESSED_DFS.append(processed)"
   ]
  },
  {
   "cell_type": "markdown",
   "id": "e4c2d3ce",
   "metadata": {},
   "source": [
    "## F3: Expenditure for livestock, Poultry/Duckery Production Last 12 Months"
   ]
  },
  {
   "cell_type": "code",
   "execution_count": 19,
   "id": "da00b845",
   "metadata": {},
   "outputs": [],
   "source": [
    "filename = \"005_mod_f3.dta\"\n",
    "path = DATA_DIR + DATA_SUBDIR + filename\n",
    "df = load_data(path)"
   ]
  },
  {
   "cell_type": "code",
   "execution_count": 20,
   "id": "4d75f611",
   "metadata": {},
   "outputs": [],
   "source": [
    "mapping = {\n",
    "    \"livestock_fodder_value\": (\"f302\", \"sum\"),\n",
    "    \"livestock_medication_value\": (\"f303\", \"sum\"),\n",
    "    \"livestock_hired_male_labor\": (\"f306_1\", \"sum\"),\n",
    "}\n",
    "\n",
    "processed = apply_mapping(df, mapping)"
   ]
  },
  {
   "cell_type": "code",
   "execution_count": 21,
   "id": "bff90bd9",
   "metadata": {},
   "outputs": [],
   "source": [
    "PROCESSED_DFS.append(processed)"
   ]
  },
  {
   "cell_type": "markdown",
   "id": "04d8fdac",
   "metadata": {},
   "source": [
    "## G1: Credit obtained"
   ]
  },
  {
   "cell_type": "code",
   "execution_count": 22,
   "id": "8187a82f",
   "metadata": {
    "scrolled": false
   },
   "outputs": [],
   "source": [
    "filename = \"006_mod_g.dta\"\n",
    "path = DATA_DIR + DATA_SUBDIR + filename\n",
    "df = load_data(path)"
   ]
  },
  {
   "cell_type": "code",
   "execution_count": 23,
   "id": "3350c412",
   "metadata": {},
   "outputs": [],
   "source": [
    "mapping = {\n",
    "    \"credit_cash_borrowed\": (\"g07\", \"sum\"),\n",
    "    \"credit_value_borrowed\": (\"g10\", \"sum\"),\n",
    "    \"credit_cash_repaid\": (\"g16\", \"sum\"),\n",
    "    \"credit_value_repaid\": (\"g18\", \"sum\")\n",
    "}\n",
    "\n",
    "processed = apply_mapping(df, mapping)"
   ]
  },
  {
   "cell_type": "code",
   "execution_count": 24,
   "id": "9855cab1",
   "metadata": {},
   "outputs": [],
   "source": [
    "PROCESSED_DFS.append(processed)"
   ]
  },
  {
   "cell_type": "markdown",
   "id": "fed1db87",
   "metadata": {},
   "source": [
    "## G2: Repayment and utilization of Loan"
   ]
  },
  {
   "cell_type": "code",
   "execution_count": 25,
   "id": "323f57bd",
   "metadata": {},
   "outputs": [],
   "source": [
    "# TODO"
   ]
  },
  {
   "cell_type": "markdown",
   "id": "5eee13da",
   "metadata": {},
   "source": [
    "## H: Household Assets"
   ]
  },
  {
   "cell_type": "code",
   "execution_count": 26,
   "id": "18f7ba23",
   "metadata": {},
   "outputs": [],
   "source": [
    "filename = \"007_mod_h.dta\"\n",
    "path = DATA_DIR + DATA_SUBDIR + filename\n",
    "df = load_data(path)"
   ]
  },
  {
   "cell_type": "code",
   "execution_count": 27,
   "id": "9632d042",
   "metadata": {},
   "outputs": [],
   "source": [
    "# total value per household asset category\n",
    "categories = {\n",
    "    \"value_consumable_durables\":[i for i in range(1, 12)],\n",
    "    \"value_transport\":[i for i in range(12, 16)],\n",
    "    \"value_livestock_poultry\":[i for i in range(16, 20)],\n",
    "    \"value_agricultural_equipments\":[i for i in range(20,29)],\n",
    "    \"value_other\":[29]\n",
    "}\n",
    "\n",
    "results = {hhid:{\"hhid\":hhid} for hhid in UNIQUE_HHID}\n",
    "for hhid in UNIQUE_HHID:\n",
    "    household = df.loc[df.hhid==hhid]\n",
    "    for c in categories:\n",
    "        category_assets = household.loc[household[\"asset\"].isin(categories[c])]\n",
    "        results[hhid][c] = category_assets[\"h06\"].sum() if len(category_assets) else np.nan\n",
    "\n",
    "processed = get_processed_df(results)"
   ]
  },
  {
   "cell_type": "code",
   "execution_count": 28,
   "id": "fa1e3d66",
   "metadata": {},
   "outputs": [],
   "source": [
    "PROCESSED_DFS.append(processed)"
   ]
  },
  {
   "cell_type": "markdown",
   "id": "b16a5f10",
   "metadata": {},
   "source": [
    "## H1: Assets: Sales of Assets and Change in Ownership"
   ]
  },
  {
   "cell_type": "code",
   "execution_count": 29,
   "id": "d5d60f11",
   "metadata": {},
   "outputs": [],
   "source": [
    "filename = \"008_mod_h1.dta\"\n",
    "path = DATA_DIR + DATA_SUBDIR + filename\n",
    "df = load_data(path)"
   ]
  },
  {
   "cell_type": "code",
   "execution_count": 30,
   "id": "ed4bba98",
   "metadata": {},
   "outputs": [],
   "source": [
    "mapping = {\"sale_of_assets_value\": (\"h108\", \"sum\")}\n",
    "processed = apply_mapping(df, mapping)"
   ]
  },
  {
   "cell_type": "code",
   "execution_count": 31,
   "id": "b5b6dc7b",
   "metadata": {},
   "outputs": [],
   "source": [
    "PROCESSED_DFS.append(processed)"
   ]
  },
  {
   "cell_type": "markdown",
   "id": "b06dc991",
   "metadata": {},
   "source": [
    "## I: Food Consumption: Purchases, Home Production, and Other Sources"
   ]
  },
  {
   "cell_type": "code",
   "execution_count": 32,
   "id": "c2745e43",
   "metadata": {},
   "outputs": [],
   "source": [
    "filename = \"009_mod_i.dta\"\n",
    "path = DATA_DIR + DATA_SUBDIR + filename\n",
    "df = load_data(path)"
   ]
  },
  {
   "cell_type": "code",
   "execution_count": 33,
   "id": "cc24d236",
   "metadata": {
    "scrolled": true
   },
   "outputs": [],
   "source": [
    "food_categories = {\n",
    "    \"food_cereals\":np.arange(1,10),\n",
    "    \"food_pulses\":np.arange(11,18),\n",
    "    \"food_edible_oil\":np.arange(21,25),\n",
    "    \"food_vegetables\":np.arange(31,56),\n",
    "    \"food_leafy_vegetables\":np.arange(61,75),\n",
    "    \"food_meat_eggs_milk\":np.arange(81,88),\n",
    "    \"food_fruits\":np.arange(91,113),\n",
    "    \"food_fish_large\":np.arange(121,132),\n",
    "    \"food_fish_small\":np.arange(141,149),\n",
    "    \"food_spices\":np.arange(151,161),\n",
    "    \"food_other\":np.arange(171,177),\n",
    "    \"food_drinks\":np.arange(181,184),\n",
    "    \"food_other_outside_home\":np.arange(201,213)\n",
    "}\n",
    "\n",
    "results = {hhid:{\"hhid\":hhid} for hhid in UNIQUE_HHID}\n",
    "for hhid in UNIQUE_HHID:\n",
    "    household = df.loc[df.hhid==hhid]\n",
    "    for c, fcodes in food_categories.items():\n",
    "        relevant_rows = household.loc[household[\"fcode\"].isin(fcodes)]\n",
    "        for (col, label) in [(\"i07\", \"value_\"), (\"i04\", \"weight_\")]:\n",
    "            non_nan = relevant_rows.loc[~relevant_rows[col].isna()]\n",
    "            results[hhid][label+c] = non_nan[col].sum() if len(non_nan) else np.nan\n",
    "            \n",
    "processed = get_processed_df(results)"
   ]
  },
  {
   "cell_type": "code",
   "execution_count": 34,
   "id": "5ec501a7",
   "metadata": {},
   "outputs": [],
   "source": [
    "PROCESSED_DFS.append(processed)"
   ]
  },
  {
   "cell_type": "markdown",
   "id": "d99a60c5",
   "metadata": {},
   "source": [
    "## J1, J2: Non-food Expenditure"
   ]
  },
  {
   "cell_type": "code",
   "execution_count": 35,
   "id": "65ec2311",
   "metadata": {},
   "outputs": [],
   "source": [
    "filename = \"010_mod_j.dta\"\n",
    "path = DATA_DIR + DATA_SUBDIR + filename\n",
    "df = load_data(path)"
   ]
  },
  {
   "cell_type": "code",
   "execution_count": 36,
   "id": "d3f72bbe",
   "metadata": {
    "scrolled": true
   },
   "outputs": [],
   "source": [
    "non_food_categories = {\n",
    "    \"rent_expenses\":[1,2],\n",
    "    \"fuel_expenses\":[3,4,5,6],\n",
    "    \"local_transport_expenses\":[7,8],\n",
    "    \"miscellaneous_expenses\":[9,10,11,12,13,29,30,31,32,54,55],\n",
    "    \"health_expenses\":[14,15,16],\n",
    "    \"communication_expenses\":[17,18],\n",
    "    \"personal_items_expenses\":np.arange(19,25),\n",
    "    \"entertainment_expenses\":[25,26],\n",
    "    \"non_local_travel_expenses\":[27,28],\n",
    "    \"clothing_expenses\":np.arange(33,39),\n",
    "    \"furniture_household_expenses\":np.arange(39,49),\n",
    "    \"utilities_taxes_fees\":np.arange(49,54),\n",
    "    \"family_events_expenses\":[56,57],\n",
    "    \"wedding_costs_bride\":np.arange(59,63),\n",
    "    \"wedding_costs_groom\":np.arange(63,67),\n",
    "    \"education_expenses\":np.arange(67,73),\n",
    "    \"vehicle_expenses\":np.arange(73,77)\n",
    "}\n",
    "\n",
    "results = {hhid:{\"hhid\":hhid} for hhid in UNIQUE_HHID}\n",
    "for hhid in UNIQUE_HHID:\n",
    "    household = df.loc[df.hhid==hhid]\n",
    "    for c, nfcodes in non_food_categories.items():\n",
    "        relevant_rows = household.loc[household[\"nfcode\"].isin(nfcodes)]\n",
    "        for col in [\"j02_1\", \"j02_2\", \"j03_1\", \"j03_2\"]:\n",
    "            non_nan = relevant_rows.loc[~relevant_rows[col].isna()]\n",
    "            results[hhid][col+\"_\"+c] = non_nan[col].sum() if len(non_nan) else np.nan\n",
    "\n",
    "processed = get_processed_df(results)"
   ]
  },
  {
   "cell_type": "code",
   "execution_count": 37,
   "id": "a03363b6",
   "metadata": {},
   "outputs": [],
   "source": [
    "PROCESSED_DFS.append(processed)"
   ]
  },
  {
   "cell_type": "markdown",
   "id": "fe2b5a8d",
   "metadata": {},
   "source": [
    "## K: Housing, Source of Water and sanitation"
   ]
  },
  {
   "cell_type": "code",
   "execution_count": 38,
   "id": "bb312212",
   "metadata": {},
   "outputs": [],
   "source": [
    "filename = \"011_mod_k.dta\"\n",
    "path = DATA_DIR + DATA_SUBDIR + filename\n",
    "df = load_data(path)"
   ]
  },
  {
   "cell_type": "code",
   "execution_count": 39,
   "id": "863e1236",
   "metadata": {},
   "outputs": [],
   "source": [
    "processed = column_selection(df, keep=[\"hhid\", \"k01\", \"k02\", \"k03\", \"k03_1\",\n",
    "                                       \"k04\", \"k05\", \"k05_1\", \"k06\", \"k07\", \"k10\"])"
   ]
  },
  {
   "cell_type": "code",
   "execution_count": 40,
   "id": "a29d018f",
   "metadata": {},
   "outputs": [],
   "source": [
    "PROCESSED_DFS.append(processed)"
   ]
  },
  {
   "cell_type": "markdown",
   "id": "061064d3",
   "metadata": {},
   "source": [
    "## L : Weather events adversely affected the household or the farming"
   ]
  },
  {
   "cell_type": "code",
   "execution_count": 41,
   "id": "cb5aba15",
   "metadata": {},
   "outputs": [],
   "source": [
    "filename = \"012_mod_l.dta\"\n",
    "path = DATA_DIR + DATA_SUBDIR + filename\n",
    "df = load_data(path)"
   ]
  },
  {
   "cell_type": "code",
   "execution_count": 42,
   "id": "1411620c",
   "metadata": {},
   "outputs": [],
   "source": [
    "calamity_numbers = [i for i in range(1, 13)]\n",
    "\n",
    "results = {hhid:{\"hhid\":hhid} for hhid in UNIQUE_HHID}\n",
    "for hhid in UNIQUE_HHID:\n",
    "    household = df.loc[df.hhid == hhid]\n",
    "    nums = list(household[\"l01\"])\n",
    "    for n in calamity_numbers:\n",
    "        if n not in nums:\n",
    "            results[hhid][\"calamity_\"+str(n)] = np.nan\n",
    "        else:\n",
    "            results[hhid][\"calamity_\"+str(n)] = 1 if int(household.loc[household[\"l01\"]==n][\"l02\"]) == 1 else 0\n",
    "\n",
    "processed = get_processed_df(results)                "
   ]
  },
  {
   "cell_type": "code",
   "execution_count": 43,
   "id": "f32d0fc9",
   "metadata": {},
   "outputs": [],
   "source": [
    "PROCESSED_DFS.append(processed)"
   ]
  },
  {
   "cell_type": "markdown",
   "id": "cd54cd53",
   "metadata": {},
   "source": [
    "## L1: Weather events adversely affected the household or the farming cope"
   ]
  },
  {
   "cell_type": "code",
   "execution_count": 44,
   "id": "debb57a2",
   "metadata": {},
   "outputs": [],
   "source": [
    "filename = \"013_mod_l1.dta\"\n",
    "path = DATA_DIR + DATA_SUBDIR + filename\n",
    "df = load_data(path)\n",
    "\n",
    "mapping   = {\"weather_events_damage\": (\"l1_05\", \"sum\")}\n",
    "processed = apply_mapping(df, mapping)\n",
    "PROCESSED_DFS.append(processed)"
   ]
  },
  {
   "cell_type": "markdown",
   "id": "51d55c4b",
   "metadata": {},
   "source": [
    "## L2: Shocks"
   ]
  },
  {
   "cell_type": "code",
   "execution_count": 45,
   "id": "1275aac5",
   "metadata": {},
   "outputs": [],
   "source": [
    "filename = \"014_mod_l2.dta\"\n",
    "path = DATA_DIR + DATA_SUBDIR + filename\n",
    "df = load_data(path)\n",
    "\n",
    "mapping   = {\"shocks_loss_value\": (\"l2_06\", \"sum\")}\n",
    "processed = apply_mapping(df, mapping)\n",
    "PROCESSED_DFS.append(processed)"
   ]
  },
  {
   "cell_type": "markdown",
   "id": "12c9e7f4",
   "metadata": {},
   "source": [
    "## L3: Positive Economic Events"
   ]
  },
  {
   "cell_type": "code",
   "execution_count": 46,
   "id": "96d24f27",
   "metadata": {},
   "outputs": [],
   "source": [
    "filename = \"015_mod_l3.dta\"\n",
    "path = DATA_DIR + DATA_SUBDIR + filename\n",
    "df = load_data(path)\n",
    "\n",
    "mapping   = {\"positive_events_value\": (\"l3_06\", \"sum\")}\n",
    "processed = apply_mapping(df, mapping)\n",
    "PROCESSED_DFS.append(processed)"
   ]
  },
  {
   "cell_type": "markdown",
   "id": "373b99d5",
   "metadata": {},
   "source": [
    "## M: Agricultural extension"
   ]
  },
  {
   "cell_type": "code",
   "execution_count": 47,
   "id": "5a76eb65",
   "metadata": {},
   "outputs": [],
   "source": [
    "filename = \"017_mod_m.dta\"\n",
    "path = DATA_DIR + DATA_SUBDIR + filename\n",
    "df = load_data(path)\n",
    "\n",
    "PROCESSED_DFS.append(df)"
   ]
  },
  {
   "cell_type": "markdown",
   "id": "c2b64275",
   "metadata": {},
   "source": [
    "## Q: Perceptions of Climate Change"
   ]
  },
  {
   "cell_type": "code",
   "execution_count": 48,
   "id": "3440463b",
   "metadata": {},
   "outputs": [],
   "source": [
    "filename = \"018_mod_q.dta\"\n",
    "path = DATA_DIR + DATA_SUBDIR + filename\n",
    "df = load_data(path)\n",
    "\n",
    "PROCESSED_DFS.append(df)"
   ]
  },
  {
   "cell_type": "markdown",
   "id": "7410441d",
   "metadata": {},
   "source": [
    "## O: Changes in farming practices due to climate change"
   ]
  },
  {
   "cell_type": "code",
   "execution_count": 49,
   "id": "787e5f62",
   "metadata": {},
   "outputs": [],
   "source": [
    "filename = \"019_mod_o.dta\"\n",
    "path = DATA_DIR + DATA_SUBDIR + filename\n",
    "df = load_data(path)"
   ]
  },
  {
   "cell_type": "code",
   "execution_count": 50,
   "id": "eec377b5",
   "metadata": {},
   "outputs": [],
   "source": [
    "keep = [\"hhid\"] + [\"o0\"+str(i)+\"_1\" for i in range(2, 9)] + [\"o09\"] + \\\n",
    "       [\"o\"+str(i) for i in range(10, 23)] + [\"o\"+str(i)+\"_1\" for i in range(23, 29)] + [\"o29\"]\n",
    "\n",
    "processed = column_selection(df, keep=keep)\n",
    "PROCESSED_DFS.append(processed)"
   ]
  },
  {
   "cell_type": "code",
   "execution_count": 51,
   "id": "8714c6f9",
   "metadata": {},
   "outputs": [],
   "source": [
    "ADAPTATION_DFS.append(processed)"
   ]
  },
  {
   "cell_type": "markdown",
   "id": "27695b5a",
   "metadata": {},
   "source": [
    "## O1: Any integration about Livestock/Poultry"
   ]
  },
  {
   "cell_type": "code",
   "execution_count": 52,
   "id": "ec6942fb",
   "metadata": {},
   "outputs": [],
   "source": [
    "filename = \"020_mod_o1.dta\"\n",
    "path = DATA_DIR + DATA_SUBDIR + filename\n",
    "df = load_data(path)"
   ]
  },
  {
   "cell_type": "code",
   "execution_count": 53,
   "id": "ca6eaaed",
   "metadata": {},
   "outputs": [],
   "source": [
    "keep = [\"hhid\"] + [\"o1_01_\"+str(i) for i in range(1, 10)]\n",
    "processed = column_selection(df, keep=keep)"
   ]
  },
  {
   "cell_type": "code",
   "execution_count": 54,
   "id": "94af7a8d",
   "metadata": {},
   "outputs": [],
   "source": [
    "PROCESSED_DFS.append(processed)"
   ]
  },
  {
   "cell_type": "code",
   "execution_count": 55,
   "id": "fe3e24ef",
   "metadata": {},
   "outputs": [],
   "source": [
    "ADAPTATION_DFS.append(processed)"
   ]
  },
  {
   "cell_type": "markdown",
   "id": "b88b84ff",
   "metadata": {},
   "source": [
    "## O2: Constraints to adaptation"
   ]
  },
  {
   "cell_type": "code",
   "execution_count": 56,
   "id": "89cf12ed",
   "metadata": {},
   "outputs": [],
   "source": [
    "filename = \"021_mod_o2.dta\"\n",
    "path = DATA_DIR + DATA_SUBDIR + filename\n",
    "df = load_data(path)"
   ]
  },
  {
   "cell_type": "code",
   "execution_count": 57,
   "id": "46d5c6d5",
   "metadata": {},
   "outputs": [],
   "source": [
    "max_len = 0\n",
    "for hhid in UNIQUE_HHID:\n",
    "    max_len = max(max_len, len(df.loc[df.hhid==hhid]))\n",
    "\n",
    "results = {hhid:{\"hhid\":hhid} for hhid in UNIQUE_HHID}\n",
    "for hhid in UNIQUE_HHID:\n",
    "    household = df.loc[df.hhid==hhid]\n",
    "    idx = 0\n",
    "    for _, row in household.iterrows():\n",
    "        results[hhid][f\"constraints_{idx}_measure\"] = row[\"o2_01\"]\n",
    "        severity = [x for x in row[[\"o2_03_1\", \"o2_03_2\", \"o2_03_3\", \"o2_03_4\", \"o2_03_5\"]] if not np.isnan(x)]\n",
    "        if len(severity):\n",
    "            for i in range(5):\n",
    "                if i in severity:\n",
    "                    most_severe = severity.index(i) + 1\n",
    "                    results[hhid][f\"constraints_{idx}_constraint\"] = row[f'o2_02_{most_severe}']\n",
    "                    break\n",
    "        else:\n",
    "            results[hhid][f\"constraints_{idx}_constraint\"] = np.nan\n",
    "        \n",
    "        idx += 1\n",
    "    \n",
    "    while idx < max_len:\n",
    "        results[hhid][f\"constraints_{idx}_measure\"] = np.nan\n",
    "        results[hhid][f\"constraints_{idx}_constraint\"] = np.nan\n",
    "        idx += 1\n",
    "        \n",
    "processed = get_processed_df(results)"
   ]
  },
  {
   "cell_type": "code",
   "execution_count": 58,
   "id": "4ef069b0",
   "metadata": {},
   "outputs": [],
   "source": [
    "PROCESSED_DFS.append(processed)"
   ]
  },
  {
   "cell_type": "markdown",
   "id": "87591cba",
   "metadata": {},
   "source": [
    "## R1: Information of group based approach"
   ]
  },
  {
   "cell_type": "code",
   "execution_count": 59,
   "id": "fa9458cb",
   "metadata": {},
   "outputs": [],
   "source": [
    "filename = \"022_mod_r1.dta\"\n",
    "path = DATA_DIR + DATA_SUBDIR + filename\n",
    "df = load_data(path)"
   ]
  },
  {
   "cell_type": "code",
   "execution_count": 60,
   "id": "393b5d08",
   "metadata": {
    "scrolled": true
   },
   "outputs": [],
   "source": [
    "groups = np.arange(1, 19)\n",
    "\n",
    "results = {hhid:{\"hhid\":hhid} for hhid in UNIQUE_HHID}\n",
    "for hhid in UNIQUE_HHID:\n",
    "    household = df.loc[df.hhid==hhid]\n",
    "    for g in groups:\n",
    "        g_row = household.loc[household[\"r1_01\"]==g]        \n",
    "        if len(g_row):\n",
    "            membership_values = list(g_row[\"r1_02\"])\n",
    "            results[hhid][f\"group_{g}_membership\"] = int(1 in membership_values)\n",
    "        else:\n",
    "            results[hhid][f\"group_{g}_membership\"] = np.nan\n",
    "            \n",
    "processed = get_processed_df(results)"
   ]
  },
  {
   "cell_type": "code",
   "execution_count": 61,
   "id": "1751fd06",
   "metadata": {},
   "outputs": [],
   "source": [
    "PROCESSED_DFS.append(processed)"
   ]
  },
  {
   "cell_type": "markdown",
   "id": "d929dfe5",
   "metadata": {},
   "source": [
    "## R2: Group activity related information"
   ]
  },
  {
   "cell_type": "code",
   "execution_count": 62,
   "id": "e38fbcfd",
   "metadata": {},
   "outputs": [],
   "source": [
    "filename = \"023_mod_r2.dta\"\n",
    "path = DATA_DIR + DATA_SUBDIR + filename\n",
    "df = load_data(path)"
   ]
  },
  {
   "cell_type": "code",
   "execution_count": 63,
   "id": "f1949d1a",
   "metadata": {},
   "outputs": [],
   "source": [
    "# a few duplicate rows found in this data file...\n",
    "duplicates = []\n",
    "for hhid in df[\"hhid\"].unique():\n",
    "    if len(df.loc[df.hhid==hhid]) > 1:\n",
    "        duplicates.append(hhid)\n",
    "    \n",
    "drop_indices = []\n",
    "for d in duplicates:\n",
    "    drop_indices.append(list(df.loc[df.hhid==d].index)[0])\n",
    "\n",
    "df = df.drop(drop_indices)"
   ]
  },
  {
   "cell_type": "code",
   "execution_count": 64,
   "id": "4a516f4d",
   "metadata": {},
   "outputs": [],
   "source": [
    "keep = [\"hhid\"] + [f\"r2_15_{i}\" for i in range(1,5)] + [f\"r2_16_{i}\" for i in range(1,5)]\n",
    "for j in range(17, 24):\n",
    "    keep += [f\"r2_{j}_{i}_1\" for i in range(1,5)]\n",
    "    \n",
    "processed = column_selection(df, keep=keep)\n",
    "PROCESSED_DFS.append(processed)"
   ]
  },
  {
   "cell_type": "markdown",
   "id": "d69b273d",
   "metadata": {},
   "source": [
    "## R3: Network"
   ]
  },
  {
   "cell_type": "code",
   "execution_count": 65,
   "id": "29935429",
   "metadata": {},
   "outputs": [],
   "source": [
    "filename = \"024_mod_r3.dta\"\n",
    "path = DATA_DIR + DATA_SUBDIR + filename\n",
    "df = load_data(path)"
   ]
  },
  {
   "cell_type": "code",
   "execution_count": 66,
   "id": "ff88ded7",
   "metadata": {},
   "outputs": [],
   "source": [
    "processed = column_selection(df, remove=[\"r3_01_1\", \"r3_01_2\"])"
   ]
  },
  {
   "cell_type": "code",
   "execution_count": 67,
   "id": "38ab74cb",
   "metadata": {},
   "outputs": [],
   "source": [
    "PROCESSED_DFS.append(processed)"
   ]
  },
  {
   "cell_type": "markdown",
   "id": "fd129916",
   "metadata": {},
   "source": [
    "## R4: Trust and Solidarity"
   ]
  },
  {
   "cell_type": "code",
   "execution_count": 68,
   "id": "29e7085e",
   "metadata": {},
   "outputs": [],
   "source": [
    "filename = \"025_mod_r4.dta\"\n",
    "path = DATA_DIR + DATA_SUBDIR + filename\n",
    "df = load_data(path)"
   ]
  },
  {
   "cell_type": "code",
   "execution_count": 69,
   "id": "08171963",
   "metadata": {},
   "outputs": [],
   "source": [
    "processed = column_selection(df, remove=[\"r4_01_1\", \"r4_01_2\"])"
   ]
  },
  {
   "cell_type": "code",
   "execution_count": 70,
   "id": "55b7459e",
   "metadata": {},
   "outputs": [],
   "source": [
    "PROCESSED_DFS.append(processed)"
   ]
  },
  {
   "cell_type": "markdown",
   "id": "aee9de2b",
   "metadata": {},
   "source": [
    "## R5: Economic setbacks"
   ]
  },
  {
   "cell_type": "code",
   "execution_count": 71,
   "id": "c5baf478",
   "metadata": {},
   "outputs": [],
   "source": [
    "filename = \"026_mod_r5.dta\"\n",
    "path = DATA_DIR + DATA_SUBDIR + filename\n",
    "df = load_data(path)"
   ]
  },
  {
   "cell_type": "code",
   "execution_count": 72,
   "id": "a8a1f70c",
   "metadata": {},
   "outputs": [],
   "source": [
    "results = {hhid:{\"hhid\":hhid} for hhid in UNIQUE_HHID}\n",
    "for hhid in UNIQUE_HHID:\n",
    "    household = df.loc[df.hhid==hhid]\n",
    "    results[hhid][\"serious_economic_setback\"] = 1 if 1 in list(household[\"r5\"]) else 0\n",
    "    \n",
    "processed = get_processed_df(results)"
   ]
  },
  {
   "cell_type": "code",
   "execution_count": 73,
   "id": "38f3f9b9",
   "metadata": {},
   "outputs": [],
   "source": [
    "PROCESSED_DFS.append(processed)"
   ]
  },
  {
   "cell_type": "markdown",
   "id": "a218fac9",
   "metadata": {},
   "source": [
    "## R6: Collective Action and Cooperation and Sociability"
   ]
  },
  {
   "cell_type": "code",
   "execution_count": 74,
   "id": "cead9679",
   "metadata": {},
   "outputs": [],
   "source": [
    "filename = \"027_mod_r6.dta\"\n",
    "path = DATA_DIR + DATA_SUBDIR + filename\n",
    "df = load_data(path)"
   ]
  },
  {
   "cell_type": "code",
   "execution_count": 75,
   "id": "195f73a9",
   "metadata": {},
   "outputs": [],
   "source": [
    "processed = column_selection(df, remove=[\"r6_01_1\", \"r6_01_2\"])"
   ]
  },
  {
   "cell_type": "code",
   "execution_count": 76,
   "id": "3ceeaa53",
   "metadata": {},
   "outputs": [],
   "source": [
    "PROCESSED_DFS.append(processed)"
   ]
  },
  {
   "cell_type": "markdown",
   "id": "0529a1c0",
   "metadata": {},
   "source": [
    "## R7: Information and Communication"
   ]
  },
  {
   "cell_type": "code",
   "execution_count": 77,
   "id": "e6b3745d",
   "metadata": {},
   "outputs": [],
   "source": [
    "filename = \"028_mod_r7.dta\"\n",
    "path = DATA_DIR + DATA_SUBDIR + filename\n",
    "df = load_data(path)"
   ]
  },
  {
   "cell_type": "code",
   "execution_count": 78,
   "id": "154c2706",
   "metadata": {},
   "outputs": [],
   "source": [
    "processed = column_selection(df, remove=[\"r7_01_1\", \"r7_01_2\"])"
   ]
  },
  {
   "cell_type": "code",
   "execution_count": 79,
   "id": "92099c83",
   "metadata": {},
   "outputs": [],
   "source": [
    "PROCESSED_DFS.append(processed)"
   ]
  },
  {
   "cell_type": "markdown",
   "id": "37ae414a",
   "metadata": {},
   "source": [
    "## R8: Production and climate Information"
   ]
  },
  {
   "cell_type": "code",
   "execution_count": 80,
   "id": "2bb0baf2",
   "metadata": {},
   "outputs": [],
   "source": [
    "filename = \"029_mod_r8.dta\"\n",
    "path = DATA_DIR + DATA_SUBDIR + filename\n",
    "df = load_data(path)"
   ]
  },
  {
   "cell_type": "code",
   "execution_count": 81,
   "id": "9b07ec30",
   "metadata": {},
   "outputs": [],
   "source": [
    "keep = [\"hhid\", \"r8_02_1\", \"r8_02_2\", \"r8_06_1\", \"r8_06_2\", \"r8_14_1\", \"r8_14_2\"]\n",
    "processed = column_selection(df, keep=keep)"
   ]
  },
  {
   "cell_type": "code",
   "execution_count": 82,
   "id": "62c3777d",
   "metadata": {},
   "outputs": [],
   "source": [
    "PROCESSED_DFS.append(processed)"
   ]
  },
  {
   "cell_type": "markdown",
   "id": "de4b1964",
   "metadata": {},
   "source": [
    "## R9: Production and climate Information"
   ]
  },
  {
   "cell_type": "code",
   "execution_count": 83,
   "id": "3f5262b7",
   "metadata": {},
   "outputs": [],
   "source": [
    "filename = \"030_mod_r9.dta\"\n",
    "path = DATA_DIR + DATA_SUBDIR + filename\n",
    "df = load_data(path)"
   ]
  },
  {
   "cell_type": "code",
   "execution_count": 84,
   "id": "e379e07f",
   "metadata": {},
   "outputs": [],
   "source": [
    "keep = [\"hhid\", \"r9_02_1\", \"r9_02_2\", \"r9_09_1\", \"r9_09_2\"]\n",
    "processed = column_selection(df, keep=keep)"
   ]
  },
  {
   "cell_type": "code",
   "execution_count": 85,
   "id": "9406e281",
   "metadata": {},
   "outputs": [],
   "source": [
    "PROCESSED_DFS.append(processed)"
   ]
  },
  {
   "cell_type": "markdown",
   "id": "bac5374a",
   "metadata": {},
   "source": [
    "## S: Empowerment and Political Action"
   ]
  },
  {
   "cell_type": "code",
   "execution_count": 86,
   "id": "14fccda9",
   "metadata": {},
   "outputs": [],
   "source": [
    "filename = \"031_mod_s.dta\"\n",
    "path = DATA_DIR + DATA_SUBDIR + filename\n",
    "df = load_data(path)"
   ]
  },
  {
   "cell_type": "code",
   "execution_count": 87,
   "id": "90ea493c",
   "metadata": {},
   "outputs": [],
   "source": [
    "processed = column_selection(df, remove=[\"s_01_1\", \"s_01_2\"])"
   ]
  },
  {
   "cell_type": "code",
   "execution_count": 88,
   "id": "661cb9cc",
   "metadata": {},
   "outputs": [],
   "source": [
    "PROCESSED_DFS.append(processed)"
   ]
  },
  {
   "cell_type": "markdown",
   "id": "c12b81f3",
   "metadata": {},
   "source": [
    "## T: Employment"
   ]
  },
  {
   "cell_type": "code",
   "execution_count": 89,
   "id": "36db9901",
   "metadata": {},
   "outputs": [],
   "source": [
    "filename = \"032_mod_t.dta\"\n",
    "path = DATA_DIR + DATA_SUBDIR + filename\n",
    "df = load_data(path)"
   ]
  },
  {
   "cell_type": "code",
   "execution_count": 90,
   "id": "8651a8ef",
   "metadata": {},
   "outputs": [],
   "source": [
    "job_categories = {\n",
    "    \"job_wage_labor\":np.arange(1,12),\n",
    "    \"job_salaried_worker\":np.arange(12,22),\n",
    "    \"job_self_employment\":np.arange(22,48),\n",
    "    \"job_trader\":np.arange(50,55),\n",
    "    \"job_production\":np.arange(55,58),\n",
    "    \"job_livestock_poultry_service\":np.arange(58,64),\n",
    "    \"job_farming\":np.arange(64,73)\n",
    "}\n",
    "\n",
    "results = {hhid:{\"hhid\":hhid} for hhid in UNIQUE_HHID}\n",
    "for hhid in UNIQUE_HHID:\n",
    "    household = df.loc[df.hhid==hhid]\n",
    "    relevant = list(household[\"t05\"])\n",
    "    for c, numbers in job_categories.items():\n",
    "        results[hhid][c] = 0\n",
    "        for n in numbers:\n",
    "            if n in relevant:\n",
    "                results[hhid][c] += 1\n",
    "            \n",
    "processed = get_processed_df(results)"
   ]
  },
  {
   "cell_type": "code",
   "execution_count": 91,
   "id": "f2e633e0",
   "metadata": {},
   "outputs": [],
   "source": [
    "PROCESSED_DFS.append(processed)"
   ]
  },
  {
   "cell_type": "markdown",
   "id": "6d8cebe1",
   "metadata": {},
   "source": [
    "## U: Time use of male and female members in the household"
   ]
  },
  {
   "cell_type": "code",
   "execution_count": 92,
   "id": "6978fa93",
   "metadata": {},
   "outputs": [],
   "source": [
    "# TODO: discard?"
   ]
  },
  {
   "cell_type": "markdown",
   "id": "c7b4902c",
   "metadata": {},
   "source": [
    "## V: Anthropometry"
   ]
  },
  {
   "cell_type": "code",
   "execution_count": 93,
   "id": "cde7b481",
   "metadata": {},
   "outputs": [],
   "source": [
    "# TODO: discard?"
   ]
  },
  {
   "cell_type": "markdown",
   "id": "254846ed",
   "metadata": {},
   "source": [
    "# Combine processed dataframes"
   ]
  },
  {
   "cell_type": "code",
   "execution_count": 94,
   "id": "a9c5248e",
   "metadata": {},
   "outputs": [],
   "source": [
    "# mind the treatment of MISSING VALUES!\n",
    "    # do we really want to impute \"0\" when no information is present?\n",
    "    # just leave as empty\n",
    "        # then if we see a household with many empty fields, or a feature with mostly empty values,\n",
    "        # we remove it"
   ]
  },
  {
   "cell_type": "code",
   "execution_count": 96,
   "id": "17b14013",
   "metadata": {
    "scrolled": true
   },
   "outputs": [],
   "source": [
    "# add missing household ids\n",
    "all_hhids_present = []\n",
    "for idx, df in enumerate(PROCESSED_DFS):\n",
    "    df[\"hhid\"] = np.round(df[\"hhid\"].astype(np.float64), 1)\n",
    "    if len(df[\"hhid\"].unique()) != len(UNIQUE_HHID):\n",
    "        all_hhids_present.append(add_missing_hhids(df))\n",
    "    else:\n",
    "        all_hhids_present.append(df)\n",
    "\n",
    "# sanity check\n",
    "for df in all_hhids_present:\n",
    "    hids = df[\"hhid\"].unique()\n",
    "    for h in hids:\n",
    "        assert h in UNIQUE_HHID\n",
    "    for h in UNIQUE_HHID:\n",
    "        assert h in hids\n",
    "        \n",
    "# merge all dataframes\n",
    "df = all_hhids_present[0]\n",
    "for df1 in all_hhids_present[1:]:\n",
    "    df = df.merge(df1, on=\"hhid\", how=\"inner\")\n",
    "assert df.shape[0] == len(UNIQUE_HHID)"
   ]
  },
  {
   "cell_type": "code",
   "execution_count": 113,
   "id": "c58af344",
   "metadata": {
    "scrolled": false
   },
   "outputs": [
    {
     "data": {
      "text/html": [
       "<div>\n",
       "<style scoped>\n",
       "    .dataframe tbody tr th:only-of-type {\n",
       "        vertical-align: middle;\n",
       "    }\n",
       "\n",
       "    .dataframe tbody tr th {\n",
       "        vertical-align: top;\n",
       "    }\n",
       "\n",
       "    .dataframe thead th {\n",
       "        text-align: right;\n",
       "    }\n",
       "</style>\n",
       "<table border=\"1\" class=\"dataframe\">\n",
       "  <thead>\n",
       "    <tr style=\"text-align: right;\">\n",
       "      <th></th>\n",
       "      <th>hhid</th>\n",
       "      <th>ezcode</th>\n",
       "      <th>community_code</th>\n",
       "      <th>household_size</th>\n",
       "      <th>ratio_male</th>\n",
       "      <th>ratio_female</th>\n",
       "      <th>num_children</th>\n",
       "      <th>highest_education</th>\n",
       "      <th>highest_literacy</th>\n",
       "      <th>total_land_value_per_month</th>\n",
       "      <th>...</th>\n",
       "      <th>s_07_2</th>\n",
       "      <th>s_08_2</th>\n",
       "      <th>s_09_2</th>\n",
       "      <th>job_wage_labor</th>\n",
       "      <th>job_salaried_worker</th>\n",
       "      <th>job_self_employment</th>\n",
       "      <th>job_trader</th>\n",
       "      <th>job_production</th>\n",
       "      <th>job_livestock_poultry_service</th>\n",
       "      <th>job_farming</th>\n",
       "    </tr>\n",
       "  </thead>\n",
       "  <tbody>\n",
       "    <tr>\n",
       "      <th>0</th>\n",
       "      <td>1.0</td>\n",
       "      <td>7</td>\n",
       "      <td>1_1_1</td>\n",
       "      <td>9.0</td>\n",
       "      <td>0.555556</td>\n",
       "      <td>0.444444</td>\n",
       "      <td>3.0</td>\n",
       "      <td>20.0</td>\n",
       "      <td>3.0</td>\n",
       "      <td>50.0</td>\n",
       "      <td>...</td>\n",
       "      <td>1.0</td>\n",
       "      <td>1.0</td>\n",
       "      <td>2.0</td>\n",
       "      <td>0</td>\n",
       "      <td>1</td>\n",
       "      <td>1</td>\n",
       "      <td>0</td>\n",
       "      <td>0</td>\n",
       "      <td>0</td>\n",
       "      <td>3</td>\n",
       "    </tr>\n",
       "    <tr>\n",
       "      <th>1</th>\n",
       "      <td>2.0</td>\n",
       "      <td>7</td>\n",
       "      <td>1_1_1</td>\n",
       "      <td>6.0</td>\n",
       "      <td>0.500000</td>\n",
       "      <td>0.500000</td>\n",
       "      <td>1.0</td>\n",
       "      <td>8.0</td>\n",
       "      <td>3.0</td>\n",
       "      <td>500.0</td>\n",
       "      <td>...</td>\n",
       "      <td>1.0</td>\n",
       "      <td>1.0</td>\n",
       "      <td>3.0</td>\n",
       "      <td>1</td>\n",
       "      <td>0</td>\n",
       "      <td>0</td>\n",
       "      <td>0</td>\n",
       "      <td>0</td>\n",
       "      <td>0</td>\n",
       "      <td>3</td>\n",
       "    </tr>\n",
       "    <tr>\n",
       "      <th>2</th>\n",
       "      <td>3.0</td>\n",
       "      <td>7</td>\n",
       "      <td>1_1_1</td>\n",
       "      <td>4.0</td>\n",
       "      <td>0.750000</td>\n",
       "      <td>0.250000</td>\n",
       "      <td>2.0</td>\n",
       "      <td>18.0</td>\n",
       "      <td>3.0</td>\n",
       "      <td>NaN</td>\n",
       "      <td>...</td>\n",
       "      <td>2.0</td>\n",
       "      <td>1.0</td>\n",
       "      <td>3.0</td>\n",
       "      <td>0</td>\n",
       "      <td>0</td>\n",
       "      <td>1</td>\n",
       "      <td>0</td>\n",
       "      <td>0</td>\n",
       "      <td>0</td>\n",
       "      <td>3</td>\n",
       "    </tr>\n",
       "    <tr>\n",
       "      <th>3</th>\n",
       "      <td>4.0</td>\n",
       "      <td>7</td>\n",
       "      <td>1_1_1</td>\n",
       "      <td>6.0</td>\n",
       "      <td>0.333333</td>\n",
       "      <td>0.666667</td>\n",
       "      <td>1.0</td>\n",
       "      <td>8.0</td>\n",
       "      <td>3.0</td>\n",
       "      <td>384.0</td>\n",
       "      <td>...</td>\n",
       "      <td>1.0</td>\n",
       "      <td>1.0</td>\n",
       "      <td>3.0</td>\n",
       "      <td>0</td>\n",
       "      <td>0</td>\n",
       "      <td>0</td>\n",
       "      <td>0</td>\n",
       "      <td>0</td>\n",
       "      <td>0</td>\n",
       "      <td>4</td>\n",
       "    </tr>\n",
       "    <tr>\n",
       "      <th>4</th>\n",
       "      <td>5.0</td>\n",
       "      <td>7</td>\n",
       "      <td>1_1_1</td>\n",
       "      <td>7.0</td>\n",
       "      <td>0.428571</td>\n",
       "      <td>0.571429</td>\n",
       "      <td>1.0</td>\n",
       "      <td>15.0</td>\n",
       "      <td>3.0</td>\n",
       "      <td>NaN</td>\n",
       "      <td>...</td>\n",
       "      <td>1.0</td>\n",
       "      <td>1.0</td>\n",
       "      <td>3.0</td>\n",
       "      <td>0</td>\n",
       "      <td>0</td>\n",
       "      <td>1</td>\n",
       "      <td>0</td>\n",
       "      <td>0</td>\n",
       "      <td>0</td>\n",
       "      <td>2</td>\n",
       "    </tr>\n",
       "    <tr>\n",
       "      <th>...</th>\n",
       "      <td>...</td>\n",
       "      <td>...</td>\n",
       "      <td>...</td>\n",
       "      <td>...</td>\n",
       "      <td>...</td>\n",
       "      <td>...</td>\n",
       "      <td>...</td>\n",
       "      <td>...</td>\n",
       "      <td>...</td>\n",
       "      <td>...</td>\n",
       "      <td>...</td>\n",
       "      <td>...</td>\n",
       "      <td>...</td>\n",
       "      <td>...</td>\n",
       "      <td>...</td>\n",
       "      <td>...</td>\n",
       "      <td>...</td>\n",
       "      <td>...</td>\n",
       "      <td>...</td>\n",
       "      <td>...</td>\n",
       "      <td>...</td>\n",
       "    </tr>\n",
       "    <tr>\n",
       "      <th>822</th>\n",
       "      <td>796.0</td>\n",
       "      <td>6</td>\n",
       "      <td>40_39_31</td>\n",
       "      <td>10.0</td>\n",
       "      <td>0.400000</td>\n",
       "      <td>0.600000</td>\n",
       "      <td>2.0</td>\n",
       "      <td>12.0</td>\n",
       "      <td>3.0</td>\n",
       "      <td>NaN</td>\n",
       "      <td>...</td>\n",
       "      <td>1.0</td>\n",
       "      <td>1.0</td>\n",
       "      <td>3.0</td>\n",
       "      <td>0</td>\n",
       "      <td>0</td>\n",
       "      <td>1</td>\n",
       "      <td>0</td>\n",
       "      <td>0</td>\n",
       "      <td>0</td>\n",
       "      <td>3</td>\n",
       "    </tr>\n",
       "    <tr>\n",
       "      <th>823</th>\n",
       "      <td>797.0</td>\n",
       "      <td>6</td>\n",
       "      <td>40_39_31</td>\n",
       "      <td>9.0</td>\n",
       "      <td>0.333333</td>\n",
       "      <td>0.666667</td>\n",
       "      <td>4.0</td>\n",
       "      <td>13.0</td>\n",
       "      <td>3.0</td>\n",
       "      <td>510.0</td>\n",
       "      <td>...</td>\n",
       "      <td>2.0</td>\n",
       "      <td>2.0</td>\n",
       "      <td>2.0</td>\n",
       "      <td>1</td>\n",
       "      <td>0</td>\n",
       "      <td>0</td>\n",
       "      <td>0</td>\n",
       "      <td>0</td>\n",
       "      <td>0</td>\n",
       "      <td>4</td>\n",
       "    </tr>\n",
       "    <tr>\n",
       "      <th>824</th>\n",
       "      <td>798.0</td>\n",
       "      <td>6</td>\n",
       "      <td>40_39_31</td>\n",
       "      <td>7.0</td>\n",
       "      <td>0.571429</td>\n",
       "      <td>0.428571</td>\n",
       "      <td>1.0</td>\n",
       "      <td>9.0</td>\n",
       "      <td>3.0</td>\n",
       "      <td>NaN</td>\n",
       "      <td>...</td>\n",
       "      <td>1.0</td>\n",
       "      <td>1.0</td>\n",
       "      <td>2.0</td>\n",
       "      <td>0</td>\n",
       "      <td>0</td>\n",
       "      <td>0</td>\n",
       "      <td>0</td>\n",
       "      <td>0</td>\n",
       "      <td>0</td>\n",
       "      <td>2</td>\n",
       "    </tr>\n",
       "    <tr>\n",
       "      <th>825</th>\n",
       "      <td>799.0</td>\n",
       "      <td>6</td>\n",
       "      <td>40_39_31</td>\n",
       "      <td>9.0</td>\n",
       "      <td>0.555556</td>\n",
       "      <td>0.444444</td>\n",
       "      <td>4.0</td>\n",
       "      <td>17.0</td>\n",
       "      <td>3.0</td>\n",
       "      <td>NaN</td>\n",
       "      <td>...</td>\n",
       "      <td>1.0</td>\n",
       "      <td>1.0</td>\n",
       "      <td>2.0</td>\n",
       "      <td>0</td>\n",
       "      <td>0</td>\n",
       "      <td>0</td>\n",
       "      <td>0</td>\n",
       "      <td>0</td>\n",
       "      <td>0</td>\n",
       "      <td>3</td>\n",
       "    </tr>\n",
       "    <tr>\n",
       "      <th>826</th>\n",
       "      <td>800.0</td>\n",
       "      <td>6</td>\n",
       "      <td>40_39_31</td>\n",
       "      <td>4.0</td>\n",
       "      <td>0.750000</td>\n",
       "      <td>0.250000</td>\n",
       "      <td>2.0</td>\n",
       "      <td>5.0</td>\n",
       "      <td>3.0</td>\n",
       "      <td>NaN</td>\n",
       "      <td>...</td>\n",
       "      <td>1.0</td>\n",
       "      <td>1.0</td>\n",
       "      <td>2.0</td>\n",
       "      <td>0</td>\n",
       "      <td>0</td>\n",
       "      <td>0</td>\n",
       "      <td>0</td>\n",
       "      <td>0</td>\n",
       "      <td>0</td>\n",
       "      <td>3</td>\n",
       "    </tr>\n",
       "  </tbody>\n",
       "</table>\n",
       "<p>827 rows × 443 columns</p>\n",
       "</div>"
      ],
      "text/plain": [
       "      hhid  ezcode community_code  household_size  ratio_male  ratio_female  \\\n",
       "0      1.0       7          1_1_1             9.0    0.555556      0.444444   \n",
       "1      2.0       7          1_1_1             6.0    0.500000      0.500000   \n",
       "2      3.0       7          1_1_1             4.0    0.750000      0.250000   \n",
       "3      4.0       7          1_1_1             6.0    0.333333      0.666667   \n",
       "4      5.0       7          1_1_1             7.0    0.428571      0.571429   \n",
       "..     ...     ...            ...             ...         ...           ...   \n",
       "822  796.0       6       40_39_31            10.0    0.400000      0.600000   \n",
       "823  797.0       6       40_39_31             9.0    0.333333      0.666667   \n",
       "824  798.0       6       40_39_31             7.0    0.571429      0.428571   \n",
       "825  799.0       6       40_39_31             9.0    0.555556      0.444444   \n",
       "826  800.0       6       40_39_31             4.0    0.750000      0.250000   \n",
       "\n",
       "     num_children  highest_education  highest_literacy  \\\n",
       "0             3.0               20.0               3.0   \n",
       "1             1.0                8.0               3.0   \n",
       "2             2.0               18.0               3.0   \n",
       "3             1.0                8.0               3.0   \n",
       "4             1.0               15.0               3.0   \n",
       "..            ...                ...               ...   \n",
       "822           2.0               12.0               3.0   \n",
       "823           4.0               13.0               3.0   \n",
       "824           1.0                9.0               3.0   \n",
       "825           4.0               17.0               3.0   \n",
       "826           2.0                5.0               3.0   \n",
       "\n",
       "     total_land_value_per_month  ...  s_07_2  s_08_2  s_09_2  job_wage_labor  \\\n",
       "0                          50.0  ...     1.0     1.0     2.0               0   \n",
       "1                         500.0  ...     1.0     1.0     3.0               1   \n",
       "2                           NaN  ...     2.0     1.0     3.0               0   \n",
       "3                         384.0  ...     1.0     1.0     3.0               0   \n",
       "4                           NaN  ...     1.0     1.0     3.0               0   \n",
       "..                          ...  ...     ...     ...     ...             ...   \n",
       "822                         NaN  ...     1.0     1.0     3.0               0   \n",
       "823                       510.0  ...     2.0     2.0     2.0               1   \n",
       "824                         NaN  ...     1.0     1.0     2.0               0   \n",
       "825                         NaN  ...     1.0     1.0     2.0               0   \n",
       "826                         NaN  ...     1.0     1.0     2.0               0   \n",
       "\n",
       "     job_salaried_worker  job_self_employment  job_trader  job_production  \\\n",
       "0                      1                    1           0               0   \n",
       "1                      0                    0           0               0   \n",
       "2                      0                    1           0               0   \n",
       "3                      0                    0           0               0   \n",
       "4                      0                    1           0               0   \n",
       "..                   ...                  ...         ...             ...   \n",
       "822                    0                    1           0               0   \n",
       "823                    0                    0           0               0   \n",
       "824                    0                    0           0               0   \n",
       "825                    0                    0           0               0   \n",
       "826                    0                    0           0               0   \n",
       "\n",
       "     job_livestock_poultry_service  job_farming  \n",
       "0                                0            3  \n",
       "1                                0            3  \n",
       "2                                0            3  \n",
       "3                                0            4  \n",
       "4                                0            2  \n",
       "..                             ...          ...  \n",
       "822                              0            3  \n",
       "823                              0            4  \n",
       "824                              0            2  \n",
       "825                              0            3  \n",
       "826                              0            3  \n",
       "\n",
       "[827 rows x 443 columns]"
      ]
     },
     "execution_count": 113,
     "metadata": {},
     "output_type": "execute_result"
    }
   ],
   "source": [
    "df.to_csv(DATA_DIR + DATA_SUBDIR + \"combined.csv\")\n",
    "df"
   ]
  },
  {
   "cell_type": "code",
   "execution_count": 104,
   "id": "6d7c1ba6",
   "metadata": {},
   "outputs": [
    {
     "data": {
      "image/png": "[encoded data removed]",
      "text/plain": [
       "<Figure size 600x500 with 1 Axes>"
      ]
     },
     "metadata": {},
     "output_type": "display_data"
    }
   ],
   "source": [
    "col_nan_counts = {}\n",
    "L = len(df)\n",
    "for col in df.columns:\n",
    "    col_nan_counts[col] = (df[col].isna().sum()) / L\n",
    "\n",
    "plt.hist(col_nan_counts.values(), color=\"dodgerblue\", edgecolor=\"k\", bins=30)\n",
    "plt.xlabel(\"Proportion of missing values per feature\")\n",
    "plt.ylabel(\"Frequency\")\n",
    "plt.show()"
   ]
  },
  {
   "cell_type": "code",
   "execution_count": 150,
   "id": "4c3ff9c9",
   "metadata": {
    "scrolled": false
   },
   "outputs": [
    {
     "data": {
      "image/png": "[encoded data removed]",
      "text/plain": [
       "<Figure size 600x500 with 1 Axes>"
      ]
     },
     "metadata": {},
     "output_type": "display_data"
    }
   ],
   "source": [
    "row_nan_counts = {}\n",
    "num_cols = len(df.columns)\n",
    "for i in range(len(df)):\n",
    "    row = df.loc[[i]]\n",
    "    hhid = list(row[\"hhid\"])[0]\n",
    "    row_nan_counts[hhid] = (row.isna().sum().sum()) / num_cols\n",
    "\n",
    "plt.hist(row_nan_counts.values(), color=\"dodgerblue\", edgecolor=\"k\", bins=30)\n",
    "plt.xticks(np.linspace(0.2, 1.0, 9))\n",
    "plt.xlabel(\"Proportion of missing features per household\")\n",
    "plt.ylabel(\"Frequency\")\n",
    "plt.show()"
   ]
  },
  {
   "cell_type": "markdown",
   "id": "497415bf",
   "metadata": {},
   "source": [
    "# Mutual Information Regression"
   ]
  },
  {
   "cell_type": "code",
   "execution_count": 219,
   "id": "0032688b",
   "metadata": {},
   "outputs": [],
   "source": [
    "# compute number of changes implemented by each household\n",
    "num_changes = {hhid:0 for hhid in UNIQUE_HHID}\n",
    "for DF in ADAPTATION_DFS:\n",
    "    for hhid in UNIQUE_HHID:\n",
    "        hh = DF.loc[DF.hhid==hhid]\n",
    "        if len(hh):\n",
    "            ignore_hhid_col = hh.loc[:, ~hh.columns.isin(['hhid'])]\n",
    "            num_changes[hhid] += sum(np.array(ignore_hhid_col.iloc[0]==1))"
   ]
  },
  {
   "cell_type": "markdown",
   "id": "ce876a10",
   "metadata": {},
   "source": [
    "### With NaN filling"
   ]
  },
  {
   "cell_type": "code",
   "execution_count": 220,
   "id": "f7357852",
   "metadata": {},
   "outputs": [
    {
     "data": {
      "image/png": "[encoded data removed]",
      "text/plain": [
       "<Figure size 600x500 with 1 Axes>"
      ]
     },
     "metadata": {},
     "output_type": "display_data"
    }
   ],
   "source": [
    "adaptation_target = np.array(list(num_changes.values()))\n",
    "features = column_selection(df, remove=[\"hhid\", \"community_code\"]).fillna(-1) # replace nan with -1\n",
    "mutual_information_scores = mutual_info_regression(features, adaptation_target, \n",
    "                                                   discrete_features=\"auto\") # TODO: pass array for discreteness\n",
    "\n",
    "plt.hist(mutual_information_scores, color=\"dodgerblue\", edgecolor=\"k\", bins=30)\n",
    "plt.show()"
   ]
  },
  {
   "cell_type": "code",
   "execution_count": 221,
   "id": "6af9d856",
   "metadata": {},
   "outputs": [
    {
     "data": {
      "text/plain": [
       "[('constraints_0_measure', 0.39234847596922817),\n",
       " ('constraints_1_measure', 0.36853737343821225),\n",
       " ('constraints_0_constraint', 0.32058561860297896),\n",
       " ('constraints_1_constraint', 0.3080571952654303),\n",
       " ('constraints_2_measure', 0.29782633720301943),\n",
       " ('constraints_3_measure', 0.266331288285262),\n",
       " ('constraints_3_constraint', 0.2454091388110271),\n",
       " ('constraints_2_constraint', 0.24355883612697804),\n",
       " ('m01', 0.14373220437827605),\n",
       " ('constraints_4_measure', 0.13864792807058102),\n",
       " ('m07', 0.12579682932278358),\n",
       " ('constraints_4_constraint', 0.11925723627805018),\n",
       " ('r2_23_1_1', 0.11870037413922807),\n",
       " ('r7_05_1', 0.1152410933523993),\n",
       " ('r2_19_1_1', 0.11374209780287314),\n",
       " ('r2_20_1_1', 0.11229289643311446),\n",
       " ('q01_1', 0.11203428443851493),\n",
       " ('job_farming', 0.11201958095322428),\n",
       " ('r2_22_1_1', 0.1078409918755221),\n",
       " ('ezcode', 0.10745105886660422),\n",
       " ('q07_1', 0.10677899517784839),\n",
       " ('r2_16_1', 0.10535984949667032),\n",
       " ('q04', 0.10221914999656478),\n",
       " ('k07', 0.1016104616127147),\n",
       " ('q03', 0.10136659340829768),\n",
       " ('mean_land_acquisition_year', 0.10136057198825288),\n",
       " ('r2_18_1_1', 0.09941796152848026),\n",
       " ('m09', 0.09903079984237406),\n",
       " ('r2_21_1_1', 0.09801918372418905),\n",
       " ('value_food_other', 0.09793116316884198),\n",
       " ('r6_08_1', 0.09728419687182477),\n",
       " ('livestock_medication_value', 0.09723996075694208),\n",
       " ('q02', 0.0971109188542636),\n",
       " ('r2_17_1_1', 0.0966616913381011),\n",
       " ('s_04_1', 0.09617813555220245),\n",
       " ('k02', 0.09595754545601975),\n",
       " ('m06_1', 0.09590985364696891),\n",
       " ('livestock_fodder_value', 0.09570807377423529),\n",
       " ('r7_03_1', 0.09507834684419247),\n",
       " ('r2_15_1', 0.09424004329924651),\n",
       " ('s_02_1', 0.09361150854068434),\n",
       " ('value_food_vegetables', 0.09355947838368817),\n",
       " ('s_06_6_1', 0.09281441993122552),\n",
       " ('m10', 0.09237931999212634),\n",
       " ('value_food_edible_oil', 0.09144265424137643),\n",
       " ('k01', 0.09096777282106272),\n",
       " ('r9_02_1', 0.09041278995235258),\n",
       " ('value_agricultural_equipments', 0.09018785727208822),\n",
       " ('s_06_2_1', 0.08989311553921064),\n",
       " ('j02_1_personal_items_expenses', 0.08976580347987362),\n",
       " ('min_land_acquisition_year', 0.08936483028009778),\n",
       " ('r8_06_1', 0.08889750337939306),\n",
       " ('s_08_1', 0.08878698430828447),\n",
       " ('r6_06_1', 0.08786060616995117),\n",
       " ('soil_type', 0.08477794468187616),\n",
       " ('k04', 0.08419315462619892),\n",
       " ('m05', 0.08399712933020309),\n",
       " ('highest_literacy', 0.08294531183765352),\n",
       " ('s_03_1', 0.08192835873252191),\n",
       " ('household_size', 0.08130711522442002),\n",
       " ('r4_04_1_4', 0.08107603996581147),\n",
       " ('m08_1', 0.07980263558848089),\n",
       " ('land_operational_status', 0.07970727939411404),\n",
       " ('r7_02_1', 0.07952745584097975),\n",
       " ('value_now', 0.07898886422830209),\n",
       " ('s_07_2', 0.07796475338785491),\n",
       " ('count_2011', 0.07785520955553782),\n",
       " ('r8_14_2', 0.07715628700713895),\n",
       " ('r4_04_1_7', 0.07700037657837555),\n",
       " ('highest_education', 0.07646218982825914),\n",
       " ('q05_2', 0.07620875779532987),\n",
       " ('plot_type', 0.07587946308026527),\n",
       " ('count_now', 0.07551621573292255),\n",
       " ('r4_04_1_6', 0.07528177275221326),\n",
       " ('r7_07_2_1', 0.07497627130699192),\n",
       " ('group_1_membership', 0.07470593783036517),\n",
       " ('k06', 0.0746212562264783),\n",
       " ('value_livestock_poultry', 0.07458597395631816),\n",
       " ('k10', 0.07362814551430796),\n",
       " ('s_09_1', 0.07359446812406345),\n",
       " ('land_acquisition_means', 0.07349011403654204),\n",
       " ('constraints_5_measure', 0.07285316476095671),\n",
       " ('r3_04_1', 0.07276909311006552),\n",
       " ('r8_02_1', 0.07265867904333456),\n",
       " ('s_07_1', 0.07248337988108178),\n",
       " ('r3_07_1', 0.07191053889801591),\n",
       " ('m02_1', 0.07161982483788876),\n",
       " ('q06', 0.0713982330718439),\n",
       " ('k05_1', 0.07119075983721146),\n",
       " ('m06_2', 0.07087164008351587),\n",
       " ('r4_02_1', 0.07031377393265004),\n",
       " ('max_land_acquisition_year', 0.07009453316147951),\n",
       " ('r2_23_2_1', 0.06991701878169554),\n",
       " ('r8_06_2', 0.06984349631313336),\n",
       " ('m11_1', 0.06950121957512145),\n",
       " ('q01_2', 0.0690734113297431),\n",
       " ('value_consumable_durables', 0.0687726102451478),\n",
       " ('j02_1_utilities_taxes_fees', 0.06854021559412882),\n",
       " ('r4_04_1_3', 0.06812320698816743),\n",
       " ('r6_08_2', 0.06791493297066165),\n",
       " ('r6_02_1', 0.06725287947587644),\n",
       " ('r8_02_2', 0.06702305225683558),\n",
       " ('r9_09_1', 0.06666220649722954),\n",
       " ('r7_10_1', 0.06588727111507087),\n",
       " ('r3_07_2', 0.06573971709783777),\n",
       " ('k03', 0.06557431856173457),\n",
       " ('r6_02_2', 0.06443581977522106),\n",
       " ('s_06_1_1', 0.06443439029147502),\n",
       " ('r3_04_2', 0.06442385414422569),\n",
       " ('r4_04_2_4', 0.06391000605885289),\n",
       " ('s_06_3_1', 0.0638764820987201),\n",
       " ('j02_2_clothing_expenses', 0.06347518720382439),\n",
       " ('r4_04_2_2', 0.0632200688540645),\n",
       " ('q07_2', 0.06263379955313875),\n",
       " ('r4_04_2_9', 0.06183126063583977),\n",
       " ('r4_04_1_8', 0.061696627624197475),\n",
       " ('r4_03_2', 0.06162749507114773),\n",
       " ('r6_07_1', 0.061558567799456565),\n",
       " ('r7_04_1', 0.06116924572395632),\n",
       " ('r4_04_1_2', 0.061045936895396835),\n",
       " ('j02_2_utilities_taxes_fees', 0.06062645515428944),\n",
       " ('r3_06_1', 0.060432535766994366),\n",
       " ('value_food_spices', 0.05984151067321086),\n",
       " ('r7_09_1', 0.05953875118435992),\n",
       " ('r7_06_1_1', 0.05946215616532857),\n",
       " ('s_03_2', 0.059281551867351734),\n",
       " ('r3_02_1', 0.059252244961099265),\n",
       " ('k05', 0.05860578998343158),\n",
       " ('m04_1', 0.058455161174605585),\n",
       " ('r7_08_1', 0.05817980699925718),\n",
       " ('r4_04_1_9', 0.057358520990330675),\n",
       " ('m03', 0.057285210561233146),\n",
       " ('s_06_4_2', 0.0569273867169664),\n",
       " ('value_2011', 0.05635768381042894),\n",
       " ('r3_03_2', 0.05569970126681101),\n",
       " ('r4_02_2', 0.05567572536533083),\n",
       " ('j03_1_fuel_expenses', 0.05513779750780845),\n",
       " ('m08_2', 0.05502764784532621),\n",
       " ('r7_11_1_1', 0.05448825909656474),\n",
       " ('constraints_5_constraint', 0.05444258886222286),\n",
       " ('s_09_2', 0.053831182167062064),\n",
       " ('r2_15_2', 0.05336655238646637),\n",
       " ('j02_1_miscellaneous_expenses', 0.0533051096777406),\n",
       " ('j02_2_furniture_household_expenses', 0.053274674897890506),\n",
       " ('constraints_6_measure', 0.05321994630673377),\n",
       " ('r4_05_1', 0.05310312158363484),\n",
       " ('r4_04_2_8', 0.05278295321329329),\n",
       " ('value_food_cereals', 0.052774981632532025),\n",
       " ('r9_02_2', 0.05241772611391404),\n",
       " ('value_food_other_outside_home', 0.05216615663739521),\n",
       " ('r3_05_1', 0.05201363479025023),\n",
       " ('r3_02_2', 0.05192110847218334),\n",
       " ('constraints_7_measure', 0.05170623055339396),\n",
       " ('r4_04_2_6', 0.05130609595359026),\n",
       " ('r4_04_2_3', 0.049414164694705054),\n",
       " ('r8_14_1', 0.04931092402970849),\n",
       " ('weight_food_fish_large', 0.04919853895478754),\n",
       " ('r6_07_2', 0.049169100392534304),\n",
       " ('r6_03_1_1', 0.04882684455083153),\n",
       " ('q05_1', 0.04859012204697288),\n",
       " ('s_06_4_1', 0.04853867196624417),\n",
       " ('j02_1_fuel_expenses', 0.04822271757667451),\n",
       " ('weight_food_meat_eggs_milk', 0.04668210394069838),\n",
       " ('weather_events_damage', 0.04646695357046804),\n",
       " ('s_06_5_2', 0.04545852075472112),\n",
       " ('r6_04_1_1', 0.04543473248297136),\n",
       " ('m02_2', 0.04540328922940384),\n",
       " ('r7_11_1_2', 0.04537373076290141),\n",
       " ('r7_07_1_1', 0.04495042801430893),\n",
       " ('s_02_2', 0.04486737172606192),\n",
       " ('r4_03_1', 0.044610424834298446),\n",
       " ('r2_17_2_1', 0.04449375306654302),\n",
       " ('r7_03_2', 0.044422990349603175),\n",
       " ('r2_19_2_1', 0.044052689352414465),\n",
       " ('j03_1_rent_expenses', 0.043866831819311614),\n",
       " ('s_06_1_2', 0.04364167656639628),\n",
       " ('r7_06_2_1', 0.04360232054254398),\n",
       " ('r4_05_2', 0.04311221272699095),\n",
       " ('r2_18_2_1', 0.04304783548172697),\n",
       " ('r3_06_2', 0.04282488291625297),\n",
       " ('r9_09_2', 0.042253481947846616),\n",
       " ('num_children', 0.0420605551819766),\n",
       " ('s_06_3_2', 0.04170906753855741),\n",
       " ('r4_04_1_1', 0.041571557517597224),\n",
       " ('weight_food_drinks', 0.04130596852204382),\n",
       " ('m06_3', 0.0412485476324278),\n",
       " ('r4_04_1_5', 0.041165769488612725),\n",
       " ('weight_food_fruits', 0.04109818055685199),\n",
       " ('k03_1', 0.0409562309086704),\n",
       " ('constraints_7_constraint', 0.040104475840291975),\n",
       " ('constraints_8_measure', 0.03937046313113468),\n",
       " ('r7_07_1_2', 0.03916091723797921),\n",
       " ('r6_06_2', 0.03803525222581383),\n",
       " ('r7_10_2', 0.03733004557226893),\n",
       " ('r3_03_1', 0.036975905481462235),\n",
       " ('r2_21_2_1', 0.036433623506957336),\n",
       " ('r7_02_2', 0.03641964713228507),\n",
       " ('s_04_2', 0.0362146691060925),\n",
       " ('value_food_leafy_vegetables', 0.036064536668720226),\n",
       " ('r4_04_2_1', 0.035223545379061694),\n",
       " ('r2_21_3_1', 0.03486691666039299),\n",
       " ('r2_22_2_1', 0.03420144795934954),\n",
       " ('r6_05_1', 0.03393538454193035),\n",
       " ('total_selling_value', 0.03393071809377668),\n",
       " ('q07_3', 0.03330397727380063),\n",
       " ('value_food_pulses', 0.03328388454830833),\n",
       " ('s_06_2_2', 0.03300719895331872),\n",
       " ('r7_05_2', 0.03262000715290414),\n",
       " ('j03_1_health_expenses', 0.032396173623364444),\n",
       " ('r7_04_2', 0.03194320982991128),\n",
       " ('r4_04_2_7', 0.031784864162497595),\n",
       " ('s_06_6_2', 0.03135522399587698),\n",
       " ('constraints_6_constraint', 0.03127365532373938),\n",
       " ('r7_11_2_1', 0.03121649964155626),\n",
       " ('s_05_1', 0.03105529274446006),\n",
       " ('r7_06_1_3', 0.030451885652092336),\n",
       " ('s_08_2', 0.03021495555841014),\n",
       " ('group_9_membership', 0.030005105253334552),\n",
       " ('r2_16_3', 0.02999258627346757),\n",
       " ('r7_09_2', 0.02967993892483234),\n",
       " ('calamity_3', 0.029396873134719392),\n",
       " ('s_06_5_1', 0.02858925659134126),\n",
       " ('r2_22_3_1', 0.028497167334074813),\n",
       " ('j02_1_health_expenses', 0.027400903739914106),\n",
       " ('calamity_7', 0.0272805133904912),\n",
       " ('r2_20_2_1', 0.027022172427770386),\n",
       " ('r2_16_2', 0.026766771136644607),\n",
       " ('serious_economic_setback', 0.026715156369407467),\n",
       " ('weight_food_other', 0.02660670541840604),\n",
       " ('j02_1_education_expenses', 0.026437048331794166),\n",
       " ('group_12_membership', 0.026253021325895354),\n",
       " ('j02_1_clothing_expenses', 0.025953969328577298),\n",
       " ('r7_06_1_2', 0.02562742634131343),\n",
       " ('r2_15_3', 0.02560473322780199),\n",
       " ('j02_2_family_events_expenses', 0.02558297729102943),\n",
       " ('r7_06_2_2', 0.024781211361603273),\n",
       " ('j03_2_entertainment_expenses', 0.024316477467705155),\n",
       " ('j02_1_local_transport_expenses', 0.023967002943226845),\n",
       " ('j02_1_rent_expenses', 0.023410006099703562),\n",
       " ('j02_1_wedding_costs_groom', 0.02313057691441056),\n",
       " ('j02_2_education_expenses', 0.022739509628741494),\n",
       " ('r7_08_2', 0.022662213255764563),\n",
       " ('j02_1_non_local_travel_expenses', 0.02226334557906995),\n",
       " ('j03_1_non_local_travel_expenses', 0.020963186585540416),\n",
       " ('credit_cash_repaid', 0.020884712132300365),\n",
       " ('value_food_meat_eggs_milk', 0.020700387585616653),\n",
       " ('j02_2_vehicle_expenses', 0.02014274072749389),\n",
       " ('constraints_8_constraint', 0.020115887791586573),\n",
       " ('group_2_membership', 0.019924389210003834),\n",
       " ('j03_1_education_expenses', 0.01986098297968475),\n",
       " ('ratio_female', 0.018938359580782382),\n",
       " ('r2_19_3_1', 0.018805791753202517),\n",
       " ('r6_04_2_3', 0.018685930615471857),\n",
       " ('r4_04_2_5', 0.018388919285180272),\n",
       " ('r6_05_2', 0.018022086023114614),\n",
       " ('ratio_male', 0.018006644637560854),\n",
       " ('r6_03_2_3', 0.017665930543052433),\n",
       " ('r3_05_2', 0.01720508619541583),\n",
       " ('value_other', 0.016951151190759628),\n",
       " ('r2_17_3_1', 0.016894897834229816),\n",
       " ('r2_18_3_1', 0.01687512032945282),\n",
       " ('r6_03_2_1', 0.01637303391856859),\n",
       " ('r6_03_1_3', 0.0160996772619888),\n",
       " ('r2_17_4_1', 0.015783775392467003),\n",
       " ('r7_11_2_2', 0.015706213677215253),\n",
       " ('group_14_membership', 0.015683635208526336),\n",
       " ('group_18_membership', 0.015351640748392459),\n",
       " ('weight_food_vegetables', 0.014515126985835458),\n",
       " ('positive_events_value', 0.013974245479625225),\n",
       " ('calamity_12', 0.013643801904077879),\n",
       " ('value_food_fruits', 0.013583597572116801),\n",
       " ('j03_1_communication_expenses', 0.013294873034334742),\n",
       " ('m04_4', 0.013237837170378075),\n",
       " ('r7_07_2_2', 0.013193509527987146),\n",
       " ('r2_20_3_1', 0.013148125466484473),\n",
       " ('r6_03_1_2', 0.013145899919350335),\n",
       " ('m08_3', 0.012617696875700801),\n",
       " ('constraints_10_constraint', 0.012450054847434444),\n",
       " ('shocks_loss_value', 0.01188635718240505),\n",
       " ('r7_11_2_3', 0.011829779019382869),\n",
       " ('r2_18_4_1', 0.011797639532519444),\n",
       " ('calamity_2', 0.011403984511666021),\n",
       " ('j02_2_non_local_travel_expenses', 0.011217110452384826),\n",
       " ('q05_3', 0.011100657048833007),\n",
       " ('weight_food_cereals', 0.0107754157644262),\n",
       " ('j03_2_education_expenses', 0.010695633815987371),\n",
       " ('r2_21_4_1', 0.010651510867169645),\n",
       " ('value_transport', 0.009722980339751608),\n",
       " ('group_3_membership', 0.009266420149764976),\n",
       " ('j02_1_entertainment_expenses', 0.009210019057653618),\n",
       " ('j02_2_miscellaneous_expenses', 0.00854885073387912),\n",
       " ('m04_2', 0.00788862182294725),\n",
       " ('calamity_4', 0.007605881319704189),\n",
       " ('r6_04_2_1', 0.006951836392468103),\n",
       " ('group_7_membership', 0.006865664680804517),\n",
       " ('r7_11_1_3', 0.006861660586325868),\n",
       " ('weight_food_pulses', 0.006596816431913677),\n",
       " ('j03_2_local_transport_expenses', 0.00618383979896775),\n",
       " ('j03_2_furniture_household_expenses', 0.006180023680623314),\n",
       " ('group_16_membership', 0.005873561240897551),\n",
       " ('m02_3', 0.005816171786066082),\n",
       " ('credit_value_borrowed', 0.00578395573440682),\n",
       " ('j03_2_clothing_expenses', 0.005685385380097774),\n",
       " ('r7_07_2_3', 0.00560591227431706),\n",
       " ('group_4_membership', 0.005522318969787499),\n",
       " ('job_wage_labor', 0.0054815808315629155),\n",
       " ('j03_1_miscellaneous_expenses', 0.0052968952864973495),\n",
       " ('weight_food_spices', 0.004696984088940148),\n",
       " ('r2_23_3_1', 0.0046789077825812875),\n",
       " ('calamity_10', 0.0045044630419743825),\n",
       " ('j02_2_wedding_costs_bride', 0.004276707486190912),\n",
       " ('j03_1_entertainment_expenses', 0.004265822804096153),\n",
       " ('j03_1_utilities_taxes_fees', 0.004185337435138603),\n",
       " ('credit_cash_borrowed', 0.004179913414610326),\n",
       " ('j02_1_vehicle_expenses', 0.003452382976559143),\n",
       " ('value_food_drinks', 0.003197603471166932),\n",
       " ('j03_1_wedding_costs_groom', 0.0031840257733399824),\n",
       " ('job_salaried_worker', 0.0030823086746147865),\n",
       " ('m11_3', 0.0029785656554435214),\n",
       " ('m11_5', 0.0028022137746961384),\n",
       " ('m11_2', 0.0027867408996145038),\n",
       " ('m04_3', 0.002660304911330069),\n",
       " ('j02_2_wedding_costs_groom', 0.0022654320941000172),\n",
       " ('m06_5', 0.002145782308377253),\n",
       " ('r7_07_1_3', 0.002089527189831575),\n",
       " ('j03_2_vehicle_expenses', 0.002064435840138046),\n",
       " ('r2_15_4', 0.0012398299861686723),\n",
       " ('j03_1_family_events_expenses', 0.0011933565376596178),\n",
       " ('value_food_fish_small', 0.0010351572852802526),\n",
       " ('j03_1_wedding_costs_bride', 0.0008821791984976457),\n",
       " ('calamity_1', 0.0008815158964488035),\n",
       " ('j03_1_clothing_expenses', 0.0007538778480555841),\n",
       " ('value_food_fish_large', 0.0005086513682712734),\n",
       " ('total_land_value_per_month', 0.0),\n",
       " ('livestock_hired_male_labor', 0.0),\n",
       " ('credit_value_repaid', 0.0),\n",
       " ('sale_of_assets_value', 0.0),\n",
       " ('weight_food_edible_oil', 0.0),\n",
       " ('weight_food_leafy_vegetables', 0.0),\n",
       " ('weight_food_fish_small', 0.0),\n",
       " ('weight_food_other_outside_home', 0.0),\n",
       " ('j02_2_rent_expenses', 0.0),\n",
       " ('j03_2_rent_expenses', 0.0),\n",
       " ('j02_2_fuel_expenses', 0.0),\n",
       " ('j03_2_fuel_expenses', 0.0),\n",
       " ('j02_2_local_transport_expenses', 0.0),\n",
       " ('j03_1_local_transport_expenses', 0.0),\n",
       " ('j03_2_miscellaneous_expenses', 0.0),\n",
       " ('j02_2_health_expenses', 0.0),\n",
       " ('j03_2_health_expenses', 0.0),\n",
       " ('j02_1_communication_expenses', 0.0),\n",
       " ('j02_2_communication_expenses', 0.0),\n",
       " ('j03_2_communication_expenses', 0.0),\n",
       " ('j02_2_personal_items_expenses', 0.0),\n",
       " ('j03_1_personal_items_expenses', 0.0),\n",
       " ('j03_2_personal_items_expenses', 0.0),\n",
       " ('j02_2_entertainment_expenses', 0.0),\n",
       " ('j03_2_non_local_travel_expenses', 0.0),\n",
       " ('j02_1_furniture_household_expenses', 0.0),\n",
       " ('j03_1_furniture_household_expenses', 0.0),\n",
       " ('j03_2_utilities_taxes_fees', 0.0),\n",
       " ('j02_1_family_events_expenses', 0.0),\n",
       " ('j03_2_family_events_expenses', 0.0),\n",
       " ('j02_1_wedding_costs_bride', 0.0),\n",
       " ('j03_2_wedding_costs_bride', 0.0),\n",
       " ('j03_2_wedding_costs_groom', 0.0),\n",
       " ('j03_1_vehicle_expenses', 0.0),\n",
       " ('calamity_5', 0.0),\n",
       " ('calamity_6', 0.0),\n",
       " ('calamity_8', 0.0),\n",
       " ('calamity_9', 0.0),\n",
       " ('calamity_11', 0.0),\n",
       " ('m02_4', 0.0),\n",
       " ('m06_4', 0.0),\n",
       " ('m08_4', 0.0),\n",
       " ('m11_4', 0.0),\n",
       " ('m11_6', 0.0),\n",
       " ('q01_3', 0.0),\n",
       " ('constraints_9_measure', 0.0),\n",
       " ('constraints_9_constraint', 0.0),\n",
       " ('constraints_10_measure', 0.0),\n",
       " ('group_5_membership', 0.0),\n",
       " ('group_6_membership', 0.0),\n",
       " ('group_8_membership', 0.0),\n",
       " ('group_10_membership', 0.0),\n",
       " ('group_11_membership', 0.0),\n",
       " ('group_13_membership', 0.0),\n",
       " ('group_15_membership', 0.0),\n",
       " ('group_17_membership', 0.0),\n",
       " ('r2_16_4', 0.0),\n",
       " ('r2_19_4_1', 0.0),\n",
       " ('r2_20_4_1', 0.0),\n",
       " ('r2_22_4_1', 0.0),\n",
       " ('r2_23_4_1', 0.0),\n",
       " ('r6_04_1_2', 0.0),\n",
       " ('r6_04_1_3', 0.0),\n",
       " ('r6_03_2_2', 0.0),\n",
       " ('r6_04_2_2', 0.0),\n",
       " ('r7_06_2_3', 0.0),\n",
       " ('s_05_2', 0.0),\n",
       " ('job_self_employment', 0.0),\n",
       " ('job_trader', 0.0),\n",
       " ('job_production', 0.0),\n",
       " ('job_livestock_poultry_service', 0.0)]"
      ]
     },
     "execution_count": 221,
     "metadata": {},
     "output_type": "execute_result"
    }
   ],
   "source": [
    "feature_cols = list(features.columns)\n",
    "d = {feature_cols[i]:mutual_information_scores[i] for i in range(len(feature_cols))}\n",
    "\n",
    "ordered = sorted([(k,v) for (k,v) in d.items()], key = lambda x: d[x[0]], reverse=True)\n",
    "ordered_no_target = [item for item in ordered if item[0][0] != \"o\"]\n",
    "ordered_no_target"
   ]
  },
  {
   "cell_type": "markdown",
   "id": "27b3c184",
   "metadata": {},
   "source": [
    "### Without NaN filling"
   ]
  },
  {
   "cell_type": "code",
   "execution_count": 251,
   "id": "28b9d014",
   "metadata": {
    "scrolled": false
   },
   "outputs": [
    {
     "data": {
      "image/png": "[encoded data removed]",
      "text/plain": [
       "<Figure size 600x500 with 1 Axes>"
      ]
     },
     "metadata": {},
     "output_type": "display_data"
    }
   ],
   "source": [
    "mi_scores = {}\n",
    "for col in df.columns:\n",
    "    if col not in [\"hhid\", \"community_code\"]:\n",
    "        non_nan_rows = df.loc[~df[col].isna()]\n",
    "        if len(non_nan_rows) < 5:\n",
    "            continue\n",
    "        indices = np.array(non_nan_rows.index)\n",
    "        targets = adaptation_target[indices]\n",
    "        mi_scores[col] = mutual_info_regression(np.array(list(non_nan_rows[col])).reshape(-1,1), targets)[0]\n",
    "        \n",
    "plt.hist(mi_scores.values(), color=\"dodgerblue\", edgecolor=\"k\", bins=30)\n",
    "plt.show()"
   ]
  },
  {
   "cell_type": "code",
   "execution_count": 252,
   "id": "b24ec3a0",
   "metadata": {},
   "outputs": [
    {
     "data": {
      "text/plain": [
       "[('constraints_0_measure', 0.3227410581457395),\n",
       " ('j03_2_miscellaneous_expenses', 0.26760704895379805),\n",
       " ('r6_04_2_2', 0.25503878319387185),\n",
       " ('j02_1_vehicle_expenses', 0.21901586068252743),\n",
       " ('r6_03_1_3', 0.161238297063393),\n",
       " ('constraints_1_measure', 0.15756197334061683),\n",
       " ('constraints_6_constraint', 0.1426777786159914),\n",
       " ('constraints_5_measure', 0.1402324670511681),\n",
       " ('r7_06_2_3', 0.1346352794665875),\n",
       " ('constraints_2_measure', 0.13439313565208755),\n",
       " ('j03_2_family_events_expenses', 0.13055555555555576),\n",
       " ('r7_11_1_2', 0.12997153997761135),\n",
       " ('r6_04_2_1', 0.119134908690123),\n",
       " ('r6_03_1_2', 0.11566389117930065),\n",
       " ('r7_07_2_3', 0.11360038236625414),\n",
       " ('constraints_6_measure', 0.10988919824367871),\n",
       " ('constraints_3_measure', 0.10597062277959735),\n",
       " ('m02_2', 0.09648391651305177),\n",
       " ('q01_2', 0.09403777248097578),\n",
       " ('weight_food_drinks', 0.08653058078690234),\n",
       " ('weight_food_fish_large', 0.08570147348820356),\n",
       " ('j03_1_personal_items_expenses', 0.08222865125300771),\n",
       " ('r2_23_4_1', 0.07812032045606632),\n",
       " ('q06', 0.07761071745788639),\n",
       " ('m08_4', 0.07573051948052045),\n",
       " ('j02_2_wedding_costs_bride', 0.07520141495997867),\n",
       " ('m06_3', 0.07450337358929993),\n",
       " ('r2_18_2_1', 0.0732981632148233),\n",
       " ('livestock_medication_value', 0.07289133765459521),\n",
       " ('r7_06_2_2', 0.07100418253304364),\n",
       " ('value_food_other', 0.06987200519282144),\n",
       " ('r2_20_2_1', 0.06972069217750843),\n",
       " ('j03_1_fuel_expenses', 0.06951936084412003),\n",
       " ('m08_3', 0.06847908892458143),\n",
       " ('q04', 0.06810545008918112),\n",
       " ('r2_19_1_1', 0.06627983863807918),\n",
       " ('livestock_fodder_value', 0.06597892365214619),\n",
       " ('r7_06_1_3', 0.0653533951595131),\n",
       " ('r2_20_4_1', 0.06534973091432872),\n",
       " ('m06_1', 0.06357318707193249),\n",
       " ('constraints_3_constraint', 0.06254856690445676),\n",
       " ('mean_land_acquisition_year', 0.06138310028102101),\n",
       " ('value_food_fish_small', 0.05999373195461155),\n",
       " ('r8_14_1', 0.05996341141777606),\n",
       " ('weight_food_other', 0.05877995469384967),\n",
       " ('q05_3', 0.05782084286944578),\n",
       " ('ezcode', 0.056411628457851304),\n",
       " ('calamity_11', 0.05489660408391006),\n",
       " ('r9_09_1', 0.05458656629628145),\n",
       " ('r7_03_1', 0.05349068240213617),\n",
       " ('job_farming', 0.05310476969159428),\n",
       " ('value_food_leafy_vegetables', 0.05285439977735029),\n",
       " ('calamity_1', 0.05284424926152065),\n",
       " ('r8_06_1', 0.0522874752162692),\n",
       " ('r3_04_1', 0.051561762870971695),\n",
       " ('m10', 0.0484183311432167),\n",
       " ('r2_19_3_1', 0.04798259855243314),\n",
       " ('r6_03_2_1', 0.04792656701247333),\n",
       " ('highest_literacy', 0.04747932271815314),\n",
       " ('r2_20_3_1', 0.04721479357154301),\n",
       " ('constraints_2_constraint', 0.04672289931454365),\n",
       " ('r6_03_1_1', 0.0449451642821046),\n",
       " ('calamity_10', 0.04442501942501953),\n",
       " ('j03_1_education_expenses', 0.04339826839826899),\n",
       " ('q07_1', 0.041706073501368124),\n",
       " ('j03_1_health_expenses', 0.04166666666666652),\n",
       " ('r6_03_2_2', 0.041211946431761515),\n",
       " ('group_6_membership', 0.04072843429640627),\n",
       " ('k05_1', 0.04072196587609023),\n",
       " ('r2_21_3_1', 0.04034865083903805),\n",
       " ('value_food_other_outside_home', 0.03939841119166232),\n",
       " ('r7_06_1_1', 0.03875849976963819),\n",
       " ('m08_2', 0.038283335821564624),\n",
       " ('r3_07_1', 0.0382135943328521),\n",
       " ('credit_value_repaid', 0.038197579998140885),\n",
       " ('m04_1', 0.03790844344417588),\n",
       " ('r2_15_1', 0.03755369967218103),\n",
       " ('land_acquisition_means', 0.03722458729878397),\n",
       " ('r6_05_2', 0.036663292844049344),\n",
       " ('q03', 0.036056699362396305),\n",
       " ('r2_23_1_1', 0.03605017612573702),\n",
       " ('r2_15_3', 0.03590847293932553),\n",
       " ('j02_1_family_events_expenses', 0.03550021842310058),\n",
       " ('r6_02_1', 0.035198413776266424),\n",
       " ('value_agricultural_equipments', 0.03516861616599298),\n",
       " ('q01_1', 0.03477312709109359),\n",
       " ('r2_17_1_1', 0.034651833611698546),\n",
       " ('r2_22_3_1', 0.03434153400786677),\n",
       " ('r2_22_4_1', 0.034338866155153136),\n",
       " ('j02_1_personal_items_expenses', 0.0338059172930123),\n",
       " ('k01', 0.03373876620303129),\n",
       " ('j02_1_clothing_expenses', 0.033248513505662824),\n",
       " ('r6_08_1', 0.03227436882290968),\n",
       " ('k06', 0.032212324916923496),\n",
       " ('m11_2', 0.03149300611548256),\n",
       " ('weight_food_fruits', 0.0309511178760693),\n",
       " ('j02_1_furniture_household_expenses', 0.030686406897421303),\n",
       " ('r2_21_2_1', 0.030311253618649392),\n",
       " ('k04', 0.030306469997011476),\n",
       " ('s_06_6_2', 0.02955225806122419),\n",
       " ('serious_economic_setback', 0.029182249087027934),\n",
       " ('r2_21_1_1', 0.029152570265004396),\n",
       " ('m03', 0.027863507938652443),\n",
       " ('r6_08_2', 0.027021847078249284),\n",
       " ('r7_11_2_2', 0.026964455494444817),\n",
       " ('s_06_2_1', 0.025846050282884114),\n",
       " ('r6_04_1_1', 0.025751503641070705),\n",
       " ('j02_1_communication_expenses', 0.025646470425217505),\n",
       " ('r2_17_2_1', 0.025282399021516078),\n",
       " ('r8_14_2', 0.02513875192281745),\n",
       " ('m07', 0.024544300357918658),\n",
       " ('j02_2_clothing_expenses', 0.024527363396645185),\n",
       " ('credit_value_borrowed', 0.024448873400503945),\n",
       " ('r4_04_1_5', 0.02409009043183019),\n",
       " ('value_food_edible_oil', 0.02373043292495014),\n",
       " ('r4_04_1_8', 0.023002923186159485),\n",
       " ('value_food_fruits', 0.022765451055807073),\n",
       " ('q07_2', 0.022425762145207084),\n",
       " ('r2_18_3_1', 0.022385779335969858),\n",
       " ('j02_1_utilities_taxes_fees', 0.02182611834809034),\n",
       " ('q05_1', 0.02178214932333411),\n",
       " ('constraints_1_constraint', 0.021634267867942203),\n",
       " ('r3_03_1', 0.021625545587009132),\n",
       " ('s_07_2', 0.021393498494000962),\n",
       " ('r2_23_2_1', 0.02082284049029548),\n",
       " ('r4_03_2', 0.020619733236499904),\n",
       " ('credit_cash_repaid', 0.020091137386907487),\n",
       " ('s_06_3_1', 0.019753103255532256),\n",
       " ('s_07_1', 0.01966510919550135),\n",
       " ('r2_22_1_1', 0.019564315522002662),\n",
       " ('r6_02_2', 0.01856337166712052),\n",
       " ('k03', 0.018164192482403863),\n",
       " ('ratio_male', 0.01788171408718764),\n",
       " ('constraints_0_constraint', 0.01782186095851168),\n",
       " ('m01', 0.017782092925254567),\n",
       " ('s_06_1_1', 0.01776666386187742),\n",
       " ('group_1_membership', 0.01776595876991305),\n",
       " ('r7_10_2', 0.017315073633210165),\n",
       " ('r2_18_1_1', 0.01688164957989491),\n",
       " ('land_operational_status', 0.016859707028696214),\n",
       " ('value_livestock_poultry', 0.016758918895798836),\n",
       " ('r7_07_2_1', 0.01622220039338984),\n",
       " ('k10', 0.01617222106990912),\n",
       " ('j03_2_education_expenses', 0.01609687594449105),\n",
       " ('s_02_2', 0.015959232823197667),\n",
       " ('j03_2_furniture_household_expenses', 0.015613626847492235),\n",
       " ('soil_type', 0.015592452971407766),\n",
       " ('group_5_membership', 0.015384254288379529),\n",
       " ('value_2011', 0.015343063613128205),\n",
       " ('r7_07_2_2', 0.015311925728349163),\n",
       " ('r6_06_2', 0.01530636844618627),\n",
       " ('r8_02_1', 0.014643884818614783),\n",
       " ('value_consumable_durables', 0.01462854607900077),\n",
       " ('r3_02_1', 0.014570991548987777),\n",
       " ('group_9_membership', 0.014357848873477463),\n",
       " ('value_now', 0.013325710794029888),\n",
       " ('j02_2_family_events_expenses', 0.013090403406649909),\n",
       " ('r7_02_2', 0.013023519738706746),\n",
       " ('r9_02_2', 0.012916631564549697),\n",
       " ('min_land_acquisition_year', 0.012601380342580626),\n",
       " ('r7_02_1', 0.012512817609086735),\n",
       " ('s_09_2', 0.012086365114849507),\n",
       " ('r9_09_2', 0.011265213770371485),\n",
       " ('job_wage_labor', 0.010804785602749778),\n",
       " ('r2_17_4_1', 0.010737020517091134),\n",
       " ('q05_2', 0.0105367151421909),\n",
       " ('value_other', 0.010502677821898398),\n",
       " ('r7_04_2', 0.010346738172243075),\n",
       " ('r2_19_2_1', 0.009689945691226942),\n",
       " ('r3_05_1', 0.009566726322713937),\n",
       " ('r4_04_1_7', 0.009455964445866716),\n",
       " ('r4_03_1', 0.009081555672146635),\n",
       " ('r7_09_2', 0.008946657351133869),\n",
       " ('j02_2_miscellaneous_expenses', 0.008900052231678224),\n",
       " ('total_selling_value', 0.008772042072543229),\n",
       " ('count_now', 0.008658222288887796),\n",
       " ('r4_04_2_3', 0.008594141527806798),\n",
       " ('r7_10_1', 0.00800613924207827),\n",
       " ('r4_04_2_8', 0.007841112268863082),\n",
       " ('r7_11_2_1', 0.007769352229408888),\n",
       " ('r2_20_1_1', 0.007441201762039995),\n",
       " ('r7_08_1', 0.007395715115233514),\n",
       " ('group_7_membership', 0.006740196078431571),\n",
       " ('r4_05_1', 0.0063490761651134875),\n",
       " ('r6_04_1_3', 0.006183928925155513),\n",
       " ('value_food_vegetables', 0.006179513888015187),\n",
       " ('calamity_4', 0.005482063263981818),\n",
       " ('r4_02_1', 0.0052505849807058524),\n",
       " ('r4_04_1_6', 0.005221802344980375),\n",
       " ('j02_1_non_local_travel_expenses', 0.004823046252715901),\n",
       " ('s_06_5_2', 0.0047177645665414936),\n",
       " ('highest_education', 0.004682120879492491),\n",
       " ('r4_04_2_6', 0.004610956364097696),\n",
       " ('job_trader', 0.0042366942086324855),\n",
       " ('positive_events_value', 0.003999392656756751),\n",
       " ('r8_06_2', 0.0038963249609857975),\n",
       " ('r3_05_2', 0.0037158174051143966),\n",
       " ('r4_04_1_1', 0.003447991868148037),\n",
       " ('j03_1_local_transport_expenses', 0.0032738095238098452),\n",
       " ('r8_02_2', 0.0031752967936835574),\n",
       " ('r3_04_2', 0.003129766022964997),\n",
       " ('s_06_6_1', 0.0026124124833009077),\n",
       " ('m09', 0.0019600746727079787),\n",
       " ('r3_07_2', 0.0014382145750122532),\n",
       " ('r4_04_1_2', 0.0012071697950180038),\n",
       " ('r3_02_2', 0.001089063608906482),\n",
       " ('ratio_female', 0.0009819614017487766),\n",
       " ('group_15_membership', 6.661338147750939e-16),\n",
       " ('livestock_hired_male_labor', 2.220446049250313e-16),\n",
       " ('calamity_9', 1.1102230246251565e-16),\n",
       " ('group_16_membership', 1.1102230246251565e-16),\n",
       " ('household_size', 0),\n",
       " ('num_children', 0),\n",
       " ('total_land_value_per_month', 0),\n",
       " ('max_land_acquisition_year', 0),\n",
       " ('plot_type', 0),\n",
       " ('count_2011', 0),\n",
       " ('credit_cash_borrowed', 0),\n",
       " ('value_transport', 0),\n",
       " ('sale_of_assets_value', 0),\n",
       " ('value_food_cereals', 0),\n",
       " ('weight_food_cereals', 0),\n",
       " ('value_food_pulses', 0),\n",
       " ('weight_food_vegetables', 0),\n",
       " ('weight_food_leafy_vegetables', 0),\n",
       " ('value_food_meat_eggs_milk', 0),\n",
       " ('weight_food_meat_eggs_milk', 0),\n",
       " ('value_food_fish_large', 0),\n",
       " ('value_food_spices', 0),\n",
       " ('weight_food_spices', 0),\n",
       " ('value_food_drinks', 0),\n",
       " ('j03_1_rent_expenses', 0),\n",
       " ('j02_1_fuel_expenses', 0),\n",
       " ('j02_1_local_transport_expenses', 0),\n",
       " ('j02_1_miscellaneous_expenses', 0),\n",
       " ('j03_1_miscellaneous_expenses', 0),\n",
       " ('j02_1_health_expenses', 0),\n",
       " ('j02_1_entertainment_expenses', 0),\n",
       " ('j03_1_clothing_expenses', 0),\n",
       " ('j03_2_clothing_expenses', 0),\n",
       " ('j02_2_furniture_household_expenses', 0),\n",
       " ('j03_1_furniture_household_expenses', 0),\n",
       " ('j02_2_utilities_taxes_fees', 0),\n",
       " ('j03_1_utilities_taxes_fees', 0),\n",
       " ('j03_2_utilities_taxes_fees', 0),\n",
       " ('j03_2_wedding_costs_bride', 0),\n",
       " ('j02_2_wedding_costs_groom', 0),\n",
       " ('j02_1_education_expenses', 0),\n",
       " ('j02_2_education_expenses', 0),\n",
       " ('j02_2_vehicle_expenses', 0),\n",
       " ('k02', 0),\n",
       " ('k03_1', 0),\n",
       " ('k05', 0),\n",
       " ('k07', 0),\n",
       " ('calamity_2', 0),\n",
       " ('calamity_3', 0),\n",
       " ('calamity_6', 0),\n",
       " ('calamity_7', 0),\n",
       " ('weather_events_damage', 0),\n",
       " ('shocks_loss_value', 0),\n",
       " ('m02_1', 0),\n",
       " ('m02_3', 0),\n",
       " ('m02_4', 0),\n",
       " ('m04_2', 0),\n",
       " ('m05', 0),\n",
       " ('m06_2', 0),\n",
       " ('m08_1', 0),\n",
       " ('m11_1', 0),\n",
       " ('m11_3', 0),\n",
       " ('q01_3', 0),\n",
       " ('q02', 0),\n",
       " ('q07_3', 0),\n",
       " ('constraints_4_measure', 0),\n",
       " ('constraints_4_constraint', 0),\n",
       " ('constraints_5_constraint', 0),\n",
       " ('constraints_7_measure', 0),\n",
       " ('constraints_7_constraint', 0),\n",
       " ('constraints_8_measure', 0),\n",
       " ('constraints_8_constraint', 0),\n",
       " ('constraints_9_measure', 0),\n",
       " ('constraints_9_constraint', 0),\n",
       " ('group_2_membership', 0),\n",
       " ('group_3_membership', 0),\n",
       " ('group_4_membership', 0),\n",
       " ('group_8_membership', 0),\n",
       " ('group_14_membership', 0),\n",
       " ('group_17_membership', 0),\n",
       " ('group_18_membership', 0),\n",
       " ('r2_15_2', 0),\n",
       " ('r2_15_4', 0),\n",
       " ('r2_16_1', 0),\n",
       " ('r2_16_2', 0),\n",
       " ('r2_16_3', 0),\n",
       " ('r2_16_4', 0),\n",
       " ('r2_17_3_1', 0),\n",
       " ('r2_18_4_1', 0),\n",
       " ('r2_19_4_1', 0),\n",
       " ('r2_21_4_1', 0),\n",
       " ('r2_22_2_1', 0),\n",
       " ('r2_23_3_1', 0),\n",
       " ('r3_06_1', 0),\n",
       " ('r3_03_2', 0),\n",
       " ('r3_06_2', 0),\n",
       " ('r4_04_1_3', 0),\n",
       " ('r4_04_1_4', 0),\n",
       " ('r4_04_1_9', 0),\n",
       " ('r4_02_2', 0),\n",
       " ('r4_04_2_1', 0),\n",
       " ('r4_04_2_2', 0),\n",
       " ('r4_04_2_4', 0),\n",
       " ('r4_04_2_5', 0),\n",
       " ('r4_04_2_7', 0),\n",
       " ('r4_04_2_9', 0),\n",
       " ('r4_05_2', 0),\n",
       " ('r6_04_1_2', 0),\n",
       " ('r6_05_1', 0),\n",
       " ('r6_06_1', 0),\n",
       " ('r6_07_1', 0),\n",
       " ('r6_03_2_3', 0),\n",
       " ('r6_04_2_3', 0),\n",
       " ('r6_07_2', 0),\n",
       " ('r7_04_1', 0),\n",
       " ('r7_05_1', 0),\n",
       " ('r7_06_1_2', 0),\n",
       " ('r7_07_1_1', 0),\n",
       " ('r7_07_1_2', 0),\n",
       " ('r7_07_1_3', 0),\n",
       " ('r7_09_1', 0),\n",
       " ('r7_11_1_1', 0),\n",
       " ('r7_11_1_3', 0),\n",
       " ('r7_03_2', 0),\n",
       " ('r7_05_2', 0),\n",
       " ('r7_06_2_1', 0),\n",
       " ('r7_08_2', 0),\n",
       " ('r7_11_2_3', 0),\n",
       " ('r9_02_1', 0),\n",
       " ('s_02_1', 0),\n",
       " ('s_03_1', 0),\n",
       " ('s_04_1', 0),\n",
       " ('s_05_1', 0),\n",
       " ('s_06_4_1', 0),\n",
       " ('s_06_5_1', 0),\n",
       " ('s_08_1', 0),\n",
       " ('s_09_1', 0),\n",
       " ('s_03_2', 0),\n",
       " ('s_04_2', 0),\n",
       " ('s_05_2', 0),\n",
       " ('s_06_1_2', 0),\n",
       " ('s_06_2_2', 0),\n",
       " ('s_06_3_2', 0),\n",
       " ('s_06_4_2', 0),\n",
       " ('s_08_2', 0),\n",
       " ('job_salaried_worker', 0),\n",
       " ('job_self_employment', 0),\n",
       " ('job_production', 0),\n",
       " ('job_livestock_poultry_service', 0)]"
      ]
     },
     "execution_count": 252,
     "metadata": {},
     "output_type": "execute_result"
    }
   ],
   "source": [
    "ordered = sorted([(k,v) for (k,v) in mi_scores.items()], key = lambda x: mi_scores[x[0]], reverse=True)\n",
    "ordered_no_target = [item for item in ordered if item[0][0] != \"o\"]\n",
    "ordered_no_target"
   ]
  },
  {
   "cell_type": "code",
   "execution_count": null,
   "id": "5863c931",
   "metadata": {},
   "outputs": [],
   "source": []
  },
  {
   "cell_type": "code",
   "execution_count": null,
   "id": "c5e956ba",
   "metadata": {},
   "outputs": [],
   "source": []
  },
  {
   "cell_type": "code",
   "execution_count": null,
   "id": "88c46f50",
   "metadata": {},
   "outputs": [],
   "source": []
  },
  {
   "cell_type": "code",
   "execution_count": null,
   "id": "f1a62d6a",
   "metadata": {},
   "outputs": [],
   "source": []
  },
  {
   "cell_type": "code",
   "execution_count": null,
   "id": "7e2bf52a",
   "metadata": {},
   "outputs": [],
   "source": []
  },
  {
   "cell_type": "code",
   "execution_count": null,
   "id": "4db6a426",
   "metadata": {},
   "outputs": [],
   "source": []
  },
  {
   "cell_type": "code",
   "execution_count": null,
   "id": "56a4dae5",
   "metadata": {},
   "outputs": [],
   "source": []
  },
  {
   "cell_type": "code",
   "execution_count": null,
   "id": "a59564be",
   "metadata": {},
   "outputs": [],
   "source": []
  },
  {
   "cell_type": "code",
   "execution_count": null,
   "id": "9ca6b1c7",
   "metadata": {},
   "outputs": [],
   "source": []
  },
  {
   "cell_type": "markdown",
   "id": "21fddd70",
   "metadata": {},
   "source": [
    "### alternate calculations"
   ]
  },
  {
   "cell_type": "code",
   "execution_count": 190,
   "id": "8c4d0427",
   "metadata": {
    "collapsed": true
   },
   "outputs": [
    {
     "name": "stdout",
     "output_type": "stream",
     "text": [
      "0.0\n",
      "0.03225806451612903\n",
      "0.06451612903225806\n",
      "0.0967741935483871\n",
      "0.12903225806451613\n",
      "0.16129032258064516\n",
      "0.1935483870967742\n",
      "0.22580645161290322\n",
      "0.25806451612903225\n",
      "0.2903225806451613\n",
      "0.3225806451612903\n",
      "0.3548387096774194\n",
      "0.3870967741935484\n",
      "0.41935483870967744\n",
      "0.45161290322580644\n",
      "0.4838709677419355\n",
      "0.5161290322580645\n",
      "0.5483870967741935\n",
      "0.5806451612903226\n",
      "0.6129032258064516\n",
      "0.6451612903225806\n",
      "0.6774193548387096\n",
      "0.7096774193548387\n",
      "0.7419354838709677\n",
      "0.7741935483870968\n",
      "0.8064516129032258\n",
      "0.8387096774193549\n",
      "0.8709677419354839\n",
      "0.9032258064516129\n",
      "0.9354838709677419\n",
      "0.967741935483871\n"
     ]
    }
   ],
   "source": [
    "mutual_info = {}\n",
    "\n",
    "for i, DF in enumerate(PROCESSED_DFS):\n",
    "    for col in DF.columns:\n",
    "        if col not in [\"hhid\", \"community_code\"]:\n",
    "            X = {}\n",
    "            for hhid in DF.hhid:\n",
    "                if hhid in num_changes:\n",
    "                    val = list(DF.loc[DF.hhid==hhid][col])[0]\n",
    "                    X[hhid] = val if not np.isnan(val) else - 10\n",
    "            \n",
    "            sorted_keys = sorted(X.keys())\n",
    "            X = np.array([X[k] for k in sorted_keys]).reshape(-1,1)\n",
    "            y = np.array([num_changes[k] for k in sorted_keys])\n",
    "            try:\n",
    "                mutual_info[col] = mutual_info_regression(X,y)[0]\n",
    "            except:\n",
    "                mutual_info[col] = -1\n",
    "            \n",
    "    print(i/len(PROCESSED_DFS))"
   ]
  },
  {
   "cell_type": "code",
   "execution_count": 193,
   "id": "66829f5d",
   "metadata": {},
   "outputs": [
    {
     "data": {
      "image/png": "[encoded data removed]",
      "text/plain": [
       "<Figure size 600x500 with 1 Axes>"
      ]
     },
     "metadata": {},
     "output_type": "display_data"
    }
   ],
   "source": [
    "valz = []\n",
    "for col, val in mutual_info.items():\n",
    "    if col[0] != \"o\" and val != -1:\n",
    "        valz.append(val)\n",
    "        \n",
    "plt.hist(valz, color=\"dodgerblue\", edgecolor=\"k\", bins=30)\n",
    "plt.xlabel(\"Mutual Information Score\")\n",
    "plt.ylabel(\"Frequency\")\n",
    "plt.show()"
   ]
  },
  {
   "cell_type": "code",
   "execution_count": null,
   "id": "68835ed5",
   "metadata": {},
   "outputs": [],
   "source": [
    "mutual_info = {}\n",
    "\n",
    "for i, col in enumerate(df.columns):\n",
    "    if col not in [\"hhid\", \"community_code\"]:\n",
    "        X = {}\n",
    "        for hhid in df.hhid:\n",
    "            if hhid in num_changes:  \n",
    "                val = list(df.loc[df.hhid==hhid][col])[0]\n",
    "                X[hhid] = val if not np.isnan(val) else - 10\n",
    "\n",
    "        sorted_keys = sorted(X.keys())\n",
    "        X = np.array([X[k] for k in sorted_keys]).reshape(-1,1)\n",
    "        y = np.array([num_changes[k] for k in sorted_keys])\n",
    "        try:\n",
    "            mutual_info[col] = mutual_info_regression(X,y)[0]\n",
    "        except:\n",
    "            mutual_info[col] = -1\n",
    "\n",
    "    if (i % 10) == 0:\n",
    "        print(f\"Progress: {i/num_cols:.2f} ...\")"
   ]
  },
  {
   "cell_type": "code",
   "execution_count": 184,
   "id": "8311324f",
   "metadata": {},
   "outputs": [
    {
     "data": {
      "image/png": "[encoded data removed]",
      "text/plain": [
       "<Figure size 600x500 with 1 Axes>"
      ]
     },
     "metadata": {},
     "output_type": "display_data"
    }
   ],
   "source": [
    "valz = []\n",
    "for col, val in mutual_info.items():\n",
    "    if col[0] != \"o\" and val != -1:\n",
    "        valz.append(val)\n",
    "        \n",
    "plt.hist(valz, color=\"dodgerblue\", edgecolor=\"k\", bins=30)\n",
    "plt.xlabel(\"Mutual Information Score\")\n",
    "plt.ylabel(\"Frequency\")\n",
    "plt.show()"
   ]
  },
  {
   "cell_type": "code",
   "execution_count": 159,
   "id": "140c8872",
   "metadata": {},
   "outputs": [
    {
     "data": {
      "text/plain": [
       "[('j03_2_miscellaneous_expenses', 0.2422801942209829),\n",
       " ('j02_1_vehicle_expenses', 0.22404994210686602),\n",
       " ('r6_04_2_2', 0.19943450063543144),\n",
       " ('r6_03_1_3', 0.161805842015585),\n",
       " ('r7_11_1_3', 0.1418564365763988),\n",
       " ('r7_11_1_2', 0.13461671782986118),\n",
       " ('j03_2_family_events_expenses', 0.13055555555555576),\n",
       " ('r7_07_2_3', 0.12615182269547232),\n",
       " ('r7_06_2_3', 0.10387365663563619),\n",
       " ('job_farming', 0.09939711695271258),\n",
       " ('weight_food_drinks', 0.0916661736844584),\n",
       " ('s_06_3_2', 0.08231736077019924),\n",
       " ('value_food_other', 0.08024871898797814),\n",
       " ('j03_1_health_expenses', 0.07870370370370372),\n",
       " ('m01', 0.07748945845422206)]"
      ]
     },
     "execution_count": 159,
     "metadata": {},
     "output_type": "execute_result"
    }
   ],
   "source": [
    "k = sorted(mutual_info, key=lambda x: mutual_info[x], reverse=True)\n",
    "k = [item for item in k if item[0] != \"o\"]\n",
    "\n",
    "pairs = []\n",
    "for item in k:\n",
    "    pairs.append((item, mutual_info[item]))\n",
    "    \n",
    "pairs[:15]"
   ]
  }
 ],
 "metadata": {
  "kernelspec": {
   "display_name": "Python 3",
   "language": "python",
   "name": "python3"
  },
  "language_info": {
   "codemirror_mode": {
    "name": "ipython",
    "version": 3
   },
   "file_extension": ".py",
   "mimetype": "text/x-python",
   "name": "python",
   "nbconvert_exporter": "python",
   "pygments_lexer": "ipython3",
   "version": "3.8.6"
  }
 },
 "nbformat": 4,
 "nbformat_minor": 5
}
