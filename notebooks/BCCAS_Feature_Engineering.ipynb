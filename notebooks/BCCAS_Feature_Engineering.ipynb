{
 "cells": [
  {
   "cell_type": "code",
   "execution_count": 130,
   "id": "acdc0b3a",
   "metadata": {},
   "outputs": [],
   "source": [
    "import os\n",
    "os.chdir('../quafing/')\n",
    "\n",
    "import random\n",
    "import pickle\n",
    "import numpy as np\n",
    "import quafing as q\n",
    "from scipy.stats import mode\n",
    "from collections import Counter\n",
    "\n",
    "import pandas as pd\n",
    "pd.options.mode.chained_assignment = None\n",
    "\n",
    "from sklearn.preprocessing import LabelEncoder\n",
    "from sklearn.feature_selection import mutual_info_regression\n",
    "\n",
    "import matplotlib.pyplot as plt\n",
    "plt.rcParams.update(plt.rcParamsDefault)\n",
    "plt.rcParams.update({\"font.size\" : 15, \n",
    "                     \"figure.dpi\" : 100, \n",
    "                     \"legend.fontsize\" : 13, \n",
    "                     \"grid.alpha\" : 0.3, \n",
    "                     \"axes.grid\": True, \n",
    "                     \"axes.axisbelow\" : True, \n",
    "                     \"figure.figsize\":(6, 5)})"
   ]
  },
  {
   "cell_type": "code",
   "execution_count": 2,
   "id": "e7ff95f3",
   "metadata": {},
   "outputs": [],
   "source": [
    "def load_data(path):\n",
    "    \"\"\"\n",
    "    Loads .dta file using provided path.\n",
    "    \"\"\"\n",
    "    return pd.read_stata(path, convert_categoricals=False)\n",
    "\n",
    "\n",
    "def add_missing_hhids(df):\n",
    "    \"\"\"\n",
    "    Adds empty rows for hhids missing from df.\n",
    "    df must already have an \"hhid\" column!\n",
    "    \"\"\"\n",
    "    df = df.round({\"hhid\":1})\n",
    "    missing = set(UNIQUE_HHID) - set(df[\"hhid\"].unique())\n",
    "    missing_dict = {\"hhid\":[round(item, 1) for item in list(missing)]}\n",
    "    for col in df.columns:\n",
    "        if col != \"hhid\":\n",
    "            missing_dict[col] = [np.nan]*len(missing)\n",
    "    missing_df = pd.DataFrame.from_dict(missing_dict)\n",
    "    concat = pd.concat([df, missing_df])\n",
    "    return concat.round({\"hhid\":1})\n",
    "\n",
    "\n",
    "def column_selection(df, keep=None, remove=None):\n",
    "    \"\"\"\n",
    "    Performs column selection on dataframe.\n",
    "    Args:\n",
    "        no_change: boolean indicating whether to keep all columns\n",
    "        keep: list of columns to keep\n",
    "        remove: list of columns to remove\n",
    "    Returns:\n",
    "        updated dataframe\n",
    "    \"\"\"\n",
    "    if keep:\n",
    "        return df[keep]\n",
    "    elif remove:\n",
    "        return df.loc[:, ~df.columns.isin(remove)]\n",
    "    else:\n",
    "        return df\n",
    "\n",
    "\n",
    "def get_processed_df(results):\n",
    "    processed = pd.DataFrame.from_dict({})\n",
    "    for column in results[1]:\n",
    "        processed[column] = [results[hhid][column] for hhid in results]\n",
    "    return processed\n",
    "\n",
    "\n",
    "def apply_mapping(df, mapping):\n",
    "    results = {hhid:{\"hhid\":hhid} for hhid in UNIQUE_HHID}\n",
    "    for hhid in UNIQUE_HHID:\n",
    "        household = df.loc[df.hhid==hhid]    \n",
    "        for label, tup in mapping.items():\n",
    "            col, operation = tup\n",
    "            non_nan = household.loc[~household[col].isna()]\n",
    "            results[hhid][label] = operation_lambda[operation](non_nan[col]) if len(non_nan) else np.nan\n",
    "    return get_processed_df(results) "
   ]
  },
  {
   "cell_type": "code",
   "execution_count": 3,
   "id": "425dc36e",
   "metadata": {},
   "outputs": [],
   "source": [
    "DATA_DIR    = \"../../BCCASII/\"\n",
    "DATA_SUBDIR = \"Household/\""
   ]
  },
  {
   "cell_type": "code",
   "execution_count": 4,
   "id": "75113430",
   "metadata": {},
   "outputs": [],
   "source": [
    "PROCESSED_DFS  = []\n",
    "ADAPTATION_DFS = []"
   ]
  },
  {
   "cell_type": "code",
   "execution_count": 5,
   "id": "02a6dbdb",
   "metadata": {},
   "outputs": [],
   "source": [
    "operation_lambda = {\n",
    "    \"sum\": lambda x: x.sum(),\n",
    "    \"min\": lambda x: x.min(),\n",
    "    \"max\": lambda x: x.max(),\n",
    "    \"mean\": lambda x: round(x.mean()),\n",
    "    \"mode\": lambda x: x.mode()[0]\n",
    "}"
   ]
  },
  {
   "cell_type": "code",
   "execution_count": 6,
   "id": "087b63bc",
   "metadata": {},
   "outputs": [],
   "source": [
    "variable_types = {\n",
    "    \"discrete_categorical\":set(),\n",
    "    \"discrete_ordered\":set(),\n",
    "    \"continuous\":set()\n",
    "}"
   ]
  },
  {
   "cell_type": "markdown",
   "id": "0cae339e",
   "metadata": {},
   "source": [
    "## A: Location and identification detail"
   ]
  },
  {
   "cell_type": "code",
   "execution_count": 7,
   "id": "5cb777dc",
   "metadata": {},
   "outputs": [],
   "source": [
    "filename = \"001_mod_a.dta\"\n",
    "path = DATA_DIR + DATA_SUBDIR + filename\n",
    "df = load_data(path)"
   ]
  },
  {
   "cell_type": "code",
   "execution_count": 8,
   "id": "bb371d47",
   "metadata": {},
   "outputs": [],
   "source": [
    "# keep household ID, agro-ecological zone\n",
    "processed = column_selection(df, keep=[\"hhid\", \"ezcode\"])\n",
    "\n",
    "# construct community code from union, thana, district codes\n",
    "processed[\"community_code\"] = df[\"ucode\"].astype(str) + \"_\" + \\\n",
    "                              df[\"tcode\"].astype(str) + \"_\" + \\\n",
    "                              df[\"dcode\"].astype(str)\n",
    "processed[\"community_code\"] = LabelEncoder().fit_transform(processed[\"community_code\"])\n",
    "\n",
    "\n",
    "UNIQUE_HHID = np.round(df[\"hhid\"].unique().astype(np.float64), 1)\n",
    "processed[\"hhid\"] = processed[\"hhid\"].astype(np.float64)"
   ]
  },
  {
   "cell_type": "code",
   "execution_count": 9,
   "id": "85a573d4",
   "metadata": {},
   "outputs": [],
   "source": [
    "PROCESSED_DFS.append(processed)"
   ]
  },
  {
   "cell_type": "code",
   "execution_count": 10,
   "id": "a8bf8187",
   "metadata": {},
   "outputs": [],
   "source": [
    "for col in processed.columns:\n",
    "    variable_types[\"discrete_categorical\"].add(col)"
   ]
  },
  {
   "cell_type": "markdown",
   "id": "bd076776",
   "metadata": {},
   "source": [
    "## B: Household composition and education"
   ]
  },
  {
   "cell_type": "code",
   "execution_count": 11,
   "id": "43cc5d53",
   "metadata": {},
   "outputs": [],
   "source": [
    "filename = \"002_mod_b.dta\"\n",
    "path = DATA_DIR + DATA_SUBDIR + filename\n",
    "df = load_data(path)"
   ]
  },
  {
   "cell_type": "code",
   "execution_count": 12,
   "id": "ffed5994",
   "metadata": {
    "scrolled": true
   },
   "outputs": [],
   "source": [
    "education_ordering = [99, 66, 67, 68, 0, 1, 2, 3, 4, 5, 6, 7, 8, 9, 22, 10, 33, 12, 15, 16, 17]\n",
    "literacy_ordering  = [1, 2, 3, 4]\n",
    "\n",
    "results = {hhid:{\"hhid\":hhid} for hhid in UNIQUE_HHID}\n",
    "for hhid in UNIQUE_HHID:\n",
    "    household = df.loc[df.hhid==hhid]    \n",
    "    L = len(household)\n",
    "    if L == 0:\n",
    "        results[hhid] = {\n",
    "            \"hhid\": hhid,\n",
    "            \"household_size\": np.nan,\n",
    "            \"ratio_male\": np.nan,\n",
    "            \"ratio_male_children\": np.nan,\n",
    "            \"highest_education\": np.nan,\n",
    "            \"highest_literacy\": np.nan\n",
    "        }\n",
    "        continue\n",
    "\n",
    "    # household size\n",
    "    results[hhid][\"household_size\"] = L\n",
    "    \n",
    "    # ratio male\n",
    "    m = sum(household[\"b01\"]==1)\n",
    "    results[hhid][\"ratio_male\"] = m/L\n",
    "\n",
    "    # ratio of children that are male\n",
    "    num_children = len(household.loc[household[\"b03\"]<18])\n",
    "    if num_children > 0:\n",
    "        results[hhid][\"ratio_male_children\"] = len(household.loc[(household[\"b01\"]==1) & \\\n",
    "                                                (household[\"b03\"]<18)]) / num_children\n",
    "    else:\n",
    "        results[hhid][\"ratio_male_children\"] = 0\n",
    "    \n",
    "    # highest level of education\n",
    "    education_levels = [education_ordering.index(x)\n",
    "                        for x in [x for x in list(household[\"b06\"]) if not np.isnan(x)]]\n",
    "    results[hhid][\"highest_education\"] = max(education_levels) if len(education_levels) else np.nan\n",
    "        \n",
    "    # highest level of literacy\n",
    "    literacy_labels = [literacy_ordering.index(x)\n",
    "                       for x in [x for x in list(household[\"b05\"]) if not np.isnan(x)]]\n",
    "    results[hhid][\"highest_literacy\"] = max(literacy_labels) if len(literacy_labels) else np.nan\n",
    "\n",
    "processed = get_processed_df(results)\n",
    "\n",
    "\n",
    "# primary occupation categories\n",
    "# categories = {\n",
    "#     \"day_labor\": [1,2,3],\n",
    "#     \"self_employ_farm\": [4,5,6,7,8],\n",
    "#     \"self_employ_non_farm\": [9],\n",
    "#     \"low_income_profession\": [10,11,12,13],\n",
    "#     \"mechanic\": [14,15],\n",
    "#     \"other\": [16, 17, 18, 19],\n",
    "#     \"non_earning\": [20,21,22,23,24,25,26]\n",
    "# }\n",
    "\n",
    "# for c, c_list in categories.items():\n",
    "#     c_dict = {hhid:0 for hhid in unique_hhids}\n",
    "#     for hhid in unique_hhids:\n",
    "#         household = df.loc[df.hhid==hhid]\n",
    "#         primary_occupation_labels = list(household[\"b08_1\"])\n",
    "#         for item in c_list:\n",
    "#             if item in primary_occupation_labels:\n",
    "#                 c_dict[hhid] += 1\n",
    "#     processed = processed.join(pd.DataFrame.from_dict({c:c_dict}))"
   ]
  },
  {
   "cell_type": "code",
   "execution_count": 13,
   "id": "b6a45dcc",
   "metadata": {},
   "outputs": [],
   "source": [
    "PROCESSED_DFS.append(processed)"
   ]
  },
  {
   "cell_type": "code",
   "execution_count": 14,
   "id": "9a74f8a5",
   "metadata": {},
   "outputs": [],
   "source": [
    "variable_types[\"discrete_categorical\"].update({\"highest_education\"})\n",
    "variable_types[\"discrete_ordered\"].update({\"highest_literacy\", \"household_size\"})\n",
    "variable_types[\"continuous\"].update({\"ratio_male\", \"ratio_male_children\"})"
   ]
  },
  {
   "cell_type": "markdown",
   "id": "16ef158c",
   "metadata": {},
   "source": [
    "## C: Roster of land and water bodies owned or under operation"
   ]
  },
  {
   "cell_type": "code",
   "execution_count": 15,
   "id": "f1f009cc",
   "metadata": {},
   "outputs": [],
   "source": [
    "filename = \"003_mod_c.dta\"\n",
    "path = DATA_DIR + DATA_SUBDIR + filename\n",
    "df = load_data(path)"
   ]
  },
  {
   "cell_type": "code",
   "execution_count": 16,
   "id": "b4f33e2f",
   "metadata": {
    "scrolled": true
   },
   "outputs": [],
   "source": [
    "mapping = {\n",
    "    \"total_land_value_per_month\": (\"c113\", \"sum\"),\n",
    "    \"plot_type\": (\"c101\", \"mode\"),\n",
    "    \"soil_type\": (\"c105\", \"mode\"),\n",
    "    \"land_operational_status\": (\"c107\", \"mode\"),\n",
    "    \"land_acquisition_means\": (\"c110\", \"mode\")\n",
    "}\n",
    "\n",
    "processed = apply_mapping(df, mapping)"
   ]
  },
  {
   "cell_type": "code",
   "execution_count": 17,
   "id": "b53e1bfe",
   "metadata": {},
   "outputs": [],
   "source": [
    "PROCESSED_DFS.append(processed)"
   ]
  },
  {
   "cell_type": "code",
   "execution_count": 18,
   "id": "0d6f3861",
   "metadata": {},
   "outputs": [],
   "source": [
    "variable_types[\"discrete_categorical\"].update({\"plot_type\", \"soil_type\", \n",
    "                                               \"land_operational_status\", \"land_acquisition_means\"})\n",
    "variable_types[\"continuous\"].update({\"total_land_value_per_month\"})"
   ]
  },
  {
   "cell_type": "markdown",
   "id": "cb778381",
   "metadata": {},
   "source": [
    "## F1: Livestock and poultry"
   ]
  },
  {
   "cell_type": "code",
   "execution_count": 19,
   "id": "57b18c61",
   "metadata": {},
   "outputs": [],
   "source": [
    "filename = \"004_mod_f1.dta\"\n",
    "path = DATA_DIR + DATA_SUBDIR + filename\n",
    "df = load_data(path)"
   ]
  },
  {
   "cell_type": "code",
   "execution_count": 20,
   "id": "b8e9f11c",
   "metadata": {},
   "outputs": [],
   "source": [
    "# # household id\n",
    "# processed = pd.DataFrame.from_dict({\"hhid\":list(unique_hhids)})\n",
    "\n",
    "# categories = {\n",
    "#     \"cattle_buffalo\":1,\n",
    "#     \"goat_sheep\":2,\n",
    "#     \"pigs\":3,\n",
    "#     \"chidken_duck\":4\n",
    "# }\n",
    "\n",
    "# cols = [(\"count_2011\", \"f102\"), (\"value_2011\", \"f103\"), \n",
    "#         (\"count_now\", \"f104\"), (\"value_now\", \"f105\"), (\"total_selling_value\", \"f117\")]   \n",
    "\n",
    "# results = {hhid:{} for hhid in unique_hhids}\n",
    "# for hhid in unique_hhids:\n",
    "#     household = df.loc[df.hhid==hhid]\n",
    "#     for c, number in categories.items():\n",
    "#         if number not in list(household[\"f101\"]):\n",
    "#             # TODO: handle missing value!\n",
    "#             for l, _ in cols:\n",
    "#                 results[hhid][c+\"_\"+l] = np.nan\n",
    "#         else:\n",
    "#             for l, col in cols:\n",
    "#                 value = household.loc[household[\"f101\"]==number][col].iloc[0]\n",
    "#                 # TODO: handle missing value here!\n",
    "#                 if np.isnan(value):\n",
    "#                     results[hhid][c+\"_\"+l] = np.nan\n",
    "#                 else:\n",
    "#                     results[hhid][c+\"_\"+l] = value\n",
    "                    \n",
    "# for column in results[1]:\n",
    "#     processed[column] = [results[hhid][column] for hhid in results]"
   ]
  },
  {
   "cell_type": "code",
   "execution_count": 21,
   "id": "5463a5d6",
   "metadata": {},
   "outputs": [],
   "source": [
    "mapping = {\n",
    "    \"count_2011\": (\"f102\", \"sum\"),\n",
    "    \"value_2011\": (\"f103\", \"sum\"),\n",
    "    \"count_now\": (\"f104\", \"sum\"),\n",
    "    \"value_now\": (\"f105\", \"sum\"),\n",
    "    \"total_selling_value\": (\"f117\", \"sum\"),\n",
    "}\n",
    "\n",
    "processed = apply_mapping(df, mapping)"
   ]
  },
  {
   "cell_type": "code",
   "execution_count": 22,
   "id": "876a3df6",
   "metadata": {},
   "outputs": [],
   "source": [
    "PROCESSED_DFS.append(processed)"
   ]
  },
  {
   "cell_type": "code",
   "execution_count": 23,
   "id": "8fe205f2",
   "metadata": {},
   "outputs": [],
   "source": [
    "variable_types[\"discrete_ordered\"].update({\"count_2011\", \"count_now\"})\n",
    "variable_types[\"continuous\"].update({\"value_2011\", \"value_now\", \"total_selling_value\"})"
   ]
  },
  {
   "cell_type": "markdown",
   "id": "e4c2d3ce",
   "metadata": {},
   "source": [
    "## F3: Expenditure for livestock, Poultry/Duckery Production Last 12 Months"
   ]
  },
  {
   "cell_type": "code",
   "execution_count": 24,
   "id": "da00b845",
   "metadata": {},
   "outputs": [],
   "source": [
    "filename = \"005_mod_f3.dta\"\n",
    "path = DATA_DIR + DATA_SUBDIR + filename\n",
    "df = load_data(path)"
   ]
  },
  {
   "cell_type": "code",
   "execution_count": 25,
   "id": "4d75f611",
   "metadata": {},
   "outputs": [],
   "source": [
    "mapping = {\n",
    "    \"livestock_fodder_value\": (\"f302\", \"sum\"),\n",
    "    \"livestock_medication_value\": (\"f303\", \"sum\"),\n",
    "    \"livestock_hired_male_labor\": (\"f306_1\", \"sum\"),\n",
    "}\n",
    "\n",
    "processed = apply_mapping(df, mapping)"
   ]
  },
  {
   "cell_type": "code",
   "execution_count": 26,
   "id": "bff90bd9",
   "metadata": {},
   "outputs": [],
   "source": [
    "PROCESSED_DFS.append(processed)"
   ]
  },
  {
   "cell_type": "code",
   "execution_count": 27,
   "id": "06589ed1",
   "metadata": {},
   "outputs": [],
   "source": [
    "variable_types[\"continuous\"].update({\"livestock_fodder_value\", \n",
    "                                     \"livestock_medication_value\", \n",
    "                                     \"livestock_hired_male_labor\"})"
   ]
  },
  {
   "cell_type": "markdown",
   "id": "539951e5",
   "metadata": {},
   "source": [
    "## G1, G2: Credit"
   ]
  },
  {
   "cell_type": "code",
   "execution_count": 28,
   "id": "ef00ba8a",
   "metadata": {},
   "outputs": [],
   "source": [
    "filename = \"006_mod_g.dta\"\n",
    "path = DATA_DIR + DATA_SUBDIR + filename\n",
    "df = load_data(path)"
   ]
  },
  {
   "cell_type": "code",
   "execution_count": 29,
   "id": "50a45f09",
   "metadata": {},
   "outputs": [],
   "source": [
    "loan_categories = {\n",
    "    \"credit_personal_capital\":[1,2,3,7,8,9,10,11,12,15,17,18],\n",
    "    \"credit_natural_capital\":[4,5,6,13,14,16]\n",
    "}\n",
    "\n",
    "results = {hhid:{\"hhid\":hhid} for hhid in UNIQUE_HHID}\n",
    "for hhid in UNIQUE_HHID:\n",
    "    household = df.loc[df.hhid==hhid]\n",
    "    for label, numbers in loan_categories.items():\n",
    "        rows = household.loc[household[\"g02\"].isin(numbers)]\n",
    "        cash_borrowed = [x for x in list(rows[\"g07\"]) if not np.isnan(x)]\n",
    "        value_borrowed = [x for x in list(rows[\"g10\"]) if not np.isnan(x)]\n",
    "        borrowed_combined = cash_borrowed + value_borrowed\n",
    "        results[hhid][label+\"_total_borrowed\"] = sum(borrowed_combined) if len(borrowed_combined) else np.nan\n",
    "        \n",
    "        cash_remaining = [x for x in list(rows[\"g23\"]) if not np.isnan(x)]\n",
    "        value_remaining = [x for x in list(rows[\"g25\"]) if not np.isnan(x)]\n",
    "        remaining_combined = cash_remaining + value_remaining\n",
    "        results[hhid][label+\"_total_to_pay\"] = sum(remaining_combined) if len(remaining_combined) else np.nan\n",
    "        \n",
    "processed = get_processed_df(results)"
   ]
  },
  {
   "cell_type": "code",
   "execution_count": 30,
   "id": "e15b7e41",
   "metadata": {},
   "outputs": [],
   "source": [
    "PROCESSED_DFS.append(processed)"
   ]
  },
  {
   "cell_type": "code",
   "execution_count": 31,
   "id": "2497c3d2",
   "metadata": {},
   "outputs": [],
   "source": [
    "variable_types[\"continuous\"].update({\"credit_personal_capital_total_borrowed\", \n",
    "                                     \"credit_personal_capital_total_to_pay\", \n",
    "                                     \"credit_natural_capital_total_borrowed\",\n",
    "                                     \"credit_natural_capital_total_to_pay\"})"
   ]
  },
  {
   "cell_type": "markdown",
   "id": "5eee13da",
   "metadata": {},
   "source": [
    "## H: Household Assets"
   ]
  },
  {
   "cell_type": "code",
   "execution_count": 32,
   "id": "18f7ba23",
   "metadata": {},
   "outputs": [],
   "source": [
    "filename = \"007_mod_h.dta\"\n",
    "path = DATA_DIR + DATA_SUBDIR + filename\n",
    "df = load_data(path)"
   ]
  },
  {
   "cell_type": "code",
   "execution_count": 33,
   "id": "9632d042",
   "metadata": {},
   "outputs": [],
   "source": [
    "# total value per household asset category\n",
    "categories = {\n",
    "    \"value_consumable_durables\":[i for i in range(1, 12)],\n",
    "    \"value_transport\":[i for i in range(12, 16)],\n",
    "    \"value_livestock_poultry\":[i for i in range(16, 20)],\n",
    "    \"value_agricultural_equipments\":[i for i in range(20,29)],\n",
    "    \"value_other\":[29]\n",
    "}\n",
    "\n",
    "results = {hhid:{\"hhid\":hhid} for hhid in UNIQUE_HHID}\n",
    "for hhid in UNIQUE_HHID:\n",
    "    household = df.loc[df.hhid==hhid]\n",
    "    for c in categories:\n",
    "        category_assets = household.loc[household[\"asset\"].isin(categories[c])]\n",
    "        results[hhid][c] = category_assets[\"h06\"].sum() if len(category_assets) else np.nan\n",
    "\n",
    "processed = get_processed_df(results)"
   ]
  },
  {
   "cell_type": "code",
   "execution_count": 34,
   "id": "fa1e3d66",
   "metadata": {},
   "outputs": [],
   "source": [
    "PROCESSED_DFS.append(processed)"
   ]
  },
  {
   "cell_type": "code",
   "execution_count": 35,
   "id": "1f9790bb",
   "metadata": {},
   "outputs": [],
   "source": [
    "variable_types[\"continuous\"].update({\"value_consumable_durables\", \n",
    "                                     \"value_transport\", \n",
    "                                     \"value_livestock_poultry\",\n",
    "                                     \"value_agricultural_equipments\", \n",
    "                                     \"value_other\"})"
   ]
  },
  {
   "cell_type": "markdown",
   "id": "b16a5f10",
   "metadata": {},
   "source": [
    "## H1: Assets: Sales of Assets and Change in Ownership"
   ]
  },
  {
   "cell_type": "code",
   "execution_count": 36,
   "id": "d5d60f11",
   "metadata": {},
   "outputs": [],
   "source": [
    "filename = \"008_mod_h1.dta\"\n",
    "path = DATA_DIR + DATA_SUBDIR + filename\n",
    "df = load_data(path)"
   ]
  },
  {
   "cell_type": "code",
   "execution_count": 37,
   "id": "ed4bba98",
   "metadata": {},
   "outputs": [],
   "source": [
    "mapping = {\"sale_of_assets_value\": (\"h108\", \"sum\")}\n",
    "processed = apply_mapping(df, mapping)"
   ]
  },
  {
   "cell_type": "code",
   "execution_count": 38,
   "id": "b5b6dc7b",
   "metadata": {},
   "outputs": [],
   "source": [
    "PROCESSED_DFS.append(processed)"
   ]
  },
  {
   "cell_type": "code",
   "execution_count": 39,
   "id": "aa35826c",
   "metadata": {},
   "outputs": [],
   "source": [
    "variable_types[\"continuous\"].update({\"sale_of_assets_value\"})"
   ]
  },
  {
   "cell_type": "markdown",
   "id": "b06dc991",
   "metadata": {},
   "source": [
    "## I: Food Consumption: Purchases, Home Production, and Other Sources"
   ]
  },
  {
   "cell_type": "code",
   "execution_count": 40,
   "id": "c2745e43",
   "metadata": {},
   "outputs": [],
   "source": [
    "filename = \"009_mod_i.dta\"\n",
    "path = DATA_DIR + DATA_SUBDIR + filename\n",
    "df = load_data(path)"
   ]
  },
  {
   "cell_type": "code",
   "execution_count": 41,
   "id": "cc24d236",
   "metadata": {
    "scrolled": true
   },
   "outputs": [],
   "source": [
    "food_categories = {\n",
    "    \"food_cereals\":np.arange(1,10),\n",
    "    \"food_pulses\":np.arange(11,18),\n",
    "    \"food_edible_oil\":np.arange(21,25),\n",
    "    \"food_vegetables\":np.arange(31,56),\n",
    "    \"food_leafy_vegetables\":np.arange(61,75),\n",
    "    \"food_meat_eggs_milk\":np.arange(81,88),\n",
    "    \"food_fruits\":np.arange(91,113),\n",
    "    \"food_fish_large\":np.arange(121,132),\n",
    "    \"food_fish_small\":np.arange(141,149),\n",
    "    \"food_spices\":np.arange(151,161),\n",
    "    \"food_other\":np.arange(171,177),\n",
    "    \"food_drinks\":np.arange(181,184),\n",
    "    \"food_other_outside_home\":np.arange(201,213)\n",
    "}\n",
    "\n",
    "results = {hhid:{\"hhid\":hhid} for hhid in UNIQUE_HHID}\n",
    "for hhid in UNIQUE_HHID:\n",
    "    household = df.loc[df.hhid==hhid]\n",
    "    for c, fcodes in food_categories.items():\n",
    "        relevant_rows = household.loc[household[\"fcode\"].isin(fcodes)]\n",
    "        for (col, label) in [(\"i07\", \"value_\"), (\"i04\", \"weight_\")]:\n",
    "            non_nan = relevant_rows.loc[~relevant_rows[col].isna()]\n",
    "            results[hhid][label+c] = non_nan[col].sum() if len(non_nan) else np.nan\n",
    "            \n",
    "processed = get_processed_df(results)"
   ]
  },
  {
   "cell_type": "code",
   "execution_count": 42,
   "id": "5ec501a7",
   "metadata": {},
   "outputs": [],
   "source": [
    "PROCESSED_DFS.append(processed)"
   ]
  },
  {
   "cell_type": "code",
   "execution_count": 43,
   "id": "a5f5610b",
   "metadata": {},
   "outputs": [],
   "source": [
    "update_set = set()\n",
    "for col in processed.columns:\n",
    "    update_set.add(col)\n",
    "variable_types[\"continuous\"].update(update_set)"
   ]
  },
  {
   "cell_type": "markdown",
   "id": "d99a60c5",
   "metadata": {},
   "source": [
    "## J1, J2: Non-food Expenditure"
   ]
  },
  {
   "cell_type": "code",
   "execution_count": 44,
   "id": "65ec2311",
   "metadata": {},
   "outputs": [],
   "source": [
    "filename = \"010_mod_j.dta\"\n",
    "path = DATA_DIR + DATA_SUBDIR + filename\n",
    "df = load_data(path)"
   ]
  },
  {
   "cell_type": "code",
   "execution_count": 45,
   "id": "d3f72bbe",
   "metadata": {
    "scrolled": true
   },
   "outputs": [],
   "source": [
    "non_food_categories = {\n",
    "    \"rent_bills_taxes_fees_expenses\":[1,2,49,50,51,52,53],\n",
    "    \"fuel_expenses\":[3,4,5,6],\n",
    "    \"transportation_vehicles_expenses\":[7,8,27,28,73,74,75,76],\n",
    "    \"miscellaneous_expenses\":[9,10,11,12,13,29,30,31,32,54,55],\n",
    "    \"health_expenses\":[14,15,16],\n",
    "    \"communication_expenses\":[17,18],\n",
    "    \"personal_items_clothing_expenses\":[19,20,21,22,23,24,33,34,35,36,37,38],\n",
    "    \"entertainment_expenses\":[25,26],\n",
    "    \"furniture_household_expenses\":np.arange(39,49),\n",
    "    \"family_events_expenses\":[56,57,58,59,60,61,62,63,64,65,66],\n",
    "    \"education_expenses\":np.arange(67,73),\n",
    "}\n",
    "\n",
    "sources = [(1, \"social\"), (2, \"self\"), (3, \"other\")]\n",
    "\n",
    "results = {hhid:{\"hhid\":hhid} for hhid in UNIQUE_HHID}\n",
    "for hhid in UNIQUE_HHID:\n",
    "    household = df.loc[df.hhid==hhid]\n",
    "    for c, nfcodes in non_food_categories.items():\n",
    "        relevant_rows = household.loc[household[\"nfcode\"].isin(nfcodes)]\n",
    "        \n",
    "        # total cash expenditure for last 1 month, last 12 months\n",
    "        for col in [\"j02_1\", \"j02_2\"]:\n",
    "            non_nan = relevant_rows.loc[~relevant_rows[col].isna()]\n",
    "            results[hhid][col+\"_\"+c] = non_nan[col].sum() if len(non_nan) else np.nan\n",
    "        \n",
    "        # imputed expenditure, last 1 month, last 12 months, for each possible source\n",
    "        for col1, col2 in [(\"j03_1\", \"j04_1\"), (\"j03_2\", \"j04_2\")]:\n",
    "            for code, source_label in sources:\n",
    "                non_nan = relevant_rows.loc[(~relevant_rows[col1].isna()) & (relevant_rows[col2]==code)]\n",
    "                results[hhid][col1+\"_\"+c+\"_\"+source_label] = non_nan[col1].sum() if len(non_nan) else np.nan\n",
    "\n",
    "processed = get_processed_df(results)"
   ]
  },
  {
   "cell_type": "code",
   "execution_count": 46,
   "id": "a03363b6",
   "metadata": {},
   "outputs": [],
   "source": [
    "PROCESSED_DFS.append(processed)"
   ]
  },
  {
   "cell_type": "code",
   "execution_count": 47,
   "id": "cf734093",
   "metadata": {},
   "outputs": [],
   "source": [
    "update_set = set()\n",
    "for col in processed.columns:\n",
    "    update_set.add(col)\n",
    "variable_types[\"continuous\"].update(update_set)"
   ]
  },
  {
   "cell_type": "markdown",
   "id": "fe2b5a8d",
   "metadata": {},
   "source": [
    "## K: Housing, Source of Water and sanitation"
   ]
  },
  {
   "cell_type": "code",
   "execution_count": 48,
   "id": "bb312212",
   "metadata": {},
   "outputs": [],
   "source": [
    "filename = \"011_mod_k.dta\"\n",
    "path = DATA_DIR + DATA_SUBDIR + filename\n",
    "df = load_data(path)"
   ]
  },
  {
   "cell_type": "code",
   "execution_count": 49,
   "id": "863e1236",
   "metadata": {},
   "outputs": [],
   "source": [
    "processed = column_selection(df, keep=[\"hhid\", \"k01\", \"k02\", \"k03\", \"k03_1\",\n",
    "                                       \"k04\", \"k05\", \"k05_1\", \"k06\", \"k07\"])"
   ]
  },
  {
   "cell_type": "code",
   "execution_count": 50,
   "id": "a29d018f",
   "metadata": {},
   "outputs": [],
   "source": [
    "PROCESSED_DFS.append(processed)"
   ]
  },
  {
   "cell_type": "code",
   "execution_count": 51,
   "id": "ee868d10",
   "metadata": {},
   "outputs": [],
   "source": [
    "variable_types[\"discrete_ordered\"].add(\"k01\")\n",
    "variable_types[\"discrete_categorical\"].update({\"k02\", \"k03\", \"k03_1\",\n",
    "                                               \"k04\", \"k05\", \"k05_1\", \n",
    "                                               \"k06\", \"k07\"})"
   ]
  },
  {
   "cell_type": "markdown",
   "id": "cd54cd53",
   "metadata": {},
   "source": [
    "## L, L1: Weather events adversely affected the household or the farming cope"
   ]
  },
  {
   "cell_type": "code",
   "execution_count": 52,
   "id": "911ced78",
   "metadata": {},
   "outputs": [],
   "source": [
    "filename = \"013_mod_l1.dta\"\n",
    "path = DATA_DIR + DATA_SUBDIR + filename\n",
    "df = load_data(path)"
   ]
  },
  {
   "cell_type": "code",
   "execution_count": 53,
   "id": "b56596b5",
   "metadata": {
    "scrolled": true
   },
   "outputs": [],
   "source": [
    "calamity_numbers = [i for i in range(1, 13)]\n",
    "action_taken_categories = {\n",
    "    \"sold\": ([2,3,4,5],1),\n",
    "    \"borrowed\": ([6,7,8],2),\n",
    "    \"migrated\": ([11,12,13],3),\n",
    "    \"off_farm_employment\":([14],4),\n",
    "    \"nothing\":([1],5),\n",
    "    \"food_work_aid\":([9,10],6)\n",
    "}\n",
    "\n",
    "results = {hhid:{\"hhid\":hhid} for hhid in UNIQUE_HHID}\n",
    "for hhid in UNIQUE_HHID:\n",
    "    household = df.loc[df.hhid == hhid]\n",
    "    for n in calamity_numbers:\n",
    "        label = f\"calamity_{n}_\"\n",
    "        relevant_rows = household.loc[household[\"l1_01\"]==n]\n",
    "        total_loss = sum([x for x in relevant_rows[\"l1_05\"] if not np.isnan(x)])\n",
    "        results[hhid][label+\"loss\"] = total_loss if len(relevant_rows) else np.nan\n",
    "        action_taken_label = label+\"action_taken\"\n",
    "        results[hhid][action_taken_label] = np.nan\n",
    "        for action_label, tup in action_taken_categories.items():\n",
    "            nums, idx = tup\n",
    "            action_taken = [x for x in relevant_rows[\"l1_02\"] if x in nums]\n",
    "            if action_taken: \n",
    "                results[hhid][action_taken_label] = idx\n",
    "                break\n",
    "            \n",
    "processed = get_processed_df(results)"
   ]
  },
  {
   "cell_type": "code",
   "execution_count": 54,
   "id": "d74e9faa",
   "metadata": {},
   "outputs": [],
   "source": [
    "PROCESSED_DFS.append(processed)"
   ]
  },
  {
   "cell_type": "code",
   "execution_count": 55,
   "id": "c57f2c9c",
   "metadata": {},
   "outputs": [],
   "source": [
    "for col in processed.columns:\n",
    "    if \"loss\" in col:\n",
    "        variable_types[\"continuous\"].add(col)\n",
    "    elif \"action_taken\" in col:\n",
    "        variable_types[\"discrete_categorical\"].add(col)"
   ]
  },
  {
   "cell_type": "markdown",
   "id": "51d55c4b",
   "metadata": {},
   "source": [
    "## L2: Shocks"
   ]
  },
  {
   "cell_type": "code",
   "execution_count": 56,
   "id": "1275aac5",
   "metadata": {},
   "outputs": [],
   "source": [
    "filename = \"014_mod_l2.dta\"\n",
    "path = DATA_DIR + DATA_SUBDIR + filename\n",
    "df = load_data(path)\n",
    "\n",
    "mapping   = {\"shocks_loss_value\": (\"l2_06\", \"sum\")}\n",
    "processed = apply_mapping(df, mapping)\n",
    "PROCESSED_DFS.append(processed)"
   ]
  },
  {
   "cell_type": "code",
   "execution_count": 57,
   "id": "e9a75659",
   "metadata": {},
   "outputs": [],
   "source": [
    "variable_types[\"continuous\"].add(\"shocks_loss_value\")"
   ]
  },
  {
   "cell_type": "markdown",
   "id": "12c9e7f4",
   "metadata": {},
   "source": [
    "## L3: Positive Economic Events"
   ]
  },
  {
   "cell_type": "code",
   "execution_count": 58,
   "id": "96d24f27",
   "metadata": {},
   "outputs": [],
   "source": [
    "filename = \"015_mod_l3.dta\"\n",
    "path = DATA_DIR + DATA_SUBDIR + filename\n",
    "df = load_data(path)\n",
    "\n",
    "mapping   = {\"positive_events_value\": (\"l3_06\", \"sum\")}\n",
    "processed = apply_mapping(df, mapping)\n",
    "PROCESSED_DFS.append(processed)"
   ]
  },
  {
   "cell_type": "code",
   "execution_count": 59,
   "id": "837716fc",
   "metadata": {},
   "outputs": [],
   "source": [
    "variable_types[\"continuous\"].add(\"positive_events_value\")"
   ]
  },
  {
   "cell_type": "markdown",
   "id": "373b99d5",
   "metadata": {},
   "source": [
    "## M: Agricultural extension"
   ]
  },
  {
   "cell_type": "code",
   "execution_count": 60,
   "id": "5a76eb65",
   "metadata": {},
   "outputs": [],
   "source": [
    "filename = \"017_mod_m.dta\"\n",
    "path = DATA_DIR + DATA_SUBDIR + filename\n",
    "df = load_data(path)"
   ]
  },
  {
   "cell_type": "code",
   "execution_count": 61,
   "id": "370670b9",
   "metadata": {},
   "outputs": [],
   "source": [
    "PROCESSED_DFS.append(df)"
   ]
  },
  {
   "cell_type": "code",
   "execution_count": 62,
   "id": "ab24f4ff",
   "metadata": {},
   "outputs": [],
   "source": [
    "for col in df.columns:\n",
    "    if col == \"m03\":\n",
    "        variable_types[\"discrete_ordered\"].add(col)\n",
    "    else:\n",
    "         variable_types[\"discrete_categorical\"].add(col)"
   ]
  },
  {
   "cell_type": "markdown",
   "id": "c2b64275",
   "metadata": {},
   "source": [
    "## Q: Perceptions of Climate Change"
   ]
  },
  {
   "cell_type": "code",
   "execution_count": 63,
   "id": "3440463b",
   "metadata": {},
   "outputs": [],
   "source": [
    "filename = \"018_mod_q.dta\"\n",
    "path = DATA_DIR + DATA_SUBDIR + filename\n",
    "df = load_data(path)"
   ]
  },
  {
   "cell_type": "code",
   "execution_count": 64,
   "id": "7ba6d237",
   "metadata": {},
   "outputs": [],
   "source": [
    "PROCESSED_DFS.append(df)"
   ]
  },
  {
   "cell_type": "code",
   "execution_count": 65,
   "id": "85e3a80b",
   "metadata": {},
   "outputs": [],
   "source": [
    "for col in df.columns:\n",
    "    variable_types[\"discrete_categorical\"].add(col)"
   ]
  },
  {
   "cell_type": "markdown",
   "id": "7410441d",
   "metadata": {},
   "source": [
    "## O: Changes in farming practices due to climate change"
   ]
  },
  {
   "cell_type": "code",
   "execution_count": 66,
   "id": "787e5f62",
   "metadata": {},
   "outputs": [],
   "source": [
    "filename = \"019_mod_o.dta\"\n",
    "path = DATA_DIR + DATA_SUBDIR + filename\n",
    "df = load_data(path)"
   ]
  },
  {
   "cell_type": "code",
   "execution_count": 67,
   "id": "eec377b5",
   "metadata": {
    "scrolled": true
   },
   "outputs": [],
   "source": [
    "keep = [\"hhid\", \"o01\"] + [\"o0\"+str(i)+\"_1\" for i in range(2, 9)] + [\"o09\"] + \\\n",
    "       [\"o\"+str(i) for i in range(10, 23)] + [\"o\"+str(i)+\"_1\" for i in range(23, 29)] + [\"o29\"]\n",
    "\n",
    "processed = column_selection(df, keep=keep)\n",
    "\n",
    "change_categories = {\n",
    "    \"change_production_methods\": [\"o02_1\", \"o03_1\", \"o07_1\", \"o08_1\", \"o18\", \"o19\"],\n",
    "    \"change_crop_consumption\": [\"o06_1\"],\n",
    "    \"change_land\": [\"o04_1\", \"o05_1\", \"o09\", \"o13\", \"o14\", \"o15\", \"o16\"],\n",
    "    \"change_water_harvesting\": [\"o10\", \"o11\", \"o12\"],\n",
    "    \"change_insurance\": [\"o17\"],\n",
    "    \"change_off_farm_employment\": [\"o20\"],\n",
    "    \"change_migration\": [\"o21\"],\n",
    "    \"change_communal_storage\": [\"o22\"],\n",
    "    \"change_planting_dates\":[\"o23_1\", \"o24_1\", \"o25_1\"],\n",
    "    \"change_fertilizer\":[\"o26_1\", \"o27_1\", \"o28_1\"],\n",
    "    \"change_other\":[\"o29\"]\n",
    "}\n",
    "\n",
    "results = {hhid:{\"hhid\":hhid} for hhid in UNIQUE_HHID}\n",
    "for hhid in UNIQUE_HHID:\n",
    "    household = processed.loc[processed.hhid==hhid]\n",
    "    \n",
    "    # there is an entry for the household, and they haven't made any changes\n",
    "    if len(household) and household[\"o01\"].iloc[0] == 2:\n",
    "        for category in change_categories:\n",
    "            results[hhid][category] = 0\n",
    "        continue\n",
    "        \n",
    "    # no entry for household\n",
    "    elif not len(household):\n",
    "        for category in change_categories:\n",
    "            results[hhid][category] = np.nan\n",
    "        continue\n",
    "    \n",
    "    for category, cols in change_categories.items():\n",
    "        row = household[cols]\n",
    "        if len(row):\n",
    "            bools = [x for x in row.iloc[0] if not np.isnan(x)]\n",
    "            results[hhid][category] = int(1 in bools) if len(bools) else np.nan\n",
    "                \n",
    "processed = get_processed_df(results)"
   ]
  },
  {
   "cell_type": "code",
   "execution_count": 68,
   "id": "8714c6f9",
   "metadata": {},
   "outputs": [],
   "source": [
    "PROCESSED_DFS.append(processed)\n",
    "ADAPTATION_DFS.append(processed)"
   ]
  },
  {
   "cell_type": "code",
   "execution_count": 69,
   "id": "d842bad9",
   "metadata": {},
   "outputs": [],
   "source": [
    "for col in processed.columns:\n",
    "    variable_types[\"discrete_categorical\"].add(col)"
   ]
  },
  {
   "cell_type": "markdown",
   "id": "27695b5a",
   "metadata": {},
   "source": [
    "## O1: Any integration about Livestock/Poultry"
   ]
  },
  {
   "cell_type": "code",
   "execution_count": 70,
   "id": "ec6942fb",
   "metadata": {},
   "outputs": [],
   "source": [
    "filename = \"020_mod_o1.dta\"\n",
    "path = DATA_DIR + DATA_SUBDIR + filename\n",
    "df = load_data(path)"
   ]
  },
  {
   "cell_type": "code",
   "execution_count": 71,
   "id": "76782496",
   "metadata": {},
   "outputs": [],
   "source": [
    "keep = [\"hhid\"] + [\"o1_01_\"+str(i) for i in range(1, 10)]\n",
    "processed = column_selection(df, keep=keep)\n",
    "\n",
    "results = {hhid:{\"hhid\":hhid} for hhid in UNIQUE_HHID}\n",
    "for hhid in UNIQUE_HHID:\n",
    "    household = processed.loc[processed.hhid==hhid]\n",
    "    if not len(household):\n",
    "        results[hhid][\"livestock_poultry_change\"] = np.nan\n",
    "    else:\n",
    "        vals = [x for x in list(household.iloc[0][1:]) if not np.isnan(x)]\n",
    "        results[hhid][\"livestock_poultry_change\"] = int(1 in vals)\n",
    "\n",
    "processed = get_processed_df(results)"
   ]
  },
  {
   "cell_type": "code",
   "execution_count": 72,
   "id": "3f8edb14",
   "metadata": {},
   "outputs": [],
   "source": [
    "PROCESSED_DFS.append(processed)\n",
    "ADAPTATION_DFS.append(processed)"
   ]
  },
  {
   "cell_type": "code",
   "execution_count": 73,
   "id": "138d0cca",
   "metadata": {},
   "outputs": [],
   "source": [
    "variable_types[\"discrete_categorical\"].add(\"livestock_poultry_change\")"
   ]
  },
  {
   "cell_type": "markdown",
   "id": "b88b84ff",
   "metadata": {},
   "source": [
    "## O2: Constraints to adaptation"
   ]
  },
  {
   "cell_type": "code",
   "execution_count": 74,
   "id": "89cf12ed",
   "metadata": {},
   "outputs": [],
   "source": [
    "filename = \"021_mod_o2.dta\"\n",
    "path = DATA_DIR + DATA_SUBDIR + filename\n",
    "df = load_data(path)"
   ]
  },
  {
   "cell_type": "code",
   "execution_count": 75,
   "id": "40546417",
   "metadata": {},
   "outputs": [],
   "source": [
    "constraint_codes = np.arange(1,10)\n",
    "\n",
    "results = {hhid:{\"hhid\":hhid} for hhid in UNIQUE_HHID}\n",
    "for hhid in UNIQUE_HHID:\n",
    "    household = df.loc[df.hhid==hhid]\n",
    "    for _, row in household.iterrows():\n",
    "        severity    = [x for x in row[[\"o2_03_1\", \"o2_03_2\", \"o2_03_3\", \"o2_03_4\", \"o2_03_5\"]]]\n",
    "        constraints = [x for x in row[[\"o2_02_1\", \"o2_02_2\", \"o2_02_3\", \"o2_02_4\", \"o2_02_5\"]]]\n",
    "        for i in range(len(constraints)):\n",
    "            c = constraints[i]\n",
    "            s = severity[i]            \n",
    "            if np.isnan(c) or np.isnan(s):\n",
    "                continue\n",
    "            c = int(c)\n",
    "            label = f\"constraint_{c}_total_severity\"\n",
    "            if label not in results[hhid]:\n",
    "                results[hhid][label] = [s]\n",
    "            else:\n",
    "                results[hhid][label].append(s)\n",
    "                \n",
    "    for code in constraint_codes:\n",
    "        label = f\"constraint_{code}_total_severity\"\n",
    "        if label not in results[hhid]:\n",
    "            results[hhid][label] = np.nan\n",
    "        else:\n",
    "            results[hhid][label] = np.mean(results[hhid][label])\n",
    "        \n",
    "processed = get_processed_df(results)"
   ]
  },
  {
   "cell_type": "code",
   "execution_count": 76,
   "id": "4ef069b0",
   "metadata": {},
   "outputs": [],
   "source": [
    "PROCESSED_DFS.append(processed)"
   ]
  },
  {
   "cell_type": "code",
   "execution_count": 77,
   "id": "4e9da92b",
   "metadata": {},
   "outputs": [],
   "source": [
    "for col in processed.columns:\n",
    "    variable_types[\"continuous\"].add(col)"
   ]
  },
  {
   "cell_type": "markdown",
   "id": "87591cba",
   "metadata": {},
   "source": [
    "## R1: Information of group based approach"
   ]
  },
  {
   "cell_type": "code",
   "execution_count": 78,
   "id": "fa9458cb",
   "metadata": {},
   "outputs": [],
   "source": [
    "filename = \"022_mod_r1.dta\"\n",
    "path = DATA_DIR + DATA_SUBDIR + filename\n",
    "df = load_data(path)"
   ]
  },
  {
   "cell_type": "code",
   "execution_count": 79,
   "id": "cdc85d37",
   "metadata": {
    "scrolled": true
   },
   "outputs": [],
   "source": [
    "group_categories = {\n",
    "    \"group_membership_farming\":[1, 13],\n",
    "    \"group_membership_trading\":[2],\n",
    "    \"group_membership_religion\":[3],\n",
    "    \"group_membership_women\":[4],\n",
    "    \"group_membership_NGO\":[5,11,15],\n",
    "    \"group_membership_credit\":[6],\n",
    "    \"group_membership_community\":[7,16,17],\n",
    "    \"group_membership_cultural\":[8,10],\n",
    "    \"group_membership_political\":[9],\n",
    "    \"group_membership_health\":[12],\n",
    "    \"group_membership_sports\":[14],\n",
    "    \"group_membership_other\":[18]\n",
    "}\n",
    "\n",
    "results = {hhid:{\"hhid\":hhid} for hhid in UNIQUE_HHID}\n",
    "for hhid in UNIQUE_HHID:\n",
    "    household = df.loc[df.hhid==hhid]\n",
    "    \n",
    "    # there is an entry for the household, and nobody belongs to a group\n",
    "    if len(household) == 1 and household[\"r01\"].iloc[0] == 2:\n",
    "        for categ in group_categories:\n",
    "            results[hhid][categ] = 0\n",
    "        continue\n",
    "    \n",
    "    # no entry for household\n",
    "    elif not len(household):\n",
    "        for categ in group_categories:\n",
    "            results[hhid][categ] = np.nan\n",
    "        continue\n",
    "        \n",
    "    for categ, codes in group_categories.items():\n",
    "        # get rows matching the group codes    \n",
    "        rows = household.loc[household[\"r1_01\"].isin(codes)]\n",
    "        # (TODO) assume no membership if group codes do not appear at all\n",
    "        if not len(rows):\n",
    "            results[hhid][categ] = 0\n",
    "        else:\n",
    "            membership = [x for x in list(rows[\"r1_02\"]) if not np.isnan(x)]\n",
    "            results[hhid][categ] = int(1 in membership) if len(membership) else np.nan\n",
    "            \n",
    "processed = get_processed_df(results)"
   ]
  },
  {
   "cell_type": "code",
   "execution_count": 80,
   "id": "1751fd06",
   "metadata": {},
   "outputs": [],
   "source": [
    "PROCESSED_DFS.append(processed)"
   ]
  },
  {
   "cell_type": "code",
   "execution_count": 81,
   "id": "aa17ffdf",
   "metadata": {},
   "outputs": [],
   "source": [
    "for col in processed.columns:\n",
    "    variable_types[\"discrete_categorical\"].add(col)"
   ]
  },
  {
   "cell_type": "markdown",
   "id": "d929dfe5",
   "metadata": {},
   "source": [
    "## R2: Group activity related information"
   ]
  },
  {
   "cell_type": "code",
   "execution_count": 82,
   "id": "e38fbcfd",
   "metadata": {},
   "outputs": [],
   "source": [
    "filename = \"023_mod_r2.dta\"\n",
    "path = DATA_DIR + DATA_SUBDIR + filename\n",
    "df = load_data(path)"
   ]
  },
  {
   "cell_type": "code",
   "execution_count": 83,
   "id": "f1949d1a",
   "metadata": {},
   "outputs": [],
   "source": [
    "# a few duplicate rows found in this data file...\n",
    "duplicates = []\n",
    "for hhid in df[\"hhid\"].unique():\n",
    "    if len(df.loc[df.hhid==hhid]) > 1:\n",
    "        duplicates.append(hhid)\n",
    "    \n",
    "drop_indices = []\n",
    "for d in duplicates:\n",
    "    drop_indices.append(list(df.loc[df.hhid==d].index)[0])\n",
    "\n",
    "df = df.drop(drop_indices)"
   ]
  },
  {
   "cell_type": "code",
   "execution_count": 84,
   "id": "4a516f4d",
   "metadata": {},
   "outputs": [],
   "source": [
    "keep = [\"hhid\"] + [f\"r2_15_{i}\" for i in range(1,5)] + [f\"r2_16_{i}\" for i in range(1,5)]\n",
    "for j in range(17, 24):\n",
    "    keep += [f\"r2_{j}_{i}_1\" for i in range(1,5)]\n",
    "    \n",
    "processed = column_selection(df, keep=keep)\n",
    "PROCESSED_DFS.append(processed)"
   ]
  },
  {
   "cell_type": "code",
   "execution_count": 85,
   "id": "3dfdb059",
   "metadata": {},
   "outputs": [],
   "source": [
    "for col in processed.columns:\n",
    "    variable_types[\"discrete_categorical\"].add(col)"
   ]
  },
  {
   "cell_type": "markdown",
   "id": "d69b273d",
   "metadata": {},
   "source": [
    "## R3: Network"
   ]
  },
  {
   "cell_type": "code",
   "execution_count": 86,
   "id": "29935429",
   "metadata": {},
   "outputs": [],
   "source": [
    "filename = \"024_mod_r3.dta\"\n",
    "path = DATA_DIR + DATA_SUBDIR + filename\n",
    "df = load_data(path)"
   ]
  },
  {
   "cell_type": "code",
   "execution_count": 87,
   "id": "ff88ded7",
   "metadata": {},
   "outputs": [],
   "source": [
    "processed = column_selection(df, remove=[\"r3_01_1\", \"r3_01_2\"])"
   ]
  },
  {
   "cell_type": "code",
   "execution_count": 88,
   "id": "38ab74cb",
   "metadata": {},
   "outputs": [],
   "source": [
    "PROCESSED_DFS.append(processed)"
   ]
  },
  {
   "cell_type": "code",
   "execution_count": 89,
   "id": "1b144246",
   "metadata": {},
   "outputs": [],
   "source": [
    "variable_types[\"discrete_ordered\"].update({\"r3_02_1\", \"r3_02_2\", \n",
    "                                           \"r3_03_1\", \"r3_03_2\",\n",
    "                                           \"r3_04_1\", \"r3_04_2\",\n",
    "                                           \"r3_07_1\", \"r3_07_2\",\n",
    "                                           \"r3_06_1\", \"r3_06_2\"})\n",
    "\n",
    "variable_types[\"discrete_categorical\"].update({\"r3_05_1\", \"r3_05_2\"})"
   ]
  },
  {
   "cell_type": "markdown",
   "id": "fd129916",
   "metadata": {},
   "source": [
    "## R4: Trust and Solidarity"
   ]
  },
  {
   "cell_type": "code",
   "execution_count": 90,
   "id": "29e7085e",
   "metadata": {},
   "outputs": [],
   "source": [
    "filename = \"025_mod_r4.dta\"\n",
    "path = DATA_DIR + DATA_SUBDIR + filename\n",
    "df = load_data(path)"
   ]
  },
  {
   "cell_type": "code",
   "execution_count": 91,
   "id": "08171963",
   "metadata": {},
   "outputs": [],
   "source": [
    "processed = column_selection(df, remove=[\"r4_01_1\", \"r4_01_2\"])"
   ]
  },
  {
   "cell_type": "code",
   "execution_count": 92,
   "id": "55b7459e",
   "metadata": {},
   "outputs": [],
   "source": [
    "PROCESSED_DFS.append(processed)"
   ]
  },
  {
   "cell_type": "code",
   "execution_count": 93,
   "id": "5c273228",
   "metadata": {},
   "outputs": [],
   "source": [
    "for col in processed.columns:\n",
    "    if \"r4_04\" in col or \"r4_03\" in col:\n",
    "        variable_types[\"discrete_ordered\"].add(col)\n",
    "    else:\n",
    "        variable_types[\"discrete_categorical\"].add(col)"
   ]
  },
  {
   "cell_type": "markdown",
   "id": "aee9de2b",
   "metadata": {},
   "source": [
    "## R5: Economic setbacks"
   ]
  },
  {
   "cell_type": "code",
   "execution_count": 94,
   "id": "c5baf478",
   "metadata": {},
   "outputs": [],
   "source": [
    "# filename = \"026_mod_r5.dta\"\n",
    "# path = DATA_DIR + DATA_SUBDIR + filename\n",
    "# df = load_data(path)\n",
    "# results = {hhid:{\"hhid\":hhid} for hhid in UNIQUE_HHID}\n",
    "# for hhid in UNIQUE_HHID:\n",
    "#     household = df.loc[df.hhid==hhid]\n",
    "#     results[hhid][\"serious_economic_setback\"] = 1 if 1 in list(household[\"r5\"]) else 0\n",
    "# processed = get_processed_df(results)\n",
    "# PROCESSED_DFS.append(processed)"
   ]
  },
  {
   "cell_type": "markdown",
   "id": "a218fac9",
   "metadata": {},
   "source": [
    "## R6: Collective Action and Cooperation and Sociability"
   ]
  },
  {
   "cell_type": "code",
   "execution_count": 95,
   "id": "cead9679",
   "metadata": {},
   "outputs": [],
   "source": [
    "filename = \"027_mod_r6.dta\"\n",
    "path = DATA_DIR + DATA_SUBDIR + filename\n",
    "df = load_data(path)"
   ]
  },
  {
   "cell_type": "code",
   "execution_count": 96,
   "id": "195f73a9",
   "metadata": {},
   "outputs": [],
   "source": [
    "processed = column_selection(df, remove=[\"r6_01_1\", \"r6_01_2\"])"
   ]
  },
  {
   "cell_type": "code",
   "execution_count": 97,
   "id": "3ceeaa53",
   "metadata": {},
   "outputs": [],
   "source": [
    "PROCESSED_DFS.append(processed)"
   ]
  },
  {
   "cell_type": "code",
   "execution_count": 98,
   "id": "61ac2233",
   "metadata": {},
   "outputs": [],
   "source": [
    "for col in processed.columns:\n",
    "    if \"r6_05\" in col or \"r6_06\" in col or \"r6_07\" in col or \"r6_08\" in col:\n",
    "        variable_types[\"discrete_ordered\"].add(col)\n",
    "    else:\n",
    "        variable_types[\"discrete_categorical\"].add(col)"
   ]
  },
  {
   "cell_type": "markdown",
   "id": "0529a1c0",
   "metadata": {},
   "source": [
    "## R7: Information and Communication"
   ]
  },
  {
   "cell_type": "code",
   "execution_count": 99,
   "id": "e6b3745d",
   "metadata": {},
   "outputs": [],
   "source": [
    "filename = \"028_mod_r7.dta\"\n",
    "path = DATA_DIR + DATA_SUBDIR + filename\n",
    "df = load_data(path)"
   ]
  },
  {
   "cell_type": "code",
   "execution_count": 100,
   "id": "92099c83",
   "metadata": {},
   "outputs": [],
   "source": [
    "PROCESSED_DFS.append(df)"
   ]
  },
  {
   "cell_type": "code",
   "execution_count": 101,
   "id": "f740a90a",
   "metadata": {},
   "outputs": [],
   "source": [
    "for col in df.columns:\n",
    "    if \"r7_01\" in col or \"r7_02\" in col or \"r7_03\" in col or \"r7_04\" in col or \"r7_05\" in col or \"r7_08\" in col:\n",
    "        variable_types[\"discrete_ordered\"].add(col)\n",
    "    else:\n",
    "        variable_types[\"discrete_categorical\"].add(col)"
   ]
  },
  {
   "cell_type": "markdown",
   "id": "37ae414a",
   "metadata": {},
   "source": [
    "## R8: Production and climate Information"
   ]
  },
  {
   "cell_type": "code",
   "execution_count": 102,
   "id": "2bb0baf2",
   "metadata": {},
   "outputs": [],
   "source": [
    "# filename = \"029_mod_r8.dta\"\n",
    "# path = DATA_DIR + DATA_SUBDIR + filename\n",
    "# df = load_data(path)\n",
    "# keep = [\"hhid\", \"r8_02_1\", \"r8_02_2\", \"r8_06_1\", \"r8_06_2\", \"r8_14_1\", \"r8_14_2\"]\n",
    "# processed = column_selection(df, keep=keep)\n",
    "# PROCESSED_DFS.append(processed)"
   ]
  },
  {
   "cell_type": "markdown",
   "id": "de4b1964",
   "metadata": {},
   "source": [
    "## R9: Production and climate Information"
   ]
  },
  {
   "cell_type": "code",
   "execution_count": 103,
   "id": "3f5262b7",
   "metadata": {},
   "outputs": [],
   "source": [
    "# filename = \"030_mod_r9.dta\"\n",
    "# path = DATA_DIR + DATA_SUBDIR + filename\n",
    "# df = load_data(path)\n",
    "# keep = [\"hhid\", \"r9_02_1\", \"r9_02_2\", \"r9_09_1\", \"r9_09_2\"]\n",
    "# processed = column_selection(df, keep=keep)\n",
    "# PROCESSED_DFS.append(processed)"
   ]
  },
  {
   "cell_type": "markdown",
   "id": "bac5374a",
   "metadata": {},
   "source": [
    "## S: Empowerment and Political Action"
   ]
  },
  {
   "cell_type": "code",
   "execution_count": 104,
   "id": "14fccda9",
   "metadata": {},
   "outputs": [],
   "source": [
    "filename = \"031_mod_s.dta\"\n",
    "path = DATA_DIR + DATA_SUBDIR + filename\n",
    "df = load_data(path)"
   ]
  },
  {
   "cell_type": "code",
   "execution_count": 105,
   "id": "90ea493c",
   "metadata": {},
   "outputs": [],
   "source": [
    "processed = column_selection(df, remove=[\"s_01_1\", \"s_01_2\"])"
   ]
  },
  {
   "cell_type": "code",
   "execution_count": 106,
   "id": "661cb9cc",
   "metadata": {},
   "outputs": [],
   "source": [
    "PROCESSED_DFS.append(processed)"
   ]
  },
  {
   "cell_type": "code",
   "execution_count": 107,
   "id": "62a7ef5c",
   "metadata": {},
   "outputs": [],
   "source": [
    "for col in processed.columns:\n",
    "    if \"s_02\" in col or \"s_03\" in col or \"s_04\" in col or \"s_05\" in col or \"s_09\" in col:\n",
    "        variable_types[\"discrete_ordered\"].add(col)\n",
    "    else:\n",
    "        variable_types[\"discrete_categorical\"].add(col)"
   ]
  },
  {
   "cell_type": "markdown",
   "id": "c12b81f3",
   "metadata": {},
   "source": [
    "## T: Employment"
   ]
  },
  {
   "cell_type": "code",
   "execution_count": 108,
   "id": "36db9901",
   "metadata": {},
   "outputs": [],
   "source": [
    "filename = \"032_mod_t.dta\"\n",
    "path = DATA_DIR + DATA_SUBDIR + filename\n",
    "df = load_data(path)"
   ]
  },
  {
   "cell_type": "code",
   "execution_count": 109,
   "id": "8651a8ef",
   "metadata": {},
   "outputs": [],
   "source": [
    "job_categories = {\n",
    "    \"job_wage_labor\":np.arange(1,12),\n",
    "    \"job_salaried_worker\":np.arange(12,22),\n",
    "    \"job_self_employment\":np.arange(22,48),\n",
    "    \"job_trader\":np.arange(50,55),\n",
    "    \"job_production\":np.arange(55,58),\n",
    "    \"job_livestock_poultry_service\":np.arange(58,64),\n",
    "    \"job_farming\":np.arange(64,73)\n",
    "}\n",
    "\n",
    "results = {hhid:{\"hhid\":hhid} for hhid in UNIQUE_HHID}\n",
    "for hhid in UNIQUE_HHID:\n",
    "    household = df.loc[df.hhid==hhid]\n",
    "    relevant = list(household[\"t05\"])\n",
    "    for c, numbers in job_categories.items():\n",
    "        results[hhid][c] = 0\n",
    "        for n in numbers:\n",
    "            if n in relevant:\n",
    "                results[hhid][c] += 1\n",
    "    monthly_incomes = [x for x in household[\"t14\"] if not np.isnan(x)]\n",
    "    results[hhid][\"avergage_monthly_income\"] = sum(monthly_incomes) if len(monthly_incomes) else np.nan\n",
    "            \n",
    "processed = get_processed_df(results)"
   ]
  },
  {
   "cell_type": "code",
   "execution_count": 110,
   "id": "f2e633e0",
   "metadata": {},
   "outputs": [],
   "source": [
    "PROCESSED_DFS.append(processed)"
   ]
  },
  {
   "cell_type": "code",
   "execution_count": 111,
   "id": "ae1e36ea",
   "metadata": {},
   "outputs": [],
   "source": [
    "for col in processed.columns:\n",
    "    if \"job_\" in col:\n",
    "        variable_types[\"discrete_categorical\"].add(col)\n",
    "    else:\n",
    "        variable_types[\"continuous\"].add(col)"
   ]
  },
  {
   "cell_type": "markdown",
   "id": "6d8cebe1",
   "metadata": {},
   "source": [
    "## U: Time use of male and female members in the household"
   ]
  },
  {
   "cell_type": "code",
   "execution_count": 112,
   "id": "6978fa93",
   "metadata": {},
   "outputs": [],
   "source": [
    "# discard"
   ]
  },
  {
   "cell_type": "markdown",
   "id": "c7b4902c",
   "metadata": {},
   "source": [
    "## V: Anthropometry"
   ]
  },
  {
   "cell_type": "code",
   "execution_count": 113,
   "id": "cde7b481",
   "metadata": {},
   "outputs": [],
   "source": [
    "# discard"
   ]
  },
  {
   "cell_type": "markdown",
   "id": "254846ed",
   "metadata": {},
   "source": [
    "# Combine processed dataframes"
   ]
  },
  {
   "cell_type": "code",
   "execution_count": 114,
   "id": "a9c5248e",
   "metadata": {},
   "outputs": [],
   "source": [
    "# mind the treatment of MISSING VALUES!\n",
    "    # do we really want to impute \"0\" when no information is present?\n",
    "    # just leave as empty\n",
    "        # then if we see a household with many empty fields, or a feature with mostly empty values,\n",
    "        # we remove it"
   ]
  },
  {
   "cell_type": "code",
   "execution_count": 142,
   "id": "17b14013",
   "metadata": {
    "scrolled": true
   },
   "outputs": [],
   "source": [
    "# add missing household ids\n",
    "all_hhids_present = []\n",
    "for idx, df in enumerate(PROCESSED_DFS):\n",
    "    df[\"hhid\"] = np.round(df[\"hhid\"].astype(np.float64), 1)\n",
    "    if len(df[\"hhid\"].unique()) != len(UNIQUE_HHID):\n",
    "        all_hhids_present.append(add_missing_hhids(df))\n",
    "    else:\n",
    "        all_hhids_present.append(df)\n",
    "\n",
    "# sanity check\n",
    "for df in all_hhids_present:\n",
    "    hids = df[\"hhid\"].unique()\n",
    "    for h in hids:\n",
    "        assert h in UNIQUE_HHID\n",
    "    for h in UNIQUE_HHID:\n",
    "        assert h in hids\n",
    "        \n",
    "# merge all dataframes\n",
    "df = all_hhids_present[0]\n",
    "for df1 in all_hhids_present[1:]:\n",
    "    df = df.merge(df1, on=\"hhid\", how=\"inner\")\n",
    "assert df.shape[0] == len(UNIQUE_HHID)"
   ]
  },
  {
   "cell_type": "code",
   "execution_count": 143,
   "id": "5530205c",
   "metadata": {},
   "outputs": [],
   "source": [
    "# drop some features \n",
    "for col in df.columns:\n",
    "    prop_nan = sum(df[col].isnull()) / len(df)\n",
    "    if len(df[col].unique()) == 1 or prop_nan > 0.9:\n",
    "        variable_types[\"continuous\"].discard(col)\n",
    "        variable_types[\"discrete_categorical\"].discard(col)\n",
    "        variable_types[\"discrete_ordered\"].discard(col)\n",
    "        df.drop(col, inplace=True, axis=1)\n",
    "        \n",
    "# drop some rows \n",
    "df = df.dropna(axis=0, how='any', thresh=int(0.1*df.shape[1]), subset=None, inplace=False)"
   ]
  },
  {
   "cell_type": "code",
   "execution_count": 145,
   "id": "1979594a",
   "metadata": {},
   "outputs": [
    {
     "data": {
      "image/png": "[encoded data removed]",
      "text/plain": [
       "<Figure size 600x500 with 1 Axes>"
      ]
     },
     "metadata": {},
     "output_type": "display_data"
    }
   ],
   "source": [
    "col_nan_counts = {}\n",
    "L = len(df)\n",
    "for col in df.columns:\n",
    "    col_nan_counts[col] = (df[col].isna().sum()) / L\n",
    "\n",
    "plt.hist(col_nan_counts.values(), color=\"dodgerblue\", edgecolor=\"k\", bins=30)\n",
    "plt.xlabel(\"Proportion of missing values per feature\")\n",
    "plt.ylabel(\"Frequency\")\n",
    "plt.show()"
   ]
  },
  {
   "cell_type": "code",
   "execution_count": 160,
   "id": "ede73920",
   "metadata": {
    "scrolled": false
   },
   "outputs": [
    {
     "data": {
      "image/png": "[encoded data removed]",
      "text/plain": [
       "<Figure size 600x500 with 1 Axes>"
      ]
     },
     "metadata": {},
     "output_type": "display_data"
    }
   ],
   "source": [
    "row_nan_counts = {}\n",
    "num_cols = len(df.columns)\n",
    "for hhid in df.hhid:\n",
    "    row = df.loc[df.hhid==hhid]\n",
    "    hhid = list(row[\"hhid\"])[0]\n",
    "    row_nan_counts[hhid] = (row.isna().sum().sum()) / num_cols\n",
    "\n",
    "plt.hist(row_nan_counts.values(), color=\"dodgerblue\", edgecolor=\"k\", bins=30)\n",
    "plt.xlabel(\"Proportion of missing features per household\")\n",
    "plt.ylabel(\"Frequency\")\n",
    "plt.show()"
   ]
  },
  {
   "cell_type": "code",
   "execution_count": 203,
   "id": "037c8a9a",
   "metadata": {
    "collapsed": true
   },
   "outputs": [
    {
     "name": "stdout",
     "output_type": "stream",
     "text": [
      "hhid\n",
      "ezcode\n",
      "community_code\n",
      "household_size\n",
      "ratio_male\n",
      "ratio_male_children\n",
      "highest_education\n",
      "highest_literacy\n",
      "total_land_value_per_month\n",
      "plot_type\n",
      "soil_type\n",
      "land_operational_status\n",
      "land_acquisition_means\n",
      "count_2011\n",
      "value_2011\n",
      "count_now\n",
      "value_now\n",
      "total_selling_value\n",
      "livestock_fodder_value\n",
      "livestock_medication_value\n",
      "credit_personal_capital_total_borrowed\n",
      "credit_personal_capital_total_to_pay\n",
      "credit_natural_capital_total_borrowed\n",
      "credit_natural_capital_total_to_pay\n",
      "value_consumable_durables\n",
      "value_transport\n",
      "value_livestock_poultry\n",
      "value_agricultural_equipments\n",
      "value_other\n",
      "sale_of_assets_value\n",
      "value_food_cereals\n",
      "value_food_pulses\n",
      "value_food_edible_oil\n",
      "value_food_vegetables\n",
      "weight_food_vegetables\n",
      "value_food_leafy_vegetables\n",
      "value_food_meat_eggs_milk\n",
      "weight_food_meat_eggs_milk\n",
      "value_food_fruits\n",
      "weight_food_fruits\n",
      "value_food_fish_large\n",
      "value_food_fish_small\n",
      "value_food_spices\n",
      "value_food_other\n",
      "weight_food_other\n",
      "value_food_drinks\n",
      "weight_food_drinks\n",
      "value_food_other_outside_home\n",
      "j02_1_rent_bills_taxes_fees_expenses\n",
      "j02_2_rent_bills_taxes_fees_expenses\n",
      "j03_1_rent_bills_taxes_fees_expenses_self\n",
      "j02_1_fuel_expenses\n",
      "j03_1_fuel_expenses_self\n",
      "j02_1_transportation_vehicles_expenses\n",
      "j02_1_miscellaneous_expenses\n",
      "j02_2_miscellaneous_expenses\n",
      "j02_1_health_expenses\n",
      "j02_1_communication_expenses\n",
      "j02_1_personal_items_clothing_expenses\n",
      "j02_2_personal_items_clothing_expenses\n",
      "j03_1_personal_items_clothing_expenses_social\n",
      "j03_2_personal_items_clothing_expenses_social\n",
      "j02_1_furniture_household_expenses\n",
      "j02_2_furniture_household_expenses\n",
      "j03_2_furniture_household_expenses_social\n",
      "j02_2_family_events_expenses\n",
      "j02_1_education_expenses\n",
      "j02_2_education_expenses\n",
      "k01\n",
      "k02\n",
      "k03\n",
      "k03_1\n",
      "k04\n",
      "k05\n",
      "k05_1\n",
      "k06\n",
      "k07\n",
      "calamity_2_loss\n",
      "calamity_2_action_taken\n",
      "calamity_3_loss\n",
      "calamity_3_action_taken\n",
      "shocks_loss_value\n",
      "positive_events_value\n",
      "m01\n",
      "m02_1\n",
      "m02_2\n",
      "m03\n",
      "m04_1\n",
      "m05\n",
      "m06_1\n",
      "m06_2\n",
      "m06_3\n",
      "m07\n",
      "m08_1\n",
      "m08_2\n",
      "m08_3\n",
      "m09\n",
      "m10\n",
      "m11_1\n",
      "m11_2\n",
      "m11_3\n",
      "q01_1\n",
      "q01_2\n",
      "q01_3\n",
      "q02\n",
      "q03\n",
      "q04\n",
      "q05_1\n",
      "q05_2\n",
      "q05_3\n",
      "q06\n",
      "q07_1\n",
      "q07_2\n",
      "q07_3\n",
      "change_production_methods\n",
      "change_crop_consumption\n",
      "change_land\n",
      "change_water_harvesting\n",
      "change_insurance\n",
      "change_off_farm_employment\n",
      "change_migration\n",
      "change_communal_storage\n",
      "change_planting_dates\n",
      "change_fertilizer\n",
      "change_other\n",
      "livestock_poultry_change\n",
      "constraint_3_total_severity\n",
      "constraint_7_total_severity\n",
      "constraint_8_total_severity\n",
      "constraint_4_total_severity\n",
      "constraint_9_total_severity\n",
      "constraint_1_total_severity\n",
      "constraint_2_total_severity\n",
      "constraint_5_total_severity\n",
      "constraint_6_total_severity\n",
      "group_membership_farming\n",
      "group_membership_trading\n",
      "group_membership_religion\n",
      "group_membership_women\n",
      "group_membership_NGO\n",
      "group_membership_credit\n",
      "group_membership_community\n",
      "group_membership_cultural\n",
      "group_membership_political\n",
      "group_membership_health\n",
      "group_membership_sports\n",
      "group_membership_other\n",
      "r2_15_1\n",
      "r2_15_2\n",
      "r2_15_3\n",
      "r2_16_1\n",
      "r2_16_2\n",
      "r2_16_3\n",
      "r2_17_1_1\n",
      "r2_17_2_1\n",
      "r2_17_3_1\n",
      "r2_18_1_1\n",
      "r2_18_2_1\n",
      "r2_18_3_1\n",
      "r2_19_1_1\n",
      "r2_19_2_1\n",
      "r2_19_3_1\n",
      "r2_20_1_1\n",
      "r2_20_2_1\n",
      "r2_20_3_1\n",
      "r2_21_1_1\n",
      "r2_21_2_1\n",
      "r2_21_3_1\n",
      "r2_22_1_1\n",
      "r2_22_2_1\n",
      "r2_22_3_1\n",
      "r2_23_1_1\n",
      "r2_23_2_1\n",
      "r2_23_3_1\n",
      "r3_02_1\n",
      "r3_03_1\n",
      "r3_04_1\n",
      "r3_05_1\n",
      "r3_06_1\n",
      "r3_07_1\n",
      "r3_02_2\n",
      "r3_03_2\n",
      "r3_04_2\n",
      "r3_05_2\n",
      "r3_06_2\n",
      "r3_07_2\n",
      "r4_02_1\n",
      "r4_03_1\n",
      "r4_04_1_1\n",
      "r4_04_1_2\n",
      "r4_04_1_3\n",
      "r4_04_1_4\n",
      "r4_04_1_5\n",
      "r4_04_1_6\n",
      "r4_04_1_7\n",
      "r4_04_1_8\n",
      "r4_04_1_9\n",
      "r4_05_1\n",
      "r4_02_2\n",
      "r4_03_2\n",
      "r4_04_2_1\n",
      "r4_04_2_2\n",
      "r4_04_2_3\n",
      "r4_04_2_4\n",
      "r4_04_2_5\n",
      "r4_04_2_6\n",
      "r4_04_2_7\n",
      "r4_04_2_8\n",
      "r4_04_2_9\n",
      "r4_05_2\n",
      "r6_02_1\n",
      "r6_03_1_1\n",
      "r6_03_1_2\n",
      "r6_03_1_3\n",
      "r6_04_1_1\n",
      "r6_04_1_2\n",
      "r6_05_1\n",
      "r6_06_1\n",
      "r6_07_1\n",
      "r6_08_1\n",
      "r6_02_2\n",
      "r6_03_2_1\n"
     ]
    },
    {
     "ename": "AssertionError",
     "evalue": "",
     "output_type": "error",
     "traceback": [
      "\u001b[0;31m---------------------------------------------------------------------------\u001b[0m",
      "\u001b[0;31mAssertionError\u001b[0m                            Traceback (most recent call last)",
      "\u001b[0;32m<ipython-input-203-c239ca8ea762>\u001b[0m in \u001b[0;36m<module>\u001b[0;34m\u001b[0m\n\u001b[1;32m     23\u001b[0m \u001b[0;32mif\u001b[0m \u001b[0;36m2\u001b[0m \u001b[0;32min\u001b[0m \u001b[0mcounts\u001b[0m\u001b[0;34m.\u001b[0m\u001b[0mvalues\u001b[0m\u001b[0;34m(\u001b[0m\u001b[0;34m)\u001b[0m\u001b[0;34m:\u001b[0m\u001b[0;34m\u001b[0m\u001b[0;34m\u001b[0m\u001b[0m\n\u001b[1;32m     24\u001b[0m     \u001b[0mprint\u001b[0m\u001b[0;34m(\u001b[0m\u001b[0;34m\"Counting error!\"\u001b[0m\u001b[0;34m)\u001b[0m\u001b[0;34m\u001b[0m\u001b[0;34m\u001b[0m\u001b[0m\n\u001b[0;32m---> 25\u001b[0;31m \u001b[0;32massert\u001b[0m \u001b[0mlen\u001b[0m\u001b[0;34m(\u001b[0m\u001b[0mcounts\u001b[0m\u001b[0;34m)\u001b[0m \u001b[0;34m==\u001b[0m \u001b[0mlen\u001b[0m\u001b[0;34m(\u001b[0m\u001b[0mdf\u001b[0m\u001b[0;34m.\u001b[0m\u001b[0mcolumns\u001b[0m\u001b[0;34m)\u001b[0m\u001b[0;34m\u001b[0m\u001b[0;34m\u001b[0m\u001b[0m\n\u001b[0m",
      "\u001b[0;31mAssertionError\u001b[0m: "
     ]
    }
   ],
   "source": [
    "# sanity check: variable types\n",
    "for col in df.columns:\n",
    "    if not (col in variable_types[\"discrete_ordered\"] or \n",
    "            col in variable_types[\"discrete_categorical\"] or\n",
    "            col in variable_types[\"continuous\"]):\n",
    "        print(col)\n",
    "        \n",
    "for t, cols in variable_types.items():\n",
    "    for c in cols:\n",
    "        if c not in df.columns:\n",
    "            print(c)\n",
    "\n",
    "variable_types[\"discrete_ordered\"].discard(\"hhid\")\n",
    "variable_types[\"continuous\"].discard(\"hhid\")\n",
    "\n",
    "# sanity check: all features present once\n",
    "counts = []\n",
    "for t, cols in variable_types.items():\n",
    "    for c in cols:\n",
    "        counts.append(c)\n",
    "        \n",
    "counts = Counter(counts)\n",
    "if 2 in counts.values():\n",
    "    print(\"Counting error!\")\n",
    "assert len(counts) == len(df.columns)"
   ]
  },
  {
   "cell_type": "code",
   "execution_count": 206,
   "id": "aa72e3f4",
   "metadata": {
    "scrolled": false
   },
   "outputs": [
    {
     "data": {
      "text/plain": [
       "['hhid',\n",
       " 'ezcode',\n",
       " 'community_code',\n",
       " 'household_size',\n",
       " 'ratio_male',\n",
       " 'ratio_male_children',\n",
       " 'highest_education',\n",
       " 'highest_literacy',\n",
       " 'total_land_value_per_month',\n",
       " 'plot_type',\n",
       " 'soil_type',\n",
       " 'land_operational_status',\n",
       " 'land_acquisition_means',\n",
       " 'count_2011',\n",
       " 'value_2011',\n",
       " 'count_now',\n",
       " 'value_now',\n",
       " 'total_selling_value',\n",
       " 'livestock_fodder_value',\n",
       " 'livestock_medication_value',\n",
       " 'credit_personal_capital_total_borrowed',\n",
       " 'credit_personal_capital_total_to_pay',\n",
       " 'credit_natural_capital_total_borrowed',\n",
       " 'credit_natural_capital_total_to_pay',\n",
       " 'value_consumable_durables',\n",
       " 'value_transport',\n",
       " 'value_livestock_poultry',\n",
       " 'value_agricultural_equipments',\n",
       " 'value_other',\n",
       " 'sale_of_assets_value',\n",
       " 'value_food_cereals',\n",
       " 'value_food_pulses',\n",
       " 'value_food_edible_oil',\n",
       " 'value_food_vegetables',\n",
       " 'weight_food_vegetables',\n",
       " 'value_food_leafy_vegetables',\n",
       " 'value_food_meat_eggs_milk',\n",
       " 'weight_food_meat_eggs_milk',\n",
       " 'value_food_fruits',\n",
       " 'weight_food_fruits',\n",
       " 'value_food_fish_large',\n",
       " 'value_food_fish_small',\n",
       " 'value_food_spices',\n",
       " 'value_food_other',\n",
       " 'weight_food_other',\n",
       " 'value_food_drinks',\n",
       " 'weight_food_drinks',\n",
       " 'value_food_other_outside_home',\n",
       " 'j02_1_rent_bills_taxes_fees_expenses',\n",
       " 'j02_2_rent_bills_taxes_fees_expenses',\n",
       " 'j03_1_rent_bills_taxes_fees_expenses_self',\n",
       " 'j02_1_fuel_expenses',\n",
       " 'j03_1_fuel_expenses_self',\n",
       " 'j02_1_transportation_vehicles_expenses',\n",
       " 'j02_1_miscellaneous_expenses',\n",
       " 'j02_2_miscellaneous_expenses',\n",
       " 'j02_1_health_expenses',\n",
       " 'j02_1_communication_expenses',\n",
       " 'j02_1_personal_items_clothing_expenses',\n",
       " 'j02_2_personal_items_clothing_expenses',\n",
       " 'j03_1_personal_items_clothing_expenses_social',\n",
       " 'j03_2_personal_items_clothing_expenses_social',\n",
       " 'j02_1_furniture_household_expenses',\n",
       " 'j02_2_furniture_household_expenses',\n",
       " 'j03_2_furniture_household_expenses_social',\n",
       " 'j02_2_family_events_expenses',\n",
       " 'j02_1_education_expenses',\n",
       " 'j02_2_education_expenses',\n",
       " 'k01',\n",
       " 'k02',\n",
       " 'k03',\n",
       " 'k03_1',\n",
       " 'k04',\n",
       " 'k05',\n",
       " 'k05_1',\n",
       " 'k06',\n",
       " 'k07',\n",
       " 'calamity_2_loss',\n",
       " 'calamity_2_action_taken',\n",
       " 'calamity_3_loss',\n",
       " 'calamity_3_action_taken',\n",
       " 'shocks_loss_value',\n",
       " 'positive_events_value',\n",
       " 'm01',\n",
       " 'm02_1',\n",
       " 'm02_2',\n",
       " 'm03',\n",
       " 'm04_1',\n",
       " 'm05',\n",
       " 'm06_1',\n",
       " 'm06_2',\n",
       " 'm06_3',\n",
       " 'm07',\n",
       " 'm08_1',\n",
       " 'm08_2',\n",
       " 'm08_3',\n",
       " 'm09',\n",
       " 'm10',\n",
       " 'm11_1',\n",
       " 'm11_2',\n",
       " 'm11_3',\n",
       " 'q01_1',\n",
       " 'q01_2',\n",
       " 'q01_3',\n",
       " 'q02',\n",
       " 'q03',\n",
       " 'q04',\n",
       " 'q05_1',\n",
       " 'q05_2',\n",
       " 'q05_3',\n",
       " 'q06',\n",
       " 'q07_1',\n",
       " 'q07_2',\n",
       " 'q07_3',\n",
       " 'change_production_methods',\n",
       " 'change_crop_consumption',\n",
       " 'change_land',\n",
       " 'change_water_harvesting',\n",
       " 'change_insurance',\n",
       " 'change_off_farm_employment',\n",
       " 'change_migration',\n",
       " 'change_communal_storage',\n",
       " 'change_planting_dates',\n",
       " 'change_fertilizer',\n",
       " 'change_other',\n",
       " 'livestock_poultry_change',\n",
       " 'constraint_3_total_severity',\n",
       " 'constraint_7_total_severity',\n",
       " 'constraint_8_total_severity',\n",
       " 'constraint_4_total_severity',\n",
       " 'constraint_9_total_severity',\n",
       " 'constraint_1_total_severity',\n",
       " 'constraint_2_total_severity',\n",
       " 'constraint_5_total_severity',\n",
       " 'constraint_6_total_severity',\n",
       " 'group_membership_farming',\n",
       " 'group_membership_trading',\n",
       " 'group_membership_religion',\n",
       " 'group_membership_women',\n",
       " 'group_membership_NGO',\n",
       " 'group_membership_credit',\n",
       " 'group_membership_community',\n",
       " 'group_membership_cultural',\n",
       " 'group_membership_political',\n",
       " 'group_membership_health',\n",
       " 'group_membership_sports',\n",
       " 'group_membership_other',\n",
       " 'r2_15_1',\n",
       " 'r2_15_2',\n",
       " 'r2_15_3',\n",
       " 'r2_16_1',\n",
       " 'r2_16_2',\n",
       " 'r2_16_3',\n",
       " 'r2_17_1_1',\n",
       " 'r2_17_2_1',\n",
       " 'r2_17_3_1',\n",
       " 'r2_18_1_1',\n",
       " 'r2_18_2_1',\n",
       " 'r2_18_3_1',\n",
       " 'r2_19_1_1',\n",
       " 'r2_19_2_1',\n",
       " 'r2_19_3_1',\n",
       " 'r2_20_1_1',\n",
       " 'r2_20_2_1',\n",
       " 'r2_20_3_1',\n",
       " 'r2_21_1_1',\n",
       " 'r2_21_2_1',\n",
       " 'r2_21_3_1',\n",
       " 'r2_22_1_1',\n",
       " 'r2_22_2_1',\n",
       " 'r2_22_3_1',\n",
       " 'r2_23_1_1',\n",
       " 'r2_23_2_1',\n",
       " 'r2_23_3_1',\n",
       " 'r3_02_1',\n",
       " 'r3_03_1',\n",
       " 'r3_04_1',\n",
       " 'r3_05_1',\n",
       " 'r3_06_1',\n",
       " 'r3_07_1',\n",
       " 'r3_02_2',\n",
       " 'r3_03_2',\n",
       " 'r3_04_2',\n",
       " 'r3_05_2',\n",
       " 'r3_06_2',\n",
       " 'r3_07_2',\n",
       " 'r4_02_1',\n",
       " 'r4_03_1',\n",
       " 'r4_04_1_1',\n",
       " 'r4_04_1_2',\n",
       " 'r4_04_1_3',\n",
       " 'r4_04_1_4',\n",
       " 'r4_04_1_5',\n",
       " 'r4_04_1_6',\n",
       " 'r4_04_1_7',\n",
       " 'r4_04_1_8',\n",
       " 'r4_04_1_9',\n",
       " 'r4_05_1',\n",
       " 'r4_02_2',\n",
       " 'r4_03_2',\n",
       " 'r4_04_2_1',\n",
       " 'r4_04_2_2',\n",
       " 'r4_04_2_3',\n",
       " 'r4_04_2_4',\n",
       " 'r4_04_2_5',\n",
       " 'r4_04_2_6',\n",
       " 'r4_04_2_7',\n",
       " 'r4_04_2_8',\n",
       " 'r4_04_2_9',\n",
       " 'r4_05_2',\n",
       " 'r6_02_1',\n",
       " 'r6_03_1_1',\n",
       " 'r6_03_1_2',\n",
       " 'r6_03_1_3',\n",
       " 'r6_04_1_1',\n",
       " 'r6_04_1_2',\n",
       " 'r6_05_1',\n",
       " 'r6_06_1',\n",
       " 'r6_07_1',\n",
       " 'r6_08_1',\n",
       " 'r6_02_2',\n",
       " 'r6_03_2_1',\n",
       " 'r6_04_2_1',\n",
       " 'r6_05_2',\n",
       " 'r6_06_2',\n",
       " 'r6_07_2',\n",
       " 'r6_08_2',\n",
       " 'r7_01_1',\n",
       " 'r7_02_1',\n",
       " 'r7_03_1',\n",
       " 'r7_04_1',\n",
       " 'r7_05_1',\n",
       " 'r7_06_1_1',\n",
       " 'r7_06_1_2',\n",
       " 'r7_06_1_3',\n",
       " 'r7_07_1_1',\n",
       " 'r7_07_1_2',\n",
       " 'r7_07_1_3',\n",
       " 'r7_08_1',\n",
       " 'r7_09_1',\n",
       " 'r7_10_1',\n",
       " 'r7_11_1_1',\n",
       " 'r7_11_1_2',\n",
       " 'r7_01_2',\n",
       " 'r7_02_2',\n",
       " 'r7_03_2',\n",
       " 'r7_04_2',\n",
       " 'r7_05_2',\n",
       " 'r7_06_2_1',\n",
       " 'r7_06_2_2',\n",
       " 'r7_07_2_1',\n",
       " 'r7_07_2_2',\n",
       " 'r7_08_2',\n",
       " 'r7_09_2',\n",
       " 'r7_10_2',\n",
       " 'r7_11_2_1',\n",
       " 'r7_11_2_2',\n",
       " 's_02_1',\n",
       " 's_03_1',\n",
       " 's_04_1',\n",
       " 's_05_1',\n",
       " 's_06_1_1',\n",
       " 's_06_2_1',\n",
       " 's_06_3_1',\n",
       " 's_06_4_1',\n",
       " 's_06_5_1',\n",
       " 's_06_6_1',\n",
       " 's_07_1',\n",
       " 's_08_1',\n",
       " 's_09_1',\n",
       " 's_02_2',\n",
       " 's_03_2',\n",
       " 's_04_2',\n",
       " 's_06_1_2',\n",
       " 's_06_2_2',\n",
       " 's_06_3_2',\n",
       " 's_06_4_2',\n",
       " 's_06_5_2',\n",
       " 's_06_6_2',\n",
       " 's_07_2',\n",
       " 's_08_2',\n",
       " 's_09_2',\n",
       " 'job_wage_labor',\n",
       " 'job_salaried_worker',\n",
       " 'job_self_employment',\n",
       " 'job_trader',\n",
       " 'job_production',\n",
       " 'job_livestock_poultry_service',\n",
       " 'job_farming',\n",
       " 'avergage_monthly_income']"
      ]
     },
     "execution_count": 206,
     "metadata": {},
     "output_type": "execute_result"
    }
   ],
   "source": [
    "list(df.columns)"
   ]
  },
  {
   "cell_type": "markdown",
   "id": "497415bf",
   "metadata": {},
   "source": [
    "# Mutual Information Regression"
   ]
  },
  {
   "cell_type": "code",
   "execution_count": 207,
   "id": "0032688b",
   "metadata": {},
   "outputs": [],
   "source": [
    "# compute number of changes implemented by each household\n",
    "num_changes = {hhid:None for hhid in UNIQUE_HHID}\n",
    "target_labels = set()\n",
    "for DF in ADAPTATION_DFS:\n",
    "    for hhid in UNIQUE_HHID:\n",
    "        hh = DF.loc[DF.hhid==hhid]\n",
    "        if len(hh):\n",
    "            ignore_hhid_col = hh.loc[:, ~hh.columns.isin(['hhid'])]\n",
    "            for col in ignore_hhid_col:\n",
    "                target_labels.add(col)\n",
    "                \n",
    "            non_nan = np.array([x for x in ignore_hhid_col.iloc[0] if not np.isnan(x)])\n",
    "            if len(non_nan):\n",
    "                if num_changes[hhid] is None:\n",
    "                    num_changes[hhid] = sum(np.array(non_nan==1))\n",
    "                else:\n",
    "                    num_changes[hhid] += sum(np.array(non_nan==1))\n",
    "            \n",
    "            \n",
    "# with open(DATA_DIR + DATA_SUBDIR + \"adaptation_target.pickle\", \"rb\") as f:\n",
    "#     data = pickle.load(f)\n",
    "# adaptation_target = data[\"target_values\"]\n",
    "# target_labels = data[\"target_labels\"]\n",
    "\n",
    "\n",
    "adaptation_target = np.array(list(num_changes.values()))\n",
    "data = {\"target_values\":adaptation_target, \"target_labels\":target_labels}\n",
    "with open(DATA_DIR + DATA_SUBDIR + \"adaptation_target.pickle\", \"wb\") as f:\n",
    "    pickle.dump(data, f)"
   ]
  },
  {
   "cell_type": "code",
   "execution_count": 208,
   "id": "1a6e0c19",
   "metadata": {
    "scrolled": false
   },
   "outputs": [
    {
     "data": {
      "image/png": "[encoded data removed]",
      "text/plain": [
       "<Figure size 600x500 with 1 Axes>"
      ]
     },
     "metadata": {},
     "output_type": "display_data"
    },
    {
     "name": "stdout",
     "output_type": "stream",
     "text": [
      "Top 20 MI scores:\n"
     ]
    },
    {
     "data": {
      "text/plain": [
       "[('j02_2_education_expenses', (0.428, 556)),\n",
       " ('total_selling_value', (0.402, 413)),\n",
       " ('j02_2_personal_items_clothing_expenses', (0.326, 753)),\n",
       " ('j02_1_personal_items_clothing_expenses', (0.309, 759)),\n",
       " ('j02_1_furniture_household_expenses', (0.307, 251)),\n",
       " ('value_food_vegetables', (0.289, 760)),\n",
       " ('credit_natural_capital_total_to_pay', (0.25, 277)),\n",
       " ('community_code', (0.239, 805)),\n",
       " ('value_now', (0.22, 717)),\n",
       " ('q05_3', (0.214, 117)),\n",
       " ('value_food_edible_oil', (0.189, 754)),\n",
       " ('value_2011', (0.186, 695)),\n",
       " ('j02_2_furniture_household_expenses', (0.17, 693)),\n",
       " ('value_food_spices', (0.169, 760)),\n",
       " ('weight_food_drinks', (0.156, 479)),\n",
       " ('value_food_other_outside_home', (0.155, 615)),\n",
       " ('value_consumable_durables', (0.136, 785)),\n",
       " ('r7_07_1_3', (0.133, 146)),\n",
       " ('constraint_5_total_severity', (0.123, 85)),\n",
       " ('value_agricultural_equipments', (0.119, 732))]"
      ]
     },
     "execution_count": 208,
     "metadata": {},
     "output_type": "execute_result"
    }
   ],
   "source": [
    "mi_scores = {}\n",
    "for col in df.columns:\n",
    "    if col != \"hhid\" and col not in target_labels:\n",
    "        non_nan_rows = df.loc[(~df[col].isna()) & (~df[\"hhid\"].isin(null_target_hhids))]\n",
    "        if len(non_nan_rows) < 4:\n",
    "            continue\n",
    "            \n",
    "        #is_discrete = col in variable_types[\"discrete_categorical\"]\n",
    "        is_discrete = col not in variable_types[\"continuous\"]\n",
    "        \n",
    "        indices = np.array(non_nan_rows.index).astype(int)\n",
    "        targets = adaptation_target[indices]\n",
    "        mi = mutual_info_regression(np.array(list(non_nan_rows[col])).reshape(-1,1), \n",
    "                                    targets, discrete_features=is_discrete)[0]\n",
    "        mi_scores[col] = (round(mi, 3), len(indices))\n",
    "\n",
    "plt.hist([x[0] for x in mi_scores.values()], color=\"dodgerblue\", edgecolor=\"k\", bins=30)\n",
    "plt.show()\n",
    "\n",
    "show_top = 20\n",
    "print(f\"Top {show_top} MI scores:\")\n",
    "ordered = sorted(mi_scores.items(), key = lambda x: mi_scores[x[0]], reverse=True)\n",
    "ordered[:show_top]"
   ]
  },
  {
   "cell_type": "code",
   "execution_count": 213,
   "id": "d6b378fc",
   "metadata": {
    "scrolled": true
   },
   "outputs": [
    {
     "data": {
      "text/plain": [
       "[('j02_2_education_expenses', (0.428, 556)),\n",
       " ('total_selling_value', (0.402, 413)),\n",
       " ('j02_2_personal_items_clothing_expenses', (0.326, 753)),\n",
       " ('j02_1_personal_items_clothing_expenses', (0.309, 759)),\n",
       " ('j02_1_furniture_household_expenses', (0.307, 251)),\n",
       " ('value_food_vegetables', (0.289, 760)),\n",
       " ('credit_natural_capital_total_to_pay', (0.25, 277)),\n",
       " ('community_code', (0.239, 805)),\n",
       " ('value_now', (0.22, 717)),\n",
       " ('q05_3', (0.214, 117)),\n",
       " ('value_food_edible_oil', (0.189, 754)),\n",
       " ('value_2011', (0.186, 695)),\n",
       " ('j02_2_furniture_household_expenses', (0.17, 693)),\n",
       " ('value_food_spices', (0.169, 760)),\n",
       " ('weight_food_drinks', (0.156, 479)),\n",
       " ('value_food_other_outside_home', (0.155, 615)),\n",
       " ('value_consumable_durables', (0.136, 785)),\n",
       " ('r7_07_1_3', (0.133, 146)),\n",
       " ('constraint_5_total_severity', (0.123, 85)),\n",
       " ('value_agricultural_equipments', (0.119, 732)),\n",
       " ('j03_1_personal_items_clothing_expenses_social', (0.118, 161)),\n",
       " ('ezcode', (0.117, 805)),\n",
       " ('j02_1_rent_bills_taxes_fees_expenses', (0.117, 667)),\n",
       " ('j02_1_fuel_expenses', (0.112, 682)),\n",
       " ('value_food_other', (0.109, 674)),\n",
       " ('sale_of_assets_value', (0.109, 616)),\n",
       " ('credit_personal_capital_total_to_pay', (0.106, 432)),\n",
       " ('value_livestock_poultry', (0.1, 713)),\n",
       " ('j02_2_miscellaneous_expenses', (0.099, 200)),\n",
       " ('livestock_fodder_value', (0.097, 734)),\n",
       " ('shocks_loss_value', (0.096, 545)),\n",
       " ('positive_events_value', (0.096, 191)),\n",
       " ('value_other', (0.095, 305)),\n",
       " ('m11_2', (0.093, 350)),\n",
       " ('q07_1', (0.087, 778)),\n",
       " ('weight_food_meat_eggs_milk', (0.086, 499)),\n",
       " ('value_food_fish_large', (0.085, 559)),\n",
       " ('constraint_9_total_severity', (0.085, 97)),\n",
       " ('value_food_drinks', (0.084, 478)),\n",
       " ('j02_1_health_expenses', (0.082, 701)),\n",
       " ('total_land_value_per_month', (0.08, 362)),\n",
       " ('weight_food_other', (0.072, 290)),\n",
       " ('m06_1', (0.069, 266)),\n",
       " ('m07', (0.066, 805)),\n",
       " ('j02_1_transportation_vehicles_expenses', (0.066, 642)),\n",
       " ('r6_03_1_3', (0.066, 90)),\n",
       " ('livestock_medication_value', (0.065, 734)),\n",
       " ('m06_3', (0.063, 130)),\n",
       " ('q01_1', (0.062, 805)),\n",
       " ('job_farming', (0.061, 805)),\n",
       " ('value_food_meat_eggs_milk', (0.059, 522)),\n",
       " ('q01_3', (0.058, 110)),\n",
       " ('j03_2_personal_items_clothing_expenses_social', (0.057, 470)),\n",
       " ('r6_04_2_1', (0.056, 157)),\n",
       " ('r7_07_1_2', (0.053, 545)),\n",
       " ('r7_06_1_3', (0.051, 267)),\n",
       " ('constraint_3_total_severity', (0.049, 306)),\n",
       " ('r6_04_1_2', (0.049, 188)),\n",
       " ('q04', (0.048, 805)),\n",
       " ('j02_1_miscellaneous_expenses', (0.048, 727)),\n",
       " ('r4_04_1_4', (0.048, 701)),\n",
       " ('q07_3', (0.048, 319)),\n",
       " ('r7_11_1_2', (0.048, 288)),\n",
       " ('r7_03_1', (0.047, 701)),\n",
       " ('credit_personal_capital_total_borrowed', (0.047, 432)),\n",
       " ('constraint_7_total_severity', (0.045, 340)),\n",
       " ('s_02_2', (0.043, 796)),\n",
       " ('r3_03_2', (0.043, 795)),\n",
       " ('avergage_monthly_income', (0.043, 787)),\n",
       " ('m09', (0.043, 658)),\n",
       " ('m10', (0.043, 658)),\n",
       " ('r2_17_1_1', (0.043, 568)),\n",
       " ('r2_23_1_1', (0.043, 568)),\n",
       " ('j03_1_rent_bills_taxes_fees_expenses_self', (0.042, 752)),\n",
       " ('r3_02_1', (0.042, 705)),\n",
       " ('q03', (0.041, 805)),\n",
       " ('r4_03_2', (0.04, 791)),\n",
       " ('r4_04_2_4', (0.04, 791)),\n",
       " ('q07_2', (0.04, 643)),\n",
       " ('constraint_4_total_severity', (0.04, 430)),\n",
       " ('r6_08_1', (0.039, 702)),\n",
       " ('r7_06_2_2', (0.039, 300)),\n",
       " ('calamity_3_action_taken', (0.039, 242)),\n",
       " ('r6_06_1', (0.038, 702)),\n",
       " ('r6_03_2_1', (0.038, 157)),\n",
       " ('r6_05_2', (0.037, 155)),\n",
       " ('k01', (0.036, 805)),\n",
       " ('s_06_1_1', (0.036, 708)),\n",
       " ('r4_03_1', (0.035, 701)),\n",
       " ('j02_1_education_expenses', (0.035, 539)),\n",
       " ('weight_food_vegetables', (0.034, 512)),\n",
       " ('constraint_1_total_severity', (0.034, 152)),\n",
       " ('r2_22_2_1', (0.033, 237)),\n",
       " ('group_membership_farming', (0.032, 805)),\n",
       " ('r4_04_2_1', (0.032, 791)),\n",
       " ('count_2011', (0.032, 738)),\n",
       " ('land_acquisition_means', (0.031, 805)),\n",
       " ('value_food_fruits', (0.031, 497)),\n",
       " ('r2_23_3_1', (0.031, 378)),\n",
       " ('r2_19_1_1', (0.03, 568)),\n",
       " ('m08_3', (0.03, 133)),\n",
       " ('soil_type', (0.029, 805)),\n",
       " ('q02', (0.029, 805)),\n",
       " ('r3_05_2', (0.029, 795)),\n",
       " ('r4_04_2_9', (0.029, 791)),\n",
       " ('r4_04_2_7', (0.028, 791)),\n",
       " ('r6_07_1', (0.028, 702)),\n",
       " ('constraint_8_total_severity', (0.028, 508)),\n",
       " ('value_food_leafy_vegetables', (0.028, 312)),\n",
       " ('r6_02_2', (0.027, 792)),\n",
       " ('j03_1_fuel_expenses_self', (0.027, 710)),\n",
       " ('r4_04_1_7', (0.027, 701)),\n",
       " ('r4_04_1_8', (0.027, 701)),\n",
       " ('r7_09_1', (0.027, 701)),\n",
       " ('value_food_pulses', (0.027, 638)),\n",
       " ('j03_2_furniture_household_expenses_social', (0.027, 86)),\n",
       " ('r7_03_2', (0.025, 791)),\n",
       " ('r4_04_1_9', (0.025, 701)),\n",
       " ('m08_1', (0.025, 658)),\n",
       " ('m01', (0.024, 805)),\n",
       " ('r3_04_1', (0.024, 705)),\n",
       " ('r3_05_1', (0.024, 705)),\n",
       " ('r2_22_1_1', (0.024, 566)),\n",
       " ('r2_20_3_1', (0.024, 378)),\n",
       " ('ratio_male', (0.023, 805)),\n",
       " ('r4_04_1_6', (0.023, 701)),\n",
       " ('calamity_3_loss', (0.023, 267)),\n",
       " ('m02_2', (0.023, 111)),\n",
       " ('r6_05_1', (0.022, 400)),\n",
       " ('plot_type', (0.021, 805)),\n",
       " ('r4_04_1_3', (0.021, 701)),\n",
       " ('r7_05_1', (0.021, 701)),\n",
       " ('r7_01_2', (0.02, 791)),\n",
       " ('s_02_1', (0.02, 708)),\n",
       " ('r4_04_1_1', (0.02, 701)),\n",
       " ('q05_2', (0.02, 538)),\n",
       " ('m04_1', (0.02, 266)),\n",
       " ('r2_18_2_1', (0.02, 237)),\n",
       " ('s_05_1', (0.02, 156)),\n",
       " ('r3_02_2', (0.019, 795)),\n",
       " ('r4_04_1_2', (0.019, 701)),\n",
       " ('constraint_6_total_severity', (0.019, 130)),\n",
       " ('r4_02_2', (0.018, 791)),\n",
       " ('r4_04_2_5', (0.018, 791)),\n",
       " ('r7_05_2', (0.018, 791)),\n",
       " ('r6_04_1_1', (0.018, 400)),\n",
       " ('k02', (0.017, 805)),\n",
       " ('group_membership_political', (0.017, 805)),\n",
       " ('job_wage_labor', (0.016, 805)),\n",
       " ('r6_06_2', (0.016, 792)),\n",
       " ('r2_20_1_1', (0.016, 568)),\n",
       " ('q06', (0.015, 805)),\n",
       " ('r4_04_2_6', (0.015, 791)),\n",
       " ('r7_06_2_1', (0.015, 791)),\n",
       " ('k03', (0.013, 805)),\n",
       " ('value_food_cereals', (0.013, 565)),\n",
       " ('s_03_2', (0.012, 796)),\n",
       " ('s_06_4_2', (0.012, 796)),\n",
       " ('ratio_male_children', (0.01, 805)),\n",
       " ('r3_04_2', (0.01, 795)),\n",
       " ('r2_18_1_1', (0.01, 568)),\n",
       " ('r4_04_2_3', (0.009, 791)),\n",
       " ('r7_07_2_1', (0.009, 791)),\n",
       " ('s_08_1', (0.009, 708)),\n",
       " ('r3_07_1', (0.009, 705)),\n",
       " ('r2_19_2_1', (0.009, 237)),\n",
       " ('job_production', (0.007, 805)),\n",
       " ('s_07_2', (0.007, 796)),\n",
       " ('group_membership_religion', (0.006, 805)),\n",
       " ('s_06_5_1', (0.006, 708)),\n",
       " ('s_07_1', (0.006, 708)),\n",
       " ('weight_food_fruits', (0.006, 551)),\n",
       " ('r2_21_3_1', (0.006, 378)),\n",
       " ('job_self_employment', (0.005, 805)),\n",
       " ('r7_11_2_1', (0.005, 791)),\n",
       " ('q05_1', (0.005, 713)),\n",
       " ('s_04_2', (0.004, 796)),\n",
       " ('r7_04_1', (0.004, 701)),\n",
       " ('r2_17_2_1', (0.004, 237)),\n",
       " ('m11_1', (0.003, 805)),\n",
       " ('group_membership_credit', (0.003, 805)),\n",
       " ('job_livestock_poultry_service', (0.003, 805)),\n",
       " ('s_06_2_2', (0.003, 796)),\n",
       " ('r7_11_2_2', (0.003, 109)),\n",
       " ('j02_1_communication_expenses', (0.003, 85)),\n",
       " ('k07', (0.002, 805)),\n",
       " ('group_membership_women', (0.002, 805)),\n",
       " ('group_membership_cultural', (0.002, 805)),\n",
       " ('r3_06_2', (0.002, 795)),\n",
       " ('s_03_1', (0.002, 708)),\n",
       " ('m02_1', (0.002, 266)),\n",
       " ('m06_2', (0.002, 220)),\n",
       " ('group_membership_trading', (0.001, 805)),\n",
       " ('r6_02_1', (0.001, 702)),\n",
       " ('r2_21_1_1', (0.001, 568)),\n",
       " ('r2_23_2_1', (0.001, 237)),\n",
       " ('household_size', (0, 805)),\n",
       " ('highest_education', (0, 805)),\n",
       " ('highest_literacy', (0, 805)),\n",
       " ('k03_1', (0, 805)),\n",
       " ('k04', (0, 805)),\n",
       " ('k05', (0, 805)),\n",
       " ('k05_1', (0, 805)),\n",
       " ('k06', (0, 805)),\n",
       " ('group_membership_NGO', (0, 805)),\n",
       " ('group_membership_community', (0, 805)),\n",
       " ('group_membership_health', (0.0, 805)),\n",
       " ('group_membership_sports', (0, 805)),\n",
       " ('group_membership_other', (0, 805)),\n",
       " ('job_salaried_worker', (0, 805)),\n",
       " ('job_trader', (0, 805)),\n",
       " ('s_06_1_2', (0, 796)),\n",
       " ('s_06_3_2', (0, 796)),\n",
       " ('s_06_5_2', (0, 796)),\n",
       " ('s_08_2', (0, 796)),\n",
       " ('s_09_2', (0, 796)),\n",
       " ('land_operational_status', (0, 795)),\n",
       " ('r3_07_2', (0, 795)),\n",
       " ('s_06_6_2', (0, 795)),\n",
       " ('r6_07_2', (0, 792)),\n",
       " ('r6_08_2', (0, 792)),\n",
       " ('r4_04_2_2', (0, 791)),\n",
       " ('r4_04_2_8', (0, 791)),\n",
       " ('r4_05_2', (0, 791)),\n",
       " ('r7_02_2', (0, 791)),\n",
       " ('r7_04_2', (0, 791)),\n",
       " ('r7_08_2', (0, 791)),\n",
       " ('r7_09_2', (0, 791)),\n",
       " ('r7_10_2', (0, 791)),\n",
       " ('count_now', (0, 738)),\n",
       " ('s_04_1', (0, 708)),\n",
       " ('s_06_2_1', (0, 708)),\n",
       " ('s_06_3_1', (0, 708)),\n",
       " ('s_06_4_1', (0, 708)),\n",
       " ('s_06_6_1', (0, 708)),\n",
       " ('s_09_1', (0, 708)),\n",
       " ('r3_03_1', (0, 705)),\n",
       " ('r3_06_1', (0, 705)),\n",
       " ('r4_02_1', (0, 701)),\n",
       " ('r4_04_1_5', (0, 701)),\n",
       " ('r4_05_1', (0, 701)),\n",
       " ('r7_01_1', (0, 701)),\n",
       " ('r7_02_1', (0, 701)),\n",
       " ('r7_06_1_1', (0, 701)),\n",
       " ('r7_07_1_1', (0, 701)),\n",
       " ('r7_08_1', (0, 701)),\n",
       " ('r7_10_1', (0, 701)),\n",
       " ('r7_11_1_1', (0, 701)),\n",
       " ('j02_2_rent_bills_taxes_fees_expenses', (0, 677)),\n",
       " ('r7_06_1_2', (0, 590)),\n",
       " ('r2_15_1', (0, 568)),\n",
       " ('r2_16_1', (0, 568)),\n",
       " ('q01_2', (0, 502)),\n",
       " ('m08_2', (0, 454)),\n",
       " ('r6_03_1_1', (0, 400)),\n",
       " ('r2_15_3', (0, 378)),\n",
       " ('r2_16_3', (0, 378)),\n",
       " ('r2_17_3_1', (0, 378)),\n",
       " ('r2_18_3_1', (0, 378)),\n",
       " ('r2_19_3_1', (0, 378)),\n",
       " ('r2_22_3_1', (0, 378)),\n",
       " ('value_food_fish_small', (0, 357)),\n",
       " ('value_transport', (0, 326)),\n",
       " ('credit_natural_capital_total_borrowed', (0, 277)),\n",
       " ('m03', (0, 266)),\n",
       " ('m05', (0, 266)),\n",
       " ('r6_03_1_2', (0, 265)),\n",
       " ('constraint_2_total_severity', (0, 256)),\n",
       " ('r2_15_2', (0, 237)),\n",
       " ('r2_16_2', (0, 237)),\n",
       " ('r2_20_2_1', (0, 237)),\n",
       " ('r2_21_2_1', (0, 237)),\n",
       " ('j02_2_family_events_expenses', (0, 213)),\n",
       " ('r7_07_2_2', (0, 211)),\n",
       " ('m11_3', (0.0, 135)),\n",
       " ('calamity_2_loss', (0, 129)),\n",
       " ('calamity_2_action_taken', (0, 115))]"
      ]
     },
     "execution_count": 213,
     "metadata": {},
     "output_type": "execute_result"
    }
   ],
   "source": [
    "ordered"
   ]
  },
  {
   "cell_type": "code",
   "execution_count": 214,
   "id": "a5672d19",
   "metadata": {
    "scrolled": false
   },
   "outputs": [
    {
     "data": {
      "text/plain": [
       "56"
      ]
     },
     "execution_count": 214,
     "metadata": {},
     "output_type": "execute_result"
    }
   ],
   "source": [
    "len([x for x in ordered if x[1][0] > 0.05])"
   ]
  },
  {
   "cell_type": "code",
   "execution_count": 223,
   "id": "d0a563cb",
   "metadata": {},
   "outputs": [
    {
     "data": {
      "image/png": "[encoded data removed]",
      "text/plain": [
       "<Figure size 600x500 with 1 Axes>"
      ]
     },
     "metadata": {},
     "output_type": "display_data"
    }
   ],
   "source": [
    "plt.scatter(df[\"value_2011\"], df[\"value_now\"], s=5)\n",
    "plt.xlabel(\"Value 2011\")\n",
    "plt.ylabel(\"Value Now\")\n",
    "plt.xlim(0,50000)\n",
    "plt.ylim(0,50000)\n",
    "plt.plot(np.linspace(0,50000, 1000), np.linspace(0,50000, 1000), color=\"red\", linestyle=\"dashed\")\n",
    "plt.show()"
   ]
  },
  {
   "cell_type": "code",
   "execution_count": 224,
   "id": "e2c41ace",
   "metadata": {},
   "outputs": [
    {
     "data": {
      "image/png": "[encoded data removed]",
      "text/plain": [
       "<Figure size 600x500 with 1 Axes>"
      ]
     },
     "metadata": {},
     "output_type": "display_data"
    }
   ],
   "source": [
    "plt.scatter(df[\"value_2011\"], df[\"value_now\"], s=5)\n",
    "plt.xlabel(\"Value 2011\")\n",
    "plt.ylabel(\"Value Now\")\n",
    "\n",
    "plt.plot(np.linspace(0,50000, 1000), np.linspace(0,50000, 1000), color=\"red\", linestyle=\"dashed\")\n",
    "plt.show()"
   ]
  },
  {
   "cell_type": "code",
   "execution_count": 230,
   "id": "4801ed7d",
   "metadata": {},
   "outputs": [
    {
     "data": {
      "image/png": "[encoded data removed]",
      "text/plain": [
       "<Figure size 600x500 with 1 Axes>"
      ]
     },
     "metadata": {},
     "output_type": "display_data"
    }
   ],
   "source": [
    "plt.scatter(df[\"count_2011\"], df[\"count_now\"], s=5)\n",
    "plt.xlabel(\"Count 2011\")\n",
    "plt.ylabel(\"Count Now\")\n",
    "plt.xlim(0,60)\n",
    "plt.ylim(0,60)\n",
    "plt.plot(np.linspace(0,60, 1000), np.linspace(0,60, 1000), color=\"red\", linestyle=\"dashed\")\n",
    "\n",
    "plt.show()"
   ]
  },
  {
   "cell_type": "code",
   "execution_count": null,
   "id": "12fa18f9",
   "metadata": {},
   "outputs": [],
   "source": []
  }
 ],
 "metadata": {
  "kernelspec": {
   "display_name": "Python 3",
   "language": "python",
   "name": "python3"
  },
  "language_info": {
   "codemirror_mode": {
    "name": "ipython",
    "version": 3
   },
   "file_extension": ".py",
   "mimetype": "text/x-python",
   "name": "python",
   "nbconvert_exporter": "python",
   "pygments_lexer": "ipython3",
   "version": "3.8.6"
  }
 },
 "nbformat": 4,
 "nbformat_minor": 5
}
