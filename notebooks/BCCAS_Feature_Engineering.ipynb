{
 "cells": [
  {
   "cell_type": "code",
   "execution_count": 134,
   "id": "acdc0b3a",
   "metadata": {},
   "outputs": [
    {
     "name": "stdout",
     "output_type": "stream",
     "text": [
      "Working directory: /Users/charlesdupont/Desktop/Thesis/code/quafing\n"
     ]
    }
   ],
   "source": [
    "import os\n",
    "os.chdir('../quafing/')\n",
    "print(f\"Working directory: {os.getcwd()}\")\n",
    "import quafing as q\n",
    "\n",
    "\n",
    "import random\n",
    "import numpy as np\n",
    "from scipy.stats import mode\n",
    "\n",
    "from sklearn.feature_selection import mutual_info_regression\n",
    "\n",
    "import pandas as pd\n",
    "pd.options.mode.chained_assignment = None  # default='warn'\n",
    "\n",
    "import matplotlib.pyplot as plt\n",
    "\n",
    "\n",
    "plt.rcParams.update(plt.rcParamsDefault)\n",
    "plt.rcParams.update({\"font.size\" : 15, \n",
    "                     \"figure.dpi\" : 100, \n",
    "                     \"legend.fontsize\" : 13, \n",
    "                     \"grid.alpha\" : 0.3, \n",
    "                     \"axes.grid\": True, \n",
    "                     \"axes.axisbelow\" : True, \n",
    "                     \"figure.figsize\":(6, 5)})"
   ]
  },
  {
   "cell_type": "code",
   "execution_count": 2,
   "id": "e7ff95f3",
   "metadata": {},
   "outputs": [],
   "source": [
    "def load_data(path):\n",
    "    \"\"\"\n",
    "    Loads .dta file using provided path.\n",
    "    \"\"\"\n",
    "    return pd.read_stata(path, convert_categoricals=False)\n",
    "\n",
    "\n",
    "def add_missing_hhids(all_hhids, df):\n",
    "    \"\"\"\n",
    "    Adds empty rows for hhids missing from df.\n",
    "    df must already have an \"hhid\" column!\n",
    "    \"\"\"\n",
    "    missing = set(unique_hhids) - set(df[\"hhid\"].unique())\n",
    "    missing_dict = {\"hhid\":list(missing)}\n",
    "    for col in df.columns:\n",
    "        if col != \"hhid\":\n",
    "            missing_dict[col] = [np.nan]*len(missing)\n",
    "    missing_df = pd.DataFrame.from_dict(missing_dict)\n",
    "    return pd.concat([df, missing_df])\n",
    "\n",
    "\n",
    "def column_selection(df, keep=None, remove=None):\n",
    "    \"\"\"\n",
    "    Performs column selection on dataframe.\n",
    "    Args:\n",
    "        no_change: boolean indicating whether to keep all columns\n",
    "        keep: list of columns to keep\n",
    "        remove: list of columns to remove\n",
    "    Returns:\n",
    "        updated dataframe\n",
    "    \"\"\"\n",
    "    if keep:\n",
    "        return df[keep]\n",
    "    elif remove:\n",
    "        return df.loc[:, ~df.columns.isin(remove)]\n",
    "    else:\n",
    "        return df"
   ]
  },
  {
   "cell_type": "code",
   "execution_count": 3,
   "id": "425dc36e",
   "metadata": {},
   "outputs": [],
   "source": [
    "DATA_DIR = \"../../BCCASII/\"\n",
    "DATA_SUBDIR = \"Household/\""
   ]
  },
  {
   "cell_type": "code",
   "execution_count": 4,
   "id": "75113430",
   "metadata": {},
   "outputs": [],
   "source": [
    "PROCESSED_DFS  = []\n",
    "ADAPTATION_DFS = []"
   ]
  },
  {
   "cell_type": "markdown",
   "id": "0cae339e",
   "metadata": {},
   "source": [
    "## A: Location and identification detail"
   ]
  },
  {
   "cell_type": "code",
   "execution_count": 5,
   "id": "5cb777dc",
   "metadata": {},
   "outputs": [],
   "source": [
    "filename = \"001_mod_a.dta\"\n",
    "path = DATA_DIR + DATA_SUBDIR + filename\n",
    "df = load_data(path)"
   ]
  },
  {
   "cell_type": "code",
   "execution_count": 6,
   "id": "bb371d47",
   "metadata": {},
   "outputs": [],
   "source": [
    "# keep household ID, agro-ecological zone\n",
    "processed = column_selection(df, keep=[\"hhid\", \"ezcode\"])\n",
    "\n",
    "# construct community code from union, thana, district codes\n",
    "processed[\"community_code\"] = df[\"ucode\"].astype(str) + \"_\" + \\\n",
    "                              df[\"tcode\"].astype(str) + \"_\" + \\\n",
    "                              df[\"dcode\"].astype(str)"
   ]
  },
  {
   "cell_type": "code",
   "execution_count": 7,
   "id": "85a573d4",
   "metadata": {},
   "outputs": [],
   "source": [
    "PROCESSED_DFS.append(processed)"
   ]
  },
  {
   "cell_type": "code",
   "execution_count": 8,
   "id": "a46132a7",
   "metadata": {},
   "outputs": [],
   "source": [
    "unique_hhids = df[\"hhid\"].unique()"
   ]
  },
  {
   "cell_type": "markdown",
   "id": "bd076776",
   "metadata": {},
   "source": [
    "## B: Household composition and education"
   ]
  },
  {
   "cell_type": "code",
   "execution_count": 9,
   "id": "43cc5d53",
   "metadata": {},
   "outputs": [],
   "source": [
    "filename = \"002_mod_b.dta\"\n",
    "path = DATA_DIR + DATA_SUBDIR + filename\n",
    "df = load_data(path)"
   ]
  },
  {
   "cell_type": "code",
   "execution_count": 10,
   "id": "ffed5994",
   "metadata": {},
   "outputs": [],
   "source": [
    "g = df.groupby(\"hhid\").count()\n",
    "\n",
    "# household size\n",
    "processed = pd.DataFrame.from_dict({\"household_size\":g[\"mid\"]})\n",
    "\n",
    "# household id\n",
    "processed[\"hhid\"] = processed.index\n",
    "\n",
    "# ratio male, female\n",
    "males = {}\n",
    "females = {}\n",
    "for hhid in unique_hhids:\n",
    "    household = df.loc[df.hhid==hhid]\n",
    "    m = sum(household[\"b01\"]==1)\n",
    "    f = sum(household[\"b01\"]==2)\n",
    "    s = max(1, m+f)\n",
    "    males[hhid] = m/s\n",
    "    females[hhid] = f/s\n",
    "processed = processed.join(pd.DataFrame.from_dict({\"ratio_male\":males}))\n",
    "processed = processed.join(pd.DataFrame.from_dict({\"ratio_female\":females}))\n",
    "\n",
    "# number of children\n",
    "num_children = {}\n",
    "for hhid in unique_hhids:\n",
    "    household = df.loc[df.hhid==hhid]\n",
    "    c = sum(household[\"b03\"] < 18)\n",
    "    num_children[hhid] = c\n",
    "processed = processed.join(pd.DataFrame.from_dict({\"number_children\":num_children}))\n",
    "\n",
    "# highest level of education\n",
    "education_ordering = [99, 66, 67, 68, 0, 1, 2, 3, 4, 5, 6, 7, 8, 9, 22, 10, 33, 12, 15, 16, 17]\n",
    "max_education = {}\n",
    "for hhid in unique_hhids:\n",
    "    household = df.loc[df.hhid==hhid]\n",
    "    education_levels = [education_ordering.index(x)\n",
    "                        for x in [x for x in list(household[\"b06\"]) if not np.isnan(x)]]\n",
    "    if len(education_levels):\n",
    "        max_education[hhid] = max(education_levels)\n",
    "    else:\n",
    "        max_education[hhid] = -1\n",
    "processed = processed.join(pd.DataFrame.from_dict({\"highest_education\":max_education}))\n",
    "\n",
    "# highest level of literacy\n",
    "literacy_ordering = [1, 2, 3, 4]\n",
    "max_literacy = {}\n",
    "for hhid in unique_hhids:\n",
    "    household = df.loc[df.hhid==hhid]\n",
    "    literacy_labels = [literacy_ordering.index(x)\n",
    "                       for x in [x for x in list(household[\"b05\"]) if not np.isnan(x)]]\n",
    "    if len(literacy_labels):\n",
    "        max_literacy[hhid] = max(literacy_labels)\n",
    "    else:\n",
    "        max_literacy[hhid] = -1\n",
    "processed = processed.join(pd.DataFrame.from_dict({\"highest_literacy\":max_literacy}))\n",
    "\n",
    "# primary occupation categories\n",
    "# categories = {\n",
    "#     \"day_labor\": [1,2,3],\n",
    "#     \"self_employ_farm\": [4,5,6,7,8],\n",
    "#     \"self_employ_non_farm\": [9],\n",
    "#     \"low_income_profession\": [10,11,12,13],\n",
    "#     \"mechanic\": [14,15],\n",
    "#     \"other\": [16, 17, 18, 19],\n",
    "#     \"non_earning\": [20,21,22,23,24,25,26]\n",
    "# }\n",
    "\n",
    "# for c, c_list in categories.items():\n",
    "#     c_dict = {hhid:0 for hhid in unique_hhids}\n",
    "#     for hhid in unique_hhids:\n",
    "#         household = df.loc[df.hhid==hhid]\n",
    "#         primary_occupation_labels = list(household[\"b08_1\"])\n",
    "#         for item in c_list:\n",
    "#             if item in primary_occupation_labels:\n",
    "#                 c_dict[hhid] += 1\n",
    "#     processed = processed.join(pd.DataFrame.from_dict({c:c_dict}))"
   ]
  },
  {
   "cell_type": "code",
   "execution_count": 11,
   "id": "b6a45dcc",
   "metadata": {},
   "outputs": [],
   "source": [
    "PROCESSED_DFS.append(processed)"
   ]
  },
  {
   "cell_type": "markdown",
   "id": "16ef158c",
   "metadata": {},
   "source": [
    "## C: Roster of land and water bodies owned or under operation"
   ]
  },
  {
   "cell_type": "code",
   "execution_count": 12,
   "id": "f1f009cc",
   "metadata": {},
   "outputs": [],
   "source": [
    "filename = \"003_mod_c.dta\"\n",
    "path = DATA_DIR + DATA_SUBDIR + filename\n",
    "df = load_data(path)"
   ]
  },
  {
   "cell_type": "code",
   "execution_count": 13,
   "id": "b4f33e2f",
   "metadata": {
    "scrolled": true
   },
   "outputs": [],
   "source": [
    "g = df.groupby(\"hhid\")\n",
    "\n",
    "# total land area\n",
    "processed = pd.DataFrame.from_dict({\"total_land_size\":dict(g.sum()[\"c102\"])})\n",
    "\n",
    "# household id\n",
    "processed[\"hhid\"] = processed.index\n",
    "\n",
    "# total value per month\n",
    "processed = processed.join(pd.DataFrame.from_dict({\"total_land_value_per_month\":\n",
    "                                                   dict(g.sum()[\"c113\"])}))\n",
    "\n",
    "# min land acquisition year\n",
    "processed = processed.join(pd.DataFrame.from_dict({\"min_land_acquisition_year\":\n",
    "                                                   dict(g.min()[\"c111\"])}))\n",
    "\n",
    "# max land acquisition year\n",
    "processed = processed.join(pd.DataFrame.from_dict({\"max_land_acquisition_year\":\n",
    "                                                   dict(g.max()[\"c111\"])}))\n",
    "\n",
    "# mean land acquisition year\n",
    "processed = processed.join(pd.DataFrame.from_dict({\"mean_land_acquisition_year\":\n",
    "                                                   dict(round(g.mean()[\"c111\"]))}))\n",
    "\n",
    "# most common answer from (plot type, soil type, operational status of land, acquisition means of land)\n",
    "categories = {\n",
    "    (\"plot_type\", \"c101\"): [i for i in range(1, 10)],\n",
    "    (\"soil_type\", \"c105\"): [i for i in range(1, 6)],\n",
    "    (\"land_operational_status\", \"c107\"): [i for i in range(1, 11)],\n",
    "    (\"land_acquisition_means\", \"c110\"): [i for i in range(1, 8)],\n",
    "}\n",
    "\n",
    "for c, c_list in categories.items():\n",
    "    c_dict = {hhid:0 for hhid in unique_hhids}\n",
    "    c, col = c\n",
    "    for hhid in unique_hhids:\n",
    "        household = df.loc[df.hhid==hhid]\n",
    "        labels = [x for x in list(household[col]) if not np.isnan(x)]\n",
    "        if labels:\n",
    "            c_dict[hhid] = mode(labels)[0][0]\n",
    "        else:\n",
    "            c_dict[hhid] = -1\n",
    "    processed = processed.join(pd.DataFrame.from_dict({c:c_dict}))"
   ]
  },
  {
   "cell_type": "code",
   "execution_count": 14,
   "id": "b53e1bfe",
   "metadata": {},
   "outputs": [],
   "source": [
    "PROCESSED_DFS.append(processed)"
   ]
  },
  {
   "cell_type": "markdown",
   "id": "cb778381",
   "metadata": {},
   "source": [
    "## F1: Livestock and poultry"
   ]
  },
  {
   "cell_type": "code",
   "execution_count": 15,
   "id": "57b18c61",
   "metadata": {},
   "outputs": [],
   "source": [
    "filename = \"004_mod_f1.dta\"\n",
    "path = DATA_DIR + DATA_SUBDIR + filename\n",
    "df = load_data(path)"
   ]
  },
  {
   "cell_type": "code",
   "execution_count": 16,
   "id": "b8e9f11c",
   "metadata": {},
   "outputs": [],
   "source": [
    "# # household id\n",
    "# processed = pd.DataFrame.from_dict({\"hhid\":list(unique_hhids)})\n",
    "\n",
    "# categories = {\n",
    "#     \"cattle_buffalo\":1,\n",
    "#     \"goat_sheep\":2,\n",
    "#     \"pigs\":3,\n",
    "#     \"chidken_duck\":4\n",
    "# }\n",
    "\n",
    "# cols = [(\"count_2011\", \"f102\"), (\"value_2011\", \"f103\"), \n",
    "#         (\"count_now\", \"f104\"), (\"value_now\", \"f105\"), (\"total_selling_value\", \"f117\")]   \n",
    "\n",
    "# results = {hhid:{} for hhid in unique_hhids}\n",
    "# for hhid in unique_hhids:\n",
    "#     household = df.loc[df.hhid==hhid]\n",
    "#     for c, number in categories.items():\n",
    "#         if number not in list(household[\"f101\"]):\n",
    "#             # TODO: handle missing value!\n",
    "#             for l, _ in cols:\n",
    "#                 results[hhid][c+\"_\"+l] = np.nan\n",
    "#         else:\n",
    "#             for l, col in cols:\n",
    "#                 value = household.loc[household[\"f101\"]==number][col].iloc[0]\n",
    "#                 # TODO: handle missing value here!\n",
    "#                 if np.isnan(value):\n",
    "#                     results[hhid][c+\"_\"+l] = np.nan\n",
    "#                 else:\n",
    "#                     results[hhid][c+\"_\"+l] = value\n",
    "                    \n",
    "# for column in results[1]:\n",
    "#     processed[column] = [results[hhid][column] for hhid in results]"
   ]
  },
  {
   "cell_type": "code",
   "execution_count": 17,
   "id": "c02496ce",
   "metadata": {},
   "outputs": [],
   "source": [
    "# household id\n",
    "processed = pd.DataFrame.from_dict({\"hhid\":list(unique_hhids)})\n",
    "\n",
    "cols = [(\"count_2011\", \"f102\"), (\"value_2011\", \"f103\"), \n",
    "        (\"count_now\", \"f104\"), (\"value_now\", \"f105\"), (\"total_selling_value\", \"f117\")]   \n",
    "\n",
    "results = {hhid:{} for hhid in unique_hhids}\n",
    "for hhid in unique_hhids:\n",
    "    household = df.loc[df.hhid==hhid]\n",
    "    for c, col in cols:\n",
    "        relevant = [x for x in household[col] if not np.isnan(x)]\n",
    "        if len(relevant):\n",
    "            results[hhid][c] = sum(relevant)\n",
    "        else:\n",
    "            results[hhid][c] = np.nan\n",
    "                    \n",
    "for column in results[1]:\n",
    "    processed[column] = [results[hhid][column] for hhid in results]"
   ]
  },
  {
   "cell_type": "code",
   "execution_count": 18,
   "id": "876a3df6",
   "metadata": {},
   "outputs": [],
   "source": [
    "PROCESSED_DFS.append(processed)"
   ]
  },
  {
   "cell_type": "markdown",
   "id": "e4c2d3ce",
   "metadata": {},
   "source": [
    "## F3: Expenditure for livestock, Poultry/Duckery Production Last 12 Months"
   ]
  },
  {
   "cell_type": "code",
   "execution_count": 19,
   "id": "da00b845",
   "metadata": {},
   "outputs": [],
   "source": [
    "filename = \"005_mod_f3.dta\"\n",
    "path = DATA_DIR + DATA_SUBDIR + filename\n",
    "df = load_data(path)"
   ]
  },
  {
   "cell_type": "code",
   "execution_count": 20,
   "id": "f30ce5d2",
   "metadata": {},
   "outputs": [],
   "source": [
    "df[\"f306\"] = df[\"f306_1\"].fillna(0) + df[\"f306_2\"].fillna(0)\n",
    "df = df.groupby(\"hhid\").sum()\n",
    "processed = column_selection(df, keep=[\"f302\", \"f303\", \"f306\", \"f307\"])\n",
    "processed[\"hhid\"] = processed.index"
   ]
  },
  {
   "cell_type": "code",
   "execution_count": 21,
   "id": "bff90bd9",
   "metadata": {},
   "outputs": [],
   "source": [
    "PROCESSED_DFS.append(processed)"
   ]
  },
  {
   "cell_type": "markdown",
   "id": "04d8fdac",
   "metadata": {},
   "source": [
    "## G1: Credit obtained"
   ]
  },
  {
   "cell_type": "code",
   "execution_count": 22,
   "id": "8187a82f",
   "metadata": {
    "scrolled": false
   },
   "outputs": [],
   "source": [
    "filename = \"006_mod_g.dta\"\n",
    "path = DATA_DIR + DATA_SUBDIR + filename\n",
    "df = load_data(path)"
   ]
  },
  {
   "cell_type": "code",
   "execution_count": 23,
   "id": "ba3c4685",
   "metadata": {},
   "outputs": [],
   "source": [
    "df = df.groupby(\"hhid\").sum()\n",
    "processed = column_selection(df, keep=[\"g07\", \"g10\", \"g16\", \"g18\"])\n",
    "processed[\"hhid\"] = processed.index"
   ]
  },
  {
   "cell_type": "code",
   "execution_count": 24,
   "id": "9855cab1",
   "metadata": {},
   "outputs": [],
   "source": [
    "PROCESSED_DFS.append(processed)"
   ]
  },
  {
   "cell_type": "markdown",
   "id": "fed1db87",
   "metadata": {},
   "source": [
    "## G2: Repayment and utilization of Loan"
   ]
  },
  {
   "cell_type": "code",
   "execution_count": 25,
   "id": "323f57bd",
   "metadata": {},
   "outputs": [],
   "source": [
    "# TODO"
   ]
  },
  {
   "cell_type": "markdown",
   "id": "5eee13da",
   "metadata": {},
   "source": [
    "## H: Household Assets"
   ]
  },
  {
   "cell_type": "code",
   "execution_count": 26,
   "id": "18f7ba23",
   "metadata": {},
   "outputs": [],
   "source": [
    "filename = \"007_mod_h.dta\"\n",
    "path = DATA_DIR + DATA_SUBDIR + filename\n",
    "df = load_data(path)"
   ]
  },
  {
   "cell_type": "code",
   "execution_count": 27,
   "id": "9632d042",
   "metadata": {},
   "outputs": [],
   "source": [
    "# household id\n",
    "processed = pd.DataFrame.from_dict({\"hhid\":list(unique_hhids)})\n",
    "\n",
    "# total value per household asset category\n",
    "categories = {\n",
    "    \"value_consumable_durables\":[i for i in range(1, 12)],\n",
    "    \"value_transport\":[i for i in range(12, 16)],\n",
    "    \"value_livestock_poultry\":[i for i in range(16, 20)],\n",
    "    \"value_agricultural_equipments\":[i for i in range(20,29)],\n",
    "    \"value_other\":[29]\n",
    "}\n",
    "\n",
    "results = {hhid:{} for hhid in unique_hhids}\n",
    "for hhid in unique_hhids:\n",
    "    household = df.loc[df.hhid==hhid]\n",
    "    for c in categories:\n",
    "        category_assets = household.loc[household[\"asset\"].isin(categories[c])]\n",
    "        if len(category_assets):\n",
    "            results[hhid][c] = category_assets[\"h06\"].sum()\n",
    "        else:\n",
    "            results[hhid][c] = 0\n",
    "\n",
    "for column in results[1]:\n",
    "    processed[column] = [results[hhid][column] for hhid in results]"
   ]
  },
  {
   "cell_type": "code",
   "execution_count": 28,
   "id": "fa1e3d66",
   "metadata": {},
   "outputs": [],
   "source": [
    "PROCESSED_DFS.append(processed)"
   ]
  },
  {
   "cell_type": "markdown",
   "id": "b16a5f10",
   "metadata": {},
   "source": [
    "## H1: Assets: Sales of Assets and Change in Ownership"
   ]
  },
  {
   "cell_type": "code",
   "execution_count": 29,
   "id": "d5d60f11",
   "metadata": {},
   "outputs": [],
   "source": [
    "filename = \"008_mod_h1.dta\"\n",
    "path = DATA_DIR + DATA_SUBDIR + filename\n",
    "df = load_data(path)"
   ]
  },
  {
   "cell_type": "code",
   "execution_count": 30,
   "id": "ed4bba98",
   "metadata": {},
   "outputs": [],
   "source": [
    "df = df.groupby(\"hhid\").sum()\n",
    "processed = column_selection(df, keep=[\"h108\"])\n",
    "processed[\"hhid\"] = processed.index"
   ]
  },
  {
   "cell_type": "code",
   "execution_count": 31,
   "id": "b5b6dc7b",
   "metadata": {},
   "outputs": [],
   "source": [
    "PROCESSED_DFS.append(processed)"
   ]
  },
  {
   "cell_type": "markdown",
   "id": "b06dc991",
   "metadata": {},
   "source": [
    "## I: Food Consumption: Purchases, Home Production, and Other Sources"
   ]
  },
  {
   "cell_type": "code",
   "execution_count": 32,
   "id": "c2745e43",
   "metadata": {},
   "outputs": [],
   "source": [
    "filename = \"009_mod_i.dta\"\n",
    "path = DATA_DIR + DATA_SUBDIR + filename\n",
    "df = load_data(path)"
   ]
  },
  {
   "cell_type": "code",
   "execution_count": 33,
   "id": "cc24d236",
   "metadata": {
    "scrolled": true
   },
   "outputs": [],
   "source": [
    "food_categories = {\n",
    "    \"food_cereals\":np.arange(1,10),\n",
    "    \"food_pulses\":np.arange(11,18),\n",
    "    \"food_edible_oil\":np.arange(21,25),\n",
    "    \"food_vegetables\":np.arange(31,56),\n",
    "    \"food_leafy_vegetables\":np.arange(61,75),\n",
    "    \"food_meat_eggs_milk\":np.arange(81,88),\n",
    "    \"food_fruits\":np.arange(91,113),\n",
    "    \"food_fish_large\":np.arange(121,132),\n",
    "    \"food_fish_small\":np.arange(141,149),\n",
    "    \"food_spices\":np.arange(151,161),\n",
    "    \"food_other\":np.arange(171,177),\n",
    "    \"food_drinks\":np.arange(181,184),\n",
    "    \"food_other_outside_home\":np.arange(201,213)\n",
    "}\n",
    "\n",
    "results = {hhid:{} for hhid in unique_hhids}\n",
    "for hhid in unique_hhids:\n",
    "    household = df.loc[df.hhid==hhid]\n",
    "    for c, fcodes in food_categories.items():\n",
    "        relevant_rows = household.loc[household[\"fcode\"].isin(fcodes)]\n",
    "        \n",
    "        if len(relevant_rows):\n",
    "            values = [x for x in list(relevant_rows[\"i07\"]) if not np.isnan(x)]\n",
    "            if len(values):\n",
    "                results[hhid][\"value_\"+c] = sum(values)\n",
    "            else:\n",
    "                results[hhid][\"value_\"+c] = np.nan\n",
    "            weights = [x for x in list(relevant_rows[\"i04\"]) if not np.isnan(x)]\n",
    "            if len(weights):\n",
    "                results[hhid][\"weight_\"+c] = sum(weights)\n",
    "            else:\n",
    "                results[hhid][\"weight_\"+c] = np.nan\n",
    "        else:\n",
    "            results[hhid][\"value_\"+c] = np.nan\n",
    "            results[hhid][\"weight_\"+c] = np.nan\n",
    "            \n",
    "            \n",
    "processed = pd.DataFrame.from_dict({\"hhid\":list(unique_hhids)})\n",
    "for column in results[1]:\n",
    "    processed[column] = [results[hhid][column] for hhid in results]"
   ]
  },
  {
   "cell_type": "code",
   "execution_count": 34,
   "id": "5ec501a7",
   "metadata": {},
   "outputs": [],
   "source": [
    "PROCESSED_DFS.append(processed)"
   ]
  },
  {
   "cell_type": "markdown",
   "id": "d99a60c5",
   "metadata": {},
   "source": [
    "## J1, J2: Non-food Expenditure"
   ]
  },
  {
   "cell_type": "code",
   "execution_count": 35,
   "id": "65ec2311",
   "metadata": {},
   "outputs": [],
   "source": [
    "filename = \"010_mod_j.dta\"\n",
    "path = DATA_DIR + DATA_SUBDIR + filename\n",
    "df = load_data(path)"
   ]
  },
  {
   "cell_type": "code",
   "execution_count": 36,
   "id": "d3f72bbe",
   "metadata": {},
   "outputs": [],
   "source": [
    "non_food_categories = {\n",
    "    \"rent_expenses\":[1,2],\n",
    "    \"fuel_expenses\":[3,4,5,6],\n",
    "    \"local_transport_expenses\":[7,8],\n",
    "    \"miscellaneous_expenses\":[9,10,11,12,13,29,30,31,32,54,55],\n",
    "    \"health_expenses\":[14,15,16],\n",
    "    \"communication_expenses\":[17,18],\n",
    "    \"personal_items_expenses\":np.arange(19,25),\n",
    "    \"entertainment_expenses\":[25,26],\n",
    "    \"non_local_travel_expenses\":[27,28],\n",
    "    \"clothing_expenses\":np.arange(33,39),\n",
    "    \"furniture_household_expenses\":np.arange(39,49),\n",
    "    \"utilities_taxes_fees\":np.arange(49,54),\n",
    "    \"family_events_expenses\":[56,57],\n",
    "    \"wedding_costs_bride\":np.arange(59,63),\n",
    "    \"wedding_costs_groom\":np.arange(63,67),\n",
    "    \"education_expenses\":np.arange(67,73),\n",
    "    \"vehicle_expenses\":np.arange(73,77)\n",
    "}\n",
    "\n",
    "results = {hhid:{} for hhid in unique_hhids}\n",
    "for hhid in unique_hhids:\n",
    "    household = df.loc[df.hhid==hhid]\n",
    "    for c, nfcodes in non_food_categories.items():\n",
    "        relevant_rows = household.loc[household[\"nfcode\"].isin(nfcodes)]\n",
    "        if len(relevant_rows) == 0:        \n",
    "            for col in [\"j02_1\", \"j02_2\", \"j03_1\", \"j03_2\"]:\n",
    "                results[hhid][col+\"_\"+c] = np.nan\n",
    "        else:\n",
    "            for col in [\"j02_1\", \"j02_2\", \"j03_1\", \"j03_2\"]:\n",
    "                items = [x for x in list(relevant_rows[col]) if not np.isnan(x)]\n",
    "                if len(items):\n",
    "                    results[hhid][col+\"_\"+c] = sum(items)\n",
    "                else:\n",
    "                    results[hhid][col+\"_\"+c] = np.nan\n",
    "\n",
    "processed = pd.DataFrame.from_dict({\"hhid\":list(unique_hhids)})\n",
    "for column in results[1]:\n",
    "    processed[column] = [results[hhid][column] for hhid in results]"
   ]
  },
  {
   "cell_type": "code",
   "execution_count": 37,
   "id": "a03363b6",
   "metadata": {},
   "outputs": [],
   "source": [
    "PROCESSED_DFS.append(processed)"
   ]
  },
  {
   "cell_type": "markdown",
   "id": "fe2b5a8d",
   "metadata": {},
   "source": [
    "## K: Housing, Source of Water and sanitation"
   ]
  },
  {
   "cell_type": "code",
   "execution_count": 38,
   "id": "bb312212",
   "metadata": {},
   "outputs": [],
   "source": [
    "filename = \"011_mod_k.dta\"\n",
    "path = DATA_DIR + DATA_SUBDIR + filename\n",
    "df = load_data(path)"
   ]
  },
  {
   "cell_type": "code",
   "execution_count": 39,
   "id": "863e1236",
   "metadata": {},
   "outputs": [],
   "source": [
    "processed = column_selection(df, keep=[\"hhid\", \"k01\", \"k02\", \"k03\", \"k03_1\", \n",
    "                                       \"k04\", \"k05\", \"k05_1\", \"k06\", \"k07\", \"k10\"])"
   ]
  },
  {
   "cell_type": "code",
   "execution_count": 40,
   "id": "a29d018f",
   "metadata": {},
   "outputs": [],
   "source": [
    "PROCESSED_DFS.append(processed)"
   ]
  },
  {
   "cell_type": "markdown",
   "id": "061064d3",
   "metadata": {},
   "source": [
    "## L : Weather events adversely affected the household or the farming"
   ]
  },
  {
   "cell_type": "code",
   "execution_count": 41,
   "id": "cb5aba15",
   "metadata": {},
   "outputs": [],
   "source": [
    "filename = \"012_mod_l.dta\"\n",
    "path = DATA_DIR + DATA_SUBDIR + filename\n",
    "df = load_data(path)"
   ]
  },
  {
   "cell_type": "code",
   "execution_count": 42,
   "id": "1411620c",
   "metadata": {},
   "outputs": [],
   "source": [
    "calamity_numbers = [i for i in range(1, 13)]\n",
    "\n",
    "results = {hhid:{} for hhid in unique_hhids}\n",
    "\n",
    "for hhid in unique_hhids:\n",
    "    household = df.loc[df.hhid == hhid]\n",
    "    nums = list(household[\"l01\"])\n",
    "    for n in calamity_numbers:\n",
    "        # TODO: missing values!\n",
    "        if n not in nums:\n",
    "            results[hhid][\"calamity_\"+str(n)] = 0\n",
    "        else:\n",
    "            if int(household.loc[household[\"l01\"]==n][\"l02\"]) == 1:\n",
    "                results[hhid][\"calamity_\"+str(n)] = 1\n",
    "            else:\n",
    "                results[hhid][\"calamity_\"+str(n)] = 0       \n",
    "\n",
    "processed = pd.DataFrame()\n",
    "for column in results[1]:\n",
    "    processed[column] = [results[hhid][column] for hhid in results]\n",
    "    \n",
    "processed[\"hhid\"] = unique_hhids"
   ]
  },
  {
   "cell_type": "code",
   "execution_count": 43,
   "id": "f32d0fc9",
   "metadata": {},
   "outputs": [],
   "source": [
    "PROCESSED_DFS.append(processed)"
   ]
  },
  {
   "cell_type": "markdown",
   "id": "cd54cd53",
   "metadata": {},
   "source": [
    "## L1: Weather events adversely affected the household or the farming cope"
   ]
  },
  {
   "cell_type": "code",
   "execution_count": 44,
   "id": "debb57a2",
   "metadata": {},
   "outputs": [],
   "source": [
    "filename = \"013_mod_l1.dta\"\n",
    "path = DATA_DIR + DATA_SUBDIR + filename\n",
    "df = load_data(path)"
   ]
  },
  {
   "cell_type": "code",
   "execution_count": 45,
   "id": "5dee516f",
   "metadata": {
    "scrolled": true
   },
   "outputs": [],
   "source": [
    "df = df.groupby(\"hhid\").sum()\n",
    "processed = column_selection(df, keep=[\"l1_05\"])\n",
    "processed = processed.rename(columns={\"l1_05\":\"weather_events_damage\"})\n",
    "processed[\"hhid\"] = processed.index"
   ]
  },
  {
   "cell_type": "code",
   "execution_count": 46,
   "id": "b854053d",
   "metadata": {},
   "outputs": [],
   "source": [
    "PROCESSED_DFS.append(processed)"
   ]
  },
  {
   "cell_type": "markdown",
   "id": "51d55c4b",
   "metadata": {},
   "source": [
    "## L2: Shocks"
   ]
  },
  {
   "cell_type": "code",
   "execution_count": 47,
   "id": "1275aac5",
   "metadata": {},
   "outputs": [],
   "source": [
    "filename = \"014_mod_l2.dta\"\n",
    "path = DATA_DIR + DATA_SUBDIR + filename\n",
    "df = load_data(path)"
   ]
  },
  {
   "cell_type": "code",
   "execution_count": 48,
   "id": "2d23d318",
   "metadata": {},
   "outputs": [],
   "source": [
    "df = df.groupby(\"hhid\").sum()\n",
    "processed = column_selection(df, keep=[\"l2_06\"])\n",
    "processed[\"hhid\"] = processed.index"
   ]
  },
  {
   "cell_type": "code",
   "execution_count": 49,
   "id": "c15158f0",
   "metadata": {},
   "outputs": [],
   "source": [
    "PROCESSED_DFS.append(processed)"
   ]
  },
  {
   "cell_type": "markdown",
   "id": "12c9e7f4",
   "metadata": {},
   "source": [
    "## L3: Positive Economic Events"
   ]
  },
  {
   "cell_type": "code",
   "execution_count": 50,
   "id": "96d24f27",
   "metadata": {},
   "outputs": [],
   "source": [
    "filename = \"015_mod_l3.dta\"\n",
    "path = DATA_DIR + DATA_SUBDIR + filename\n",
    "df = load_data(path)"
   ]
  },
  {
   "cell_type": "code",
   "execution_count": 51,
   "id": "d0b1fa6c",
   "metadata": {},
   "outputs": [],
   "source": [
    "df = df.groupby(\"hhid\").sum()\n",
    "processed = column_selection(df, keep=[\"l3_06\"])\n",
    "processed[\"hhid\"] = processed.index"
   ]
  },
  {
   "cell_type": "code",
   "execution_count": 52,
   "id": "20df7284",
   "metadata": {},
   "outputs": [],
   "source": [
    "PROCESSED_DFS.append(processed)"
   ]
  },
  {
   "cell_type": "markdown",
   "id": "373b99d5",
   "metadata": {},
   "source": [
    "## M: Agricultural extension"
   ]
  },
  {
   "cell_type": "code",
   "execution_count": 53,
   "id": "5a76eb65",
   "metadata": {},
   "outputs": [],
   "source": [
    "filename = \"017_mod_m.dta\"\n",
    "path = DATA_DIR + DATA_SUBDIR + filename\n",
    "df = load_data(path)"
   ]
  },
  {
   "cell_type": "code",
   "execution_count": 54,
   "id": "a9485fde",
   "metadata": {},
   "outputs": [],
   "source": [
    "processed = column_selection(df)"
   ]
  },
  {
   "cell_type": "code",
   "execution_count": 55,
   "id": "84d0d5be",
   "metadata": {},
   "outputs": [],
   "source": [
    "PROCESSED_DFS.append(processed)"
   ]
  },
  {
   "cell_type": "markdown",
   "id": "c2b64275",
   "metadata": {},
   "source": [
    "## Q: Perceptions of Climate Change"
   ]
  },
  {
   "cell_type": "code",
   "execution_count": 56,
   "id": "3440463b",
   "metadata": {},
   "outputs": [],
   "source": [
    "filename = \"018_mod_q.dta\"\n",
    "path = DATA_DIR + DATA_SUBDIR + filename\n",
    "df = load_data(path)"
   ]
  },
  {
   "cell_type": "code",
   "execution_count": 57,
   "id": "4ce11c74",
   "metadata": {},
   "outputs": [],
   "source": [
    "processed = column_selection(df)"
   ]
  },
  {
   "cell_type": "code",
   "execution_count": 58,
   "id": "34da5d1b",
   "metadata": {},
   "outputs": [],
   "source": [
    "PROCESSED_DFS.append(processed)"
   ]
  },
  {
   "cell_type": "markdown",
   "id": "7410441d",
   "metadata": {},
   "source": [
    "## O: Changes in farming practices due to climate change"
   ]
  },
  {
   "cell_type": "code",
   "execution_count": 59,
   "id": "787e5f62",
   "metadata": {},
   "outputs": [],
   "source": [
    "filename = \"019_mod_o.dta\"\n",
    "path = DATA_DIR + DATA_SUBDIR + filename\n",
    "df = load_data(path)"
   ]
  },
  {
   "cell_type": "code",
   "execution_count": 60,
   "id": "eec377b5",
   "metadata": {},
   "outputs": [],
   "source": [
    "keep = [\"hhid\"] + [\"o0\"+str(i)+\"_1\" for i in range(2, 9)] + [\"o09\"] + \\\n",
    "       [\"o\"+str(i) for i in range(10, 23)] + [\"o\"+str(i)+\"_1\" for i in range(23, 29)] + [\"o29\"]\n",
    "\n",
    "processed = column_selection(df, keep=keep)"
   ]
  },
  {
   "cell_type": "code",
   "execution_count": 61,
   "id": "2c27cf3c",
   "metadata": {},
   "outputs": [],
   "source": [
    "PROCESSED_DFS.append(processed)"
   ]
  },
  {
   "cell_type": "code",
   "execution_count": 62,
   "id": "21398883",
   "metadata": {},
   "outputs": [],
   "source": [
    "ADAPTATION_DFS.append(processed)"
   ]
  },
  {
   "cell_type": "markdown",
   "id": "27695b5a",
   "metadata": {},
   "source": [
    "## O1: Any integration about Livestock/Poultry"
   ]
  },
  {
   "cell_type": "code",
   "execution_count": 63,
   "id": "ec6942fb",
   "metadata": {},
   "outputs": [],
   "source": [
    "filename = \"020_mod_o1.dta\"\n",
    "path = DATA_DIR + DATA_SUBDIR + filename\n",
    "df = load_data(path)"
   ]
  },
  {
   "cell_type": "code",
   "execution_count": 64,
   "id": "ca6eaaed",
   "metadata": {},
   "outputs": [],
   "source": [
    "keep = [\"hhid\"] + [\"o1_01_\"+str(i) for i in range(1, 10)]\n",
    "processed = column_selection(df, keep=keep)"
   ]
  },
  {
   "cell_type": "code",
   "execution_count": 65,
   "id": "d16200fa",
   "metadata": {},
   "outputs": [],
   "source": [
    "PROCESSED_DFS.append(processed)"
   ]
  },
  {
   "cell_type": "code",
   "execution_count": 66,
   "id": "01378887",
   "metadata": {},
   "outputs": [],
   "source": [
    "ADAPTATION_DFS.append(processed)"
   ]
  },
  {
   "cell_type": "markdown",
   "id": "b88b84ff",
   "metadata": {},
   "source": [
    "## O2: Constraints to adaptation"
   ]
  },
  {
   "cell_type": "code",
   "execution_count": 67,
   "id": "89cf12ed",
   "metadata": {},
   "outputs": [],
   "source": [
    "filename = \"021_mod_o2.dta\"\n",
    "path = DATA_DIR + DATA_SUBDIR + filename\n",
    "df = load_data(path)"
   ]
  },
  {
   "cell_type": "code",
   "execution_count": 68,
   "id": "6b02f91b",
   "metadata": {},
   "outputs": [],
   "source": [
    "max_len = 0\n",
    "for hhid in unique_hhids:\n",
    "    max_len = max(max_len, len(df.loc[df.hhid==hhid]))\n",
    "\n",
    "results = {hhid:{} for hhid in unique_hhids}\n",
    "for hhid in unique_hhids:\n",
    "    household = df.loc[df.hhid==hhid]\n",
    "    idx = 0\n",
    "    for _, row in household.iterrows():\n",
    "        results[hhid][f\"constraints_{idx}_measure\"] = row[\"o2_01\"]\n",
    "        severity = [x for x in row[[\"o2_03_1\", \"o2_03_2\", \"o2_03_3\", \"o2_03_4\", \"o2_03_5\"]] if not np.isnan(x)]\n",
    "        if len(severity):\n",
    "            for i in range(5):\n",
    "                if i in severity:\n",
    "                    most_severe = severity.index(i) + 1\n",
    "                    results[hhid][f\"constraints_{idx}_constraint\"] = row[f'o2_02_{most_severe}']\n",
    "                    break\n",
    "        else:\n",
    "            results[hhid][f\"constraints_{idx}_constraint\"] = np.nan\n",
    "        \n",
    "        idx += 1\n",
    "    \n",
    "    while idx < max_len:\n",
    "        results[hhid][f\"constraints_{idx}_measure\"] = np.nan\n",
    "        results[hhid][f\"constraints_{idx}_constraint\"] = np.nan\n",
    "        idx += 1"
   ]
  },
  {
   "cell_type": "code",
   "execution_count": 69,
   "id": "f185ba44",
   "metadata": {},
   "outputs": [],
   "source": [
    "PROCESSED_DFS.append(processed)"
   ]
  },
  {
   "cell_type": "markdown",
   "id": "87591cba",
   "metadata": {},
   "source": [
    "## R1: Information of group based approach"
   ]
  },
  {
   "cell_type": "code",
   "execution_count": 71,
   "id": "fa9458cb",
   "metadata": {},
   "outputs": [],
   "source": [
    "filename = \"022_mod_r1.dta\"\n",
    "path = DATA_DIR + DATA_SUBDIR + filename\n",
    "df = load_data(path)"
   ]
  },
  {
   "cell_type": "code",
   "execution_count": 72,
   "id": "393b5d08",
   "metadata": {
    "scrolled": true
   },
   "outputs": [],
   "source": [
    "groups = np.arange(1, 19)\n",
    "\n",
    "results = {hhid:{} for hhid in unique_hhids}\n",
    "for hhid in unique_hhids:\n",
    "    household = df.loc[df.hhid==hhid]\n",
    "    for g in groups:\n",
    "        g_row = household.loc[household[\"r1_01\"]==g]\n",
    "        if len(g_row):\n",
    "            membership_values = list(g_row[\"r1_02\"])\n",
    "            if 1 in membership_values:\n",
    "                results[hhid][f\"group_{g}_membership\"] = 1\n",
    "            else:\n",
    "                results[hhid][f\"group_{g}_membership\"] = 0\n",
    "        else:\n",
    "            results[hhid][f\"group_{g}_membership\"] = 0\n",
    "            \n",
    "processed = pd.DataFrame()\n",
    "for column in results[1]:\n",
    "    processed[column] = [results[hhid][column] for hhid in results]\n",
    "    \n",
    "processed[\"hhid\"] = unique_hhids"
   ]
  },
  {
   "cell_type": "code",
   "execution_count": 73,
   "id": "1751fd06",
   "metadata": {},
   "outputs": [],
   "source": [
    "PROCESSED_DFS.append(processed)"
   ]
  },
  {
   "cell_type": "markdown",
   "id": "d929dfe5",
   "metadata": {},
   "source": [
    "## R2: Group activity related information"
   ]
  },
  {
   "cell_type": "code",
   "execution_count": 74,
   "id": "e38fbcfd",
   "metadata": {},
   "outputs": [],
   "source": [
    "filename = \"023_mod_r2.dta\"\n",
    "path = DATA_DIR + DATA_SUBDIR + filename\n",
    "df = load_data(path)"
   ]
  },
  {
   "cell_type": "code",
   "execution_count": 75,
   "id": "4a516f4d",
   "metadata": {},
   "outputs": [],
   "source": [
    "keep = [\"hhid\"]\n",
    "keep += [f\"r2_15_{i}\" for i in range(1,5)] + [f\"r2_16_{i}\" for i in range(1,5)]\n",
    "for j in range(17, 24):\n",
    "    keep += [f\"r2_{j}_{i}_1\" for i in range(1,5)]\n",
    "processed = column_selection(df, keep=keep)"
   ]
  },
  {
   "cell_type": "markdown",
   "id": "d69b273d",
   "metadata": {},
   "source": [
    "## R3: Network"
   ]
  },
  {
   "cell_type": "code",
   "execution_count": 76,
   "id": "29935429",
   "metadata": {},
   "outputs": [],
   "source": [
    "filename = \"024_mod_r3.dta\"\n",
    "path = DATA_DIR + DATA_SUBDIR + filename\n",
    "df = load_data(path)"
   ]
  },
  {
   "cell_type": "code",
   "execution_count": 77,
   "id": "ff88ded7",
   "metadata": {},
   "outputs": [],
   "source": [
    "processed = column_selection(df, remove=[\"r3_01_1\", \"r3_01_2\"])"
   ]
  },
  {
   "cell_type": "code",
   "execution_count": 78,
   "id": "38ab74cb",
   "metadata": {},
   "outputs": [],
   "source": [
    "PROCESSED_DFS.append(processed)"
   ]
  },
  {
   "cell_type": "markdown",
   "id": "fd129916",
   "metadata": {},
   "source": [
    "## R4: Trust and Solidarity"
   ]
  },
  {
   "cell_type": "code",
   "execution_count": 79,
   "id": "29e7085e",
   "metadata": {},
   "outputs": [],
   "source": [
    "filename = \"025_mod_r4.dta\"\n",
    "path = DATA_DIR + DATA_SUBDIR + filename\n",
    "df = load_data(path)"
   ]
  },
  {
   "cell_type": "code",
   "execution_count": 80,
   "id": "08171963",
   "metadata": {},
   "outputs": [],
   "source": [
    "processed = column_selection(df, remove=[\"r4_01_1\", \"r4_01_2\"])"
   ]
  },
  {
   "cell_type": "code",
   "execution_count": 81,
   "id": "55b7459e",
   "metadata": {},
   "outputs": [],
   "source": [
    "PROCESSED_DFS.append(processed)"
   ]
  },
  {
   "cell_type": "markdown",
   "id": "aee9de2b",
   "metadata": {},
   "source": [
    "## R5: Economic setbacks"
   ]
  },
  {
   "cell_type": "code",
   "execution_count": 82,
   "id": "c5baf478",
   "metadata": {},
   "outputs": [],
   "source": [
    "filename = \"026_mod_r5.dta\"\n",
    "path = DATA_DIR + DATA_SUBDIR + filename\n",
    "df = load_data(path)"
   ]
  },
  {
   "cell_type": "code",
   "execution_count": 83,
   "id": "a8a1f70c",
   "metadata": {},
   "outputs": [],
   "source": [
    "results = {hhid:0 for hhid in unique_hhids}\n",
    "for hhid in unique_hhids:\n",
    "    household = df.loc[df.hhid==hhid]\n",
    "    if 1 in list(household[\"r5\"]):\n",
    "        results[hhid] = 1\n",
    "        \n",
    "processed = pd.DataFrame.from_dict({\"r5\":results})\n",
    "processed[\"hhid\"] = processed.index"
   ]
  },
  {
   "cell_type": "code",
   "execution_count": 84,
   "id": "38f3f9b9",
   "metadata": {},
   "outputs": [],
   "source": [
    "PROCESSED_DFS.append(processed)"
   ]
  },
  {
   "cell_type": "markdown",
   "id": "a218fac9",
   "metadata": {},
   "source": [
    "## R6: Collective Action and Cooperation and Sociability"
   ]
  },
  {
   "cell_type": "code",
   "execution_count": 85,
   "id": "cead9679",
   "metadata": {},
   "outputs": [],
   "source": [
    "filename = \"027_mod_r6.dta\"\n",
    "path = DATA_DIR + DATA_SUBDIR + filename\n",
    "df = load_data(path)"
   ]
  },
  {
   "cell_type": "code",
   "execution_count": 86,
   "id": "195f73a9",
   "metadata": {},
   "outputs": [],
   "source": [
    "processed = column_selection(df, remove=[\"r6_01_1\", \"r6_01_2\"])"
   ]
  },
  {
   "cell_type": "code",
   "execution_count": 87,
   "id": "3ceeaa53",
   "metadata": {},
   "outputs": [],
   "source": [
    "PROCESSED_DFS.append(processed)"
   ]
  },
  {
   "cell_type": "markdown",
   "id": "0529a1c0",
   "metadata": {},
   "source": [
    "## R7: Information and Communication"
   ]
  },
  {
   "cell_type": "code",
   "execution_count": 88,
   "id": "e6b3745d",
   "metadata": {},
   "outputs": [],
   "source": [
    "filename = \"028_mod_r7.dta\"\n",
    "path = DATA_DIR + DATA_SUBDIR + filename\n",
    "df = load_data(path)"
   ]
  },
  {
   "cell_type": "code",
   "execution_count": 89,
   "id": "154c2706",
   "metadata": {},
   "outputs": [],
   "source": [
    "processed = column_selection(df, remove=[\"r7_01_1\", \"r7_01_2\"])"
   ]
  },
  {
   "cell_type": "code",
   "execution_count": 90,
   "id": "92099c83",
   "metadata": {},
   "outputs": [],
   "source": [
    "PROCESSED_DFS.append(processed)"
   ]
  },
  {
   "cell_type": "markdown",
   "id": "37ae414a",
   "metadata": {},
   "source": [
    "## R8: Production and climate Information"
   ]
  },
  {
   "cell_type": "code",
   "execution_count": 91,
   "id": "2bb0baf2",
   "metadata": {},
   "outputs": [],
   "source": [
    "filename = \"029_mod_r8.dta\"\n",
    "path = DATA_DIR + DATA_SUBDIR + filename\n",
    "df = load_data(path)"
   ]
  },
  {
   "cell_type": "code",
   "execution_count": 92,
   "id": "9b07ec30",
   "metadata": {},
   "outputs": [],
   "source": [
    "keep = [\"hhid\", \"r8_02_1\", \"r8_02_2\", \"r8_06_1\", \"r8_06_2\", \"r8_14_1\", \"r8_14_2\"]\n",
    "processed = column_selection(df, keep=keep)"
   ]
  },
  {
   "cell_type": "code",
   "execution_count": 93,
   "id": "62c3777d",
   "metadata": {},
   "outputs": [],
   "source": [
    "PROCESSED_DFS.append(processed)"
   ]
  },
  {
   "cell_type": "markdown",
   "id": "de4b1964",
   "metadata": {},
   "source": [
    "## R9: Production and climate Information"
   ]
  },
  {
   "cell_type": "code",
   "execution_count": 94,
   "id": "3f5262b7",
   "metadata": {},
   "outputs": [],
   "source": [
    "filename = \"030_mod_r9.dta\"\n",
    "path = DATA_DIR + DATA_SUBDIR + filename\n",
    "df = load_data(path)"
   ]
  },
  {
   "cell_type": "code",
   "execution_count": 95,
   "id": "e379e07f",
   "metadata": {},
   "outputs": [],
   "source": [
    "keep = [\"hhid\", \"r9_02_1\", \"r9_02_2\", \"r9_09_1\", \"r9_09_2\"]\n",
    "processed = column_selection(df, keep=keep)"
   ]
  },
  {
   "cell_type": "code",
   "execution_count": 96,
   "id": "9406e281",
   "metadata": {},
   "outputs": [],
   "source": [
    "PROCESSED_DFS.append(processed)"
   ]
  },
  {
   "cell_type": "markdown",
   "id": "bac5374a",
   "metadata": {},
   "source": [
    "## S: Empowerment and Political Action"
   ]
  },
  {
   "cell_type": "code",
   "execution_count": 97,
   "id": "14fccda9",
   "metadata": {},
   "outputs": [],
   "source": [
    "filename = \"031_mod_s.dta\"\n",
    "path = DATA_DIR + DATA_SUBDIR + filename\n",
    "df = load_data(path)"
   ]
  },
  {
   "cell_type": "code",
   "execution_count": 98,
   "id": "90ea493c",
   "metadata": {},
   "outputs": [],
   "source": [
    "processed = column_selection(df, remove=[\"s_01_1\", \"s_01_2\"])"
   ]
  },
  {
   "cell_type": "code",
   "execution_count": 99,
   "id": "661cb9cc",
   "metadata": {},
   "outputs": [],
   "source": [
    "PROCESSED_DFS.append(processed)"
   ]
  },
  {
   "cell_type": "markdown",
   "id": "c12b81f3",
   "metadata": {},
   "source": [
    "## T: Employment"
   ]
  },
  {
   "cell_type": "code",
   "execution_count": 100,
   "id": "36db9901",
   "metadata": {},
   "outputs": [],
   "source": [
    "filename = \"032_mod_t.dta\"\n",
    "path = DATA_DIR + DATA_SUBDIR + filename\n",
    "df = load_data(path)"
   ]
  },
  {
   "cell_type": "code",
   "execution_count": 101,
   "id": "8651a8ef",
   "metadata": {},
   "outputs": [],
   "source": [
    "job_categories = {\n",
    "    \"job_wage_labor\":np.arange(1,12),\n",
    "    \"job_salaried_worker\":np.arange(12,22),\n",
    "    \"job_self_employment\":np.arange(22,48),\n",
    "    \"job_trader\":np.arange(50,55),\n",
    "    \"job_production\":np.arange(55,58),\n",
    "    \"job_livestock_poultry_service\":np.arange(58,64),\n",
    "    \"job_farming\":np.arange(64,73)\n",
    "}\n",
    "\n",
    "results = {hhid:{c:0 for c in job_categories} for hhid in unique_hhids}\n",
    "for hhid in unique_hhids:\n",
    "    household = df.loc[df.hhid==hhid]\n",
    "    relevant = list(household[\"t05\"])\n",
    "    for c, numbers in job_categories.items():\n",
    "        for n in numbers:\n",
    "            if n in relevant:\n",
    "                results[hhid][c] += 1\n",
    "            \n",
    "processed = pd.DataFrame.from_dict({\"hhid\":list(unique_hhids)})        \n",
    "for column in results[1]:\n",
    "    processed[column] = [results[hhid][column] for hhid in results]"
   ]
  },
  {
   "cell_type": "code",
   "execution_count": 102,
   "id": "f2e633e0",
   "metadata": {},
   "outputs": [],
   "source": [
    "PROCESSED_DFS.append(processed)"
   ]
  },
  {
   "cell_type": "markdown",
   "id": "6d8cebe1",
   "metadata": {},
   "source": [
    "## U: Time use of male and female members in the household"
   ]
  },
  {
   "cell_type": "code",
   "execution_count": 103,
   "id": "6978fa93",
   "metadata": {},
   "outputs": [],
   "source": [
    "# TODO: discard?"
   ]
  },
  {
   "cell_type": "markdown",
   "id": "c7b4902c",
   "metadata": {},
   "source": [
    "## V: Anthropometry"
   ]
  },
  {
   "cell_type": "code",
   "execution_count": 104,
   "id": "cde7b481",
   "metadata": {},
   "outputs": [],
   "source": [
    "# TODO: discard?"
   ]
  },
  {
   "cell_type": "markdown",
   "id": "254846ed",
   "metadata": {},
   "source": [
    "# Combine processed dataframes"
   ]
  },
  {
   "cell_type": "code",
   "execution_count": 101,
   "id": "a9c5248e",
   "metadata": {},
   "outputs": [],
   "source": [
    "# maintain list of all the processed dataframes\n",
    "# make sure all dataframes have one row per household id\n",
    "# add empty rows for missing household ids where necessary\n",
    "# mind the treatment of MISSING VALUES!\n",
    "    # do we really want to impute \"0\" when no information is present?\n",
    "    # just leave as empty\n",
    "        # then if we see a household with many empty fields, or a feature with mostly empty values,\n",
    "        # we remove it\n",
    "# combine all the dataframes into one dataframe (each hhid is a single feature vector/row)"
   ]
  },
  {
   "cell_type": "code",
   "execution_count": null,
   "id": "85af0860",
   "metadata": {},
   "outputs": [],
   "source": []
  },
  {
   "cell_type": "code",
   "execution_count": null,
   "id": "9f130554",
   "metadata": {},
   "outputs": [],
   "source": []
  },
  {
   "cell_type": "markdown",
   "id": "497415bf",
   "metadata": {},
   "source": [
    "# Mutual Information Regression"
   ]
  },
  {
   "cell_type": "code",
   "execution_count": 129,
   "id": "0032688b",
   "metadata": {},
   "outputs": [],
   "source": [
    "num_changes = {hhid:0 for hhid in unique_hhids}\n",
    "for DF in ADAPTATION_DFS:\n",
    "    for hhid in unique_hhids:\n",
    "        hh = DF.loc[DF.hhid==hhid]\n",
    "        if len(hh):\n",
    "            ignore_hhid_col = hh.loc[:, ~hh.columns.isin(['hhid'])]\n",
    "            num_changes[hhid] += sum(np.array(ignore_hhid_col.iloc[0]==1))"
   ]
  },
  {
   "cell_type": "code",
   "execution_count": 130,
   "id": "8c4d0427",
   "metadata": {
    "scrolled": true
   },
   "outputs": [
    {
     "name": "stdout",
     "output_type": "stream",
     "text": [
      "0.0\n",
      "0.03333333333333333\n",
      "0.06666666666666667\n",
      "0.1\n",
      "0.13333333333333333\n",
      "0.16666666666666666\n",
      "0.2\n",
      "0.23333333333333334\n",
      "0.26666666666666666\n",
      "0.3\n",
      "0.3333333333333333\n",
      "0.36666666666666664\n",
      "0.4\n",
      "0.43333333333333335\n",
      "0.4666666666666667\n",
      "0.5\n",
      "0.5333333333333333\n",
      "0.5666666666666667\n",
      "0.6\n",
      "0.6333333333333333\n",
      "0.6666666666666666\n",
      "0.7\n",
      "0.7333333333333333\n",
      "0.7666666666666667\n",
      "0.8\n",
      "0.8333333333333334\n",
      "0.8666666666666667\n",
      "0.9\n",
      "0.9333333333333333\n",
      "0.9666666666666667\n"
     ]
    }
   ],
   "source": [
    "mutual_info = {}\n",
    "\n",
    "for i, DF in enumerate(PROCESSED_DFS):\n",
    "    for col in DF.columns:\n",
    "        if col not in [\"hhid\", \"community_code\"]:\n",
    "            X = {}\n",
    "            for hhid in DF.hhid:\n",
    "                if hhid in num_changes:\n",
    "                    val = list(DF.loc[DF.hhid==hhid][col])[0]\n",
    "                    if not np.isnan(val):\n",
    "                        X[hhid] = val\n",
    "            \n",
    "            sorted_keys = sorted(X.keys())\n",
    "            X = np.array([X[k] for k in sorted_keys]).reshape(-1,1)\n",
    "            y = np.array([num_changes[k] for k in sorted_keys])\n",
    "            try:\n",
    "                mutual_info[col] = mutual_info_regression(X,y)[0]\n",
    "            except:\n",
    "                mutual_info[col] = -1\n",
    "            \n",
    "    print(i/len(PROCESSED_DFS))"
   ]
  },
  {
   "cell_type": "code",
   "execution_count": 158,
   "id": "8311324f",
   "metadata": {},
   "outputs": [
    {
     "data": {
      "image/png": "[encoded data removed]",
      "text/plain": [
       "<Figure size 600x500 with 1 Axes>"
      ]
     },
     "metadata": {},
     "output_type": "display_data"
    }
   ],
   "source": [
    "valz = []\n",
    "for col, val in mutual_info.items():\n",
    "    if col[0] != \"o\" and val != -1:\n",
    "        valz.append(val)\n",
    "        \n",
    "plt.hist(valz, color=\"dodgerblue\", edgecolor=\"k\", bins=30)\n",
    "plt.xlabel(\"Mutual Information Score\")\n",
    "plt.ylabel(\"Frequency\")\n",
    "plt.show()"
   ]
  },
  {
   "cell_type": "code",
   "execution_count": 159,
   "id": "140c8872",
   "metadata": {},
   "outputs": [
    {
     "data": {
      "text/plain": [
       "[('j03_2_miscellaneous_expenses', 0.2422801942209829),\n",
       " ('j02_1_vehicle_expenses', 0.22404994210686602),\n",
       " ('r6_04_2_2', 0.19943450063543144),\n",
       " ('r6_03_1_3', 0.161805842015585),\n",
       " ('r7_11_1_3', 0.1418564365763988),\n",
       " ('r7_11_1_2', 0.13461671782986118),\n",
       " ('j03_2_family_events_expenses', 0.13055555555555576),\n",
       " ('r7_07_2_3', 0.12615182269547232),\n",
       " ('r7_06_2_3', 0.10387365663563619),\n",
       " ('job_farming', 0.09939711695271258),\n",
       " ('weight_food_drinks', 0.0916661736844584),\n",
       " ('s_06_3_2', 0.08231736077019924),\n",
       " ('value_food_other', 0.08024871898797814),\n",
       " ('j03_1_health_expenses', 0.07870370370370372),\n",
       " ('m01', 0.07748945845422206)]"
      ]
     },
     "execution_count": 159,
     "metadata": {},
     "output_type": "execute_result"
    }
   ],
   "source": [
    "k = sorted(mutual_info, key=lambda x: mutual_info[x], reverse=True)\n",
    "k = [item for item in k if item[0] != \"o\"]\n",
    "\n",
    "pairs = []\n",
    "for item in k:\n",
    "    pairs.append((item, mutual_info[item]))\n",
    "    \n",
    "pairs[:15]"
   ]
  },
  {
   "cell_type": "code",
   "execution_count": null,
   "id": "f7c5bfac",
   "metadata": {},
   "outputs": [],
   "source": []
  }
 ],
 "metadata": {
  "kernelspec": {
   "display_name": "Python 3",
   "language": "python",
   "name": "python3"
  },
  "language_info": {
   "codemirror_mode": {
    "name": "ipython",
    "version": 3
   },
   "file_extension": ".py",
   "mimetype": "text/x-python",
   "name": "python",
   "nbconvert_exporter": "python",
   "pygments_lexer": "ipython3",
   "version": "3.8.6"
  }
 },
 "nbformat": 4,
 "nbformat_minor": 5
}
