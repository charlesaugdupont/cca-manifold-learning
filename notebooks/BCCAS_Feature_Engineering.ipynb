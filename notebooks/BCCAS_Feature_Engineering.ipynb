{
 "cells": [
  {
   "cell_type": "code",
   "execution_count": 1,
   "id": "acdc0b3a",
   "metadata": {},
   "outputs": [
    {
     "name": "stdout",
     "output_type": "stream",
     "text": [
      "Working directory: /Users/charlesdupont/Desktop/Thesis/code/quafing\n"
     ]
    }
   ],
   "source": [
    "import os\n",
    "os.chdir('../quafing/')\n",
    "print(f\"Working directory: {os.getcwd()}\")\n",
    "\n",
    "import quafing as q\n",
    "\n",
    "\n",
    "import random\n",
    "import numpy as np\n",
    "from scipy.stats import mode\n",
    "\n",
    "from sklearn.feature_selection import mutual_info_regression\n",
    "\n",
    "import pandas as pd\n",
    "pd.options.mode.chained_assignment = None  # default='warn'\n",
    "\n",
    "import matplotlib.pyplot as plt\n",
    "\n",
    "\n",
    "plt.rcParams.update(plt.rcParamsDefault)\n",
    "plt.rcParams.update({\"font.size\" : 15, \n",
    "                     \"figure.dpi\" : 100, \n",
    "                     \"legend.fontsize\" : 13, \n",
    "                     \"grid.alpha\" : 0.3, \n",
    "                     \"axes.grid\": True, \n",
    "                     \"axes.axisbelow\" : True, \n",
    "                     \"figure.figsize\":(6, 5)})"
   ]
  },
  {
   "cell_type": "code",
   "execution_count": 2,
   "id": "e7ff95f3",
   "metadata": {},
   "outputs": [],
   "source": [
    "def load_data(path):\n",
    "    \"\"\"\n",
    "    Loads .dta file using provided path.\n",
    "    \"\"\"\n",
    "    return pd.read_stata(path, convert_categoricals=False)\n",
    "\n",
    "\n",
    "def add_missing_hhids(df):\n",
    "    \"\"\"\n",
    "    Adds empty rows for hhids missing from df.\n",
    "    df must already have an \"hhid\" column!\n",
    "    \"\"\"\n",
    "    df = df.round({\"hhid\":1})\n",
    "    missing = set(UNIQUE_HHID) - set(df[\"hhid\"].unique())\n",
    "    missing_dict = {\"hhid\":[round(item, 1) for item in list(missing)]}\n",
    "    for col in df.columns:\n",
    "        if col != \"hhid\":\n",
    "            missing_dict[col] = [np.nan]*len(missing)\n",
    "    missing_df = pd.DataFrame.from_dict(missing_dict)\n",
    "    concat = pd.concat([df, missing_df])\n",
    "    return concat.round({\"hhid\":1})\n",
    "\n",
    "\n",
    "def column_selection(df, keep=None, remove=None):\n",
    "    \"\"\"\n",
    "    Performs column selection on dataframe.\n",
    "    Args:\n",
    "        no_change: boolean indicating whether to keep all columns\n",
    "        keep: list of columns to keep\n",
    "        remove: list of columns to remove\n",
    "    Returns:\n",
    "        updated dataframe\n",
    "    \"\"\"\n",
    "    if keep:\n",
    "        return df[keep]\n",
    "    elif remove:\n",
    "        return df.loc[:, ~df.columns.isin(remove)]\n",
    "    else:\n",
    "        return df\n",
    "\n",
    "\n",
    "def get_processed_df(results):\n",
    "    processed = pd.DataFrame.from_dict({})\n",
    "    for column in results[1]:\n",
    "        processed[column] = [results[hhid][column] for hhid in results]\n",
    "    return processed\n",
    "\n",
    "\n",
    "def apply_mapping(df, mapping):\n",
    "    results = {hhid:{\"hhid\":hhid} for hhid in UNIQUE_HHID}\n",
    "    for hhid in UNIQUE_HHID:\n",
    "        household = df.loc[df.hhid==hhid]    \n",
    "        for label, tup in mapping.items():\n",
    "            col, operation = tup\n",
    "            non_nan = household.loc[~household[col].isna()]\n",
    "            results[hhid][label] = operation_lambda[operation](non_nan[col]) if len(non_nan) else np.nan\n",
    "\n",
    "    return get_processed_df(results) "
   ]
  },
  {
   "cell_type": "code",
   "execution_count": 3,
   "id": "425dc36e",
   "metadata": {},
   "outputs": [],
   "source": [
    "DATA_DIR    = \"../../BCCASII/\"\n",
    "DATA_SUBDIR = \"Household/\""
   ]
  },
  {
   "cell_type": "code",
   "execution_count": 4,
   "id": "75113430",
   "metadata": {},
   "outputs": [],
   "source": [
    "PROCESSED_DFS  = []\n",
    "ADAPTATION_DFS = []"
   ]
  },
  {
   "cell_type": "code",
   "execution_count": 5,
   "id": "02a6dbdb",
   "metadata": {},
   "outputs": [],
   "source": [
    "operation_lambda = {\n",
    "    \"sum\": lambda x: x.sum(),\n",
    "    \"min\": lambda x: x.min(),\n",
    "    \"max\": lambda x: x.max(),\n",
    "    \"mean\": lambda x: round(x.mean()),\n",
    "    \"mode\": lambda x: x.mode()[0]\n",
    "}"
   ]
  },
  {
   "cell_type": "markdown",
   "id": "0cae339e",
   "metadata": {},
   "source": [
    "## A: Location and identification detail"
   ]
  },
  {
   "cell_type": "code",
   "execution_count": 6,
   "id": "5cb777dc",
   "metadata": {},
   "outputs": [],
   "source": [
    "filename = \"001_mod_a.dta\"\n",
    "path = DATA_DIR + DATA_SUBDIR + filename\n",
    "df = load_data(path)"
   ]
  },
  {
   "cell_type": "code",
   "execution_count": 7,
   "id": "bb371d47",
   "metadata": {},
   "outputs": [],
   "source": [
    "# keep household ID, agro-ecological zone\n",
    "processed = column_selection(df, keep=[\"hhid\", \"ezcode\"])\n",
    "\n",
    "# construct community code from union, thana, district codes\n",
    "processed[\"community_code\"] = df[\"ucode\"].astype(str) + \"_\" + \\\n",
    "                              df[\"tcode\"].astype(str) + \"_\" + \\\n",
    "                              df[\"dcode\"].astype(str)\n",
    "\n",
    "UNIQUE_HHID = np.round(df[\"hhid\"].unique().astype(np.float64), 1)\n",
    "processed[\"hhid\"] = processed[\"hhid\"].astype(np.float64)\n"
   ]
  },
  {
   "cell_type": "code",
   "execution_count": 8,
   "id": "85a573d4",
   "metadata": {},
   "outputs": [],
   "source": [
    "PROCESSED_DFS.append(processed)"
   ]
  },
  {
   "cell_type": "markdown",
   "id": "bd076776",
   "metadata": {},
   "source": [
    "## B: Household composition and education"
   ]
  },
  {
   "cell_type": "code",
   "execution_count": 9,
   "id": "43cc5d53",
   "metadata": {},
   "outputs": [],
   "source": [
    "filename = \"002_mod_b.dta\"\n",
    "path = DATA_DIR + DATA_SUBDIR + filename\n",
    "df = load_data(path)"
   ]
  },
  {
   "cell_type": "code",
   "execution_count": 10,
   "id": "ffed5994",
   "metadata": {
    "scrolled": true
   },
   "outputs": [],
   "source": [
    "education_ordering = [99, 66, 67, 68, 0, 1, 2, 3, 4, 5, 6, 7, 8, 9, 22, 10, 33, 12, 15, 16, 17]\n",
    "literacy_ordering  = [1, 2, 3, 4]\n",
    "\n",
    "results = {hhid:{} for hhid in UNIQUE_HHID}\n",
    "for hhid in UNIQUE_HHID:\n",
    "    household = df.loc[df.hhid==hhid]    \n",
    "    L = len(household)\n",
    "    if L == 0:\n",
    "        results[hhid] = {\n",
    "            \"hhid\": hhid,\n",
    "            \"household_size\": np.nan,\n",
    "            \"ratio_male\": np.nan,\n",
    "            \"ratio_female\": np.nan,\n",
    "            \"num_children\": np.nan,\n",
    "            \"highest_education\": np.nan,\n",
    "            \"highest_literacy\": np.nan\n",
    "        }\n",
    "        continue\n",
    "\n",
    "    results[hhid][\"hhid\"] = hhid\n",
    "\n",
    "    # household size\n",
    "    results[hhid][\"household_size\"] = L\n",
    "    \n",
    "    # ratio male, female\n",
    "    m = sum(household[\"b01\"]==1)\n",
    "    f = sum(household[\"b01\"]==2)\n",
    "    results[hhid][\"ratio_male\"]   = m/L\n",
    "    results[hhid][\"ratio_female\"] = f/L\n",
    "    \n",
    "    # number of children\n",
    "    results[hhid][\"num_children\"] = sum(household[\"b03\"] < 18)\n",
    "    \n",
    "    # highest level of education\n",
    "    education_levels = [education_ordering.index(x)\n",
    "                        for x in [x for x in list(household[\"b06\"]) if not np.isnan(x)]]\n",
    "    results[hhid][\"highest_education\"] = max(education_levels) if len(education_levels) else np.nan\n",
    "        \n",
    "    # highest level of literacy\n",
    "    literacy_labels = [literacy_ordering.index(x)\n",
    "                       for x in [x for x in list(household[\"b05\"]) if not np.isnan(x)]]\n",
    "    results[hhid][\"highest_literacy\"] = max(literacy_labels) if len(literacy_labels) else np.nan\n",
    "\n",
    "processed = get_processed_df(results)\n",
    "\n",
    "\n",
    "# primary occupation categories\n",
    "# categories = {\n",
    "#     \"day_labor\": [1,2,3],\n",
    "#     \"self_employ_farm\": [4,5,6,7,8],\n",
    "#     \"self_employ_non_farm\": [9],\n",
    "#     \"low_income_profession\": [10,11,12,13],\n",
    "#     \"mechanic\": [14,15],\n",
    "#     \"other\": [16, 17, 18, 19],\n",
    "#     \"non_earning\": [20,21,22,23,24,25,26]\n",
    "# }\n",
    "\n",
    "# for c, c_list in categories.items():\n",
    "#     c_dict = {hhid:0 for hhid in unique_hhids}\n",
    "#     for hhid in unique_hhids:\n",
    "#         household = df.loc[df.hhid==hhid]\n",
    "#         primary_occupation_labels = list(household[\"b08_1\"])\n",
    "#         for item in c_list:\n",
    "#             if item in primary_occupation_labels:\n",
    "#                 c_dict[hhid] += 1\n",
    "#     processed = processed.join(pd.DataFrame.from_dict({c:c_dict}))"
   ]
  },
  {
   "cell_type": "code",
   "execution_count": 11,
   "id": "b6a45dcc",
   "metadata": {},
   "outputs": [],
   "source": [
    "PROCESSED_DFS.append(processed)"
   ]
  },
  {
   "cell_type": "markdown",
   "id": "16ef158c",
   "metadata": {},
   "source": [
    "## C: Roster of land and water bodies owned or under operation"
   ]
  },
  {
   "cell_type": "code",
   "execution_count": 12,
   "id": "f1f009cc",
   "metadata": {},
   "outputs": [],
   "source": [
    "filename = \"003_mod_c.dta\"\n",
    "path = DATA_DIR + DATA_SUBDIR + filename\n",
    "df = load_data(path)"
   ]
  },
  {
   "cell_type": "code",
   "execution_count": 13,
   "id": "b4f33e2f",
   "metadata": {
    "scrolled": true
   },
   "outputs": [],
   "source": [
    "mapping = {\n",
    "    \"total_land_value_per_month\": (\"c113\", \"sum\"),\n",
    "    \"min_land_acquisition_year\": (\"c111\", \"min\"),\n",
    "    \"max_land_acquisition_year\": (\"c111\", \"max\"),\n",
    "    \"mean_land_acquisition_year\": (\"c111\", \"mean\"),\n",
    "    \"plot_type\": (\"c101\", \"mode\"),\n",
    "    \"soil_type\": (\"c105\", \"mode\"),\n",
    "    \"land_operational_status\": (\"c107\", \"mode\"),\n",
    "    \"land_acquisition_means\": (\"c110\", \"mode\")\n",
    "}\n",
    "\n",
    "processed = apply_mapping(df, mapping)"
   ]
  },
  {
   "cell_type": "code",
   "execution_count": 14,
   "id": "b53e1bfe",
   "metadata": {},
   "outputs": [],
   "source": [
    "PROCESSED_DFS.append(processed)"
   ]
  },
  {
   "cell_type": "markdown",
   "id": "cb778381",
   "metadata": {},
   "source": [
    "## F1: Livestock and poultry"
   ]
  },
  {
   "cell_type": "code",
   "execution_count": 15,
   "id": "57b18c61",
   "metadata": {},
   "outputs": [],
   "source": [
    "filename = \"004_mod_f1.dta\"\n",
    "path = DATA_DIR + DATA_SUBDIR + filename\n",
    "df = load_data(path)"
   ]
  },
  {
   "cell_type": "code",
   "execution_count": 16,
   "id": "b8e9f11c",
   "metadata": {},
   "outputs": [],
   "source": [
    "# # household id\n",
    "# processed = pd.DataFrame.from_dict({\"hhid\":list(unique_hhids)})\n",
    "\n",
    "# categories = {\n",
    "#     \"cattle_buffalo\":1,\n",
    "#     \"goat_sheep\":2,\n",
    "#     \"pigs\":3,\n",
    "#     \"chidken_duck\":4\n",
    "# }\n",
    "\n",
    "# cols = [(\"count_2011\", \"f102\"), (\"value_2011\", \"f103\"), \n",
    "#         (\"count_now\", \"f104\"), (\"value_now\", \"f105\"), (\"total_selling_value\", \"f117\")]   \n",
    "\n",
    "# results = {hhid:{} for hhid in unique_hhids}\n",
    "# for hhid in unique_hhids:\n",
    "#     household = df.loc[df.hhid==hhid]\n",
    "#     for c, number in categories.items():\n",
    "#         if number not in list(household[\"f101\"]):\n",
    "#             # TODO: handle missing value!\n",
    "#             for l, _ in cols:\n",
    "#                 results[hhid][c+\"_\"+l] = np.nan\n",
    "#         else:\n",
    "#             for l, col in cols:\n",
    "#                 value = household.loc[household[\"f101\"]==number][col].iloc[0]\n",
    "#                 # TODO: handle missing value here!\n",
    "#                 if np.isnan(value):\n",
    "#                     results[hhid][c+\"_\"+l] = np.nan\n",
    "#                 else:\n",
    "#                     results[hhid][c+\"_\"+l] = value\n",
    "                    \n",
    "# for column in results[1]:\n",
    "#     processed[column] = [results[hhid][column] for hhid in results]"
   ]
  },
  {
   "cell_type": "code",
   "execution_count": 17,
   "id": "5463a5d6",
   "metadata": {},
   "outputs": [],
   "source": [
    "mapping = {\n",
    "    \"count_2011\": (\"f102\", \"sum\"),\n",
    "    \"value_2011\": (\"f103\", \"sum\"),\n",
    "    \"count_now\": (\"f104\", \"sum\"),\n",
    "    \"value_now\": (\"f105\", \"sum\"),\n",
    "    \"total_selling_value\": (\"f117\", \"sum\"),\n",
    "}\n",
    "\n",
    "processed = apply_mapping(df, mapping)"
   ]
  },
  {
   "cell_type": "code",
   "execution_count": 18,
   "id": "876a3df6",
   "metadata": {},
   "outputs": [],
   "source": [
    "PROCESSED_DFS.append(processed)"
   ]
  },
  {
   "cell_type": "markdown",
   "id": "e4c2d3ce",
   "metadata": {},
   "source": [
    "## F3: Expenditure for livestock, Poultry/Duckery Production Last 12 Months"
   ]
  },
  {
   "cell_type": "code",
   "execution_count": 19,
   "id": "da00b845",
   "metadata": {},
   "outputs": [],
   "source": [
    "filename = \"005_mod_f3.dta\"\n",
    "path = DATA_DIR + DATA_SUBDIR + filename\n",
    "df = load_data(path)"
   ]
  },
  {
   "cell_type": "code",
   "execution_count": 20,
   "id": "4d75f611",
   "metadata": {},
   "outputs": [],
   "source": [
    "mapping = {\n",
    "    \"livestock_fodder_value\": (\"f302\", \"sum\"),\n",
    "    \"livestock_medication_value\": (\"f303\", \"sum\"),\n",
    "    \"livestock_hired_male_labor\": (\"f306_1\", \"sum\"),\n",
    "}\n",
    "\n",
    "processed = apply_mapping(df, mapping)"
   ]
  },
  {
   "cell_type": "code",
   "execution_count": 21,
   "id": "bff90bd9",
   "metadata": {},
   "outputs": [],
   "source": [
    "PROCESSED_DFS.append(processed)"
   ]
  },
  {
   "cell_type": "markdown",
   "id": "04d8fdac",
   "metadata": {},
   "source": [
    "## G1: Credit obtained"
   ]
  },
  {
   "cell_type": "code",
   "execution_count": 22,
   "id": "8187a82f",
   "metadata": {
    "scrolled": false
   },
   "outputs": [],
   "source": [
    "filename = \"006_mod_g.dta\"\n",
    "path = DATA_DIR + DATA_SUBDIR + filename\n",
    "df = load_data(path)"
   ]
  },
  {
   "cell_type": "code",
   "execution_count": 23,
   "id": "3350c412",
   "metadata": {},
   "outputs": [],
   "source": [
    "mapping = {\n",
    "    \"credit_cash_borrowed\": (\"g07\", \"sum\"),\n",
    "    \"credit_value_borrowed\": (\"g10\", \"sum\"),\n",
    "    \"credit_cash_repaid\": (\"g16\", \"sum\"),\n",
    "    \"credit_value_repaid\": (\"g18\", \"sum\")\n",
    "}\n",
    "\n",
    "processed = apply_mapping(df, mapping)"
   ]
  },
  {
   "cell_type": "code",
   "execution_count": 24,
   "id": "9855cab1",
   "metadata": {},
   "outputs": [],
   "source": [
    "PROCESSED_DFS.append(processed)"
   ]
  },
  {
   "cell_type": "markdown",
   "id": "fed1db87",
   "metadata": {},
   "source": [
    "## G2: Repayment and utilization of Loan"
   ]
  },
  {
   "cell_type": "code",
   "execution_count": 25,
   "id": "323f57bd",
   "metadata": {},
   "outputs": [],
   "source": [
    "# TODO"
   ]
  },
  {
   "cell_type": "markdown",
   "id": "5eee13da",
   "metadata": {},
   "source": [
    "## H: Household Assets"
   ]
  },
  {
   "cell_type": "code",
   "execution_count": 26,
   "id": "18f7ba23",
   "metadata": {},
   "outputs": [],
   "source": [
    "filename = \"007_mod_h.dta\"\n",
    "path = DATA_DIR + DATA_SUBDIR + filename\n",
    "df = load_data(path)"
   ]
  },
  {
   "cell_type": "code",
   "execution_count": 27,
   "id": "9632d042",
   "metadata": {},
   "outputs": [],
   "source": [
    "# total value per household asset category\n",
    "categories = {\n",
    "    \"value_consumable_durables\":[i for i in range(1, 12)],\n",
    "    \"value_transport\":[i for i in range(12, 16)],\n",
    "    \"value_livestock_poultry\":[i for i in range(16, 20)],\n",
    "    \"value_agricultural_equipments\":[i for i in range(20,29)],\n",
    "    \"value_other\":[29]\n",
    "}\n",
    "\n",
    "results = {hhid:{\"hhid\":hhid} for hhid in UNIQUE_HHID}\n",
    "for hhid in UNIQUE_HHID:\n",
    "    household = df.loc[df.hhid==hhid]\n",
    "    for c in categories:\n",
    "        category_assets = household.loc[household[\"asset\"].isin(categories[c])]\n",
    "        results[hhid][c] = category_assets[\"h06\"].sum() if len(category_assets) else np.nan\n",
    "\n",
    "processed = get_processed_df(results)"
   ]
  },
  {
   "cell_type": "code",
   "execution_count": 28,
   "id": "fa1e3d66",
   "metadata": {},
   "outputs": [],
   "source": [
    "PROCESSED_DFS.append(processed)"
   ]
  },
  {
   "cell_type": "markdown",
   "id": "b16a5f10",
   "metadata": {},
   "source": [
    "## H1: Assets: Sales of Assets and Change in Ownership"
   ]
  },
  {
   "cell_type": "code",
   "execution_count": 29,
   "id": "d5d60f11",
   "metadata": {},
   "outputs": [],
   "source": [
    "filename = \"008_mod_h1.dta\"\n",
    "path = DATA_DIR + DATA_SUBDIR + filename\n",
    "df = load_data(path)"
   ]
  },
  {
   "cell_type": "code",
   "execution_count": 30,
   "id": "ed4bba98",
   "metadata": {},
   "outputs": [],
   "source": [
    "mapping = {\"sale_of_assets_value\": (\"h108\", \"sum\")}\n",
    "processed = apply_mapping(df, mapping)"
   ]
  },
  {
   "cell_type": "code",
   "execution_count": 31,
   "id": "b5b6dc7b",
   "metadata": {},
   "outputs": [],
   "source": [
    "PROCESSED_DFS.append(processed)"
   ]
  },
  {
   "cell_type": "markdown",
   "id": "b06dc991",
   "metadata": {},
   "source": [
    "## I: Food Consumption: Purchases, Home Production, and Other Sources"
   ]
  },
  {
   "cell_type": "code",
   "execution_count": 32,
   "id": "c2745e43",
   "metadata": {},
   "outputs": [],
   "source": [
    "filename = \"009_mod_i.dta\"\n",
    "path = DATA_DIR + DATA_SUBDIR + filename\n",
    "df = load_data(path)"
   ]
  },
  {
   "cell_type": "code",
   "execution_count": 33,
   "id": "cc24d236",
   "metadata": {
    "scrolled": true
   },
   "outputs": [],
   "source": [
    "food_categories = {\n",
    "    \"food_cereals\":np.arange(1,10),\n",
    "    \"food_pulses\":np.arange(11,18),\n",
    "    \"food_edible_oil\":np.arange(21,25),\n",
    "    \"food_vegetables\":np.arange(31,56),\n",
    "    \"food_leafy_vegetables\":np.arange(61,75),\n",
    "    \"food_meat_eggs_milk\":np.arange(81,88),\n",
    "    \"food_fruits\":np.arange(91,113),\n",
    "    \"food_fish_large\":np.arange(121,132),\n",
    "    \"food_fish_small\":np.arange(141,149),\n",
    "    \"food_spices\":np.arange(151,161),\n",
    "    \"food_other\":np.arange(171,177),\n",
    "    \"food_drinks\":np.arange(181,184),\n",
    "    \"food_other_outside_home\":np.arange(201,213)\n",
    "}\n",
    "\n",
    "results = {hhid:{\"hhid\":hhid} for hhid in UNIQUE_HHID}\n",
    "for hhid in UNIQUE_HHID:\n",
    "    household = df.loc[df.hhid==hhid]\n",
    "    for c, fcodes in food_categories.items():\n",
    "        relevant_rows = household.loc[household[\"fcode\"].isin(fcodes)]\n",
    "        for (col, label) in [(\"i07\", \"value_\"), (\"i04\", \"weight_\")]:\n",
    "            non_nan = relevant_rows.loc[~relevant_rows[col].isna()]\n",
    "            results[hhid][label+c] = non_nan[col].sum() if len(non_nan) else np.nan\n",
    "            \n",
    "processed = get_processed_df(results)"
   ]
  },
  {
   "cell_type": "code",
   "execution_count": 34,
   "id": "5ec501a7",
   "metadata": {},
   "outputs": [],
   "source": [
    "PROCESSED_DFS.append(processed)"
   ]
  },
  {
   "cell_type": "markdown",
   "id": "d99a60c5",
   "metadata": {},
   "source": [
    "## J1, J2: Non-food Expenditure"
   ]
  },
  {
   "cell_type": "code",
   "execution_count": 35,
   "id": "65ec2311",
   "metadata": {},
   "outputs": [],
   "source": [
    "filename = \"010_mod_j.dta\"\n",
    "path = DATA_DIR + DATA_SUBDIR + filename\n",
    "df = load_data(path)"
   ]
  },
  {
   "cell_type": "code",
   "execution_count": null,
   "id": "d3f72bbe",
   "metadata": {
    "scrolled": true
   },
   "outputs": [],
   "source": [
    "non_food_categories = {\n",
    "    \"rent_expenses\":[1,2],\n",
    "    \"fuel_expenses\":[3,4,5,6],\n",
    "    \"local_transport_expenses\":[7,8],\n",
    "    \"miscellaneous_expenses\":[9,10,11,12,13,29,30,31,32,54,55],\n",
    "    \"health_expenses\":[14,15,16],\n",
    "    \"communication_expenses\":[17,18],\n",
    "    \"personal_items_expenses\":np.arange(19,25),\n",
    "    \"entertainment_expenses\":[25,26],\n",
    "    \"non_local_travel_expenses\":[27,28],\n",
    "    \"clothing_expenses\":np.arange(33,39),\n",
    "    \"furniture_household_expenses\":np.arange(39,49),\n",
    "    \"utilities_taxes_fees\":np.arange(49,54),\n",
    "    \"family_events_expenses\":[56,57],\n",
    "    \"wedding_costs_bride\":np.arange(59,63),\n",
    "    \"wedding_costs_groom\":np.arange(63,67),\n",
    "    \"education_expenses\":np.arange(67,73),\n",
    "    \"vehicle_expenses\":np.arange(73,77)\n",
    "}\n",
    "\n",
    "results = {hhid:{\"hhid\":hhid} for hhid in UNIQUE_HHID}\n",
    "for hhid in UNIQUE_HHID:\n",
    "    household = df.loc[df.hhid==hhid]\n",
    "    for c, nfcodes in non_food_categories.items():\n",
    "        relevant_rows = household.loc[household[\"nfcode\"].isin(nfcodes)]\n",
    "        for col in [\"j02_1\", \"j02_2\", \"j03_1\", \"j03_2\"]:\n",
    "            non_nan = relevant_rows.loc[~relevant_rows[col].isna()]\n",
    "            results[hhid][col+\"_\"+c] = non_nan[col].sum() if len(non_nan) else np.nan\n",
    "\n",
    "processed = get_processed_df(results)"
   ]
  },
  {
   "cell_type": "code",
   "execution_count": null,
   "id": "a03363b6",
   "metadata": {},
   "outputs": [],
   "source": [
    "PROCESSED_DFS.append(processed)"
   ]
  },
  {
   "cell_type": "markdown",
   "id": "fe2b5a8d",
   "metadata": {},
   "source": [
    "## K: Housing, Source of Water and sanitation"
   ]
  },
  {
   "cell_type": "code",
   "execution_count": null,
   "id": "bb312212",
   "metadata": {},
   "outputs": [],
   "source": [
    "filename = \"011_mod_k.dta\"\n",
    "path = DATA_DIR + DATA_SUBDIR + filename\n",
    "df = load_data(path)"
   ]
  },
  {
   "cell_type": "code",
   "execution_count": null,
   "id": "863e1236",
   "metadata": {},
   "outputs": [],
   "source": [
    "processed = column_selection(df, keep=[\"hhid\", \"k01\", \"k02\", \"k03\", \"k03_1\",\n",
    "                                       \"k04\", \"k05\", \"k05_1\", \"k06\", \"k07\", \"k10\"])"
   ]
  },
  {
   "cell_type": "code",
   "execution_count": null,
   "id": "a29d018f",
   "metadata": {},
   "outputs": [],
   "source": [
    "PROCESSED_DFS.append(processed)"
   ]
  },
  {
   "cell_type": "markdown",
   "id": "061064d3",
   "metadata": {},
   "source": [
    "## L : Weather events adversely affected the household or the farming"
   ]
  },
  {
   "cell_type": "code",
   "execution_count": null,
   "id": "cb5aba15",
   "metadata": {},
   "outputs": [],
   "source": [
    "filename = \"012_mod_l.dta\"\n",
    "path = DATA_DIR + DATA_SUBDIR + filename\n",
    "df = load_data(path)"
   ]
  },
  {
   "cell_type": "code",
   "execution_count": null,
   "id": "1411620c",
   "metadata": {},
   "outputs": [],
   "source": [
    "calamity_numbers = [i for i in range(1, 13)]\n",
    "\n",
    "results = {hhid:{\"hhid\":hhid} for hhid in UNIQUE_HHID}\n",
    "for hhid in UNIQUE_HHID:\n",
    "    household = df.loc[df.hhid == hhid]\n",
    "    nums = list(household[\"l01\"])\n",
    "    for n in calamity_numbers:\n",
    "        if n not in nums:\n",
    "            results[hhid][\"calamity_\"+str(n)] = np.nan\n",
    "        else:\n",
    "            results[hhid][\"calamity_\"+str(n)] = 1 if int(household.loc[household[\"l01\"]==n][\"l02\"]) == 1 else 0\n",
    "\n",
    "processed = get_processed_df(results)                "
   ]
  },
  {
   "cell_type": "code",
   "execution_count": null,
   "id": "f32d0fc9",
   "metadata": {},
   "outputs": [],
   "source": [
    "PROCESSED_DFS.append(processed)"
   ]
  },
  {
   "cell_type": "markdown",
   "id": "cd54cd53",
   "metadata": {},
   "source": [
    "## L1: Weather events adversely affected the household or the farming cope"
   ]
  },
  {
   "cell_type": "code",
   "execution_count": null,
   "id": "debb57a2",
   "metadata": {},
   "outputs": [],
   "source": [
    "filename = \"013_mod_l1.dta\"\n",
    "path = DATA_DIR + DATA_SUBDIR + filename\n",
    "df = load_data(path)\n",
    "\n",
    "mapping   = {\"weather_events_damage\": (\"l1_05\", \"sum\")}\n",
    "processed = apply_mapping(df, mapping)\n",
    "PROCESSED_DFS.append(processed)"
   ]
  },
  {
   "cell_type": "markdown",
   "id": "51d55c4b",
   "metadata": {},
   "source": [
    "## L2: Shocks"
   ]
  },
  {
   "cell_type": "code",
   "execution_count": null,
   "id": "1275aac5",
   "metadata": {},
   "outputs": [],
   "source": [
    "filename = \"014_mod_l2.dta\"\n",
    "path = DATA_DIR + DATA_SUBDIR + filename\n",
    "df = load_data(path)\n",
    "\n",
    "mapping   = {\"shocks_loss_value\": (\"l2_06\", \"sum\")}\n",
    "processed = apply_mapping(df, mapping)\n",
    "PROCESSED_DFS.append(processed)"
   ]
  },
  {
   "cell_type": "markdown",
   "id": "12c9e7f4",
   "metadata": {},
   "source": [
    "## L3: Positive Economic Events"
   ]
  },
  {
   "cell_type": "code",
   "execution_count": null,
   "id": "96d24f27",
   "metadata": {},
   "outputs": [],
   "source": [
    "filename = \"015_mod_l3.dta\"\n",
    "path = DATA_DIR + DATA_SUBDIR + filename\n",
    "df = load_data(path)\n",
    "\n",
    "mapping   = {\"positive_events_value\": (\"l3_06\", \"sum\")}\n",
    "processed = apply_mapping(df, mapping)\n",
    "PROCESSED_DFS.append(processed)"
   ]
  },
  {
   "cell_type": "markdown",
   "id": "373b99d5",
   "metadata": {},
   "source": [
    "## M: Agricultural extension"
   ]
  },
  {
   "cell_type": "code",
   "execution_count": null,
   "id": "5a76eb65",
   "metadata": {},
   "outputs": [],
   "source": [
    "filename = \"017_mod_m.dta\"\n",
    "path = DATA_DIR + DATA_SUBDIR + filename\n",
    "df = load_data(path)\n",
    "\n",
    "PROCESSED_DFS.append(df)"
   ]
  },
  {
   "cell_type": "markdown",
   "id": "c2b64275",
   "metadata": {},
   "source": [
    "## Q: Perceptions of Climate Change"
   ]
  },
  {
   "cell_type": "code",
   "execution_count": null,
   "id": "3440463b",
   "metadata": {},
   "outputs": [],
   "source": [
    "filename = \"018_mod_q.dta\"\n",
    "path = DATA_DIR + DATA_SUBDIR + filename\n",
    "df = load_data(path)\n",
    "\n",
    "PROCESSED_DFS.append(df)"
   ]
  },
  {
   "cell_type": "markdown",
   "id": "7410441d",
   "metadata": {},
   "source": [
    "## O: Changes in farming practices due to climate change"
   ]
  },
  {
   "cell_type": "code",
   "execution_count": null,
   "id": "787e5f62",
   "metadata": {},
   "outputs": [],
   "source": [
    "filename = \"019_mod_o.dta\"\n",
    "path = DATA_DIR + DATA_SUBDIR + filename\n",
    "df = load_data(path)"
   ]
  },
  {
   "cell_type": "code",
   "execution_count": null,
   "id": "eec377b5",
   "metadata": {},
   "outputs": [],
   "source": [
    "keep = [\"hhid\"] + [\"o0\"+str(i)+\"_1\" for i in range(2, 9)] + [\"o09\"] + \\\n",
    "       [\"o\"+str(i) for i in range(10, 23)] + [\"o\"+str(i)+\"_1\" for i in range(23, 29)] + [\"o29\"]\n",
    "\n",
    "processed = column_selection(df, keep=keep)\n",
    "PROCESSED_DFS.append(processed)"
   ]
  },
  {
   "cell_type": "code",
   "execution_count": null,
   "id": "8714c6f9",
   "metadata": {},
   "outputs": [],
   "source": [
    "ADAPTATION_DFS.append(processed)"
   ]
  },
  {
   "cell_type": "markdown",
   "id": "27695b5a",
   "metadata": {},
   "source": [
    "## O1: Any integration about Livestock/Poultry"
   ]
  },
  {
   "cell_type": "code",
   "execution_count": null,
   "id": "ec6942fb",
   "metadata": {},
   "outputs": [],
   "source": [
    "filename = \"020_mod_o1.dta\"\n",
    "path = DATA_DIR + DATA_SUBDIR + filename\n",
    "df = load_data(path)"
   ]
  },
  {
   "cell_type": "code",
   "execution_count": null,
   "id": "ca6eaaed",
   "metadata": {},
   "outputs": [],
   "source": [
    "keep = [\"hhid\"] + [\"o1_01_\"+str(i) for i in range(1, 10)]\n",
    "processed = column_selection(df, keep=keep)"
   ]
  },
  {
   "cell_type": "code",
   "execution_count": null,
   "id": "e1478bdc",
   "metadata": {},
   "outputs": [],
   "source": [
    "PROCESSED_DFS.append(processed)"
   ]
  },
  {
   "cell_type": "code",
   "execution_count": null,
   "id": "fe3e24ef",
   "metadata": {},
   "outputs": [],
   "source": [
    "ADAPTATION_DFS.append(processed)"
   ]
  },
  {
   "cell_type": "markdown",
   "id": "b88b84ff",
   "metadata": {},
   "source": [
    "## O2: Constraints to adaptation"
   ]
  },
  {
   "cell_type": "code",
   "execution_count": null,
   "id": "89cf12ed",
   "metadata": {},
   "outputs": [],
   "source": [
    "filename = \"021_mod_o2.dta\"\n",
    "path = DATA_DIR + DATA_SUBDIR + filename\n",
    "df = load_data(path)"
   ]
  },
  {
   "cell_type": "code",
   "execution_count": null,
   "id": "46d5c6d5",
   "metadata": {},
   "outputs": [],
   "source": [
    "max_len = 0\n",
    "for hhid in UNIQUE_HHID:\n",
    "    max_len = max(max_len, len(df.loc[df.hhid==hhid]))\n",
    "\n",
    "results = {hhid:{\"hhid\":hhid} for hhid in UNIQUE_HHID}\n",
    "for hhid in UNIQUE_HHID:\n",
    "    household = df.loc[df.hhid==hhid]\n",
    "    idx = 0\n",
    "    for _, row in household.iterrows():\n",
    "        results[hhid][f\"constraints_{idx}_measure\"] = row[\"o2_01\"]\n",
    "        severity = [x for x in row[[\"o2_03_1\", \"o2_03_2\", \"o2_03_3\", \"o2_03_4\", \"o2_03_5\"]] if not np.isnan(x)]\n",
    "        if len(severity):\n",
    "            for i in range(5):\n",
    "                if i in severity:\n",
    "                    most_severe = severity.index(i) + 1\n",
    "                    results[hhid][f\"constraints_{idx}_constraint\"] = row[f'o2_02_{most_severe}']\n",
    "                    break\n",
    "        else:\n",
    "            results[hhid][f\"constraints_{idx}_constraint\"] = np.nan\n",
    "        \n",
    "        idx += 1\n",
    "    \n",
    "    while idx < max_len:\n",
    "        results[hhid][f\"constraints_{idx}_measure\"] = np.nan\n",
    "        results[hhid][f\"constraints_{idx}_constraint\"] = np.nan\n",
    "        idx += 1\n",
    "        \n",
    "processed = get_processed_df(results)"
   ]
  },
  {
   "cell_type": "code",
   "execution_count": null,
   "id": "4ef069b0",
   "metadata": {},
   "outputs": [],
   "source": [
    "PROCESSED_DFS.append(processed)"
   ]
  },
  {
   "cell_type": "markdown",
   "id": "87591cba",
   "metadata": {},
   "source": [
    "## R1: Information of group based approach"
   ]
  },
  {
   "cell_type": "code",
   "execution_count": null,
   "id": "fa9458cb",
   "metadata": {},
   "outputs": [],
   "source": [
    "filename = \"022_mod_r1.dta\"\n",
    "path = DATA_DIR + DATA_SUBDIR + filename\n",
    "df = load_data(path)"
   ]
  },
  {
   "cell_type": "code",
   "execution_count": null,
   "id": "393b5d08",
   "metadata": {
    "scrolled": true
   },
   "outputs": [],
   "source": [
    "groups = np.arange(1, 19)\n",
    "\n",
    "results = {hhid:{\"hhid\":hhid} for hhid in UNIQUE_HHID}\n",
    "for hhid in UNIQUE_HHID:\n",
    "    household = df.loc[df.hhid==hhid]\n",
    "    for g in groups:\n",
    "        g_row = household.loc[household[\"r1_01\"]==g]        \n",
    "        if len(g_row):\n",
    "            membership_values = list(g_row[\"r1_02\"])\n",
    "            results[hhid][f\"group_{g}_membership\"] = int(1 in membership_values)\n",
    "        else:\n",
    "            results[hhid][f\"group_{g}_membership\"] = np.nan\n",
    "            \n",
    "processed = get_processed_df(results)"
   ]
  },
  {
   "cell_type": "code",
   "execution_count": null,
   "id": "1751fd06",
   "metadata": {},
   "outputs": [],
   "source": [
    "PROCESSED_DFS.append(processed)"
   ]
  },
  {
   "cell_type": "markdown",
   "id": "d929dfe5",
   "metadata": {},
   "source": [
    "## R2: Group activity related information"
   ]
  },
  {
   "cell_type": "code",
   "execution_count": null,
   "id": "e38fbcfd",
   "metadata": {},
   "outputs": [],
   "source": [
    "filename = \"023_mod_r2.dta\"\n",
    "path = DATA_DIR + DATA_SUBDIR + filename\n",
    "df = load_data(path)"
   ]
  },
  {
   "cell_type": "code",
   "execution_count": null,
   "id": "f1949d1a",
   "metadata": {},
   "outputs": [],
   "source": [
    "# a few duplicate rows found in this data file...\n",
    "duplicates = []\n",
    "for hhid in df[\"hhid\"].unique():\n",
    "    if len(df.loc[df.hhid==hhid]) > 1:\n",
    "        duplicates.append(hhid)\n",
    "    \n",
    "drop_indices = []\n",
    "for d in duplicates:\n",
    "    drop_indices.append(list(df.loc[df.hhid==d].index)[0])\n",
    "\n",
    "df = df.drop(drop_indices)"
   ]
  },
  {
   "cell_type": "code",
   "execution_count": null,
   "id": "4a516f4d",
   "metadata": {},
   "outputs": [],
   "source": [
    "keep = [\"hhid\"] + [f\"r2_15_{i}\" for i in range(1,5)] + [f\"r2_16_{i}\" for i in range(1,5)]\n",
    "for j in range(17, 24):\n",
    "    keep += [f\"r2_{j}_{i}_1\" for i in range(1,5)]\n",
    "    \n",
    "processed = column_selection(df, keep=keep)\n",
    "PROCESSED_DFS.append(processed)"
   ]
  },
  {
   "cell_type": "markdown",
   "id": "d69b273d",
   "metadata": {},
   "source": [
    "## R3: Network"
   ]
  },
  {
   "cell_type": "code",
   "execution_count": null,
   "id": "29935429",
   "metadata": {},
   "outputs": [],
   "source": [
    "filename = \"024_mod_r3.dta\"\n",
    "path = DATA_DIR + DATA_SUBDIR + filename\n",
    "df = load_data(path)"
   ]
  },
  {
   "cell_type": "code",
   "execution_count": null,
   "id": "ff88ded7",
   "metadata": {},
   "outputs": [],
   "source": [
    "processed = column_selection(df, remove=[\"r3_01_1\", \"r3_01_2\"])"
   ]
  },
  {
   "cell_type": "code",
   "execution_count": null,
   "id": "38ab74cb",
   "metadata": {},
   "outputs": [],
   "source": [
    "PROCESSED_DFS.append(processed)"
   ]
  },
  {
   "cell_type": "markdown",
   "id": "fd129916",
   "metadata": {},
   "source": [
    "## R4: Trust and Solidarity"
   ]
  },
  {
   "cell_type": "code",
   "execution_count": null,
   "id": "29e7085e",
   "metadata": {},
   "outputs": [],
   "source": [
    "filename = \"025_mod_r4.dta\"\n",
    "path = DATA_DIR + DATA_SUBDIR + filename\n",
    "df = load_data(path)"
   ]
  },
  {
   "cell_type": "code",
   "execution_count": null,
   "id": "08171963",
   "metadata": {},
   "outputs": [],
   "source": [
    "processed = column_selection(df, remove=[\"r4_01_1\", \"r4_01_2\"])"
   ]
  },
  {
   "cell_type": "code",
   "execution_count": null,
   "id": "55b7459e",
   "metadata": {},
   "outputs": [],
   "source": [
    "PROCESSED_DFS.append(processed)"
   ]
  },
  {
   "cell_type": "markdown",
   "id": "aee9de2b",
   "metadata": {},
   "source": [
    "## R5: Economic setbacks"
   ]
  },
  {
   "cell_type": "code",
   "execution_count": null,
   "id": "c5baf478",
   "metadata": {},
   "outputs": [],
   "source": [
    "filename = \"026_mod_r5.dta\"\n",
    "path = DATA_DIR + DATA_SUBDIR + filename\n",
    "df = load_data(path)"
   ]
  },
  {
   "cell_type": "code",
   "execution_count": null,
   "id": "a8a1f70c",
   "metadata": {},
   "outputs": [],
   "source": [
    "results = {hhid:{\"hhid\":hhid} for hhid in UNIQUE_HHID}\n",
    "for hhid in UNIQUE_HHID:\n",
    "    household = df.loc[df.hhid==hhid]\n",
    "    results[hhid][\"serious_economic_setback\"] = 1 if 1 in list(household[\"r5\"]) else 0\n",
    "    \n",
    "processed = get_processed_df(results)"
   ]
  },
  {
   "cell_type": "code",
   "execution_count": null,
   "id": "38f3f9b9",
   "metadata": {},
   "outputs": [],
   "source": [
    "PROCESSED_DFS.append(processed)"
   ]
  },
  {
   "cell_type": "markdown",
   "id": "a218fac9",
   "metadata": {},
   "source": [
    "## R6: Collective Action and Cooperation and Sociability"
   ]
  },
  {
   "cell_type": "code",
   "execution_count": null,
   "id": "cead9679",
   "metadata": {},
   "outputs": [],
   "source": [
    "filename = \"027_mod_r6.dta\"\n",
    "path = DATA_DIR + DATA_SUBDIR + filename\n",
    "df = load_data(path)"
   ]
  },
  {
   "cell_type": "code",
   "execution_count": null,
   "id": "195f73a9",
   "metadata": {},
   "outputs": [],
   "source": [
    "processed = column_selection(df, remove=[\"r6_01_1\", \"r6_01_2\"])"
   ]
  },
  {
   "cell_type": "code",
   "execution_count": null,
   "id": "3ceeaa53",
   "metadata": {},
   "outputs": [],
   "source": [
    "PROCESSED_DFS.append(processed)"
   ]
  },
  {
   "cell_type": "markdown",
   "id": "0529a1c0",
   "metadata": {},
   "source": [
    "## R7: Information and Communication"
   ]
  },
  {
   "cell_type": "code",
   "execution_count": null,
   "id": "e6b3745d",
   "metadata": {},
   "outputs": [],
   "source": [
    "filename = \"028_mod_r7.dta\"\n",
    "path = DATA_DIR + DATA_SUBDIR + filename\n",
    "df = load_data(path)"
   ]
  },
  {
   "cell_type": "code",
   "execution_count": null,
   "id": "154c2706",
   "metadata": {},
   "outputs": [],
   "source": [
    "processed = column_selection(df, remove=[\"r7_01_1\", \"r7_01_2\"])"
   ]
  },
  {
   "cell_type": "code",
   "execution_count": null,
   "id": "92099c83",
   "metadata": {},
   "outputs": [],
   "source": [
    "PROCESSED_DFS.append(processed)"
   ]
  },
  {
   "cell_type": "markdown",
   "id": "37ae414a",
   "metadata": {},
   "source": [
    "## R8: Production and climate Information"
   ]
  },
  {
   "cell_type": "code",
   "execution_count": null,
   "id": "2bb0baf2",
   "metadata": {},
   "outputs": [],
   "source": [
    "filename = \"029_mod_r8.dta\"\n",
    "path = DATA_DIR + DATA_SUBDIR + filename\n",
    "df = load_data(path)"
   ]
  },
  {
   "cell_type": "code",
   "execution_count": null,
   "id": "9b07ec30",
   "metadata": {},
   "outputs": [],
   "source": [
    "keep = [\"hhid\", \"r8_02_1\", \"r8_02_2\", \"r8_06_1\", \"r8_06_2\", \"r8_14_1\", \"r8_14_2\"]\n",
    "processed = column_selection(df, keep=keep)"
   ]
  },
  {
   "cell_type": "code",
   "execution_count": null,
   "id": "62c3777d",
   "metadata": {},
   "outputs": [],
   "source": [
    "PROCESSED_DFS.append(processed)"
   ]
  },
  {
   "cell_type": "markdown",
   "id": "de4b1964",
   "metadata": {},
   "source": [
    "## R9: Production and climate Information"
   ]
  },
  {
   "cell_type": "code",
   "execution_count": null,
   "id": "3f5262b7",
   "metadata": {},
   "outputs": [],
   "source": [
    "filename = \"030_mod_r9.dta\"\n",
    "path = DATA_DIR + DATA_SUBDIR + filename\n",
    "df = load_data(path)"
   ]
  },
  {
   "cell_type": "code",
   "execution_count": null,
   "id": "e379e07f",
   "metadata": {},
   "outputs": [],
   "source": [
    "keep = [\"hhid\", \"r9_02_1\", \"r9_02_2\", \"r9_09_1\", \"r9_09_2\"]\n",
    "processed = column_selection(df, keep=keep)"
   ]
  },
  {
   "cell_type": "code",
   "execution_count": null,
   "id": "9406e281",
   "metadata": {},
   "outputs": [],
   "source": [
    "PROCESSED_DFS.append(processed)"
   ]
  },
  {
   "cell_type": "markdown",
   "id": "bac5374a",
   "metadata": {},
   "source": [
    "## S: Empowerment and Political Action"
   ]
  },
  {
   "cell_type": "code",
   "execution_count": null,
   "id": "14fccda9",
   "metadata": {},
   "outputs": [],
   "source": [
    "filename = \"031_mod_s.dta\"\n",
    "path = DATA_DIR + DATA_SUBDIR + filename\n",
    "df = load_data(path)"
   ]
  },
  {
   "cell_type": "code",
   "execution_count": null,
   "id": "90ea493c",
   "metadata": {},
   "outputs": [],
   "source": [
    "processed = column_selection(df, remove=[\"s_01_1\", \"s_01_2\"])"
   ]
  },
  {
   "cell_type": "code",
   "execution_count": null,
   "id": "661cb9cc",
   "metadata": {},
   "outputs": [],
   "source": [
    "PROCESSED_DFS.append(processed)"
   ]
  },
  {
   "cell_type": "markdown",
   "id": "c12b81f3",
   "metadata": {},
   "source": [
    "## T: Employment"
   ]
  },
  {
   "cell_type": "code",
   "execution_count": null,
   "id": "36db9901",
   "metadata": {},
   "outputs": [],
   "source": [
    "filename = \"032_mod_t.dta\"\n",
    "path = DATA_DIR + DATA_SUBDIR + filename\n",
    "df = load_data(path)"
   ]
  },
  {
   "cell_type": "code",
   "execution_count": null,
   "id": "8651a8ef",
   "metadata": {},
   "outputs": [],
   "source": [
    "job_categories = {\n",
    "    \"job_wage_labor\":np.arange(1,12),\n",
    "    \"job_salaried_worker\":np.arange(12,22),\n",
    "    \"job_self_employment\":np.arange(22,48),\n",
    "    \"job_trader\":np.arange(50,55),\n",
    "    \"job_production\":np.arange(55,58),\n",
    "    \"job_livestock_poultry_service\":np.arange(58,64),\n",
    "    \"job_farming\":np.arange(64,73)\n",
    "}\n",
    "\n",
    "results = {hhid:{\"hhid\":hhid} for hhid in UNIQUE_HHID}\n",
    "for hhid in UNIQUE_HHID:\n",
    "    household = df.loc[df.hhid==hhid]\n",
    "    relevant = list(household[\"t05\"])\n",
    "    for c, numbers in job_categories.items():\n",
    "        results[hhid][c] = 0\n",
    "        for n in numbers:\n",
    "            if n in relevant:\n",
    "                results[hhid][c] += 1\n",
    "            \n",
    "processed = get_processed_df(results)"
   ]
  },
  {
   "cell_type": "code",
   "execution_count": null,
   "id": "f2e633e0",
   "metadata": {},
   "outputs": [],
   "source": [
    "PROCESSED_DFS.append(processed)"
   ]
  },
  {
   "cell_type": "markdown",
   "id": "6d8cebe1",
   "metadata": {},
   "source": [
    "## U: Time use of male and female members in the household"
   ]
  },
  {
   "cell_type": "code",
   "execution_count": null,
   "id": "6978fa93",
   "metadata": {},
   "outputs": [],
   "source": [
    "# TODO: discard?"
   ]
  },
  {
   "cell_type": "markdown",
   "id": "c7b4902c",
   "metadata": {},
   "source": [
    "## V: Anthropometry"
   ]
  },
  {
   "cell_type": "code",
   "execution_count": null,
   "id": "cde7b481",
   "metadata": {},
   "outputs": [],
   "source": [
    "# TODO: discard?"
   ]
  },
  {
   "cell_type": "markdown",
   "id": "254846ed",
   "metadata": {},
   "source": [
    "# Combine processed dataframes"
   ]
  },
  {
   "cell_type": "code",
   "execution_count": null,
   "id": "a9c5248e",
   "metadata": {},
   "outputs": [],
   "source": [
    "# mind the treatment of MISSING VALUES!\n",
    "    # do we really want to impute \"0\" when no information is present?\n",
    "    # just leave as empty\n",
    "        # then if we see a household with many empty fields, or a feature with mostly empty values,\n",
    "        # we remove it"
   ]
  },
  {
   "cell_type": "code",
   "execution_count": null,
   "id": "17b14013",
   "metadata": {
    "scrolled": true
   },
   "outputs": [],
   "source": [
    "# add missing household ids\n",
    "all_hhids_present = []\n",
    "for idx, df in enumerate(PROCESSED_DFS):\n",
    "    if \"o1_01_1\" in df.columns:\n",
    "        print(idx)\n",
    "    df[\"hhid\"] = np.round(df[\"hhid\"].astype(np.float64), 1)\n",
    "    if len(df[\"hhid\"].unique()) != len(UNIQUE_HHID):\n",
    "        all_hhids_present.append(add_missing_hhids(df))\n",
    "    else:\n",
    "        all_hhids_present.append(df)\n",
    "\n",
    "# sanity check\n",
    "for df in all_hhids_present:\n",
    "    hids = df[\"hhid\"].unique()\n",
    "    for h in hids:\n",
    "        assert h in UNIQUE_HHID\n",
    "    for h in UNIQUE_HHID:\n",
    "        assert h in hids"
   ]
  },
  {
   "cell_type": "code",
   "execution_count": null,
   "id": "be79015e",
   "metadata": {},
   "outputs": [],
   "source": []
  },
  {
   "cell_type": "code",
   "execution_count": null,
   "id": "10c870a7",
   "metadata": {},
   "outputs": [],
   "source": []
  },
  {
   "cell_type": "code",
   "execution_count": 223,
   "id": "c58af344",
   "metadata": {
    "scrolled": false
   },
   "outputs": [],
   "source": [
    "df = all_hhids_present[0]\n",
    "for df1 in all_hhids_present[1:]:\n",
    "    df = df.merge(df1, on=\"hhid\", how=\"inner\")\n",
    "\n",
    "assert df.shape[0] == len(UNIQUE_HHID)\n",
    "\n",
    "df.to_csv(DATA_DIR + DATA_SUBDIR + \"combined.csv\")"
   ]
  },
  {
   "cell_type": "code",
   "execution_count": 224,
   "id": "6f64eeab",
   "metadata": {},
   "outputs": [
    {
     "data": {
      "text/html": [
       "<div>\n",
       "<style scoped>\n",
       "    .dataframe tbody tr th:only-of-type {\n",
       "        vertical-align: middle;\n",
       "    }\n",
       "\n",
       "    .dataframe tbody tr th {\n",
       "        vertical-align: top;\n",
       "    }\n",
       "\n",
       "    .dataframe thead th {\n",
       "        text-align: right;\n",
       "    }\n",
       "</style>\n",
       "<table border=\"1\" class=\"dataframe\">\n",
       "  <thead>\n",
       "    <tr style=\"text-align: right;\">\n",
       "      <th></th>\n",
       "      <th>hhid</th>\n",
       "      <th>ezcode</th>\n",
       "      <th>community_code</th>\n",
       "      <th>household_size</th>\n",
       "      <th>ratio_male</th>\n",
       "      <th>ratio_female</th>\n",
       "      <th>num_children</th>\n",
       "      <th>highest_education</th>\n",
       "      <th>highest_literacy</th>\n",
       "      <th>total_land_value_per_month</th>\n",
       "      <th>...</th>\n",
       "      <th>s_07_2</th>\n",
       "      <th>s_08_2</th>\n",
       "      <th>s_09_2</th>\n",
       "      <th>job_wage_labor</th>\n",
       "      <th>job_salaried_worker</th>\n",
       "      <th>job_self_employment</th>\n",
       "      <th>job_trader</th>\n",
       "      <th>job_production</th>\n",
       "      <th>job_livestock_poultry_service</th>\n",
       "      <th>job_farming</th>\n",
       "    </tr>\n",
       "  </thead>\n",
       "  <tbody>\n",
       "    <tr>\n",
       "      <th>0</th>\n",
       "      <td>1.0</td>\n",
       "      <td>7</td>\n",
       "      <td>1_1_1</td>\n",
       "      <td>9.0</td>\n",
       "      <td>0.555556</td>\n",
       "      <td>0.444444</td>\n",
       "      <td>3.0</td>\n",
       "      <td>20.0</td>\n",
       "      <td>3.0</td>\n",
       "      <td>50.0</td>\n",
       "      <td>...</td>\n",
       "      <td>1.0</td>\n",
       "      <td>1.0</td>\n",
       "      <td>2.0</td>\n",
       "      <td>0</td>\n",
       "      <td>1</td>\n",
       "      <td>1</td>\n",
       "      <td>0</td>\n",
       "      <td>0</td>\n",
       "      <td>0</td>\n",
       "      <td>3</td>\n",
       "    </tr>\n",
       "    <tr>\n",
       "      <th>1</th>\n",
       "      <td>2.0</td>\n",
       "      <td>7</td>\n",
       "      <td>1_1_1</td>\n",
       "      <td>6.0</td>\n",
       "      <td>0.500000</td>\n",
       "      <td>0.500000</td>\n",
       "      <td>1.0</td>\n",
       "      <td>8.0</td>\n",
       "      <td>3.0</td>\n",
       "      <td>500.0</td>\n",
       "      <td>...</td>\n",
       "      <td>1.0</td>\n",
       "      <td>1.0</td>\n",
       "      <td>3.0</td>\n",
       "      <td>1</td>\n",
       "      <td>0</td>\n",
       "      <td>0</td>\n",
       "      <td>0</td>\n",
       "      <td>0</td>\n",
       "      <td>0</td>\n",
       "      <td>3</td>\n",
       "    </tr>\n",
       "    <tr>\n",
       "      <th>2</th>\n",
       "      <td>3.0</td>\n",
       "      <td>7</td>\n",
       "      <td>1_1_1</td>\n",
       "      <td>4.0</td>\n",
       "      <td>0.750000</td>\n",
       "      <td>0.250000</td>\n",
       "      <td>2.0</td>\n",
       "      <td>18.0</td>\n",
       "      <td>3.0</td>\n",
       "      <td>NaN</td>\n",
       "      <td>...</td>\n",
       "      <td>2.0</td>\n",
       "      <td>1.0</td>\n",
       "      <td>3.0</td>\n",
       "      <td>0</td>\n",
       "      <td>0</td>\n",
       "      <td>1</td>\n",
       "      <td>0</td>\n",
       "      <td>0</td>\n",
       "      <td>0</td>\n",
       "      <td>3</td>\n",
       "    </tr>\n",
       "    <tr>\n",
       "      <th>3</th>\n",
       "      <td>4.0</td>\n",
       "      <td>7</td>\n",
       "      <td>1_1_1</td>\n",
       "      <td>6.0</td>\n",
       "      <td>0.333333</td>\n",
       "      <td>0.666667</td>\n",
       "      <td>1.0</td>\n",
       "      <td>8.0</td>\n",
       "      <td>3.0</td>\n",
       "      <td>384.0</td>\n",
       "      <td>...</td>\n",
       "      <td>1.0</td>\n",
       "      <td>1.0</td>\n",
       "      <td>3.0</td>\n",
       "      <td>0</td>\n",
       "      <td>0</td>\n",
       "      <td>0</td>\n",
       "      <td>0</td>\n",
       "      <td>0</td>\n",
       "      <td>0</td>\n",
       "      <td>4</td>\n",
       "    </tr>\n",
       "    <tr>\n",
       "      <th>4</th>\n",
       "      <td>5.0</td>\n",
       "      <td>7</td>\n",
       "      <td>1_1_1</td>\n",
       "      <td>7.0</td>\n",
       "      <td>0.428571</td>\n",
       "      <td>0.571429</td>\n",
       "      <td>1.0</td>\n",
       "      <td>15.0</td>\n",
       "      <td>3.0</td>\n",
       "      <td>NaN</td>\n",
       "      <td>...</td>\n",
       "      <td>1.0</td>\n",
       "      <td>1.0</td>\n",
       "      <td>3.0</td>\n",
       "      <td>0</td>\n",
       "      <td>0</td>\n",
       "      <td>1</td>\n",
       "      <td>0</td>\n",
       "      <td>0</td>\n",
       "      <td>0</td>\n",
       "      <td>2</td>\n",
       "    </tr>\n",
       "    <tr>\n",
       "      <th>...</th>\n",
       "      <td>...</td>\n",
       "      <td>...</td>\n",
       "      <td>...</td>\n",
       "      <td>...</td>\n",
       "      <td>...</td>\n",
       "      <td>...</td>\n",
       "      <td>...</td>\n",
       "      <td>...</td>\n",
       "      <td>...</td>\n",
       "      <td>...</td>\n",
       "      <td>...</td>\n",
       "      <td>...</td>\n",
       "      <td>...</td>\n",
       "      <td>...</td>\n",
       "      <td>...</td>\n",
       "      <td>...</td>\n",
       "      <td>...</td>\n",
       "      <td>...</td>\n",
       "      <td>...</td>\n",
       "      <td>...</td>\n",
       "      <td>...</td>\n",
       "    </tr>\n",
       "    <tr>\n",
       "      <th>822</th>\n",
       "      <td>796.0</td>\n",
       "      <td>6</td>\n",
       "      <td>40_39_31</td>\n",
       "      <td>10.0</td>\n",
       "      <td>0.400000</td>\n",
       "      <td>0.600000</td>\n",
       "      <td>2.0</td>\n",
       "      <td>12.0</td>\n",
       "      <td>3.0</td>\n",
       "      <td>NaN</td>\n",
       "      <td>...</td>\n",
       "      <td>1.0</td>\n",
       "      <td>1.0</td>\n",
       "      <td>3.0</td>\n",
       "      <td>0</td>\n",
       "      <td>0</td>\n",
       "      <td>1</td>\n",
       "      <td>0</td>\n",
       "      <td>0</td>\n",
       "      <td>0</td>\n",
       "      <td>3</td>\n",
       "    </tr>\n",
       "    <tr>\n",
       "      <th>823</th>\n",
       "      <td>797.0</td>\n",
       "      <td>6</td>\n",
       "      <td>40_39_31</td>\n",
       "      <td>9.0</td>\n",
       "      <td>0.333333</td>\n",
       "      <td>0.666667</td>\n",
       "      <td>4.0</td>\n",
       "      <td>13.0</td>\n",
       "      <td>3.0</td>\n",
       "      <td>510.0</td>\n",
       "      <td>...</td>\n",
       "      <td>2.0</td>\n",
       "      <td>2.0</td>\n",
       "      <td>2.0</td>\n",
       "      <td>1</td>\n",
       "      <td>0</td>\n",
       "      <td>0</td>\n",
       "      <td>0</td>\n",
       "      <td>0</td>\n",
       "      <td>0</td>\n",
       "      <td>4</td>\n",
       "    </tr>\n",
       "    <tr>\n",
       "      <th>824</th>\n",
       "      <td>798.0</td>\n",
       "      <td>6</td>\n",
       "      <td>40_39_31</td>\n",
       "      <td>7.0</td>\n",
       "      <td>0.571429</td>\n",
       "      <td>0.428571</td>\n",
       "      <td>1.0</td>\n",
       "      <td>9.0</td>\n",
       "      <td>3.0</td>\n",
       "      <td>NaN</td>\n",
       "      <td>...</td>\n",
       "      <td>1.0</td>\n",
       "      <td>1.0</td>\n",
       "      <td>2.0</td>\n",
       "      <td>0</td>\n",
       "      <td>0</td>\n",
       "      <td>0</td>\n",
       "      <td>0</td>\n",
       "      <td>0</td>\n",
       "      <td>0</td>\n",
       "      <td>2</td>\n",
       "    </tr>\n",
       "    <tr>\n",
       "      <th>825</th>\n",
       "      <td>799.0</td>\n",
       "      <td>6</td>\n",
       "      <td>40_39_31</td>\n",
       "      <td>9.0</td>\n",
       "      <td>0.555556</td>\n",
       "      <td>0.444444</td>\n",
       "      <td>4.0</td>\n",
       "      <td>17.0</td>\n",
       "      <td>3.0</td>\n",
       "      <td>NaN</td>\n",
       "      <td>...</td>\n",
       "      <td>1.0</td>\n",
       "      <td>1.0</td>\n",
       "      <td>2.0</td>\n",
       "      <td>0</td>\n",
       "      <td>0</td>\n",
       "      <td>0</td>\n",
       "      <td>0</td>\n",
       "      <td>0</td>\n",
       "      <td>0</td>\n",
       "      <td>3</td>\n",
       "    </tr>\n",
       "    <tr>\n",
       "      <th>826</th>\n",
       "      <td>800.0</td>\n",
       "      <td>6</td>\n",
       "      <td>40_39_31</td>\n",
       "      <td>4.0</td>\n",
       "      <td>0.750000</td>\n",
       "      <td>0.250000</td>\n",
       "      <td>2.0</td>\n",
       "      <td>5.0</td>\n",
       "      <td>3.0</td>\n",
       "      <td>NaN</td>\n",
       "      <td>...</td>\n",
       "      <td>1.0</td>\n",
       "      <td>1.0</td>\n",
       "      <td>2.0</td>\n",
       "      <td>0</td>\n",
       "      <td>0</td>\n",
       "      <td>0</td>\n",
       "      <td>0</td>\n",
       "      <td>0</td>\n",
       "      <td>0</td>\n",
       "      <td>3</td>\n",
       "    </tr>\n",
       "  </tbody>\n",
       "</table>\n",
       "<p>827 rows × 430 columns</p>\n",
       "</div>"
      ],
      "text/plain": [
       "      hhid  ezcode community_code  household_size  ratio_male  ratio_female  \\\n",
       "0      1.0       7          1_1_1             9.0    0.555556      0.444444   \n",
       "1      2.0       7          1_1_1             6.0    0.500000      0.500000   \n",
       "2      3.0       7          1_1_1             4.0    0.750000      0.250000   \n",
       "3      4.0       7          1_1_1             6.0    0.333333      0.666667   \n",
       "4      5.0       7          1_1_1             7.0    0.428571      0.571429   \n",
       "..     ...     ...            ...             ...         ...           ...   \n",
       "822  796.0       6       40_39_31            10.0    0.400000      0.600000   \n",
       "823  797.0       6       40_39_31             9.0    0.333333      0.666667   \n",
       "824  798.0       6       40_39_31             7.0    0.571429      0.428571   \n",
       "825  799.0       6       40_39_31             9.0    0.555556      0.444444   \n",
       "826  800.0       6       40_39_31             4.0    0.750000      0.250000   \n",
       "\n",
       "     num_children  highest_education  highest_literacy  \\\n",
       "0             3.0               20.0               3.0   \n",
       "1             1.0                8.0               3.0   \n",
       "2             2.0               18.0               3.0   \n",
       "3             1.0                8.0               3.0   \n",
       "4             1.0               15.0               3.0   \n",
       "..            ...                ...               ...   \n",
       "822           2.0               12.0               3.0   \n",
       "823           4.0               13.0               3.0   \n",
       "824           1.0                9.0               3.0   \n",
       "825           4.0               17.0               3.0   \n",
       "826           2.0                5.0               3.0   \n",
       "\n",
       "     total_land_value_per_month  ...  s_07_2  s_08_2  s_09_2  job_wage_labor  \\\n",
       "0                          50.0  ...     1.0     1.0     2.0               0   \n",
       "1                         500.0  ...     1.0     1.0     3.0               1   \n",
       "2                           NaN  ...     2.0     1.0     3.0               0   \n",
       "3                         384.0  ...     1.0     1.0     3.0               0   \n",
       "4                           NaN  ...     1.0     1.0     3.0               0   \n",
       "..                          ...  ...     ...     ...     ...             ...   \n",
       "822                         NaN  ...     1.0     1.0     3.0               0   \n",
       "823                       510.0  ...     2.0     2.0     2.0               1   \n",
       "824                         NaN  ...     1.0     1.0     2.0               0   \n",
       "825                         NaN  ...     1.0     1.0     2.0               0   \n",
       "826                         NaN  ...     1.0     1.0     2.0               0   \n",
       "\n",
       "     job_salaried_worker  job_self_employment  job_trader  job_production  \\\n",
       "0                      1                    1           0               0   \n",
       "1                      0                    0           0               0   \n",
       "2                      0                    1           0               0   \n",
       "3                      0                    0           0               0   \n",
       "4                      0                    1           0               0   \n",
       "..                   ...                  ...         ...             ...   \n",
       "822                    0                    1           0               0   \n",
       "823                    0                    0           0               0   \n",
       "824                    0                    0           0               0   \n",
       "825                    0                    0           0               0   \n",
       "826                    0                    0           0               0   \n",
       "\n",
       "     job_livestock_poultry_service  job_farming  \n",
       "0                                0            3  \n",
       "1                                0            3  \n",
       "2                                0            3  \n",
       "3                                0            4  \n",
       "4                                0            2  \n",
       "..                             ...          ...  \n",
       "822                              0            3  \n",
       "823                              0            4  \n",
       "824                              0            2  \n",
       "825                              0            3  \n",
       "826                              0            3  \n",
       "\n",
       "[827 rows x 430 columns]"
      ]
     },
     "execution_count": 224,
     "metadata": {},
     "output_type": "execute_result"
    }
   ],
   "source": [
    "df"
   ]
  },
  {
   "cell_type": "code",
   "execution_count": 225,
   "id": "a2b5d6e3",
   "metadata": {},
   "outputs": [
    {
     "name": "stdout",
     "output_type": "stream",
     "text": [
      "o1_01_1_x\n",
      "o1_01_2_x\n",
      "o1_01_3_x\n",
      "o1_01_4_x\n",
      "o1_01_5_x\n",
      "o1_01_6_x\n",
      "o1_01_7_x\n",
      "o1_01_8_x\n",
      "o1_01_9_x\n",
      "o1_01_1_y\n",
      "o1_01_2_y\n",
      "o1_01_3_y\n",
      "o1_01_4_y\n",
      "o1_01_5_y\n",
      "o1_01_6_y\n",
      "o1_01_7_y\n",
      "o1_01_8_y\n",
      "o1_01_9_y\n"
     ]
    }
   ],
   "source": [
    "for col in df.columns:\n",
    "    if col[-2:] == \"_x\" or col[-2:] == \"_y\":\n",
    "        print(col)"
   ]
  },
  {
   "cell_type": "code",
   "execution_count": 226,
   "id": "add4dea3",
   "metadata": {},
   "outputs": [
    {
     "data": {
      "text/plain": [
       "True"
      ]
     },
     "execution_count": 226,
     "metadata": {},
     "output_type": "execute_result"
    }
   ],
   "source": [
    "[x for x in list(df[\"o1_01_1_x\"]) if not np.isnan(x)] == [x for x in list(df[\"o1_01_1_y\"]) if not np.isnan(x)]"
   ]
  },
  {
   "cell_type": "code",
   "execution_count": null,
   "id": "ecd988e7",
   "metadata": {},
   "outputs": [],
   "source": []
  },
  {
   "cell_type": "code",
   "execution_count": 143,
   "id": "ef7af5f7",
   "metadata": {},
   "outputs": [
    {
     "data": {
      "image/png": "[encoded data removed]",
      "text/plain": [
       "<Figure size 600x500 with 1 Axes>"
      ]
     },
     "metadata": {},
     "output_type": "display_data"
    }
   ],
   "source": [
    "col_nan_counts = {}\n",
    "L = len(df)\n",
    "for col in df.columns:\n",
    "    col_nan_counts[col] = (df[col].isna().sum()) / L\n",
    "\n",
    "plt.hist(col_nan_counts.values(), color=\"dodgerblue\", edgecolor=\"k\", bins=30)\n",
    "plt.xlabel(\"Proportion of missing values per column\")\n",
    "plt.ylabel(\"Frequency\")\n",
    "plt.show()"
   ]
  },
  {
   "cell_type": "code",
   "execution_count": 142,
   "id": "f10cd625",
   "metadata": {
    "scrolled": false
   },
   "outputs": [
    {
     "data": {
      "image/png": "[encoded data removed]",
      "text/plain": [
       "<Figure size 600x500 with 1 Axes>"
      ]
     },
     "metadata": {},
     "output_type": "display_data"
    }
   ],
   "source": [
    "row_nan_counts = {}\n",
    "num_cols = len(df.columns)\n",
    "for i in range(len(df)):\n",
    "    row = df.loc[[i]]\n",
    "    hhid = list(row[\"hhid\"])[0]\n",
    "    row_nan_counts[hhid] = (row.isna().sum().sum()) / num_cols\n",
    "\n",
    "plt.hist(row_nan_counts.values(), color=\"dodgerblue\", edgecolor=\"k\", bins=30)\n",
    "plt.xticks(np.linspace(0.2, 1.0, 9))\n",
    "plt.xlabel(\"Proportion of missing features per hhid\")\n",
    "plt.ylabel(\"Frequency\")\n",
    "plt.show()"
   ]
  },
  {
   "cell_type": "code",
   "execution_count": null,
   "id": "2dfec756",
   "metadata": {},
   "outputs": [],
   "source": []
  },
  {
   "cell_type": "code",
   "execution_count": null,
   "id": "d544c3d1",
   "metadata": {},
   "outputs": [],
   "source": []
  },
  {
   "cell_type": "code",
   "execution_count": null,
   "id": "10064d04",
   "metadata": {},
   "outputs": [],
   "source": []
  },
  {
   "cell_type": "markdown",
   "id": "497415bf",
   "metadata": {},
   "source": [
    "# Mutual Information Regression"
   ]
  },
  {
   "cell_type": "code",
   "execution_count": 175,
   "id": "0032688b",
   "metadata": {},
   "outputs": [],
   "source": [
    "# compute number of changes implemented by each household\n",
    "num_changes = {hhid:0 for hhid in UNIQUE_HHID}\n",
    "for DF in ADAPTATION_DFS:\n",
    "    for hhid in UNIQUE_HHID:\n",
    "        hh = DF.loc[DF.hhid==hhid]\n",
    "        if len(hh):\n",
    "            ignore_hhid_col = hh.loc[:, ~hh.columns.isin(['hhid'])]\n",
    "            num_changes[hhid] += sum(np.array(ignore_hhid_col.iloc[0]==1))"
   ]
  },
  {
   "cell_type": "code",
   "execution_count": 177,
   "id": "1959346f",
   "metadata": {},
   "outputs": [],
   "source": [
    "adaptation_target = np.array(list(num_changes.values()))\n",
    "features = column_selection(df, remove=[\"hhid\", \"community_code\"]).fillna(-10)\n",
    "mutual_information_scores = mutual_info_regression(features, adaptation_target)"
   ]
  },
  {
   "cell_type": "code",
   "execution_count": 186,
   "id": "c396e53c",
   "metadata": {},
   "outputs": [
    {
     "data": {
      "image/png": "[encoded data removed]",
      "text/plain": [
       "<Figure size 600x500 with 1 Axes>"
      ]
     },
     "metadata": {},
     "output_type": "display_data"
    }
   ],
   "source": [
    "plt.hist(mutual_information_scores, color=\"dodgerblue\", edgecolor=\"k\", bins=30)\n",
    "plt.show()"
   ]
  },
  {
   "cell_type": "code",
   "execution_count": 198,
   "id": "8488eb9f",
   "metadata": {},
   "outputs": [],
   "source": [
    "feature_cols = list(features.columns)\n",
    "d = {feature_cols[i]:mutual_information_scores[i] for i in range(len(feature_cols))}"
   ]
  },
  {
   "cell_type": "code",
   "execution_count": 204,
   "id": "0c6c57d4",
   "metadata": {},
   "outputs": [
    {
     "data": {
      "text/plain": [
       "[('o15', 0.5253312364649863),\n",
       " ('o23_1', 0.4838609409271837),\n",
       " ('o25_1', 0.43658619059472903),\n",
       " ('o16', 0.43427316266763283),\n",
       " ('o26_1', 0.42534120419015764),\n",
       " ('o28_1', 0.3859086273203167),\n",
       " ('o02_1', 0.37816967819821734),\n",
       " ('o27_1', 0.3757650071735701),\n",
       " ('o03_1', 0.36303306756097076),\n",
       " ('o24_1', 0.35771800746746196),\n",
       " ('o08_1', 0.3535764224234996),\n",
       " ('o04_1', 0.34405299576578274),\n",
       " ('o11', 0.33159609217679886),\n",
       " ('o13', 0.32839457405177974),\n",
       " ('o06_1', 0.32758010121076353),\n",
       " ('o20', 0.32173588089518423),\n",
       " ('o09', 0.31560430887210433),\n",
       " ('o18', 0.30970685183693636),\n",
       " ('o10', 0.3061244398052665),\n",
       " ('o22', 0.30412818062756886),\n",
       " ('o05_1', 0.30329534362601507),\n",
       " ('o21', 0.2999088344537033),\n",
       " ('o12', 0.29748030907321255),\n",
       " ('o14', 0.28857019824720664),\n",
       " ('o19', 0.28363741920550956),\n",
       " ('o07_1', 0.2725543293142625),\n",
       " ('o17', 0.27021615644152774),\n",
       " ('o29', 0.2635391887489247),\n",
       " ('o1_01_7_x', 0.2426787642818642),\n",
       " ('o1_01_7_y', 0.22358429118805523),\n",
       " ('o1_01_5_y', 0.20884005641993486),\n",
       " ('o1_01_6_y', 0.20412906898829464),\n",
       " ('o1_01_4_x', 0.17682410034902896),\n",
       " ('o1_01_6_x', 0.17406993410881322),\n",
       " ('o1_01_5_x', 0.16918136070244527),\n",
       " ('ezcode', 0.1576033711560343),\n",
       " ('o1_01_4_y', 0.15127790369540284),\n",
       " ('livestock_medication_value', 0.14582202652673182),\n",
       " ('livestock_fodder_value', 0.1439715048961676),\n",
       " ('m10', 0.1390203041299869),\n",
       " ('m01', 0.13364243566070622),\n",
       " ('q04', 0.12575987113878861),\n",
       " ('r4_04_2_9', 0.12472931009029198),\n",
       " ('q07_1', 0.1244745826529372),\n",
       " ('r2_15_1', 0.12422994882135496),\n",
       " ('value_food_other', 0.123147585435607),\n",
       " ('r2_17_1_1', 0.12258326832934019),\n",
       " ('r2_21_1_1', 0.1221692450346823),\n",
       " ('min_land_acquisition_year', 0.12168569360227854),\n",
       " ('job_farming', 0.12054957067794225),\n",
       " ('s_06_1_1', 0.12023619684738884),\n",
       " ('r2_16_1', 0.11289110050425677),\n",
       " ('m04_1', 0.11009272970733486),\n",
       " ('m06_1', 0.10853269497791018),\n",
       " ('q05_1', 0.10842233219755171),\n",
       " ('r2_19_1_1', 0.10673409174888526),\n",
       " ('k01', 0.10664965925451009),\n",
       " ('m03', 0.10615151552427227),\n",
       " ('r2_22_1_1', 0.10415661837503087),\n",
       " ('mean_land_acquisition_year', 0.10348528370904964),\n",
       " ('r2_18_1_1', 0.10326644630196169),\n",
       " ('m07', 0.10046429329723461),\n",
       " ('r7_09_2', 0.1004611735000136),\n",
       " ('m08_1', 0.10002625191941217),\n",
       " ('q03', 0.09968786911543104),\n",
       " ('r2_20_1_1', 0.09946794718291718),\n",
       " ('o1_01_9_x', 0.09945111393169181),\n",
       " ('q02', 0.09938158173005318),\n",
       " ('r4_04_2_3', 0.09659450699307515),\n",
       " ('s_06_4_1', 0.09628868611603814),\n",
       " ('o1_01_1_x', 0.09619803107131064),\n",
       " ('s_06_5_1', 0.09470266937135285),\n",
       " ('j02_1_personal_items_expenses', 0.09442268982386359),\n",
       " ('m08_2', 0.09377662117835373),\n",
       " ('q06', 0.09341494845200415),\n",
       " ('land_acquisition_means', 0.09319266996623954),\n",
       " ('r2_23_2_1', 0.09261618354965861),\n",
       " ('o1_01_3_x', 0.09256130521257999),\n",
       " ('r4_03_2', 0.09209296487799401),\n",
       " ('k02', 0.0915059119099868),\n",
       " ('r9_09_2', 0.0913858124859046),\n",
       " ('r3_07_2', 0.09113256779212042),\n",
       " ('s_06_3_1', 0.09101662389626153),\n",
       " ('q07_2', 0.0909201561381523),\n",
       " ('q01_1', 0.09065010082308245),\n",
       " ('weight_food_drinks', 0.09012534602135691),\n",
       " ('r7_07_2_1', 0.08964291663287938),\n",
       " ('group_1_membership', 0.08939115213253723),\n",
       " ('highest_education', 0.0892112292508318),\n",
       " ('m05', 0.0887715717816322),\n",
       " ('m09', 0.08780074665546644),\n",
       " ('r8_06_1', 0.08704695772282278),\n",
       " ('num_children', 0.08702723592924277),\n",
       " ('plot_type', 0.086964517537651),\n",
       " ('j02_2_wedding_costs_groom', 0.08692186334469776),\n",
       " ('r6_08_1', 0.08658790184949705),\n",
       " ('o1_01_2_x', 0.08573147179121454),\n",
       " ('r3_06_1', 0.08514406675697161),\n",
       " ('j02_2_clothing_expenses', 0.0847834602498736),\n",
       " ('r8_14_1', 0.08462882477053801),\n",
       " ('value_agricultural_equipments', 0.0838373322612318),\n",
       " ('s_03_2', 0.08343219156770498),\n",
       " ('s_03_1', 0.08319950745383053),\n",
       " ('k03', 0.08297290649364175),\n",
       " ('o1_01_1_y', 0.08284960905601091),\n",
       " ('o1_01_9_y', 0.08184683520892388),\n",
       " ('m06_2', 0.0807877000386954),\n",
       " ('k03_1', 0.08060766724540258),\n",
       " ('count_now', 0.0802311285564481),\n",
       " ('value_food_edible_oil', 0.07950356638109701),\n",
       " ('count_2011', 0.07935758548800909),\n",
       " ('s_06_1_2', 0.07885630539960431),\n",
       " ('j03_1_fuel_expenses', 0.0785802832037863),\n",
       " ('value_food_vegetables', 0.07854711707146311),\n",
       " ('s_06_4_2', 0.07819656614830217),\n",
       " ('k05', 0.07752564597544032),\n",
       " ('value_livestock_poultry', 0.07696170774865152),\n",
       " ('r7_11_1_1', 0.07610881155449034),\n",
       " ('r7_03_1', 0.07530006029773118),\n",
       " ('o1_01_8_x', 0.07477052419387764),\n",
       " ('soil_type', 0.07474872901983831),\n",
       " ('j02_1_utilities_taxes_fees', 0.07428621110671862),\n",
       " ('m06_3', 0.07384578484481397),\n",
       " ('r7_05_1', 0.0732258050482062),\n",
       " ('r6_03_2_1', 0.07305293188165551),\n",
       " ('r3_07_1', 0.07284619730673914),\n",
       " ('r7_08_2', 0.07274542998824529),\n",
       " ('o1_01_8_y', 0.07248309121490637),\n",
       " ('s_02_2', 0.07162333640421448),\n",
       " ('k10', 0.07151385049628978),\n",
       " ('r9_02_1', 0.07101065590629485),\n",
       " ('q01_2', 0.07002825143030567),\n",
       " ('m11_1', 0.0694572067580701),\n",
       " ('k05_1', 0.06901036526657878),\n",
       " ('r6_04_1_1', 0.06890724351781019),\n",
       " ('r6_08_2', 0.06877648670832093),\n",
       " ('r4_04_1_5', 0.06844308755343054),\n",
       " ('q05_2', 0.06822777110891076),\n",
       " ('r2_19_3_1', 0.06796117650037514),\n",
       " ('j02_1_miscellaneous_expenses', 0.06727478655518082),\n",
       " ('value_now', 0.06703852835964152),\n",
       " ('r7_08_1', 0.0668659517868404),\n",
       " ('value_food_other_outside_home', 0.06684992930723599),\n",
       " ('r4_04_2_2', 0.06659024395048707),\n",
       " ('r7_10_2', 0.0664628191952561),\n",
       " ('r7_02_1', 0.06557384334610372),\n",
       " ('r8_02_1', 0.06488527754278461),\n",
       " ('r3_02_1', 0.06468873349677651),\n",
       " ('j03_2_personal_items_expenses', 0.06395972454575993),\n",
       " ('m04_2', 0.06378428409277026),\n",
       " ('k07', 0.0635932761965714),\n",
       " ('k04', 0.06351257834702295),\n",
       " ('r2_23_1_1', 0.06337983834546668),\n",
       " ('j03_2_local_transport_expenses', 0.06331399057622544),\n",
       " ('r6_02_1', 0.06306106411169887),\n",
       " ('j02_2_local_transport_expenses', 0.0625513682828629),\n",
       " ('r3_05_1', 0.061872574614522335),\n",
       " ('r9_09_1', 0.06147946188880482),\n",
       " ('r7_06_1_1', 0.061103467876636675),\n",
       " ('j02_1_local_transport_expenses', 0.06084564284555949),\n",
       " ('r6_07_1', 0.060271606885501594),\n",
       " ('value_2011', 0.06020438131593675),\n",
       " ('o1_01_3_y', 0.05884990567811821),\n",
       " ('r7_10_1', 0.05864650124169435),\n",
       " ('r6_03_1_1', 0.05852243952627445),\n",
       " ('r7_02_2', 0.05820998950390521),\n",
       " ('s_06_2_1', 0.057946306665134895),\n",
       " ('r4_03_1', 0.057900018418057364),\n",
       " ('r4_04_1_9', 0.05789544644688238),\n",
       " ('job_self_employment', 0.057381492633436615),\n",
       " ('k06', 0.05690866588976995),\n",
       " ('s_09_1', 0.056803432960281786),\n",
       " ('o1_01_2_y', 0.056656014298682056),\n",
       " ('r3_04_2', 0.05642347116068391),\n",
       " ('r3_02_2', 0.05592987562495644),\n",
       " ('r9_02_2', 0.05529279891182526),\n",
       " ('r2_18_2_1', 0.05527786218941788),\n",
       " ('weight_food_fruits', 0.05454672956904627),\n",
       " ('r6_02_2', 0.05437970971288575),\n",
       " ('r4_04_1_3', 0.05426141524075323),\n",
       " ('s_06_6_1', 0.05406263585307025),\n",
       " ('r4_02_1', 0.053613438513779865),\n",
       " ('land_operational_status', 0.05358146526732721),\n",
       " ('value_food_spices', 0.05280459514813529),\n",
       " ('calamity_1', 0.05195579589666055),\n",
       " ('s_09_2', 0.051748663717805066),\n",
       " ('calamity_8', 0.0516476879580563),\n",
       " ('r7_09_1', 0.05155208372944564),\n",
       " ('j02_2_utilities_taxes_fees', 0.051455518124993826),\n",
       " ('max_land_acquisition_year', 0.05143112470995925),\n",
       " ('ratio_male', 0.05128998155650333),\n",
       " ('r4_04_2_1', 0.051037009217441476),\n",
       " ('s_04_2', 0.050663154503067354),\n",
       " ('m02_1', 0.049781854414705506),\n",
       " ('value_consumable_durables', 0.049591264589613715),\n",
       " ('r6_03_1_2', 0.048564030179030215),\n",
       " ('highest_literacy', 0.048400132400054474),\n",
       " ('j02_2_furniture_household_expenses', 0.048241889594661025),\n",
       " ('r7_11_1_2', 0.04802099831757234),\n",
       " ('r7_04_1', 0.04766268015394726),\n",
       " ('livestock_hired_male_labor', 0.04719787600261682),\n",
       " ('r3_04_1', 0.046984613087936555),\n",
       " ('r4_05_2', 0.045384629099281426),\n",
       " ('s_04_1', 0.04523184879535869),\n",
       " ('r4_04_1_6', 0.0444980818774563),\n",
       " ('s_02_1', 0.0440372593605054),\n",
       " ('r7_06_2_1', 0.0431573634453839),\n",
       " ('m02_2', 0.042680579191909374),\n",
       " ('r2_21_3_1', 0.042508175258383574),\n",
       " ('s_06_5_2', 0.04210850249124487),\n",
       " ('j03_1_rent_expenses', 0.04201691149364484),\n",
       " ('r4_04_1_4', 0.041283371490713705),\n",
       " ('r4_04_2_8', 0.04127753725424954),\n",
       " ('j03_1_personal_items_expenses', 0.03947921001750876),\n",
       " ('r4_04_1_8', 0.039457026311885635),\n",
       " ('s_06_6_2', 0.039452424551538634),\n",
       " ('value_transport', 0.03826575828202383),\n",
       " ('r4_04_1_1', 0.037821069892413295),\n",
       " ('r2_21_2_1', 0.03761291552301005),\n",
       " ('r4_04_2_5', 0.0375143909991702),\n",
       " ('group_17_membership', 0.03706213548245163),\n",
       " ('job_trader', 0.03689437314277422),\n",
       " ('r8_14_2', 0.03656343272974949),\n",
       " ('r4_04_2_6', 0.03541206879227721),\n",
       " ('j02_2_vehicle_expenses', 0.03510680885488471),\n",
       " ('group_2_membership', 0.035095478821483006),\n",
       " ('job_salaried_worker', 0.035019021096839076),\n",
       " ('j02_1_education_expenses', 0.03498951485284163),\n",
       " ('r7_07_1_1', 0.03469925880670255),\n",
       " ('s_08_1', 0.03425819366798866),\n",
       " ('r3_06_2', 0.034214359289600704),\n",
       " ('r3_03_2', 0.034212736108552466),\n",
       " ('r3_03_1', 0.03415654003562718),\n",
       " ('s_07_1', 0.03414381247742426),\n",
       " ('r2_15_2', 0.03382866743221147),\n",
       " ('r4_04_1_7', 0.03378170825788818),\n",
       " ('serious_economic_setback', 0.03337685580288863),\n",
       " ('r7_11_2_2', 0.03335946580110383),\n",
       " ('s_07_2', 0.032824259903864395),\n",
       " ('group_16_membership', 0.03262653524393677),\n",
       " ('s_06_3_2', 0.03255338293753507),\n",
       " ('total_land_value_per_month', 0.03254804061948269),\n",
       " ('r2_18_4_1', 0.03236654550297091),\n",
       " ('ratio_female', 0.03236239028903087),\n",
       " ('r6_05_1', 0.03221792052697792),\n",
       " ('group_6_membership', 0.032115027876624236),\n",
       " ('j02_1_fuel_expenses', 0.03184457345748548),\n",
       " ('m06_4', 0.03132199089691845),\n",
       " ('r4_05_1', 0.0310030933110359),\n",
       " ('j02_1_non_local_travel_expenses', 0.030764132043485937),\n",
       " ('r2_15_4', 0.030111602831742967),\n",
       " ('r8_02_2', 0.02967505761428857),\n",
       " ('r6_07_2', 0.029496770301593145),\n",
       " ('r6_04_2_2', 0.029484799140702567),\n",
       " ('group_4_membership', 0.029401750505853474),\n",
       " ('r2_22_2_1', 0.02913848897013427),\n",
       " ('j03_2_rent_expenses', 0.02902991545721978),\n",
       " ('r7_05_2', 0.028976893552579597),\n",
       " ('j02_1_rent_expenses', 0.028551316526665094),\n",
       " ('job_production', 0.02845735227749202),\n",
       " ('j03_2_communication_expenses', 0.028456749236492662),\n",
       " ('j02_1_clothing_expenses', 0.028162642417544514),\n",
       " ('j03_1_family_events_expenses', 0.02809269634694811),\n",
       " ('r8_06_2', 0.027958222941974586),\n",
       " ('positive_events_value', 0.02773657473840041),\n",
       " ('r7_07_2_3', 0.027548219403492613),\n",
       " ('q05_3', 0.027102922667033624),\n",
       " ('total_selling_value', 0.027035133115337118),\n",
       " ('value_food_fish_small', 0.026853836412521925),\n",
       " ('s_06_2_2', 0.026750431131140395),\n",
       " ('r4_04_2_7', 0.025865635570185397),\n",
       " ('weight_food_leafy_vegetables', 0.025626188821866513),\n",
       " ('sale_of_assets_value', 0.025483253293132613),\n",
       " ('j02_1_furniture_household_expenses', 0.025225683701355806),\n",
       " ('r7_11_2_1', 0.02506749642636219),\n",
       " ('value_food_fruits', 0.024256236504929696),\n",
       " ('weight_food_edible_oil', 0.02425576786767003),\n",
       " ('calamity_9', 0.02416036098205243),\n",
       " ('r4_04_1_2', 0.024152653076543906),\n",
       " ('r7_06_1_3', 0.02368664767051909),\n",
       " ('r2_20_4_1', 0.023526764329352634),\n",
       " ('r2_19_2_1', 0.023459292804438814),\n",
       " ('q07_3', 0.02259731302034451),\n",
       " ('r6_03_1_3', 0.02109585810543635),\n",
       " ('m11_2', 0.020293403096319107),\n",
       " ('weight_food_vegetables', 0.01961454718554201),\n",
       " ('j02_2_health_expenses', 0.019315436513845263),\n",
       " ('r2_17_4_1', 0.019280820606846216),\n",
       " ('weight_food_pulses', 0.019264678119890633),\n",
       " ('s_08_2', 0.019153211523899483),\n",
       " ('r7_03_2', 0.01914034965042699),\n",
       " ('j02_1_health_expenses', 0.01889159234690707),\n",
       " ('calamity_3', 0.01870779491841601),\n",
       " ('r7_06_1_2', 0.018339832054818928),\n",
       " ('group_14_membership', 0.01762285919067308),\n",
       " ('household_size', 0.01748914316585326),\n",
       " ('j03_1_wedding_costs_groom', 0.017472675745013433),\n",
       " ('r3_05_2', 0.017431617904296814),\n",
       " ('m11_5', 0.017374547900085968),\n",
       " ('j02_2_personal_items_expenses', 0.01647827068225327),\n",
       " ('r2_17_2_1', 0.016204482780291407),\n",
       " ('j03_1_miscellaneous_expenses', 0.01592291223948905),\n",
       " ('r6_04_2_3', 0.015835927714147324),\n",
       " ('r2_17_3_1', 0.01560172080465927),\n",
       " ('j03_2_wedding_costs_groom', 0.014407295997340253),\n",
       " ('r7_06_2_2', 0.014378707045469952),\n",
       " ('group_7_membership', 0.014246928691992622),\n",
       " ('group_18_membership', 0.014180507945974252),\n",
       " ('j03_1_vehicle_expenses', 0.01404249016185144),\n",
       " ('m08_3', 0.014025062582859071),\n",
       " ('m04_4', 0.013853594474429798),\n",
       " ('shocks_loss_value', 0.012998890585646183),\n",
       " ('r2_20_2_1', 0.012958067876391866),\n",
       " ('r4_02_2', 0.012454175205899531),\n",
       " ('weight_food_meat_eggs_milk', 0.012362333745759013),\n",
       " ('j03_1_utilities_taxes_fees', 0.012264423746495279),\n",
       " ('r2_21_4_1', 0.011908209041542328),\n",
       " ('value_food_drinks', 0.011850661711397148),\n",
       " ('r2_15_3', 0.011783832453784893),\n",
       " ('r6_03_2_2', 0.011624406074899785),\n",
       " ('s_05_1', 0.01155516558921077),\n",
       " ('r2_16_2', 0.011525637103118935),\n",
       " ('j03_2_clothing_expenses', 0.011286562105865094),\n",
       " ('calamity_5', 0.010970750345125513),\n",
       " ('j02_1_vehicle_expenses', 0.010708183028461882),\n",
       " ('j03_2_health_expenses', 0.010000949259530323),\n",
       " ('m11_6', 0.00997947075968142),\n",
       " ('value_food_cereals', 0.008706501441864578),\n",
       " ('j02_2_education_expenses', 0.008215473622159575),\n",
       " ('weather_events_damage', 0.007721939389969901),\n",
       " ('j02_2_family_events_expenses', 0.007517655935778134),\n",
       " ('q01_3', 0.0068618947096052985),\n",
       " ('r2_18_3_1', 0.00670404521886292),\n",
       " ('j02_2_entertainment_expenses', 0.006007911654216436),\n",
       " ('weight_food_other', 0.005904330843412797),\n",
       " ('r6_06_1', 0.005535271964004274),\n",
       " ('value_food_meat_eggs_milk', 0.004508014762248269),\n",
       " ('m02_3', 0.004479287771304907),\n",
       " ('r6_04_1_2', 0.00435106562164389),\n",
       " ('weight_food_cereals', 0.003996367467032691),\n",
       " ('weight_food_fish_large', 0.003812756285166863),\n",
       " ('r7_04_2', 0.003637595625106904),\n",
       " ('calamity_4', 0.0035934837118416496),\n",
       " ('r7_07_1_3', 0.0020827275452179883),\n",
       " ('j02_1_family_events_expenses', 0.0018203025048277865),\n",
       " ('j02_2_non_local_travel_expenses', 0.0012928929693325486),\n",
       " ('r2_20_3_1', 0.0011093395067049983),\n",
       " ('job_wage_labor', 0.0007521265020340451),\n",
       " ('group_11_membership', 0.0005112254656824966),\n",
       " ('r6_06_2', 0.0005006421480695522),\n",
       " ('credit_cash_borrowed', 0.0),\n",
       " ('credit_value_borrowed', 0.0),\n",
       " ('credit_cash_repaid', 0.0),\n",
       " ('credit_value_repaid', 0.0),\n",
       " ('value_other', 0.0),\n",
       " ('value_food_pulses', 0.0),\n",
       " ('value_food_leafy_vegetables', 0.0),\n",
       " ('value_food_fish_large', 0.0),\n",
       " ('weight_food_fish_small', 0.0),\n",
       " ('weight_food_spices', 0.0),\n",
       " ('weight_food_other_outside_home', 0.0),\n",
       " ('j02_2_rent_expenses', 0.0),\n",
       " ('j02_2_fuel_expenses', 0.0),\n",
       " ('j03_2_fuel_expenses', 0.0),\n",
       " ('j03_1_local_transport_expenses', 0.0),\n",
       " ('j02_2_miscellaneous_expenses', 0.0),\n",
       " ('j03_2_miscellaneous_expenses', 0.0),\n",
       " ('j03_1_health_expenses', 0.0),\n",
       " ('j02_1_communication_expenses', 0.0),\n",
       " ('j02_2_communication_expenses', 0.0),\n",
       " ('j03_1_communication_expenses', 0.0),\n",
       " ('j02_1_entertainment_expenses', 0.0),\n",
       " ('j03_1_entertainment_expenses', 0.0),\n",
       " ('j03_2_entertainment_expenses', 0.0),\n",
       " ('j03_1_non_local_travel_expenses', 0.0),\n",
       " ('j03_2_non_local_travel_expenses', 0.0),\n",
       " ('j03_1_clothing_expenses', 0.0),\n",
       " ('j03_1_furniture_household_expenses', 0.0),\n",
       " ('j03_2_furniture_household_expenses', 0.0),\n",
       " ('j03_2_utilities_taxes_fees', 0.0),\n",
       " ('j03_2_family_events_expenses', 0.0),\n",
       " ('j02_1_wedding_costs_bride', 0.0),\n",
       " ('j02_2_wedding_costs_bride', 0.0),\n",
       " ('j03_1_wedding_costs_bride', 0.0),\n",
       " ('j03_2_wedding_costs_bride', 0.0),\n",
       " ('j02_1_wedding_costs_groom', 0.0),\n",
       " ('j03_1_education_expenses', 0.0),\n",
       " ('j03_2_education_expenses', 0.0),\n",
       " ('j03_2_vehicle_expenses', 0.0),\n",
       " ('calamity_2', 0.0),\n",
       " ('calamity_6', 0.0),\n",
       " ('calamity_7', 0.0),\n",
       " ('calamity_10', 0.0),\n",
       " ('calamity_11', 0.0),\n",
       " ('calamity_12', 0.0),\n",
       " ('m02_4', 0.0),\n",
       " ('m04_3', 0.0),\n",
       " ('m06_5', 0.0),\n",
       " ('m08_4', 0.0),\n",
       " ('m11_3', 0.0),\n",
       " ('m11_4', 0.0),\n",
       " ('group_3_membership', 0.0),\n",
       " ('group_5_membership', 0.0),\n",
       " ('group_8_membership', 0.0),\n",
       " ('group_9_membership', 0.0),\n",
       " ('group_10_membership', 0.0),\n",
       " ('group_12_membership', 0.0),\n",
       " ('group_13_membership', 0.0),\n",
       " ('group_15_membership', 0.0),\n",
       " ('r2_16_3', 0.0),\n",
       " ('r2_16_4', 0.0),\n",
       " ('r2_19_4_1', 0.0),\n",
       " ('r2_22_3_1', 0.0),\n",
       " ('r2_22_4_1', 0.0),\n",
       " ('r2_23_3_1', 0.0),\n",
       " ('r2_23_4_1', 0.0),\n",
       " ('r4_04_2_4', 0.0),\n",
       " ('r6_04_1_3', 0.0),\n",
       " ('r6_03_2_3', 0.0),\n",
       " ('r6_04_2_1', 0.0),\n",
       " ('r6_05_2', 0.0),\n",
       " ('r7_07_1_2', 0.0),\n",
       " ('r7_11_1_3', 0.0),\n",
       " ('r7_06_2_3', 0.0),\n",
       " ('r7_07_2_2', 0.0),\n",
       " ('r7_11_2_3', 0.0),\n",
       " ('s_05_2', 0.0),\n",
       " ('job_livestock_poultry_service', 0.0)]"
      ]
     },
     "execution_count": 204,
     "metadata": {},
     "output_type": "execute_result"
    }
   ],
   "source": [
    "sorted([(k,v) for (k,v) in d.items()], key = lambda x: d[x[0]], reverse=True)"
   ]
  },
  {
   "cell_type": "code",
   "execution_count": null,
   "id": "5e64a5bd",
   "metadata": {},
   "outputs": [],
   "source": []
  },
  {
   "cell_type": "code",
   "execution_count": null,
   "id": "73ff38d4",
   "metadata": {},
   "outputs": [],
   "source": []
  },
  {
   "cell_type": "code",
   "execution_count": null,
   "id": "69c25452",
   "metadata": {},
   "outputs": [],
   "source": []
  },
  {
   "cell_type": "code",
   "execution_count": null,
   "id": "cbba51a8",
   "metadata": {},
   "outputs": [],
   "source": []
  },
  {
   "cell_type": "code",
   "execution_count": 190,
   "id": "8c4d0427",
   "metadata": {
    "collapsed": true
   },
   "outputs": [
    {
     "name": "stdout",
     "output_type": "stream",
     "text": [
      "0.0\n",
      "0.03225806451612903\n",
      "0.06451612903225806\n",
      "0.0967741935483871\n",
      "0.12903225806451613\n",
      "0.16129032258064516\n",
      "0.1935483870967742\n",
      "0.22580645161290322\n",
      "0.25806451612903225\n",
      "0.2903225806451613\n",
      "0.3225806451612903\n",
      "0.3548387096774194\n",
      "0.3870967741935484\n",
      "0.41935483870967744\n",
      "0.45161290322580644\n",
      "0.4838709677419355\n",
      "0.5161290322580645\n",
      "0.5483870967741935\n",
      "0.5806451612903226\n",
      "0.6129032258064516\n",
      "0.6451612903225806\n",
      "0.6774193548387096\n",
      "0.7096774193548387\n",
      "0.7419354838709677\n",
      "0.7741935483870968\n",
      "0.8064516129032258\n",
      "0.8387096774193549\n",
      "0.8709677419354839\n",
      "0.9032258064516129\n",
      "0.9354838709677419\n",
      "0.967741935483871\n"
     ]
    }
   ],
   "source": [
    "mutual_info = {}\n",
    "\n",
    "for i, DF in enumerate(PROCESSED_DFS):\n",
    "    for col in DF.columns:\n",
    "        if col not in [\"hhid\", \"community_code\"]:\n",
    "            X = {}\n",
    "            for hhid in DF.hhid:\n",
    "                if hhid in num_changes:\n",
    "                    val = list(DF.loc[DF.hhid==hhid][col])[0]\n",
    "                    X[hhid] = val if not np.isnan(val) else - 10\n",
    "            \n",
    "            sorted_keys = sorted(X.keys())\n",
    "            X = np.array([X[k] for k in sorted_keys]).reshape(-1,1)\n",
    "            y = np.array([num_changes[k] for k in sorted_keys])\n",
    "            try:\n",
    "                mutual_info[col] = mutual_info_regression(X,y)[0]\n",
    "            except:\n",
    "                mutual_info[col] = -1\n",
    "            \n",
    "    print(i/len(PROCESSED_DFS))"
   ]
  },
  {
   "cell_type": "code",
   "execution_count": 193,
   "id": "5548c32c",
   "metadata": {},
   "outputs": [
    {
     "data": {
      "image/png": "[encoded data removed]",
      "text/plain": [
       "<Figure size 600x500 with 1 Axes>"
      ]
     },
     "metadata": {},
     "output_type": "display_data"
    }
   ],
   "source": [
    "valz = []\n",
    "for col, val in mutual_info.items():\n",
    "    if col[0] != \"o\" and val != -1:\n",
    "        valz.append(val)\n",
    "        \n",
    "plt.hist(valz, color=\"dodgerblue\", edgecolor=\"k\", bins=30)\n",
    "plt.xlabel(\"Mutual Information Score\")\n",
    "plt.ylabel(\"Frequency\")\n",
    "plt.show()"
   ]
  },
  {
   "cell_type": "code",
   "execution_count": null,
   "id": "f1443203",
   "metadata": {},
   "outputs": [],
   "source": []
  },
  {
   "cell_type": "code",
   "execution_count": null,
   "id": "23147c24",
   "metadata": {},
   "outputs": [],
   "source": [
    "mutual_info = {}\n",
    "\n",
    "for i, col in enumerate(df.columns):\n",
    "    if col not in [\"hhid\", \"community_code\"]:\n",
    "        X = {}\n",
    "        for hhid in df.hhid:\n",
    "            if hhid in num_changes:  \n",
    "                val = list(df.loc[df.hhid==hhid][col])[0]\n",
    "                X[hhid] = val if not np.isnan(val) else - 10\n",
    "\n",
    "        sorted_keys = sorted(X.keys())\n",
    "        X = np.array([X[k] for k in sorted_keys]).reshape(-1,1)\n",
    "        y = np.array([num_changes[k] for k in sorted_keys])\n",
    "        try:\n",
    "            mutual_info[col] = mutual_info_regression(X,y)[0]\n",
    "        except:\n",
    "            mutual_info[col] = -1\n",
    "\n",
    "    if (i % 10) == 0:\n",
    "        print(f\"Progress: {i/num_cols:.2f} ...\")"
   ]
  },
  {
   "cell_type": "code",
   "execution_count": 184,
   "id": "8311324f",
   "metadata": {},
   "outputs": [
    {
     "data": {
      "image/png": "[encoded data removed]",
      "text/plain": [
       "<Figure size 600x500 with 1 Axes>"
      ]
     },
     "metadata": {},
     "output_type": "display_data"
    }
   ],
   "source": [
    "valz = []\n",
    "for col, val in mutual_info.items():\n",
    "    if col[0] != \"o\" and val != -1:\n",
    "        valz.append(val)\n",
    "        \n",
    "plt.hist(valz, color=\"dodgerblue\", edgecolor=\"k\", bins=30)\n",
    "plt.xlabel(\"Mutual Information Score\")\n",
    "plt.ylabel(\"Frequency\")\n",
    "plt.show()"
   ]
  },
  {
   "cell_type": "code",
   "execution_count": null,
   "id": "8f5a5b7a",
   "metadata": {},
   "outputs": [],
   "source": []
  },
  {
   "cell_type": "code",
   "execution_count": null,
   "id": "a9e7cfb2",
   "metadata": {},
   "outputs": [],
   "source": []
  },
  {
   "cell_type": "code",
   "execution_count": null,
   "id": "97a3e6ed",
   "metadata": {},
   "outputs": [],
   "source": []
  },
  {
   "cell_type": "code",
   "execution_count": 159,
   "id": "140c8872",
   "metadata": {},
   "outputs": [
    {
     "data": {
      "text/plain": [
       "[('j03_2_miscellaneous_expenses', 0.2422801942209829),\n",
       " ('j02_1_vehicle_expenses', 0.22404994210686602),\n",
       " ('r6_04_2_2', 0.19943450063543144),\n",
       " ('r6_03_1_3', 0.161805842015585),\n",
       " ('r7_11_1_3', 0.1418564365763988),\n",
       " ('r7_11_1_2', 0.13461671782986118),\n",
       " ('j03_2_family_events_expenses', 0.13055555555555576),\n",
       " ('r7_07_2_3', 0.12615182269547232),\n",
       " ('r7_06_2_3', 0.10387365663563619),\n",
       " ('job_farming', 0.09939711695271258),\n",
       " ('weight_food_drinks', 0.0916661736844584),\n",
       " ('s_06_3_2', 0.08231736077019924),\n",
       " ('value_food_other', 0.08024871898797814),\n",
       " ('j03_1_health_expenses', 0.07870370370370372),\n",
       " ('m01', 0.07748945845422206)]"
      ]
     },
     "execution_count": 159,
     "metadata": {},
     "output_type": "execute_result"
    }
   ],
   "source": [
    "k = sorted(mutual_info, key=lambda x: mutual_info[x], reverse=True)\n",
    "k = [item for item in k if item[0] != \"o\"]\n",
    "\n",
    "pairs = []\n",
    "for item in k:\n",
    "    pairs.append((item, mutual_info[item]))\n",
    "    \n",
    "pairs[:15]"
   ]
  }
 ],
 "metadata": {
  "kernelspec": {
   "display_name": "Python 3",
   "language": "python",
   "name": "python3"
  },
  "language_info": {
   "codemirror_mode": {
    "name": "ipython",
    "version": 3
   },
   "file_extension": ".py",
   "mimetype": "text/x-python",
   "name": "python",
   "nbconvert_exporter": "python",
   "pygments_lexer": "ipython3",
   "version": "3.8.6"
  }
 },
 "nbformat": 4,
 "nbformat_minor": 5
}
