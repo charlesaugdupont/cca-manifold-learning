{
 "cells": [
  {
   "cell_type": "code",
   "execution_count": 124,
   "id": "acdc0b3a",
   "metadata": {},
   "outputs": [],
   "source": [
    "import os\n",
    "os.chdir('../quafing/')\n",
    "\n",
    "import random\n",
    "import pickle\n",
    "import numpy as np\n",
    "import quafing as q\n",
    "from scipy.stats import mode\n",
    "from collections import Counter\n",
    "\n",
    "import pandas as pd\n",
    "pd.options.mode.chained_assignment = None  # default='warn'\n",
    "\n",
    "from sklearn.preprocessing import LabelEncoder\n",
    "from sklearn.feature_selection import mutual_info_regression\n",
    "\n",
    "import matplotlib.pyplot as plt\n",
    "plt.rcParams.update(plt.rcParamsDefault)\n",
    "plt.rcParams.update({\"font.size\" : 15, \n",
    "                     \"figure.dpi\" : 100, \n",
    "                     \"legend.fontsize\" : 13, \n",
    "                     \"grid.alpha\" : 0.3, \n",
    "                     \"axes.grid\": True, \n",
    "                     \"axes.axisbelow\" : True, \n",
    "                     \"figure.figsize\":(6, 5)})"
   ]
  },
  {
   "cell_type": "code",
   "execution_count": 2,
   "id": "e7ff95f3",
   "metadata": {},
   "outputs": [],
   "source": [
    "def load_data(path):\n",
    "    \"\"\"\n",
    "    Loads .dta file using provided path.\n",
    "    \"\"\"\n",
    "    return pd.read_stata(path, convert_categoricals=False)\n",
    "\n",
    "\n",
    "def add_missing_hhids(df):\n",
    "    \"\"\"\n",
    "    Adds empty rows for hhids missing from df.\n",
    "    df must already have an \"hhid\" column!\n",
    "    \"\"\"\n",
    "    df = df.round({\"hhid\":1})\n",
    "    missing = set(UNIQUE_HHID) - set(df[\"hhid\"].unique())\n",
    "    missing_dict = {\"hhid\":[round(item, 1) for item in list(missing)]}\n",
    "    for col in df.columns:\n",
    "        if col != \"hhid\":\n",
    "            missing_dict[col] = [np.nan]*len(missing)\n",
    "    missing_df = pd.DataFrame.from_dict(missing_dict)\n",
    "    concat = pd.concat([df, missing_df])\n",
    "    return concat.round({\"hhid\":1})\n",
    "\n",
    "\n",
    "def column_selection(df, keep=None, remove=None):\n",
    "    \"\"\"\n",
    "    Performs column selection on dataframe.\n",
    "    Args:\n",
    "        no_change: boolean indicating whether to keep all columns\n",
    "        keep: list of columns to keep\n",
    "        remove: list of columns to remove\n",
    "    Returns:\n",
    "        updated dataframe\n",
    "    \"\"\"\n",
    "    if keep:\n",
    "        return df[keep]\n",
    "    elif remove:\n",
    "        return df.loc[:, ~df.columns.isin(remove)]\n",
    "    else:\n",
    "        return df\n",
    "\n",
    "\n",
    "def get_processed_df(results):\n",
    "    processed = pd.DataFrame.from_dict({})\n",
    "    for column in results[1]:\n",
    "        processed[column] = [results[hhid][column] for hhid in results]\n",
    "    return processed\n",
    "\n",
    "\n",
    "def apply_mapping(df, mapping):\n",
    "    results = {hhid:{\"hhid\":hhid} for hhid in UNIQUE_HHID}\n",
    "    for hhid in UNIQUE_HHID:\n",
    "        household = df.loc[df.hhid==hhid]    \n",
    "        for label, tup in mapping.items():\n",
    "            col, operation = tup\n",
    "            non_nan = household.loc[~household[col].isna()]\n",
    "            results[hhid][label] = operation_lambda[operation](non_nan[col]) if len(non_nan) else np.nan\n",
    "    return get_processed_df(results) "
   ]
  },
  {
   "cell_type": "code",
   "execution_count": 3,
   "id": "425dc36e",
   "metadata": {},
   "outputs": [],
   "source": [
    "DATA_DIR    = \"../../BCCASII/\"\n",
    "DATA_SUBDIR = \"Household/\""
   ]
  },
  {
   "cell_type": "code",
   "execution_count": 4,
   "id": "75113430",
   "metadata": {},
   "outputs": [],
   "source": [
    "PROCESSED_DFS  = []\n",
    "ADAPTATION_DFS = []"
   ]
  },
  {
   "cell_type": "code",
   "execution_count": 5,
   "id": "02a6dbdb",
   "metadata": {},
   "outputs": [],
   "source": [
    "operation_lambda = {\n",
    "    \"sum\": lambda x: x.sum(),\n",
    "    \"min\": lambda x: x.min(),\n",
    "    \"max\": lambda x: x.max(),\n",
    "    \"mean\": lambda x: round(x.mean()),\n",
    "    \"mode\": lambda x: x.mode()[0]\n",
    "}"
   ]
  },
  {
   "cell_type": "code",
   "execution_count": 6,
   "id": "087b63bc",
   "metadata": {},
   "outputs": [],
   "source": [
    "variable_types = {\n",
    "    \"discrete_categorical\":set(),\n",
    "    \"discrete_ordered\":set(),\n",
    "    \"continuous\":set()\n",
    "}"
   ]
  },
  {
   "cell_type": "markdown",
   "id": "0cae339e",
   "metadata": {},
   "source": [
    "## A: Location and identification detail"
   ]
  },
  {
   "cell_type": "code",
   "execution_count": 7,
   "id": "5cb777dc",
   "metadata": {},
   "outputs": [],
   "source": [
    "filename = \"001_mod_a.dta\"\n",
    "path = DATA_DIR + DATA_SUBDIR + filename\n",
    "df = load_data(path)"
   ]
  },
  {
   "cell_type": "code",
   "execution_count": 8,
   "id": "bb371d47",
   "metadata": {},
   "outputs": [],
   "source": [
    "# keep household ID, agro-ecological zone\n",
    "processed = column_selection(df, keep=[\"hhid\", \"ezcode\"])\n",
    "\n",
    "# construct community code from union, thana, district codes\n",
    "processed[\"community_code\"] = df[\"ucode\"].astype(str) + \"_\" + \\\n",
    "                              df[\"tcode\"].astype(str) + \"_\" + \\\n",
    "                              df[\"dcode\"].astype(str)\n",
    "processed[\"community_code\"] = LabelEncoder().fit_transform(processed[\"community_code\"])\n",
    "\n",
    "\n",
    "UNIQUE_HHID = np.round(df[\"hhid\"].unique().astype(np.float64), 1)\n",
    "processed[\"hhid\"] = processed[\"hhid\"].astype(np.float64)"
   ]
  },
  {
   "cell_type": "code",
   "execution_count": 9,
   "id": "85a573d4",
   "metadata": {},
   "outputs": [],
   "source": [
    "PROCESSED_DFS.append(processed)"
   ]
  },
  {
   "cell_type": "code",
   "execution_count": 10,
   "id": "a8bf8187",
   "metadata": {},
   "outputs": [],
   "source": [
    "for col in processed.columns:\n",
    "    variable_types[\"discrete_categorical\"].add(col)"
   ]
  },
  {
   "cell_type": "markdown",
   "id": "bd076776",
   "metadata": {},
   "source": [
    "## B: Household composition and education"
   ]
  },
  {
   "cell_type": "code",
   "execution_count": 11,
   "id": "43cc5d53",
   "metadata": {},
   "outputs": [],
   "source": [
    "filename = \"002_mod_b.dta\"\n",
    "path = DATA_DIR + DATA_SUBDIR + filename\n",
    "df = load_data(path)"
   ]
  },
  {
   "cell_type": "code",
   "execution_count": 12,
   "id": "ffed5994",
   "metadata": {
    "scrolled": true
   },
   "outputs": [],
   "source": [
    "education_ordering = [99, 66, 67, 68, 0, 1, 2, 3, 4, 5, 6, 7, 8, 9, 22, 10, 33, 12, 15, 16, 17]\n",
    "literacy_ordering  = [1, 2, 3, 4]\n",
    "\n",
    "results = {hhid:{\"hhid\":hhid} for hhid in UNIQUE_HHID}\n",
    "for hhid in UNIQUE_HHID:\n",
    "    household = df.loc[df.hhid==hhid]    \n",
    "    L = len(household)\n",
    "    if L == 0:\n",
    "        results[hhid] = {\n",
    "            \"hhid\": hhid,\n",
    "            \"household_size\": np.nan,\n",
    "            \"ratio_male\": np.nan,\n",
    "            \"ratio_male_children\": np.nan,\n",
    "            \"highest_education\": np.nan,\n",
    "            \"highest_literacy\": np.nan\n",
    "        }\n",
    "        continue\n",
    "\n",
    "    # household size\n",
    "    results[hhid][\"household_size\"] = L\n",
    "    \n",
    "    # ratio male\n",
    "    m = sum(household[\"b01\"]==1)\n",
    "    results[hhid][\"ratio_male\"] = m/L\n",
    "\n",
    "    # ratio of children that are male\n",
    "    num_children = len(household.loc[household[\"b03\"]<18])\n",
    "    if num_children > 0:\n",
    "        results[hhid][\"ratio_male_children\"] = len(household.loc[(household[\"b01\"]==1) & \\\n",
    "                                                (household[\"b03\"]<18)]) / num_children\n",
    "    else:\n",
    "        results[hhid][\"ratio_male_children\"] = 0\n",
    "    \n",
    "    # highest level of education\n",
    "    education_levels = [education_ordering.index(x)\n",
    "                        for x in [x for x in list(household[\"b06\"]) if not np.isnan(x)]]\n",
    "    results[hhid][\"highest_education\"] = max(education_levels) if len(education_levels) else np.nan\n",
    "        \n",
    "    # highest level of literacy\n",
    "    literacy_labels = [literacy_ordering.index(x)\n",
    "                       for x in [x for x in list(household[\"b05\"]) if not np.isnan(x)]]\n",
    "    results[hhid][\"highest_literacy\"] = max(literacy_labels) if len(literacy_labels) else np.nan\n",
    "\n",
    "processed = get_processed_df(results)\n",
    "\n",
    "\n",
    "# primary occupation categories\n",
    "# categories = {\n",
    "#     \"day_labor\": [1,2,3],\n",
    "#     \"self_employ_farm\": [4,5,6,7,8],\n",
    "#     \"self_employ_non_farm\": [9],\n",
    "#     \"low_income_profession\": [10,11,12,13],\n",
    "#     \"mechanic\": [14,15],\n",
    "#     \"other\": [16, 17, 18, 19],\n",
    "#     \"non_earning\": [20,21,22,23,24,25,26]\n",
    "# }\n",
    "\n",
    "# for c, c_list in categories.items():\n",
    "#     c_dict = {hhid:0 for hhid in unique_hhids}\n",
    "#     for hhid in unique_hhids:\n",
    "#         household = df.loc[df.hhid==hhid]\n",
    "#         primary_occupation_labels = list(household[\"b08_1\"])\n",
    "#         for item in c_list:\n",
    "#             if item in primary_occupation_labels:\n",
    "#                 c_dict[hhid] += 1\n",
    "#     processed = processed.join(pd.DataFrame.from_dict({c:c_dict}))"
   ]
  },
  {
   "cell_type": "code",
   "execution_count": 13,
   "id": "b6a45dcc",
   "metadata": {},
   "outputs": [],
   "source": [
    "PROCESSED_DFS.append(processed)"
   ]
  },
  {
   "cell_type": "code",
   "execution_count": 14,
   "id": "9a74f8a5",
   "metadata": {},
   "outputs": [],
   "source": [
    "variable_types[\"discrete_categorical\"].update({\"highest_education\"})\n",
    "variable_types[\"discrete_ordered\"].update({\"highest_literacy\", \"household_size\"})\n",
    "variable_types[\"continuous\"].update({\"ratio_male\", \"ratio_male_children\"})"
   ]
  },
  {
   "cell_type": "markdown",
   "id": "16ef158c",
   "metadata": {},
   "source": [
    "## C: Roster of land and water bodies owned or under operation"
   ]
  },
  {
   "cell_type": "code",
   "execution_count": 15,
   "id": "f1f009cc",
   "metadata": {},
   "outputs": [],
   "source": [
    "filename = \"003_mod_c.dta\"\n",
    "path = DATA_DIR + DATA_SUBDIR + filename\n",
    "df = load_data(path)"
   ]
  },
  {
   "cell_type": "code",
   "execution_count": 16,
   "id": "b4f33e2f",
   "metadata": {
    "scrolled": true
   },
   "outputs": [],
   "source": [
    "mapping = {\n",
    "    \"total_land_value_per_month\": (\"c113\", \"sum\"),\n",
    "    \"plot_type\": (\"c101\", \"mode\"),\n",
    "    \"soil_type\": (\"c105\", \"mode\"),\n",
    "    \"land_operational_status\": (\"c107\", \"mode\"),\n",
    "    \"land_acquisition_means\": (\"c110\", \"mode\")\n",
    "}\n",
    "\n",
    "processed = apply_mapping(df, mapping)"
   ]
  },
  {
   "cell_type": "code",
   "execution_count": 17,
   "id": "b53e1bfe",
   "metadata": {},
   "outputs": [],
   "source": [
    "PROCESSED_DFS.append(processed)"
   ]
  },
  {
   "cell_type": "code",
   "execution_count": 18,
   "id": "0d6f3861",
   "metadata": {},
   "outputs": [],
   "source": [
    "variable_types[\"discrete_categorical\"].update({\"plot_type\", \"soil_type\", \n",
    "                                               \"land_operational_status\", \"land_acquisition_means\"})\n",
    "variable_types[\"continuous\"].update({\"total_land_value_per_month\"})"
   ]
  },
  {
   "cell_type": "markdown",
   "id": "cb778381",
   "metadata": {},
   "source": [
    "## F1: Livestock and poultry"
   ]
  },
  {
   "cell_type": "code",
   "execution_count": 19,
   "id": "57b18c61",
   "metadata": {},
   "outputs": [],
   "source": [
    "filename = \"004_mod_f1.dta\"\n",
    "path = DATA_DIR + DATA_SUBDIR + filename\n",
    "df = load_data(path)"
   ]
  },
  {
   "cell_type": "code",
   "execution_count": 20,
   "id": "b8e9f11c",
   "metadata": {},
   "outputs": [],
   "source": [
    "# # household id\n",
    "# processed = pd.DataFrame.from_dict({\"hhid\":list(unique_hhids)})\n",
    "\n",
    "# categories = {\n",
    "#     \"cattle_buffalo\":1,\n",
    "#     \"goat_sheep\":2,\n",
    "#     \"pigs\":3,\n",
    "#     \"chidken_duck\":4\n",
    "# }\n",
    "\n",
    "# cols = [(\"count_2011\", \"f102\"), (\"value_2011\", \"f103\"), \n",
    "#         (\"count_now\", \"f104\"), (\"value_now\", \"f105\"), (\"total_selling_value\", \"f117\")]   \n",
    "\n",
    "# results = {hhid:{} for hhid in unique_hhids}\n",
    "# for hhid in unique_hhids:\n",
    "#     household = df.loc[df.hhid==hhid]\n",
    "#     for c, number in categories.items():\n",
    "#         if number not in list(household[\"f101\"]):\n",
    "#             # TODO: handle missing value!\n",
    "#             for l, _ in cols:\n",
    "#                 results[hhid][c+\"_\"+l] = np.nan\n",
    "#         else:\n",
    "#             for l, col in cols:\n",
    "#                 value = household.loc[household[\"f101\"]==number][col].iloc[0]\n",
    "#                 # TODO: handle missing value here!\n",
    "#                 if np.isnan(value):\n",
    "#                     results[hhid][c+\"_\"+l] = np.nan\n",
    "#                 else:\n",
    "#                     results[hhid][c+\"_\"+l] = value\n",
    "                    \n",
    "# for column in results[1]:\n",
    "#     processed[column] = [results[hhid][column] for hhid in results]"
   ]
  },
  {
   "cell_type": "code",
   "execution_count": 21,
   "id": "5463a5d6",
   "metadata": {},
   "outputs": [],
   "source": [
    "mapping = {\n",
    "    \"count_2011\": (\"f102\", \"sum\"),\n",
    "    \"value_2011\": (\"f103\", \"sum\"),\n",
    "    \"count_now\": (\"f104\", \"sum\"),\n",
    "    \"value_now\": (\"f105\", \"sum\"),\n",
    "    \"total_selling_value\": (\"f117\", \"sum\"),\n",
    "}\n",
    "\n",
    "processed = apply_mapping(df, mapping)"
   ]
  },
  {
   "cell_type": "code",
   "execution_count": 22,
   "id": "876a3df6",
   "metadata": {},
   "outputs": [],
   "source": [
    "PROCESSED_DFS.append(processed)"
   ]
  },
  {
   "cell_type": "code",
   "execution_count": 23,
   "id": "8fe205f2",
   "metadata": {},
   "outputs": [],
   "source": [
    "variable_types[\"discrete_ordered\"].update({\"count_2011\", \"count_now\"})\n",
    "variable_types[\"continuous\"].update({\"value_2011\", \"value_now\", \"total_selling_value\"})"
   ]
  },
  {
   "cell_type": "markdown",
   "id": "e4c2d3ce",
   "metadata": {},
   "source": [
    "## F3: Expenditure for livestock, Poultry/Duckery Production Last 12 Months"
   ]
  },
  {
   "cell_type": "code",
   "execution_count": 24,
   "id": "da00b845",
   "metadata": {},
   "outputs": [],
   "source": [
    "filename = \"005_mod_f3.dta\"\n",
    "path = DATA_DIR + DATA_SUBDIR + filename\n",
    "df = load_data(path)"
   ]
  },
  {
   "cell_type": "code",
   "execution_count": 25,
   "id": "4d75f611",
   "metadata": {},
   "outputs": [],
   "source": [
    "mapping = {\n",
    "    \"livestock_fodder_value\": (\"f302\", \"sum\"),\n",
    "    \"livestock_medication_value\": (\"f303\", \"sum\"),\n",
    "    \"livestock_hired_male_labor\": (\"f306_1\", \"sum\"),\n",
    "}\n",
    "\n",
    "processed = apply_mapping(df, mapping)"
   ]
  },
  {
   "cell_type": "code",
   "execution_count": 26,
   "id": "bff90bd9",
   "metadata": {},
   "outputs": [],
   "source": [
    "PROCESSED_DFS.append(processed)"
   ]
  },
  {
   "cell_type": "code",
   "execution_count": 27,
   "id": "06589ed1",
   "metadata": {},
   "outputs": [],
   "source": [
    "variable_types[\"continuous\"].update({\"livestock_fodder_value\", \n",
    "                                     \"livestock_medication_value\", \n",
    "                                     \"livestock_hired_male_labor\"})"
   ]
  },
  {
   "cell_type": "markdown",
   "id": "539951e5",
   "metadata": {},
   "source": [
    "## G1, G2: Credit"
   ]
  },
  {
   "cell_type": "code",
   "execution_count": 28,
   "id": "ef00ba8a",
   "metadata": {},
   "outputs": [],
   "source": [
    "filename = \"006_mod_g.dta\"\n",
    "path = DATA_DIR + DATA_SUBDIR + filename\n",
    "df = load_data(path)"
   ]
  },
  {
   "cell_type": "code",
   "execution_count": 29,
   "id": "50a45f09",
   "metadata": {},
   "outputs": [],
   "source": [
    "loan_categories = {\n",
    "    \"credit_personal_capital\":[1,2,3,7,8,9,10,11,12,15,17,18],\n",
    "    \"credit_natural_capital\":[4,5,6,13,14,16]\n",
    "}\n",
    "\n",
    "results = {hhid:{\"hhid\":hhid} for hhid in UNIQUE_HHID}\n",
    "for hhid in UNIQUE_HHID:\n",
    "    household = df.loc[df.hhid==hhid]\n",
    "    for label, numbers in loan_categories.items():\n",
    "        rows = household.loc[household[\"g02\"].isin(numbers)]\n",
    "        cash_borrowed = [x for x in list(rows[\"g07\"]) if not np.isnan(x)]\n",
    "        value_borrowed = [x for x in list(rows[\"g10\"]) if not np.isnan(x)]\n",
    "        borrowed_combined = cash_borrowed + value_borrowed\n",
    "        results[hhid][label+\"_total_borrowed\"] = sum(borrowed_combined) if len(borrowed_combined) else np.nan\n",
    "        \n",
    "        cash_remaining = [x for x in list(rows[\"g23\"]) if not np.isnan(x)]\n",
    "        value_remaining = [x for x in list(rows[\"g25\"]) if not np.isnan(x)]\n",
    "        remaining_combined = cash_remaining + value_remaining\n",
    "        results[hhid][label+\"_total_to_pay\"] = sum(remaining_combined) if len(remaining_combined) else np.nan\n",
    "        \n",
    "processed = get_processed_df(results)"
   ]
  },
  {
   "cell_type": "code",
   "execution_count": 30,
   "id": "e15b7e41",
   "metadata": {},
   "outputs": [],
   "source": [
    "PROCESSED_DFS.append(processed)"
   ]
  },
  {
   "cell_type": "code",
   "execution_count": 31,
   "id": "2497c3d2",
   "metadata": {},
   "outputs": [],
   "source": [
    "variable_types[\"continuous\"].update({\"credit_personal_capital_total_borrowed\", \n",
    "                                     \"credit_personal_capital_total_to_pay\", \n",
    "                                     \"credit_natural_capital_total_borrowed\",\n",
    "                                     \"credit_natural_capital_total_to_pay\"})"
   ]
  },
  {
   "cell_type": "markdown",
   "id": "5eee13da",
   "metadata": {},
   "source": [
    "## H: Household Assets"
   ]
  },
  {
   "cell_type": "code",
   "execution_count": 32,
   "id": "18f7ba23",
   "metadata": {},
   "outputs": [],
   "source": [
    "filename = \"007_mod_h.dta\"\n",
    "path = DATA_DIR + DATA_SUBDIR + filename\n",
    "df = load_data(path)"
   ]
  },
  {
   "cell_type": "code",
   "execution_count": 33,
   "id": "9632d042",
   "metadata": {},
   "outputs": [],
   "source": [
    "# total value per household asset category\n",
    "categories = {\n",
    "    \"value_consumable_durables\":[i for i in range(1, 12)],\n",
    "    \"value_transport\":[i for i in range(12, 16)],\n",
    "    \"value_livestock_poultry\":[i for i in range(16, 20)],\n",
    "    \"value_agricultural_equipments\":[i for i in range(20,29)],\n",
    "    \"value_other\":[29]\n",
    "}\n",
    "\n",
    "results = {hhid:{\"hhid\":hhid} for hhid in UNIQUE_HHID}\n",
    "for hhid in UNIQUE_HHID:\n",
    "    household = df.loc[df.hhid==hhid]\n",
    "    for c in categories:\n",
    "        category_assets = household.loc[household[\"asset\"].isin(categories[c])]\n",
    "        results[hhid][c] = category_assets[\"h06\"].sum() if len(category_assets) else np.nan\n",
    "\n",
    "processed = get_processed_df(results)"
   ]
  },
  {
   "cell_type": "code",
   "execution_count": 34,
   "id": "fa1e3d66",
   "metadata": {},
   "outputs": [],
   "source": [
    "PROCESSED_DFS.append(processed)"
   ]
  },
  {
   "cell_type": "code",
   "execution_count": 35,
   "id": "1f9790bb",
   "metadata": {},
   "outputs": [],
   "source": [
    "variable_types[\"continuous\"].update({\"value_consumable_durables\", \n",
    "                                     \"value_transport\", \n",
    "                                     \"value_livestock_poultry\",\n",
    "                                     \"value_agricultural_equipments\", \n",
    "                                     \"value_other\"})"
   ]
  },
  {
   "cell_type": "markdown",
   "id": "b16a5f10",
   "metadata": {},
   "source": [
    "## H1: Assets: Sales of Assets and Change in Ownership"
   ]
  },
  {
   "cell_type": "code",
   "execution_count": 36,
   "id": "d5d60f11",
   "metadata": {},
   "outputs": [],
   "source": [
    "filename = \"008_mod_h1.dta\"\n",
    "path = DATA_DIR + DATA_SUBDIR + filename\n",
    "df = load_data(path)"
   ]
  },
  {
   "cell_type": "code",
   "execution_count": 37,
   "id": "ed4bba98",
   "metadata": {},
   "outputs": [],
   "source": [
    "mapping = {\"sale_of_assets_value\": (\"h108\", \"sum\")}\n",
    "processed = apply_mapping(df, mapping)"
   ]
  },
  {
   "cell_type": "code",
   "execution_count": 38,
   "id": "b5b6dc7b",
   "metadata": {},
   "outputs": [],
   "source": [
    "PROCESSED_DFS.append(processed)"
   ]
  },
  {
   "cell_type": "code",
   "execution_count": 39,
   "id": "aa35826c",
   "metadata": {},
   "outputs": [],
   "source": [
    "variable_types[\"continuous\"].update({\"sale_of_assets_value\"})"
   ]
  },
  {
   "cell_type": "markdown",
   "id": "b06dc991",
   "metadata": {},
   "source": [
    "## I: Food Consumption: Purchases, Home Production, and Other Sources"
   ]
  },
  {
   "cell_type": "code",
   "execution_count": 40,
   "id": "c2745e43",
   "metadata": {},
   "outputs": [],
   "source": [
    "filename = \"009_mod_i.dta\"\n",
    "path = DATA_DIR + DATA_SUBDIR + filename\n",
    "df = load_data(path)"
   ]
  },
  {
   "cell_type": "code",
   "execution_count": 41,
   "id": "cc24d236",
   "metadata": {
    "scrolled": true
   },
   "outputs": [],
   "source": [
    "food_categories = {\n",
    "    \"food_cereals\":np.arange(1,10),\n",
    "    \"food_pulses\":np.arange(11,18),\n",
    "    \"food_edible_oil\":np.arange(21,25),\n",
    "    \"food_vegetables\":np.arange(31,56),\n",
    "    \"food_leafy_vegetables\":np.arange(61,75),\n",
    "    \"food_meat_eggs_milk\":np.arange(81,88),\n",
    "    \"food_fruits\":np.arange(91,113),\n",
    "    \"food_fish_large\":np.arange(121,132),\n",
    "    \"food_fish_small\":np.arange(141,149),\n",
    "    \"food_spices\":np.arange(151,161),\n",
    "    \"food_other\":np.arange(171,177),\n",
    "    \"food_drinks\":np.arange(181,184),\n",
    "    \"food_other_outside_home\":np.arange(201,213)\n",
    "}\n",
    "\n",
    "results = {hhid:{\"hhid\":hhid} for hhid in UNIQUE_HHID}\n",
    "for hhid in UNIQUE_HHID:\n",
    "    household = df.loc[df.hhid==hhid]\n",
    "    for c, fcodes in food_categories.items():\n",
    "        relevant_rows = household.loc[household[\"fcode\"].isin(fcodes)]\n",
    "        for (col, label) in [(\"i07\", \"value_\"), (\"i04\", \"weight_\")]:\n",
    "            non_nan = relevant_rows.loc[~relevant_rows[col].isna()]\n",
    "            results[hhid][label+c] = non_nan[col].sum() if len(non_nan) else np.nan\n",
    "            \n",
    "processed = get_processed_df(results)"
   ]
  },
  {
   "cell_type": "code",
   "execution_count": 42,
   "id": "5ec501a7",
   "metadata": {},
   "outputs": [],
   "source": [
    "PROCESSED_DFS.append(processed)"
   ]
  },
  {
   "cell_type": "code",
   "execution_count": 43,
   "id": "a5f5610b",
   "metadata": {},
   "outputs": [],
   "source": [
    "update_set = set()\n",
    "for col in processed.columns:\n",
    "    update_set.add(col)\n",
    "variable_types[\"continuous\"].update(update_set)"
   ]
  },
  {
   "cell_type": "markdown",
   "id": "d99a60c5",
   "metadata": {},
   "source": [
    "## J1, J2: Non-food Expenditure"
   ]
  },
  {
   "cell_type": "code",
   "execution_count": 44,
   "id": "65ec2311",
   "metadata": {},
   "outputs": [],
   "source": [
    "filename = \"010_mod_j.dta\"\n",
    "path = DATA_DIR + DATA_SUBDIR + filename\n",
    "df = load_data(path)"
   ]
  },
  {
   "cell_type": "code",
   "execution_count": 45,
   "id": "d3f72bbe",
   "metadata": {
    "scrolled": true
   },
   "outputs": [],
   "source": [
    "non_food_categories = {\n",
    "    \"rent_bills_taxes_fees_expenses\":[1,2,49,50,51,52,53],\n",
    "    \"fuel_expenses\":[3,4,5,6],\n",
    "    \"transportation_vehicles_expenses\":[7,8,27,28,73,74,75,76],\n",
    "    \"miscellaneous_expenses\":[9,10,11,12,13,29,30,31,32,54,55],\n",
    "    \"health_expenses\":[14,15,16],\n",
    "    \"communication_expenses\":[17,18],\n",
    "    \"personal_items_clothing_expenses\":[19,20,21,22,23,24,33,34,35,36,37,38],\n",
    "    \"entertainment_expenses\":[25,26],\n",
    "    \"furniture_household_expenses\":np.arange(39,49),\n",
    "    \"family_events_expenses\":[56,57,58,59,60,61,62,63,64,65,66],\n",
    "    \"education_expenses\":np.arange(67,73),\n",
    "}\n",
    "\n",
    "sources = [(1, \"social\"), (2, \"self\"), (3, \"other\")]\n",
    "\n",
    "results = {hhid:{\"hhid\":hhid} for hhid in UNIQUE_HHID}\n",
    "for hhid in UNIQUE_HHID:\n",
    "    household = df.loc[df.hhid==hhid]\n",
    "    for c, nfcodes in non_food_categories.items():\n",
    "        relevant_rows = household.loc[household[\"nfcode\"].isin(nfcodes)]\n",
    "        \n",
    "        # total cash expenditure for last 1 month, last 12 months\n",
    "        for col in [\"j02_1\", \"j02_2\"]:\n",
    "            non_nan = relevant_rows.loc[~relevant_rows[col].isna()]\n",
    "            results[hhid][col+\"_\"+c] = non_nan[col].sum() if len(non_nan) else np.nan\n",
    "        \n",
    "        # imputed expenditure, last 1 month, last 12 months, for each possible source\n",
    "        for col1, col2 in [(\"j03_1\", \"j04_1\"), (\"j03_2\", \"j04_2\")]:\n",
    "            for code, source_label in sources:\n",
    "                non_nan = relevant_rows.loc[(~relevant_rows[col1].isna()) & (relevant_rows[col2]==code)]\n",
    "                results[hhid][col1+\"_\"+c+\"_\"+source_label] = non_nan[col1].sum() if len(non_nan) else np.nan\n",
    "\n",
    "processed = get_processed_df(results)"
   ]
  },
  {
   "cell_type": "code",
   "execution_count": 46,
   "id": "a03363b6",
   "metadata": {},
   "outputs": [],
   "source": [
    "PROCESSED_DFS.append(processed)"
   ]
  },
  {
   "cell_type": "code",
   "execution_count": 47,
   "id": "cf734093",
   "metadata": {},
   "outputs": [],
   "source": [
    "update_set = set()\n",
    "for col in processed.columns:\n",
    "    update_set.add(col)\n",
    "variable_types[\"continuous\"].update(update_set)"
   ]
  },
  {
   "cell_type": "markdown",
   "id": "fe2b5a8d",
   "metadata": {},
   "source": [
    "## K: Housing, Source of Water and sanitation"
   ]
  },
  {
   "cell_type": "code",
   "execution_count": 48,
   "id": "bb312212",
   "metadata": {},
   "outputs": [],
   "source": [
    "filename = \"011_mod_k.dta\"\n",
    "path = DATA_DIR + DATA_SUBDIR + filename\n",
    "df = load_data(path)"
   ]
  },
  {
   "cell_type": "code",
   "execution_count": 49,
   "id": "863e1236",
   "metadata": {},
   "outputs": [],
   "source": [
    "processed = column_selection(df, keep=[\"hhid\", \"k01\", \"k02\", \"k03\", \"k03_1\",\n",
    "                                       \"k04\", \"k05\", \"k05_1\", \"k06\", \"k07\"])"
   ]
  },
  {
   "cell_type": "code",
   "execution_count": 50,
   "id": "a29d018f",
   "metadata": {},
   "outputs": [],
   "source": [
    "PROCESSED_DFS.append(processed)"
   ]
  },
  {
   "cell_type": "code",
   "execution_count": 51,
   "id": "ee868d10",
   "metadata": {},
   "outputs": [],
   "source": [
    "variable_types[\"discrete_ordered\"].add(\"k01\")\n",
    "variable_types[\"discrete_categorical\"].update({\"k02\", \"k03\", \"k03_1\",\n",
    "                                               \"k04\", \"k05\", \"k05_1\", \n",
    "                                               \"k06\", \"k07\"})"
   ]
  },
  {
   "cell_type": "markdown",
   "id": "cd54cd53",
   "metadata": {},
   "source": [
    "## L, L1: Weather events adversely affected the household or the farming cope"
   ]
  },
  {
   "cell_type": "code",
   "execution_count": 52,
   "id": "911ced78",
   "metadata": {},
   "outputs": [],
   "source": [
    "filename = \"013_mod_l1.dta\"\n",
    "path = DATA_DIR + DATA_SUBDIR + filename\n",
    "df = load_data(path)"
   ]
  },
  {
   "cell_type": "code",
   "execution_count": 53,
   "id": "b56596b5",
   "metadata": {
    "scrolled": true
   },
   "outputs": [],
   "source": [
    "calamity_numbers = [i for i in range(1, 13)]\n",
    "action_taken_categories = {\n",
    "    \"sold\": ([2,3,4,5],1),\n",
    "    \"borrowed\": ([6,7,8],2),\n",
    "    \"migrated\": ([11,12,13],3),\n",
    "    \"off_farm_employment\":([14],4),\n",
    "    \"nothing\":([1],5),\n",
    "    \"food_work_aid\":([9,10],6)\n",
    "}\n",
    "\n",
    "results = {hhid:{\"hhid\":hhid} for hhid in UNIQUE_HHID}\n",
    "for hhid in UNIQUE_HHID:\n",
    "    household = df.loc[df.hhid == hhid]\n",
    "    for n in calamity_numbers:\n",
    "        label = f\"calamity_{n}_\"\n",
    "        relevant_rows = household.loc[household[\"l1_01\"]==n]\n",
    "        total_loss = sum([x for x in relevant_rows[\"l1_05\"] if not np.isnan(x)])\n",
    "        results[hhid][label+\"loss\"] = total_loss if len(relevant_rows) else np.nan\n",
    "        action_taken_label = label+\"action_taken\"\n",
    "        results[hhid][action_taken_label] = np.nan\n",
    "        for action_label, tup in action_taken_categories.items():\n",
    "            nums, idx = tup\n",
    "            action_taken = [x for x in relevant_rows[\"l1_02\"] if x in nums]\n",
    "            if action_taken: \n",
    "                results[hhid][action_taken_label] = idx\n",
    "                break\n",
    "            \n",
    "processed = get_processed_df(results)"
   ]
  },
  {
   "cell_type": "code",
   "execution_count": 54,
   "id": "d74e9faa",
   "metadata": {},
   "outputs": [],
   "source": [
    "PROCESSED_DFS.append(processed)"
   ]
  },
  {
   "cell_type": "code",
   "execution_count": 55,
   "id": "c57f2c9c",
   "metadata": {},
   "outputs": [],
   "source": [
    "for col in processed.columns:\n",
    "    if \"loss\" in col:\n",
    "        variable_types[\"continuous\"].add(col)\n",
    "    elif \"action_taken\" in col:\n",
    "        variable_types[\"discrete_categorical\"].add(col)"
   ]
  },
  {
   "cell_type": "markdown",
   "id": "51d55c4b",
   "metadata": {},
   "source": [
    "## L2: Shocks"
   ]
  },
  {
   "cell_type": "code",
   "execution_count": 56,
   "id": "1275aac5",
   "metadata": {},
   "outputs": [],
   "source": [
    "filename = \"014_mod_l2.dta\"\n",
    "path = DATA_DIR + DATA_SUBDIR + filename\n",
    "df = load_data(path)\n",
    "\n",
    "mapping   = {\"shocks_loss_value\": (\"l2_06\", \"sum\")}\n",
    "processed = apply_mapping(df, mapping)\n",
    "PROCESSED_DFS.append(processed)"
   ]
  },
  {
   "cell_type": "code",
   "execution_count": 57,
   "id": "e9a75659",
   "metadata": {},
   "outputs": [],
   "source": [
    "variable_types[\"continuous\"].add(\"shocks_loss_value\")"
   ]
  },
  {
   "cell_type": "markdown",
   "id": "12c9e7f4",
   "metadata": {},
   "source": [
    "## L3: Positive Economic Events"
   ]
  },
  {
   "cell_type": "code",
   "execution_count": 58,
   "id": "96d24f27",
   "metadata": {},
   "outputs": [],
   "source": [
    "filename = \"015_mod_l3.dta\"\n",
    "path = DATA_DIR + DATA_SUBDIR + filename\n",
    "df = load_data(path)\n",
    "\n",
    "mapping   = {\"positive_events_value\": (\"l3_06\", \"sum\")}\n",
    "processed = apply_mapping(df, mapping)\n",
    "PROCESSED_DFS.append(processed)"
   ]
  },
  {
   "cell_type": "code",
   "execution_count": 59,
   "id": "837716fc",
   "metadata": {},
   "outputs": [],
   "source": [
    "variable_types[\"continuous\"].add(\"positive_events_value\")"
   ]
  },
  {
   "cell_type": "markdown",
   "id": "373b99d5",
   "metadata": {},
   "source": [
    "## M: Agricultural extension"
   ]
  },
  {
   "cell_type": "code",
   "execution_count": 60,
   "id": "5a76eb65",
   "metadata": {},
   "outputs": [],
   "source": [
    "filename = \"017_mod_m.dta\"\n",
    "path = DATA_DIR + DATA_SUBDIR + filename\n",
    "df = load_data(path)"
   ]
  },
  {
   "cell_type": "code",
   "execution_count": 61,
   "id": "9a161132",
   "metadata": {},
   "outputs": [
    {
     "data": {
      "text/plain": [
       "0.6695652173913044"
      ]
     },
     "execution_count": 61,
     "metadata": {},
     "output_type": "execute_result"
    }
   ],
   "source": [
    "# 67% skip to question M07\n",
    "len(df.loc[df[\"m01\"]==2]) / len(df)"
   ]
  },
  {
   "cell_type": "code",
   "execution_count": 62,
   "id": "6855af52",
   "metadata": {},
   "outputs": [
    {
     "data": {
      "text/plain": [
       "0.1826086956521739"
      ]
     },
     "execution_count": 62,
     "metadata": {},
     "output_type": "execute_result"
    }
   ],
   "source": [
    "# 18% skip to question M11\n",
    "len(df.loc[df[\"m07\"]==2]) / len(df)"
   ]
  },
  {
   "cell_type": "code",
   "execution_count": 63,
   "id": "4488fa4e",
   "metadata": {},
   "outputs": [
    {
     "name": "stdout",
     "output_type": "stream",
     "text": [
      "1.0\n",
      "0.43478260869565216\n",
      "0.16770186335403728\n",
      "0.0012422360248447205\n",
      "0.0\n"
     ]
    }
   ],
   "source": [
    "print(len(df.loc[~df[\"m11_1\"].isnull()]) / len(df))\n",
    "print(len(df.loc[~df[\"m11_2\"].isnull()]) / len(df))\n",
    "print(len(df.loc[~df[\"m11_3\"].isnull()]) / len(df))\n",
    "print(len(df.loc[~df[\"m11_4\"].isnull()]) / len(df))\n",
    "print(len(df.loc[~df[\"m11_5\"].isnull()]) / len(df))"
   ]
  },
  {
   "cell_type": "code",
   "execution_count": 64,
   "id": "8778bc4e",
   "metadata": {},
   "outputs": [],
   "source": [
    "PROCESSED_DFS.append(df)"
   ]
  },
  {
   "cell_type": "code",
   "execution_count": 65,
   "id": "ab24f4ff",
   "metadata": {},
   "outputs": [],
   "source": [
    "for col in df.columns:\n",
    "    if col == \"m03\":\n",
    "        variable_types[\"discrete_ordered\"].add(col)\n",
    "    else:\n",
    "         variable_types[\"discrete_categorical\"].add(col)"
   ]
  },
  {
   "cell_type": "markdown",
   "id": "c2b64275",
   "metadata": {},
   "source": [
    "## Q: Perceptions of Climate Change"
   ]
  },
  {
   "cell_type": "code",
   "execution_count": 66,
   "id": "3440463b",
   "metadata": {},
   "outputs": [],
   "source": [
    "filename = \"018_mod_q.dta\"\n",
    "path = DATA_DIR + DATA_SUBDIR + filename\n",
    "df = load_data(path)"
   ]
  },
  {
   "cell_type": "code",
   "execution_count": 67,
   "id": "bcfc2169",
   "metadata": {},
   "outputs": [
    {
     "data": {
      "text/plain": [
       "0.11180124223602485"
      ]
     },
     "execution_count": 67,
     "metadata": {},
     "output_type": "execute_result"
    }
   ],
   "source": [
    "len(df.loc[df[\"q04\"].isin([2,3])]) / len(df)"
   ]
  },
  {
   "cell_type": "code",
   "execution_count": 68,
   "id": "5942a279",
   "metadata": {},
   "outputs": [],
   "source": [
    "PROCESSED_DFS.append(df)"
   ]
  },
  {
   "cell_type": "code",
   "execution_count": 69,
   "id": "85e3a80b",
   "metadata": {},
   "outputs": [],
   "source": [
    "for col in df.columns:\n",
    "    variable_types[\"discrete_categorical\"].add(col)"
   ]
  },
  {
   "cell_type": "markdown",
   "id": "7410441d",
   "metadata": {},
   "source": [
    "## O: Changes in farming practices due to climate change"
   ]
  },
  {
   "cell_type": "code",
   "execution_count": 70,
   "id": "787e5f62",
   "metadata": {},
   "outputs": [],
   "source": [
    "filename = \"019_mod_o.dta\"\n",
    "path = DATA_DIR + DATA_SUBDIR + filename\n",
    "df = load_data(path)"
   ]
  },
  {
   "cell_type": "code",
   "execution_count": 71,
   "id": "eec377b5",
   "metadata": {
    "scrolled": true
   },
   "outputs": [],
   "source": [
    "keep = [\"hhid\", \"o01\"] + [\"o0\"+str(i)+\"_1\" for i in range(2, 9)] + [\"o09\"] + \\\n",
    "       [\"o\"+str(i) for i in range(10, 23)] + [\"o\"+str(i)+\"_1\" for i in range(23, 29)] + [\"o29\"]\n",
    "\n",
    "processed = column_selection(df, keep=keep)\n",
    "\n",
    "change_categories = {\n",
    "    \"change_production_methods\": [\"o02_1\", \"o03_1\", \"o07_1\", \"o08_1\", \"o18\", \"o19\"],\n",
    "    \"change_crop_consumption\": [\"o06_1\"],\n",
    "    \"change_land\": [\"o04_1\", \"o05_1\", \"o09\", \"o13\", \"o14\", \"o15\", \"o16\"],\n",
    "    \"change_water_harvesting\": [\"o10\", \"o11\", \"o12\"],\n",
    "    \"change_insurance\": [\"o17\"],\n",
    "    \"change_off_farm_employment\": [\"o20\"],\n",
    "    \"change_migration\": [\"o21\"],\n",
    "    \"change_communal_storage\": [\"o22\"],\n",
    "    \"change_planting_dates\":[\"o23_1\", \"o24_1\", \"o25_1\"],\n",
    "    \"change_fertilizer\":[\"o26_1\", \"o27_1\", \"o28_1\"],\n",
    "    \"change_other\":[\"o29\"]\n",
    "}\n",
    "\n",
    "results = {hhid:{\"hhid\":hhid} for hhid in UNIQUE_HHID}\n",
    "for hhid in UNIQUE_HHID:\n",
    "    household = processed.loc[processed.hhid==hhid]\n",
    "    \n",
    "    # there is an entry for the household, and they haven't made any changes\n",
    "    if len(household) and household[\"o01\"].iloc[0] == 2:\n",
    "        for category in change_categories:\n",
    "            results[hhid][category] = 0\n",
    "        continue\n",
    "        \n",
    "    # no entry for household\n",
    "    elif not len(household):\n",
    "        for category in change_categories:\n",
    "            results[hhid][category] = np.nan\n",
    "        continue\n",
    "    \n",
    "    for category, cols in change_categories.items():\n",
    "        row = household[cols]\n",
    "        if len(row):\n",
    "            bools = [x for x in row.iloc[0] if not np.isnan(x)]\n",
    "            results[hhid][category] = int(1 in bools) if len(bools) else np.nan\n",
    "                \n",
    "processed = get_processed_df(results)"
   ]
  },
  {
   "cell_type": "code",
   "execution_count": 72,
   "id": "8714c6f9",
   "metadata": {},
   "outputs": [],
   "source": [
    "PROCESSED_DFS.append(processed)\n",
    "ADAPTATION_DFS.append(processed)"
   ]
  },
  {
   "cell_type": "code",
   "execution_count": 73,
   "id": "d842bad9",
   "metadata": {},
   "outputs": [],
   "source": [
    "for col in processed.columns:\n",
    "    variable_types[\"discrete_categorical\"].add(col)"
   ]
  },
  {
   "cell_type": "markdown",
   "id": "27695b5a",
   "metadata": {},
   "source": [
    "## O1: Any integration about Livestock/Poultry"
   ]
  },
  {
   "cell_type": "code",
   "execution_count": 74,
   "id": "ec6942fb",
   "metadata": {},
   "outputs": [],
   "source": [
    "filename = \"020_mod_o1.dta\"\n",
    "path = DATA_DIR + DATA_SUBDIR + filename\n",
    "df = load_data(path)"
   ]
  },
  {
   "cell_type": "code",
   "execution_count": 75,
   "id": "8e9940f7",
   "metadata": {},
   "outputs": [],
   "source": [
    "keep = [\"hhid\"] + [\"o1_01_\"+str(i) for i in range(1, 10)]\n",
    "processed = column_selection(df, keep=keep)\n",
    "\n",
    "results = {hhid:{\"hhid\":hhid} for hhid in UNIQUE_HHID}\n",
    "for hhid in UNIQUE_HHID:\n",
    "    household = processed.loc[processed.hhid==hhid]\n",
    "    if not len(household):\n",
    "        results[hhid][\"livestock_poultry_change\"] = np.nan\n",
    "    else:\n",
    "        vals = [x for x in list(household.iloc[0][1:]) if not np.isnan(x)]\n",
    "        results[hhid][\"livestock_poultry_change\"] = int(1 in vals)\n",
    "\n",
    "processed = get_processed_df(results)"
   ]
  },
  {
   "cell_type": "code",
   "execution_count": 76,
   "id": "3f8edb14",
   "metadata": {},
   "outputs": [],
   "source": [
    "PROCESSED_DFS.append(processed)\n",
    "ADAPTATION_DFS.append(processed)"
   ]
  },
  {
   "cell_type": "code",
   "execution_count": 77,
   "id": "138d0cca",
   "metadata": {},
   "outputs": [],
   "source": [
    "variable_types[\"discrete_categorical\"].add(\"livestock_poultry_change\")"
   ]
  },
  {
   "cell_type": "markdown",
   "id": "b88b84ff",
   "metadata": {},
   "source": [
    "## O2: Constraints to adaptation"
   ]
  },
  {
   "cell_type": "code",
   "execution_count": 78,
   "id": "89cf12ed",
   "metadata": {},
   "outputs": [],
   "source": [
    "filename = \"021_mod_o2.dta\"\n",
    "path = DATA_DIR + DATA_SUBDIR + filename\n",
    "df = load_data(path)"
   ]
  },
  {
   "cell_type": "code",
   "execution_count": 79,
   "id": "40546417",
   "metadata": {},
   "outputs": [],
   "source": [
    "constraint_codes = np.arange(1,10)\n",
    "\n",
    "results = {hhid:{\"hhid\":hhid} for hhid in UNIQUE_HHID}\n",
    "for hhid in UNIQUE_HHID:\n",
    "    household = df.loc[df.hhid==hhid]\n",
    "    for _, row in household.iterrows():\n",
    "        severity    = [x for x in row[[\"o2_03_1\", \"o2_03_2\", \"o2_03_3\", \"o2_03_4\", \"o2_03_5\"]]]\n",
    "        constraints = [x for x in row[[\"o2_02_1\", \"o2_02_2\", \"o2_02_3\", \"o2_02_4\", \"o2_02_5\"]]]\n",
    "        for i in range(len(constraints)):\n",
    "            c = constraints[i]\n",
    "            s = severity[i]            \n",
    "            if np.isnan(c) or np.isnan(s):\n",
    "                continue\n",
    "            c = int(c)\n",
    "            label = f\"constraint_{c}_total_severity\"\n",
    "            if label not in results[hhid]:\n",
    "                results[hhid][label] = [s]\n",
    "            else:\n",
    "                results[hhid][label].append(s)\n",
    "                \n",
    "    for code in constraint_codes:\n",
    "        label = f\"constraint_{code}_total_severity\"\n",
    "        if label not in results[hhid]:\n",
    "            results[hhid][label] = np.nan\n",
    "        else:\n",
    "            results[hhid][label] = np.mean(results[hhid][label])\n",
    "        \n",
    "processed = get_processed_df(results)"
   ]
  },
  {
   "cell_type": "code",
   "execution_count": 80,
   "id": "4ef069b0",
   "metadata": {},
   "outputs": [],
   "source": [
    "PROCESSED_DFS.append(processed)"
   ]
  },
  {
   "cell_type": "code",
   "execution_count": 81,
   "id": "4e9da92b",
   "metadata": {},
   "outputs": [],
   "source": [
    "for col in processed.columns:\n",
    "    variable_types[\"continuous\"].add(col)"
   ]
  },
  {
   "cell_type": "markdown",
   "id": "87591cba",
   "metadata": {},
   "source": [
    "## R1: Information of group based approach"
   ]
  },
  {
   "cell_type": "code",
   "execution_count": 82,
   "id": "fa9458cb",
   "metadata": {},
   "outputs": [],
   "source": [
    "filename = \"022_mod_r1.dta\"\n",
    "path = DATA_DIR + DATA_SUBDIR + filename\n",
    "df = load_data(path)"
   ]
  },
  {
   "cell_type": "code",
   "execution_count": 83,
   "id": "cdc85d37",
   "metadata": {
    "scrolled": true
   },
   "outputs": [],
   "source": [
    "group_categories = {\n",
    "    \"group_membership_farming\":[1, 13],\n",
    "    \"group_membership_trading\":[2],\n",
    "    \"group_membership_religion\":[3],\n",
    "    \"group_membership_women\":[4],\n",
    "    \"group_membership_NGO\":[5,11,15],\n",
    "    \"group_membership_credit\":[6],\n",
    "    \"group_membership_community\":[7,16,17],\n",
    "    \"group_membership_cultural\":[8,10],\n",
    "    \"group_membership_political\":[9],\n",
    "    \"group_membership_health\":[12],\n",
    "    \"group_membership_sports\":[14],\n",
    "    \"group_membership_other\":[18]\n",
    "}\n",
    "\n",
    "results = {hhid:{\"hhid\":hhid} for hhid in UNIQUE_HHID}\n",
    "for hhid in UNIQUE_HHID:\n",
    "    household = df.loc[df.hhid==hhid]\n",
    "    \n",
    "    # there is an entry for the household, and nobody belongs to a group\n",
    "    if len(household) == 1 and household[\"r01\"].iloc[0] == 2:\n",
    "        for categ in group_categories:\n",
    "            results[hhid][categ] = 0\n",
    "        continue\n",
    "    \n",
    "    # no entry for household\n",
    "    elif not len(household):\n",
    "        for categ in group_categories:\n",
    "            results[hhid][categ] = np.nan\n",
    "        continue\n",
    "        \n",
    "    for categ, codes in group_categories.items():\n",
    "        # get rows matching the group codes    \n",
    "        rows = household.loc[household[\"r1_01\"].isin(codes)]\n",
    "        # (TODO) assume no membership if group codes do not appear at all\n",
    "        if not len(rows):\n",
    "            results[hhid][categ] = 0\n",
    "        else:\n",
    "            membership = [x for x in list(rows[\"r1_02\"]) if not np.isnan(x)]\n",
    "            results[hhid][categ] = int(1 in membership) if len(membership) else np.nan\n",
    "            \n",
    "processed = get_processed_df(results)"
   ]
  },
  {
   "cell_type": "code",
   "execution_count": 84,
   "id": "1751fd06",
   "metadata": {},
   "outputs": [],
   "source": [
    "PROCESSED_DFS.append(processed)"
   ]
  },
  {
   "cell_type": "code",
   "execution_count": 85,
   "id": "aa17ffdf",
   "metadata": {},
   "outputs": [],
   "source": [
    "for col in processed.columns:\n",
    "    variable_types[\"discrete_categorical\"].add(col)"
   ]
  },
  {
   "cell_type": "markdown",
   "id": "d929dfe5",
   "metadata": {},
   "source": [
    "## R2: Group activity related information"
   ]
  },
  {
   "cell_type": "code",
   "execution_count": 86,
   "id": "e38fbcfd",
   "metadata": {},
   "outputs": [],
   "source": [
    "filename = \"023_mod_r2.dta\"\n",
    "path = DATA_DIR + DATA_SUBDIR + filename\n",
    "df = load_data(path)"
   ]
  },
  {
   "cell_type": "code",
   "execution_count": 87,
   "id": "f1949d1a",
   "metadata": {},
   "outputs": [],
   "source": [
    "# a few duplicate rows found in this data file...\n",
    "duplicates = []\n",
    "for hhid in df[\"hhid\"].unique():\n",
    "    if len(df.loc[df.hhid==hhid]) > 1:\n",
    "        duplicates.append(hhid)\n",
    "    \n",
    "drop_indices = []\n",
    "for d in duplicates:\n",
    "    drop_indices.append(list(df.loc[df.hhid==d].index)[0])\n",
    "\n",
    "df = df.drop(drop_indices)"
   ]
  },
  {
   "cell_type": "code",
   "execution_count": 88,
   "id": "4a516f4d",
   "metadata": {},
   "outputs": [],
   "source": [
    "keep = [\"hhid\"] + [f\"r2_15_{i}\" for i in range(1,5)] + [f\"r2_16_{i}\" for i in range(1,5)]\n",
    "for j in range(17, 24):\n",
    "    keep += [f\"r2_{j}_{i}_1\" for i in range(1,5)]\n",
    "    \n",
    "processed = column_selection(df, keep=keep)\n",
    "PROCESSED_DFS.append(processed)"
   ]
  },
  {
   "cell_type": "code",
   "execution_count": 89,
   "id": "3dfdb059",
   "metadata": {},
   "outputs": [],
   "source": [
    "for col in processed.columns:\n",
    "    variable_types[\"discrete_categorical\"].add(col)"
   ]
  },
  {
   "cell_type": "markdown",
   "id": "d69b273d",
   "metadata": {},
   "source": [
    "## R3: Network"
   ]
  },
  {
   "cell_type": "code",
   "execution_count": 90,
   "id": "29935429",
   "metadata": {},
   "outputs": [],
   "source": [
    "filename = \"024_mod_r3.dta\"\n",
    "path = DATA_DIR + DATA_SUBDIR + filename\n",
    "df = load_data(path)"
   ]
  },
  {
   "cell_type": "code",
   "execution_count": 91,
   "id": "ff88ded7",
   "metadata": {},
   "outputs": [],
   "source": [
    "processed = column_selection(df, remove=[\"r3_01_1\", \"r3_01_2\"])"
   ]
  },
  {
   "cell_type": "code",
   "execution_count": 92,
   "id": "38ab74cb",
   "metadata": {},
   "outputs": [],
   "source": [
    "PROCESSED_DFS.append(processed)"
   ]
  },
  {
   "cell_type": "code",
   "execution_count": 93,
   "id": "1b144246",
   "metadata": {},
   "outputs": [],
   "source": [
    "variable_types[\"discrete_ordered\"].update({\"r3_02_1\", \"r3_02_2\", \n",
    "                                           \"r3_03_1\", \"r3_03_2\",\n",
    "                                           \"r3_04_1\", \"r3_04_2\",\n",
    "                                           \"r3_07_1\", \"r3_07_2\",\n",
    "                                           \"r3_06_1\", \"r3_06_2\"})\n",
    "\n",
    "variable_types[\"discrete_categorical\"].update({\"r3_05_1\", \"r3_05_2\"})"
   ]
  },
  {
   "cell_type": "markdown",
   "id": "fd129916",
   "metadata": {},
   "source": [
    "## R4: Trust and Solidarity"
   ]
  },
  {
   "cell_type": "code",
   "execution_count": 94,
   "id": "29e7085e",
   "metadata": {},
   "outputs": [],
   "source": [
    "filename = \"025_mod_r4.dta\"\n",
    "path = DATA_DIR + DATA_SUBDIR + filename\n",
    "df = load_data(path)"
   ]
  },
  {
   "cell_type": "code",
   "execution_count": 95,
   "id": "08171963",
   "metadata": {},
   "outputs": [],
   "source": [
    "processed = column_selection(df, remove=[\"r4_01_1\", \"r4_01_2\"])"
   ]
  },
  {
   "cell_type": "code",
   "execution_count": 96,
   "id": "55b7459e",
   "metadata": {},
   "outputs": [],
   "source": [
    "PROCESSED_DFS.append(processed)"
   ]
  },
  {
   "cell_type": "code",
   "execution_count": 97,
   "id": "5c273228",
   "metadata": {},
   "outputs": [],
   "source": [
    "for col in processed.columns:\n",
    "    if \"r4_04\" in col or \"r4_03\" in col:\n",
    "        variable_types[\"discrete_ordered\"].add(col)\n",
    "    else:\n",
    "        variable_types[\"discrete_categorical\"].add(col)"
   ]
  },
  {
   "cell_type": "markdown",
   "id": "aee9de2b",
   "metadata": {},
   "source": [
    "## R5: Economic setbacks"
   ]
  },
  {
   "cell_type": "code",
   "execution_count": 98,
   "id": "c5baf478",
   "metadata": {},
   "outputs": [],
   "source": [
    "# filename = \"026_mod_r5.dta\"\n",
    "# path = DATA_DIR + DATA_SUBDIR + filename\n",
    "# df = load_data(path)\n",
    "# results = {hhid:{\"hhid\":hhid} for hhid in UNIQUE_HHID}\n",
    "# for hhid in UNIQUE_HHID:\n",
    "#     household = df.loc[df.hhid==hhid]\n",
    "#     results[hhid][\"serious_economic_setback\"] = 1 if 1 in list(household[\"r5\"]) else 0\n",
    "# processed = get_processed_df(results)\n",
    "# PROCESSED_DFS.append(processed)"
   ]
  },
  {
   "cell_type": "markdown",
   "id": "a218fac9",
   "metadata": {},
   "source": [
    "## R6: Collective Action and Cooperation and Sociability"
   ]
  },
  {
   "cell_type": "code",
   "execution_count": 99,
   "id": "cead9679",
   "metadata": {},
   "outputs": [],
   "source": [
    "filename = \"027_mod_r6.dta\"\n",
    "path = DATA_DIR + DATA_SUBDIR + filename\n",
    "df = load_data(path)"
   ]
  },
  {
   "cell_type": "code",
   "execution_count": 100,
   "id": "195f73a9",
   "metadata": {},
   "outputs": [],
   "source": [
    "processed = column_selection(df, remove=[\"r6_01_1\", \"r6_01_2\"])"
   ]
  },
  {
   "cell_type": "code",
   "execution_count": 101,
   "id": "3ceeaa53",
   "metadata": {},
   "outputs": [],
   "source": [
    "PROCESSED_DFS.append(processed)"
   ]
  },
  {
   "cell_type": "code",
   "execution_count": 102,
   "id": "61ac2233",
   "metadata": {},
   "outputs": [],
   "source": [
    "for col in processed.columns:\n",
    "    if \"r6_05\" in col or \"r6_06\" in col or \"r6_07\" in col or \"r6_08\" in col:\n",
    "        variable_types[\"discrete_ordered\"].add(col)\n",
    "    else:\n",
    "        variable_types[\"discrete_categorical\"].add(col)"
   ]
  },
  {
   "cell_type": "markdown",
   "id": "0529a1c0",
   "metadata": {},
   "source": [
    "## R7: Information and Communication"
   ]
  },
  {
   "cell_type": "code",
   "execution_count": 103,
   "id": "e6b3745d",
   "metadata": {},
   "outputs": [],
   "source": [
    "filename = \"028_mod_r7.dta\"\n",
    "path = DATA_DIR + DATA_SUBDIR + filename\n",
    "df = load_data(path)"
   ]
  },
  {
   "cell_type": "code",
   "execution_count": 104,
   "id": "92099c83",
   "metadata": {},
   "outputs": [],
   "source": [
    "PROCESSED_DFS.append(df)"
   ]
  },
  {
   "cell_type": "code",
   "execution_count": 105,
   "id": "f740a90a",
   "metadata": {},
   "outputs": [],
   "source": [
    "for col in df.columns:\n",
    "    if \"r7_01\" in col or \"r7_02\" in col or \"r7_03\" in col or \"r7_04\" in col or \"r7_05\" in col or \"r7_08\" in col:\n",
    "        variable_types[\"discrete_ordered\"].add(col)\n",
    "    else:\n",
    "        variable_types[\"discrete_categorical\"].add(col)"
   ]
  },
  {
   "cell_type": "markdown",
   "id": "37ae414a",
   "metadata": {},
   "source": [
    "## R8: Production and climate Information"
   ]
  },
  {
   "cell_type": "code",
   "execution_count": 106,
   "id": "2bb0baf2",
   "metadata": {},
   "outputs": [],
   "source": [
    "# filename = \"029_mod_r8.dta\"\n",
    "# path = DATA_DIR + DATA_SUBDIR + filename\n",
    "# df = load_data(path)\n",
    "# keep = [\"hhid\", \"r8_02_1\", \"r8_02_2\", \"r8_06_1\", \"r8_06_2\", \"r8_14_1\", \"r8_14_2\"]\n",
    "# processed = column_selection(df, keep=keep)\n",
    "# PROCESSED_DFS.append(processed)"
   ]
  },
  {
   "cell_type": "markdown",
   "id": "de4b1964",
   "metadata": {},
   "source": [
    "## R9: Production and climate Information"
   ]
  },
  {
   "cell_type": "code",
   "execution_count": 107,
   "id": "3f5262b7",
   "metadata": {},
   "outputs": [],
   "source": [
    "# filename = \"030_mod_r9.dta\"\n",
    "# path = DATA_DIR + DATA_SUBDIR + filename\n",
    "# df = load_data(path)\n",
    "# keep = [\"hhid\", \"r9_02_1\", \"r9_02_2\", \"r9_09_1\", \"r9_09_2\"]\n",
    "# processed = column_selection(df, keep=keep)\n",
    "# PROCESSED_DFS.append(processed)"
   ]
  },
  {
   "cell_type": "markdown",
   "id": "bac5374a",
   "metadata": {},
   "source": [
    "## S: Empowerment and Political Action"
   ]
  },
  {
   "cell_type": "code",
   "execution_count": 108,
   "id": "14fccda9",
   "metadata": {},
   "outputs": [],
   "source": [
    "filename = \"031_mod_s.dta\"\n",
    "path = DATA_DIR + DATA_SUBDIR + filename\n",
    "df = load_data(path)"
   ]
  },
  {
   "cell_type": "code",
   "execution_count": 109,
   "id": "90ea493c",
   "metadata": {},
   "outputs": [],
   "source": [
    "processed = column_selection(df, remove=[\"s_01_1\", \"s_01_2\"])"
   ]
  },
  {
   "cell_type": "code",
   "execution_count": 110,
   "id": "661cb9cc",
   "metadata": {},
   "outputs": [],
   "source": [
    "PROCESSED_DFS.append(processed)"
   ]
  },
  {
   "cell_type": "code",
   "execution_count": 111,
   "id": "62a7ef5c",
   "metadata": {},
   "outputs": [],
   "source": [
    "for col in processed.columns:\n",
    "    if \"s_02\" in col or \"s_03\" in col or \"s_04\" in col or \"s_05\" in col or \"s_09\" in col:\n",
    "        variable_types[\"discrete_ordered\"].add(col)\n",
    "    else:\n",
    "        variable_types[\"discrete_categorical\"].add(col)"
   ]
  },
  {
   "cell_type": "markdown",
   "id": "c12b81f3",
   "metadata": {},
   "source": [
    "## T: Employment"
   ]
  },
  {
   "cell_type": "code",
   "execution_count": 112,
   "id": "36db9901",
   "metadata": {},
   "outputs": [],
   "source": [
    "filename = \"032_mod_t.dta\"\n",
    "path = DATA_DIR + DATA_SUBDIR + filename\n",
    "df = load_data(path)"
   ]
  },
  {
   "cell_type": "code",
   "execution_count": 113,
   "id": "8651a8ef",
   "metadata": {},
   "outputs": [],
   "source": [
    "job_categories = {\n",
    "    \"job_wage_labor\":np.arange(1,12),\n",
    "    \"job_salaried_worker\":np.arange(12,22),\n",
    "    \"job_self_employment\":np.arange(22,48),\n",
    "    \"job_trader\":np.arange(50,55),\n",
    "    \"job_production\":np.arange(55,58),\n",
    "    \"job_livestock_poultry_service\":np.arange(58,64),\n",
    "    \"job_farming\":np.arange(64,73)\n",
    "}\n",
    "\n",
    "results = {hhid:{\"hhid\":hhid} for hhid in UNIQUE_HHID}\n",
    "for hhid in UNIQUE_HHID:\n",
    "    household = df.loc[df.hhid==hhid]\n",
    "    relevant = list(household[\"t05\"])\n",
    "    for c, numbers in job_categories.items():\n",
    "        results[hhid][c] = 0\n",
    "        for n in numbers:\n",
    "            if n in relevant:\n",
    "                results[hhid][c] += 1\n",
    "    monthly_incomes = [x for x in household[\"t14\"] if not np.isnan(x)]\n",
    "    results[hhid][\"avergage_monthly_income\"] = sum(monthly_incomes) if len(monthly_incomes) else np.nan\n",
    "            \n",
    "processed = get_processed_df(results)"
   ]
  },
  {
   "cell_type": "code",
   "execution_count": 114,
   "id": "f2e633e0",
   "metadata": {},
   "outputs": [],
   "source": [
    "PROCESSED_DFS.append(processed)"
   ]
  },
  {
   "cell_type": "code",
   "execution_count": 115,
   "id": "ae1e36ea",
   "metadata": {},
   "outputs": [],
   "source": [
    "for col in processed.columns:\n",
    "    if \"job_\" in col:\n",
    "        variable_types[\"discrete_categorical\"].add(col)\n",
    "    else:\n",
    "        variable_types[\"continuous\"].add(col)"
   ]
  },
  {
   "cell_type": "markdown",
   "id": "6d8cebe1",
   "metadata": {},
   "source": [
    "## U: Time use of male and female members in the household"
   ]
  },
  {
   "cell_type": "code",
   "execution_count": 116,
   "id": "6978fa93",
   "metadata": {},
   "outputs": [],
   "source": [
    "# discard"
   ]
  },
  {
   "cell_type": "markdown",
   "id": "c7b4902c",
   "metadata": {},
   "source": [
    "## V: Anthropometry"
   ]
  },
  {
   "cell_type": "code",
   "execution_count": 117,
   "id": "cde7b481",
   "metadata": {},
   "outputs": [],
   "source": [
    "# discard"
   ]
  },
  {
   "cell_type": "markdown",
   "id": "254846ed",
   "metadata": {},
   "source": [
    "# Combine processed dataframes"
   ]
  },
  {
   "cell_type": "code",
   "execution_count": 118,
   "id": "a9c5248e",
   "metadata": {},
   "outputs": [],
   "source": [
    "# mind the treatment of MISSING VALUES!\n",
    "    # do we really want to impute \"0\" when no information is present?\n",
    "    # just leave as empty\n",
    "        # then if we see a household with many empty fields, or a feature with mostly empty values,\n",
    "        # we remove it"
   ]
  },
  {
   "cell_type": "code",
   "execution_count": 119,
   "id": "17b14013",
   "metadata": {
    "scrolled": true
   },
   "outputs": [],
   "source": [
    "# add missing household ids\n",
    "all_hhids_present = []\n",
    "for idx, df in enumerate(PROCESSED_DFS):\n",
    "    df[\"hhid\"] = np.round(df[\"hhid\"].astype(np.float64), 1)\n",
    "    if len(df[\"hhid\"].unique()) != len(UNIQUE_HHID):\n",
    "        all_hhids_present.append(add_missing_hhids(df))\n",
    "    else:\n",
    "        all_hhids_present.append(df)\n",
    "\n",
    "# sanity check\n",
    "for df in all_hhids_present:\n",
    "    hids = df[\"hhid\"].unique()\n",
    "    for h in hids:\n",
    "        assert h in UNIQUE_HHID\n",
    "    for h in UNIQUE_HHID:\n",
    "        assert h in hids\n",
    "        \n",
    "# merge all dataframes\n",
    "df = all_hhids_present[0]\n",
    "for df1 in all_hhids_present[1:]:\n",
    "    df = df.merge(df1, on=\"hhid\", how=\"inner\")\n",
    "assert df.shape[0] == len(UNIQUE_HHID)"
   ]
  },
  {
   "cell_type": "code",
   "execution_count": 120,
   "id": "1bc42a8b",
   "metadata": {},
   "outputs": [],
   "source": [
    "df.to_csv(DATA_DIR + DATA_SUBDIR + \"combined.csv\", index=False)"
   ]
  },
  {
   "cell_type": "code",
   "execution_count": 122,
   "id": "e932265d",
   "metadata": {},
   "outputs": [
    {
     "data": {
      "text/html": [
       "<div>\n",
       "<style scoped>\n",
       "    .dataframe tbody tr th:only-of-type {\n",
       "        vertical-align: middle;\n",
       "    }\n",
       "\n",
       "    .dataframe tbody tr th {\n",
       "        vertical-align: top;\n",
       "    }\n",
       "\n",
       "    .dataframe thead th {\n",
       "        text-align: right;\n",
       "    }\n",
       "</style>\n",
       "<table border=\"1\" class=\"dataframe\">\n",
       "  <thead>\n",
       "    <tr style=\"text-align: right;\">\n",
       "      <th></th>\n",
       "      <th>hhid</th>\n",
       "      <th>ezcode</th>\n",
       "      <th>community_code</th>\n",
       "      <th>household_size</th>\n",
       "      <th>ratio_male</th>\n",
       "      <th>ratio_male_children</th>\n",
       "      <th>highest_education</th>\n",
       "      <th>highest_literacy</th>\n",
       "      <th>total_land_value_per_month</th>\n",
       "      <th>plot_type</th>\n",
       "      <th>...</th>\n",
       "      <th>s_08_2</th>\n",
       "      <th>s_09_2</th>\n",
       "      <th>job_wage_labor</th>\n",
       "      <th>job_salaried_worker</th>\n",
       "      <th>job_self_employment</th>\n",
       "      <th>job_trader</th>\n",
       "      <th>job_production</th>\n",
       "      <th>job_livestock_poultry_service</th>\n",
       "      <th>job_farming</th>\n",
       "      <th>avergage_monthly_income</th>\n",
       "    </tr>\n",
       "  </thead>\n",
       "  <tbody>\n",
       "    <tr>\n",
       "      <th>0</th>\n",
       "      <td>1.0</td>\n",
       "      <td>7</td>\n",
       "      <td>10</td>\n",
       "      <td>9.0</td>\n",
       "      <td>0.555556</td>\n",
       "      <td>0.333333</td>\n",
       "      <td>20.0</td>\n",
       "      <td>3.0</td>\n",
       "      <td>50.0</td>\n",
       "      <td>2.0</td>\n",
       "      <td>...</td>\n",
       "      <td>1.0</td>\n",
       "      <td>2.0</td>\n",
       "      <td>0</td>\n",
       "      <td>1</td>\n",
       "      <td>1</td>\n",
       "      <td>0</td>\n",
       "      <td>0</td>\n",
       "      <td>0</td>\n",
       "      <td>3</td>\n",
       "      <td>8650.0</td>\n",
       "    </tr>\n",
       "    <tr>\n",
       "      <th>1</th>\n",
       "      <td>2.0</td>\n",
       "      <td>7</td>\n",
       "      <td>10</td>\n",
       "      <td>6.0</td>\n",
       "      <td>0.500000</td>\n",
       "      <td>0.000000</td>\n",
       "      <td>8.0</td>\n",
       "      <td>3.0</td>\n",
       "      <td>500.0</td>\n",
       "      <td>2.0</td>\n",
       "      <td>...</td>\n",
       "      <td>1.0</td>\n",
       "      <td>3.0</td>\n",
       "      <td>1</td>\n",
       "      <td>0</td>\n",
       "      <td>0</td>\n",
       "      <td>0</td>\n",
       "      <td>0</td>\n",
       "      <td>0</td>\n",
       "      <td>3</td>\n",
       "      <td>4090.0</td>\n",
       "    </tr>\n",
       "    <tr>\n",
       "      <th>2</th>\n",
       "      <td>3.0</td>\n",
       "      <td>7</td>\n",
       "      <td>10</td>\n",
       "      <td>4.0</td>\n",
       "      <td>0.750000</td>\n",
       "      <td>1.000000</td>\n",
       "      <td>18.0</td>\n",
       "      <td>3.0</td>\n",
       "      <td>NaN</td>\n",
       "      <td>2.0</td>\n",
       "      <td>...</td>\n",
       "      <td>1.0</td>\n",
       "      <td>3.0</td>\n",
       "      <td>0</td>\n",
       "      <td>0</td>\n",
       "      <td>1</td>\n",
       "      <td>0</td>\n",
       "      <td>0</td>\n",
       "      <td>0</td>\n",
       "      <td>3</td>\n",
       "      <td>5650.0</td>\n",
       "    </tr>\n",
       "    <tr>\n",
       "      <th>3</th>\n",
       "      <td>4.0</td>\n",
       "      <td>7</td>\n",
       "      <td>10</td>\n",
       "      <td>6.0</td>\n",
       "      <td>0.333333</td>\n",
       "      <td>0.000000</td>\n",
       "      <td>8.0</td>\n",
       "      <td>3.0</td>\n",
       "      <td>384.0</td>\n",
       "      <td>2.0</td>\n",
       "      <td>...</td>\n",
       "      <td>1.0</td>\n",
       "      <td>3.0</td>\n",
       "      <td>0</td>\n",
       "      <td>0</td>\n",
       "      <td>0</td>\n",
       "      <td>0</td>\n",
       "      <td>0</td>\n",
       "      <td>0</td>\n",
       "      <td>4</td>\n",
       "      <td>18700.0</td>\n",
       "    </tr>\n",
       "    <tr>\n",
       "      <th>4</th>\n",
       "      <td>5.0</td>\n",
       "      <td>7</td>\n",
       "      <td>10</td>\n",
       "      <td>7.0</td>\n",
       "      <td>0.428571</td>\n",
       "      <td>1.000000</td>\n",
       "      <td>15.0</td>\n",
       "      <td>3.0</td>\n",
       "      <td>NaN</td>\n",
       "      <td>2.0</td>\n",
       "      <td>...</td>\n",
       "      <td>1.0</td>\n",
       "      <td>3.0</td>\n",
       "      <td>0</td>\n",
       "      <td>0</td>\n",
       "      <td>1</td>\n",
       "      <td>0</td>\n",
       "      <td>0</td>\n",
       "      <td>0</td>\n",
       "      <td>2</td>\n",
       "      <td>10300.0</td>\n",
       "    </tr>\n",
       "    <tr>\n",
       "      <th>...</th>\n",
       "      <td>...</td>\n",
       "      <td>...</td>\n",
       "      <td>...</td>\n",
       "      <td>...</td>\n",
       "      <td>...</td>\n",
       "      <td>...</td>\n",
       "      <td>...</td>\n",
       "      <td>...</td>\n",
       "      <td>...</td>\n",
       "      <td>...</td>\n",
       "      <td>...</td>\n",
       "      <td>...</td>\n",
       "      <td>...</td>\n",
       "      <td>...</td>\n",
       "      <td>...</td>\n",
       "      <td>...</td>\n",
       "      <td>...</td>\n",
       "      <td>...</td>\n",
       "      <td>...</td>\n",
       "      <td>...</td>\n",
       "      <td>...</td>\n",
       "    </tr>\n",
       "    <tr>\n",
       "      <th>822</th>\n",
       "      <td>796.0</td>\n",
       "      <td>6</td>\n",
       "      <td>33</td>\n",
       "      <td>10.0</td>\n",
       "      <td>0.400000</td>\n",
       "      <td>0.500000</td>\n",
       "      <td>12.0</td>\n",
       "      <td>3.0</td>\n",
       "      <td>NaN</td>\n",
       "      <td>2.0</td>\n",
       "      <td>...</td>\n",
       "      <td>1.0</td>\n",
       "      <td>3.0</td>\n",
       "      <td>0</td>\n",
       "      <td>0</td>\n",
       "      <td>1</td>\n",
       "      <td>0</td>\n",
       "      <td>0</td>\n",
       "      <td>0</td>\n",
       "      <td>3</td>\n",
       "      <td>20563.0</td>\n",
       "    </tr>\n",
       "    <tr>\n",
       "      <th>823</th>\n",
       "      <td>797.0</td>\n",
       "      <td>6</td>\n",
       "      <td>33</td>\n",
       "      <td>9.0</td>\n",
       "      <td>0.333333</td>\n",
       "      <td>0.250000</td>\n",
       "      <td>13.0</td>\n",
       "      <td>3.0</td>\n",
       "      <td>510.0</td>\n",
       "      <td>2.0</td>\n",
       "      <td>...</td>\n",
       "      <td>2.0</td>\n",
       "      <td>2.0</td>\n",
       "      <td>1</td>\n",
       "      <td>0</td>\n",
       "      <td>0</td>\n",
       "      <td>0</td>\n",
       "      <td>0</td>\n",
       "      <td>0</td>\n",
       "      <td>4</td>\n",
       "      <td>4800.0</td>\n",
       "    </tr>\n",
       "    <tr>\n",
       "      <th>824</th>\n",
       "      <td>798.0</td>\n",
       "      <td>6</td>\n",
       "      <td>33</td>\n",
       "      <td>7.0</td>\n",
       "      <td>0.571429</td>\n",
       "      <td>0.000000</td>\n",
       "      <td>9.0</td>\n",
       "      <td>3.0</td>\n",
       "      <td>NaN</td>\n",
       "      <td>2.0</td>\n",
       "      <td>...</td>\n",
       "      <td>1.0</td>\n",
       "      <td>2.0</td>\n",
       "      <td>0</td>\n",
       "      <td>0</td>\n",
       "      <td>0</td>\n",
       "      <td>0</td>\n",
       "      <td>0</td>\n",
       "      <td>0</td>\n",
       "      <td>2</td>\n",
       "      <td>3530.0</td>\n",
       "    </tr>\n",
       "    <tr>\n",
       "      <th>825</th>\n",
       "      <td>799.0</td>\n",
       "      <td>6</td>\n",
       "      <td>33</td>\n",
       "      <td>9.0</td>\n",
       "      <td>0.555556</td>\n",
       "      <td>0.250000</td>\n",
       "      <td>17.0</td>\n",
       "      <td>3.0</td>\n",
       "      <td>NaN</td>\n",
       "      <td>2.0</td>\n",
       "      <td>...</td>\n",
       "      <td>1.0</td>\n",
       "      <td>2.0</td>\n",
       "      <td>0</td>\n",
       "      <td>0</td>\n",
       "      <td>0</td>\n",
       "      <td>0</td>\n",
       "      <td>0</td>\n",
       "      <td>0</td>\n",
       "      <td>3</td>\n",
       "      <td>1200.0</td>\n",
       "    </tr>\n",
       "    <tr>\n",
       "      <th>826</th>\n",
       "      <td>800.0</td>\n",
       "      <td>6</td>\n",
       "      <td>33</td>\n",
       "      <td>4.0</td>\n",
       "      <td>0.750000</td>\n",
       "      <td>1.000000</td>\n",
       "      <td>5.0</td>\n",
       "      <td>3.0</td>\n",
       "      <td>NaN</td>\n",
       "      <td>2.0</td>\n",
       "      <td>...</td>\n",
       "      <td>1.0</td>\n",
       "      <td>2.0</td>\n",
       "      <td>0</td>\n",
       "      <td>0</td>\n",
       "      <td>0</td>\n",
       "      <td>0</td>\n",
       "      <td>0</td>\n",
       "      <td>0</td>\n",
       "      <td>3</td>\n",
       "      <td>1000.0</td>\n",
       "    </tr>\n",
       "  </tbody>\n",
       "</table>\n",
       "<p>827 rows × 417 columns</p>\n",
       "</div>"
      ],
      "text/plain": [
       "      hhid  ezcode  community_code  household_size  ratio_male  \\\n",
       "0      1.0       7              10             9.0    0.555556   \n",
       "1      2.0       7              10             6.0    0.500000   \n",
       "2      3.0       7              10             4.0    0.750000   \n",
       "3      4.0       7              10             6.0    0.333333   \n",
       "4      5.0       7              10             7.0    0.428571   \n",
       "..     ...     ...             ...             ...         ...   \n",
       "822  796.0       6              33            10.0    0.400000   \n",
       "823  797.0       6              33             9.0    0.333333   \n",
       "824  798.0       6              33             7.0    0.571429   \n",
       "825  799.0       6              33             9.0    0.555556   \n",
       "826  800.0       6              33             4.0    0.750000   \n",
       "\n",
       "     ratio_male_children  highest_education  highest_literacy  \\\n",
       "0               0.333333               20.0               3.0   \n",
       "1               0.000000                8.0               3.0   \n",
       "2               1.000000               18.0               3.0   \n",
       "3               0.000000                8.0               3.0   \n",
       "4               1.000000               15.0               3.0   \n",
       "..                   ...                ...               ...   \n",
       "822             0.500000               12.0               3.0   \n",
       "823             0.250000               13.0               3.0   \n",
       "824             0.000000                9.0               3.0   \n",
       "825             0.250000               17.0               3.0   \n",
       "826             1.000000                5.0               3.0   \n",
       "\n",
       "     total_land_value_per_month  plot_type  ...  s_08_2  s_09_2  \\\n",
       "0                          50.0        2.0  ...     1.0     2.0   \n",
       "1                         500.0        2.0  ...     1.0     3.0   \n",
       "2                           NaN        2.0  ...     1.0     3.0   \n",
       "3                         384.0        2.0  ...     1.0     3.0   \n",
       "4                           NaN        2.0  ...     1.0     3.0   \n",
       "..                          ...        ...  ...     ...     ...   \n",
       "822                         NaN        2.0  ...     1.0     3.0   \n",
       "823                       510.0        2.0  ...     2.0     2.0   \n",
       "824                         NaN        2.0  ...     1.0     2.0   \n",
       "825                         NaN        2.0  ...     1.0     2.0   \n",
       "826                         NaN        2.0  ...     1.0     2.0   \n",
       "\n",
       "     job_wage_labor  job_salaried_worker  job_self_employment  job_trader  \\\n",
       "0                 0                    1                    1           0   \n",
       "1                 1                    0                    0           0   \n",
       "2                 0                    0                    1           0   \n",
       "3                 0                    0                    0           0   \n",
       "4                 0                    0                    1           0   \n",
       "..              ...                  ...                  ...         ...   \n",
       "822               0                    0                    1           0   \n",
       "823               1                    0                    0           0   \n",
       "824               0                    0                    0           0   \n",
       "825               0                    0                    0           0   \n",
       "826               0                    0                    0           0   \n",
       "\n",
       "     job_production  job_livestock_poultry_service  job_farming  \\\n",
       "0                 0                              0            3   \n",
       "1                 0                              0            3   \n",
       "2                 0                              0            3   \n",
       "3                 0                              0            4   \n",
       "4                 0                              0            2   \n",
       "..              ...                            ...          ...   \n",
       "822               0                              0            3   \n",
       "823               0                              0            4   \n",
       "824               0                              0            2   \n",
       "825               0                              0            3   \n",
       "826               0                              0            3   \n",
       "\n",
       "     avergage_monthly_income  \n",
       "0                     8650.0  \n",
       "1                     4090.0  \n",
       "2                     5650.0  \n",
       "3                    18700.0  \n",
       "4                    10300.0  \n",
       "..                       ...  \n",
       "822                  20563.0  \n",
       "823                   4800.0  \n",
       "824                   3530.0  \n",
       "825                   1200.0  \n",
       "826                   1000.0  \n",
       "\n",
       "[827 rows x 417 columns]"
      ]
     },
     "execution_count": 122,
     "metadata": {},
     "output_type": "execute_result"
    }
   ],
   "source": [
    "try:\n",
    "    df = pd.read_csv(DATA_DIR + DATA_SUBDIR + \"combined.csv\")\n",
    "except:\n",
    "    df.to_csv(DATA_DIR + DATA_SUBDIR + \"combined.csv\", index=False)\n",
    "df"
   ]
  },
  {
   "cell_type": "code",
   "execution_count": 125,
   "id": "1979594a",
   "metadata": {},
   "outputs": [
    {
     "data": {
      "image/png": "[encoded data removed]",
      "text/plain": [
       "<Figure size 600x500 with 1 Axes>"
      ]
     },
     "metadata": {},
     "output_type": "display_data"
    }
   ],
   "source": [
    "col_nan_counts = {}\n",
    "L = len(df)\n",
    "for col in df.columns:\n",
    "    col_nan_counts[col] = (df[col].isna().sum()) / L\n",
    "\n",
    "plt.hist(col_nan_counts.values(), color=\"dodgerblue\", edgecolor=\"k\", bins=30)\n",
    "plt.xlabel(\"Proportion of missing values per feature\")\n",
    "plt.ylabel(\"Frequency\")\n",
    "plt.show()"
   ]
  },
  {
   "cell_type": "code",
   "execution_count": 126,
   "id": "ede73920",
   "metadata": {
    "scrolled": false
   },
   "outputs": [
    {
     "data": {
      "image/png": "[encoded data removed]",
      "text/plain": [
       "<Figure size 600x500 with 1 Axes>"
      ]
     },
     "metadata": {},
     "output_type": "display_data"
    }
   ],
   "source": [
    "row_nan_counts = {}\n",
    "num_cols = len(df.columns)\n",
    "for i in range(len(df)):\n",
    "    row = df.loc[[i]]\n",
    "    hhid = list(row[\"hhid\"])[0]\n",
    "    row_nan_counts[hhid] = (row.isna().sum().sum()) / num_cols\n",
    "\n",
    "plt.hist(row_nan_counts.values(), color=\"dodgerblue\", edgecolor=\"k\", bins=30)\n",
    "plt.xticks(np.linspace(0.2, 1.0, 9))\n",
    "plt.xlabel(\"Proportion of missing features per household\")\n",
    "plt.ylabel(\"Frequency\")\n",
    "plt.show()"
   ]
  },
  {
   "cell_type": "code",
   "execution_count": 127,
   "id": "037c8a9a",
   "metadata": {},
   "outputs": [],
   "source": [
    "# sanity check: variable types\n",
    "for col in df.columns:\n",
    "    if not (col in variable_types[\"discrete_ordered\"] or \n",
    "            col in variable_types[\"discrete_categorical\"] or\n",
    "            col in variable_types[\"continuous\"]):\n",
    "        print(col)\n",
    "        \n",
    "for t, cols in variable_types.items():\n",
    "    for c in cols:\n",
    "        if c not in df.columns:\n",
    "            print(c)\n",
    "\n",
    "variable_types[\"discrete_ordered\"].discard(\"hhid\")\n",
    "variable_types[\"continuous\"].discard(\"hhid\")\n",
    "\n",
    "# sanity check: all features present once\n",
    "counts = []\n",
    "for t, cols in variable_types.items():\n",
    "    for c in cols:\n",
    "        counts.append(c)\n",
    "        \n",
    "counts = Counter(counts)\n",
    "if 2 in counts.values():\n",
    "    print(\"Counting error!\")\n",
    "assert len(counts) == len(df.columns)"
   ]
  },
  {
   "cell_type": "markdown",
   "id": "497415bf",
   "metadata": {},
   "source": [
    "# Mutual Information Regression"
   ]
  },
  {
   "cell_type": "code",
   "execution_count": 146,
   "id": "0032688b",
   "metadata": {},
   "outputs": [],
   "source": [
    "# compute number of changes implemented by each household\n",
    "num_changes = {hhid:None for hhid in UNIQUE_HHID}\n",
    "target_labels = set()\n",
    "for DF in ADAPTATION_DFS:\n",
    "    for hhid in UNIQUE_HHID:\n",
    "        hh = DF.loc[DF.hhid==hhid]\n",
    "        if len(hh):\n",
    "            ignore_hhid_col = hh.loc[:, ~hh.columns.isin(['hhid'])]\n",
    "            for col in ignore_hhid_col:\n",
    "                target_labels.add(col)\n",
    "                \n",
    "            non_nan = np.array([x for x in ignore_hhid_col.iloc[0] if not np.isnan(x)])\n",
    "            if len(non_nan):\n",
    "                if num_changes[hhid] is None:\n",
    "                    num_changes[hhid] = sum(np.array(non_nan==1))\n",
    "                else:\n",
    "                    num_changes[hhid] += sum(np.array(non_nan==1))\n",
    "            \n",
    "            \n",
    "# with open(DATA_DIR + DATA_SUBDIR + \"adaptation_target.pickle\", \"rb\") as f:\n",
    "#     data = pickle.load(f)\n",
    "# adaptation_target = data[\"target_values\"]\n",
    "# target_labels = data[\"target_labels\"]\n",
    "\n",
    "\n",
    "adaptation_target = np.array(list(num_changes.values()))\n",
    "data = {\"target_values\":adaptation_target, \"target_labels\":target_labels}\n",
    "with open(DATA_DIR + DATA_SUBDIR + \"adaptation_target.pickle\", \"wb\") as f:\n",
    "    pickle.dump(data, f)"
   ]
  },
  {
   "cell_type": "code",
   "execution_count": 163,
   "id": "1a6e0c19",
   "metadata": {
    "scrolled": false
   },
   "outputs": [
    {
     "data": {
      "image/png": "[encoded data removed]",
      "text/plain": [
       "<Figure size 600x500 with 1 Axes>"
      ]
     },
     "metadata": {},
     "output_type": "display_data"
    },
    {
     "name": "stdout",
     "output_type": "stream",
     "text": [
      "Top 20 MI scores:\n"
     ]
    },
    {
     "data": {
      "text/plain": [
       "[('m02_4', (0.317, 6)),\n",
       " ('calamity_11_action_taken', (0.267, 21)),\n",
       " ('q05_3', (0.226, 117)),\n",
       " ('calamity_10_action_taken', (0.226, 9)),\n",
       " ('community_code', (0.19, 805)),\n",
       " ('r7_07_1_3', (0.167, 146)),\n",
       " ('calamity_11_loss', (0.163, 26)),\n",
       " ('j03_1_miscellaneous_expenses_social', (0.158, 22)),\n",
       " ('j03_2_family_events_expenses_social', (0.147, 11)),\n",
       " ('weight_food_drinks', (0.142, 479)),\n",
       " ('s_05_1', (0.141, 156)),\n",
       " ('calamity_4_loss', (0.137, 25)),\n",
       " ('calamity_9_loss', (0.132, 14)),\n",
       " ('q01_3', (0.131, 110)),\n",
       " ('count_2011', (0.129, 738)),\n",
       " ('r6_04_1_3', (0.122, 46)),\n",
       " ('j03_1_education_expenses_social', (0.122, 10)),\n",
       " ('calamity_9_action_taken', (0.115, 14)),\n",
       " ('calamity_7_loss', (0.112, 26)),\n",
       " ('r7_11_1_2', (0.105, 288))]"
      ]
     },
     "execution_count": 163,
     "metadata": {},
     "output_type": "execute_result"
    }
   ],
   "source": [
    "mi_scores = {}\n",
    "for col in df.columns:\n",
    "    if col != \"hhid\" and col not in target_labels:\n",
    "        non_nan_rows = df.loc[(~df[col].isna()) & (~df[\"hhid\"].isin(null_target_hhids))]\n",
    "        if len(non_nan_rows) < 4:\n",
    "            continue\n",
    "            \n",
    "        #is_discrete = col in variable_types[\"discrete_categorical\"]\n",
    "        is_discrete = col not in variable_types[\"continuous\"]\n",
    "        \n",
    "        indices = np.array(non_nan_rows.index).astype(int)\n",
    "        targets = adaptation_target[indices]\n",
    "        mi = mutual_info_regression(np.array(list(non_nan_rows[col])).reshape(-1,1), \n",
    "                                    targets, discrete_features=is_discrete)[0]\n",
    "        mi_scores[col] = (round(mi, 3), len(indices))\n",
    "\n",
    "plt.hist([x[0] for x in mi_scores.values()], color=\"dodgerblue\", edgecolor=\"k\", bins=30)\n",
    "plt.show()\n",
    "\n",
    "show_top = 20\n",
    "print(f\"Top {show_top} MI scores:\")\n",
    "ordered = sorted(mi_scores.items(), key = lambda x: mi_scores[x[0]], reverse=True)\n",
    "ordered[:show_top]"
   ]
  },
  {
   "cell_type": "code",
   "execution_count": null,
   "id": "e93f6ea2",
   "metadata": {},
   "outputs": [],
   "source": []
  }
 ],
 "metadata": {
  "kernelspec": {
   "display_name": "Python 3",
   "language": "python",
   "name": "python3"
  },
  "language_info": {
   "codemirror_mode": {
    "name": "ipython",
    "version": 3
   },
   "file_extension": ".py",
   "mimetype": "text/x-python",
   "name": "python",
   "nbconvert_exporter": "python",
   "pygments_lexer": "ipython3",
   "version": "3.8.6"
  }
 },
 "nbformat": 4,
 "nbformat_minor": 5
}
