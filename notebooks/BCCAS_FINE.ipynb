{
 "cells": [
  {
   "cell_type": "markdown",
   "id": "7120fd9b",
   "metadata": {},
   "source": [
    "# Quafing example workflow\n",
    "\n",
    "This notebook demonstrates the use of quafing on the basis of an example workflow analysing quesstionaire data about subaks. The answers to the individual questions are assumed to be entirely independent.\n"
   ]
  },
  {
   "cell_type": "markdown",
   "id": "4a66035b",
   "metadata": {},
   "source": [
    "This notebook assumes that it being executed from `quafing/notebooks/`, i.e. that `quafing/quafing/` is at the same directory hierarchy level, with aa shared parent directory. Before beginning we change the working directory to this common parent directory"
   ]
  },
  {
   "cell_type": "code",
   "execution_count": 168,
   "id": "8b6ede86",
   "metadata": {},
   "outputs": [
    {
     "name": "stdout",
     "output_type": "stream",
     "text": [
      "/Users/charlesdupont/Desktop/Thesis/code/quafing\n"
     ]
    }
   ],
   "source": [
    "import os\n",
    "os.chdir('../quafing/')\n",
    "print(os.getcwd())\n",
    "\n",
    "\n",
    "import quafing as q\n",
    "import pandas as pd\n",
    "import numpy as np\n",
    "import pickle\n",
    "\n",
    "\n",
    "import matplotlib.pyplot as plt\n",
    "plt.rcParams.update(plt.rcParamsDefault)\n",
    "plt.rcParams.update({\"font.size\" : 15, \n",
    "                     \"figure.dpi\" : 100, \n",
    "                     \"legend.fontsize\" : 13, \n",
    "                     \"grid.alpha\" : 0.3, \n",
    "                     \"axes.grid\": True, \n",
    "                     \"axes.axisbelow\" : True, \n",
    "                     \"figure.figsize\":(8,6)})"
   ]
  },
  {
   "cell_type": "markdown",
   "id": "e4a5ca74",
   "metadata": {},
   "source": [
    "### Data ingestion"
   ]
  },
  {
   "cell_type": "markdown",
   "id": "8585187c",
   "metadata": {},
   "source": [
    "Specify the file name of the questionaire data (needs to be adapted by user)\n"
   ]
  },
  {
   "cell_type": "code",
   "execution_count": 174,
   "id": "6f518071",
   "metadata": {},
   "outputs": [],
   "source": [
    "# filepath = \"../notebooks/data/omri_subak_data.xlsx\"\n",
    "# rawmetadata, rawdata = q.load(filepath)\n",
    "# rawmetadata\n",
    "\n",
    "filepath = \"../../BCCASII/Household/top_features.xlsx\"\n",
    "with open(\"../../BCCASII/Household/top_variable_types.pickle\", \"rb\") as f:\n",
    "    variable_types = pickle.load(f)"
   ]
  },
  {
   "cell_type": "code",
   "execution_count": 175,
   "id": "0979d8f1",
   "metadata": {},
   "outputs": [
    {
     "data": {
      "text/html": [
       "<div>\n",
       "<style scoped>\n",
       "    .dataframe tbody tr th:only-of-type {\n",
       "        vertical-align: middle;\n",
       "    }\n",
       "\n",
       "    .dataframe tbody tr th {\n",
       "        vertical-align: top;\n",
       "    }\n",
       "\n",
       "    .dataframe thead th {\n",
       "        text-align: right;\n",
       "    }\n",
       "</style>\n",
       "<table border=\"1\" class=\"dataframe\">\n",
       "  <thead>\n",
       "    <tr style=\"text-align: right;\">\n",
       "      <th></th>\n",
       "      <th>j02_2_family_events_expenses</th>\n",
       "      <th>value_livestock_poultry</th>\n",
       "      <th>constraint_2_total_severity</th>\n",
       "      <th>constraint_6_total_severity</th>\n",
       "      <th>constraint_1_total_severity</th>\n",
       "      <th>change_off_farm_employment</th>\n",
       "      <th>total_land_value_per_month</th>\n",
       "      <th>r6_08_1</th>\n",
       "      <th>r4_05_1</th>\n",
       "      <th>constraint_5_total_severity</th>\n",
       "      <th>...</th>\n",
       "      <th>community_code</th>\n",
       "      <th>job_self_employment</th>\n",
       "      <th>r3_07_1</th>\n",
       "      <th>average_monthly_income</th>\n",
       "      <th>change_crop_consumption</th>\n",
       "      <th>change_planting_dates</th>\n",
       "      <th>constraint_4_total_severity</th>\n",
       "      <th>weight_food_drinks</th>\n",
       "      <th>job_livestock_poultry_service</th>\n",
       "      <th>r2_19</th>\n",
       "    </tr>\n",
       "  </thead>\n",
       "  <tbody>\n",
       "    <tr>\n",
       "      <th>0</th>\n",
       "      <td>-1</td>\n",
       "      <td>2</td>\n",
       "      <td>0</td>\n",
       "      <td>0</td>\n",
       "      <td>0</td>\n",
       "      <td>0</td>\n",
       "      <td>0</td>\n",
       "      <td>4</td>\n",
       "      <td>4</td>\n",
       "      <td>0</td>\n",
       "      <td>...</td>\n",
       "      <td>10</td>\n",
       "      <td>1</td>\n",
       "      <td>2</td>\n",
       "      <td>2</td>\n",
       "      <td>0</td>\n",
       "      <td>0</td>\n",
       "      <td>2</td>\n",
       "      <td>2</td>\n",
       "      <td>0</td>\n",
       "      <td>1</td>\n",
       "    </tr>\n",
       "    <tr>\n",
       "      <th>1</th>\n",
       "      <td>-1</td>\n",
       "      <td>2</td>\n",
       "      <td>0</td>\n",
       "      <td>3</td>\n",
       "      <td>1</td>\n",
       "      <td>1</td>\n",
       "      <td>1</td>\n",
       "      <td>1</td>\n",
       "      <td>4</td>\n",
       "      <td>0</td>\n",
       "      <td>...</td>\n",
       "      <td>10</td>\n",
       "      <td>0</td>\n",
       "      <td>2</td>\n",
       "      <td>1</td>\n",
       "      <td>0</td>\n",
       "      <td>0</td>\n",
       "      <td>4</td>\n",
       "      <td>3</td>\n",
       "      <td>0</td>\n",
       "      <td>1</td>\n",
       "    </tr>\n",
       "    <tr>\n",
       "      <th>2</th>\n",
       "      <td>1</td>\n",
       "      <td>2</td>\n",
       "      <td>0</td>\n",
       "      <td>2</td>\n",
       "      <td>1</td>\n",
       "      <td>0</td>\n",
       "      <td>-1</td>\n",
       "      <td>1</td>\n",
       "      <td>4</td>\n",
       "      <td>0</td>\n",
       "      <td>...</td>\n",
       "      <td>10</td>\n",
       "      <td>1</td>\n",
       "      <td>2</td>\n",
       "      <td>1</td>\n",
       "      <td>0</td>\n",
       "      <td>1</td>\n",
       "      <td>4</td>\n",
       "      <td>2</td>\n",
       "      <td>0</td>\n",
       "      <td>1</td>\n",
       "    </tr>\n",
       "    <tr>\n",
       "      <th>3</th>\n",
       "      <td>-1</td>\n",
       "      <td>4</td>\n",
       "      <td>0</td>\n",
       "      <td>0</td>\n",
       "      <td>1</td>\n",
       "      <td>0</td>\n",
       "      <td>0</td>\n",
       "      <td>2</td>\n",
       "      <td>4</td>\n",
       "      <td>1</td>\n",
       "      <td>...</td>\n",
       "      <td>10</td>\n",
       "      <td>0</td>\n",
       "      <td>2</td>\n",
       "      <td>3</td>\n",
       "      <td>0</td>\n",
       "      <td>1</td>\n",
       "      <td>3</td>\n",
       "      <td>1</td>\n",
       "      <td>0</td>\n",
       "      <td>1</td>\n",
       "    </tr>\n",
       "    <tr>\n",
       "      <th>4</th>\n",
       "      <td>-1</td>\n",
       "      <td>1</td>\n",
       "      <td>0</td>\n",
       "      <td>0</td>\n",
       "      <td>2</td>\n",
       "      <td>1</td>\n",
       "      <td>-1</td>\n",
       "      <td>-1</td>\n",
       "      <td>-1</td>\n",
       "      <td>4</td>\n",
       "      <td>...</td>\n",
       "      <td>10</td>\n",
       "      <td>1</td>\n",
       "      <td>-1</td>\n",
       "      <td>2</td>\n",
       "      <td>0</td>\n",
       "      <td>0</td>\n",
       "      <td>2</td>\n",
       "      <td>3</td>\n",
       "      <td>0</td>\n",
       "      <td>0</td>\n",
       "    </tr>\n",
       "  </tbody>\n",
       "</table>\n",
       "<p>5 rows × 111 columns</p>\n",
       "</div>"
      ],
      "text/plain": [
       "   j02_2_family_events_expenses  value_livestock_poultry  \\\n",
       "0                            -1                        2   \n",
       "1                            -1                        2   \n",
       "2                             1                        2   \n",
       "3                            -1                        4   \n",
       "4                            -1                        1   \n",
       "\n",
       "   constraint_2_total_severity  constraint_6_total_severity  \\\n",
       "0                            0                            0   \n",
       "1                            0                            3   \n",
       "2                            0                            2   \n",
       "3                            0                            0   \n",
       "4                            0                            0   \n",
       "\n",
       "   constraint_1_total_severity  change_off_farm_employment  \\\n",
       "0                            0                           0   \n",
       "1                            1                           1   \n",
       "2                            1                           0   \n",
       "3                            1                           0   \n",
       "4                            2                           1   \n",
       "\n",
       "   total_land_value_per_month  r6_08_1  r4_05_1  constraint_5_total_severity  \\\n",
       "0                           0        4        4                            0   \n",
       "1                           1        1        4                            0   \n",
       "2                          -1        1        4                            0   \n",
       "3                           0        2        4                            1   \n",
       "4                          -1       -1       -1                            4   \n",
       "\n",
       "   ...  community_code  job_self_employment  r3_07_1  average_monthly_income  \\\n",
       "0  ...              10                    1        2                       2   \n",
       "1  ...              10                    0        2                       1   \n",
       "2  ...              10                    1        2                       1   \n",
       "3  ...              10                    0        2                       3   \n",
       "4  ...              10                    1       -1                       2   \n",
       "\n",
       "   change_crop_consumption  change_planting_dates  \\\n",
       "0                        0                      0   \n",
       "1                        0                      0   \n",
       "2                        0                      1   \n",
       "3                        0                      1   \n",
       "4                        0                      0   \n",
       "\n",
       "   constraint_4_total_severity  weight_food_drinks  \\\n",
       "0                            2                   2   \n",
       "1                            4                   3   \n",
       "2                            4                   2   \n",
       "3                            3                   1   \n",
       "4                            2                   3   \n",
       "\n",
       "   job_livestock_poultry_service  r2_19  \n",
       "0                              0      1  \n",
       "1                              0      1  \n",
       "2                              0      1  \n",
       "3                              0      1  \n",
       "4                              0      0  \n",
       "\n",
       "[5 rows x 111 columns]"
      ]
     },
     "execution_count": 175,
     "metadata": {},
     "output_type": "execute_result"
    }
   ],
   "source": [
    "rawdata = pd.read_excel(filepath)\n",
    "rawdata.head()"
   ]
  },
  {
   "cell_type": "code",
   "execution_count": 176,
   "id": "4fa168ac",
   "metadata": {},
   "outputs": [],
   "source": [
    "# check in case of systemic non-response for specific communities\n",
    "grouped = rawdata.groupby(\"community_code\")\n",
    "missing_prop = {}\n",
    "\n",
    "for col in rawdata.columns:\n",
    "    unique = grouped[col].unique()\n",
    "    count = 0\n",
    "    communities = set()\n",
    "    idx = unique.index\n",
    "    for i, item in enumerate(unique):\n",
    "        if len(item) == 1 and item[0] == -1:\n",
    "            print(col)\n",
    "            break"
   ]
  },
  {
   "cell_type": "markdown",
   "id": "13fca732",
   "metadata": {},
   "source": [
    "In general for spreadsheet type files (.xlsx,.xls,.odf.,ods), quafing assumes columnar data with meta data on the columns located on the same sheet. The standard format corresponds to (all columns and row are 0-indexed):\n",
    "\n",
    "- Data and metadata are located on sheet 0.\n",
    "- Row 0 contains the column type (see below)\n",
    "- Row 1 contains the number of the asociated question\n",
    "- Row 2 (header row) contains the column names\n",
    "- Data starts on row 3\n",
    "- No rows (read 0) are skipped at the end\n",
    "\n",
    "standard row types (denoted by single str characters) are:\n",
    "\n",
    "    e: excluded\n",
    "    g: group by this column\n",
    "    c: continuous variable\n",
    "    u: unordered discrete\n",
    "    o: ordered discrete\n",
    "    b: binary\n",
    "    \n",
    "It should be emphasized that the user can depart from this standard. As long as the basic format of columnar data with metadata for each column is maintained, the actual inddicees of the rows can be changed. Similarly a different row type schema can be used, albeit preferably string based. However, such alterations require additional specification in quafings functions, while the default values are configired to support the standard schema\n"
   ]
  },
  {
   "cell_type": "code",
   "execution_count": 193,
   "id": "5f40564d",
   "metadata": {
    "scrolled": true
   },
   "outputs": [
    {
     "data": {
      "text/plain": [
       "{'ColNames': array(['j02_2_family_events_expenses', 'value_livestock_poultry',\n",
       "        'constraint_2_total_severity', 'constraint_6_total_severity',\n",
       "        'constraint_1_total_severity', 'change_off_farm_employment',\n",
       "        'total_land_value_per_month', 'r6_08_1', 'r4_05_1',\n",
       "        'constraint_5_total_severity', 'j02_2_miscellaneous_expenses',\n",
       "        'q05_1', 'r2_23', 'r6_02_2', 'value_food_fruits', 'r2_15_5',\n",
       "        'change_water_harvesting', 'r6_03_1', 'r6_07_1', 'r6_04_4',\n",
       "        'value_food_other', 'value_food_drinks', 'r3_05_1', 'r6_02_1',\n",
       "        'change_fertilizer', 'r3_04_2', 'r6_08_2',\n",
       "        'constraint_8_total_severity', 'k05', 'job_wage_labor',\n",
       "        'livestock_medication_value', 'j02_1_fuel_expenses', 'r6_05_1',\n",
       "        'change_other', 'r2_20', 'r3_06_2', 'value_food_edible_oil',\n",
       "        'change_production_methods', 'r2_17', 'r2_15_1',\n",
       "        'change_communal_storage', 'change_insurance', 'weight_food_other',\n",
       "        'r2_15_6', 'r3_06_1', 'r3_07_2', 's_05_1', 'r3_02_1', 'r3_03_1',\n",
       "        'change_livestock_poultry', 'r4_04_2_2', 'r3_04_1',\n",
       "        'constraint_3_total_severity', 'r3_02_2', 'r6_03_2', 'r6_04_2',\n",
       "        'r2_15_4', 'r4_04_1_4', 'weight_food_meat_eggs_milk',\n",
       "        'positive_events_value', 'k06', 'change_migration', 'r3_03_2',\n",
       "        'job_farming', 'r6_06_1', 'r6_04_1', 'job_trader', 'm03', 'q05_5',\n",
       "        'r6_03_3', 'r6_03_4', 'q04', 'value_food_other_outside_home',\n",
       "        'm05', 'r6_04_3', 'j03_1_rent_bills_taxes_fees_expenses_self',\n",
       "        'r6_07_2', 'r2_15_2', 'value_food_cereals', 'r3_05_2',\n",
       "        'job_production', 'r4_04_2_4', 'r2_18', 'r6_06_2',\n",
       "        'livestock_fodder_value', 'r2_21', 'shocks_loss_value',\n",
       "        'group_membership_farming', 'r2_22', 's_06_1_1', 'r7_06_1',\n",
       "        'r2_15_3', 'value_agricultural_equipments', 'r4_04_2_9',\n",
       "        'job_salaried_worker', 'change_land',\n",
       "        'constraint_9_total_severity', 'r4_04_1_5', 'ezcode', 'r4_04_2_6',\n",
       "        'constraint_7_total_severity', 'community_code',\n",
       "        'job_self_employment', 'r3_07_1', 'average_monthly_income',\n",
       "        'change_crop_consumption', 'change_planting_dates',\n",
       "        'constraint_4_total_severity', 'weight_food_drinks',\n",
       "        'job_livestock_poultry_service', 'r2_19'], dtype=object),\n",
       " 'ColTypes': array(['o', 'o', 'o', 'o', 'o', 'u', 'o', 'o', 'u', 'o', 'o', 'u', 'o',\n",
       "        'u', 'o', 'o', 'u', 'o', 'o', 'o', 'o', 'o', 'u', 'u', 'u', 'o',\n",
       "        'o', 'o', 'u', 'u', 'o', 'o', 'o', 'u', 'o', 'o', 'o', 'u', 'o',\n",
       "        'o', 'u', 'b', 'o', 'o', 'o', 'o', 'o', 'o', 'o', 'u', 'o', 'o',\n",
       "        'o', 'o', 'o', 'o', 'o', 'o', 'o', 'o', 'u', 'u', 'o', 'u', 'o',\n",
       "        'o', 'u', 'o', 'u', 'o', 'o', 'u', 'o', 'u', 'o', 'o', 'o', 'o',\n",
       "        'o', 'u', 'b', 'o', 'o', 'o', 'o', 'o', 'o', 'u', 'o', 'u', 'o',\n",
       "        'o', 'o', 'o', 'u', 'u', 'o', 'o', 'u', 'o', 'o', 'g', 'u', 'o',\n",
       "        'o', 'u', 'u', 'o', 'o', 'b', 'o'], dtype='<U1'),\n",
       " 'QuestionNumbers': array([  1,   2,   3,   4,   5,   6,   7,   8,   9,  10,  11,  12,  13,\n",
       "         14,  15,  16,  17,  18,  19,  20,  21,  22,  23,  24,  25,  26,\n",
       "         27,  28,  29,  30,  31,  32,  33,  34,  35,  36,  37,  38,  39,\n",
       "         40,  41,  42,  43,  44,  45,  46,  47,  48,  49,  50,  51,  52,\n",
       "         53,  54,  55,  56,  57,  58,  59,  60,  61,  62,  63,  64,  65,\n",
       "         66,  67,  68,  69,  70,  71,  72,  73,  74,  75,  76,  77,  78,\n",
       "         79,  80,  81,  82,  83,  84,  85,  86,  87,  88,  89,  90,  91,\n",
       "         92,  93,  94,  95,  96,  97,  98,  99, 100, 101, 102, 103, 104,\n",
       "        105, 106, 107, 108, 109, 110, 111])}"
      ]
     },
     "execution_count": 193,
     "metadata": {},
     "output_type": "execute_result"
    }
   ],
   "source": [
    "# assign column types and grouping column(s)\n",
    "col_types = []\n",
    "for col in rawdata.columns:\n",
    "    if variable_types[col] == \"binary\":\n",
    "        col_types.append(\"b\")\n",
    "    elif col == \"community_code\":\n",
    "        col_types.append(\"g\")\n",
    "    elif variable_types[col] == \"discrete_categorical\":\n",
    "        col_types.append(\"u\")\n",
    "    elif variable_types[col] in [\"continuous\", \"discrete_ordered\"]:\n",
    "        col_types.append(\"o\")\n",
    "\n",
    "\n",
    "rawmetadata = {\n",
    "    \"ColNames\": np.array(rawdata.columns),\n",
    "    \"ColTypes\": np.array(col_types),\n",
    "    \"QuestionNumbers\": np.array([i for i in range(1, len(rawdata.columns)+1)])\n",
    "}\n",
    "\n",
    "rawmetadata"
   ]
  },
  {
   "cell_type": "code",
   "execution_count": 178,
   "id": "62e69145",
   "metadata": {
    "scrolled": true
   },
   "outputs": [],
   "source": [
    "if False:\n",
    "\n",
    "    # replace missing values with uniformly selected choice from options\n",
    "    for c in rawdata.columns:\n",
    "        options = [x for x in rawdata[c].unique() if x!=-1]\n",
    "        vals = list(rawdata[c])\n",
    "        for i, v in enumerate(vals):\n",
    "            if v == -1:\n",
    "                vals[i] = np.random.choice(options)\n",
    "        rawdata[c] = vals"
   ]
  },
  {
   "cell_type": "markdown",
   "id": "7dd7a22d",
   "metadata": {},
   "source": [
    "### Preproccessing\n",
    "\n",
    "Further processing, however, requires additional selection, specification, and pre-processing of the data.`quafing` supplies a `PreProcessor class` for this purpose, which takes in the data aand metadata and exposes functionss to select, split, and prepare the data for processing   "
   ]
  },
  {
   "cell_type": "code",
   "execution_count": 179,
   "id": "512c3b28",
   "metadata": {},
   "outputs": [],
   "source": [
    "prep = q.PreProcessor(rawdata, rawmetadata)"
   ]
  },
  {
   "cell_type": "markdown",
   "id": "3b812b62",
   "metadata": {},
   "source": [
    "We start by selecting the columns to be analyzed. Below, we create a selection, by deselecting all columns with type 'e'. However, direct selections by type or column name, or index are also possible. "
   ]
  },
  {
   "cell_type": "code",
   "execution_count": 180,
   "id": "263bf7c7",
   "metadata": {},
   "outputs": [],
   "source": [
    "prep.select_columns(select_all=True)"
   ]
  },
  {
   "cell_type": "markdown",
   "id": "1d4e2e30",
   "metadata": {},
   "source": [
    "Next, we specify which columns contain continuous an discrete data, respectively. Quafing maintains an inner represenation of this distinction, thus supporting user defined column type schemes via this method. \n",
    "The default values, however, correspond to the standard defiined above."
   ]
  },
  {
   "cell_type": "code",
   "execution_count": 181,
   "id": "a1736526",
   "metadata": {},
   "outputs": [],
   "source": [
    "prep.set_cont_disc()"
   ]
  },
  {
   "cell_type": "code",
   "execution_count": 182,
   "id": "3752577a",
   "metadata": {},
   "outputs": [],
   "source": [
    "# prep.get_joint_discretization(method=\"BayesianBlocks\")"
   ]
  },
  {
   "cell_type": "markdown",
   "id": "4a9e64de",
   "metadata": {},
   "source": [
    "With the data columns selected and the type of data specified, the penultimate preprocessing step is definng which density estimation methods are to be used in constructing the pdfs for each variable. This, again, can be done by column type, column name, or column index.\n",
    "\n",
    "In our example all columns contain discrete data and the answers/variables are assume to be independent. Accoordingly, for each column (selected by type) a discrete 1d pdf will be estimated. "
   ]
  },
  {
   "cell_type": "code",
   "execution_count": 183,
   "id": "b0fee55b",
   "metadata": {},
   "outputs": [],
   "source": [
    "prep.set_density_method(method='Discrete1D', cols=['o','u','b'])"
   ]
  },
  {
   "cell_type": "markdown",
   "id": "e458703b",
   "metadata": {},
   "source": [
    "Finally, the data is split into groups. This is based on grouping information supplied by the user (e.g. the column of type `g` in the standard format). To avoid ambiguity or mismatches with user defined type schemes, quaafing supports selection of the column to group by by column name or index only.\n",
    "Here we are grouping and spliting based on the column with index 0"
   ]
  },
  {
   "cell_type": "code",
   "execution_count": 184,
   "id": "e8af7978",
   "metadata": {},
   "outputs": [],
   "source": [
    "prep.split_to_groups(\"community_code\")"
   ]
  },
  {
   "cell_type": "markdown",
   "id": "f6907f35",
   "metadata": {},
   "source": [
    "### A collection of multi-dimensional pdfs\n",
    "\n",
    "Having preprocessed an split the data, we can create a collection of multi-dimensional pdfs -- one for each group. As the answers for each question are assumed to be independent the full joint multidimensional pdf factorizes and we can create a factorized multi-dimensional pddf for each group, combinig them into a collection. `quafing` provides a convenience function for this operation.\n"
   ]
  },
  {
   "cell_type": "code",
   "execution_count": 185,
   "id": "de5c95b8",
   "metadata": {
    "scrolled": true
   },
   "outputs": [],
   "source": [
    "mdpdfcol = q.create_mdpdf_collection('factorized', prep._groups, prep._grouplabels, prep._groupcolmetadata,)"
   ]
  },
  {
   "cell_type": "markdown",
   "id": "5d71ab36",
   "metadata": {},
   "source": [
    "Having created the collection we can calculate the Fisher information matrix, i.e. the matrix of pairwise FI distances.\n",
    "Several possible algorithmic approximations of the FI distance are supported (here we use the hellinger distance). Distances are computed for each constituent pdf of the factorized multi-dimensional pdfs, and aggregated to combined distance using their root mean square."
   ]
  },
  {
   "cell_type": "code",
   "execution_count": 186,
   "id": "9dce1542",
   "metadata": {},
   "outputs": [],
   "source": [
    "mdpdfcol.calculate_distance_matrix(method='hellinger', pwdist='rms')"
   ]
  },
  {
   "cell_type": "markdown",
   "id": "07040e24",
   "metadata": {},
   "source": [
    "Given the distance matrix it is straight forward to determine the shortest path matrix"
   ]
  },
  {
   "cell_type": "code",
   "execution_count": 187,
   "id": "aea51798",
   "metadata": {},
   "outputs": [],
   "source": [
    "mdpdfcol.calculate_shortest_path_matrix()"
   ]
  },
  {
   "cell_type": "markdown",
   "id": "a94890f5",
   "metadata": {},
   "source": [
    "### Embedding\n",
    "\n",
    "Given N questions on the questionaire, the FI distances and shortest paths lie and are defined on the N-1 dimensional hypershere, making investiagting/understanding the structure of the data difficult. To this end the collection can be embedded in a lower dimensional space usingg the previously calculated information distances.\n",
    "\n",
    "`quafing` provides an `Embedder` class, with support for a range oof embeddingg algorithms (mds, further options under development)"
   ]
  },
  {
   "cell_type": "code",
   "execution_count": 188,
   "id": "8c4b0ce4",
   "metadata": {},
   "outputs": [],
   "source": [
    "embedder = q.get_embedder('mds', mdpdfcol)"
   ]
  },
  {
   "cell_type": "markdown",
   "id": "d0b5ac6f",
   "metadata": {},
   "source": [
    "For example the multi-dimenssional pdf collection can be embedded in 2 dimensions"
   ]
  },
  {
   "cell_type": "code",
   "execution_count": 189,
   "id": "ede946aa",
   "metadata": {},
   "outputs": [],
   "source": [
    "embedding = embedder.embed(dimension=2, return_all=True)"
   ]
  },
  {
   "cell_type": "markdown",
   "id": "0f33d422",
   "metadata": {},
   "source": [
    "an embeding consists of the actual embedding and a dictionary with relevant data about the settings used. It is up to the user to ensure that data/multi-dimensional pdf collection and embedding stay together"
   ]
  },
  {
   "cell_type": "code",
   "execution_count": 190,
   "id": "b1b0408b",
   "metadata": {
    "scrolled": true
   },
   "outputs": [],
   "source": [
    "# embedding"
   ]
  },
  {
   "cell_type": "markdown",
   "id": "c63c1fd9",
   "metadata": {},
   "source": [
    "Specifically for the MDS embedder evaluating the stress of the embedding as a function of its dimensionality (with graphical representation) is supported  "
   ]
  },
  {
   "cell_type": "code",
   "execution_count": 191,
   "id": "d3b3a2dc",
   "metadata": {},
   "outputs": [],
   "source": [
    "# embedder.eval_stress_v_dimension(plot=True)"
   ]
  },
  {
   "cell_type": "markdown",
   "id": "c7d42951",
   "metadata": {},
   "source": [
    "### Visualization\n",
    "\n",
    "Finally, for embeddings in 2 or 3 dimensions, `quafing` also provides a convenience function for visualizing the embedding, which takes the calculated embedding and the multi-dimensional pdf collection object as inputs"
   ]
  },
  {
   "cell_type": "code",
   "execution_count": 192,
   "id": "6c013769",
   "metadata": {},
   "outputs": [
    {
     "data": {
      "image/png": "[encoded data removed]",
      "text/plain": [
       "<Figure size 800x600 with 1 Axes>"
      ]
     },
     "metadata": {},
     "output_type": "display_data"
    }
   ],
   "source": [
    "q.plot_embedding(embedding, mdpdfcol)"
   ]
  }
 ],
 "metadata": {
  "kernelspec": {
   "display_name": "Python 3",
   "language": "python",
   "name": "python3"
  },
  "language_info": {
   "codemirror_mode": {
    "name": "ipython",
    "version": 3
   },
   "file_extension": ".py",
   "mimetype": "text/x-python",
   "name": "python",
   "nbconvert_exporter": "python",
   "pygments_lexer": "ipython3",
   "version": "3.8.6"
  }
 },
 "nbformat": 4,
 "nbformat_minor": 5
}
