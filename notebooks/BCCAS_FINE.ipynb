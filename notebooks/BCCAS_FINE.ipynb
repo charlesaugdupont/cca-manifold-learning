{
 "cells": [
  {
   "cell_type": "code",
   "execution_count": 1,
   "id": "16776301",
   "metadata": {},
   "outputs": [
    {
     "name": "stdout",
     "output_type": "stream",
     "text": [
      "Working directory: /Users/charlesdupont/Desktop/Thesis/code/quafing\n"
     ]
    }
   ],
   "source": [
    "import os\n",
    "os.chdir('../quafing/')\n",
    "print(f\"Working directory: {os.getcwd()}\")\n",
    "import quafing as q\n",
    "\n",
    "\n",
    "import time\n",
    "import numpy as np\n",
    "import pandas as pd\n",
    "import matplotlib.pyplot as plt\n",
    "from collections import Counter\n",
    "\n",
    "\n",
    "plt.rcParams.update(plt.rcParamsDefault)\n",
    "plt.rcParams.update({\"font.size\" : 15, \n",
    "                     \"figure.dpi\" : 100, \n",
    "                     \"legend.fontsize\" : 13, \n",
    "                     \"grid.alpha\" : 0.3, \n",
    "                     \"axes.grid\": True, \n",
    "                     \"axes.axisbelow\" : True, \n",
    "                     \"figure.figsize\":(6, 5)})"
   ]
  },
  {
   "cell_type": "code",
   "execution_count": 2,
   "id": "1050dc8b",
   "metadata": {},
   "outputs": [],
   "source": [
    "def load_data(path):\n",
    "    \"\"\"\n",
    "    Loads .dta file using provided path.\n",
    "    \"\"\"\n",
    "    return pd.read_stata(path, convert_categoricals=False)"
   ]
  },
  {
   "cell_type": "code",
   "execution_count": 3,
   "id": "005231ae",
   "metadata": {},
   "outputs": [],
   "source": [
    "DATA_DIR = \"../../BCCASII/\"\n",
    "SUB_DATA_DIR = \"Household/\""
   ]
  },
  {
   "cell_type": "code",
   "execution_count": 4,
   "id": "5d363bbe",
   "metadata": {},
   "outputs": [],
   "source": [
    "all_hhid = set()\n",
    "for i, filename in enumerate(os.listdir(DATA_DIR + SUB_DATA_DIR)):\n",
    "    if \".dta\" not in filename:\n",
    "        continue\n",
    "    data = load_data(DATA_DIR + SUB_DATA_DIR + filename)\n",
    "    all_hhid = all_hhid.union(set(data[\"hhid\"].unique()))"
   ]
  },
  {
   "cell_type": "code",
   "execution_count": 81,
   "id": "5ae6c0c1",
   "metadata": {
    "scrolled": true
   },
   "outputs": [],
   "source": [
    "def get_dataframes():\n",
    "\n",
    "    timea = time.time()\n",
    "\n",
    "    all_dfs = {hhid:[] for hhid in all_hhid}\n",
    "\n",
    "    for file_index, filename in enumerate(sorted(os.listdir(DATA_DIR + SUB_DATA_DIR))):\n",
    "\n",
    "        if \".dta\" in filename:\n",
    "\n",
    "            data = load_data(DATA_DIR + SUB_DATA_DIR + filename)\n",
    "\n",
    "            dataframes = {}\n",
    "            max_cols = -1\n",
    "            max_col_df = None\n",
    "\n",
    "            for hhid in all_hhid:\n",
    "                df = data.loc[data.hhid==hhid].drop(columns=[\"hhid\"])  \n",
    "                num_rows = df.shape[0]\n",
    "                # create empty row if df is empty\n",
    "                if num_rows == 0:\n",
    "                    df = pd.DataFrame({col:[np.nan] for col in df.columns})\n",
    "                series = [df.iloc[i].rename({col:f\"{col}_{i}\" for col in df.columns}) for i in range(len(df))]\n",
    "                df = pd.DataFrame(pd.concat(series)).T\n",
    "\n",
    "                dataframes[hhid] = df\n",
    "\n",
    "                # keep track of df with most entries\n",
    "                num_cols = df.shape[1]\n",
    "                if num_cols > max_cols:\n",
    "                    max_cols = num_cols\n",
    "                    max_col_df = df\n",
    "\n",
    "            for hhid, df in dataframes.items():\n",
    "                supplementary = pd.Series({col:np.nan for col in max_col_df if col not in df}, dtype=\"object\")\n",
    "                all_dfs[hhid].append(pd.DataFrame(pd.concat([df.squeeze(), supplementary])).T)\n",
    "   \n",
    "    # combine all data\n",
    "    for hhid, df in all_dfs.items():\n",
    "        all_dfs[hhid] = pd.concat(df, axis=1)\n",
    "    combined = pd.concat(all_dfs.values())\n",
    "    combined[\"hhid\"] = list(all_dfs.keys())\n",
    "    \n",
    "    print(f\"Elapsed time: {time.time()-timea}\")\n",
    "    \n",
    "    return combined"
   ]
  },
  {
   "cell_type": "code",
   "execution_count": null,
   "id": "a61d0506",
   "metadata": {},
   "outputs": [],
   "source": [
    "combined = get_dataframes()"
   ]
  },
  {
   "cell_type": "code",
   "execution_count": null,
   "id": "92d62f58",
   "metadata": {},
   "outputs": [],
   "source": [
    "combined"
   ]
  },
  {
   "cell_type": "code",
   "execution_count": null,
   "id": "34bf9bc2",
   "metadata": {},
   "outputs": [],
   "source": []
  }
 ],
 "metadata": {
  "kernelspec": {
   "display_name": "Python 3",
   "language": "python",
   "name": "python3"
  },
  "language_info": {
   "codemirror_mode": {
    "name": "ipython",
    "version": 3
   },
   "file_extension": ".py",
   "mimetype": "text/x-python",
   "name": "python",
   "nbconvert_exporter": "python",
   "pygments_lexer": "ipython3",
   "version": "3.8.6"
  }
 },
 "nbformat": 4,
 "nbformat_minor": 5
}
