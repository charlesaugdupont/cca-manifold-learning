{
 "cells": [
  {
   "cell_type": "code",
   "execution_count": 1,
   "id": "d87cf334",
   "metadata": {},
   "outputs": [
    {
     "name": "stdout",
     "output_type": "stream",
     "text": [
      "Working directory: /Users/charlesdupont/Desktop/Thesis/code/quafing\n"
     ]
    }
   ],
   "source": [
    "import os\n",
    "os.chdir('../quafing/')\n",
    "print(f\"Working directory: {os.getcwd()}\")\n",
    "import quafing as q\n",
    "\n",
    "\n",
    "import time\n",
    "import numpy as np\n",
    "import pandas as pd\n",
    "import matplotlib.pyplot as plt\n",
    "from collections import Counter\n",
    "\n",
    "\n",
    "plt.rcParams.update(plt.rcParamsDefault)\n",
    "plt.rcParams.update({\"font.size\" : 15, \n",
    "                     \"figure.dpi\" : 100, \n",
    "                     \"legend.fontsize\" : 13, \n",
    "                     \"grid.alpha\" : 0.3, \n",
    "                     \"axes.grid\": True, \n",
    "                     \"axes.axisbelow\" : True, \n",
    "                     \"figure.figsize\":(6, 5)})"
   ]
  },
  {
   "cell_type": "code",
   "execution_count": 2,
   "id": "e36c40f6",
   "metadata": {},
   "outputs": [],
   "source": [
    "def load_data(path):\n",
    "    \"\"\"\n",
    "    Loads .dta file using provided path.\n",
    "    \"\"\"\n",
    "    return pd.read_stata(path, convert_categoricals=False)"
   ]
  },
  {
   "cell_type": "code",
   "execution_count": 3,
   "id": "f1c55e29",
   "metadata": {},
   "outputs": [],
   "source": [
    "DATA_DIR = \"../../BCCASII/\"\n",
    "SUB_DATA_DIR = \"Household/\""
   ]
  },
  {
   "cell_type": "code",
   "execution_count": 4,
   "id": "8df693d4",
   "metadata": {},
   "outputs": [],
   "source": [
    "all_hhid = set()\n",
    "for i, filename in enumerate(os.listdir(DATA_DIR + SUB_DATA_DIR)):\n",
    "    if \".dta\" not in filename:\n",
    "        continue\n",
    "    data = load_data(DATA_DIR + SUB_DATA_DIR + filename)\n",
    "    all_hhid = all_hhid.union(set(data[\"hhid\"].unique()))"
   ]
  },
  {
   "cell_type": "code",
   "execution_count": 9,
   "id": "7d52e40d",
   "metadata": {
    "scrolled": true
   },
   "outputs": [
    {
     "name": "stdout",
     "output_type": "stream",
     "text": [
      "114.65274810791016\n"
     ]
    }
   ],
   "source": [
    "timea = time.time()\n",
    "\n",
    "all_dfs = {hhid:[] for hhid in all_hhid}\n",
    "\n",
    "for file_index, filename in enumerate(sorted(os.listdir(DATA_DIR + SUB_DATA_DIR))):\n",
    "\n",
    "    if \".dta\" in filename:\n",
    "        \n",
    "        data = load_data(DATA_DIR + SUB_DATA_DIR + filename)\n",
    "\n",
    "        dataframes = {}\n",
    "        max_cols = -1\n",
    "        max_col_df = None\n",
    "\n",
    "        for hhid in all_hhid:\n",
    "            df = data.loc[data.hhid==hhid].drop(columns=[\"hhid\"])  \n",
    "            num_rows = df.shape[0]\n",
    "            # create empty row if df is empty\n",
    "            if num_rows == 0:\n",
    "                df = pd.DataFrame({col:[np.nan] for col in df.columns})\n",
    "            series = [df.iloc[i].rename({col:f\"{col}_{i}\" for col in df.columns}) for i in range(len(df))]\n",
    "            df = pd.DataFrame(pd.concat(series)).T\n",
    "            \n",
    "            dataframes[hhid] = df\n",
    "\n",
    "            # keep track of df with most entries\n",
    "            num_cols = df.shape[1]\n",
    "            if num_cols > max_cols:\n",
    "                max_cols = num_cols\n",
    "                max_col_df = df\n",
    "        \n",
    "        for hhid, df in dataframes.items():\n",
    "            supplementary = pd.Series({col:np.nan for col in max_col_df if col not in df}, dtype=\"object\")\n",
    "            all_dfs[hhid].append(pd.DataFrame(pd.concat([df.squeeze(), supplementary])).T)\n",
    "\n",
    "print(time.time()-timea)\n",
    "\n",
    "\n",
    "# check that the dataframe sizes match up \n",
    "for f in range(len(all_dfs[1])):\n",
    "    s = None\n",
    "    for hhid, dfs in all_dfs.items():\n",
    "        if s is None:\n",
    "            s = dfs[f].shape\n",
    "            continue\n",
    "        else:\n",
    "            if dfs[f].shape != s:\n",
    "                print(\"error\")"
   ]
  },
  {
   "cell_type": "code",
   "execution_count": null,
   "id": "eab06717",
   "metadata": {},
   "outputs": [],
   "source": []
  },
  {
   "cell_type": "code",
   "execution_count": null,
   "id": "1a35f81f",
   "metadata": {},
   "outputs": [],
   "source": []
  },
  {
   "cell_type": "code",
   "execution_count": null,
   "id": "a3e12821",
   "metadata": {},
   "outputs": [],
   "source": []
  },
  {
   "cell_type": "code",
   "execution_count": null,
   "id": "f9ca233c",
   "metadata": {},
   "outputs": [],
   "source": []
  },
  {
   "cell_type": "code",
   "execution_count": null,
   "id": "c69e59cf",
   "metadata": {},
   "outputs": [],
   "source": []
  }
 ],
 "metadata": {
  "kernelspec": {
   "display_name": "Python 3",
   "language": "python",
   "name": "python3"
  },
  "language_info": {
   "codemirror_mode": {
    "name": "ipython",
    "version": 3
   },
   "file_extension": ".py",
   "mimetype": "text/x-python",
   "name": "python",
   "nbconvert_exporter": "python",
   "pygments_lexer": "ipython3",
   "version": "3.8.6"
  }
 },
 "nbformat": 4,
 "nbformat_minor": 5
}
