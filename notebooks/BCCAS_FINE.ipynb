{
 "cells": [
  {
   "cell_type": "markdown",
   "id": "e64a10d4-d184-4337-99a6-913f7a46fc3c",
   "metadata": {},
   "source": [
    "# Quafing example workflow\n",
    "\n",
    "This notebook demonstrates the use of quafing on the basis of an example workflow analysing quesstionaire data about subaks. The answers to the individual questions are assumed to be entirely independent.\n"
   ]
  },
  {
   "cell_type": "markdown",
   "id": "529cb6ba-cd1e-4e37-b86b-996f3ff6461d",
   "metadata": {},
   "source": [
    "This notebook assumes that it being executed from `quafing/notebooks/`, i.e. that `quafing/quafing/` is at the same directory hierarchy level, with aa shared parent directory. Before beginning we change the working directory to this common parent directory"
   ]
  },
  {
   "cell_type": "code",
   "execution_count": 28,
   "id": "6617d7b9-ea85-42e9-8001-04b461eb9068",
   "metadata": {},
   "outputs": [
    {
     "name": "stdout",
     "output_type": "stream",
     "text": [
      "/Users/charlesdupont/Desktop/Thesis/code/quafing\n"
     ]
    }
   ],
   "source": [
    "import os\n",
    "os.chdir('../quafing/')\n",
    "print(os.getcwd())\n",
    "\n",
    "\n",
    "import quafing as q\n",
    "import pandas as pd\n",
    "import numpy as np\n",
    "import pickle\n",
    "\n",
    "\n",
    "import matplotlib.pyplot as plt\n",
    "plt.rcParams.update(plt.rcParamsDefault)\n",
    "plt.rcParams.update({\"font.size\" : 15, \n",
    "                     \"figure.dpi\" : 100, \n",
    "                     \"legend.fontsize\" : 13, \n",
    "                     \"grid.alpha\" : 0.3, \n",
    "                     \"axes.grid\": True, \n",
    "                     \"axes.axisbelow\" : True, \n",
    "                     \"figure.figsize\":(8,6)})"
   ]
  },
  {
   "cell_type": "markdown",
   "id": "b0475055-db6e-43f6-877b-f7ee7e0ae4bc",
   "metadata": {},
   "source": [
    "### Data ingestion"
   ]
  },
  {
   "cell_type": "markdown",
   "id": "75b632e0-9e75-4081-8584-ded446f367d8",
   "metadata": {},
   "source": [
    "Specify the file name of the questionaire data (needs to be adapted by user)\n"
   ]
  },
  {
   "cell_type": "code",
   "execution_count": 6,
   "id": "d188d302",
   "metadata": {},
   "outputs": [],
   "source": [
    "# filepath = \"../notebooks/data/omri_subak_data.xlsx\"\n",
    "# rawmetadata, rawdata = q.load(filepath)\n",
    "# rawmetadata\n",
    "\n",
    "filepath = \"../../BCCASII/Household/top_features.xlsx\"\n",
    "with open(\"../../BCCASII/Household/top_variable_types.pickle\", \"rb\") as f:\n",
    "    variable_types = pickle.load(f)"
   ]
  },
  {
   "cell_type": "code",
   "execution_count": 7,
   "id": "f8c9655e",
   "metadata": {},
   "outputs": [
    {
     "data": {
      "text/html": [
       "<div>\n",
       "<style scoped>\n",
       "    .dataframe tbody tr th:only-of-type {\n",
       "        vertical-align: middle;\n",
       "    }\n",
       "\n",
       "    .dataframe tbody tr th {\n",
       "        vertical-align: top;\n",
       "    }\n",
       "\n",
       "    .dataframe thead th {\n",
       "        text-align: right;\n",
       "    }\n",
       "</style>\n",
       "<table border=\"1\" class=\"dataframe\">\n",
       "  <thead>\n",
       "    <tr style=\"text-align: right;\">\n",
       "      <th></th>\n",
       "      <th>community_code</th>\n",
       "      <th>r6_03_1_3</th>\n",
       "      <th>weight_food_drinks</th>\n",
       "      <th>r7_07_1_3</th>\n",
       "      <th>r7_11_1_2</th>\n",
       "      <th>ezcode</th>\n",
       "      <th>m06_3</th>\n",
       "      <th>r6_03_2_1</th>\n",
       "      <th>q05_3</th>\n",
       "      <th>group_membership_farming</th>\n",
       "      <th>...</th>\n",
       "      <th>r7_06_2_2</th>\n",
       "      <th>m07</th>\n",
       "      <th>value_2011</th>\n",
       "      <th>livestock_fodder_value</th>\n",
       "      <th>m01</th>\n",
       "      <th>r6_08_1</th>\n",
       "      <th>r7_06_1_3</th>\n",
       "      <th>s_05_1</th>\n",
       "      <th>average_monthly_income</th>\n",
       "      <th>r6_04_2_1</th>\n",
       "    </tr>\n",
       "  </thead>\n",
       "  <tbody>\n",
       "    <tr>\n",
       "      <th>0</th>\n",
       "      <td>10</td>\n",
       "      <td>7</td>\n",
       "      <td>2</td>\n",
       "      <td>-1</td>\n",
       "      <td>-1</td>\n",
       "      <td>7</td>\n",
       "      <td>2</td>\n",
       "      <td>2</td>\n",
       "      <td>-1</td>\n",
       "      <td>1</td>\n",
       "      <td>...</td>\n",
       "      <td>-1</td>\n",
       "      <td>1</td>\n",
       "      <td>2</td>\n",
       "      <td>1</td>\n",
       "      <td>1</td>\n",
       "      <td>4</td>\n",
       "      <td>3</td>\n",
       "      <td>-1</td>\n",
       "      <td>2</td>\n",
       "      <td>2</td>\n",
       "    </tr>\n",
       "    <tr>\n",
       "      <th>1</th>\n",
       "      <td>10</td>\n",
       "      <td>-1</td>\n",
       "      <td>3</td>\n",
       "      <td>-1</td>\n",
       "      <td>-1</td>\n",
       "      <td>7</td>\n",
       "      <td>-1</td>\n",
       "      <td>-1</td>\n",
       "      <td>-1</td>\n",
       "      <td>1</td>\n",
       "      <td>...</td>\n",
       "      <td>-1</td>\n",
       "      <td>1</td>\n",
       "      <td>1</td>\n",
       "      <td>2</td>\n",
       "      <td>1</td>\n",
       "      <td>1</td>\n",
       "      <td>-1</td>\n",
       "      <td>1</td>\n",
       "      <td>1</td>\n",
       "      <td>-1</td>\n",
       "    </tr>\n",
       "    <tr>\n",
       "      <th>2</th>\n",
       "      <td>10</td>\n",
       "      <td>2</td>\n",
       "      <td>2</td>\n",
       "      <td>-1</td>\n",
       "      <td>6</td>\n",
       "      <td>7</td>\n",
       "      <td>-1</td>\n",
       "      <td>-1</td>\n",
       "      <td>-1</td>\n",
       "      <td>1</td>\n",
       "      <td>...</td>\n",
       "      <td>-1</td>\n",
       "      <td>1</td>\n",
       "      <td>2</td>\n",
       "      <td>2</td>\n",
       "      <td>2</td>\n",
       "      <td>1</td>\n",
       "      <td>3</td>\n",
       "      <td>2</td>\n",
       "      <td>1</td>\n",
       "      <td>-1</td>\n",
       "    </tr>\n",
       "    <tr>\n",
       "      <th>3</th>\n",
       "      <td>10</td>\n",
       "      <td>-1</td>\n",
       "      <td>1</td>\n",
       "      <td>-1</td>\n",
       "      <td>-1</td>\n",
       "      <td>7</td>\n",
       "      <td>4</td>\n",
       "      <td>-1</td>\n",
       "      <td>6</td>\n",
       "      <td>1</td>\n",
       "      <td>...</td>\n",
       "      <td>-1</td>\n",
       "      <td>1</td>\n",
       "      <td>4</td>\n",
       "      <td>2</td>\n",
       "      <td>1</td>\n",
       "      <td>2</td>\n",
       "      <td>10</td>\n",
       "      <td>3</td>\n",
       "      <td>3</td>\n",
       "      <td>-1</td>\n",
       "    </tr>\n",
       "    <tr>\n",
       "      <th>4</th>\n",
       "      <td>10</td>\n",
       "      <td>-1</td>\n",
       "      <td>3</td>\n",
       "      <td>-1</td>\n",
       "      <td>-1</td>\n",
       "      <td>7</td>\n",
       "      <td>-1</td>\n",
       "      <td>9</td>\n",
       "      <td>-1</td>\n",
       "      <td>0</td>\n",
       "      <td>...</td>\n",
       "      <td>-1</td>\n",
       "      <td>1</td>\n",
       "      <td>1</td>\n",
       "      <td>0</td>\n",
       "      <td>2</td>\n",
       "      <td>-1</td>\n",
       "      <td>-1</td>\n",
       "      <td>-1</td>\n",
       "      <td>2</td>\n",
       "      <td>9</td>\n",
       "    </tr>\n",
       "  </tbody>\n",
       "</table>\n",
       "<p>5 rows × 33 columns</p>\n",
       "</div>"
      ],
      "text/plain": [
       "   community_code  r6_03_1_3  weight_food_drinks  r7_07_1_3  r7_11_1_2  \\\n",
       "0              10          7                   2         -1         -1   \n",
       "1              10         -1                   3         -1         -1   \n",
       "2              10          2                   2         -1          6   \n",
       "3              10         -1                   1         -1         -1   \n",
       "4              10         -1                   3         -1         -1   \n",
       "\n",
       "   ezcode  m06_3  r6_03_2_1  q05_3  group_membership_farming  ...  r7_06_2_2  \\\n",
       "0       7      2          2     -1                         1  ...         -1   \n",
       "1       7     -1         -1     -1                         1  ...         -1   \n",
       "2       7     -1         -1     -1                         1  ...         -1   \n",
       "3       7      4         -1      6                         1  ...         -1   \n",
       "4       7     -1          9     -1                         0  ...         -1   \n",
       "\n",
       "   m07  value_2011  livestock_fodder_value  m01  r6_08_1  r7_06_1_3  s_05_1  \\\n",
       "0    1           2                       1    1        4          3      -1   \n",
       "1    1           1                       2    1        1         -1       1   \n",
       "2    1           2                       2    2        1          3       2   \n",
       "3    1           4                       2    1        2         10       3   \n",
       "4    1           1                       0    2       -1         -1      -1   \n",
       "\n",
       "   average_monthly_income  r6_04_2_1  \n",
       "0                       2          2  \n",
       "1                       1         -1  \n",
       "2                       1         -1  \n",
       "3                       3         -1  \n",
       "4                       2          9  \n",
       "\n",
       "[5 rows x 33 columns]"
      ]
     },
     "execution_count": 7,
     "metadata": {},
     "output_type": "execute_result"
    }
   ],
   "source": [
    "rawdata = pd.read_excel(filepath)\n",
    "rawdata.head()"
   ]
  },
  {
   "cell_type": "markdown",
   "id": "34d26eb5-4621-4632-ac29-2bdb8964cbcd",
   "metadata": {},
   "source": [
    "In general for spreadsheet type files (.xlsx,.xls,.odf.,ods), quafing assumes columnar data with meta data on the columns located on the same sheet. The standard format corresponds to (all columns and row are 0-indexed):\n",
    "\n",
    "- Data and metadata are located on sheet 0.\n",
    "- Row 0 contains the column type (see below)\n",
    "- Row 1 contains the number of the asociated question\n",
    "- Row 2 (header row) contains the column names\n",
    "- Data starts on row 3\n",
    "- No rows (read 0) are skipped at the end\n",
    "\n",
    "standard row types (denoted by single str characters) are:\n",
    "\n",
    "    e: excluded\n",
    "    g: group by this column\n",
    "    c: continuous variable\n",
    "    u: unordered discrete\n",
    "    o: ordered discrete\n",
    "    b: binary\n",
    "    \n",
    "It should be emphasized that the user can depart from this standard. As long as the basic format of columnar data with metadata for each column is maintained, the actual inddicees of the rows can be changed. Similarly a different row type schema can be used, albeit preferably string based. However, such alterations require additional specification in quafings functions, while the default values are configired to support the standard schema\n"
   ]
  },
  {
   "cell_type": "code",
   "execution_count": 41,
   "id": "c5f08d95",
   "metadata": {},
   "outputs": [
    {
     "data": {
      "text/plain": [
       "{'ColNames': array(['community_code', 'r6_03_1_3', 'weight_food_drinks', 'r7_07_1_3',\n",
       "        'r7_11_1_2', 'ezcode', 'm06_3', 'r6_03_2_1', 'q05_3',\n",
       "        'group_membership_farming', 'value_food_other_outside_home',\n",
       "        'q01_3', 'constraint_7_total_severity', 'm08_3',\n",
       "        'constraint_8_total_severity', 'livestock_medication_value',\n",
       "        'constraint_5_total_severity', 'job_farming', 'q01_1', 'r6_05_2',\n",
       "        'q07_1', 'j02_1_furniture_household_expenses',\n",
       "        'constraint_6_total_severity', 'r7_06_2_2', 'm07', 'value_2011',\n",
       "        'livestock_fodder_value', 'm01', 'r6_08_1', 'r7_06_1_3', 's_05_1',\n",
       "        'average_monthly_income', 'r6_04_2_1'], dtype=object),\n",
       " 'ColTypes': array(['g', 'u', 'u', 'u', 'u', 'u', 'u', 'u', 'u', 'b', 'u', 'u', 'u',\n",
       "        'u', 'u', 'u', 'u', 'u', 'u', 'u', 'u', 'u', 'u', 'u', 'b', 'u',\n",
       "        'u', 'b', 'o', 'u', 'o', 'u', 'u'], dtype='<U1'),\n",
       " 'QuestionNumbers': array([ 1,  2,  3,  4,  5,  6,  7,  8,  9, 10, 11, 12, 13, 14, 15, 16, 17,\n",
       "        18, 19, 20, 21, 22, 23, 24, 25, 26, 27, 28, 29, 30, 31, 32, 33])}"
      ]
     },
     "execution_count": 41,
     "metadata": {},
     "output_type": "execute_result"
    }
   ],
   "source": [
    "# assign column types and grouping column(s)\n",
    "col_types = []\n",
    "for col in rawdata.columns:\n",
    "    if variable_types[col] == \"binary\":\n",
    "        col_types.append(\"b\")\n",
    "    elif col == \"community_code\":\n",
    "        col_types.append(\"g\")\n",
    "    elif variable_types[col] in [\"continuous\", \"discrete_categorical\"]:\n",
    "        col_types.append(\"u\")\n",
    "    elif variable_types[col] == \"discrete_ordered\":\n",
    "        col_types.append(\"o\")\n",
    "        \n",
    "        \n",
    "rawmetadata = {\n",
    "    \"ColNames\": np.array(rawdata.columns),\n",
    "    \"ColTypes\": np.array(col_types),\n",
    "    \"QuestionNumbers\": np.array([i for i in range(1, len(rawdata.columns)+1)])\n",
    "}\n",
    "\n",
    "rawmetadata"
   ]
  },
  {
   "cell_type": "markdown",
   "id": "c69a0e83-2bc9-48c5-b88e-9af5dc76befd",
   "metadata": {},
   "source": [
    "### Preproccessing\n",
    "\n",
    "Further processing, however, requires additional selection, specification, and pre-processing of the data.`quafing` supplies a `PreProcessor class` for this purpose, which takes in the data aand metadata and exposes functionss to select, split, and prepare the data for processing   "
   ]
  },
  {
   "cell_type": "code",
   "execution_count": 10,
   "id": "2a8f26b8-91d3-44e9-ae72-ae6955c8a489",
   "metadata": {},
   "outputs": [],
   "source": [
    "prep = q.PreProcessor(rawdata, rawmetadata)"
   ]
  },
  {
   "cell_type": "markdown",
   "id": "7970ef92-a6d2-4daf-9e05-49390d821ba5",
   "metadata": {},
   "source": [
    "We start by selecting the columns to be analyzed. Below, we create a selection, by deselecting all columns with type 'e'. However, direct selections by type or column name, or index are also possible. "
   ]
  },
  {
   "cell_type": "code",
   "execution_count": 16,
   "id": "5bda46f3-a1a0-4372-8907-726e66b2b153",
   "metadata": {},
   "outputs": [],
   "source": [
    "prep.select_columns(select_all=True)"
   ]
  },
  {
   "cell_type": "markdown",
   "id": "607f856c-6832-4dfe-aaaa-552158bf30cf",
   "metadata": {},
   "source": [
    "Next, we specify which columns contain continuous an discrete data, respectively. Quafing maintains an inner represenation of this distinction, thus supporting user defined column type schemes via this method. \n",
    "The default values, however, correspond to the standard defiined above."
   ]
  },
  {
   "cell_type": "code",
   "execution_count": 17,
   "id": "f965c740-b0a0-4710-ab88-442a2ae637a1",
   "metadata": {},
   "outputs": [],
   "source": [
    "prep.set_cont_disc()"
   ]
  },
  {
   "cell_type": "code",
   "execution_count": 18,
   "id": "6e2e554c",
   "metadata": {},
   "outputs": [],
   "source": [
    "# prep.get_joint_discretization(method=\"BayesianBlocks\")"
   ]
  },
  {
   "cell_type": "markdown",
   "id": "5d12740e-57b5-4d84-8373-07d7370545a9",
   "metadata": {},
   "source": [
    "With the data columns selected and the type of data specified, the penultimate preprocessing step is definng which density estimation methods are to be used in constructing the pdfs for each variable. This, again, can be done by column type, column name, or column index.\n",
    "\n",
    "In our example all columns contain discrete data and the answers/variables are assume to be independent. Accoordingly, for each column (selected by type) a discrete 1d pdf will be estimated. "
   ]
  },
  {
   "cell_type": "code",
   "execution_count": 19,
   "id": "ed1b6ffc-9531-4a56-bec0-2cf070a57b95",
   "metadata": {},
   "outputs": [],
   "source": [
    "prep.set_density_method(method='Discrete1D', cols=['o','u','b'])"
   ]
  },
  {
   "cell_type": "markdown",
   "id": "b32a4af7-94bd-4eab-ae19-a05d9bcb0078",
   "metadata": {},
   "source": [
    "Finally, the data is split into groups. This is based on grouping information supplied by the user (e.g. the column of type `g` in the standard format). To avoid ambiguity or mismatches with user defined type schemes, quaafing supports selection of the column to group by by column name or index only.\n",
    "Here we are grouping and spliting based on the column with index 0"
   ]
  },
  {
   "cell_type": "code",
   "execution_count": 20,
   "id": "90c9edd1-b428-479e-89fe-0bcf6b76865c",
   "metadata": {},
   "outputs": [],
   "source": [
    "prep.split_to_groups(0)"
   ]
  },
  {
   "cell_type": "markdown",
   "id": "fcf51ae0-87ff-49cc-86c1-7018dc4b9f93",
   "metadata": {},
   "source": [
    "### A collection of multi-dimensional pdfs\n",
    "\n",
    "Having preprocessed an split the data, we can create a collection of multi-dimensional pdfs -- one for each group. As the answers for each question are assumed to be independent the full joint multidimensional pdf factorizes and we can create a factorized multi-dimensional pddf for each group, combinig them into a collection. `quafing` provides a convenience function for this operation.\n"
   ]
  },
  {
   "cell_type": "code",
   "execution_count": 21,
   "id": "8fb3b372-7a19-4a48-8819-3089e519b785",
   "metadata": {
    "scrolled": true
   },
   "outputs": [],
   "source": [
    "mdpdfcol = q.create_mdpdf_collection('factorized', prep._groups, prep._grouplabels, prep._groupcolmetadata,)"
   ]
  },
  {
   "cell_type": "markdown",
   "id": "4ccb3245-1a2c-4d28-bfc8-c7663c07a73e",
   "metadata": {},
   "source": [
    "Having created the collection we can calculate the Fisher information matrix, i.e. the matrix of pairwise FI distances.\n",
    "Several possible algorithmic approximations of the FI distance are supported (here we use the hellinger distance). Distances are computed for each constituent pdf of the factorized multi-dimensional pdfs, and aggregated to combined distance using their root mean square."
   ]
  },
  {
   "cell_type": "code",
   "execution_count": 42,
   "id": "8ef8832e-7b64-4f16-b4f2-86b9ad18bc17",
   "metadata": {},
   "outputs": [],
   "source": [
    "mdpdfcol.calculate_distance_matrix(method='hellinger', pwdist='rms')"
   ]
  },
  {
   "cell_type": "markdown",
   "id": "9df52276-0b02-41a9-a5f0-fb1edb4b4135",
   "metadata": {},
   "source": [
    "Given the distance matrix it is straight forward to determine the shortest path matrix"
   ]
  },
  {
   "cell_type": "code",
   "execution_count": 43,
   "id": "7f7d9f0e-ac99-48eb-869a-75751f5aa630",
   "metadata": {},
   "outputs": [],
   "source": [
    "mdpdfcol.calculate_shortest_path_matrix()"
   ]
  },
  {
   "cell_type": "markdown",
   "id": "29bf735c-616c-456e-bffc-f7e280b662a4",
   "metadata": {},
   "source": [
    "### Embedding\n",
    "\n",
    "Given N questions on the questionaire, the FI distances and shortest paths lie and are defined on the N-1 dimensional hypershere, making investiagting/understanding the structure of the data difficult. To this end the collection can be embedded in a lower dimensional space usingg the previously calculated information distances.\n",
    "\n",
    "`quafing` provides an `Embedder` class, with support for a range oof embeddingg algorithms (mds, further options under development)"
   ]
  },
  {
   "cell_type": "code",
   "execution_count": 44,
   "id": "1501cedf-0adc-48a0-865e-bdac10daddf3",
   "metadata": {},
   "outputs": [],
   "source": [
    "embedder = q.get_embedder('mds', mdpdfcol)"
   ]
  },
  {
   "cell_type": "markdown",
   "id": "adf011ae-4b7c-4c09-8d41-985958ad0a51",
   "metadata": {},
   "source": [
    "For example the multi-dimenssional pdf collection can be embedded in 2 dimensions"
   ]
  },
  {
   "cell_type": "code",
   "execution_count": 45,
   "id": "d88b304d-6cf0-44c5-ac68-6e232a43f4be",
   "metadata": {},
   "outputs": [],
   "source": [
    "embedding = embedder.embed(dimension=2, return_all=True)"
   ]
  },
  {
   "cell_type": "markdown",
   "id": "ea1075a3-f4b0-4c07-9929-d0cf6b98109c",
   "metadata": {},
   "source": [
    "an embeding consists of the actual embedding and a dictionary with relevant data about the settings used. It is up to the user to ensure that data/multi-dimensional pdf collection and embedding stay together"
   ]
  },
  {
   "cell_type": "code",
   "execution_count": 46,
   "id": "fa01d142-1296-4a7a-94b5-03f29972b4fd",
   "metadata": {
    "scrolled": true
   },
   "outputs": [],
   "source": [
    "# embedding"
   ]
  },
  {
   "cell_type": "markdown",
   "id": "7d7b0b66-588c-42f3-ab15-0bacc019d946",
   "metadata": {},
   "source": [
    "Specifically for the MDS embedder evaluating the stress of the embedding as a function of its dimensionality (with graphical representation) is supported  "
   ]
  },
  {
   "cell_type": "code",
   "execution_count": 47,
   "id": "27e09255-d867-4277-afa2-f0a17d01c950",
   "metadata": {},
   "outputs": [],
   "source": [
    "# embedder.eval_stress_v_dimension(plot=True)"
   ]
  },
  {
   "cell_type": "markdown",
   "id": "c1964331-e68f-4fbd-8e8a-c9190156c69d",
   "metadata": {},
   "source": [
    "### Visualization\n",
    "\n",
    "Finally, for embeddings in 2 or 3 dimensions, `quafing` also provides a convenience function for visualizing the embedding, which takes the calculated embedding and the multi-dimensional pdf collection object as inputs"
   ]
  },
  {
   "cell_type": "code",
   "execution_count": 40,
   "id": "0fa1a6ff-5e94-46d9-837c-dad43fe34467",
   "metadata": {},
   "outputs": [
    {
     "data": {
      "image/png": "[encoded data removed]",
      "text/plain": [
       "<Figure size 800x600 with 1 Axes>"
      ]
     },
     "metadata": {},
     "output_type": "display_data"
    }
   ],
   "source": [
    "q.plot_embedding(embedding, mdpdfcol)"
   ]
  },
  {
   "cell_type": "code",
   "execution_count": 48,
   "id": "1dd91820",
   "metadata": {},
   "outputs": [
    {
     "data": {
      "image/png": "[encoded data removed]",
      "text/plain": [
       "<Figure size 800x600 with 1 Axes>"
      ]
     },
     "metadata": {},
     "output_type": "display_data"
    }
   ],
   "source": [
    "q.plot_embedding(embedding, mdpdfcol)"
   ]
  },
  {
   "cell_type": "code",
   "execution_count": null,
   "id": "2898c857",
   "metadata": {},
   "outputs": [],
   "source": []
  }
 ],
 "metadata": {
  "kernelspec": {
   "display_name": "Python 3",
   "language": "python",
   "name": "python3"
  },
  "language_info": {
   "codemirror_mode": {
    "name": "ipython",
    "version": 3
   },
   "file_extension": ".py",
   "mimetype": "text/x-python",
   "name": "python",
   "nbconvert_exporter": "python",
   "pygments_lexer": "ipython3",
   "version": "3.8.6"
  }
 },
 "nbformat": 4,
 "nbformat_minor": 5
}
